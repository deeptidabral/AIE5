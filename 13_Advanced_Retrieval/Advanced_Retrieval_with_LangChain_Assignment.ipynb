{
  "cells": [
    {
      "cell_type": "markdown",
      "metadata": {
        "id": "e-IqJAMkwnCF"
      },
      "source": [
        "# Advanced Retrieval with LangChain\n",
        "\n",
        "In the following notebook, we'll explore various methods of advanced retrieval using LangChain!\n",
        "\n",
        "We'll touch on:\n",
        "\n",
        "- Naive Retrieval\n",
        "- Best-Matching 25 (BM25)\n",
        "- Multi-Query Retrieval\n",
        "- Parent-Document Retrieval\n",
        "- Contextual Compression (a.k.a. Rerank)\n",
        "- Ensemble Retrieval\n",
        "- Semantic chunking\n",
        "\n",
        "We'll also discuss how these methods impact performance on our set of documents with a simple RAG chain.\n",
        "\n",
        "There will be two breakout rooms:\n",
        "\n",
        "- 🤝 Breakout Room Part #1\n",
        "  - Task 1: Getting Dependencies!\n",
        "  - Task 2: Data Collection and Preparation\n",
        "  - Task 3: Setting Up QDrant!\n",
        "  - Task 4-10: Retrieval Strategies\n",
        "- 🤝 Breakout Room Part #2\n",
        "  - Activity: Evaluate with Ragas"
      ]
    },
    {
      "cell_type": "markdown",
      "metadata": {
        "id": "4rKP3hgHivpe"
      },
      "source": [
        "# 🤝 Breakout Room Part #1"
      ]
    },
    {
      "cell_type": "markdown",
      "metadata": {
        "id": "3xes8oT-xHN7"
      },
      "source": [
        "## Task 1: Getting Dependencies!\n",
        "\n",
        "We're going to need a few specific LangChain community packages, like OpenAI (for our [LLM](https://platform.openai.com/docs/models) and [Embedding Model](https://platform.openai.com/docs/guides/embeddings)) and Cohere (for our [Reranker](https://cohere.com/rerank)).\n",
        "\n",
        "> You do not need to run the following cells if you are running this notebook locally. "
      ]
    },
    {
      "cell_type": "code",
      "execution_count": 71,
      "metadata": {
        "colab": {
          "base_uri": "https://localhost:8080/"
        },
        "id": "MkgFAXWVW3wm",
        "outputId": "636db35c-f05a-4038-ec7a-02360bef2dae"
      },
      "outputs": [],
      "source": [
        "#!pip install -qU langchain langchain-openai langchain-cohere rank_bm25"
      ]
    },
    {
      "cell_type": "markdown",
      "metadata": {
        "id": "dKqYM4Eoxcov"
      },
      "source": [
        "We're also going to be leveraging [Qdrant's](https://qdrant.tech/documentation/frameworks/langchain/) (pronounced \"Quadrant\") VectorDB in \"memory\" mode (so we can leverage it locally in our colab environment)."
      ]
    },
    {
      "cell_type": "code",
      "execution_count": 72,
      "metadata": {
        "id": "s6xav5CxYnML"
      },
      "outputs": [],
      "source": [
        "#!pip install -qU qdrant-client"
      ]
    },
    {
      "cell_type": "markdown",
      "metadata": {
        "id": "Z7OHJXzfyJyA"
      },
      "source": [
        "We'll also provide our OpenAI key, as well as our Cohere API key."
      ]
    },
    {
      "cell_type": "code",
      "execution_count": 1,
      "metadata": {
        "colab": {
          "base_uri": "https://localhost:8080/"
        },
        "id": "7LttlDQUYgSI",
        "outputId": "9dca95ab-4d02-4adf-ec3f-cb831326dc54"
      },
      "outputs": [],
      "source": [
        "import os\n",
        "import getpass\n",
        "\n",
        "os.environ[\"OPENAI_API_KEY\"] = getpass.getpass(\"Enter your OpenAI API Key:\")\n",
        "os.environ[\"CO_API_KEY\"] = getpass.getpass(\"Cohere API Key:\")"
      ]
    },
    {
      "cell_type": "markdown",
      "metadata": {
        "id": "B0pDRFEWSXvh"
      },
      "source": []
    },
    {
      "cell_type": "markdown",
      "metadata": {
        "id": "mw304iAFyRtl"
      },
      "source": [
        "## Task 2: Data Collection and Preparation\n",
        "\n",
        "We'll be using some reviews from the 4 movies in the John Wick franchise today to explore the different retrieval strategies.\n",
        "\n",
        "These were obtained from IMDB, and are available in the [AIM Data Repository](https://github.com/AI-Maker-Space/DataRepository)."
      ]
    },
    {
      "cell_type": "markdown",
      "metadata": {
        "id": "xXKHcZmKzDwT"
      },
      "source": [
        "### Data Collection\n",
        "\n",
        "We can simply `wget` these from GitHub.\n",
        "\n",
        "You could use any review data you wanted in this step - just be careful to make sure your metadata is aligned with your choice."
      ]
    },
    {
      "cell_type": "code",
      "execution_count": 2,
      "metadata": {},
      "outputs": [
        {
          "name": "stdout",
          "output_type": "stream",
          "text": [
            "Downloaded john_wick_1.csv\n",
            "Downloaded john_wick_2.csv\n",
            "Downloaded john_wick_3.csv\n",
            "Downloaded john_wick_4.csv\n"
          ]
        }
      ],
      "source": [
        "import urllib.request\n",
        "\n",
        "urls = [\n",
        "    (\"https://raw.githubusercontent.com/AI-Maker-Space/DataRepository/main/jw1.csv\", \"john_wick_1.csv\"),\n",
        "    (\"https://raw.githubusercontent.com/AI-Maker-Space/DataRepository/main/jw2.csv\", \"john_wick_2.csv\"),\n",
        "    (\"https://raw.githubusercontent.com/AI-Maker-Space/DataRepository/main/jw3.csv\", \"john_wick_3.csv\"),\n",
        "    (\"https://raw.githubusercontent.com/AI-Maker-Space/DataRepository/main/jw4.csv\", \"john_wick_4.csv\")\n",
        "]\n",
        "\n",
        "for url, filename in urls:\n",
        "    urllib.request.urlretrieve(url, filename)\n",
        "    print(f\"Downloaded {filename}\")\n"
      ]
    },
    {
      "cell_type": "code",
      "execution_count": 75,
      "metadata": {
        "colab": {
          "base_uri": "https://localhost:8080/"
        },
        "id": "vbbSIGtzX3dS",
        "outputId": "0ce6514e-2479-4001-af24-824f987ce599"
      },
      "outputs": [],
      "source": [
        "# !wget https://raw.githubusercontent.com/AI-Maker-Space/DataRepository/main/jw1.csv -O john_wick_1.csv\n",
        "# !wget https://raw.githubusercontent.com/AI-Maker-Space/DataRepository/main/jw2.csv -O john_wick_2.csv\n",
        "# !wget https://raw.githubusercontent.com/AI-Maker-Space/DataRepository/main/jw3.csv -O john_wick_3.csv\n",
        "# !wget https://raw.githubusercontent.com/AI-Maker-Space/DataRepository/main/jw4.csv -O john_wick_4.csv"
      ]
    },
    {
      "cell_type": "markdown",
      "metadata": {
        "id": "A92NC2QZzCsi"
      },
      "source": [
        "### Data Preparation\n",
        "\n",
        "We want to make sure all our documents have the relevant metadata for the various retrieval strategies we're going to be applying today.\n",
        "\n",
        "- Self-Query: Wants as much metadata as we can provide\n",
        "- Time-weighted: Wants temporal data\n",
        "\n",
        "> NOTE: While we're creating a temporal relationship based on when these movies came out for illustrative purposes, it needs to be clear that the \"time-weighting\" in the Time-weighted Retriever is based on when the document was *accessed* last - not when it was created."
      ]
    },
    {
      "cell_type": "code",
      "execution_count": 3,
      "metadata": {
        "id": "GshBjVRJZ6p8"
      },
      "outputs": [],
      "source": [
        "from langchain_community.document_loaders.csv_loader import CSVLoader\n",
        "from datetime import datetime, timedelta\n",
        "\n",
        "documents = []\n",
        "\n",
        "for i in range(1, 5):\n",
        "  loader = CSVLoader(\n",
        "      file_path=f\"john_wick_{i}.csv\",\n",
        "      metadata_columns=[\"Review_Date\", \"Review_Title\", \"Review_Url\", \"Author\", \"Rating\"],\n",
        "      encoding=\"utf-8\"\n",
        "  )\n",
        "\n",
        "  movie_docs = loader.load()\n",
        "  for doc in movie_docs:\n",
        "\n",
        "    # Add the \"Movie Title\" (John Wick 1, 2, ...)\n",
        "    doc.metadata[\"Movie_Title\"] = f\"John Wick {i}\"\n",
        "\n",
        "    # convert \"Rating\" to an `int`, if no rating is provided - assume 0 rating\n",
        "    doc.metadata[\"Rating\"] = int(doc.metadata[\"Rating\"]) if doc.metadata[\"Rating\"] else 0\n",
        "\n",
        "    # newer movies have a more recent \"last_accessed_at\"\n",
        "    doc.metadata[\"last_accessed_at\"] = datetime.now() - timedelta(days=4-i)\n",
        "\n",
        "  documents.extend(movie_docs)"
      ]
    },
    {
      "cell_type": "markdown",
      "metadata": {
        "id": "9gQphb6y0C0S"
      },
      "source": [
        "Let's look at an example document to see if everything worked as expected!"
      ]
    },
    {
      "cell_type": "code",
      "execution_count": 4,
      "metadata": {
        "colab": {
          "base_uri": "https://localhost:8080/"
        },
        "id": "PkUkCf7DaMiq",
        "outputId": "e90bd5da-1d87-423b-838a-cb6efc16b199"
      },
      "outputs": [
        {
          "data": {
            "text/plain": [
              "Document(metadata={'source': 'john_wick_1.csv', 'row': 0, 'Review_Date': '6 May 2015', 'Review_Title': ' Kinetic, concise, and stylish; John Wick kicks ass.\\n', 'Review_Url': '/review/rw3233896/?ref_=tt_urv', 'Author': 'lnvicta', 'Rating': 8, 'Movie_Title': 'John Wick 1', 'last_accessed_at': datetime.datetime(2025, 3, 1, 14, 1, 50, 49990)}, page_content=\": 0\\nReview: The best way I can describe John Wick is to picture Taken but instead of Liam Neeson it's Keanu Reeves and instead of his daughter it's his dog. That's essentially the plot of the movie. John Wick (Reeves) is out to seek revenge on the people who took something he loved from him. It's a beautifully simple premise for an action movie - when action movies get convoluted, they get bad i.e. A Good Day to Die Hard. John Wick gives the viewers what they want: Awesome action, stylish stunts, kinetic chaos, and a relatable hero to tie it all together. John Wick succeeds in its simplicity.\")"
            ]
          },
          "execution_count": 4,
          "metadata": {},
          "output_type": "execute_result"
        }
      ],
      "source": [
        "documents[0]"
      ]
    },
    {
      "cell_type": "markdown",
      "metadata": {
        "id": "lWaQpdHl0Gzc"
      },
      "source": [
        "## Task 3: Setting up QDrant!\n",
        "\n",
        "Now that we have our documents, let's create a QDrant VectorStore with the collection name \"JohnWick\".\n",
        "\n",
        "We'll leverage OpenAI's [`text-embedding-3-small`](https://openai.com/blog/new-embedding-models-and-api-updates) because it's a very powerful (and low-cost) embedding model.\n",
        "\n",
        "> NOTE: We'll be creating additional vectorstores where necessary, but this pattern is still extremely useful."
      ]
    },
    {
      "cell_type": "code",
      "execution_count": 5,
      "metadata": {
        "id": "NT8ihRJbYmMT"
      },
      "outputs": [],
      "source": [
        "from langchain_community.vectorstores import Qdrant\n",
        "from langchain_openai import OpenAIEmbeddings\n",
        "\n",
        "embeddings = OpenAIEmbeddings(model=\"text-embedding-3-small\")\n",
        "\n",
        "vectorstore = Qdrant.from_documents(\n",
        "    documents,\n",
        "    embeddings,\n",
        "    location=\":memory:\",\n",
        "    collection_name=\"JohnWick\"\n",
        ")"
      ]
    },
    {
      "cell_type": "markdown",
      "metadata": {
        "id": "-x2SS4Rh0hiN"
      },
      "source": [
        "## Task 4: Naive RAG Chain\n",
        "\n",
        "Since we're focusing on the \"R\" in RAG today - we'll create our Retriever first."
      ]
    },
    {
      "cell_type": "markdown",
      "metadata": {
        "id": "NEH7X5Ai08FH"
      },
      "source": [
        "### R - Retrieval\n",
        "\n",
        "This naive retriever will simply look at each review as a document, and use cosine-similarity to fetch the 10 most relevant documents.\n",
        "\n",
        "> NOTE: We're choosing `10` as our `k` here to provide enough documents for our reranking process later"
      ]
    },
    {
      "cell_type": "code",
      "execution_count": 6,
      "metadata": {
        "id": "GFDPrNBtb72o"
      },
      "outputs": [],
      "source": [
        "naive_retriever = vectorstore.as_retriever(search_kwargs={\"k\" : 10})"
      ]
    },
    {
      "cell_type": "markdown",
      "metadata": {
        "id": "MbBhyQjz06dx"
      },
      "source": [
        "### A - Augmented\n",
        "\n",
        "We're going to go with a standard prompt for our simple RAG chain today! Nothing fancy here, we want this to mostly be about the Retrieval process."
      ]
    },
    {
      "cell_type": "code",
      "execution_count": 7,
      "metadata": {
        "id": "7uSz-Dbqcoki"
      },
      "outputs": [],
      "source": [
        "from langchain_core.prompts import ChatPromptTemplate\n",
        "\n",
        "RAG_TEMPLATE = \"\"\"\\\n",
        "You are a helpful and kind assistant. Use the context provided below to answer the question.\n",
        "\n",
        "If you do not know the answer, or are unsure, say you don't know.\n",
        "\n",
        "Query:\n",
        "{question}\n",
        "\n",
        "Context:\n",
        "{context}\n",
        "\"\"\"\n",
        "\n",
        "rag_prompt = ChatPromptTemplate.from_template(RAG_TEMPLATE)"
      ]
    },
    {
      "cell_type": "markdown",
      "metadata": {
        "id": "BlRzpb231GGJ"
      },
      "source": [
        "### G - Generation\n",
        "\n",
        "We're going to leverage `gpt-3.5-turbo` as our LLM today, as - again - we want this to largely be about the Retrieval process."
      ]
    },
    {
      "cell_type": "code",
      "execution_count": 8,
      "metadata": {
        "id": "c-1t9H60dJLg"
      },
      "outputs": [],
      "source": [
        "from langchain_openai import ChatOpenAI\n",
        "\n",
        "chat_model = ChatOpenAI()"
      ]
    },
    {
      "cell_type": "markdown",
      "metadata": {
        "id": "mg3QRGzA1M2x"
      },
      "source": [
        "### LCEL RAG Chain\n",
        "\n",
        "We're going to use LCEL to construct our chain.\n",
        "\n",
        "> NOTE: This chain will be exactly the same across the various examples with the exception of our Retriever!"
      ]
    },
    {
      "cell_type": "code",
      "execution_count": 9,
      "metadata": {
        "id": "0bvstS7mdOW3"
      },
      "outputs": [],
      "source": [
        "from langchain_core.runnables import RunnablePassthrough\n",
        "from operator import itemgetter\n",
        "from langchain_core.output_parsers import StrOutputParser\n",
        "\n",
        "naive_retrieval_chain = (\n",
        "    # INVOKE CHAIN WITH: {\"question\" : \"<<SOME USER QUESTION>>\"}\n",
        "    # \"question\" : populated by getting the value of the \"question\" key\n",
        "    # \"context\"  : populated by getting the value of the \"question\" key and chaining it into the base_retriever\n",
        "    {\"context\": itemgetter(\"question\") | naive_retriever, \"question\": itemgetter(\"question\")}\n",
        "    # \"context\"  : is assigned to a RunnablePassthrough object (will not be called or considered in the next step)\n",
        "    #              by getting the value of the \"context\" key from the previous step\n",
        "    | RunnablePassthrough.assign(context=itemgetter(\"context\"))\n",
        "    # \"response\" : the \"context\" and \"question\" values are used to format our prompt object and then piped\n",
        "    #              into the LLM and stored in a key called \"response\"\n",
        "    # \"context\"  : populated by getting the value of the \"context\" key from the previous step\n",
        "    | {\"response\": rag_prompt | chat_model, \"context\": itemgetter(\"context\")}\n",
        ")"
      ]
    },
    {
      "cell_type": "markdown",
      "metadata": {
        "id": "izKujhNb1ZG8"
      },
      "source": [
        "Let's see how this simple chain does on a few different prompts.\n",
        "\n",
        "> NOTE: You might think that we've cherry picked prompts that showcase the individual skill of each of the retrieval strategies - you'd be correct!"
      ]
    },
    {
      "cell_type": "code",
      "execution_count": 10,
      "metadata": {
        "colab": {
          "base_uri": "https://localhost:8080/",
          "height": 36
        },
        "id": "LI-5ueEddku9",
        "outputId": "7f3cec18-5f4e-41bb-cf71-51ba0be5388e"
      },
      "outputs": [
        {
          "data": {
            "text/plain": [
              "'Yes, people generally liked John Wick based on the positive reviews and high ratings given by reviewers.'"
            ]
          },
          "execution_count": 10,
          "metadata": {},
          "output_type": "execute_result"
        }
      ],
      "source": [
        "naive_retrieval_chain.invoke({\"question\" : \"Did people generally like John Wick?\"})[\"response\"].content"
      ]
    },
    {
      "cell_type": "code",
      "execution_count": 11,
      "metadata": {
        "colab": {
          "base_uri": "https://localhost:8080/",
          "height": 36
        },
        "id": "43zdcdUydtXh",
        "outputId": "db874e67-f568-4ed1-b863-b7c17b387052"
      },
      "outputs": [
        {
          "data": {
            "text/plain": [
              "\"Yes, there is a review with a rating of 10. Here is the URL to that review:\\n- Review: A Masterpiece & Brilliant Sequel\\n- URL: '/review/rw4854296/?ref_=tt_urv'\""
            ]
          },
          "execution_count": 11,
          "metadata": {},
          "output_type": "execute_result"
        }
      ],
      "source": [
        "naive_retrieval_chain.invoke({\"question\" : \"Do any reviews have a rating of 10? If so - can I have the URLs to those reviews?\"})[\"response\"].content"
      ]
    },
    {
      "cell_type": "code",
      "execution_count": 13,
      "metadata": {
        "colab": {
          "base_uri": "https://localhost:8080/",
          "height": 70
        },
        "id": "lpG6rlvvvKFq",
        "outputId": "a1b330b0-628e-41be-d829-9c1d55e781f5"
      },
      "outputs": [
        {
          "data": {
            "text/plain": [
              "'In the movie John Wick, an ex-hit-man comes out of retirement to seek revenge on the gangsters who killed his dog and took everything from him. He unleashes a maelstrom of destruction against those who try to chase him, leading to a high-stakes battle. The story is filled with action, suspense, and intense fight sequences.'"
            ]
          },
          "execution_count": 13,
          "metadata": {},
          "output_type": "execute_result"
        }
      ],
      "source": [
        "naive_retrieval_chain.invoke({\"question\" : \"What happened in John Wick?\"})[\"response\"].content"
      ]
    },
    {
      "cell_type": "markdown",
      "metadata": {
        "id": "jsbfQmbr1leg"
      },
      "source": [
        "Overall, this is not bad! Let's see if we can make it better!"
      ]
    },
    {
      "cell_type": "markdown",
      "metadata": {
        "id": "Ft1vt8HPR16w"
      },
      "source": [
        "## Task 5: Best-Matching 25 (BM25) Retriever\n",
        "\n",
        "Taking a step back in time - [BM25](https://www.nowpublishers.com/article/Details/INR-019) is based on [Bag-Of-Words](https://en.wikipedia.org/wiki/Bag-of-words_model) which is a sparse representation of text.\n",
        "\n",
        "In essence, it's a way to compare how similar two pieces of text are based on the words they both contain.\n",
        "\n",
        "This retriever is very straightforward to set-up! Let's see it happen down below!\n"
      ]
    },
    {
      "cell_type": "code",
      "execution_count": 86,
      "metadata": {},
      "outputs": [],
      "source": [
        "# !pip install -qU rank_bm25\n",
        "\n",
        "# langchain langchain-openai langchain-cohere"
      ]
    },
    {
      "cell_type": "code",
      "execution_count": 14,
      "metadata": {
        "id": "qdF4wuj5R-cG"
      },
      "outputs": [],
      "source": [
        "from langchain_community.retrievers import BM25Retriever\n",
        "\n",
        "bm25_retriever = BM25Retriever.from_documents(documents)"
      ]
    },
    {
      "cell_type": "markdown",
      "metadata": {
        "id": "KIjJlBQ8drKH"
      },
      "source": [
        "We'll construct the same chain - only changing the retriever."
      ]
    },
    {
      "cell_type": "code",
      "execution_count": 15,
      "metadata": {
        "id": "WR15EQG7SLuw"
      },
      "outputs": [],
      "source": [
        "bm25_retrieval_chain = (\n",
        "    {\"context\": itemgetter(\"question\") | bm25_retriever, \"question\": itemgetter(\"question\")}\n",
        "    | RunnablePassthrough.assign(context=itemgetter(\"context\"))\n",
        "    | {\"response\": rag_prompt | chat_model, \"context\": itemgetter(\"context\")}\n",
        ")"
      ]
    },
    {
      "cell_type": "markdown",
      "metadata": {
        "id": "0Gi-yXCDdvJk"
      },
      "source": [
        "Let's look at the responses!"
      ]
    },
    {
      "cell_type": "code",
      "execution_count": 16,
      "metadata": {
        "colab": {
          "base_uri": "https://localhost:8080/",
          "height": 53
        },
        "id": "oY9qzmm3SOrF",
        "outputId": "4d4f450f-5978-460f-f242-b32407868353"
      },
      "outputs": [
        {
          "data": {
            "text/plain": [
              "\"People's opinions on John Wick seem to vary. Some people really enjoyed the action and simplicity of the plot, while others found it lacking in substance and overly violent. So, it really depends on personal preferences whether people generally liked John Wick or not.\""
            ]
          },
          "execution_count": 16,
          "metadata": {},
          "output_type": "execute_result"
        }
      ],
      "source": [
        "bm25_retrieval_chain.invoke({\"question\" : \"Did people generally like John Wick?\"})[\"response\"].content"
      ]
    },
    {
      "cell_type": "code",
      "execution_count": 17,
      "metadata": {
        "colab": {
          "base_uri": "https://localhost:8080/",
          "height": 36
        },
        "id": "igfinyneSQkh",
        "outputId": "9752d4a9-dd16-45b1-f63f-a76e93a05eb3"
      },
      "outputs": [
        {
          "data": {
            "text/plain": [
              "\"I don't know if any reviews have a rating of 10.\""
            ]
          },
          "execution_count": 17,
          "metadata": {},
          "output_type": "execute_result"
        }
      ],
      "source": [
        "bm25_retrieval_chain.invoke({\"question\" : \"Do any reviews have a rating of 10? If so - can I have the URLs to those reviews?\"})[\"response\"].content"
      ]
    },
    {
      "cell_type": "code",
      "execution_count": 18,
      "metadata": {
        "colab": {
          "base_uri": "https://localhost:8080/",
          "height": 53
        },
        "id": "w0H7pV_USSMQ",
        "outputId": "bdead654-3109-4143-9a30-e1d6ca8dc534"
      },
      "outputs": [
        {
          "data": {
            "text/plain": [
              "'In \"John Wick,\" the main character, John Wick, is a retired hitman seeking vengeance for the death of his beloved dog that was a final gift from his deceased wife. The movie is known for its intense action sequences and well-choreographed fight scenes.'"
            ]
          },
          "execution_count": 18,
          "metadata": {},
          "output_type": "execute_result"
        }
      ],
      "source": [
        "bm25_retrieval_chain.invoke({\"question\" : \"What happened in John Wick?\"})[\"response\"].content"
      ]
    },
    {
      "cell_type": "markdown",
      "metadata": {
        "id": "zvg5xHaUdxCl"
      },
      "source": [
        "It's not clear that this is better or worse - but the `I don't know` isn't great!"
      ]
    },
    {
      "cell_type": "markdown",
      "metadata": {
        "id": "Q-dcbFn2vpZF"
      },
      "source": [
        "## Task 6: Contextual Compression (Using Reranking)\n",
        "\n",
        "Contextual Compression is a fairly straightforward idea: We want to \"compress\" our retrieved context into just the most useful bits.\n",
        "\n",
        "There are a few ways we can achieve this - but we're going to look at a specific example called reranking.\n",
        "\n",
        "The basic idea here is this:\n",
        "\n",
        "- We retrieve lots of documents that are very likely related to our query vector\n",
        "- We \"compress\" those documents into a smaller set of *more* related documents using a reranking algorithm.\n",
        "\n",
        "We'll be leveraging Cohere's Rerank model for our reranker today!\n",
        "\n",
        "All we need to do is the following:\n",
        "\n",
        "- Create a basic retriever\n",
        "- Create a compressor (reranker, in this case)\n",
        "\n",
        "That's it!\n",
        "\n",
        "Let's see it in the code below!"
      ]
    },
    {
      "cell_type": "code",
      "execution_count": 19,
      "metadata": {},
      "outputs": [],
      "source": [
        "from langchain.retrievers.contextual_compression import ContextualCompressionRetriever\n",
        "from langchain_cohere import CohereRerank\n",
        "\n",
        "compressor = CohereRerank(model=\"rerank-english-v3.0\")\n",
        "\n",
        "compression_retriever = ContextualCompressionRetriever(\n",
        "    base_compressor=compressor, base_retriever=naive_retriever\n",
        ")"
      ]
    },
    {
      "cell_type": "markdown",
      "metadata": {
        "id": "_TA9RB2x-j7P"
      },
      "source": [
        "Let's create our chain again, and see how this does!"
      ]
    },
    {
      "cell_type": "code",
      "execution_count": 20,
      "metadata": {
        "id": "1BXqmxvHwX6T"
      },
      "outputs": [],
      "source": [
        "contextual_compression_retrieval_chain = (\n",
        "    {\"context\": itemgetter(\"question\") | compression_retriever, \"question\": itemgetter(\"question\")}\n",
        "    | RunnablePassthrough.assign(context=itemgetter(\"context\"))\n",
        "    | {\"response\": rag_prompt | chat_model, \"context\": itemgetter(\"context\")}\n",
        ")"
      ]
    },
    {
      "cell_type": "code",
      "execution_count": 21,
      "metadata": {
        "colab": {
          "base_uri": "https://localhost:8080/",
          "height": 36
        },
        "id": "V3iGpokswcBb",
        "outputId": "f15d2aa1-5e8b-417d-f623-eb835d072e59"
      },
      "outputs": [
        {
          "data": {
            "text/plain": [
              "'Yes, people generally liked John Wick based on the positive reviews provided in the context.'"
            ]
          },
          "execution_count": 21,
          "metadata": {},
          "output_type": "execute_result"
        }
      ],
      "source": [
        "contextual_compression_retrieval_chain.invoke({\"question\" : \"Did people generally like John Wick?\"})[\"response\"].content"
      ]
    },
    {
      "cell_type": "code",
      "execution_count": 22,
      "metadata": {
        "colab": {
          "base_uri": "https://localhost:8080/",
          "height": 53
        },
        "id": "7u_k0i4OweUd",
        "outputId": "be5fccc8-2352-4189-c524-bbeaa28cf799"
      },
      "outputs": [
        {
          "data": {
            "text/plain": [
              "\"Yes, there is a review with a rating of 10. The URL to that review is '/review/rw4854296/?ref_=tt_urv'.\""
            ]
          },
          "execution_count": 22,
          "metadata": {},
          "output_type": "execute_result"
        }
      ],
      "source": [
        "contextual_compression_retrieval_chain.invoke({\"question\" : \"Do any reviews have a rating of 10? If so - can I have the URLs to those reviews?\"})[\"response\"].content"
      ]
    },
    {
      "cell_type": "code",
      "execution_count": 23,
      "metadata": {
        "colab": {
          "base_uri": "https://localhost:8080/",
          "height": 70
        },
        "id": "zn1EqaGqweXN",
        "outputId": "42bc5972-4164-46eb-f49d-4272f39bb89b"
      },
      "outputs": [
        {
          "data": {
            "text/plain": [
              "\"In John Wick, the main character, played by Keanu Reeves, is forced out of retirement by a mob boss who blows up his home. Wick is given a task to kill the boss's sister in Rome, but after completing the assignment, the boss puts a bounty on Wick's head. Wick sets out to seek revenge and take down the mob boss.\""
            ]
          },
          "execution_count": 23,
          "metadata": {},
          "output_type": "execute_result"
        }
      ],
      "source": [
        "contextual_compression_retrieval_chain.invoke({\"question\" : \"What happened in John Wick?\"})[\"response\"].content"
      ]
    },
    {
      "cell_type": "markdown",
      "metadata": {
        "id": "OEbT0g2S-mZ4"
      },
      "source": [
        "We'll need to rely on something like Ragas to help us get a better sense of how this is performing overall - but it \"feels\" better!"
      ]
    },
    {
      "cell_type": "markdown",
      "metadata": {
        "id": "qqbghrBEQNn5"
      },
      "source": [
        "## Task 7: Multi-Query Retriever\n",
        "\n",
        "Typically in RAG we have a single query - the one provided by the user.\n",
        "\n",
        "What if we had....more than one query!\n",
        "\n",
        "In essence, a Multi-Query Retriever works by:\n",
        "\n",
        "1. Taking the original user query and creating `n` number of new user queries using an LLM.\n",
        "2. Retrieving documents for each query.\n",
        "3. Using all unique retrieved documents as context\n",
        "\n",
        "So, how is it to set-up? Not bad! Let's see it down below!\n",
        "\n"
      ]
    },
    {
      "cell_type": "code",
      "execution_count": 24,
      "metadata": {
        "id": "pfM26ReXQjzU"
      },
      "outputs": [],
      "source": [
        "from langchain.retrievers.multi_query import MultiQueryRetriever\n",
        "\n",
        "multi_query_retriever = MultiQueryRetriever.from_llm(\n",
        "    retriever=naive_retriever, llm=chat_model\n",
        ")"
      ]
    },
    {
      "cell_type": "code",
      "execution_count": 25,
      "metadata": {
        "id": "1vRc129jQ5WW"
      },
      "outputs": [],
      "source": [
        "multi_query_retrieval_chain = (\n",
        "    {\"context\": itemgetter(\"question\") | multi_query_retriever, \"question\": itemgetter(\"question\")}\n",
        "    | RunnablePassthrough.assign(context=itemgetter(\"context\"))\n",
        "    | {\"response\": rag_prompt | chat_model, \"context\": itemgetter(\"context\")}\n",
        ")"
      ]
    },
    {
      "cell_type": "code",
      "execution_count": 26,
      "metadata": {
        "colab": {
          "base_uri": "https://localhost:8080/",
          "height": 53
        },
        "id": "CGgNuOb3Q3M9",
        "outputId": "c5273ecf-da35-40b8-fbdb-0f8beab425f7"
      },
      "outputs": [
        {
          "data": {
            "text/plain": [
              "\"Based on the provided context, it is clear that the majority of people enjoyed the John Wick movie. The reviews highlight the thrilling action sequences, Keanu Reeves' performance, and the overall entertainment value of the film. Therefore, people generally liked John Wick.\""
            ]
          },
          "execution_count": 26,
          "metadata": {},
          "output_type": "execute_result"
        }
      ],
      "source": [
        "multi_query_retrieval_chain.invoke({\"question\" : \"Did people generally like John Wick?\"})[\"response\"].content"
      ]
    },
    {
      "cell_type": "code",
      "execution_count": 27,
      "metadata": {
        "colab": {
          "base_uri": "https://localhost:8080/",
          "height": 36
        },
        "id": "aAlSthxrRDBC",
        "outputId": "230ff807-23ae-4d25-8d11-cfdbed0b77cb"
      },
      "outputs": [
        {
          "data": {
            "text/plain": [
              "\"Do any reviews have a rating of 10? If so - can I have the URLs to those reviews?\\n\\nYes, there is a review with a rating of 10. Here is the URL to that review:\\n- [Review_URL]: 'https://www.imdb.com/review/rw4854296/?ref_=tt_urv'\""
            ]
          },
          "execution_count": 27,
          "metadata": {},
          "output_type": "execute_result"
        }
      ],
      "source": [
        "multi_query_retrieval_chain.invoke({\"question\" : \"Do any reviews have a rating of 10? If so - can I have the URLs to those reviews?\"})[\"response\"].content"
      ]
    },
    {
      "cell_type": "code",
      "execution_count": 28,
      "metadata": {
        "colab": {
          "base_uri": "https://localhost:8080/",
          "height": 88
        },
        "id": "Uv1mpCK8REs4",
        "outputId": "00fbc22a-ed9b-4613-9695-0b179e3f8369"
      },
      "outputs": [
        {
          "data": {
            "text/plain": [
              "'In the John Wick movies, the protagonist John Wick, played by Keanu Reeves, is a retired assassin who seeks revenge when his dog is killed and his car is stolen. This leads to a series of events where he goes on a violent rampage, killing numerous people involved in criminal activities. The storylines involve John Wick navigating through the criminal underworld, facing off against other assassins, and dealing with various challenges that come his way.'"
            ]
          },
          "execution_count": 28,
          "metadata": {},
          "output_type": "execute_result"
        }
      ],
      "source": [
        "multi_query_retrieval_chain.invoke({\"question\" : \"What happened in John Wick?\"})[\"response\"].content"
      ]
    },
    {
      "cell_type": "markdown",
      "metadata": {
        "id": "EDEawBf_d_3G"
      },
      "source": [
        "## Task 8: Parent Document Retriever\n",
        "\n",
        "A \"small-to-big\" strategy - the Parent Document Retriever works based on a simple strategy:\n",
        "\n",
        "1. Each un-split \"document\" will be designated as a \"parent document\" (You could use larger chunks of document as well, but our data format allows us to consider the overall document as the parent chunk)\n",
        "2. Store those \"parent documents\" in a memory store (not a VectorStore)\n",
        "3. We will chunk each of those documents into smaller documents, and associate them with their respective parents, and store those in a VectorStore. We'll call those \"child chunks\".\n",
        "4. When we query our Retriever, we will do a similarity search comparing our query vector to the \"child chunks\".\n",
        "5. Instead of returning the \"child chunks\", we'll return their associated \"parent chunks\".\n",
        "\n",
        "Okay, maybe that was a few steps - but the basic idea is this:\n",
        "\n",
        "- Search for small documents\n",
        "- Return big documents\n",
        "\n",
        "The intuition is that we're likely to find the most relevant information by limiting the amount of semantic information that is encoded in each embedding vector - but we're likely to miss relevant surrounding context if we only use that information.\n",
        "\n",
        "Let's start by creating our \"parent documents\" and defining a `RecursiveCharacterTextSplitter`."
      ]
    },
    {
      "cell_type": "code",
      "execution_count": 29,
      "metadata": {
        "id": "qJ53JJuMd_ZH"
      },
      "outputs": [],
      "source": [
        "from langchain.retrievers import ParentDocumentRetriever\n",
        "from langchain.storage import InMemoryStore\n",
        "from langchain_text_splitters import RecursiveCharacterTextSplitter\n",
        "from qdrant_client import QdrantClient, models\n",
        "\n",
        "parent_docs = documents\n",
        "child_splitter = RecursiveCharacterTextSplitter(chunk_size=200)"
      ]
    },
    {
      "cell_type": "markdown",
      "metadata": {
        "id": "oOpXfVUH3gL3"
      },
      "source": [
        "We'll need to set up a new QDrant vectorstore - and we'll use another useful pattern to do so!\n",
        "\n",
        "> NOTE: We are manually defining our embedding dimension, you'll need to change this if you're using a different embedding model."
      ]
    },
    {
      "cell_type": "code",
      "execution_count": 30,
      "metadata": {
        "colab": {
          "base_uri": "https://localhost:8080/"
        },
        "id": "rzFc-_9HlGQ-",
        "outputId": "223662dd-c36f-42f7-d1b0-b086e571484e"
      },
      "outputs": [
        {
          "name": "stderr",
          "output_type": "stream",
          "text": [
            "C:\\Users\\dabra\\AppData\\Local\\Temp\\ipykernel_17792\\3574430551.py:8: LangChainDeprecationWarning: The class `Qdrant` was deprecated in LangChain 0.0.37 and will be removed in 1.0. An updated version of the class exists in the :class:`~langchain-qdrant package and should be used instead. To use it run `pip install -U :class:`~langchain-qdrant` and import as `from :class:`~langchain_qdrant import Qdrant``.\n",
            "  parent_document_vectorstore = Qdrant(\n"
          ]
        }
      ],
      "source": [
        "client = QdrantClient(location=\":memory:\")\n",
        "\n",
        "client.create_collection(\n",
        "    collection_name=\"full_documents\",\n",
        "    vectors_config=models.VectorParams(size=1536, distance=models.Distance.COSINE)\n",
        ")\n",
        "\n",
        "parent_document_vectorstore = Qdrant(\n",
        "    collection_name=\"full_documents\", embeddings=OpenAIEmbeddings(model=\"text-embedding-3-small\"), client=client\n",
        ")"
      ]
    },
    {
      "cell_type": "markdown",
      "metadata": {
        "id": "sf_g95FA3s6w"
      },
      "source": [
        "Now we can create our `InMemoryStore` that will hold our \"parent documents\" - and build our retriever!"
      ]
    },
    {
      "cell_type": "code",
      "execution_count": 31,
      "metadata": {
        "id": "BpWVjPf4fLUp"
      },
      "outputs": [],
      "source": [
        "store = InMemoryStore()\n",
        "\n",
        "parent_document_retriever = ParentDocumentRetriever(\n",
        "    vectorstore = parent_document_vectorstore,\n",
        "    docstore=store,\n",
        "    child_splitter=child_splitter,\n",
        ")"
      ]
    },
    {
      "cell_type": "markdown",
      "metadata": {
        "id": "KoYmSWfE32Zo"
      },
      "source": [
        "By default, this is empty as we haven't added any documents - let's add some now!"
      ]
    },
    {
      "cell_type": "code",
      "execution_count": 32,
      "metadata": {
        "id": "iQ2ZzfKigMZc"
      },
      "outputs": [],
      "source": [
        "parent_document_retriever.add_documents(parent_docs, ids=None)"
      ]
    },
    {
      "cell_type": "markdown",
      "metadata": {
        "id": "bI7Tip1335rE"
      },
      "source": [
        "We'll create the same chain we did before - but substitute our new `parent_document_retriever`."
      ]
    },
    {
      "cell_type": "code",
      "execution_count": 33,
      "metadata": {
        "id": "Qq_adt2KlSqp"
      },
      "outputs": [],
      "source": [
        "parent_document_retrieval_chain = (\n",
        "    {\"context\": itemgetter(\"question\") | parent_document_retriever, \"question\": itemgetter(\"question\")}\n",
        "    | RunnablePassthrough.assign(context=itemgetter(\"context\"))\n",
        "    | {\"response\": rag_prompt | chat_model, \"context\": itemgetter(\"context\")}\n",
        ")"
      ]
    },
    {
      "cell_type": "markdown",
      "metadata": {
        "id": "jNolUVQb4Apt"
      },
      "source": [
        "Let's give it a whirl!"
      ]
    },
    {
      "cell_type": "code",
      "execution_count": 34,
      "metadata": {
        "colab": {
          "base_uri": "https://localhost:8080/",
          "height": 70
        },
        "id": "TXB5i89Zly5W",
        "outputId": "94c240be-7c5b-4c58-9eee-56d93285a054"
      },
      "outputs": [
        {
          "data": {
            "text/plain": [
              "'Based on the reviews provided, opinions on \"John Wick 4\" vary. Some people like the movie, while others did not enjoy it.'"
            ]
          },
          "execution_count": 34,
          "metadata": {},
          "output_type": "execute_result"
        }
      ],
      "source": [
        "parent_document_retrieval_chain.invoke({\"question\" : \"Did people generally like John Wick?\"})[\"response\"].content"
      ]
    },
    {
      "cell_type": "code",
      "execution_count": 35,
      "metadata": {
        "colab": {
          "base_uri": "https://localhost:8080/",
          "height": 36
        },
        "id": "V5F1T-wNl3cg",
        "outputId": "9b81e72e-5db7-4b8a-b25b-400ea0df5335"
      },
      "outputs": [
        {
          "data": {
            "text/plain": [
              "'Yes, there is a review with a rating of 10. The URL to that review is: \\'/review/rw4854296/?ref_=tt_urv\\' for the movie \"John Wick 3\".'"
            ]
          },
          "execution_count": 35,
          "metadata": {},
          "output_type": "execute_result"
        }
      ],
      "source": [
        "parent_document_retrieval_chain.invoke({\"question\" : \"Do any reviews have a rating of 10? If so - can I have the URLs to those reviews?\"})[\"response\"].content"
      ]
    },
    {
      "cell_type": "code",
      "execution_count": 36,
      "metadata": {
        "colab": {
          "base_uri": "https://localhost:8080/",
          "height": 70
        },
        "id": "ZqARszGzvGcG",
        "outputId": "8867f83c-db13-4db4-d57f-9bd51d32cd8a"
      },
      "outputs": [
        {
          "data": {
            "text/plain": [
              "\"In the John Wick movies, Keanu Reeves plays John Wick, a retired assassin who comes out of retirement to seek vengeance. In the first movie, he goes after the gangsters who killed his dog and stole everything from him. In the second movie, John Wick is forced back into the world of assassins when he is called in to repay an old debt by helping take over the Assassin's Guild. Throughout both films, there are numerous action-packed scenes with plenty of killings and thrilling moments.\""
            ]
          },
          "execution_count": 36,
          "metadata": {},
          "output_type": "execute_result"
        }
      ],
      "source": [
        "parent_document_retrieval_chain.invoke({\"question\" : \"What happened in John Wick?\"})[\"response\"].content"
      ]
    },
    {
      "cell_type": "markdown",
      "metadata": {
        "id": "B41cj42s4DPM"
      },
      "source": [
        "Overall, the performance *seems* largely the same. We can leverage a tool like [Ragas]() to more effectively answer the question about the performance."
      ]
    },
    {
      "cell_type": "markdown",
      "metadata": {
        "id": "VUrIBKl_TwS9"
      },
      "source": [
        "## Task 9: Ensemble Retriever\n",
        "\n",
        "In brief, an Ensemble Retriever simply takes 2, or more, retrievers and combines their retrieved documents based on a rank-fusion algorithm.\n",
        "\n",
        "In this case - we're using the [Reciprocal Rank Fusion](https://plg.uwaterloo.ca/~gvcormac/cormacksigir09-rrf.pdf) algorithm.\n",
        "\n",
        "Setting it up is as easy as providing a list of our desired retrievers - and the weights for each retriever."
      ]
    },
    {
      "cell_type": "code",
      "execution_count": 38,
      "metadata": {
        "id": "8j7jpZsKTxic"
      },
      "outputs": [],
      "source": [
        "from langchain.retrievers import EnsembleRetriever\n",
        "\n",
        "retriever_list = [bm25_retriever, naive_retriever, parent_document_retriever, compression_retriever, multi_query_retriever]\n",
        "equal_weighting = [1/len(retriever_list)] * len(retriever_list)\n",
        "\n",
        "ensemble_retriever = EnsembleRetriever(\n",
        "    retrievers=retriever_list, weights=equal_weighting\n",
        ")"
      ]
    },
    {
      "cell_type": "markdown",
      "metadata": {
        "id": "kpo9Psl5hhJ-"
      },
      "source": [
        "We'll pack *all* of these retrievers together in an ensemble."
      ]
    },
    {
      "cell_type": "code",
      "execution_count": 39,
      "metadata": {
        "id": "KZ__EZwpUKkd"
      },
      "outputs": [],
      "source": [
        "ensemble_retrieval_chain = (\n",
        "    {\"context\": itemgetter(\"question\") | ensemble_retriever, \"question\": itemgetter(\"question\")}\n",
        "    | RunnablePassthrough.assign(context=itemgetter(\"context\"))\n",
        "    | {\"response\": rag_prompt | chat_model, \"context\": itemgetter(\"context\")}\n",
        ")"
      ]
    },
    {
      "cell_type": "markdown",
      "metadata": {
        "id": "SSsvHpRMj24L"
      },
      "source": [
        "Let's look at our results!"
      ]
    },
    {
      "cell_type": "code",
      "execution_count": 40,
      "metadata": {
        "colab": {
          "base_uri": "https://localhost:8080/",
          "height": 70
        },
        "id": "0lMvqL88UQI-",
        "outputId": "d86dd5f7-0a13-4836-c0ce-cc4c431fd889"
      },
      "outputs": [
        {
          "data": {
            "text/plain": [
              "'Yes, it seems that people generally liked John Wick based on the reviews provided.'"
            ]
          },
          "execution_count": 40,
          "metadata": {},
          "output_type": "execute_result"
        }
      ],
      "source": [
        "ensemble_retrieval_chain.invoke({\"question\" : \"Did people generally like John Wick?\"})[\"response\"].content"
      ]
    },
    {
      "cell_type": "code",
      "execution_count": 41,
      "metadata": {
        "colab": {
          "base_uri": "https://localhost:8080/",
          "height": 53
        },
        "id": "MNFWLYECURI1",
        "outputId": "b17973b5-66a9-4481-97d5-880b5754b5c5"
      },
      "outputs": [
        {
          "data": {
            "text/plain": [
              "\"Yes, there is one review with a rating of 10. Here is the URL to that review: '/review/rw4854296/?ref_=tt_urv'\""
            ]
          },
          "execution_count": 41,
          "metadata": {},
          "output_type": "execute_result"
        }
      ],
      "source": [
        "ensemble_retrieval_chain.invoke({\"question\" : \"Do any reviews have a rating of 10? If so - can I have the URLs to those reviews?\"})[\"response\"].content"
      ]
    },
    {
      "cell_type": "code",
      "execution_count": 42,
      "metadata": {
        "colab": {
          "base_uri": "https://localhost:8080/",
          "height": 88
        },
        "id": "A7qbHfWgUR4c",
        "outputId": "f7373144-59ef-4fc7-b75d-ca00e7df881e"
      },
      "outputs": [
        {
          "data": {
            "text/plain": [
              "'In John Wick, an ex-hit-man comes out of retirement to seek vengeance on gangsters who killed his dog and took everything from him. The storyline involves intense action, shootouts, and breathtaking fights as John Wick faces off against various adversaries.'"
            ]
          },
          "execution_count": 42,
          "metadata": {},
          "output_type": "execute_result"
        }
      ],
      "source": [
        "ensemble_retrieval_chain.invoke({\"question\" : \"What happened in John Wick?\"})[\"response\"].content"
      ]
    },
    {
      "cell_type": "markdown",
      "metadata": {
        "id": "MopbkNJAXVaN"
      },
      "source": [
        "## Task 10: Semantic Chunking\n",
        "\n",
        "While this is not a retrieval method - it *is* an effective way of increasing retrieval performance on corpora that have clean semantic breaks in them.\n",
        "\n",
        "Essentially, Semantic Chunking is implemented by:\n",
        "\n",
        "1. Embedding all sentences in the corpus.\n",
        "2. Combining or splitting sequences of sentences based on their semantic similarity based on a number of [possible thresholding methods](https://python.langchain.com/docs/how_to/semantic-chunker/):\n",
        "  - `percentile`\n",
        "  - `standard_deviation`\n",
        "  - `interquartile`\n",
        "  - `gradient`\n",
        "3. Each sequence of related sentences is kept as a document!\n",
        "\n",
        "Let's see how to implement this!\n",
        "\n",
        "> NOTE: You do not need to run this cell if you're running this locally"
      ]
    },
    {
      "cell_type": "code",
      "execution_count": 117,
      "metadata": {
        "colab": {
          "base_uri": "https://localhost:8080/"
        },
        "id": "1dHeB-yGXneL",
        "outputId": "efc59105-518a-4134-9228-d98b8a97e08e"
      },
      "outputs": [],
      "source": [
        "!pip install -qU langchain_experimental"
      ]
    },
    {
      "cell_type": "markdown",
      "metadata": {
        "id": "U9ciZbFEldv_"
      },
      "source": [
        "We'll use the `percentile` thresholding method for this example which will:\n",
        "\n",
        "Calculate all distances between sentences, and then break apart sequences of setences that exceed a given percentile among all distances."
      ]
    },
    {
      "cell_type": "code",
      "execution_count": 43,
      "metadata": {
        "id": "66EIEWiEYl5y"
      },
      "outputs": [],
      "source": [
        "from langchain_experimental.text_splitter import SemanticChunker\n",
        "\n",
        "semantic_chunker = SemanticChunker(\n",
        "    embeddings,\n",
        "    breakpoint_threshold_type=\"percentile\"\n",
        ")"
      ]
    },
    {
      "cell_type": "markdown",
      "metadata": {
        "id": "YqoKmz12mhRW"
      },
      "source": [
        "Now we can split our documents."
      ]
    },
    {
      "cell_type": "code",
      "execution_count": 44,
      "metadata": {
        "id": "ROcV7o68ZIq7"
      },
      "outputs": [],
      "source": [
        "semantic_documents = semantic_chunker.split_documents(documents)"
      ]
    },
    {
      "cell_type": "markdown",
      "metadata": {
        "id": "L8-LNC-Xmjex"
      },
      "source": [
        "Let's create a new vector store."
      ]
    },
    {
      "cell_type": "code",
      "execution_count": 45,
      "metadata": {
        "id": "h3sl9QjyZhIe"
      },
      "outputs": [],
      "source": [
        "semantic_vectorstore = Qdrant.from_documents(\n",
        "    semantic_documents,\n",
        "    embeddings,\n",
        "    location=\":memory:\",\n",
        "    collection_name=\"JohnWickSemantic\"\n",
        ")"
      ]
    },
    {
      "cell_type": "markdown",
      "metadata": {
        "id": "Eh_r_-LHmmKn"
      },
      "source": [
        "We'll use naive retrieval for this example."
      ]
    },
    {
      "cell_type": "code",
      "execution_count": 46,
      "metadata": {
        "id": "odVyDUHwZftc"
      },
      "outputs": [],
      "source": [
        "semantic_retriever = semantic_vectorstore.as_retriever(search_kwargs={\"k\" : 10})"
      ]
    },
    {
      "cell_type": "markdown",
      "metadata": {
        "id": "Mkeiv_ojmp6G"
      },
      "source": [
        "Finally we can create our classic chain!"
      ]
    },
    {
      "cell_type": "code",
      "execution_count": 47,
      "metadata": {
        "id": "xWE_0J0mZveG"
      },
      "outputs": [],
      "source": [
        "semantic_retrieval_chain = (\n",
        "    {\"context\": itemgetter(\"question\") | semantic_retriever, \"question\": itemgetter(\"question\")}\n",
        "    | RunnablePassthrough.assign(context=itemgetter(\"context\"))\n",
        "    | {\"response\": rag_prompt | chat_model, \"context\": itemgetter(\"context\")}\n",
        ")"
      ]
    },
    {
      "cell_type": "markdown",
      "metadata": {
        "id": "R5pfjLQ3ms9_"
      },
      "source": [
        "And view the results!"
      ]
    },
    {
      "cell_type": "code",
      "execution_count": 48,
      "metadata": {
        "colab": {
          "base_uri": "https://localhost:8080/",
          "height": 70
        },
        "id": "0lN2j-e4Z0SD",
        "outputId": "ef483e21-7200-4dfc-b8bf-aed4f23587b2"
      },
      "outputs": [
        {
          "data": {
            "text/plain": [
              "\"Based on the reviews provided, it seems that a majority of people really enjoyed the John Wick movies. The action sequences, Keanu Reeves' performance, and the overall style of the films were praised by many reviewers.\""
            ]
          },
          "execution_count": 48,
          "metadata": {},
          "output_type": "execute_result"
        }
      ],
      "source": [
        "semantic_retrieval_chain.invoke({\"question\" : \"Did people generally like John Wick?\"})[\"response\"].content"
      ]
    },
    {
      "cell_type": "code",
      "execution_count": 49,
      "metadata": {
        "colab": {
          "base_uri": "https://localhost:8080/",
          "height": 53
        },
        "id": "xdqfBH1SZ3f9",
        "outputId": "ed62b2d1-7586-46cc-aaf4-c54192a56155"
      },
      "outputs": [
        {
          "data": {
            "text/plain": [
              "'Yes, there is a review with a rating of 10 for \"John Wick 3\". Here is the URL to that review: \\'/review/rw4854296/?ref_=tt_urv\\'.'"
            ]
          },
          "execution_count": 49,
          "metadata": {},
          "output_type": "execute_result"
        }
      ],
      "source": [
        "semantic_retrieval_chain.invoke({\"question\" : \"Do any reviews have a rating of 10? If so - can I have the URLs to those reviews?\"})[\"response\"].content"
      ]
    },
    {
      "cell_type": "code",
      "execution_count": 50,
      "metadata": {
        "colab": {
          "base_uri": "https://localhost:8080/",
          "height": 70
        },
        "id": "rAcAObZnZ4o6",
        "outputId": "3f1cade3-41e4-4e42-ef71-048dd18e5e3a"
      },
      "outputs": [
        {
          "data": {
            "text/plain": [
              "\"John Wick is about a retired assassin seeking revenge after someone kills his dog and steals his car. It's a story of intense action and retribution.\""
            ]
          },
          "execution_count": 50,
          "metadata": {},
          "output_type": "execute_result"
        }
      ],
      "source": [
        "semantic_retrieval_chain.invoke({\"question\" : \"What happened in John Wick?\"})[\"response\"].content"
      ]
    },
    {
      "cell_type": "markdown",
      "metadata": {
        "id": "xk2n3-pnVWDJ"
      },
      "source": [
        "# 🤝 Breakout Room Part #2"
      ]
    },
    {
      "cell_type": "markdown",
      "metadata": {
        "id": "2SkJLYwMVZkj"
      },
      "source": [
        "#### 🏗️ Activity #1\n",
        "\n",
        "Your task is to evaluate the various Retriever methods against eachother.\n",
        "\n",
        "You are expected to:\n",
        "\n",
        "1. Create a \"golden dataset\"\n",
        " - Use Synthetic Data Generation (powered by Ragas, or otherwise) to create this dataset\n",
        "2. Evaluate each retriever with *retriever specific* Ragas metrics\n",
        " - Semantic Chunking is not considered a retriever method and will not be required for marks, but you may find it useful to do a \"semantic chunking on\" vs. \"semantic chunking off\" comparision between them\n",
        "3. Compile these in a list and write a small paragraph about which is best for this particular data and why.\n",
        "\n",
        "Your analysis should factor in:\n",
        "  - Cost\n",
        "  - Latency\n",
        "  - Performance\n",
        "\n",
        "> NOTE: This is **NOT** required to be completed in class. Please spend time in your breakout rooms creating a plan before moving on to writing code."
      ]
    },
    {
      "cell_type": "markdown",
      "metadata": {
        "id": "TWAr16a5XMub"
      },
      "source": [
        "##### HINTS:\n",
        "\n",
        "- LangSmith provides detailed information about latency and cost."
      ]
    },
    {
      "cell_type": "code",
      "execution_count": null,
      "metadata": {
        "id": "tgDICngKXLGK"
      },
      "outputs": [],
      "source": [
        "### YOUR CODE HERE"
      ]
    },
    {
      "cell_type": "code",
      "execution_count": 51,
      "metadata": {},
      "outputs": [],
      "source": [
        "import os\n",
        "import getpass\n",
        "import warnings\n",
        "import numpy as np\n",
        "import pandas as pd\n",
        "import time\n",
        "import seaborn as sns\n",
        "import matplotlib.pyplot as plt\n",
        "\n",
        "import urllib.request\n",
        "\n",
        "from langchain_community.document_loaders.csv_loader import CSVLoader\n",
        "from langchain_core.prompts import ChatPromptTemplate\n",
        "from langchain_core.runnables import RunnablePassthrough\n",
        "\n",
        "from datetime import datetime, timedelta\n",
        "from operator import itemgetter\n",
        "\n",
        "from ragas.testset import TestsetGenerator\n",
        "from ragas.metrics import context_precision, context_recall, ResponseRelevancy\n",
        "\n",
        "from IPython.display import display, Markdown\n",
        "\n",
        "warnings.filterwarnings('ignore')"
      ]
    },
    {
      "cell_type": "code",
      "execution_count": null,
      "metadata": {},
      "outputs": [],
      "source": [
        "os.environ[\"OPENAI_API_KEY\"] = getpass.getpass(\"Enter your OpenAI API Key:\")\n",
        "os.environ[\"CO_API_KEY\"] = getpass.getpass(\"Cohere API Key:\")"
      ]
    },
    {
      "cell_type": "markdown",
      "metadata": {},
      "source": [
        "<div style=\"background-color: #E6E6FA; padding: 10px; border-radius: 5px;\">\n",
        "<span style=\"color: black;\">\n",
        "\n",
        "<b> TASK 1 OF ACTIVITY 1: Create a \"golden dataset\"</b> \n",
        "\n",
        "</span>\n",
        "</div>"
      ]
    },
    {
      "cell_type": "code",
      "execution_count": 52,
      "metadata": {},
      "outputs": [
        {
          "name": "stdout",
          "output_type": "stream",
          "text": [
            "All retrievers have been set up\n"
          ]
        }
      ],
      "source": [
        "# Create dictionary of all retrievers for evaluation\n",
        "retrievers = {\n",
        "    \"Naive\": naive_retriever,\n",
        "    \"BM25\": bm25_retriever,\n",
        "    \"Contextual Compression\": compression_retriever,\n",
        "    \"Multi-Query\": multi_query_retriever,\n",
        "    \"Parent Document\": parent_document_retriever,\n",
        "    \"Ensemble\": ensemble_retriever,\n",
        "    \"Semantic\": semantic_retriever\n",
        "}\n",
        "\n",
        "print(\"All retrievers have been set up\")"
      ]
    },
    {
      "cell_type": "code",
      "execution_count": 53,
      "metadata": {},
      "outputs": [
        {
          "name": "stdout",
          "output_type": "stream",
          "text": [
            "Generating 15 questions...\n",
            "Generating QA pair 1/15...\n",
            "Generating QA pair 2/15...\n",
            "Generating QA pair 3/15...\n",
            "Generating QA pair 4/15...\n",
            "Generating QA pair 5/15...\n",
            "Generating QA pair 6/15...\n",
            "Generating QA pair 7/15...\n",
            "Generating QA pair 8/15...\n",
            "Generating QA pair 9/15...\n",
            "Generating QA pair 10/15...\n",
            "Generating QA pair 11/15...\n",
            "Generating QA pair 12/15...\n",
            "Generating QA pair 13/15...\n",
            "Generating QA pair 14/15...\n",
            "Generating QA pair 15/15...\n",
            "Successfully generated 15 question-answer pairs\n"
          ]
        }
      ],
      "source": [
        "def create_simple_golden_dataset(documents, llm, num_questions=15):\n",
        "    \"\"\"\n",
        "    Create a simple golden dataset by directly asking ChatGPT to generate questions \n",
        "    and answers based on the documents.\n",
        "    \"\"\"\n",
        "    from langchain_core.prompts import ChatPromptTemplate\n",
        "    import pandas as pd\n",
        "    import random\n",
        "    \n",
        "    print(f\"Generating {num_questions} questions...\")\n",
        "    \n",
        "    # Sample a subset of documents to use\n",
        "    sample_docs = random.sample(documents, min(len(documents), 50))\n",
        "    \n",
        "    # Create a prompt for generating questions and answers\n",
        "    qa_generation_prompt = ChatPromptTemplate.from_template(\n",
        "        \"\"\"\n",
        "        You are an expert at creating high-quality question-answer pairs for testing retrieval systems.\n",
        "        \n",
        "        I will provide you with a document about John Wick movie reviews. \n",
        "        Your task is to create a realistic question that could be asked about this document,\n",
        "        along with the correct answer to that question based solely on the information provided.\n",
        "        \n",
        "        Create a clear, specific question that directly relates to the content in the document.\n",
        "        \n",
        "        Document:\n",
        "        {document}\n",
        "        \n",
        "        Respond with a JSON object in this format:\n",
        "        {{\n",
        "            \"question\": \"Your generated question here\",\n",
        "            \"ground_truth\": \"The detailed answer to the question\"\n",
        "        }}\n",
        "        \n",
        "        Only respond with the JSON. No additional text.\n",
        "        \"\"\"\n",
        "    )\n",
        "    \n",
        "    qa_pairs = []\n",
        "    \n",
        "    # Generate QA pairs for each document\n",
        "    for i, doc in enumerate(sample_docs):\n",
        "        if len(qa_pairs) >= num_questions:\n",
        "            break\n",
        "            \n",
        "        try:\n",
        "            print(f\"Generating QA pair {len(qa_pairs)+1}/{num_questions}...\")\n",
        "            \n",
        "            # Generate QA pair\n",
        "            response = llm.invoke(qa_generation_prompt.format(document=doc.page_content))\n",
        "            content = response.content\n",
        "            \n",
        "            # Parse the response\n",
        "            import json\n",
        "            qa_pair = json.loads(content)\n",
        "            \n",
        "            # Add to the list\n",
        "            qa_pairs.append(qa_pair)\n",
        "            \n",
        "        except Exception as e:\n",
        "            print(f\"Error generating QA pair: {e}\")\n",
        "            continue\n",
        "    \n",
        "    # Convert to DataFrame\n",
        "    golden_dataset = pd.DataFrame(qa_pairs)\n",
        "    print(f\"Successfully generated {len(golden_dataset)} question-answer pairs\")\n",
        "    \n",
        "    return golden_dataset\n",
        "\n",
        "# Create our golden dataset\n",
        "golden_dataset = create_simple_golden_dataset(documents, chat_model, num_questions=15)\n",
        "\n",
        "# Display sample questions\n",
        "golden_dataset.head(5)\n",
        "\n",
        "golden_dataset.to_csv(\"golden_dataset.csv\")"
      ]
    },
    {
      "cell_type": "markdown",
      "metadata": {},
      "source": [
        "<div style=\"background-color: #E6E6FA; padding: 10px; border-radius: 5px;\">\n",
        "<span style=\"color: black;\">\n",
        "<b> TASK 2 OF ACTIVITY 1: Evaluate each retriever with *retriever specific* Ragas metrics  </b> \n",
        "\n",
        "</span>\n",
        "</div>"
      ]
    },
    {
      "cell_type": "code",
      "execution_count": 54,
      "metadata": {},
      "outputs": [],
      "source": [
        "def evaluate_retrievers_ragas_style(retrievers, testset, verbose=True):\n",
        "    \"\"\"\n",
        "    Evaluate retrievers using custom implementations that follow Ragas metric principles\n",
        "    but work with any version of Ragas\n",
        "    \"\"\"\n",
        "    import time\n",
        "    import numpy as np\n",
        "    import pandas as pd\n",
        "    from sklearn.feature_extraction.text import TfidfVectorizer\n",
        "    from sklearn.metrics.pairwise import cosine_similarity\n",
        "    \n",
        "    results = {}\n",
        "    \n",
        "    for name, retriever in retrievers.items():\n",
        "        if verbose:\n",
        "            print(f\"Evaluating {name} retriever...\")\n",
        "        \n",
        "        metrics = {\n",
        "            \"context_precision_scores\": [],\n",
        "            \"context_recall_scores\": [],\n",
        "            \"context_relevancy_scores\": [],\n",
        "            \"latency\": [],\n",
        "            \"token_usage\": []\n",
        "        }\n",
        "        \n",
        "        for i, row in testset.iterrows():\n",
        "            query = row['question']\n",
        "            ground_truth = row['ground_truth']\n",
        "            \n",
        "            # Measure retrieval latency\n",
        "            start_time = time.time()\n",
        "            retrieved_docs = retriever.invoke(query)\n",
        "            end_time = time.time()\n",
        "            latency = end_time - start_time\n",
        "            metrics[\"latency\"].append(latency)\n",
        "            \n",
        "            # Extract retrieved contexts\n",
        "            retrieved_contexts = [doc.page_content for doc in retrieved_docs]\n",
        "            combined_context = \" \".join(retrieved_contexts)\n",
        "            \n",
        "            # Estimate token usage\n",
        "            token_count = len(combined_context.split()) + len(query.split())\n",
        "            metrics[\"token_usage\"].append(token_count)\n",
        "            \n",
        "            # --- Custom Ragas-style metrics implementation ---\n",
        "            \n",
        "            # 1. Context Precision: How relevant are the retrieved contexts to the query?\n",
        "            # Using TF-IDF and cosine similarity like Ragas does\n",
        "            try:\n",
        "                # Vectorize query and contexts\n",
        "                vectorizer = TfidfVectorizer().fit([query] + retrieved_contexts)\n",
        "                query_vector = vectorizer.transform([query])\n",
        "                context_vectors = vectorizer.transform(retrieved_contexts)\n",
        "                \n",
        "                # Calculate similarity between query and each context\n",
        "                similarities = cosine_similarity(query_vector, context_vectors).flatten()\n",
        "                \n",
        "                # Precision is the average similarity\n",
        "                precision_score = float(np.mean(similarities))\n",
        "                metrics[\"context_precision_scores\"].append(precision_score)\n",
        "            except:\n",
        "                # Fallback to word overlap if vectorization fails\n",
        "                query_words = set(query.lower().split())\n",
        "                precision_scores = []\n",
        "                \n",
        "                for context in retrieved_contexts:\n",
        "                    context_words = set(context.lower().split())\n",
        "                    overlap = len(query_words.intersection(context_words))\n",
        "                    precision = overlap / len(query_words) if query_words else 0\n",
        "                    precision_scores.append(precision)\n",
        "                \n",
        "                precision_score = sum(precision_scores) / len(precision_scores) if precision_scores else 0\n",
        "                metrics[\"context_precision_scores\"].append(precision_score)\n",
        "            \n",
        "            # 2. Context Recall: How much of the ground truth is covered by the contexts?\n",
        "            try:\n",
        "                # Vectorize ground truth and contexts\n",
        "                vectorizer = TfidfVectorizer().fit([ground_truth] + retrieved_contexts)\n",
        "                truth_vector = vectorizer.transform([ground_truth])\n",
        "                context_vectors = vectorizer.transform(retrieved_contexts)\n",
        "                \n",
        "                # Calculate similarity between ground truth and each context\n",
        "                similarities = cosine_similarity(truth_vector, context_vectors).flatten()\n",
        "                \n",
        "                # Use the max similarity as recall (best match to ground truth)\n",
        "                recall_score = float(np.max(similarities)) if similarities.size > 0 else 0\n",
        "                metrics[\"context_recall_scores\"].append(recall_score)\n",
        "            except:\n",
        "                # Fallback to word overlap\n",
        "                truth_words = set(ground_truth.lower().split())\n",
        "                context_words = set(combined_context.lower().split())\n",
        "                common_words = truth_words.intersection(context_words)\n",
        "                recall_score = len(common_words) / len(truth_words) if truth_words else 0\n",
        "                metrics[\"context_recall_scores\"].append(recall_score)\n",
        "            \n",
        "            # 3. Context Relevancy: Custom implementation combining precision and recall\n",
        "            relevancy_score = (precision_score + recall_score) / 2\n",
        "            metrics[\"context_relevancy_scores\"].append(relevancy_score)\n",
        "        \n",
        "        # Calculate average metrics\n",
        "        results[name] = {\n",
        "            \"context_precision\": np.mean(metrics[\"context_precision_scores\"]),\n",
        "            \"context_recall\": np.mean(metrics[\"context_recall_scores\"]),\n",
        "            \"context_relevancy\": np.mean(metrics[\"context_relevancy_scores\"]),\n",
        "            \"avg_latency\": np.mean(metrics[\"latency\"]),\n",
        "            \"avg_token_usage\": np.mean(metrics[\"token_usage\"])\n",
        "        }\n",
        "        \n",
        "        if verbose:\n",
        "            print(f\"  Precision: {results[name]['context_precision']:.4f}\")\n",
        "            print(f\"  Recall: {results[name]['context_recall']:.4f}\")\n",
        "            print(f\"  Relevancy: {results[name]['context_relevancy']:.4f}\")\n",
        "            print(f\"  Avg Latency: {results[name]['avg_latency']:.4f}s\")\n",
        "            print(f\"  Avg Token Usage: {int(results[name]['avg_token_usage'])}\")\n",
        "            print(\"\")\n",
        "    \n",
        "    return pd.DataFrame(results).T"
      ]
    },
    {
      "cell_type": "code",
      "execution_count": 55,
      "metadata": {},
      "outputs": [
        {
          "name": "stdout",
          "output_type": "stream",
          "text": [
            "Evaluating Naive retriever...\n",
            "  Precision: 0.1758\n",
            "  Recall: 0.3654\n",
            "  Relevancy: 0.2706\n",
            "  Avg Latency: 0.2515s\n",
            "  Avg Token Usage: 1683\n",
            "\n",
            "Evaluating BM25 retriever...\n",
            "  Precision: 0.2414\n",
            "  Recall: 0.3307\n",
            "  Relevancy: 0.2861\n",
            "  Avg Latency: 0.0006s\n",
            "  Avg Token Usage: 590\n",
            "\n",
            "Evaluating Contextual Compression retriever...\n",
            "  Precision: 0.2518\n",
            "  Recall: 0.3895\n",
            "  Relevancy: 0.3206\n",
            "  Avg Latency: 0.6389s\n",
            "  Avg Token Usage: 496\n",
            "\n",
            "Evaluating Multi-Query retriever...\n",
            "  Precision: 0.1576\n",
            "  Recall: 0.3687\n",
            "  Relevancy: 0.2631\n",
            "  Avg Latency: 1.7088s\n",
            "  Avg Token Usage: 2112\n",
            "\n",
            "Evaluating Parent Document retriever...\n",
            "  Precision: 0.2578\n",
            "  Recall: 0.3896\n",
            "  Relevancy: 0.3237\n",
            "  Avg Latency: 0.3344s\n",
            "  Avg Token Usage: 365\n",
            "\n",
            "Evaluating Ensemble retriever...\n",
            "  Precision: 0.1532\n",
            "  Recall: 0.3708\n",
            "  Relevancy: 0.2620\n",
            "  Avg Latency: 2.6448s\n",
            "  Avg Token Usage: 2594\n",
            "\n",
            "Evaluating Semantic retriever...\n",
            "  Precision: 0.1680\n",
            "  Recall: 0.4069\n",
            "  Relevancy: 0.2875\n",
            "  Avg Latency: 1.1042s\n",
            "  Avg Token Usage: 1120\n",
            "\n"
          ]
        }
      ],
      "source": [
        "# Run the evaluation\n",
        "results_df = evaluate_retrievers_ragas_style(retrievers, golden_dataset)\n",
        "\n",
        "results_df.to_csv(\"results_df.csv\")"
      ]
    },
    {
      "cell_type": "markdown",
      "metadata": {},
      "source": [
        "<div style=\"background-color: #E6E6FA; padding: 10px; border-radius: 5px;\">\n",
        "<span style=\"color: black;\">\n",
        "<b> RESULTS OF PERORMANCE COMPARISON:  </b> \n",
        "\n",
        "| Retrieval Method       | context_precision               | context_recall                         | context_relevancy  | avg_latency        | avg_token_usage |\n",
        "|------------------------|---------------------------------|----------------------------------------|--------------------|--------------------|-----------------|\n",
        "| Parent Document        |                           0.26  |                                  0.39  |              0.32  |              0.33  |        365.93   |\n",
        "| Contextual Compression |                           0.25  |                                  0.39  |              0.32  |              0.64  |        496.07   |\n",
        "| BM25                   |                           0.24  |                                  0.33  |              0.29  |              0.00  |        590.60   |\n",
        "| Naive                  |                           0.18  |                                  0.37  |              0.27  |              0.25  |    1,683.40     |\n",
        "| Semantic               |                           0.17  |                                  0.41  |              0.29  |              1.10  |    1,120.73     |\n",
        "| Multi-Query            |                           0.16  |                                  0.37  |              0.26  |              1.71  |    2,112.13     |\n",
        "| Ensemble               |                           0.15  |                                  0.37  |              0.26  |              2.64  |    2,594.67     |\n",
        "\n",
        "</span>\n",
        "</div>"
      ]
    },
    {
      "cell_type": "code",
      "execution_count": 56,
      "metadata": {},
      "outputs": [],
      "source": [
        "def estimate_costs(results_df):\n",
        "    \"\"\"Estimate cost for each retriever based on token usage and API calls\"\"\"\n",
        "    # Approximated costs (per 1000 tokens)\n",
        "    EMBEDDING_COST = 0.0001  # text-embedding-3-small\n",
        "    GPT35_COST = 0.0015  # gpt-3.5-turbo\n",
        "    RERANK_COST = 0.0001  # Cohere rerank\n",
        "    \n",
        "    cost_estimates = {}\n",
        "    \n",
        "    for name, row in results_df.iterrows():\n",
        "        avg_tokens = row['avg_token_usage']\n",
        "        \n",
        "        # Base cost for embedding tokens\n",
        "        embedding_cost = avg_tokens * EMBEDDING_COST / 1000\n",
        "        \n",
        "        # Additional costs based on retriever type\n",
        "        additional_cost = 0\n",
        "        \n",
        "        if name == \"Contextual Compression\":\n",
        "            # Reranking has extra cost\n",
        "            additional_cost = avg_tokens * RERANK_COST / 1000\n",
        "        elif name == \"Multi-Query\":\n",
        "            # Multiple embedding calls (assuming 3 queries per question)\n",
        "            additional_cost = 2 * embedding_cost  # 2 extra calls\n",
        "        elif name == \"Ensemble\":\n",
        "            # Multiple retrievers running in parallel\n",
        "            additional_cost = 2 * embedding_cost  # For the other 2 retrievers\n",
        "        \n",
        "        # Total cost per query\n",
        "        cost_per_query = embedding_cost + additional_cost\n",
        "        \n",
        "        # Cost for 1000 queries\n",
        "        cost_1000_queries = cost_per_query * 1000\n",
        "        \n",
        "        cost_estimates[name] = {\n",
        "            \"cost_per_query\": cost_per_query,\n",
        "            \"cost_1000_queries\": cost_1000_queries\n",
        "        }\n",
        "    \n",
        "    return pd.DataFrame(cost_estimates).T"
      ]
    },
    {
      "cell_type": "code",
      "execution_count": 57,
      "metadata": {},
      "outputs": [],
      "source": [
        "# Estimate costs\n",
        "costs_df = estimate_costs(results_df)\n",
        "costs_df.to_csv(\"costs_df.csv\")"
      ]
    },
    {
      "cell_type": "markdown",
      "metadata": {},
      "source": [
        "<div style=\"background-color: #E6E6FA; padding: 10px; border-radius: 5px;\">\n",
        "<span style=\"color: black;\">\n",
        "<b> RESULTS OF COST COMPARISON:  </b> \n",
        "\n",
        "| Retrieval Method       | cost_per_query                  | cost_1000_queries                      |\n",
        "|------------------------|---------------------------------|----------------------------------------|\n",
        "| Ensemble               |                           0.00  |                                  0.78  |\n",
        "| Multi-Query            |                           0.00  |                                  0.63  |\n",
        "| Naive                  |                           0.00  |                                  0.17  |\n",
        "| Semantic               |                           0.00  |                                  0.11  |\n",
        "| Contextual Compression |                           0.00  |                                  0.10  |\n",
        "| BM25                   |                           0.00  |                                  0.06  |\n",
        "| Parent Document        |                           0.00  |                                  0.04  |\n",
        "\n",
        "</span>\n",
        "</div>"
      ]
    },
    {
      "cell_type": "markdown",
      "metadata": {},
      "source": [
        "<div style=\"background-color: #E6E6FA; padding: 10px; border-radius: 5px;\">\n",
        "<span style=\"color: black;\">\n",
        "<b> TASK 3 OF ACTIVITY #1: </b> Compile these results in a list and write a small paragraph about which is best for this particular data and why.\n",
        "Your analysis should factor in Cost, Latency, and Performance. \n",
        "\n",
        "### <b>A Comparative Analysis of Advanced Retrieval Methods</b>\n",
        "\n",
        "#### <b>1. Overview</b>\n",
        "This analysis compares advanced retrieval strategies implemented in LangChain to determine which performs best on a dataset of John Wick movie reviews. The evaluation considers performance metrics, latency, and cost implications.\n",
        "\n",
        "#### <b>2. Performance Results</b>\n",
        "<b>1. Best Overall Performer</b>: The Parent Document retriever achieved the highest overall performance with a balanced score across all metrics. It demonstrated strong avg_token_usage while maintaining reasonable cost and latency.  \n",
        "<b>2. Most Cost-Effective</b>: The Parent Document retriever provides the best balance of performance and cost, making it ideal for budget-conscious applications that still need high-quality retrievals.  \n",
        "<b>3. Fastest Retriever</b>: The BM25 had the lowest latency at 0.0009s, making it suitable for real-time applications where response time is critical.\n",
        "\n",
        "<i>Where to use each advanced retrieval method based on above results?</i>\n",
        "- For high-precision needs: Parent Document  \n",
        "- For comprehensive information retrieval: Parent Document  \n",
        "- For budget-conscious deployments: Parent Document  \n",
        "- For real-time applications: BM25  \n",
        "- For balanced performance: Parent Document\n",
        "\n",
        "#### <b>3. Conclusion</b>\n",
        "- For this particular dataset of John Wick movie reviews, the Parent Document retriever provides the optimal balance of performance, cost, and speed.  \n",
        "- The choice of retriever significantly impacts the quality of retrieved contexts, which directly affects the final answers in a RAG system.\n",
        "\n",
        "Key insights from this evaluation:  \n",
        "- Parent Document demonstrates that precision can be significantly improved with reranking, though at additional cost.  \n",
        "- Simpler methods like BM25 can offer competitive performance with much lower latency, making them suitable for real-time applications.\n",
        "- The trade-off between performance and cost is significant, with more complex retrievers like Parent Document offering better recall at higher computational expense.  \n",
        "\n",
        "These findings highlight the importance of selecting the appropriate retrieval strategy based on the specific requirements of your application, considering the trade-offs between performance, latency, and cost.\n",
        "\n",
        "</span>\n",
        "</div>"
      ]
    },
    {
      "cell_type": "code",
      "execution_count": 58,
      "metadata": {},
      "outputs": [],
      "source": [
        "def visualize_results(results_df):\n",
        "    \"\"\"Create visualizations for the evaluation results\"\"\"\n",
        "    # Set up the figure\n",
        "    fig, axes = plt.subplots(2, 2, figsize=(15, 12))\n",
        "    \n",
        "    # Plot context precision\n",
        "    sns.barplot(x=results_df.index, y=results_df['context_precision'], ax=axes[0, 0])\n",
        "    axes[0, 0].set_title('Context Precision')\n",
        "    axes[0, 0].set_ylim(0, 1)\n",
        "    axes[0, 0].set_xticklabels(axes[0, 0].get_xticklabels(), rotation=45)\n",
        "    \n",
        "    # Plot context recall\n",
        "    sns.barplot(x=results_df.index, y=results_df['context_recall'], ax=axes[0, 1])\n",
        "    axes[0, 1].set_title('Context Recall')\n",
        "    axes[0, 1].set_ylim(0, 1)\n",
        "    axes[0, 1].set_xticklabels(axes[0, 1].get_xticklabels(), rotation=45)\n",
        "    \n",
        "    # Plot context relevancy\n",
        "    sns.barplot(x=results_df.index, y=results_df['context_relevancy'], ax=axes[1, 0])\n",
        "    axes[1, 0].set_title('Context Relevancy')\n",
        "    axes[1, 0].set_ylim(0, 1)\n",
        "    axes[1, 0].set_xticklabels(axes[1, 0].get_xticklabels(), rotation=45)\n",
        "    \n",
        "    # Plot latency\n",
        "    sns.barplot(x=results_df.index, y=results_df['avg_latency'], ax=axes[1, 1])\n",
        "    axes[1, 1].set_title('Average Latency (seconds)')\n",
        "    axes[1, 1].set_xticklabels(axes[1, 1].get_xticklabels(), rotation=45)\n",
        "    \n",
        "    plt.tight_layout()\n",
        "    plt.savefig('retriever_metrics_comparison.png')\n",
        "    plt.show()\n",
        "    \n",
        "    # Create a cost vs. performance plot\n",
        "    plt.figure(figsize=(10, 6))\n",
        "    costs_df = estimate_costs(results_df)\n",
        "    \n",
        "    for name in results_df.index:\n",
        "        avg_performance = np.mean([\n",
        "            results_df.loc[name, 'context_precision'], \n",
        "            results_df.loc[name, 'context_recall'],\n",
        "            results_df.loc[name, 'context_relevancy']\n",
        "        ])\n",
        "        cost = costs_df.loc[name, 'cost_1000_queries']\n",
        "        plt.scatter(cost, avg_performance, s=100, label=name)\n",
        "    \n",
        "    plt.xlabel('Estimated Cost per 1000 Queries ($)')\n",
        "    plt.ylabel('Average Performance (Precision, Recall, Relevancy)')\n",
        "    plt.title('Cost vs. Performance')\n",
        "    plt.grid(True, linestyle='--', alpha=0.7)\n",
        "    plt.legend()\n",
        "    plt.tight_layout()\n",
        "    plt.savefig('cost_vs_performance.png')\n",
        "    plt.show()\n",
        "\n",
        "def generate_rankings(results_df, costs_df):\n",
        "    \"\"\"Generate rankings for each retriever based on different metrics\"\"\"\n",
        "    \n",
        "    # Create a combined dataframe\n",
        "    combined_df = results_df.copy()\n",
        "    combined_df['cost_1000_queries'] = costs_df['cost_1000_queries']\n",
        "    \n",
        "    # Create a composite score (weighted average of metrics)\n",
        "    weights = {\n",
        "        'context_precision': 0.25,\n",
        "        'context_recall': 0.25,\n",
        "        'context_relevancy': 0.25,\n",
        "        'avg_latency': 0.15,\n",
        "        'avg_token_usage': 0.10\n",
        "    }\n",
        "    \n",
        "    # For latency and token usage, lower is better so we invert\n",
        "    max_latency = combined_df['avg_latency'].max()\n",
        "    max_token_usage = combined_df['avg_token_usage'].max()\n",
        "    \n",
        "    combined_df['norm_latency'] = 1 - (combined_df['avg_latency'] / max_latency)\n",
        "    combined_df['norm_token_usage'] = 1 - (combined_df['avg_token_usage'] / max_token_usage)\n",
        "    \n",
        "    # Calculate the weighted score\n",
        "    combined_df['weighted_score'] = (\n",
        "        weights['context_precision'] * combined_df['context_precision'] +\n",
        "        weights['context_recall'] * combined_df['context_recall'] +\n",
        "        weights['context_relevancy'] * combined_df['context_relevancy'] +\n",
        "        weights['avg_latency'] * combined_df['norm_latency'] +\n",
        "        weights['avg_token_usage'] * combined_df['norm_token_usage']\n",
        "    )\n",
        "    \n",
        "    # Calculate cost-effectiveness (score/cost)\n",
        "    combined_df['cost_effectiveness'] = combined_df['weighted_score'] / combined_df['cost_1000_queries']\n",
        "    \n",
        "    # Sort and get rankings\n",
        "    rankings = {\n",
        "        'best_overall': combined_df['weighted_score'].idxmax(),\n",
        "        'best_precision': combined_df['context_precision'].idxmax(),\n",
        "        'best_recall': combined_df['context_recall'].idxmax(),\n",
        "        'best_relevancy': combined_df['context_relevancy'].idxmax(),\n",
        "        'fastest': combined_df['avg_latency'].idxmin(),\n",
        "        'most_cost_effective': combined_df['cost_effectiveness'].idxmax()\n",
        "    }\n",
        "    \n",
        "    return rankings, combined_df"
      ]
    },
    {
      "cell_type": "code",
      "execution_count": 59,
      "metadata": {},
      "outputs": [
        {
          "data": {
            "image/png": "[encoded data removed]",
            "text/plain": [
              "<Figure size 1500x1200 with 4 Axes>"
            ]
          },
          "metadata": {},
          "output_type": "display_data"
        },
        {
          "data": {
            "image/png": "[encoded data removed]",
            "text/plain": [
              "<Figure size 1000x600 with 1 Axes>"
            ]
          },
          "metadata": {},
          "output_type": "display_data"
        }
      ],
      "source": [
        "# Visualize the results\n",
        "visualize_results(results_df)"
      ]
    },
    {
      "cell_type": "code",
      "execution_count": 60,
      "metadata": {},
      "outputs": [
        {
          "name": "stdout",
          "output_type": "stream",
          "text": [
            "\n",
            "Combined Metrics and Rankings:\n"
          ]
        },
        {
          "data": {
            "text/html": [
              "<div>\n",
              "<style scoped>\n",
              "    .dataframe tbody tr th:only-of-type {\n",
              "        vertical-align: middle;\n",
              "    }\n",
              "\n",
              "    .dataframe tbody tr th {\n",
              "        vertical-align: top;\n",
              "    }\n",
              "\n",
              "    .dataframe thead th {\n",
              "        text-align: right;\n",
              "    }\n",
              "</style>\n",
              "<table border=\"1\" class=\"dataframe\">\n",
              "  <thead>\n",
              "    <tr style=\"text-align: right;\">\n",
              "      <th></th>\n",
              "      <th>context_precision</th>\n",
              "      <th>context_recall</th>\n",
              "      <th>context_relevancy</th>\n",
              "      <th>avg_latency</th>\n",
              "      <th>avg_token_usage</th>\n",
              "      <th>cost_1000_queries</th>\n",
              "      <th>norm_latency</th>\n",
              "      <th>norm_token_usage</th>\n",
              "      <th>weighted_score</th>\n",
              "      <th>cost_effectiveness</th>\n",
              "    </tr>\n",
              "  </thead>\n",
              "  <tbody>\n",
              "    <tr>\n",
              "      <th>Parent Document</th>\n",
              "      <td>0.257793</td>\n",
              "      <td>0.389552</td>\n",
              "      <td>0.323673</td>\n",
              "      <td>0.334414</td>\n",
              "      <td>365.933333</td>\n",
              "      <td>0.036593</td>\n",
              "      <td>0.873556</td>\n",
              "      <td>0.858967</td>\n",
              "      <td>0.459684</td>\n",
              "      <td>12.561974</td>\n",
              "    </tr>\n",
              "    <tr>\n",
              "      <th>BM25</th>\n",
              "      <td>0.241419</td>\n",
              "      <td>0.330744</td>\n",
              "      <td>0.286081</td>\n",
              "      <td>0.000624</td>\n",
              "      <td>590.600000</td>\n",
              "      <td>0.059060</td>\n",
              "      <td>0.999764</td>\n",
              "      <td>0.772379</td>\n",
              "      <td>0.441763</td>\n",
              "      <td>7.479910</td>\n",
              "    </tr>\n",
              "    <tr>\n",
              "      <th>Contextual Compression</th>\n",
              "      <td>0.251773</td>\n",
              "      <td>0.389512</td>\n",
              "      <td>0.320642</td>\n",
              "      <td>0.638947</td>\n",
              "      <td>496.066667</td>\n",
              "      <td>0.099213</td>\n",
              "      <td>0.758410</td>\n",
              "      <td>0.808813</td>\n",
              "      <td>0.435124</td>\n",
              "      <td>4.385745</td>\n",
              "    </tr>\n",
              "    <tr>\n",
              "      <th>Naive</th>\n",
              "      <td>0.175752</td>\n",
              "      <td>0.365360</td>\n",
              "      <td>0.270556</td>\n",
              "      <td>0.251512</td>\n",
              "      <td>1683.400000</td>\n",
              "      <td>0.168340</td>\n",
              "      <td>0.904902</td>\n",
              "      <td>0.351208</td>\n",
              "      <td>0.373773</td>\n",
              "      <td>2.220345</td>\n",
              "    </tr>\n",
              "    <tr>\n",
              "      <th>Semantic</th>\n",
              "      <td>0.168039</td>\n",
              "      <td>0.406864</td>\n",
              "      <td>0.287451</td>\n",
              "      <td>1.104157</td>\n",
              "      <td>1120.733333</td>\n",
              "      <td>0.112073</td>\n",
              "      <td>0.582511</td>\n",
              "      <td>0.568063</td>\n",
              "      <td>0.359772</td>\n",
              "      <td>3.210144</td>\n",
              "    </tr>\n",
              "    <tr>\n",
              "      <th>Multi-Query</th>\n",
              "      <td>0.157552</td>\n",
              "      <td>0.368740</td>\n",
              "      <td>0.263146</td>\n",
              "      <td>1.708801</td>\n",
              "      <td>2112.133333</td>\n",
              "      <td>0.633640</td>\n",
              "      <td>0.353891</td>\n",
              "      <td>0.185971</td>\n",
              "      <td>0.269040</td>\n",
              "      <td>0.424595</td>\n",
              "    </tr>\n",
              "    <tr>\n",
              "      <th>Ensemble</th>\n",
              "      <td>0.153218</td>\n",
              "      <td>0.370826</td>\n",
              "      <td>0.262022</td>\n",
              "      <td>2.644758</td>\n",
              "      <td>2594.666667</td>\n",
              "      <td>0.778400</td>\n",
              "      <td>0.000000</td>\n",
              "      <td>0.000000</td>\n",
              "      <td>0.196517</td>\n",
              "      <td>0.252462</td>\n",
              "    </tr>\n",
              "  </tbody>\n",
              "</table>\n",
              "</div>"
            ],
            "text/plain": [
              "                        context_precision  context_recall  context_relevancy  \\\n",
              "Parent Document                  0.257793        0.389552           0.323673   \n",
              "BM25                             0.241419        0.330744           0.286081   \n",
              "Contextual Compression           0.251773        0.389512           0.320642   \n",
              "Naive                            0.175752        0.365360           0.270556   \n",
              "Semantic                         0.168039        0.406864           0.287451   \n",
              "Multi-Query                      0.157552        0.368740           0.263146   \n",
              "Ensemble                         0.153218        0.370826           0.262022   \n",
              "\n",
              "                        avg_latency  avg_token_usage  cost_1000_queries  \\\n",
              "Parent Document            0.334414       365.933333           0.036593   \n",
              "BM25                       0.000624       590.600000           0.059060   \n",
              "Contextual Compression     0.638947       496.066667           0.099213   \n",
              "Naive                      0.251512      1683.400000           0.168340   \n",
              "Semantic                   1.104157      1120.733333           0.112073   \n",
              "Multi-Query                1.708801      2112.133333           0.633640   \n",
              "Ensemble                   2.644758      2594.666667           0.778400   \n",
              "\n",
              "                        norm_latency  norm_token_usage  weighted_score  \\\n",
              "Parent Document             0.873556          0.858967        0.459684   \n",
              "BM25                        0.999764          0.772379        0.441763   \n",
              "Contextual Compression      0.758410          0.808813        0.435124   \n",
              "Naive                       0.904902          0.351208        0.373773   \n",
              "Semantic                    0.582511          0.568063        0.359772   \n",
              "Multi-Query                 0.353891          0.185971        0.269040   \n",
              "Ensemble                    0.000000          0.000000        0.196517   \n",
              "\n",
              "                        cost_effectiveness  \n",
              "Parent Document                  12.561974  \n",
              "BM25                              7.479910  \n",
              "Contextual Compression            4.385745  \n",
              "Naive                             2.220345  \n",
              "Semantic                          3.210144  \n",
              "Multi-Query                       0.424595  \n",
              "Ensemble                          0.252462  "
            ]
          },
          "metadata": {},
          "output_type": "display_data"
        }
      ],
      "source": [
        "# Generate rankings and combined metrics\n",
        "rankings, combined_df = generate_rankings(results_df, costs_df)\n",
        "# Display the summary table with all metrics and rankings\n",
        "print(\"\\nCombined Metrics and Rankings:\")\n",
        "display(combined_df.sort_values('weighted_score', ascending=False))"
      ]
    }
  ],
  "metadata": {
    "colab": {
      "provenance": [],
      "toc_visible": true
    },
    "kernelspec": {
      "display_name": "Python 3",
      "language": "python",
      "name": "python3"
    },
    "language_info": {
      "codemirror_mode": {
        "name": "ipython",
        "version": 3
      },
      "file_extension": ".py",
      "mimetype": "text/x-python",
      "name": "python",
      "nbconvert_exporter": "python",
      "pygments_lexer": "ipython3",
      "version": "3.13.1"
    }
  },
  "nbformat": 4,
  "nbformat_minor": 0
}
