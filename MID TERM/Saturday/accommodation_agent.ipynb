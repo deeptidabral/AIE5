{
 "cells": [
  {
   "cell_type": "code",
   "execution_count": 8,
   "metadata": {},
   "outputs": [],
   "source": [
    "# %run \"wall_of_imports.ipynb\"\n",
    "# %run \"agent_state.ipynb\""
   ]
  },
  {
   "cell_type": "code",
   "execution_count": 9,
   "metadata": {},
   "outputs": [],
   "source": [
    "def accommodation_agent(state: AgentState) -> dict:\n",
    "    \"\"\"Provides hotel and accommodation recommendations.\"\"\"\n",
    "    try:\n",
    "        # Extract accommodation preferences\n",
    "        extraction_prompt = ChatPromptTemplate.from_messages([\n",
    "            (\"system\", \"\"\"Extract accommodation preferences from the user's query.\n",
    "            Return a JSON object with these fields (leave empty if not mentioned):\n",
    "            {{\n",
    "                \"location\": \"city or specific area\",\n",
    "                \"check_in_date\": \"in YYYY-MM-DD format\",\n",
    "                \"check_out_date\": \"in YYYY-MM-DD format\",\n",
    "                \"guests\": \"number of guests\",\n",
    "                \"rooms\": \"number of rooms\",\n",
    "                \"budget_range\": \"price range per night\"\n",
    "            }}\n",
    "            \"\"\"),  # Note the double curly braces\n",
    "            (\"human\", \"{query}\")\n",
    "        ])\n",
    "        \n",
    "        extraction_chain = extraction_prompt | llm | StrOutputParser()\n",
    "        try:\n",
    "            accommodation_params = json.loads(extraction_chain.invoke({\"query\": state.query}))\n",
    "            state.context.update({\"accommodation_params\": accommodation_params})\n",
    "        except json.JSONDecodeError:\n",
    "            state.context.update({\"accommodation_params\": {}})\n",
    "        \n",
    "        # Get accommodation information using RAG\n",
    "        rag_chain = setup_rag_chain()\n",
    "        retrieval_result = rag_chain.invoke({\"query\": f\"hotels in {state.context.get('accommodation_params', {}).get('location', '')}\"})\n",
    "        \n",
    "        # Generate response based on accommodation parameters and retrieved information\n",
    "        accommodation_prompt = ChatPromptTemplate.from_messages([\n",
    "            (\"system\", \"\"\"You are a hotel and accommodation expert. Provide detailed recommendations\n",
    "            based on the user's preferences and the retrieved accommodation data. Include:\n",
    "            \n",
    "            - Suitable hotel/accommodation options\n",
    "            - Price ranges and value considerations\n",
    "            - Location benefits and proximity to attractions\n",
    "            - Amenities and facilities\n",
    "            - Guest ratings and reviews summary\n",
    "            - Booking tips and optimal timing\n",
    "            \n",
    "            If specific accommodation data isn't available, provide general advice about\n",
    "            accommodations in the requested location, typical options at different price points,\n",
    "            and best areas to stay.\n",
    "            \n",
    "            Retrieved accommodation information:\n",
    "            {context}\n",
    "            \n",
    "            Extracted accommodation parameters:\n",
    "            {accommodation_params}\n",
    "            \"\"\"),\n",
    "            (\"human\", \"{query}\")\n",
    "        ])\n",
    "        \n",
    "        accommodation_chain = accommodation_prompt | llm | StrOutputParser()\n",
    "        response = accommodation_chain.invoke({\n",
    "            \"input\": state.query,\n",
    "            \"context\": retrieval_result.get(\"context\", \"\"),\n",
    "            \"accommodation_params\": json.dumps(state.context.get(\"accommodation_params\", {}), indent=2)\n",
    "        })\n",
    "        \n",
    "        return {\"agent_response\": response}\n",
    "        \n",
    "    except Exception as e:\n",
    "        return {\"error\": str(e)}"
   ]
  }
 ],
 "metadata": {
  "kernelspec": {
   "display_name": "Python 3",
   "language": "python",
   "name": "python3"
  },
  "language_info": {
   "codemirror_mode": {
    "name": "ipython",
    "version": 3
   },
   "file_extension": ".py",
   "mimetype": "text/x-python",
   "name": "python",
   "nbconvert_exporter": "python",
   "pygments_lexer": "ipython3",
   "version": "3.13.1"
  }
 },
 "nbformat": 4,
 "nbformat_minor": 2
}
