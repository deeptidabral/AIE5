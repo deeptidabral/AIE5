{
 "cells": [
  {
   "cell_type": "code",
   "execution_count": 3,
   "metadata": {},
   "outputs": [],
   "source": [
    "%run \"wall_of_imports.ipynb\"\n",
    "%run \"agent_state.ipynb\""
   ]
  },
  {
   "cell_type": "code",
   "execution_count": 4,
   "metadata": {},
   "outputs": [],
   "source": [
    "def information_agent(state: AgentState) -> dict:\n",
    "    \"\"\"Answers general travel questions using RAG.\"\"\"\n",
    "    try:\n",
    "        # This agent directly uses the RAG chain to provide travel information\n",
    "        rag_chain = setup_rag_chain()\n",
    "        result = rag_chain.invoke({\"input\": state.query})  # Changed from query to input\n",
    "        \n",
    "        # Enhance RAG response with additional context if needed\n",
    "        enhancement_prompt = ChatPromptTemplate.from_messages([\n",
    "            (\"system\", \"\"\"You are a knowledgeable travel information specialist. Review and enhance\n",
    "            the retrieved information to provide a comprehensive, accurate response to the user's query.\n",
    "            \n",
    "            If the retrieved information is incomplete, add relevant details from your knowledge while\n",
    "            clearly distinguishing between retrieved facts and general knowledge.\n",
    "            \n",
    "            Focus on providing practical, useful information that directly addresses the user's needs.\n",
    "            Include cultural insights, traveler tips, and seasonal considerations when relevant.\n",
    "            \n",
    "            Retrieved information:\n",
    "            {rag_response}\n",
    "            \"\"\"),\n",
    "            (\"human\", \"{input}\")  # Changed from query to input\n",
    "        ])\n",
    "        \n",
    "        enhancement_chain = enhancement_prompt | llm | StrOutputParser()\n",
    "        enhanced_response = enhancement_chain.invoke({\n",
    "            \"input\": state.query,\n",
    "            \"rag_response\": result.get(\"answer\", \"\")\n",
    "        })\n",
    "        \n",
    "        return {\"agent_response\": enhanced_response}\n",
    "        \n",
    "    except Exception as e:\n",
    "        return {\"error\": str(e)}"
   ]
  }
 ],
 "metadata": {
  "kernelspec": {
   "display_name": "Python 3",
   "language": "python",
   "name": "python3"
  },
  "language_info": {
   "codemirror_mode": {
    "name": "ipython",
    "version": 3
   },
   "file_extension": ".py",
   "mimetype": "text/x-python",
   "name": "python",
   "nbconvert_exporter": "python",
   "pygments_lexer": "ipython3",
   "version": "3.13.1"
  }
 },
 "nbformat": 4,
 "nbformat_minor": 2
}
