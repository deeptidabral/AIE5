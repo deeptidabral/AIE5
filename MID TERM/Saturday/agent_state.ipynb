{
 "cells": [
  {
   "cell_type": "code",
   "execution_count": 11,
   "metadata": {},
   "outputs": [
    {
     "name": "stdout",
     "output_type": "stream",
     "text": [
      "File exists: True, Size: 3219 bytes\n"
     ]
    }
   ],
   "source": []
  },
  {
   "cell_type": "code",
   "execution_count": 12,
   "metadata": {},
   "outputs": [],
   "source": [
    "import import_ipynb\n",
    "from wall_of_imports import *"
   ]
  },
  {
   "cell_type": "code",
   "execution_count": 13,
   "metadata": {},
   "outputs": [],
   "source": [
    "# %run \"wall_of_imports.ipynb\""
   ]
  },
  {
   "cell_type": "code",
   "execution_count": 14,
   "metadata": {},
   "outputs": [],
   "source": [
    "## Step 2: Building the Multi-Agent System with LangGraph\n",
    "\n",
    "# Now, let's build our multi-agent system using LangGraph. We'll create several specialized agents:\n",
    "\n",
    "# 1. **Router Agent**: Determines which specialized agent should handle the query\n",
    "# 2. **Itinerary Agent**: Creates customized travel itineraries\n",
    "# 3. **Flight Agent**: Handles flight-related questions and searches\n",
    "# 4. **Accommodation Agent**: Provides hotel recommendations\n",
    "# 5. **Information Agent**: Answers general travel questions using RAG\n",
    "\n",
    "### 1. Define Agent States and Workflows\n",
    "\n",
    "# Define the state for our agent system\n",
    "\n",
    "# This class defines a state management system for a conversational AI agent, specifically designed for a travel assistant. \n",
    "# It uses Pydantic for data validation and LangChain for message handling. The state tracks various aspects \n",
    "# of the conversation including the user's query, conversation history, agent responses, and any errors that occur.\n",
    "\n",
    "class AgentState(BaseModel):\n",
    "    \"\"\"State for the travel assistant workflow.\"\"\"\n",
    "\n",
    "    # Defines a class that inherits from BaseModel to manage agent state\n",
    "    query: str                                                # Stores the user's input query as a string\n",
    "    chat_history: List[Any] = Field(default_factory=list)     # Stores conversation history as a list, initialized as empty\n",
    "    agent_executor: Optional[str] = None                      # Stores the name/type of agent executor being used, can be None\n",
    "    agent_response: Optional[str] = None                      # Stores the agent's response, can be None\n",
    "    final_response: Optional[str] = None                      # Stores the final processed response, can be None\n",
    "    context: Dict[str, Any] = Field(default_factory=dict)     # Stores contextual information as a dictionary, initialized empty\n",
    "    error: Optional[str] = None                               # Stores error messages if any occur, can be None\n",
    "    messages: List[BaseMessage] = Field(default_factory=list) # Stores LangChain messages, initialized as empty list\n",
    "    \n",
    "    def __repr__(self):\n",
    "         # Defines string representation of the AgentState object\n",
    "        return f\"AgentState(query={self.query}, agent_executor={self.agent_executor})\"\n",
    "        \n",
    "    def to_dict(self):\n",
    "        \"\"\"Convert state to dictionary for LangGraph compatibility\"\"\"\n",
    "        # Method to convert the state object to a dictionary\n",
    "        return {\n",
    "            \"query\": self.query,\n",
    "            \"chat_history\": self.chat_history,\n",
    "            \"agent_executor\": self.agent_executor,\n",
    "            \"agent_response\": self.agent_response,\n",
    "            \"final_response\": self.final_response,\n",
    "            \"context\": self.context,\n",
    "            \"error\": self.error,\n",
    "            \"messages\": self.messages\n",
    "        }    "
   ]
  }
 ],
 "metadata": {
  "kernelspec": {
   "display_name": "Python 3",
   "language": "python",
   "name": "python3"
  },
  "language_info": {
   "codemirror_mode": {
    "name": "ipython",
    "version": 3
   },
   "file_extension": ".py",
   "mimetype": "text/x-python",
   "name": "python",
   "nbconvert_exporter": "python",
   "pygments_lexer": "ipython3",
   "version": "3.13.1"
  }
 },
 "nbformat": 4,
 "nbformat_minor": 2
}
