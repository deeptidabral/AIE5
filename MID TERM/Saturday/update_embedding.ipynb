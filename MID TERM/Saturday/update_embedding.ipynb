{
 "cells": [
  {
   "cell_type": "code",
   "execution_count": 1,
   "metadata": {},
   "outputs": [],
   "source": [
    "from langchain_core.embeddings import Embeddings\n",
    "from langchain.vectorstores import FAISS\n",
    "from sentence_transformers import SentenceTransformer\n",
    "from typing import List\n",
    "import pickle\n",
    "import os"
   ]
  },
  {
   "cell_type": "code",
   "execution_count": 2,
   "metadata": {},
   "outputs": [],
   "source": [
    "%run \"wall_of_imports.ipynb\"\n",
    "%run \"agent_state.ipynb\""
   ]
  },
  {
   "cell_type": "code",
   "execution_count": 3,
   "metadata": {},
   "outputs": [
    {
     "name": "stderr",
     "output_type": "stream",
     "text": [
      "C:\\Users\\dabra\\AppData\\Local\\Temp\\ipykernel_19876\\575416940.py:2: LangChainDeprecationWarning: The class `ChatOpenAI` was deprecated in LangChain 0.0.10 and will be removed in 1.0. An updated version of the class exists in the :class:`~langchain-openai package and should be used instead. To use it run `pip install -U :class:`~langchain-openai` and import as `from :class:`~langchain_openai import ChatOpenAI``.\n",
      "  llm = ChatOpenAI(model=\"gpt-4-turbo\", temperature=0.7)\n"
     ]
    }
   ],
   "source": [
    "os.environ[\"OPENAI_API_KEY\"] = getpass.getpass(\"OpenAI API Key:\")\n",
    "llm = ChatOpenAI(model=\"gpt-4-turbo\", temperature=0.7)"
   ]
  },
  {
   "cell_type": "code",
   "execution_count": 15,
   "metadata": {},
   "outputs": [],
   "source": [
    "class FineTunedTravelEmbeddings(Embeddings):\n",
    "    \"\"\"LangChain-compatible wrapper for the fine-tuned travel embeddings\"\"\"\n",
    "    \n",
    "    def __init__(self, model_path=\"travel_assistant_embeddings\", device=None):\n",
    "        \"\"\"\n",
    "        Initialize with the path to the fine-tuned model\n",
    "        \n",
    "        Args:\n",
    "            model_path: Path to the directory containing model.safetensors\n",
    "            device: Device to run the model on ('cpu' or 'cuda')\n",
    "        \"\"\"\n",
    "        self.model = SentenceTransformer(model_path, device=device)\n",
    "        print(f\"Loaded fine-tuned model from {model_path} with dimension {self.model.get_sentence_embedding_dimension()}\")\n",
    "    \n",
    "    def embed_documents(self, texts: List[str]) -> List[List[float]]:\n",
    "        \"\"\"Generate embeddings for a list of documents\"\"\"\n",
    "        embeddings = self.model.encode(\n",
    "            texts,\n",
    "            batch_size=32,\n",
    "            show_progress_bar=len(texts) > 50,\n",
    "            convert_to_numpy=True\n",
    "        )\n",
    "        return embeddings.tolist()\n",
    "    \n",
    "    def embed_query(self, text: str) -> List[float]:\n",
    "        \"\"\"Generate embedding for a query\"\"\"\n",
    "        embedding = self.model.encode(text, convert_to_numpy=True)\n",
    "        return embedding.tolist()"
   ]
  },
  {
   "cell_type": "code",
   "execution_count": 16,
   "metadata": {},
   "outputs": [],
   "source": [
    "def extract_documents_from_vector_store(vector_store_path='travel_db_faiss', docstore_path='travel_db_docstore.pkl'):\n",
    "    \"\"\"\n",
    "    Load documents directly from the FAISS vector store\n",
    "    \n",
    "    Args:\n",
    "        vector_store_path: Path to the FAISS vector store\n",
    "        embeddings: Embeddings model to use (can be None for loading)\n",
    "        \n",
    "    Returns:\n",
    "        List of document objects\n",
    "    \"\"\"\n",
    "     \n",
    "    # Load the vector store\n",
    "    vector_store = FAISS.load_local(vector_store_path, OpenAIEmbeddings(), allow_dangerous_deserialization=True)\n",
    "\n",
    "    # Load the docstore\n",
    "    with open(docstore_path, 'rb') as f:\n",
    "        vector_store.docstore = pickle.load(f)\n",
    "    \n",
    "    # Verify it loaded correctly\n",
    "    print(f\"Loaded knowledge base with {len(vector_store.index_to_docstore_id)} documents\")\n",
    "\n",
    "    # Get all documents\n",
    "    documents = []\n",
    "\n",
    "    # Access the underlying docstore\n",
    "    for _, doc_id in vector_store.index_to_docstore_id.items():\n",
    "        if doc_id in vector_store.docstore._dict:\n",
    "            doc = vector_store.docstore._dict[doc_id]\n",
    "            documents.append(doc)\n",
    "    \n",
    "    print(f\"Extracted {len(documents)} documents from vector store\")\n",
    "    return documents"
   ]
  },
  {
   "cell_type": "code",
   "execution_count": 17,
   "metadata": {},
   "outputs": [],
   "source": [
    "def update_faiss_with_new_embeddings(\n",
    "    documents,\n",
    "    fine_tuned_model_path=\"travel_assistant_embeddings\",\n",
    "    output_path=\"travel_db_fine_tuned\",\n",
    "    docstore_output_path=\"travel_db_fine_tuned_docstore.pkl\"\n",
    "):\n",
    "    \"\"\"\n",
    "    Update the FAISS vector store with new embeddings from the fine-tuned model\n",
    "    \n",
    "    Args:\n",
    "        documents: List of documents extracted from original vector store\n",
    "        fine_tuned_model_path: Path to the fine-tuned model\n",
    "        output_path: Path to save the new FAISS vector store\n",
    "        docstore_output_path: Path to save the new docstore\n",
    "    \n",
    "    Returns:\n",
    "        New FAISS vector store\n",
    "    \"\"\"\n",
    "    # Initialize the new embeddings model\n",
    "    embeddings = FineTunedTravelEmbeddings(model_path=fine_tuned_model_path)\n",
    "    \n",
    "    # Create a new FAISS vector store with the documents and new embeddings\n",
    "    print(f\"Creating new FAISS vector store with {len(documents)} documents...\")\n",
    "    new_vector_store = FAISS.from_documents(documents, embeddings)\n",
    "    \n",
    "    # Save the new vector store\n",
    "    new_vector_store.save_local(output_path)\n",
    "    \n",
    "    # Save the docstore separately for easier access\n",
    "    with open(docstore_output_path, 'wb') as f:\n",
    "        pickle.dump(new_vector_store.docstore, f)\n",
    "    \n",
    "    print(f\"New FAISS vector store saved to {output_path}\")\n",
    "    print(f\"New docstore saved to {docstore_output_path}\")\n",
    "    \n",
    "    return new_vector_store"
   ]
  },
  {
   "cell_type": "code",
   "execution_count": 18,
   "metadata": {},
   "outputs": [],
   "source": [
    "# Path to your fine-tuned model\n",
    "fine_tuned_model_path = \"travel_assistant_embeddings\""
   ]
  },
  {
   "cell_type": "code",
   "execution_count": 7,
   "metadata": {},
   "outputs": [
    {
     "name": "stdout",
     "output_type": "stream",
     "text": [
      "Loaded knowledge base with 5029 documents\n",
      "Extracted 5029 documents from vector store\n"
     ]
    }
   ],
   "source": [
    "# 1. Extract documents from existing vector store\n",
    "documents = extract_documents_from_vector_store()"
   ]
  },
  {
   "cell_type": "code",
   "execution_count": 8,
   "metadata": {},
   "outputs": [
    {
     "name": "stdout",
     "output_type": "stream",
     "text": [
      "Loaded fine-tuned model from travel_assistant_embeddings with dimension 384\n",
      "Creating new FAISS vector store with 5029 documents...\n"
     ]
    },
    {
     "data": {
      "application/vnd.jupyter.widget-view+json": {
       "model_id": "c5fab0e8aa344ec68d1964c43941e7a7",
       "version_major": 2,
       "version_minor": 0
      },
      "text/plain": [
       "Batches:   0%|          | 0/158 [00:00<?, ?it/s]"
      ]
     },
     "metadata": {},
     "output_type": "display_data"
    },
    {
     "name": "stdout",
     "output_type": "stream",
     "text": [
      "New FAISS vector store saved to travel_db_fine_tuned\n",
      "New docstore saved to travel_db_fine_tuned_docstore.pkl\n"
     ]
    }
   ],
   "source": [
    "# 2. Create new vector store with fine-tuned embeddings\n",
    "new_vector_store = update_faiss_with_new_embeddings(\n",
    "    documents,\n",
    "    fine_tuned_model_path=fine_tuned_model_path,\n",
    "    output_path=\"travel_db_fine_tuned\",\n",
    "    docstore_output_path=\"travel_db_fine_tuned_docstore.pkl\"\n",
    ")"
   ]
  },
  {
   "cell_type": "code",
   "execution_count": 19,
   "metadata": {},
   "outputs": [],
   "source": [
    "### 3. UPDATED RAG Chain Setup - For Information Retrieval\n",
    "def setup_rag_chain_fine_tuned():\n",
    "    \"\"\"Set up the RAG chain with fine-tuned embeddings for information retrieval.\"\"\"\n",
    "    # Use the fine-tuned embeddings\n",
    "    embeddings = FineTunedTravelEmbeddings(model_path=\"travel_assistant_embeddings\")\n",
    "    \n",
    "    # Load the vector store with fine-tuned embeddings\n",
    "    travel_db_fine_tuned = FAISS.load_local(\n",
    "        \"travel_db_fine_tuned\", \n",
    "        embeddings,\n",
    "        allow_dangerous_deserialization=True\n",
    "    )\n",
    "    \n",
    "    # Load the docstore\n",
    "    with open('travel_db_fine_tuned_docstore.pkl', 'rb') as f:\n",
    "        travel_db_fine_tuned.docstore = pickle.load(f)\n",
    "    \n",
    "    # Create a retriever from the travel knowledge base\n",
    "    retriever = travel_db_fine_tuned.as_retriever(\n",
    "        search_type=\"similarity\",\n",
    "        search_kwargs={\"k\": 7}\n",
    "    )\n",
    "    \n",
    "    rag_prompt = ChatPromptTemplate.from_template(\"\"\"You are a knowledgeable travel assistant with expertise in destinations worldwide.\n",
    "        Use the following travel information to provide detailed, accurate responses to the user's query.\n",
    "        If the retrieved information doesn't fully answer the question, use your knowledge to provide\n",
    "        the best possible response, but prioritize the retrieved information.\n",
    "        \n",
    "        Retrieved information: {context}        \n",
    "        Question: {input}\n",
    "    \"\"\")\n",
    "\n",
    "    # Create the document processing chain using the prompt and language model\n",
    "    document_chain = create_stuff_documents_chain(llm, rag_prompt)\n",
    "    \n",
    "    return create_retrieval_chain(retriever, document_chain)"
   ]
  },
  {
   "cell_type": "code",
   "execution_count": 5,
   "metadata": {},
   "outputs": [],
   "source": [
    "def router_agent_fine_tuned(state: AgentState) -> dict:\n",
    "    \"\"\"Router agent that determines which specialized agent should handle the query.\"\"\"\n",
    "\n",
    "    # Step 1: Creates a chat prompt template with system and human messages\n",
    "    router_prompt = ChatPromptTemplate.from_messages([\n",
    "        (\"system\", \"\"\"You are a travel assistant router. Your job is to determine which specialized agent\n",
    "        should handle the user's travel-related query. Choose the most appropriate agent from:\n",
    "        \n",
    "        - itinerary_agent: For requests to create travel itineraries, vacation plans, or multi-day travel schedules\n",
    "        - flight_agent: For questions about flights, airfares, airlines, or flight bookings\n",
    "        - accommodation_agent: For questions about hotels, resorts, accommodations, or places to stay\n",
    "        - information_agent: For general travel information, destination facts, or travel advice\n",
    "        \n",
    "        Respond ONLY with the name of the appropriate agent. Do not include any explanations or additional text.\n",
    "        \"\"\"),\n",
    "        (\"human\", \"{query}\")\n",
    "    ])\n",
    "    \n",
    "    # Step 2: Uses a chain to pass the user query to the LLM, get the recommended agent name and parse the output as a string\n",
    "    chain = router_prompt | llm | StrOutputParser()\n",
    "\n",
    "    agent_executor = chain.invoke({\"query\": state.query}).strip()\n",
    "    \n",
    "    valid_agents = [\"itinerary_agent_fine_tuned\", \"flight_agent_fine_tuned\", \"accommodation_agent_fine_tuned\", \"information_agent_fine_tuned\"]\n",
    "\n",
    "    # Step 3: Validates the response: Checks if returned agent name is in valid_agents list, else defaults to \"information_agent\" if invalid\n",
    "    if agent_executor not in valid_agents:\n",
    "        # Default to information agent if invalid response\n",
    "        agent_executor = \"information_agent_fine_tuned\"\n",
    "            \n",
    "    # Step 4: Returns state as a dictionary\n",
    "    return {\"agent_executor\": agent_executor, \n",
    "            \"query\": state.query,\n",
    "            \"chat_history\": state.chat_history,\n",
    "            \"agent_response\": state.agent_response,\n",
    "            \"final_response\": state.final_response,\n",
    "            \"context\": state.context,\n",
    "            \"error\": state.error}"
   ]
  },
  {
   "cell_type": "code",
   "execution_count": 6,
   "metadata": {},
   "outputs": [],
   "source": [
    "def accommodation_agent_fine_tuned(state: AgentState) -> dict:\n",
    "    \"\"\"Provides hotel and accommodation recommendations.\"\"\"\n",
    "    try:\n",
    "        # Extract accommodation preferences\n",
    "        extraction_prompt = ChatPromptTemplate.from_messages([\n",
    "            (\"system\", \"\"\"Extract accommodation preferences from the user's query.\n",
    "            Return a JSON object with these fields (leave empty if not mentioned):\n",
    "            {{\n",
    "                \"location\": \"city or specific area\",\n",
    "                \"check_in_date\": \"in YYYY-MM-DD format\",\n",
    "                \"check_out_date\": \"in YYYY-MM-DD format\",\n",
    "                \"guests\": \"number of guests\",\n",
    "                \"rooms\": \"number of rooms\",\n",
    "                \"budget_range\": \"price range per night\"\n",
    "            }}\n",
    "            \"\"\"),  # Note the double curly braces\n",
    "            (\"human\", \"{query}\")\n",
    "        ])\n",
    "        \n",
    "        extraction_chain = extraction_prompt | llm | StrOutputParser()\n",
    "        try:\n",
    "            accommodation_params = json.loads(extraction_chain.invoke({\"query\": state.query}))\n",
    "            state.context.update({\"accommodation_params\": accommodation_params})\n",
    "        except json.JSONDecodeError:\n",
    "            state.context.update({\"accommodation_params\": {}})\n",
    "        \n",
    "        # Get accommodation information using RAG\n",
    "        rag_chain = setup_rag_chain_fine_tuned()\n",
    "        retrieval_result = rag_chain.invoke({\"query\": f\"hotels in {state.context.get('accommodation_params', {}).get('location', '')}\"})\n",
    "        \n",
    "        # Generate response based on accommodation parameters and retrieved information\n",
    "        accommodation_prompt = ChatPromptTemplate.from_messages([\n",
    "            (\"system\", \"\"\"You are a hotel and accommodation expert. Provide detailed recommendations\n",
    "            based on the user's preferences and the retrieved accommodation data. Include:\n",
    "            \n",
    "            - Suitable hotel/accommodation options\n",
    "            - Price ranges and value considerations\n",
    "            - Location benefits and proximity to attractions\n",
    "            - Amenities and facilities\n",
    "            - Guest ratings and reviews summary\n",
    "            - Booking tips and optimal timing\n",
    "            \n",
    "            If specific accommodation data isn't available, provide general advice about\n",
    "            accommodations in the requested location, typical options at different price points,\n",
    "            and best areas to stay.\n",
    "            \n",
    "            Retrieved accommodation information:\n",
    "            {context}\n",
    "            \n",
    "            Extracted accommodation parameters:\n",
    "            {accommodation_params}\n",
    "            \"\"\"),\n",
    "            (\"human\", \"{query}\")\n",
    "        ])\n",
    "        \n",
    "        accommodation_chain = accommodation_prompt | llm | StrOutputParser()\n",
    "        response = accommodation_chain.invoke({\n",
    "            \"query\": state.query,\n",
    "            \"context\": retrieval_result.get(\"context\", \"\"),\n",
    "            \"accommodation_params\": json.dumps(state.context.get(\"accommodation_params\", {}), indent=2)\n",
    "        })\n",
    "        \n",
    "        return {\"agent_response\": response}\n",
    "        \n",
    "    except Exception as e:\n",
    "        return {\"error\": str(e)}"
   ]
  },
  {
   "cell_type": "code",
   "execution_count": 7,
   "metadata": {},
   "outputs": [],
   "source": [
    "def information_agent_fine_tuned(state: AgentState) -> dict:\n",
    "    \"\"\"Answers general travel questions using RAG.\"\"\"\n",
    "    try:\n",
    "        # This agent directly uses the RAG chain to provide travel information\n",
    "        rag_chain = setup_rag_chain_fine_tuned()\n",
    "        result = rag_chain.invoke({\"input\": state.query})  # Changed from query to input\n",
    "        \n",
    "        # Enhance RAG response with additional context if needed\n",
    "        enhancement_prompt = ChatPromptTemplate.from_messages([\n",
    "            (\"system\", \"\"\"You are a knowledgeable travel information specialist. Review and enhance\n",
    "            the retrieved information to provide a comprehensive, accurate response to the user's query.\n",
    "            \n",
    "            If the retrieved information is incomplete, add relevant details from your knowledge while\n",
    "            clearly distinguishing between retrieved facts and general knowledge.\n",
    "            \n",
    "            Focus on providing practical, useful information that directly addresses the user's needs.\n",
    "            Include cultural insights, traveler tips, and seasonal considerations when relevant.\n",
    "            \n",
    "            Retrieved information:\n",
    "            {rag_response}\n",
    "            \"\"\"),\n",
    "            (\"human\", \"{input}\")  # Changed from query to input\n",
    "        ])\n",
    "        \n",
    "        enhancement_chain = enhancement_prompt | llm | StrOutputParser()\n",
    "        enhanced_response = enhancement_chain.invoke({\n",
    "            \"input\": state.query,\n",
    "            \"rag_response\": result.get(\"answer\", \"\")\n",
    "        })\n",
    "        \n",
    "        return {\"agent_response\": enhanced_response}\n",
    "        \n",
    "    except Exception as e:\n",
    "        return {\"error\": str(e)}"
   ]
  },
  {
   "cell_type": "code",
   "execution_count": 8,
   "metadata": {},
   "outputs": [],
   "source": [
    "def flight_agent_fine_tuned(state: AgentState) -> dict:\n",
    "    \"\"\"Handles flight-related questions and searches.\"\"\"\n",
    "    try:\n",
    "        # Extract flight search parameters\n",
    "        extraction_prompt = ChatPromptTemplate.from_template(\"\"\"Extract flight search parameters from the user's query.\n",
    "            Return a JSON object with these fields (leave empty if not mentioned):\n",
    "        {{\n",
    "            \"origin\": \"origin airport or city code\",\n",
    "            \"destination\": \"destination airport or city code\",\n",
    "            \"departure_date\": \"departure date in YYYY-MM-DD format\",\n",
    "            \"return_date\": \"return date in YYYY-MM-DD format (if round-trip)\",\n",
    "            \"num_passengers\": \"number of passengers\",\n",
    "            \"cabin_class\": \"economy/business/first\",\n",
    "            \"price_range\": \"budget constraints\",\n",
    "            \"airline_preferences\": [\"preferred airlines\"]\n",
    "        }}\n",
    "        \n",
    "        Query: {input}\n",
    "        \"\"\")       \n",
    "        \n",
    "        extraction_chain = extraction_prompt | llm | StrOutputParser()\n",
    "\n",
    "        try:\n",
    "            flight_params = json.loads(extraction_chain.invoke({\"input\": state.query}))  # Changed from input.query to state.query\n",
    "            state.context.update({\"flight_params\": flight_params})\n",
    "        except json.JSONDecodeError:\n",
    "            state.context.update({\"flight_params\": {}})\n",
    "        \n",
    "        # Get flight information using RAG\n",
    "        rag_chain = setup_rag_chain_fine_tuned()\n",
    "        retrieval_result = rag_chain.invoke({\"input\": state.query})\n",
    "\n",
    "        flight_prompt = ChatPromptTemplate.from_template(\"\"\"You are a flight search specialist. Provide helpful information about flights\n",
    "            based on the retrieved flight data and the user's query. Include details about available flights matching the criteria, \n",
    "            price ranges and fare comparisons, airline options, departure/arrival times, travel duration, layovers (if applicable), \n",
    "            and booking recommendations.\n",
    "            \n",
    "            If exact flight information isn't available in the retrieved data, provide general advice\n",
    "            about the requested route, typical prices, and best booking strategies.\n",
    "            \n",
    "            Retrieved flight information:\n",
    "            {context_str}\n",
    "            \n",
    "            Extracted flight parameters:\n",
    "            {parameters}\n",
    "        \n",
    "            Query: {input}\n",
    "            \"\"\")\n",
    "        \n",
    "        # Format the context and parameters for the prompt\n",
    "        context_str = retrieval_result.get(\"answer\", \"\")\n",
    "        parameters_str = json.dumps(state.context.get(\"flight_params\", {}), indent=2)\n",
    "        \n",
    "        flight_chain = flight_prompt | llm | StrOutputParser()\n",
    "        response = flight_chain.invoke({\n",
    "            \"input\": state.query,\n",
    "            \"context_str\": context_str,\n",
    "            \"parameters\": parameters_str\n",
    "        })\n",
    "        \n",
    "        return {\n",
    "            \"agent_response\": response,\n",
    "            \"context\": state.context,\n",
    "            \"query\": state.query\n",
    "        }\n",
    "        \n",
    "    except Exception as e:\n",
    "        return {\n",
    "            \"error\": str(e),\n",
    "            \"context\": state.context,\n",
    "            \"query\": state.query\n",
    "        }"
   ]
  },
  {
   "cell_type": "code",
   "execution_count": 9,
   "metadata": {},
   "outputs": [],
   "source": [
    "### 4. Specialized Agents Implementation\n",
    "def itinerary_agent_fine_tuned(state: AgentState) -> dict:\n",
    "    \"\"\"Creates customized travel itineraries based on user preferences.\"\"\"\n",
    "    try:\n",
    "        # First, retrieve relevant destination information\n",
    "        rag_chain = setup_rag_chain_fine_tuned()\n",
    "        retrieval_result = rag_chain.invoke({\"input\": state.query})\n",
    "        \n",
    "        # Extract destination information from query using LLM\n",
    "        extraction_prompt = ChatPromptTemplate.from_template(\"\"\"Extract the key travel information from the user's query.\n",
    "        Return a JSON object with these fields (leave empty if not mentioned):\n",
    "        {{\n",
    "            \"destinations\": [\"list of mentioned destinations\"],\n",
    "            \"duration\": \"total trip duration in days\",\n",
    "            \"budget\": \"budget information\",\n",
    "            \"interests\": [\"list of mentioned interests/activities\"],\n",
    "            \"travel_dates\": \"approximate travel dates\",\n",
    "            \"travelers\": \"number and type of travelers (family, couple, solo, etc.)\"\n",
    "        }}\n",
    "        \n",
    "        Query: {input}\n",
    "        \"\"\")       \n",
    "        \n",
    "        extraction_chain = extraction_prompt | llm | StrOutputParser()\n",
    "\n",
    "        try:\n",
    "            # First check if the string is not empty\n",
    "            if extraction_result := extraction_chain.invoke({\"input\": state.query}).strip():\n",
    "                extracted_info = json.loads(extraction_result)\n",
    "            else:\n",
    "                extracted_info = {\n",
    "                    \"destinations\": [],\n",
    "                    \"duration\": \"\",\n",
    "                    \"budget\": \"\",\n",
    "                    \"interests\": [],\n",
    "                    \"travel_dates\": \"\",\n",
    "                    \"travelers\": \"\"\n",
    "                }\n",
    "            state.context.update(extracted_info)\n",
    "        except json.JSONDecodeError:\n",
    "            # Provide default structure when parsing fails\n",
    "            extracted_info = {\n",
    "                \"destinations\": [],\n",
    "                \"duration\": \"\",\n",
    "                \"budget\": \"\",\n",
    "                \"interests\": [],\n",
    "                \"travel_dates\": \"\",\n",
    "                \"travelers\": \"\"\n",
    "            }\n",
    "            state.context.update(extracted_info)\n",
    "        \n",
    "        # Generate itinerary using retrieved information and extracted parameters\n",
    "        itinerary_prompt = ChatPromptTemplate.from_template(\"\"\"You are a travel itinerary expert. Create a detailed day-by-day travel itinerary\n",
    "        based on the user's preferences and the retrieved destination information.\n",
    "        \n",
    "        For each day, include morning activities, lunch suggestions, afternoon activities, dinner recommendations, and \n",
    "        evening activities or relaxation options\n",
    "        \n",
    "        Also include practical advice about transportation between attractions, estimated costs, time management tips, and local customs.\n",
    "        \n",
    "        Make the itinerary realistic in terms of travel times and activities per day.\n",
    "        \n",
    "        Context information:\n",
    "        {context_str}\n",
    "        \n",
    "        Extracted travel parameters:\n",
    "        {parameters}\n",
    "        \n",
    "        Query: {input}\n",
    "        \"\"\")        \n",
    "        \n",
    "        # Format the context and parameters for the prompt\n",
    "        context_str = retrieval_result.get(\"answer\", \"\")\n",
    "        parameters_str = json.dumps(state.context, indent=2)\n",
    "        \n",
    "        itinerary_chain = itinerary_prompt | llm | StrOutputParser()\n",
    "        response = itinerary_chain.invoke({\n",
    "            \"input\": state.query,\n",
    "            \"context_str\": context_str,\n",
    "            \"parameters\": parameters_str\n",
    "        })\n",
    "        \n",
    "        return {\n",
    "            \"agent_response\": response,\n",
    "            \"context\": state.context,\n",
    "            \"query\": state.query\n",
    "        }\n",
    "        \n",
    "    except Exception as e:\n",
    "        return {\n",
    "            \"error\": str(e),\n",
    "            \"context\": state.context,\n",
    "            \"query\": state.query\n",
    "        }"
   ]
  },
  {
   "cell_type": "code",
   "execution_count": 10,
   "metadata": {},
   "outputs": [],
   "source": [
    "### 5. Response Generator - Creates the final response\n",
    "def generate_final_response(state: AgentState) -> dict:\n",
    "    \"\"\"Generates the final, polished response to the user.\"\"\"\n",
    "    # Create a consistent, helpful response format\n",
    "    formatting_prompt = ChatPromptTemplate.from_messages([\n",
    "        (\"system\", \"\"\"You are a friendly, helpful travel assistant. Format the specialized agent's response\n",
    "        into a clear, well-structured, and engaging reply. Maintain all the factual information and advice\n",
    "        while improving readability with:\n",
    "        \n",
    "        - A warm, conversational tone\n",
    "        - Logical organization with headings where appropriate\n",
    "        - Bullet points for lists\n",
    "        - Bold text for important information\n",
    "        - Emojis where appropriate (but not excessive)\n",
    "        \n",
    "        Make sure the response completely addresses the user's query. Add a brief, friendly closing\n",
    "        that invites further questions.\n",
    "        \n",
    "        Original agent response:\n",
    "        {agent_response}\n",
    "        \"\"\"),\n",
    "        (\"human\", \"{query}\")\n",
    "    ])\n",
    "    \n",
    "    formatting_chain = formatting_prompt | llm | StrOutputParser()\n",
    "    final_response = formatting_chain.invoke({\n",
    "        \"query\": state.query,\n",
    "        \"agent_response\": state.agent_response\n",
    "    })\n",
    "    \n",
    "    return {\"agent_response\": final_response}"
   ]
  },
  {
   "cell_type": "code",
   "execution_count": 11,
   "metadata": {},
   "outputs": [],
   "source": [
    "### 6. Error Handler - Manages errors gracefully\n",
    "def handle_error(state: AgentState) -> dict:\n",
    "    \"\"\"Handles errors and provides a graceful fallback response.\"\"\"\n",
    "    error_prompt = ChatPromptTemplate.from_messages([\n",
    "        (\"system\", \"\"\"You are a helpful travel assistant. The system encountered an error while\n",
    "        processing the user's query. Provide a helpful response that:\n",
    "        \n",
    "        1. Acknowledges the issue\n",
    "        2. Offers general travel advice related to their query\n",
    "        3. Suggests how they might rephrase their question for better results\n",
    "        \n",
    "        Error message: {error}\n",
    "        \"\"\"),\n",
    "        (\"human\", \"{query}\")\n",
    "    ])\n",
    "    \n",
    "    error_chain = error_prompt | llm | StrOutputParser()\n",
    "    fallback_response = error_chain.invoke({\n",
    "        \"query\": state.query,\n",
    "        \"error\": state.error or \"Unknown error occurred\"\n",
    "    })\n",
    "    \n",
    "    return {\"agent_response\": fallback_response}"
   ]
  },
  {
   "cell_type": "code",
   "execution_count": 20,
   "metadata": {},
   "outputs": [],
   "source": [
    "def create_travel_assistant_graph_fine_tuned():\n",
    "    \"\"\"Creates the travel assistant graph using LangGraph.\"\"\"\n",
    "    # Initialize the workflow graph\n",
    "    workflow = StateGraph(AgentState)\n",
    "    \n",
    "    # Add nodes for each agent and processing step\n",
    "    workflow.add_node(\"router_agent_fine_tuned\", router_agent_fine_tuned)\n",
    "    workflow.add_node(\"itinerary_agent_fine_tuned\", itinerary_agent_fine_tuned)\n",
    "    workflow.add_node(\"flight_agent_fine_tuned\", flight_agent_fine_tuned)\n",
    "    workflow.add_node(\"accommodation_agent_fine_tuned\", accommodation_agent_fine_tuned)\n",
    "    workflow.add_node(\"information_agent_fine_tuned\", information_agent_fine_tuned)\n",
    "    workflow.add_node(\"response_generator\", generate_final_response)\n",
    "    workflow.add_node(\"error_handler\", handle_error)\n",
    "    \n",
    "    # Define conditional edge routing\n",
    "    # In the router_agent function, we'll set state.agent_executor\n",
    "    # Then we use this value to route to the appropriate agent\n",
    "    def router_edges(state):\n",
    "        if state.agent_executor == \"itinerary_agent_fine_tuned\":\n",
    "            return \"itinerary_agent_fine_tuned\"\n",
    "        elif state.agent_executor == \"flight_agent_fine_tuned\":\n",
    "            return \"flight_agent_fine_tuned\"\n",
    "        elif state.agent_executor == \"accommodation_agent_fine_tuned\":\n",
    "            return \"accommodation_agent_fine_tuned\"\n",
    "        else:\n",
    "            return \"information_agent_fine_tuned\"\n",
    "    \n",
    "    # ===== Agent to response_generator or error_handler =======\n",
    "    # Check if there's an error and route accordingly\n",
    "    def agent_edges(state):\n",
    "        if state.error is not None:\n",
    "            return \"error_handler\"\n",
    "        else:\n",
    "            return \"response_generator\"\n",
    "    \n",
    "    # Set entry point\n",
    "    workflow.set_entry_point(\"router_agent_fine_tuned\")\n",
    "    \n",
    "    # Connect router to agents\n",
    "    workflow.add_conditional_edges(\"router_agent_fine_tuned\", router_edges)\n",
    "    \n",
    "    # Connect agents to next nodes\n",
    "    for agent in [\"itinerary_agent_fine_tuned\", \"flight_agent_fine_tuned\", \"accommodation_agent_fine_tuned\", \"information_agent_fine_tuned\"]:\n",
    "        workflow.add_conditional_edges(agent, agent_edges)\n",
    "    \n",
    "    # Connect to end\n",
    "    workflow.add_edge(\"response_generator\", END)\n",
    "    workflow.add_edge(\"error_handler\", END)\n",
    "    \n",
    "    # Compile the graph\n",
    "    travel_assistant_fine_tuned = workflow.compile()\n",
    "\n",
    "    try:\n",
    "        display(Image(travel_assistant_fine_tuned.get_graph(xray=True).draw_mermaid_png()))\n",
    "    except:\n",
    "        pass\n",
    "\n",
    "    return travel_assistant_fine_tuned"
   ]
  },
  {
   "cell_type": "code",
   "execution_count": 21,
   "metadata": {},
   "outputs": [
    {
     "data": {
      "image/png": "[encoded data removed]",
      "text/plain": [
       "<IPython.core.display.Image object>"
      ]
     },
     "metadata": {},
     "output_type": "display_data"
    }
   ],
   "source": [
    "## Step 4: Using the UPDATED Travel Assistant\n",
    "# Create the travel assistant\n",
    "travel_assistant_fine_tuned = create_travel_assistant_graph_fine_tuned()"
   ]
  },
  {
   "cell_type": "code",
   "execution_count": 22,
   "metadata": {},
   "outputs": [
    {
     "name": "stdout",
     "output_type": "stream",
     "text": [
      "Loaded fine-tuned model from travel_assistant_embeddings with dimension 384\n",
      "{'query': 'Plan a 5-day trip to Tokyo in March', 'chat_history': [], 'agent_executor': 'information_agent_fine_tuned', 'agent_response': \"Hello! Planning a 5-day trip to Tokyo in March is a fantastic idea, as you'll get to experience the city's stunning blend of modern and traditional elements, complemented by the beautiful early spring scenery. Here's a detailed itinerary to ensure you have a memorable visit:\\n\\n### **Day 1: Arrival and Exploring Shinjuku**\\n- **Morning:** \\n  - Arrive in Tokyo and check into your hotel in Shinjuku, a vibrant area with a range of accommodations from luxury to budget-friendly.\\n- **Afternoon:** \\n  - Visit the Tokyo Metropolitan Government Building. Its free observation decks offer breathtaking views of Tokyo and, on clear days, Mount Fuji.\\n- **Evening:** \\n  - Immerse yourself in Shinjuku’s energetic nightlife. Enjoy dinner at Omoide Yokocho, known for its quaint alleys filled with tiny yakitori (grilled chicken) and ramen shops.\\n\\n### **Day 2: Historical and Cultural Exploration**\\n- **Morning:** \\n  - Explore the Imperial Palace. While the inner palace is closed to the public, you can wander through the beautiful East Gardens.\\n- **Afternoon:** \\n  - Visit Senso-ji in Asakusa, Tokyo's oldest temple. Don't miss the Nakamise Shopping Street for traditional Japanese souvenirs and snacks.\\n- **Evening:** \\n  - Enjoy a tranquil river cruise on the Sumida River, offering a splendid view of Tokyo’s illuminated skyline.\\n\\n### **Day 3: Dive into Tokyo's Modern Heart**\\n- **Morning:** \\n  - Start the day in Shibuya. See the famous Shibuya Crossing and the heartwarming Hachiko statue.\\n- **Afternoon:** \\n  - Head to Harajuku for a taste of vibrant street art, fashion, and youth culture. Explore Takeshita Street and the peaceful Meiji Shrine.\\n- **Evening:** \\n  - Explore Akihabara, a haven for fans of anime, manga, and electronics.\\n\\n### **Day 4: Museums and Parks**\\n- **Morning:** \\n  - Choose between the Edo-Tokyo Museum (for a historical perspective) or the Tokyo National Museum in Ueno (for art and antiques).\\n- **Afternoon:** \\n  - Stroll through Ueno Park, which is especially beautiful during the cherry blossom season.\\n- **Evening:** \\n  - Experience a traditional Japanese tea ceremony or enjoy a gourmet dinner in one of Tokyo’s esteemed restaurants.\\n\\n### **Day 5: Day Trip from Tokyo**\\n- **Options:**\\n  - **Option 1:** Visit Nikko, a UNESCO World Heritage site with exquisite shrines and natural scenery, about two hours from Tokyo.\\n  - **Option 2:** Explore Hakone or the Fuji Five Lakes area, known for their hot springs and stunning views of Mt. Fuji.\\n- **Evening:** \\n  - Return to Tokyo for any last-minute shopping or sightseeing.\\n\\n### **Additional Tips:**\\n- **Transportation:** Consider purchasing a SUICA or PASMO card for easy travel across Tokyo's public transport network. A Japan Rail Pass is also valuable if you plan to travel outside Tokyo.\\n- **Weather:** March can be chilly, particularly in the mornings and evenings. A versatile jacket and layered clothing are recommended.\\n- **Accommodations:** Opt for areas like Shinjuku, Shibuya, or Ginza for convenient access to transportation and local attractions.\\n\\nThis itinerary offers a well-rounded experience of Tokyo’s rich culture, history, and modern attractions, all set against the beautiful backdrop of early spring. If you have any more questions or need further assistance, feel free to ask. Enjoy your trip to Tokyo! 🌸🇯🇵\", 'final_response': None, 'context': {}, 'error': None}\n"
     ]
    }
   ],
   "source": [
    "# # Testing the itinerary_agent\n",
    "\n",
    "result11 = travel_assistant_fine_tuned.invoke({\"query\": \"Plan a 5-day trip to Tokyo in March\"})\n",
    "print(result11)"
   ]
  },
  {
   "cell_type": "code",
   "execution_count": 23,
   "metadata": {},
   "outputs": [
    {
     "data": {
      "text/html": [
       "<div>\n",
       "<style scoped>\n",
       "    .dataframe tbody tr th:only-of-type {\n",
       "        vertical-align: middle;\n",
       "    }\n",
       "\n",
       "    .dataframe tbody tr th {\n",
       "        vertical-align: top;\n",
       "    }\n",
       "\n",
       "    .dataframe thead th {\n",
       "        text-align: right;\n",
       "    }\n",
       "</style>\n",
       "<table border=\"1\" class=\"dataframe\">\n",
       "  <thead>\n",
       "    <tr style=\"text-align: right;\">\n",
       "      <th></th>\n",
       "      <th>question</th>\n",
       "      <th>agent_target</th>\n",
       "      <th>context</th>\n",
       "      <th>reference_answer</th>\n",
       "    </tr>\n",
       "  </thead>\n",
       "  <tbody>\n",
       "    <tr>\n",
       "      <th>0</th>\n",
       "      <td>Given the hotel’s location in Paris and consid...</td>\n",
       "      <td>Information</td>\n",
       "      <td>Hotel Comprehensive Profile: HOTEL SPLENDID ET...</td>\n",
       "      <td>To determine the most optimal travel season fo...</td>\n",
       "    </tr>\n",
       "    <tr>\n",
       "      <th>1</th>\n",
       "      <td>Considering the location and profile of the AP...</td>\n",
       "      <td>Itinerary</td>\n",
       "      <td>Hotel Comprehensive Profile: APPART'CITY CLICH...</td>\n",
       "      <td>Designing an eco-tourism itinerary for APPART'...</td>\n",
       "    </tr>\n",
       "    <tr>\n",
       "      <th>2</th>\n",
       "      <td>Given the comprehensive profile and neighborho...</td>\n",
       "      <td>Flight</td>\n",
       "      <td>Hotel Comprehensive Profile: COMFORT HOTEL PAR...</td>\n",
       "      <td>To ensure a seamless, comfortable, and conveni...</td>\n",
       "    </tr>\n",
       "    <tr>\n",
       "      <th>3</th>\n",
       "      <td>Given the vibrant and multicultural nature of ...</td>\n",
       "      <td>Flight</td>\n",
       "      <td>Local Transportation:\\n            thumb|260px...</td>\n",
       "      <td>To plan a comprehensive and environmentally-co...</td>\n",
       "    </tr>\n",
       "    <tr>\n",
       "      <th>4</th>\n",
       "      <td>Given the detailed profile of the Williams Ope...</td>\n",
       "      <td>Flight</td>\n",
       "      <td>Hotel Comprehensive Profile: WILLIAMS OPERA\\n ...</td>\n",
       "      <td>To craft a travel itinerary that optimizes air...</td>\n",
       "    </tr>\n",
       "  </tbody>\n",
       "</table>\n",
       "</div>"
      ],
      "text/plain": [
       "                                            question agent_target  \\\n",
       "0  Given the hotel’s location in Paris and consid...  Information   \n",
       "1  Considering the location and profile of the AP...    Itinerary   \n",
       "2  Given the comprehensive profile and neighborho...       Flight   \n",
       "3  Given the vibrant and multicultural nature of ...       Flight   \n",
       "4  Given the detailed profile of the Williams Ope...       Flight   \n",
       "\n",
       "                                             context  \\\n",
       "0  Hotel Comprehensive Profile: HOTEL SPLENDID ET...   \n",
       "1  Hotel Comprehensive Profile: APPART'CITY CLICH...   \n",
       "2  Hotel Comprehensive Profile: COMFORT HOTEL PAR...   \n",
       "3  Local Transportation:\\n            thumb|260px...   \n",
       "4  Hotel Comprehensive Profile: WILLIAMS OPERA\\n ...   \n",
       "\n",
       "                                    reference_answer  \n",
       "0  To determine the most optimal travel season fo...  \n",
       "1  Designing an eco-tourism itinerary for APPART'...  \n",
       "2  To ensure a seamless, comfortable, and conveni...  \n",
       "3  To plan a comprehensive and environmentally-co...  \n",
       "4  To craft a travel itinerary that optimizes air...  "
      ]
     },
     "execution_count": 23,
     "metadata": {},
     "output_type": "execute_result"
    }
   ],
   "source": [
    "test_set = pd.read_csv(\"comprehensive_travel_agent_test_set.csv\")\n",
    "test_set.head()"
   ]
  },
  {
   "cell_type": "code",
   "execution_count": 24,
   "metadata": {},
   "outputs": [
    {
     "name": "stdout",
     "output_type": "stream",
     "text": [
      "Generating responses for evaluation...\n",
      "Loaded fine-tuned model from travel_assistant_embeddings with dimension 384\n",
      "Loaded fine-tuned model from travel_assistant_embeddings with dimension 384\n",
      "Loaded fine-tuned model from travel_assistant_embeddings with dimension 384\n",
      "Loaded fine-tuned model from travel_assistant_embeddings with dimension 384\n",
      "Loaded fine-tuned model from travel_assistant_embeddings with dimension 384\n",
      "Loaded fine-tuned model from travel_assistant_embeddings with dimension 384\n",
      "Loaded fine-tuned model from travel_assistant_embeddings with dimension 384\n",
      "Loaded fine-tuned model from travel_assistant_embeddings with dimension 384\n",
      "Loaded fine-tuned model from travel_assistant_embeddings with dimension 384\n",
      "Loaded fine-tuned model from travel_assistant_embeddings with dimension 384\n",
      "Loaded fine-tuned model from travel_assistant_embeddings with dimension 384\n",
      "Loaded fine-tuned model from travel_assistant_embeddings with dimension 384\n",
      "Loaded fine-tuned model from travel_assistant_embeddings with dimension 384\n",
      "Loaded fine-tuned model from travel_assistant_embeddings with dimension 384\n",
      "Loaded fine-tuned model from travel_assistant_embeddings with dimension 384\n",
      "Loaded fine-tuned model from travel_assistant_embeddings with dimension 384\n",
      "Loaded fine-tuned model from travel_assistant_embeddings with dimension 384\n",
      "Loaded fine-tuned model from travel_assistant_embeddings with dimension 384\n",
      "Loaded fine-tuned model from travel_assistant_embeddings with dimension 384\n",
      "Loaded fine-tuned model from travel_assistant_embeddings with dimension 384\n",
      "Loaded fine-tuned model from travel_assistant_embeddings with dimension 384\n",
      "Loaded fine-tuned model from travel_assistant_embeddings with dimension 384\n",
      "Loaded fine-tuned model from travel_assistant_embeddings with dimension 384\n",
      "Loaded fine-tuned model from travel_assistant_embeddings with dimension 384\n",
      "Loaded fine-tuned model from travel_assistant_embeddings with dimension 384\n",
      "Loaded fine-tuned model from travel_assistant_embeddings with dimension 384\n",
      "Loaded fine-tuned model from travel_assistant_embeddings with dimension 384\n",
      "Loaded fine-tuned model from travel_assistant_embeddings with dimension 384\n",
      "Loaded fine-tuned model from travel_assistant_embeddings with dimension 384\n",
      "Loaded fine-tuned model from travel_assistant_embeddings with dimension 384\n"
     ]
    }
   ],
   "source": [
    "# Generate responses using the travel assistant\n",
    "generated_answers = []\n",
    "    \n",
    "print(\"Generating responses for evaluation...\")\n",
    "for _, row in test_set.iterrows():\n",
    "    try:\n",
    "        # Invoke the travel assistant with the question\n",
    "        response = travel_assistant_fine_tuned.invoke({\n",
    "            \"query\": row['question']\n",
    "        })\n",
    "            \n",
    "        # Convert response to string if it's not already\n",
    "        generated_answer = str(response)\n",
    "        generated_answers.append(generated_answer)\n",
    "    except Exception as e:\n",
    "        print(f\"Error generating response for question: {row['question']}\")\n",
    "        print(f\"Error: {e}\")\n",
    "        generated_answers.append(\"Error generating response\")\n",
    "    \n",
    "# Add generated answers to the DataFrame\n",
    "test_set['generated_answer'] = generated_answers\n",
    "\n",
    "test_set.to_csv(\"test_set_updated_with_agent_answers-FINE-TUNED.csv\")"
   ]
  },
  {
   "cell_type": "code",
   "execution_count": null,
   "metadata": {},
   "outputs": [],
   "source": []
  },
  {
   "cell_type": "code",
   "execution_count": 25,
   "metadata": {},
   "outputs": [],
   "source": [
    "# Prepare dataset for RAGAS evaluation\n",
    "eval_dataset = Dataset.from_dict({\n",
    "    'question': test_set['question'],\n",
    "    'answer': test_set['generated_answer'],                 # Use the generated answers\n",
    "    'ground_truth': test_set['reference_answer'],           # Reference answers for comparison\n",
    "    'contexts': test_set['context'].apply(lambda x: [x]),   # Wrap context in a list\n",
    "})"
   ]
  },
  {
   "cell_type": "code",
   "execution_count": 28,
   "metadata": {},
   "outputs": [],
   "source": [
    "from ragas import evaluate # updated wall of imports"
   ]
  },
  {
   "cell_type": "code",
   "execution_count": 29,
   "metadata": {},
   "outputs": [
    {
     "name": "stdout",
     "output_type": "stream",
     "text": [
      "Running RAGAS evaluation...\n"
     ]
    },
    {
     "data": {
      "application/vnd.jupyter.widget-view+json": {
       "model_id": "c476910f52114a76a236923f71b36102",
       "version_major": 2,
       "version_minor": 0
      },
      "text/plain": [
       "Evaluating:   0%|          | 0/120 [00:00<?, ?it/s]"
      ]
     },
     "metadata": {},
     "output_type": "display_data"
    }
   ],
   "source": [
    "# Run RAGAS evaluation\n",
    "print(\"Running RAGAS evaluation...\")\n",
    "\n",
    "results = evaluate(eval_dataset, metrics=[faithfulness, answer_relevancy, context_precision, context_recall])"
   ]
  },
  {
   "cell_type": "code",
   "execution_count": 30,
   "metadata": {},
   "outputs": [
    {
     "name": "stdout",
     "output_type": "stream",
     "text": [
      "\n",
      "RAGAS Evaluation Results:\n"
     ]
    },
    {
     "data": {
      "text/plain": [
       "{'faithfulness': 0.2095, 'answer_relevancy': 0.8975, 'context_precision': 0.8667, 'context_recall': 0.6512}"
      ]
     },
     "execution_count": 30,
     "metadata": {},
     "output_type": "execute_result"
    }
   ],
   "source": [
    "# Print and analyze results\n",
    "print(\"\\nRAGAS Evaluation Results:\")\n",
    "\n",
    "results"
   ]
  },
  {
   "cell_type": "code",
   "execution_count": null,
   "metadata": {},
   "outputs": [],
   "source": [
    "# Agent performance with original embeddings\n",
    "{'faithfulness': 0.1767, 'answer_relevancy': 0.8325, 'context_precision': 0.8667, 'context_recall': 0.6449}\n",
    "# Agent performance with fine-tuned embeddings\n",
    "{'faithfulness': 0.2095, 'answer_relevancy': 0.8975, 'context_precision': 0.8667, 'context_recall': 0.6512}"
   ]
  },
  {
   "cell_type": "code",
   "execution_count": 31,
   "metadata": {},
   "outputs": [
    {
     "data": {
      "application/vnd.jupyter.widget-view+json": {
       "model_id": "bf10e6e0efb24375818a615631516d88",
       "version_major": 2,
       "version_minor": 0
      },
      "text/plain": [
       "Filter:   0%|          | 0/30 [00:00<?, ? examples/s]"
      ]
     },
     "metadata": {},
     "output_type": "display_data"
    },
    {
     "data": {
      "application/vnd.jupyter.widget-view+json": {
       "model_id": "9bf9279fecfc429986d0138825f475a0",
       "version_major": 2,
       "version_minor": 0
      },
      "text/plain": [
       "Evaluating:   0%|          | 0/28 [00:00<?, ?it/s]"
      ]
     },
     "metadata": {},
     "output_type": "display_data"
    },
    {
     "data": {
      "application/vnd.jupyter.widget-view+json": {
       "model_id": "c9e91a0787a4473eb1590864d07d87c3",
       "version_major": 2,
       "version_minor": 0
      },
      "text/plain": [
       "Filter:   0%|          | 0/30 [00:00<?, ? examples/s]"
      ]
     },
     "metadata": {},
     "output_type": "display_data"
    },
    {
     "data": {
      "application/vnd.jupyter.widget-view+json": {
       "model_id": "669a6e1279b1445281f72a6495794190",
       "version_major": 2,
       "version_minor": 0
      },
      "text/plain": [
       "Evaluating:   0%|          | 0/52 [00:00<?, ?it/s]"
      ]
     },
     "metadata": {},
     "output_type": "display_data"
    },
    {
     "data": {
      "application/vnd.jupyter.widget-view+json": {
       "model_id": "372de6b50e9b489380c2c05a9cf5185f",
       "version_major": 2,
       "version_minor": 0
      },
      "text/plain": [
       "Filter:   0%|          | 0/30 [00:00<?, ? examples/s]"
      ]
     },
     "metadata": {},
     "output_type": "display_data"
    },
    {
     "data": {
      "application/vnd.jupyter.widget-view+json": {
       "model_id": "7a06041ba54a4d6bbbb8a10cf9ffe778",
       "version_major": 2,
       "version_minor": 0
      },
      "text/plain": [
       "Evaluating:   0%|          | 0/40 [00:00<?, ?it/s]"
      ]
     },
     "metadata": {},
     "output_type": "display_data"
    }
   ],
   "source": [
    "# Detailed breakdown by agent type\n",
    "agent_results = {}\n",
    "\n",
    "for agent in test_set['agent_target'].unique():\n",
    "    # print(test_set['agent_target'])\n",
    "    agent_subset = eval_dataset.filter(lambda x, idx: test_set.iloc[idx]['agent_target'] == agent, with_indices=True)\n",
    "    agent_eval_results = evaluate(agent_subset, metrics=[faithfulness,answer_relevancy,context_precision,context_recall])\n",
    "    agent_results[agent] = agent_eval_results"
   ]
  },
  {
   "cell_type": "code",
   "execution_count": 32,
   "metadata": {},
   "outputs": [
    {
     "name": "stdout",
     "output_type": "stream",
     "text": [
      "\n",
      "RAGAS Evaluation Results:\n"
     ]
    },
    {
     "data": {
      "text/plain": [
       "{'Information': {'faithfulness': 0.2835, 'answer_relevancy': 0.9324, 'context_precision': 0.8571, 'context_recall': 0.6713},\n",
       " 'Itinerary': {'faithfulness': 0.0864, 'answer_relevancy': 0.9292, 'context_precision': 0.9231, 'context_recall': 0.6085},\n",
       " 'Flight': {'faithfulness': 0.4726, 'answer_relevancy': 0.8331, 'context_precision': 0.8000, 'context_recall': 0.5777}}"
      ]
     },
     "execution_count": 32,
     "metadata": {},
     "output_type": "execute_result"
    }
   ],
   "source": [
    "# Print and analyze results by agent type\n",
    "print(\"\\nRAGAS Evaluation Results:\")\n",
    "\n",
    "agent_results"
   ]
  },
  {
   "cell_type": "code",
   "execution_count": null,
   "metadata": {},
   "outputs": [],
   "source": [
    "# # Agent performance with original embeddings\n",
    "# {'Information': {'faithfulness': 0.2363, 'answer_relevancy': 0.5312, 'context_precision': 0.8571, 'context_recall': 0.8018},\n",
    "#  'Itinerary': {'faithfulness': 0.1112, 'answer_relevancy': 0.9268, 'context_precision': 0.9231, 'context_recall': 0.7045},\n",
    "#  'Flight': {'faithfulness': 0.2866, 'answer_relevancy': 0.9233, 'context_precision': 0.8000, 'context_recall': 0.5864}}\n",
    "# # Agent performance with fine-tuned embeddings\n",
    "# {'Information': {'faithfulness': 0.2835, 'answer_relevancy': 0.9324, 'context_precision': 0.8571, 'context_recall': 0.6713},\n",
    "#  'Itinerary': {'faithfulness': 0.0864, 'answer_relevancy': 0.9292, 'context_precision': 0.9231, 'context_recall': 0.6085},\n",
    "#  'Flight': {'faithfulness': 0.4726, 'answer_relevancy': 0.8331, 'context_precision': 0.8000, 'context_recall': 0.5777}}"
   ]
  },
  {
   "cell_type": "code",
   "execution_count": 33,
   "metadata": {},
   "outputs": [],
   "source": [
    "# Save detailed results\n",
    "results_df = pd.DataFrame({\n",
    "    'question': test_set['question'],\n",
    "    'agent_target': test_set['agent_target'],\n",
    "    'generated_answer': test_set['generated_answer'],\n",
    "    'reference_answer': test_set['reference_answer'],\n",
    "    'faithfulness': results['faithfulness'],\n",
    "    'answer_relevancy': results['answer_relevancy'],\n",
    "    'context_precision': results['context_precision'],\n",
    "    'context_recall': results['context_recall']\n",
    "})\n",
    "\n",
    "results_df.to_csv('ragas_evaluation_results-FINE-TUNED.csv', index=False)"
   ]
  },
  {
   "cell_type": "code",
   "execution_count": null,
   "metadata": {},
   "outputs": [],
   "source": []
  }
 ],
 "metadata": {
  "kernelspec": {
   "display_name": "Python 3",
   "language": "python",
   "name": "python3"
  },
  "language_info": {
   "codemirror_mode": {
    "name": "ipython",
    "version": 3
   },
   "file_extension": ".py",
   "mimetype": "text/x-python",
   "name": "python",
   "nbconvert_exporter": "python",
   "pygments_lexer": "ipython3",
   "version": "3.13.1"
  }
 },
 "nbformat": 4,
 "nbformat_minor": 2
}
