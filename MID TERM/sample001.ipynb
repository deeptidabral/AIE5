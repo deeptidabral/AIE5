{
 "cells": [
  {
   "cell_type": "code",
   "execution_count": 1,
   "metadata": {},
   "outputs": [],
   "source": [
    "import os\n",
    "import getpass\n",
    "from typing import TypedDict, Annotated, List\n",
    "from langgraph.graph import StateGraph, END\n",
    "from langchain_core.messages import HumanMessage, AIMessage\n",
    "from langchain_core.prompts import ChatPromptTemplate\n",
    "from langchain_openai import ChatOpenAI\n",
    "from langchain_core.runnables.graph import MermaidDrawMethod\n",
    "from IPython.display import display, Image\n",
    "from dotenv import load_dotenv"
   ]
  },
  {
   "cell_type": "code",
   "execution_count": 2,
   "metadata": {},
   "outputs": [],
   "source": [
    "load_dotenv()\n",
    "os.environ[\"OPENAI_API_KEY\"] = getpass.getpass(\"OpenAI API Key:\")"
   ]
  },
  {
   "cell_type": "code",
   "execution_count": 3,
   "metadata": {},
   "outputs": [],
   "source": [
    "class PlannerState(TypedDict):\n",
    "    messages: Annotated[List[HumanMessage | AIMessage], \"The messages in the conversation\"]\n",
    "    city: str\n",
    "    interests: List[str]\n",
    "    itinerary: str"
   ]
  },
  {
   "cell_type": "code",
   "execution_count": 4,
   "metadata": {},
   "outputs": [],
   "source": [
    "llm = ChatOpenAI(model=\"gpt-4o-mini\")\n",
    "\n",
    "\n",
    "itinerary_prompt = ChatPromptTemplate.from_messages([\n",
    "    (\"system\", \"You are a helpful travel assistant. Create a day trip itinerary for {city} based on the user's interests: {interests}. Provide a brief, bulleted itinerary.\"),\n",
    "    (\"human\", \"Create an itinerary for my day trip.\"),\n",
    "])"
   ]
  },
  {
   "cell_type": "code",
   "execution_count": 6,
   "metadata": {},
   "outputs": [],
   "source": [
    "def input_city(state: PlannerState) -> PlannerState:\n",
    "    print(\"Please enter the city you want to visit for your day trip:\")\n",
    "    user_message = input(\"Your input: \")\n",
    "    return {\n",
    "        **state,\n",
    "        \"city\": user_message,\n",
    "        \"messages\": state['messages'] + [HumanMessage(content=user_message)],\n",
    "    }\n",
    "\n",
    "def input_interests(state: PlannerState) -> PlannerState:\n",
    "    print(f\"Please enter your interests for the trip to {state['city']} (comma-separated):\")\n",
    "    user_message = input(\"Your input: \")\n",
    "    return {\n",
    "        **state,\n",
    "        \"interests\": [interest.strip() for interest in user_message.split(',')],\n",
    "        \"messages\": state['messages'] + [HumanMessage(content=user_message)],\n",
    "    }\n",
    "\n",
    "def create_itinerary(state: PlannerState) -> PlannerState:\n",
    "    print(f\"Creating an itinerary for {state['city']} based on interests: {', '.join(state['interests'])}...\")\n",
    "    response = llm.invoke(itinerary_prompt.format_messages(city=state['city'], interests=\", \".join(state['interests'])))\n",
    "    print(\"\\nFinal Itinerary:\")\n",
    "    print(response.content)\n",
    "    return {\n",
    "        **state,\n",
    "        \"messages\": state['messages'] + [AIMessage(content=response.content)],\n",
    "        \"itinerary\": response.content,\n",
    "    }"
   ]
  },
  {
   "cell_type": "code",
   "execution_count": 7,
   "metadata": {},
   "outputs": [],
   "source": [
    "workflow = StateGraph(PlannerState)\n",
    "\n",
    "workflow.add_node(\"input_city\", input_city)\n",
    "workflow.add_node(\"input_interests\", input_interests)\n",
    "workflow.add_node(\"create_itinerary\", create_itinerary)\n",
    "\n",
    "workflow.set_entry_point(\"input_city\")\n",
    "\n",
    "workflow.add_edge(\"input_city\", \"input_interests\")\n",
    "workflow.add_edge(\"input_interests\", \"create_itinerary\")\n",
    "workflow.add_edge(\"create_itinerary\", END)\n",
    "\n",
    "app = workflow.compile()"
   ]
  },
  {
   "cell_type": "code",
   "execution_count": 8,
   "metadata": {},
   "outputs": [
    {
     "data": {
      "image/png": "[encoded data removed]",
      "text/plain": [
       "<IPython.core.display.Image object>"
      ]
     },
     "metadata": {},
     "output_type": "display_data"
    }
   ],
   "source": [
    "display(\n",
    "    Image(\n",
    "        app.get_graph().draw_mermaid_png(\n",
    "            draw_method=MermaidDrawMethod.API,\n",
    "        )\n",
    "    )\n",
    ")"
   ]
  },
  {
   "cell_type": "code",
   "execution_count": 9,
   "metadata": {},
   "outputs": [],
   "source": [
    "def run_travel_planner(user_request: str):\n",
    "    print(f\"Initial Request: {user_request}\\n\")\n",
    "    state = {\n",
    "        \"messages\": [HumanMessage(content=user_request)],\n",
    "        \"city\": \"\",\n",
    "        \"interests\": [],\n",
    "        \"itinerary\": \"\",\n",
    "    }\n",
    "    \n",
    "    for output in app.stream(state):\n",
    "        pass  # The nodes themselves now handle all printing"
   ]
  },
  {
   "cell_type": "code",
   "execution_count": 10,
   "metadata": {},
   "outputs": [
    {
     "name": "stdout",
     "output_type": "stream",
     "text": [
      "Initial Request: I want to plan a day trip.\n",
      "\n",
      "Please enter the city you want to visit for your day trip:\n",
      "Please enter your interests for the trip to Tulum (comma-separated):\n",
      "Creating an itinerary for Tulum based on interests: beaches...\n",
      "\n",
      "Final Itinerary:\n",
      "Here’s a suggested itinerary for a day trip focused on enjoying the beautiful beaches of Tulum:\n",
      "\n",
      "### Tulum Beach Day Itinerary\n",
      "\n",
      "**Morning:**\n",
      "- **8:00 AM – Sunrise at Playa Paraiso**\n",
      "  - Arrive early to watch the sunrise over the crystal-clear waters.\n",
      "  - Enjoy a peaceful morning stroll along the beach.\n",
      "\n",
      "- **9:00 AM – Breakfast at Manglar Pizzeria**\n",
      "  - Savor a delicious breakfast with ocean views.\n",
      "  - Try their fresh fruit platters or traditional Mexican breakfast.\n",
      "\n",
      "**Late Morning:**\n",
      "- **10:30 AM – Visit Tulum Ruins**\n",
      "  - Take a short trip to explore the iconic Tulum Ruins (10-minute drive).\n",
      "  - Enjoy the stunning views of the coast from the cliffside.\n",
      "\n",
      "**Lunch:**\n",
      "- **12:00 PM – Casual lunch at Sale e Pepe**\n",
      "  - Head back to Tulum beach for a relaxed lunch at this beachside Italian spot.\n",
      "  - Try their seafood pasta or pizza with a beachfront view.\n",
      "\n",
      "**Afternoon:**\n",
      "- **1:30 PM – Beach Time at Akumal Beach**\n",
      "  - Spend your afternoon at Akumal Beach (20-minute drive).\n",
      "  - Swim, snorkel, and relax on the soft, white sand.\n",
      "  - Look out for sea turtles in the clear waters.\n",
      "\n",
      "- **3:30 PM – Chill at Half Moon Bay**\n",
      "  - After snorkeling, head to Half Moon Bay (5-minute drive).\n",
      "  - Relax on beach loungers or hammocks; enjoy a refreshing drink.\n",
      "\n",
      "**Evening:**\n",
      "- **5:30 PM – Sunset at Las Palmas Beach Club**\n",
      "  - Make your way to Las Palmas for a stunning sunset view.\n",
      "  - Order a cocktail and enjoy the laid-back atmosphere.\n",
      "\n",
      "- **7:00 PM – Dinner at Kitchen Table**\n",
      "  - Conclude your day with dinner at this popular spot known for its local cuisine and cozy atmosphere.\n",
      "  - Enjoy farm-to-table dishes surrounded by nature.\n",
      "\n",
      "### Tips:\n",
      "- Remember to pack sunscreen, a hat, and plenty of water.\n",
      "- Bring cash for small beachside restaurants, as some may not accept cards.\n",
      "- Consider booking any activities (like snorkeling) in advance, if possible. \n",
      "\n",
      "Enjoy your beach day in Tulum! 🌊☀️🏖️\n"
     ]
    }
   ],
   "source": [
    "user_request = \"I want to plan a day trip.\"\n",
    "run_travel_planner(user_request)"
   ]
  },
  {
   "cell_type": "code",
   "execution_count": null,
   "metadata": {},
   "outputs": [],
   "source": []
  }
 ],
 "metadata": {
  "kernelspec": {
   "display_name": "Python 3",
   "language": "python",
   "name": "python3"
  },
  "language_info": {
   "codemirror_mode": {
    "name": "ipython",
    "version": 3
   },
   "file_extension": ".py",
   "mimetype": "text/x-python",
   "name": "python",
   "nbconvert_exporter": "python",
   "pygments_lexer": "ipython3",
   "version": "3.13.1"
  }
 },
 "nbformat": 4,
 "nbformat_minor": 2
}
