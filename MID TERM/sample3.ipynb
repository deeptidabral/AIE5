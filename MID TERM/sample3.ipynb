{
 "cells": [
  {
   "cell_type": "code",
   "execution_count": 1,
   "metadata": {},
   "outputs": [
    {
     "name": "stdout",
     "output_type": "stream",
     "text": [
      "0.3.19\n",
      "2.32.3\n",
      "1.13.2\n",
      "0.3.6\n"
     ]
    }
   ],
   "source": [
    "import requests\n",
    "import qdrant_client\n",
    "import importlib.metadata\n",
    "import langchain\n",
    "import getpass\n",
    "import os\n",
    "\n",
    "print(langchain.__version__)\n",
    "print(requests.__version__)\n",
    "print(importlib.metadata.version(\"qdrant-client\"))\n",
    "print(importlib.metadata.version(\"langchain_openai\"))\n",
    "# print(qdrant_client.__version__)\n",
    "\n",
    "from langchain_text_splitters import RecursiveCharacterTextSplitter\n",
    "from langchain_core.documents import Document"
   ]
  },
  {
   "cell_type": "code",
   "execution_count": 4,
   "metadata": {},
   "outputs": [],
   "source": [
    "AMADEUS_CLIENT_ID = \"1nsyVeNCT6PQtpqb1iG5MsIPWTkvN8bU\"\n",
    "AMADEUS_CLIENT_SECRET = \"GizAt9lxJi00tWG7\""
   ]
  },
  {
   "cell_type": "code",
   "execution_count": 5,
   "metadata": {},
   "outputs": [
    {
     "name": "stdout",
     "output_type": "stream",
     "text": [
      "✅ Access token received: bcF8lTGwK0hJm7tv2I3AoUA4I7Su\n"
     ]
    }
   ],
   "source": [
    "AMADEUS_AUTH_URL = \"https://test.api.amadeus.com/v1/security/oauth2/token\"\n",
    "\n",
    "def get_amadeus_access_token():\n",
    "    headers = {\"Content-Type\": \"application/x-www-form-urlencoded\"}\n",
    "    data = {\n",
    "        \"grant_type\": \"client_credentials\",\n",
    "        \"client_id\": AMADEUS_CLIENT_ID,\n",
    "        \"client_secret\": AMADEUS_CLIENT_SECRET\n",
    "    }\n",
    "    \n",
    "    response = requests.post(AMADEUS_AUTH_URL, headers=headers, data=data)\n",
    "\n",
    "    if response.status_code == 200:\n",
    "        token = response.json().get(\"access_token\")\n",
    "        print(\"✅ Access token received:\", token)  # Print token for debugging\n",
    "        return token\n",
    "    else:\n",
    "        print(\"❌ Failed to get access token:\", response.json())\n",
    "        return None\n",
    "\n",
    "# Get and print the access token\n",
    "access_token = get_amadeus_access_token()"
   ]
  },
  {
   "cell_type": "code",
   "execution_count": 6,
   "metadata": {},
   "outputs": [
    {
     "name": "stdout",
     "output_type": "stream",
     "text": [
      "✅ API response received: {'meta': {'count': 3, 'links': {'self': 'https://test.api.amadeus.com/v2/shopping/flight-offers?originLocationCode=NYC&destinationLocationCode=LON&departureDate=2025-05-01&adults=1&max=3'}}, 'data': [{'type': 'flight-offer', 'id': '1', 'source': 'GDS', 'instantTicketingRequired': False, 'nonHomogeneous': False, 'oneWay': False, 'isUpsellOffer': False, 'lastTicketingDate': '2025-02-21', 'lastTicketingDateTime': '2025-02-21', 'numberOfBookableSeats': 9, 'itineraries': [{'duration': 'PT7H25M', 'segments': [{'departure': {'iataCode': 'JFK', 'terminal': '4', 'at': '2025-05-01T18:00:00'}, 'arrival': {'iataCode': 'LHR', 'terminal': '3', 'at': '2025-05-02T06:25:00'}, 'carrierCode': 'VS', 'number': '4', 'aircraft': {'code': '339'}, 'operating': {'carrierCode': 'VS'}, 'duration': 'PT7H25M', 'id': '1', 'numberOfStops': 0, 'blacklistedInEU': False}]}], 'price': {'currency': 'EUR', 'total': '301.18', 'base': '116.00', 'fees': [{'amount': '0.00', 'type': 'SUPPLIER'}, {'amount': '0.00', 'type': 'TICKETING'}], 'grandTotal': '301.18'}, 'pricingOptions': {'fareType': ['PUBLISHED'], 'includedCheckedBagsOnly': False}, 'validatingAirlineCodes': ['VS'], 'travelerPricings': [{'travelerId': '1', 'fareOption': 'STANDARD', 'travelerType': 'ADULT', 'price': {'currency': 'EUR', 'total': '301.18', 'base': '116.00'}, 'fareDetailsBySegment': [{'segmentId': '1', 'cabin': 'ECONOMY', 'fareBasis': 'XLN89NB7', 'brandedFare': 'LIGHT', 'brandedFareLabel': 'ECONOMY LIGHT', 'class': 'T', 'includedCheckedBags': {'quantity': 0}, 'includedCabinBags': {'quantity': 1}, 'amenities': [{'description': '1ST BAG MAX 23KG', 'isChargeable': True, 'amenityType': 'BAGGAGE', 'amenityProvider': {'name': 'BrandedFare'}}, {'description': 'ADVANCED SEAT SELECTION', 'isChargeable': False, 'amenityType': 'PRE_RESERVED_SEAT', 'amenityProvider': {'name': 'BrandedFare'}}, {'description': 'MEALS AND DRINKS', 'isChargeable': False, 'amenityType': 'MEAL', 'amenityProvider': {'name': 'BrandedFare'}}, {'description': 'EARN MILES', 'isChargeable': False, 'amenityType': 'BRANDED_FARES', 'amenityProvider': {'name': 'BrandedFare'}}, {'description': 'UPGRADES', 'isChargeable': True, 'amenityType': 'BRANDED_FARES', 'amenityProvider': {'name': 'BrandedFare'}}, {'description': 'CHANGES', 'isChargeable': True, 'amenityType': 'BRANDED_FARES', 'amenityProvider': {'name': 'BrandedFare'}}]}]}]}, {'type': 'flight-offer', 'id': '2', 'source': 'GDS', 'instantTicketingRequired': False, 'nonHomogeneous': False, 'oneWay': False, 'isUpsellOffer': False, 'lastTicketingDate': '2025-02-21', 'lastTicketingDateTime': '2025-02-21', 'numberOfBookableSeats': 9, 'itineraries': [{'duration': 'PT7H25M', 'segments': [{'departure': {'iataCode': 'JFK', 'terminal': '4', 'at': '2025-05-01T21:00:00'}, 'arrival': {'iataCode': 'LHR', 'terminal': '3', 'at': '2025-05-02T09:25:00'}, 'carrierCode': 'VS', 'number': '154', 'aircraft': {'code': '339'}, 'operating': {'carrierCode': 'VS'}, 'duration': 'PT7H25M', 'id': '2', 'numberOfStops': 0, 'blacklistedInEU': False}]}], 'price': {'currency': 'EUR', 'total': '301.18', 'base': '116.00', 'fees': [{'amount': '0.00', 'type': 'SUPPLIER'}, {'amount': '0.00', 'type': 'TICKETING'}], 'grandTotal': '301.18'}, 'pricingOptions': {'fareType': ['PUBLISHED'], 'includedCheckedBagsOnly': False}, 'validatingAirlineCodes': ['VS'], 'travelerPricings': [{'travelerId': '1', 'fareOption': 'STANDARD', 'travelerType': 'ADULT', 'price': {'currency': 'EUR', 'total': '301.18', 'base': '116.00'}, 'fareDetailsBySegment': [{'segmentId': '2', 'cabin': 'ECONOMY', 'fareBasis': 'XLN89NB7', 'brandedFare': 'LIGHT', 'brandedFareLabel': 'ECONOMY LIGHT', 'class': 'T', 'includedCheckedBags': {'quantity': 0}, 'includedCabinBags': {'quantity': 1}, 'amenities': [{'description': '1ST BAG MAX 23KG', 'isChargeable': True, 'amenityType': 'BAGGAGE', 'amenityProvider': {'name': 'BrandedFare'}}, {'description': 'ADVANCED SEAT SELECTION', 'isChargeable': False, 'amenityType': 'PRE_RESERVED_SEAT', 'amenityProvider': {'name': 'BrandedFare'}}, {'description': 'MEALS AND DRINKS', 'isChargeable': False, 'amenityType': 'MEAL', 'amenityProvider': {'name': 'BrandedFare'}}, {'description': 'EARN MILES', 'isChargeable': False, 'amenityType': 'BRANDED_FARES', 'amenityProvider': {'name': 'BrandedFare'}}, {'description': 'UPGRADES', 'isChargeable': True, 'amenityType': 'BRANDED_FARES', 'amenityProvider': {'name': 'BrandedFare'}}, {'description': 'CHANGES', 'isChargeable': True, 'amenityType': 'BRANDED_FARES', 'amenityProvider': {'name': 'BrandedFare'}}]}]}]}, {'type': 'flight-offer', 'id': '3', 'source': 'GDS', 'instantTicketingRequired': False, 'nonHomogeneous': False, 'oneWay': False, 'isUpsellOffer': False, 'lastTicketingDate': '2025-02-21', 'lastTicketingDateTime': '2025-02-21', 'numberOfBookableSeats': 9, 'itineraries': [{'duration': 'PT10H35M', 'segments': [{'departure': {'iataCode': 'JFK', 'terminal': '1', 'at': '2025-05-01T01:00:00'}, 'arrival': {'iataCode': 'CDG', 'terminal': '2E', 'at': '2025-05-01T14:15:00'}, 'carrierCode': 'VS', 'number': '6707', 'aircraft': {'code': '359'}, 'operating': {'carrierCode': 'AF'}, 'duration': 'PT7H15M', 'id': '3', 'numberOfStops': 0, 'blacklistedInEU': False}, {'departure': {'iataCode': 'CDG', 'terminal': '2E', 'at': '2025-05-01T16:10:00'}, 'arrival': {'iataCode': 'LHR', 'terminal': '4', 'at': '2025-05-01T16:35:00'}, 'carrierCode': 'VS', 'number': '6656', 'aircraft': {'code': '223'}, 'operating': {'carrierCode': 'AF'}, 'duration': 'PT1H25M', 'id': '4', 'numberOfStops': 0, 'blacklistedInEU': False}]}], 'price': {'currency': 'EUR', 'total': '318.07', 'base': '116.00', 'fees': [{'amount': '0.00', 'type': 'SUPPLIER'}, {'amount': '0.00', 'type': 'TICKETING'}], 'grandTotal': '318.07'}, 'pricingOptions': {'fareType': ['PUBLISHED'], 'includedCheckedBagsOnly': False}, 'validatingAirlineCodes': ['VS'], 'travelerPricings': [{'travelerId': '1', 'fareOption': 'STANDARD', 'travelerType': 'ADULT', 'price': {'currency': 'EUR', 'total': '318.07', 'base': '116.00'}, 'fareDetailsBySegment': [{'segmentId': '3', 'cabin': 'ECONOMY', 'fareBasis': 'XLN89NB7', 'brandedFare': 'LIGHT', 'brandedFareLabel': 'ECONOMY LIGHT', 'class': 'T', 'includedCheckedBags': {'quantity': 0}, 'includedCabinBags': {'quantity': 1}, 'amenities': [{'description': '1ST BAG MAX 23KG', 'isChargeable': True, 'amenityType': 'BAGGAGE', 'amenityProvider': {'name': 'BrandedFare'}}, {'description': 'ADVANCED SEAT SELECTION', 'isChargeable': False, 'amenityType': 'PRE_RESERVED_SEAT', 'amenityProvider': {'name': 'BrandedFare'}}, {'description': 'MEALS AND DRINKS', 'isChargeable': False, 'amenityType': 'MEAL', 'amenityProvider': {'name': 'BrandedFare'}}, {'description': 'EARN MILES', 'isChargeable': False, 'amenityType': 'BRANDED_FARES', 'amenityProvider': {'name': 'BrandedFare'}}, {'description': 'UPGRADES', 'isChargeable': True, 'amenityType': 'BRANDED_FARES', 'amenityProvider': {'name': 'BrandedFare'}}, {'description': 'CHANGES', 'isChargeable': True, 'amenityType': 'BRANDED_FARES', 'amenityProvider': {'name': 'BrandedFare'}}]}, {'segmentId': '4', 'cabin': 'ECONOMY', 'fareBasis': 'XLN89NB7', 'brandedFare': 'LIGHT', 'brandedFareLabel': 'ECONOMY LIGHT', 'class': 'T', 'includedCheckedBags': {'quantity': 0}, 'includedCabinBags': {'quantity': 1}, 'amenities': [{'description': '1ST BAG MAX 23KG', 'isChargeable': True, 'amenityType': 'BAGGAGE', 'amenityProvider': {'name': 'BrandedFare'}}, {'description': 'ADVANCED SEAT SELECTION', 'isChargeable': False, 'amenityType': 'PRE_RESERVED_SEAT', 'amenityProvider': {'name': 'BrandedFare'}}, {'description': 'MEALS AND DRINKS', 'isChargeable': False, 'amenityType': 'MEAL', 'amenityProvider': {'name': 'BrandedFare'}}, {'description': 'EARN MILES', 'isChargeable': False, 'amenityType': 'BRANDED_FARES', 'amenityProvider': {'name': 'BrandedFare'}}, {'description': 'UPGRADES', 'isChargeable': True, 'amenityType': 'BRANDED_FARES', 'amenityProvider': {'name': 'BrandedFare'}}, {'description': 'CHANGES', 'isChargeable': True, 'amenityType': 'BRANDED_FARES', 'amenityProvider': {'name': 'BrandedFare'}}]}]}]}], 'dictionaries': {'locations': {'CDG': {'cityCode': 'PAR', 'countryCode': 'FR'}, 'LHR': {'cityCode': 'LON', 'countryCode': 'GB'}, 'JFK': {'cityCode': 'NYC', 'countryCode': 'US'}}, 'aircraft': {'223': 'AIRBUS  A220-300', '359': 'AIRBUS A350-900', '339': 'AIRBUS A330-900NEO PASSENGER'}, 'currencies': {'EUR': 'EURO'}, 'carriers': {'AF': 'AIR FRANCE', 'VS': 'VIRGIN ATLANTIC'}}}\n"
     ]
    }
   ],
   "source": [
    "if access_token:\n",
    "    FLIGHTS_API_URL = \"https://test.api.amadeus.com/v2/shopping/flight-offers\"\n",
    "\n",
    "    headers = {\"Authorization\": f\"Bearer {access_token}\"}\n",
    "\n",
    "    params = {\n",
    "        \"originLocationCode\": \"NYC\",\n",
    "        \"destinationLocationCode\": \"LON\",\n",
    "        \"departureDate\": \"2025-05-01\",\n",
    "        \"adults\": 1,\n",
    "        \"max\": 3\n",
    "    }\n",
    "\n",
    "    response = requests.get(FLIGHTS_API_URL, headers=headers, params=params)\n",
    "\n",
    "    if response.status_code == 200:\n",
    "        print(\"✅ API response received:\", response.json())\n",
    "    else:\n",
    "        print(\"❌ API Error:\", response.json())\n"
   ]
  },
  {
   "cell_type": "code",
   "execution_count": 2,
   "metadata": {},
   "outputs": [],
   "source": [
    "from langchain_community.vectorstores import Qdrant\n",
    "from qdrant_client import QdrantClient\n",
    "from qdrant_client.models import Distance, VectorParams, PointStruct\n",
    "from langchain_openai import OpenAIEmbeddings\n",
    "from langchain_openai.embeddings import OpenAIEmbeddings\n",
    "import json"
   ]
  },
  {
   "cell_type": "code",
   "execution_count": 9,
   "metadata": {},
   "outputs": [],
   "source": [
    "# Initialize Qdrant\n",
    "qdrant_client = QdrantClient(\":memory:\")  # Use persistent URL for real use case"
   ]
  },
  {
   "cell_type": "code",
   "execution_count": 10,
   "metadata": {},
   "outputs": [
    {
     "data": {
      "text/plain": [
       "True"
      ]
     },
     "execution_count": 10,
     "metadata": {},
     "output_type": "execute_result"
    }
   ],
   "source": [
    "# Define collection\n",
    "qdrant_client.create_collection(\n",
    "    collection_name=\"travel_data_002\",\n",
    "    vectors_config=VectorParams(size=1536, distance=Distance.COSINE)  # Ensure size matches OpenAI embeddings\n",
    ")"
   ]
  },
  {
   "cell_type": "code",
   "execution_count": 3,
   "metadata": {},
   "outputs": [
    {
     "name": "stdout",
     "output_type": "stream",
     "text": [
      "✅ Access token received: zMWvXwKXJYYKM9mqbHeHwmhcAxji\n"
     ]
    }
   ],
   "source": [
    "AMADEUS_CLIENT_ID = \"1nsyVeNCT6PQtpqb1iG5MsIPWTkvN8bU\"\n",
    "AMADEUS_CLIENT_SECRET = \"GizAt9lxJi00tWG7\"\n",
    "AMADEUS_AUTH_URL = \"https://test.api.amadeus.com/v1/security/oauth2/token\"\n",
    "\n",
    "# Step 1: Get Access Token\n",
    "def get_amadeus_access_token():\n",
    "    headers = {\"Content-Type\": \"application/x-www-form-urlencoded\"}\n",
    "    data = {\n",
    "        \"grant_type\": \"client_credentials\",\n",
    "        \"client_id\": AMADEUS_CLIENT_ID,\n",
    "        \"client_secret\": AMADEUS_CLIENT_SECRET\n",
    "    }\n",
    "    \n",
    "    response = requests.post(AMADEUS_AUTH_URL, headers=headers, data=data)\n",
    "\n",
    "    if response.status_code == 200:\n",
    "        token = response.json().get(\"access_token\")\n",
    "        print(\"✅ Access token received:\", token)  # Print token for debugging\n",
    "        return token\n",
    "    else:\n",
    "        print(\"❌ Failed to get access token:\", response.json())\n",
    "        return None\n",
    "\n",
    "# Get and print the access token\n",
    "access_token = get_amadeus_access_token()"
   ]
  },
  {
   "cell_type": "code",
   "execution_count": 4,
   "metadata": {},
   "outputs": [
    {
     "name": "stdout",
     "output_type": "stream",
     "text": [
      "✅ API response received: {'meta': {'count': 3, 'links': {'self': 'https://test.api.amadeus.com/v2/shopping/flight-offers?originLocationCode=NYC&destinationLocationCode=LON&departureDate=2025-05-01&adults=1&max=3'}}, 'data': [{'type': 'flight-offer', 'id': '1', 'source': 'GDS', 'instantTicketingRequired': False, 'nonHomogeneous': False, 'oneWay': False, 'isUpsellOffer': False, 'lastTicketingDate': '2025-02-21', 'lastTicketingDateTime': '2025-02-21', 'numberOfBookableSeats': 9, 'itineraries': [{'duration': 'PT7H25M', 'segments': [{'departure': {'iataCode': 'JFK', 'terminal': '4', 'at': '2025-05-01T18:00:00'}, 'arrival': {'iataCode': 'LHR', 'terminal': '3', 'at': '2025-05-02T06:25:00'}, 'carrierCode': 'VS', 'number': '4', 'aircraft': {'code': '339'}, 'operating': {'carrierCode': 'VS'}, 'duration': 'PT7H25M', 'id': '1', 'numberOfStops': 0, 'blacklistedInEU': False}]}], 'price': {'currency': 'EUR', 'total': '301.18', 'base': '116.00', 'fees': [{'amount': '0.00', 'type': 'SUPPLIER'}, {'amount': '0.00', 'type': 'TICKETING'}], 'grandTotal': '301.18'}, 'pricingOptions': {'fareType': ['PUBLISHED'], 'includedCheckedBagsOnly': False}, 'validatingAirlineCodes': ['VS'], 'travelerPricings': [{'travelerId': '1', 'fareOption': 'STANDARD', 'travelerType': 'ADULT', 'price': {'currency': 'EUR', 'total': '301.18', 'base': '116.00'}, 'fareDetailsBySegment': [{'segmentId': '1', 'cabin': 'ECONOMY', 'fareBasis': 'XLN89NB7', 'brandedFare': 'LIGHT', 'brandedFareLabel': 'ECONOMY LIGHT', 'class': 'T', 'includedCheckedBags': {'quantity': 0}, 'includedCabinBags': {'quantity': 1}, 'amenities': [{'description': '1ST BAG MAX 23KG', 'isChargeable': True, 'amenityType': 'BAGGAGE', 'amenityProvider': {'name': 'BrandedFare'}}, {'description': 'ADVANCED SEAT SELECTION', 'isChargeable': False, 'amenityType': 'PRE_RESERVED_SEAT', 'amenityProvider': {'name': 'BrandedFare'}}, {'description': 'MEALS AND DRINKS', 'isChargeable': False, 'amenityType': 'MEAL', 'amenityProvider': {'name': 'BrandedFare'}}, {'description': 'EARN MILES', 'isChargeable': False, 'amenityType': 'BRANDED_FARES', 'amenityProvider': {'name': 'BrandedFare'}}, {'description': 'UPGRADES', 'isChargeable': True, 'amenityType': 'BRANDED_FARES', 'amenityProvider': {'name': 'BrandedFare'}}, {'description': 'CHANGES', 'isChargeable': True, 'amenityType': 'BRANDED_FARES', 'amenityProvider': {'name': 'BrandedFare'}}]}]}]}, {'type': 'flight-offer', 'id': '2', 'source': 'GDS', 'instantTicketingRequired': False, 'nonHomogeneous': False, 'oneWay': False, 'isUpsellOffer': False, 'lastTicketingDate': '2025-02-21', 'lastTicketingDateTime': '2025-02-21', 'numberOfBookableSeats': 9, 'itineraries': [{'duration': 'PT7H25M', 'segments': [{'departure': {'iataCode': 'JFK', 'terminal': '4', 'at': '2025-05-01T21:00:00'}, 'arrival': {'iataCode': 'LHR', 'terminal': '3', 'at': '2025-05-02T09:25:00'}, 'carrierCode': 'VS', 'number': '154', 'aircraft': {'code': '339'}, 'operating': {'carrierCode': 'VS'}, 'duration': 'PT7H25M', 'id': '2', 'numberOfStops': 0, 'blacklistedInEU': False}]}], 'price': {'currency': 'EUR', 'total': '301.18', 'base': '116.00', 'fees': [{'amount': '0.00', 'type': 'SUPPLIER'}, {'amount': '0.00', 'type': 'TICKETING'}], 'grandTotal': '301.18'}, 'pricingOptions': {'fareType': ['PUBLISHED'], 'includedCheckedBagsOnly': False}, 'validatingAirlineCodes': ['VS'], 'travelerPricings': [{'travelerId': '1', 'fareOption': 'STANDARD', 'travelerType': 'ADULT', 'price': {'currency': 'EUR', 'total': '301.18', 'base': '116.00'}, 'fareDetailsBySegment': [{'segmentId': '2', 'cabin': 'ECONOMY', 'fareBasis': 'XLN89NB7', 'brandedFare': 'LIGHT', 'brandedFareLabel': 'ECONOMY LIGHT', 'class': 'T', 'includedCheckedBags': {'quantity': 0}, 'includedCabinBags': {'quantity': 1}, 'amenities': [{'description': '1ST BAG MAX 23KG', 'isChargeable': True, 'amenityType': 'BAGGAGE', 'amenityProvider': {'name': 'BrandedFare'}}, {'description': 'ADVANCED SEAT SELECTION', 'isChargeable': False, 'amenityType': 'PRE_RESERVED_SEAT', 'amenityProvider': {'name': 'BrandedFare'}}, {'description': 'MEALS AND DRINKS', 'isChargeable': False, 'amenityType': 'MEAL', 'amenityProvider': {'name': 'BrandedFare'}}, {'description': 'EARN MILES', 'isChargeable': False, 'amenityType': 'BRANDED_FARES', 'amenityProvider': {'name': 'BrandedFare'}}, {'description': 'UPGRADES', 'isChargeable': True, 'amenityType': 'BRANDED_FARES', 'amenityProvider': {'name': 'BrandedFare'}}, {'description': 'CHANGES', 'isChargeable': True, 'amenityType': 'BRANDED_FARES', 'amenityProvider': {'name': 'BrandedFare'}}]}]}]}, {'type': 'flight-offer', 'id': '3', 'source': 'GDS', 'instantTicketingRequired': False, 'nonHomogeneous': False, 'oneWay': False, 'isUpsellOffer': False, 'lastTicketingDate': '2025-02-21', 'lastTicketingDateTime': '2025-02-21', 'numberOfBookableSeats': 9, 'itineraries': [{'duration': 'PT10H35M', 'segments': [{'departure': {'iataCode': 'JFK', 'terminal': '1', 'at': '2025-05-01T01:00:00'}, 'arrival': {'iataCode': 'CDG', 'terminal': '2E', 'at': '2025-05-01T14:15:00'}, 'carrierCode': 'VS', 'number': '6707', 'aircraft': {'code': '359'}, 'operating': {'carrierCode': 'AF'}, 'duration': 'PT7H15M', 'id': '3', 'numberOfStops': 0, 'blacklistedInEU': False}, {'departure': {'iataCode': 'CDG', 'terminal': '2E', 'at': '2025-05-01T16:10:00'}, 'arrival': {'iataCode': 'LHR', 'terminal': '4', 'at': '2025-05-01T16:35:00'}, 'carrierCode': 'VS', 'number': '6656', 'aircraft': {'code': '223'}, 'operating': {'carrierCode': 'AF'}, 'duration': 'PT1H25M', 'id': '4', 'numberOfStops': 0, 'blacklistedInEU': False}]}], 'price': {'currency': 'EUR', 'total': '318.07', 'base': '116.00', 'fees': [{'amount': '0.00', 'type': 'SUPPLIER'}, {'amount': '0.00', 'type': 'TICKETING'}], 'grandTotal': '318.07'}, 'pricingOptions': {'fareType': ['PUBLISHED'], 'includedCheckedBagsOnly': False}, 'validatingAirlineCodes': ['VS'], 'travelerPricings': [{'travelerId': '1', 'fareOption': 'STANDARD', 'travelerType': 'ADULT', 'price': {'currency': 'EUR', 'total': '318.07', 'base': '116.00'}, 'fareDetailsBySegment': [{'segmentId': '3', 'cabin': 'ECONOMY', 'fareBasis': 'XLN89NB7', 'brandedFare': 'LIGHT', 'brandedFareLabel': 'ECONOMY LIGHT', 'class': 'T', 'includedCheckedBags': {'quantity': 0}, 'includedCabinBags': {'quantity': 1}, 'amenities': [{'description': '1ST BAG MAX 23KG', 'isChargeable': True, 'amenityType': 'BAGGAGE', 'amenityProvider': {'name': 'BrandedFare'}}, {'description': 'ADVANCED SEAT SELECTION', 'isChargeable': False, 'amenityType': 'PRE_RESERVED_SEAT', 'amenityProvider': {'name': 'BrandedFare'}}, {'description': 'MEALS AND DRINKS', 'isChargeable': False, 'amenityType': 'MEAL', 'amenityProvider': {'name': 'BrandedFare'}}, {'description': 'EARN MILES', 'isChargeable': False, 'amenityType': 'BRANDED_FARES', 'amenityProvider': {'name': 'BrandedFare'}}, {'description': 'UPGRADES', 'isChargeable': True, 'amenityType': 'BRANDED_FARES', 'amenityProvider': {'name': 'BrandedFare'}}, {'description': 'CHANGES', 'isChargeable': True, 'amenityType': 'BRANDED_FARES', 'amenityProvider': {'name': 'BrandedFare'}}]}, {'segmentId': '4', 'cabin': 'ECONOMY', 'fareBasis': 'XLN89NB7', 'brandedFare': 'LIGHT', 'brandedFareLabel': 'ECONOMY LIGHT', 'class': 'T', 'includedCheckedBags': {'quantity': 0}, 'includedCabinBags': {'quantity': 1}, 'amenities': [{'description': '1ST BAG MAX 23KG', 'isChargeable': True, 'amenityType': 'BAGGAGE', 'amenityProvider': {'name': 'BrandedFare'}}, {'description': 'ADVANCED SEAT SELECTION', 'isChargeable': False, 'amenityType': 'PRE_RESERVED_SEAT', 'amenityProvider': {'name': 'BrandedFare'}}, {'description': 'MEALS AND DRINKS', 'isChargeable': False, 'amenityType': 'MEAL', 'amenityProvider': {'name': 'BrandedFare'}}, {'description': 'EARN MILES', 'isChargeable': False, 'amenityType': 'BRANDED_FARES', 'amenityProvider': {'name': 'BrandedFare'}}, {'description': 'UPGRADES', 'isChargeable': True, 'amenityType': 'BRANDED_FARES', 'amenityProvider': {'name': 'BrandedFare'}}, {'description': 'CHANGES', 'isChargeable': True, 'amenityType': 'BRANDED_FARES', 'amenityProvider': {'name': 'BrandedFare'}}]}]}]}], 'dictionaries': {'locations': {'CDG': {'cityCode': 'PAR', 'countryCode': 'FR'}, 'LHR': {'cityCode': 'LON', 'countryCode': 'GB'}, 'JFK': {'cityCode': 'NYC', 'countryCode': 'US'}}, 'aircraft': {'223': 'AIRBUS  A220-300', '359': 'AIRBUS A350-900', '339': 'AIRBUS A330-900NEO PASSENGER'}, 'currencies': {'EUR': 'EURO'}, 'carriers': {'AF': 'AIR FRANCE', 'VS': 'VIRGIN ATLANTIC'}}}\n"
     ]
    }
   ],
   "source": [
    "if access_token:\n",
    "    FLIGHTS_API_URL = \"https://test.api.amadeus.com/v2/shopping/flight-offers\"\n",
    "\n",
    "    headers = {\"Authorization\": f\"Bearer {access_token}\"}\n",
    "\n",
    "    params = {\n",
    "        \"originLocationCode\": \"NYC\",\n",
    "        \"destinationLocationCode\": \"LON\",\n",
    "        \"departureDate\": \"2025-05-01\",\n",
    "        \"adults\": 1,\n",
    "        \"max\": 3\n",
    "    }\n",
    "\n",
    "    response = requests.get(FLIGHTS_API_URL, headers=headers, params=params)\n",
    "\n",
    "    if response.status_code == 200:\n",
    "        print(\"✅ API response received:\", response.json())\n",
    "    else:\n",
    "        print(\"❌ API Error:\", response.json())"
   ]
  },
  {
   "cell_type": "code",
   "execution_count": 9,
   "metadata": {},
   "outputs": [],
   "source": [
    "# Step 2: Fetch Flight Offers from Amadeus\n",
    "def fetch_flight_data(origin, destination, departure_date):\n",
    "    access_token = get_amadeus_access_token()\n",
    "    FLIGHTS_API_URL = \"https://test.api.amadeus.com/v2/shopping/flight-offers\"\n",
    "    # url = f\"https://test.api.amadeus.com/v2/shopping/flight-offers?origin={origin}&destination={destination}&departureDate={departure_date}&nonStop=false&max=3\"\n",
    "\n",
    "    headers = {\"Authorization\": f\"Bearer {access_token}\"}\n",
    "    \n",
    "    params = {\n",
    "        \"originLocationCode\": origin,\n",
    "        \"destinationLocationCode\": destination,\n",
    "        \"departureDate\": departure_date,\n",
    "        \"adults\": 1,\n",
    "        \"max\": 3\n",
    "    }\n",
    "    \n",
    "    response = requests.get(FLIGHTS_API_URL, headers=headers, params=params)\n",
    "\n",
    "    if response.status_code == 200:\n",
    "        print(\"✅ API response received:\", response.json())\n",
    "    else:\n",
    "        print(\"❌ API Error:\", response.json())    "
   ]
  },
  {
   "cell_type": "code",
   "execution_count": 10,
   "metadata": {},
   "outputs": [
    {
     "name": "stdout",
     "output_type": "stream",
     "text": [
      "✅ Access token received: GIsmGWeqICZPc0LG4uL56nRcAeUz\n",
      "✅ API response received: {'meta': {'count': 3, 'links': {'self': 'https://test.api.amadeus.com/v2/shopping/flight-offers?originLocationCode=NYC&destinationLocationCode=LON&departureDate=2025-05-01&adults=1&max=3'}}, 'data': [{'type': 'flight-offer', 'id': '1', 'source': 'GDS', 'instantTicketingRequired': False, 'nonHomogeneous': False, 'oneWay': False, 'isUpsellOffer': False, 'lastTicketingDate': '2025-02-21', 'lastTicketingDateTime': '2025-02-21', 'numberOfBookableSeats': 9, 'itineraries': [{'duration': 'PT7H25M', 'segments': [{'departure': {'iataCode': 'JFK', 'terminal': '4', 'at': '2025-05-01T18:00:00'}, 'arrival': {'iataCode': 'LHR', 'terminal': '3', 'at': '2025-05-02T06:25:00'}, 'carrierCode': 'VS', 'number': '4', 'aircraft': {'code': '339'}, 'operating': {'carrierCode': 'VS'}, 'duration': 'PT7H25M', 'id': '1', 'numberOfStops': 0, 'blacklistedInEU': False}]}], 'price': {'currency': 'EUR', 'total': '301.18', 'base': '116.00', 'fees': [{'amount': '0.00', 'type': 'SUPPLIER'}, {'amount': '0.00', 'type': 'TICKETING'}], 'grandTotal': '301.18'}, 'pricingOptions': {'fareType': ['PUBLISHED'], 'includedCheckedBagsOnly': False}, 'validatingAirlineCodes': ['VS'], 'travelerPricings': [{'travelerId': '1', 'fareOption': 'STANDARD', 'travelerType': 'ADULT', 'price': {'currency': 'EUR', 'total': '301.18', 'base': '116.00'}, 'fareDetailsBySegment': [{'segmentId': '1', 'cabin': 'ECONOMY', 'fareBasis': 'XLN89NB7', 'brandedFare': 'LIGHT', 'brandedFareLabel': 'ECONOMY LIGHT', 'class': 'T', 'includedCheckedBags': {'quantity': 0}, 'includedCabinBags': {'quantity': 1}, 'amenities': [{'description': '1ST BAG MAX 23KG', 'isChargeable': True, 'amenityType': 'BAGGAGE', 'amenityProvider': {'name': 'BrandedFare'}}, {'description': 'ADVANCED SEAT SELECTION', 'isChargeable': False, 'amenityType': 'PRE_RESERVED_SEAT', 'amenityProvider': {'name': 'BrandedFare'}}, {'description': 'MEALS AND DRINKS', 'isChargeable': False, 'amenityType': 'MEAL', 'amenityProvider': {'name': 'BrandedFare'}}, {'description': 'EARN MILES', 'isChargeable': False, 'amenityType': 'BRANDED_FARES', 'amenityProvider': {'name': 'BrandedFare'}}, {'description': 'UPGRADES', 'isChargeable': True, 'amenityType': 'BRANDED_FARES', 'amenityProvider': {'name': 'BrandedFare'}}, {'description': 'CHANGES', 'isChargeable': True, 'amenityType': 'BRANDED_FARES', 'amenityProvider': {'name': 'BrandedFare'}}]}]}]}, {'type': 'flight-offer', 'id': '2', 'source': 'GDS', 'instantTicketingRequired': False, 'nonHomogeneous': False, 'oneWay': False, 'isUpsellOffer': False, 'lastTicketingDate': '2025-02-21', 'lastTicketingDateTime': '2025-02-21', 'numberOfBookableSeats': 9, 'itineraries': [{'duration': 'PT7H25M', 'segments': [{'departure': {'iataCode': 'JFK', 'terminal': '4', 'at': '2025-05-01T21:00:00'}, 'arrival': {'iataCode': 'LHR', 'terminal': '3', 'at': '2025-05-02T09:25:00'}, 'carrierCode': 'VS', 'number': '154', 'aircraft': {'code': '339'}, 'operating': {'carrierCode': 'VS'}, 'duration': 'PT7H25M', 'id': '2', 'numberOfStops': 0, 'blacklistedInEU': False}]}], 'price': {'currency': 'EUR', 'total': '301.18', 'base': '116.00', 'fees': [{'amount': '0.00', 'type': 'SUPPLIER'}, {'amount': '0.00', 'type': 'TICKETING'}], 'grandTotal': '301.18'}, 'pricingOptions': {'fareType': ['PUBLISHED'], 'includedCheckedBagsOnly': False}, 'validatingAirlineCodes': ['VS'], 'travelerPricings': [{'travelerId': '1', 'fareOption': 'STANDARD', 'travelerType': 'ADULT', 'price': {'currency': 'EUR', 'total': '301.18', 'base': '116.00'}, 'fareDetailsBySegment': [{'segmentId': '2', 'cabin': 'ECONOMY', 'fareBasis': 'XLN89NB7', 'brandedFare': 'LIGHT', 'brandedFareLabel': 'ECONOMY LIGHT', 'class': 'T', 'includedCheckedBags': {'quantity': 0}, 'includedCabinBags': {'quantity': 1}, 'amenities': [{'description': '1ST BAG MAX 23KG', 'isChargeable': True, 'amenityType': 'BAGGAGE', 'amenityProvider': {'name': 'BrandedFare'}}, {'description': 'ADVANCED SEAT SELECTION', 'isChargeable': False, 'amenityType': 'PRE_RESERVED_SEAT', 'amenityProvider': {'name': 'BrandedFare'}}, {'description': 'MEALS AND DRINKS', 'isChargeable': False, 'amenityType': 'MEAL', 'amenityProvider': {'name': 'BrandedFare'}}, {'description': 'EARN MILES', 'isChargeable': False, 'amenityType': 'BRANDED_FARES', 'amenityProvider': {'name': 'BrandedFare'}}, {'description': 'UPGRADES', 'isChargeable': True, 'amenityType': 'BRANDED_FARES', 'amenityProvider': {'name': 'BrandedFare'}}, {'description': 'CHANGES', 'isChargeable': True, 'amenityType': 'BRANDED_FARES', 'amenityProvider': {'name': 'BrandedFare'}}]}]}]}, {'type': 'flight-offer', 'id': '3', 'source': 'GDS', 'instantTicketingRequired': False, 'nonHomogeneous': False, 'oneWay': False, 'isUpsellOffer': False, 'lastTicketingDate': '2025-02-21', 'lastTicketingDateTime': '2025-02-21', 'numberOfBookableSeats': 9, 'itineraries': [{'duration': 'PT10H30M', 'segments': [{'departure': {'iataCode': 'JFK', 'terminal': '1', 'at': '2025-05-01T16:30:00'}, 'arrival': {'iataCode': 'CDG', 'terminal': '2E', 'at': '2025-05-02T05:55:00'}, 'carrierCode': 'VS', 'number': '6717', 'aircraft': {'code': '77W'}, 'operating': {'carrierCode': 'AF'}, 'duration': 'PT7H25M', 'id': '3', 'numberOfStops': 0, 'blacklistedInEU': False}, {'departure': {'iataCode': 'CDG', 'terminal': '2E', 'at': '2025-05-02T07:35:00'}, 'arrival': {'iataCode': 'LHR', 'terminal': '4', 'at': '2025-05-02T08:00:00'}, 'carrierCode': 'VS', 'number': '6662', 'aircraft': {'code': '223'}, 'operating': {'carrierCode': 'AF'}, 'duration': 'PT1H25M', 'id': '4', 'numberOfStops': 0, 'blacklistedInEU': False}]}], 'price': {'currency': 'EUR', 'total': '318.07', 'base': '116.00', 'fees': [{'amount': '0.00', 'type': 'SUPPLIER'}, {'amount': '0.00', 'type': 'TICKETING'}], 'grandTotal': '318.07'}, 'pricingOptions': {'fareType': ['PUBLISHED'], 'includedCheckedBagsOnly': False}, 'validatingAirlineCodes': ['VS'], 'travelerPricings': [{'travelerId': '1', 'fareOption': 'STANDARD', 'travelerType': 'ADULT', 'price': {'currency': 'EUR', 'total': '318.07', 'base': '116.00'}, 'fareDetailsBySegment': [{'segmentId': '3', 'cabin': 'ECONOMY', 'fareBasis': 'XLN89NB7', 'brandedFare': 'LIGHT', 'brandedFareLabel': 'ECONOMY LIGHT', 'class': 'T', 'includedCheckedBags': {'quantity': 0}, 'includedCabinBags': {'quantity': 1}, 'amenities': [{'description': '1ST BAG MAX 23KG', 'isChargeable': True, 'amenityType': 'BAGGAGE', 'amenityProvider': {'name': 'BrandedFare'}}, {'description': 'ADVANCED SEAT SELECTION', 'isChargeable': False, 'amenityType': 'PRE_RESERVED_SEAT', 'amenityProvider': {'name': 'BrandedFare'}}, {'description': 'MEALS AND DRINKS', 'isChargeable': False, 'amenityType': 'MEAL', 'amenityProvider': {'name': 'BrandedFare'}}, {'description': 'EARN MILES', 'isChargeable': False, 'amenityType': 'BRANDED_FARES', 'amenityProvider': {'name': 'BrandedFare'}}, {'description': 'UPGRADES', 'isChargeable': True, 'amenityType': 'BRANDED_FARES', 'amenityProvider': {'name': 'BrandedFare'}}, {'description': 'CHANGES', 'isChargeable': True, 'amenityType': 'BRANDED_FARES', 'amenityProvider': {'name': 'BrandedFare'}}]}, {'segmentId': '4', 'cabin': 'ECONOMY', 'fareBasis': 'XLN89NB7', 'brandedFare': 'LIGHT', 'brandedFareLabel': 'ECONOMY LIGHT', 'class': 'T', 'includedCheckedBags': {'quantity': 0}, 'includedCabinBags': {'quantity': 1}, 'amenities': [{'description': '1ST BAG MAX 23KG', 'isChargeable': True, 'amenityType': 'BAGGAGE', 'amenityProvider': {'name': 'BrandedFare'}}, {'description': 'ADVANCED SEAT SELECTION', 'isChargeable': False, 'amenityType': 'PRE_RESERVED_SEAT', 'amenityProvider': {'name': 'BrandedFare'}}, {'description': 'MEALS AND DRINKS', 'isChargeable': False, 'amenityType': 'MEAL', 'amenityProvider': {'name': 'BrandedFare'}}, {'description': 'EARN MILES', 'isChargeable': False, 'amenityType': 'BRANDED_FARES', 'amenityProvider': {'name': 'BrandedFare'}}, {'description': 'UPGRADES', 'isChargeable': True, 'amenityType': 'BRANDED_FARES', 'amenityProvider': {'name': 'BrandedFare'}}, {'description': 'CHANGES', 'isChargeable': True, 'amenityType': 'BRANDED_FARES', 'amenityProvider': {'name': 'BrandedFare'}}]}]}]}], 'dictionaries': {'locations': {'CDG': {'cityCode': 'PAR', 'countryCode': 'FR'}, 'LHR': {'cityCode': 'LON', 'countryCode': 'GB'}, 'JFK': {'cityCode': 'NYC', 'countryCode': 'US'}}, 'aircraft': {'223': 'AIRBUS  A220-300', '77W': 'BOEING 777-300ER', '339': 'AIRBUS A330-900NEO PASSENGER'}, 'currencies': {'EUR': 'EURO'}, 'carriers': {'AF': 'AIR FRANCE', 'VS': 'VIRGIN ATLANTIC'}}}\n"
     ]
    }
   ],
   "source": [
    "tmp = fetch_flight_data(\"NYC\", \"LON\", \"2025-05-01\")"
   ]
  },
  {
   "cell_type": "code",
   "execution_count": null,
   "metadata": {},
   "outputs": [],
   "source": []
  },
  {
   "cell_type": "code",
   "execution_count": 11,
   "metadata": {},
   "outputs": [],
   "source": [
    "# Initialize OpenAI Embeddings\n",
    "embeddings = OpenAIEmbeddings()\n",
    "\n",
    "# Step 1: Process and Embed Data\n",
    "def preprocess_and_store(data):\n",
    "    all_flights = data.get(\"data\", [])\n",
    "\n",
    "    points = []\n",
    "    for index, flight in enumerate(all_flights):\n",
    "        text_data = json.dumps(flight, indent=2)  # Convert JSON to text\n",
    "        vector = embeddings.embed_query(text_data)  # Get vector embedding\n",
    "\n",
    "        # Store in Qdrant\n",
    "        points.append(\n",
    "            PointStruct(id=index, vector=vector, payload={\"content\": text_data})\n",
    "        )\n",
    "\n",
    "    # Insert into Qdrant\n",
    "    qdrant_client.upsert(collection_name=\"travel_data_002\", points=points)"
   ]
  },
  {
   "cell_type": "code",
   "execution_count": 12,
   "metadata": {},
   "outputs": [
    {
     "name": "stdout",
     "output_type": "stream",
     "text": [
      "✅ Access token received: ABjx4Cx6jhlSAgEbAB6ljWnNGzJe\n",
      "✅ API response received: {'meta': {'count': 3, 'links': {'self': 'https://test.api.amadeus.com/v2/shopping/flight-offers?originLocationCode=NYC&destinationLocationCode=LON&departureDate=2025-05-01&adults=1&max=3'}}, 'data': [{'type': 'flight-offer', 'id': '1', 'source': 'GDS', 'instantTicketingRequired': False, 'nonHomogeneous': False, 'oneWay': False, 'isUpsellOffer': False, 'lastTicketingDate': '2025-02-21', 'lastTicketingDateTime': '2025-02-21', 'numberOfBookableSeats': 9, 'itineraries': [{'duration': 'PT7H25M', 'segments': [{'departure': {'iataCode': 'JFK', 'terminal': '4', 'at': '2025-05-01T18:00:00'}, 'arrival': {'iataCode': 'LHR', 'terminal': '3', 'at': '2025-05-02T06:25:00'}, 'carrierCode': 'VS', 'number': '4', 'aircraft': {'code': '339'}, 'operating': {'carrierCode': 'VS'}, 'duration': 'PT7H25M', 'id': '3', 'numberOfStops': 0, 'blacklistedInEU': False}]}], 'price': {'currency': 'EUR', 'total': '301.18', 'base': '116.00', 'fees': [{'amount': '0.00', 'type': 'SUPPLIER'}, {'amount': '0.00', 'type': 'TICKETING'}], 'grandTotal': '301.18'}, 'pricingOptions': {'fareType': ['PUBLISHED'], 'includedCheckedBagsOnly': False}, 'validatingAirlineCodes': ['VS'], 'travelerPricings': [{'travelerId': '1', 'fareOption': 'STANDARD', 'travelerType': 'ADULT', 'price': {'currency': 'EUR', 'total': '301.18', 'base': '116.00'}, 'fareDetailsBySegment': [{'segmentId': '3', 'cabin': 'ECONOMY', 'fareBasis': 'XLN89NB7', 'brandedFare': 'LIGHT', 'brandedFareLabel': 'ECONOMY LIGHT', 'class': 'T', 'includedCheckedBags': {'quantity': 0}, 'includedCabinBags': {'quantity': 1}, 'amenities': [{'description': '1ST BAG MAX 23KG', 'isChargeable': True, 'amenityType': 'BAGGAGE', 'amenityProvider': {'name': 'BrandedFare'}}, {'description': 'ADVANCED SEAT SELECTION', 'isChargeable': False, 'amenityType': 'PRE_RESERVED_SEAT', 'amenityProvider': {'name': 'BrandedFare'}}, {'description': 'MEALS AND DRINKS', 'isChargeable': False, 'amenityType': 'MEAL', 'amenityProvider': {'name': 'BrandedFare'}}, {'description': 'EARN MILES', 'isChargeable': False, 'amenityType': 'BRANDED_FARES', 'amenityProvider': {'name': 'BrandedFare'}}, {'description': 'UPGRADES', 'isChargeable': True, 'amenityType': 'BRANDED_FARES', 'amenityProvider': {'name': 'BrandedFare'}}, {'description': 'CHANGES', 'isChargeable': True, 'amenityType': 'BRANDED_FARES', 'amenityProvider': {'name': 'BrandedFare'}}]}]}]}, {'type': 'flight-offer', 'id': '2', 'source': 'GDS', 'instantTicketingRequired': False, 'nonHomogeneous': False, 'oneWay': False, 'isUpsellOffer': False, 'lastTicketingDate': '2025-02-21', 'lastTicketingDateTime': '2025-02-21', 'numberOfBookableSeats': 9, 'itineraries': [{'duration': 'PT7H25M', 'segments': [{'departure': {'iataCode': 'JFK', 'terminal': '4', 'at': '2025-05-01T21:00:00'}, 'arrival': {'iataCode': 'LHR', 'terminal': '3', 'at': '2025-05-02T09:25:00'}, 'carrierCode': 'VS', 'number': '154', 'aircraft': {'code': '339'}, 'operating': {'carrierCode': 'VS'}, 'duration': 'PT7H25M', 'id': '4', 'numberOfStops': 0, 'blacklistedInEU': False}]}], 'price': {'currency': 'EUR', 'total': '301.18', 'base': '116.00', 'fees': [{'amount': '0.00', 'type': 'SUPPLIER'}, {'amount': '0.00', 'type': 'TICKETING'}], 'grandTotal': '301.18'}, 'pricingOptions': {'fareType': ['PUBLISHED'], 'includedCheckedBagsOnly': False}, 'validatingAirlineCodes': ['VS'], 'travelerPricings': [{'travelerId': '1', 'fareOption': 'STANDARD', 'travelerType': 'ADULT', 'price': {'currency': 'EUR', 'total': '301.18', 'base': '116.00'}, 'fareDetailsBySegment': [{'segmentId': '4', 'cabin': 'ECONOMY', 'fareBasis': 'XLN89NB7', 'brandedFare': 'LIGHT', 'brandedFareLabel': 'ECONOMY LIGHT', 'class': 'T', 'includedCheckedBags': {'quantity': 0}, 'includedCabinBags': {'quantity': 1}, 'amenities': [{'description': '1ST BAG MAX 23KG', 'isChargeable': True, 'amenityType': 'BAGGAGE', 'amenityProvider': {'name': 'BrandedFare'}}, {'description': 'ADVANCED SEAT SELECTION', 'isChargeable': False, 'amenityType': 'PRE_RESERVED_SEAT', 'amenityProvider': {'name': 'BrandedFare'}}, {'description': 'MEALS AND DRINKS', 'isChargeable': False, 'amenityType': 'MEAL', 'amenityProvider': {'name': 'BrandedFare'}}, {'description': 'EARN MILES', 'isChargeable': False, 'amenityType': 'BRANDED_FARES', 'amenityProvider': {'name': 'BrandedFare'}}, {'description': 'UPGRADES', 'isChargeable': True, 'amenityType': 'BRANDED_FARES', 'amenityProvider': {'name': 'BrandedFare'}}, {'description': 'CHANGES', 'isChargeable': True, 'amenityType': 'BRANDED_FARES', 'amenityProvider': {'name': 'BrandedFare'}}]}]}]}, {'type': 'flight-offer', 'id': '3', 'source': 'GDS', 'instantTicketingRequired': False, 'nonHomogeneous': False, 'oneWay': False, 'isUpsellOffer': False, 'lastTicketingDate': '2025-02-21', 'lastTicketingDateTime': '2025-02-21', 'numberOfBookableSeats': 1, 'itineraries': [{'duration': 'PT11H10M', 'segments': [{'departure': {'iataCode': 'LGA', 'terminal': 'C', 'at': '2025-05-01T14:55:00'}, 'arrival': {'iataCode': 'DTW', 'terminal': 'M', 'at': '2025-05-01T16:58:00'}, 'carrierCode': 'VS', 'number': '2447', 'aircraft': {'code': '321'}, 'operating': {'carrierCode': 'DL'}, 'duration': 'PT2H3M', 'id': '1', 'numberOfStops': 0, 'blacklistedInEU': False}, {'departure': {'iataCode': 'DTW', 'terminal': 'M', 'at': '2025-05-01T18:25:00'}, 'arrival': {'iataCode': 'LHR', 'terminal': '3', 'at': '2025-05-02T07:05:00'}, 'carrierCode': 'VS', 'number': '4038', 'aircraft': {'code': '339'}, 'operating': {'carrierCode': 'DL'}, 'duration': 'PT7H40M', 'id': '2', 'numberOfStops': 0, 'blacklistedInEU': False}]}], 'price': {'currency': 'EUR', 'total': '301.18', 'base': '116.00', 'fees': [{'amount': '0.00', 'type': 'SUPPLIER'}, {'amount': '0.00', 'type': 'TICKETING'}], 'grandTotal': '301.18'}, 'pricingOptions': {'fareType': ['PUBLISHED'], 'includedCheckedBagsOnly': False}, 'validatingAirlineCodes': ['VS'], 'travelerPricings': [{'travelerId': '1', 'fareOption': 'STANDARD', 'travelerType': 'ADULT', 'price': {'currency': 'EUR', 'total': '301.18', 'base': '116.00'}, 'fareDetailsBySegment': [{'segmentId': '1', 'cabin': 'ECONOMY', 'fareBasis': 'XLN89NB7', 'brandedFare': 'LIGHT', 'brandedFareLabel': 'ECONOMY LIGHT', 'class': 'T', 'includedCheckedBags': {'quantity': 0}, 'includedCabinBags': {'quantity': 1}, 'amenities': [{'description': '1ST BAG MAX 23KG', 'isChargeable': True, 'amenityType': 'BAGGAGE', 'amenityProvider': {'name': 'BrandedFare'}}, {'description': 'ADVANCED SEAT SELECTION', 'isChargeable': False, 'amenityType': 'PRE_RESERVED_SEAT', 'amenityProvider': {'name': 'BrandedFare'}}, {'description': 'MEALS AND DRINKS', 'isChargeable': False, 'amenityType': 'MEAL', 'amenityProvider': {'name': 'BrandedFare'}}, {'description': 'EARN MILES', 'isChargeable': False, 'amenityType': 'BRANDED_FARES', 'amenityProvider': {'name': 'BrandedFare'}}, {'description': 'UPGRADES', 'isChargeable': True, 'amenityType': 'BRANDED_FARES', 'amenityProvider': {'name': 'BrandedFare'}}, {'description': 'CHANGES', 'isChargeable': True, 'amenityType': 'BRANDED_FARES', 'amenityProvider': {'name': 'BrandedFare'}}]}, {'segmentId': '2', 'cabin': 'ECONOMY', 'fareBasis': 'XLN89NB7', 'brandedFare': 'LIGHT', 'brandedFareLabel': 'ECONOMY LIGHT', 'class': 'T', 'includedCheckedBags': {'quantity': 0}, 'includedCabinBags': {'quantity': 1}, 'amenities': [{'description': '1ST BAG MAX 23KG', 'isChargeable': True, 'amenityType': 'BAGGAGE', 'amenityProvider': {'name': 'BrandedFare'}}, {'description': 'ADVANCED SEAT SELECTION', 'isChargeable': False, 'amenityType': 'PRE_RESERVED_SEAT', 'amenityProvider': {'name': 'BrandedFare'}}, {'description': 'MEALS AND DRINKS', 'isChargeable': False, 'amenityType': 'MEAL', 'amenityProvider': {'name': 'BrandedFare'}}, {'description': 'EARN MILES', 'isChargeable': False, 'amenityType': 'BRANDED_FARES', 'amenityProvider': {'name': 'BrandedFare'}}, {'description': 'UPGRADES', 'isChargeable': True, 'amenityType': 'BRANDED_FARES', 'amenityProvider': {'name': 'BrandedFare'}}, {'description': 'CHANGES', 'isChargeable': True, 'amenityType': 'BRANDED_FARES', 'amenityProvider': {'name': 'BrandedFare'}}]}]}]}], 'dictionaries': {'locations': {'DTW': {'cityCode': 'DTT', 'countryCode': 'US'}, 'LHR': {'cityCode': 'LON', 'countryCode': 'GB'}, 'LGA': {'cityCode': 'NYC', 'countryCode': 'US'}, 'JFK': {'cityCode': 'NYC', 'countryCode': 'US'}}, 'aircraft': {'321': 'AIRBUS A321', '339': 'AIRBUS A330-900NEO PASSENGER'}, 'currencies': {'EUR': 'EURO'}, 'carriers': {'DL': 'DELTA AIR LINES', 'VS': 'VIRGIN ATLANTIC'}}}\n",
      "None\n"
     ]
    }
   ],
   "source": [
    "# Fetch sample flight data\n",
    "flight_data = fetch_flight_data(\"NYC\", \"LON\", \"2025-05-01\")\n",
    "print(flight_data)"
   ]
  },
  {
   "cell_type": "code",
   "execution_count": 13,
   "metadata": {},
   "outputs": [
    {
     "ename": "AttributeError",
     "evalue": "'NoneType' object has no attribute 'get'",
     "output_type": "error",
     "traceback": [
      "\u001b[1;31m---------------------------------------------------------------------------\u001b[0m",
      "\u001b[1;31mAttributeError\u001b[0m                            Traceback (most recent call last)",
      "Cell \u001b[1;32mIn[13], line 2\u001b[0m\n\u001b[0;32m      1\u001b[0m \u001b[38;5;66;03m# Process and store Amadeus data in Qdrant\u001b[39;00m\n\u001b[1;32m----> 2\u001b[0m \u001b[43mpreprocess_and_store\u001b[49m\u001b[43m(\u001b[49m\u001b[43mflight_data\u001b[49m\u001b[43m)\u001b[49m\n",
      "Cell \u001b[1;32mIn[11], line 6\u001b[0m, in \u001b[0;36mpreprocess_and_store\u001b[1;34m(data)\u001b[0m\n\u001b[0;32m      5\u001b[0m \u001b[38;5;28;01mdef\u001b[39;00m\u001b[38;5;250m \u001b[39m\u001b[38;5;21mpreprocess_and_store\u001b[39m(data):\n\u001b[1;32m----> 6\u001b[0m     all_flights \u001b[38;5;241m=\u001b[39m \u001b[43mdata\u001b[49m\u001b[38;5;241;43m.\u001b[39;49m\u001b[43mget\u001b[49m(\u001b[38;5;124m\"\u001b[39m\u001b[38;5;124mdata\u001b[39m\u001b[38;5;124m\"\u001b[39m, [])\n\u001b[0;32m      8\u001b[0m     points \u001b[38;5;241m=\u001b[39m []\n\u001b[0;32m      9\u001b[0m     \u001b[38;5;28;01mfor\u001b[39;00m index, flight \u001b[38;5;129;01min\u001b[39;00m \u001b[38;5;28menumerate\u001b[39m(all_flights):\n",
      "\u001b[1;31mAttributeError\u001b[0m: 'NoneType' object has no attribute 'get'"
     ]
    }
   ],
   "source": [
    "# Process and store Amadeus data in Qdrant\n",
    "preprocess_and_store(flight_data)"
   ]
  },
  {
   "cell_type": "code",
   "execution_count": null,
   "metadata": {},
   "outputs": [],
   "source": []
  }
 ],
 "metadata": {
  "kernelspec": {
   "display_name": "Python 3",
   "language": "python",
   "name": "python3"
  },
  "language_info": {
   "codemirror_mode": {
    "name": "ipython",
    "version": 3
   },
   "file_extension": ".py",
   "mimetype": "text/x-python",
   "name": "python",
   "nbconvert_exporter": "python",
   "pygments_lexer": "ipython3",
   "version": "3.13.1"
  }
 },
 "nbformat": 4,
 "nbformat_minor": 2
}
