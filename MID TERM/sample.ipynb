{
 "cells": [
  {
   "cell_type": "code",
   "execution_count": null,
   "metadata": {},
   "outputs": [],
   "source": [
    "import numpy\n",
    "import langchain-core\n"
   ]
  },
  {
   "cell_type": "code",
   "execution_count": 3,
   "metadata": {},
   "outputs": [
    {
     "name": "stdout",
     "output_type": "stream",
     "text": [
      "Defaulting to user installation because normal site-packages is not writeable\n",
      "Requirement already satisfied: numpy in c:\\users\\dabra\\appdata\\roaming\\python\\python313\\site-packages (2.2.2)\n"
     ]
    }
   ],
   "source": [
    "!pip install numpy"
   ]
  },
  {
   "cell_type": "code",
   "execution_count": null,
   "metadata": {},
   "outputs": [],
   "source": [
    "!pip uninstall langchain-core"
   ]
  },
  {
   "cell_type": "code",
   "execution_count": 1,
   "metadata": {},
   "outputs": [
    {
     "name": "stdout",
     "output_type": "stream",
     "text": [
      "Defaulting to user installation because normal site-packages is not writeable\n",
      "Collecting langchain-core<0.4.0,>=0.3.35\n",
      "  Downloading langchain_core-0.3.36-py3-none-any.whl.metadata (5.9 kB)\n",
      "Requirement already satisfied: langsmith<0.4,>=0.1.125 in c:\\users\\dabra\\appdata\\roaming\\python\\python313\\site-packages (from langchain-core<0.4.0,>=0.3.35) (0.1.147)\n",
      "Requirement already satisfied: tenacity!=8.4.0,<10.0.0,>=8.1.0 in c:\\users\\dabra\\appdata\\roaming\\python\\python313\\site-packages (from langchain-core<0.4.0,>=0.3.35) (8.5.0)\n",
      "Requirement already satisfied: jsonpatch<2.0,>=1.33 in c:\\users\\dabra\\appdata\\roaming\\python\\python313\\site-packages (from langchain-core<0.4.0,>=0.3.35) (1.33)\n",
      "Requirement already satisfied: PyYAML>=5.3 in c:\\users\\dabra\\appdata\\roaming\\python\\python313\\site-packages (from langchain-core<0.4.0,>=0.3.35) (6.0.2)\n",
      "Requirement already satisfied: packaging<25,>=23.2 in c:\\users\\dabra\\appdata\\roaming\\python\\python313\\site-packages (from langchain-core<0.4.0,>=0.3.35) (24.2)\n",
      "Requirement already satisfied: typing-extensions>=4.7 in c:\\users\\dabra\\appdata\\roaming\\python\\python313\\site-packages (from langchain-core<0.4.0,>=0.3.35) (4.12.2)\n",
      "Requirement already satisfied: pydantic<3.0.0,>=2.7.4 in c:\\users\\dabra\\appdata\\roaming\\python\\python313\\site-packages (from langchain-core<0.4.0,>=0.3.35) (2.10.6)\n",
      "Requirement already satisfied: jsonpointer>=1.9 in c:\\users\\dabra\\appdata\\roaming\\python\\python313\\site-packages (from jsonpatch<2.0,>=1.33->langchain-core<0.4.0,>=0.3.35) (3.0.0)\n",
      "Requirement already satisfied: httpx<1,>=0.23.0 in c:\\users\\dabra\\appdata\\roaming\\python\\python313\\site-packages (from langsmith<0.4,>=0.1.125->langchain-core<0.4.0,>=0.3.35) (0.28.1)\n",
      "Requirement already satisfied: orjson<4.0.0,>=3.9.14 in c:\\users\\dabra\\appdata\\roaming\\python\\python313\\site-packages (from langsmith<0.4,>=0.1.125->langchain-core<0.4.0,>=0.3.35) (3.10.15)\n",
      "Requirement already satisfied: requests<3,>=2 in c:\\users\\dabra\\appdata\\roaming\\python\\python313\\site-packages (from langsmith<0.4,>=0.1.125->langchain-core<0.4.0,>=0.3.35) (2.32.3)\n",
      "Requirement already satisfied: requests-toolbelt<2.0.0,>=1.0.0 in c:\\users\\dabra\\appdata\\roaming\\python\\python313\\site-packages (from langsmith<0.4,>=0.1.125->langchain-core<0.4.0,>=0.3.35) (1.0.0)\n",
      "Requirement already satisfied: annotated-types>=0.6.0 in c:\\users\\dabra\\appdata\\roaming\\python\\python313\\site-packages (from pydantic<3.0.0,>=2.7.4->langchain-core<0.4.0,>=0.3.35) (0.7.0)\n",
      "Requirement already satisfied: pydantic-core==2.27.2 in c:\\users\\dabra\\appdata\\roaming\\python\\python313\\site-packages (from pydantic<3.0.0,>=2.7.4->langchain-core<0.4.0,>=0.3.35) (2.27.2)\n",
      "Requirement already satisfied: anyio in c:\\users\\dabra\\appdata\\roaming\\python\\python313\\site-packages (from httpx<1,>=0.23.0->langsmith<0.4,>=0.1.125->langchain-core<0.4.0,>=0.3.35) (4.8.0)\n",
      "Requirement already satisfied: certifi in c:\\users\\dabra\\appdata\\roaming\\python\\python313\\site-packages (from httpx<1,>=0.23.0->langsmith<0.4,>=0.1.125->langchain-core<0.4.0,>=0.3.35) (2025.1.31)\n",
      "Requirement already satisfied: httpcore==1.* in c:\\users\\dabra\\appdata\\roaming\\python\\python313\\site-packages (from httpx<1,>=0.23.0->langsmith<0.4,>=0.1.125->langchain-core<0.4.0,>=0.3.35) (1.0.7)\n",
      "Requirement already satisfied: idna in c:\\users\\dabra\\appdata\\roaming\\python\\python313\\site-packages (from httpx<1,>=0.23.0->langsmith<0.4,>=0.1.125->langchain-core<0.4.0,>=0.3.35) (3.10)\n",
      "Requirement already satisfied: h11<0.15,>=0.13 in c:\\users\\dabra\\appdata\\roaming\\python\\python313\\site-packages (from httpcore==1.*->httpx<1,>=0.23.0->langsmith<0.4,>=0.1.125->langchain-core<0.4.0,>=0.3.35) (0.14.0)\n",
      "Requirement already satisfied: charset-normalizer<4,>=2 in c:\\users\\dabra\\appdata\\roaming\\python\\python313\\site-packages (from requests<3,>=2->langsmith<0.4,>=0.1.125->langchain-core<0.4.0,>=0.3.35) (3.4.1)\n",
      "Requirement already satisfied: urllib3<3,>=1.21.1 in c:\\users\\dabra\\appdata\\roaming\\python\\python313\\site-packages (from requests<3,>=2->langsmith<0.4,>=0.1.125->langchain-core<0.4.0,>=0.3.35) (2.3.0)\n",
      "Requirement already satisfied: sniffio>=1.1 in c:\\users\\dabra\\appdata\\roaming\\python\\python313\\site-packages (from anyio->httpx<1,>=0.23.0->langsmith<0.4,>=0.1.125->langchain-core<0.4.0,>=0.3.35) (1.3.1)\n",
      "Downloading langchain_core-0.3.36-py3-none-any.whl (413 kB)\n",
      "Installing collected packages: langchain-core\n",
      "  Attempting uninstall: langchain-core\n",
      "    Found existing installation: langchain-core 0.2.43\n",
      "    Uninstalling langchain-core-0.2.43:\n",
      "      Successfully uninstalled langchain-core-0.2.43\n",
      "Successfully installed langchain-core-0.3.36\n"
     ]
    },
    {
     "name": "stderr",
     "output_type": "stream",
     "text": [
      "ERROR: pip's dependency resolver does not currently take into account all the packages that are installed. This behaviour is the source of the following dependency conflicts.\n",
      "langgraph 0.2.14 requires langchain-core<0.3,>=0.2.27, but you have langchain-core 0.3.36 which is incompatible.\n"
     ]
    }
   ],
   "source": [
    "!pip install \"langchain-core>=0.3.35,<0.4.0\""
   ]
  },
  {
   "cell_type": "code",
   "execution_count": 2,
   "metadata": {},
   "outputs": [
    {
     "name": "stdout",
     "output_type": "stream",
     "text": [
      "Defaulting to user installation because normal site-packages is not writeable\n",
      "Collecting langgraph<0.3,>=0.2.20\n",
      "  Downloading langgraph-0.2.74-py3-none-any.whl.metadata (17 kB)\n",
      "Requirement already satisfied: langchain-core!=0.3.0,!=0.3.1,!=0.3.10,!=0.3.11,!=0.3.12,!=0.3.13,!=0.3.14,!=0.3.15,!=0.3.16,!=0.3.17,!=0.3.18,!=0.3.19,!=0.3.2,!=0.3.20,!=0.3.21,!=0.3.22,!=0.3.3,!=0.3.4,!=0.3.5,!=0.3.6,!=0.3.7,!=0.3.8,!=0.3.9,<0.4.0,>=0.2.43 in c:\\users\\dabra\\appdata\\roaming\\python\\python313\\site-packages (from langgraph<0.3,>=0.2.20) (0.3.36)\n",
      "Collecting langgraph-checkpoint<3.0.0,>=2.0.10 (from langgraph<0.3,>=0.2.20)\n",
      "  Downloading langgraph_checkpoint-2.0.16-py3-none-any.whl.metadata (4.6 kB)\n",
      "Requirement already satisfied: langgraph-sdk<0.2.0,>=0.1.42 in c:\\users\\dabra\\appdata\\roaming\\python\\python313\\site-packages (from langgraph<0.3,>=0.2.20) (0.1.51)\n",
      "Requirement already satisfied: langsmith<0.4,>=0.1.125 in c:\\users\\dabra\\appdata\\roaming\\python\\python313\\site-packages (from langchain-core!=0.3.0,!=0.3.1,!=0.3.10,!=0.3.11,!=0.3.12,!=0.3.13,!=0.3.14,!=0.3.15,!=0.3.16,!=0.3.17,!=0.3.18,!=0.3.19,!=0.3.2,!=0.3.20,!=0.3.21,!=0.3.22,!=0.3.3,!=0.3.4,!=0.3.5,!=0.3.6,!=0.3.7,!=0.3.8,!=0.3.9,<0.4.0,>=0.2.43->langgraph<0.3,>=0.2.20) (0.1.147)\n",
      "Requirement already satisfied: tenacity!=8.4.0,<10.0.0,>=8.1.0 in c:\\users\\dabra\\appdata\\roaming\\python\\python313\\site-packages (from langchain-core!=0.3.0,!=0.3.1,!=0.3.10,!=0.3.11,!=0.3.12,!=0.3.13,!=0.3.14,!=0.3.15,!=0.3.16,!=0.3.17,!=0.3.18,!=0.3.19,!=0.3.2,!=0.3.20,!=0.3.21,!=0.3.22,!=0.3.3,!=0.3.4,!=0.3.5,!=0.3.6,!=0.3.7,!=0.3.8,!=0.3.9,<0.4.0,>=0.2.43->langgraph<0.3,>=0.2.20) (8.5.0)\n",
      "Requirement already satisfied: jsonpatch<2.0,>=1.33 in c:\\users\\dabra\\appdata\\roaming\\python\\python313\\site-packages (from langchain-core!=0.3.0,!=0.3.1,!=0.3.10,!=0.3.11,!=0.3.12,!=0.3.13,!=0.3.14,!=0.3.15,!=0.3.16,!=0.3.17,!=0.3.18,!=0.3.19,!=0.3.2,!=0.3.20,!=0.3.21,!=0.3.22,!=0.3.3,!=0.3.4,!=0.3.5,!=0.3.6,!=0.3.7,!=0.3.8,!=0.3.9,<0.4.0,>=0.2.43->langgraph<0.3,>=0.2.20) (1.33)\n",
      "Requirement already satisfied: PyYAML>=5.3 in c:\\users\\dabra\\appdata\\roaming\\python\\python313\\site-packages (from langchain-core!=0.3.0,!=0.3.1,!=0.3.10,!=0.3.11,!=0.3.12,!=0.3.13,!=0.3.14,!=0.3.15,!=0.3.16,!=0.3.17,!=0.3.18,!=0.3.19,!=0.3.2,!=0.3.20,!=0.3.21,!=0.3.22,!=0.3.3,!=0.3.4,!=0.3.5,!=0.3.6,!=0.3.7,!=0.3.8,!=0.3.9,<0.4.0,>=0.2.43->langgraph<0.3,>=0.2.20) (6.0.2)\n",
      "Requirement already satisfied: packaging<25,>=23.2 in c:\\users\\dabra\\appdata\\roaming\\python\\python313\\site-packages (from langchain-core!=0.3.0,!=0.3.1,!=0.3.10,!=0.3.11,!=0.3.12,!=0.3.13,!=0.3.14,!=0.3.15,!=0.3.16,!=0.3.17,!=0.3.18,!=0.3.19,!=0.3.2,!=0.3.20,!=0.3.21,!=0.3.22,!=0.3.3,!=0.3.4,!=0.3.5,!=0.3.6,!=0.3.7,!=0.3.8,!=0.3.9,<0.4.0,>=0.2.43->langgraph<0.3,>=0.2.20) (24.2)\n",
      "Requirement already satisfied: typing-extensions>=4.7 in c:\\users\\dabra\\appdata\\roaming\\python\\python313\\site-packages (from langchain-core!=0.3.0,!=0.3.1,!=0.3.10,!=0.3.11,!=0.3.12,!=0.3.13,!=0.3.14,!=0.3.15,!=0.3.16,!=0.3.17,!=0.3.18,!=0.3.19,!=0.3.2,!=0.3.20,!=0.3.21,!=0.3.22,!=0.3.3,!=0.3.4,!=0.3.5,!=0.3.6,!=0.3.7,!=0.3.8,!=0.3.9,<0.4.0,>=0.2.43->langgraph<0.3,>=0.2.20) (4.12.2)\n",
      "Requirement already satisfied: pydantic<3.0.0,>=2.7.4 in c:\\users\\dabra\\appdata\\roaming\\python\\python313\\site-packages (from langchain-core!=0.3.0,!=0.3.1,!=0.3.10,!=0.3.11,!=0.3.12,!=0.3.13,!=0.3.14,!=0.3.15,!=0.3.16,!=0.3.17,!=0.3.18,!=0.3.19,!=0.3.2,!=0.3.20,!=0.3.21,!=0.3.22,!=0.3.3,!=0.3.4,!=0.3.5,!=0.3.6,!=0.3.7,!=0.3.8,!=0.3.9,<0.4.0,>=0.2.43->langgraph<0.3,>=0.2.20) (2.10.6)\n",
      "Requirement already satisfied: msgpack<2.0.0,>=1.1.0 in c:\\users\\dabra\\appdata\\roaming\\python\\python313\\site-packages (from langgraph-checkpoint<3.0.0,>=2.0.10->langgraph<0.3,>=0.2.20) (1.1.0)\n",
      "Requirement already satisfied: httpx>=0.25.2 in c:\\users\\dabra\\appdata\\roaming\\python\\python313\\site-packages (from langgraph-sdk<0.2.0,>=0.1.42->langgraph<0.3,>=0.2.20) (0.28.1)\n",
      "Requirement already satisfied: orjson>=3.10.1 in c:\\users\\dabra\\appdata\\roaming\\python\\python313\\site-packages (from langgraph-sdk<0.2.0,>=0.1.42->langgraph<0.3,>=0.2.20) (3.10.15)\n",
      "Requirement already satisfied: anyio in c:\\users\\dabra\\appdata\\roaming\\python\\python313\\site-packages (from httpx>=0.25.2->langgraph-sdk<0.2.0,>=0.1.42->langgraph<0.3,>=0.2.20) (4.8.0)\n",
      "Requirement already satisfied: certifi in c:\\users\\dabra\\appdata\\roaming\\python\\python313\\site-packages (from httpx>=0.25.2->langgraph-sdk<0.2.0,>=0.1.42->langgraph<0.3,>=0.2.20) (2025.1.31)\n",
      "Requirement already satisfied: httpcore==1.* in c:\\users\\dabra\\appdata\\roaming\\python\\python313\\site-packages (from httpx>=0.25.2->langgraph-sdk<0.2.0,>=0.1.42->langgraph<0.3,>=0.2.20) (1.0.7)\n",
      "Requirement already satisfied: idna in c:\\users\\dabra\\appdata\\roaming\\python\\python313\\site-packages (from httpx>=0.25.2->langgraph-sdk<0.2.0,>=0.1.42->langgraph<0.3,>=0.2.20) (3.10)\n",
      "Requirement already satisfied: h11<0.15,>=0.13 in c:\\users\\dabra\\appdata\\roaming\\python\\python313\\site-packages (from httpcore==1.*->httpx>=0.25.2->langgraph-sdk<0.2.0,>=0.1.42->langgraph<0.3,>=0.2.20) (0.14.0)\n",
      "Requirement already satisfied: jsonpointer>=1.9 in c:\\users\\dabra\\appdata\\roaming\\python\\python313\\site-packages (from jsonpatch<2.0,>=1.33->langchain-core!=0.3.0,!=0.3.1,!=0.3.10,!=0.3.11,!=0.3.12,!=0.3.13,!=0.3.14,!=0.3.15,!=0.3.16,!=0.3.17,!=0.3.18,!=0.3.19,!=0.3.2,!=0.3.20,!=0.3.21,!=0.3.22,!=0.3.3,!=0.3.4,!=0.3.5,!=0.3.6,!=0.3.7,!=0.3.8,!=0.3.9,<0.4.0,>=0.2.43->langgraph<0.3,>=0.2.20) (3.0.0)\n",
      "Requirement already satisfied: requests<3,>=2 in c:\\users\\dabra\\appdata\\roaming\\python\\python313\\site-packages (from langsmith<0.4,>=0.1.125->langchain-core!=0.3.0,!=0.3.1,!=0.3.10,!=0.3.11,!=0.3.12,!=0.3.13,!=0.3.14,!=0.3.15,!=0.3.16,!=0.3.17,!=0.3.18,!=0.3.19,!=0.3.2,!=0.3.20,!=0.3.21,!=0.3.22,!=0.3.3,!=0.3.4,!=0.3.5,!=0.3.6,!=0.3.7,!=0.3.8,!=0.3.9,<0.4.0,>=0.2.43->langgraph<0.3,>=0.2.20) (2.32.3)\n",
      "Requirement already satisfied: requests-toolbelt<2.0.0,>=1.0.0 in c:\\users\\dabra\\appdata\\roaming\\python\\python313\\site-packages (from langsmith<0.4,>=0.1.125->langchain-core!=0.3.0,!=0.3.1,!=0.3.10,!=0.3.11,!=0.3.12,!=0.3.13,!=0.3.14,!=0.3.15,!=0.3.16,!=0.3.17,!=0.3.18,!=0.3.19,!=0.3.2,!=0.3.20,!=0.3.21,!=0.3.22,!=0.3.3,!=0.3.4,!=0.3.5,!=0.3.6,!=0.3.7,!=0.3.8,!=0.3.9,<0.4.0,>=0.2.43->langgraph<0.3,>=0.2.20) (1.0.0)\n",
      "Requirement already satisfied: annotated-types>=0.6.0 in c:\\users\\dabra\\appdata\\roaming\\python\\python313\\site-packages (from pydantic<3.0.0,>=2.7.4->langchain-core!=0.3.0,!=0.3.1,!=0.3.10,!=0.3.11,!=0.3.12,!=0.3.13,!=0.3.14,!=0.3.15,!=0.3.16,!=0.3.17,!=0.3.18,!=0.3.19,!=0.3.2,!=0.3.20,!=0.3.21,!=0.3.22,!=0.3.3,!=0.3.4,!=0.3.5,!=0.3.6,!=0.3.7,!=0.3.8,!=0.3.9,<0.4.0,>=0.2.43->langgraph<0.3,>=0.2.20) (0.7.0)\n",
      "Requirement already satisfied: pydantic-core==2.27.2 in c:\\users\\dabra\\appdata\\roaming\\python\\python313\\site-packages (from pydantic<3.0.0,>=2.7.4->langchain-core!=0.3.0,!=0.3.1,!=0.3.10,!=0.3.11,!=0.3.12,!=0.3.13,!=0.3.14,!=0.3.15,!=0.3.16,!=0.3.17,!=0.3.18,!=0.3.19,!=0.3.2,!=0.3.20,!=0.3.21,!=0.3.22,!=0.3.3,!=0.3.4,!=0.3.5,!=0.3.6,!=0.3.7,!=0.3.8,!=0.3.9,<0.4.0,>=0.2.43->langgraph<0.3,>=0.2.20) (2.27.2)\n",
      "Requirement already satisfied: charset-normalizer<4,>=2 in c:\\users\\dabra\\appdata\\roaming\\python\\python313\\site-packages (from requests<3,>=2->langsmith<0.4,>=0.1.125->langchain-core!=0.3.0,!=0.3.1,!=0.3.10,!=0.3.11,!=0.3.12,!=0.3.13,!=0.3.14,!=0.3.15,!=0.3.16,!=0.3.17,!=0.3.18,!=0.3.19,!=0.3.2,!=0.3.20,!=0.3.21,!=0.3.22,!=0.3.3,!=0.3.4,!=0.3.5,!=0.3.6,!=0.3.7,!=0.3.8,!=0.3.9,<0.4.0,>=0.2.43->langgraph<0.3,>=0.2.20) (3.4.1)\n",
      "Requirement already satisfied: urllib3<3,>=1.21.1 in c:\\users\\dabra\\appdata\\roaming\\python\\python313\\site-packages (from requests<3,>=2->langsmith<0.4,>=0.1.125->langchain-core!=0.3.0,!=0.3.1,!=0.3.10,!=0.3.11,!=0.3.12,!=0.3.13,!=0.3.14,!=0.3.15,!=0.3.16,!=0.3.17,!=0.3.18,!=0.3.19,!=0.3.2,!=0.3.20,!=0.3.21,!=0.3.22,!=0.3.3,!=0.3.4,!=0.3.5,!=0.3.6,!=0.3.7,!=0.3.8,!=0.3.9,<0.4.0,>=0.2.43->langgraph<0.3,>=0.2.20) (2.3.0)\n",
      "Requirement already satisfied: sniffio>=1.1 in c:\\users\\dabra\\appdata\\roaming\\python\\python313\\site-packages (from anyio->httpx>=0.25.2->langgraph-sdk<0.2.0,>=0.1.42->langgraph<0.3,>=0.2.20) (1.3.1)\n",
      "Downloading langgraph-0.2.74-py3-none-any.whl (151 kB)\n",
      "Downloading langgraph_checkpoint-2.0.16-py3-none-any.whl (38 kB)\n",
      "Installing collected packages: langgraph-checkpoint, langgraph\n",
      "  Attempting uninstall: langgraph-checkpoint\n",
      "    Found existing installation: langgraph-checkpoint 1.0.12\n",
      "    Uninstalling langgraph-checkpoint-1.0.12:\n",
      "      Successfully uninstalled langgraph-checkpoint-1.0.12\n",
      "  Attempting uninstall: langgraph\n",
      "    Found existing installation: langgraph 0.2.14\n",
      "    Uninstalling langgraph-0.2.14:\n",
      "      Successfully uninstalled langgraph-0.2.14\n",
      "Successfully installed langgraph-0.2.74 langgraph-checkpoint-2.0.16\n"
     ]
    }
   ],
   "source": [
    "!pip install \"langgraph>=0.2.20,<0.3\""
   ]
  },
  {
   "cell_type": "code",
   "execution_count": 4,
   "metadata": {},
   "outputs": [
    {
     "name": "stdout",
     "output_type": "stream",
     "text": [
      "Defaulting to user installation because normal site-packages is not writeable\n",
      "Requirement already satisfied: langchain-community in c:\\users\\dabra\\appdata\\roaming\\python\\python313\\site-packages (0.3.17)\n",
      "Requirement already satisfied: langchain-core<1.0.0,>=0.3.34 in c:\\users\\dabra\\appdata\\roaming\\python\\python313\\site-packages (from langchain-community) (0.3.36)\n",
      "Requirement already satisfied: langchain<1.0.0,>=0.3.18 in c:\\users\\dabra\\appdata\\roaming\\python\\python313\\site-packages (from langchain-community) (0.3.19)\n",
      "Requirement already satisfied: SQLAlchemy<3,>=1.4 in c:\\users\\dabra\\appdata\\roaming\\python\\python313\\site-packages (from langchain-community) (2.0.37)\n",
      "Requirement already satisfied: requests<3,>=2 in c:\\users\\dabra\\appdata\\roaming\\python\\python313\\site-packages (from langchain-community) (2.32.3)\n",
      "Requirement already satisfied: PyYAML>=5.3 in c:\\users\\dabra\\appdata\\roaming\\python\\python313\\site-packages (from langchain-community) (6.0.2)\n",
      "Requirement already satisfied: aiohttp<4.0.0,>=3.8.3 in c:\\users\\dabra\\appdata\\roaming\\python\\python313\\site-packages (from langchain-community) (3.11.11)\n",
      "Requirement already satisfied: tenacity!=8.4.0,<10,>=8.1.0 in c:\\users\\dabra\\appdata\\roaming\\python\\python313\\site-packages (from langchain-community) (8.5.0)\n",
      "Requirement already satisfied: dataclasses-json<0.7,>=0.5.7 in c:\\users\\dabra\\appdata\\roaming\\python\\python313\\site-packages (from langchain-community) (0.6.7)\n",
      "Requirement already satisfied: pydantic-settings<3.0.0,>=2.4.0 in c:\\users\\dabra\\appdata\\roaming\\python\\python313\\site-packages (from langchain-community) (2.7.1)\n",
      "Requirement already satisfied: langsmith<0.4,>=0.1.125 in c:\\users\\dabra\\appdata\\roaming\\python\\python313\\site-packages (from langchain-community) (0.1.147)\n",
      "Requirement already satisfied: httpx-sse<1.0.0,>=0.4.0 in c:\\users\\dabra\\appdata\\roaming\\python\\python313\\site-packages (from langchain-community) (0.4.0)\n",
      "Requirement already satisfied: numpy<3,>=1.26.2 in c:\\users\\dabra\\appdata\\roaming\\python\\python313\\site-packages (from langchain-community) (2.2.2)\n",
      "Requirement already satisfied: aiohappyeyeballs>=2.3.0 in c:\\users\\dabra\\appdata\\roaming\\python\\python313\\site-packages (from aiohttp<4.0.0,>=3.8.3->langchain-community) (2.4.4)\n",
      "Requirement already satisfied: aiosignal>=1.1.2 in c:\\users\\dabra\\appdata\\roaming\\python\\python313\\site-packages (from aiohttp<4.0.0,>=3.8.3->langchain-community) (1.3.2)\n",
      "Requirement already satisfied: attrs>=17.3.0 in c:\\users\\dabra\\appdata\\roaming\\python\\python313\\site-packages (from aiohttp<4.0.0,>=3.8.3->langchain-community) (25.1.0)\n",
      "Requirement already satisfied: frozenlist>=1.1.1 in c:\\users\\dabra\\appdata\\roaming\\python\\python313\\site-packages (from aiohttp<4.0.0,>=3.8.3->langchain-community) (1.5.0)\n",
      "Requirement already satisfied: multidict<7.0,>=4.5 in c:\\users\\dabra\\appdata\\roaming\\python\\python313\\site-packages (from aiohttp<4.0.0,>=3.8.3->langchain-community) (6.1.0)\n",
      "Requirement already satisfied: propcache>=0.2.0 in c:\\users\\dabra\\appdata\\roaming\\python\\python313\\site-packages (from aiohttp<4.0.0,>=3.8.3->langchain-community) (0.2.1)\n",
      "Requirement already satisfied: yarl<2.0,>=1.17.0 in c:\\users\\dabra\\appdata\\roaming\\python\\python313\\site-packages (from aiohttp<4.0.0,>=3.8.3->langchain-community) (1.18.3)\n",
      "Requirement already satisfied: marshmallow<4.0.0,>=3.18.0 in c:\\users\\dabra\\appdata\\roaming\\python\\python313\\site-packages (from dataclasses-json<0.7,>=0.5.7->langchain-community) (3.26.1)\n",
      "Requirement already satisfied: typing-inspect<1,>=0.4.0 in c:\\users\\dabra\\appdata\\roaming\\python\\python313\\site-packages (from dataclasses-json<0.7,>=0.5.7->langchain-community) (0.9.0)\n",
      "Requirement already satisfied: langchain-text-splitters<1.0.0,>=0.3.6 in c:\\users\\dabra\\appdata\\roaming\\python\\python313\\site-packages (from langchain<1.0.0,>=0.3.18->langchain-community) (0.3.6)\n",
      "Requirement already satisfied: pydantic<3.0.0,>=2.7.4 in c:\\users\\dabra\\appdata\\roaming\\python\\python313\\site-packages (from langchain<1.0.0,>=0.3.18->langchain-community) (2.10.6)\n",
      "Requirement already satisfied: jsonpatch<2.0,>=1.33 in c:\\users\\dabra\\appdata\\roaming\\python\\python313\\site-packages (from langchain-core<1.0.0,>=0.3.34->langchain-community) (1.33)\n",
      "Requirement already satisfied: packaging<25,>=23.2 in c:\\users\\dabra\\appdata\\roaming\\python\\python313\\site-packages (from langchain-core<1.0.0,>=0.3.34->langchain-community) (24.2)\n",
      "Requirement already satisfied: typing-extensions>=4.7 in c:\\users\\dabra\\appdata\\roaming\\python\\python313\\site-packages (from langchain-core<1.0.0,>=0.3.34->langchain-community) (4.12.2)\n",
      "Requirement already satisfied: httpx<1,>=0.23.0 in c:\\users\\dabra\\appdata\\roaming\\python\\python313\\site-packages (from langsmith<0.4,>=0.1.125->langchain-community) (0.28.1)\n",
      "Requirement already satisfied: orjson<4.0.0,>=3.9.14 in c:\\users\\dabra\\appdata\\roaming\\python\\python313\\site-packages (from langsmith<0.4,>=0.1.125->langchain-community) (3.10.15)\n",
      "Requirement already satisfied: requests-toolbelt<2.0.0,>=1.0.0 in c:\\users\\dabra\\appdata\\roaming\\python\\python313\\site-packages (from langsmith<0.4,>=0.1.125->langchain-community) (1.0.0)\n",
      "Requirement already satisfied: python-dotenv>=0.21.0 in c:\\users\\dabra\\appdata\\roaming\\python\\python313\\site-packages (from pydantic-settings<3.0.0,>=2.4.0->langchain-community) (1.0.1)\n",
      "Requirement already satisfied: charset-normalizer<4,>=2 in c:\\users\\dabra\\appdata\\roaming\\python\\python313\\site-packages (from requests<3,>=2->langchain-community) (3.4.1)\n",
      "Requirement already satisfied: idna<4,>=2.5 in c:\\users\\dabra\\appdata\\roaming\\python\\python313\\site-packages (from requests<3,>=2->langchain-community) (3.10)\n",
      "Requirement already satisfied: urllib3<3,>=1.21.1 in c:\\users\\dabra\\appdata\\roaming\\python\\python313\\site-packages (from requests<3,>=2->langchain-community) (2.3.0)\n",
      "Requirement already satisfied: certifi>=2017.4.17 in c:\\users\\dabra\\appdata\\roaming\\python\\python313\\site-packages (from requests<3,>=2->langchain-community) (2025.1.31)\n",
      "Requirement already satisfied: greenlet!=0.4.17 in c:\\users\\dabra\\appdata\\roaming\\python\\python313\\site-packages (from SQLAlchemy<3,>=1.4->langchain-community) (3.1.1)\n",
      "Requirement already satisfied: anyio in c:\\users\\dabra\\appdata\\roaming\\python\\python313\\site-packages (from httpx<1,>=0.23.0->langsmith<0.4,>=0.1.125->langchain-community) (4.8.0)\n",
      "Requirement already satisfied: httpcore==1.* in c:\\users\\dabra\\appdata\\roaming\\python\\python313\\site-packages (from httpx<1,>=0.23.0->langsmith<0.4,>=0.1.125->langchain-community) (1.0.7)\n",
      "Requirement already satisfied: h11<0.15,>=0.13 in c:\\users\\dabra\\appdata\\roaming\\python\\python313\\site-packages (from httpcore==1.*->httpx<1,>=0.23.0->langsmith<0.4,>=0.1.125->langchain-community) (0.14.0)\n",
      "Requirement already satisfied: jsonpointer>=1.9 in c:\\users\\dabra\\appdata\\roaming\\python\\python313\\site-packages (from jsonpatch<2.0,>=1.33->langchain-core<1.0.0,>=0.3.34->langchain-community) (3.0.0)\n",
      "Requirement already satisfied: annotated-types>=0.6.0 in c:\\users\\dabra\\appdata\\roaming\\python\\python313\\site-packages (from pydantic<3.0.0,>=2.7.4->langchain<1.0.0,>=0.3.18->langchain-community) (0.7.0)\n",
      "Requirement already satisfied: pydantic-core==2.27.2 in c:\\users\\dabra\\appdata\\roaming\\python\\python313\\site-packages (from pydantic<3.0.0,>=2.7.4->langchain<1.0.0,>=0.3.18->langchain-community) (2.27.2)\n",
      "Requirement already satisfied: mypy-extensions>=0.3.0 in c:\\users\\dabra\\appdata\\roaming\\python\\python313\\site-packages (from typing-inspect<1,>=0.4.0->dataclasses-json<0.7,>=0.5.7->langchain-community) (1.0.0)\n",
      "Requirement already satisfied: sniffio>=1.1 in c:\\users\\dabra\\appdata\\roaming\\python\\python313\\site-packages (from anyio->httpx<1,>=0.23.0->langsmith<0.4,>=0.1.125->langchain-community) (1.3.1)\n"
     ]
    }
   ],
   "source": [
    "!pip install langchain-community"
   ]
  },
  {
   "cell_type": "code",
   "execution_count": 5,
   "metadata": {},
   "outputs": [
    {
     "name": "stdout",
     "output_type": "stream",
     "text": [
      "Defaulting to user installation because normal site-packages is not writeable\n",
      "Collecting langchain_openai==0.1.23\n",
      "  Using cached langchain_openai-0.1.23-py3-none-any.whl.metadata (2.6 kB)\n",
      "Collecting langchain-core<0.3.0,>=0.2.35 (from langchain_openai==0.1.23)\n",
      "  Using cached langchain_core-0.2.43-py3-none-any.whl.metadata (6.2 kB)\n",
      "Requirement already satisfied: openai<2.0.0,>=1.40.0 in c:\\users\\dabra\\appdata\\roaming\\python\\python313\\site-packages (from langchain_openai==0.1.23) (1.61.0)\n",
      "Requirement already satisfied: tiktoken<1,>=0.7 in c:\\users\\dabra\\appdata\\roaming\\python\\python313\\site-packages (from langchain_openai==0.1.23) (0.8.0)\n",
      "Requirement already satisfied: PyYAML>=5.3 in c:\\users\\dabra\\appdata\\roaming\\python\\python313\\site-packages (from langchain-core<0.3.0,>=0.2.35->langchain_openai==0.1.23) (6.0.2)\n",
      "Requirement already satisfied: jsonpatch<2.0,>=1.33 in c:\\users\\dabra\\appdata\\roaming\\python\\python313\\site-packages (from langchain-core<0.3.0,>=0.2.35->langchain_openai==0.1.23) (1.33)\n",
      "Requirement already satisfied: langsmith<0.2.0,>=0.1.112 in c:\\users\\dabra\\appdata\\roaming\\python\\python313\\site-packages (from langchain-core<0.3.0,>=0.2.35->langchain_openai==0.1.23) (0.1.147)\n",
      "Requirement already satisfied: packaging<25,>=23.2 in c:\\users\\dabra\\appdata\\roaming\\python\\python313\\site-packages (from langchain-core<0.3.0,>=0.2.35->langchain_openai==0.1.23) (24.2)\n",
      "Requirement already satisfied: pydantic<3.0.0,>=2.7.4 in c:\\users\\dabra\\appdata\\roaming\\python\\python313\\site-packages (from langchain-core<0.3.0,>=0.2.35->langchain_openai==0.1.23) (2.10.6)\n",
      "Requirement already satisfied: tenacity!=8.4.0,<9.0.0,>=8.1.0 in c:\\users\\dabra\\appdata\\roaming\\python\\python313\\site-packages (from langchain-core<0.3.0,>=0.2.35->langchain_openai==0.1.23) (8.5.0)\n",
      "Requirement already satisfied: typing-extensions>=4.7 in c:\\users\\dabra\\appdata\\roaming\\python\\python313\\site-packages (from langchain-core<0.3.0,>=0.2.35->langchain_openai==0.1.23) (4.12.2)\n",
      "Requirement already satisfied: anyio<5,>=3.5.0 in c:\\users\\dabra\\appdata\\roaming\\python\\python313\\site-packages (from openai<2.0.0,>=1.40.0->langchain_openai==0.1.23) (4.8.0)\n",
      "Requirement already satisfied: distro<2,>=1.7.0 in c:\\users\\dabra\\appdata\\roaming\\python\\python313\\site-packages (from openai<2.0.0,>=1.40.0->langchain_openai==0.1.23) (1.9.0)\n",
      "Requirement already satisfied: httpx<1,>=0.23.0 in c:\\users\\dabra\\appdata\\roaming\\python\\python313\\site-packages (from openai<2.0.0,>=1.40.0->langchain_openai==0.1.23) (0.28.1)\n",
      "Requirement already satisfied: jiter<1,>=0.4.0 in c:\\users\\dabra\\appdata\\roaming\\python\\python313\\site-packages (from openai<2.0.0,>=1.40.0->langchain_openai==0.1.23) (0.8.2)\n",
      "Requirement already satisfied: sniffio in c:\\users\\dabra\\appdata\\roaming\\python\\python313\\site-packages (from openai<2.0.0,>=1.40.0->langchain_openai==0.1.23) (1.3.1)\n",
      "Requirement already satisfied: tqdm>4 in c:\\users\\dabra\\appdata\\roaming\\python\\python313\\site-packages (from openai<2.0.0,>=1.40.0->langchain_openai==0.1.23) (4.67.1)\n",
      "Requirement already satisfied: regex>=2022.1.18 in c:\\users\\dabra\\appdata\\roaming\\python\\python313\\site-packages (from tiktoken<1,>=0.7->langchain_openai==0.1.23) (2024.11.6)\n",
      "Requirement already satisfied: requests>=2.26.0 in c:\\users\\dabra\\appdata\\roaming\\python\\python313\\site-packages (from tiktoken<1,>=0.7->langchain_openai==0.1.23) (2.32.3)\n",
      "Requirement already satisfied: idna>=2.8 in c:\\users\\dabra\\appdata\\roaming\\python\\python313\\site-packages (from anyio<5,>=3.5.0->openai<2.0.0,>=1.40.0->langchain_openai==0.1.23) (3.10)\n",
      "Requirement already satisfied: certifi in c:\\users\\dabra\\appdata\\roaming\\python\\python313\\site-packages (from httpx<1,>=0.23.0->openai<2.0.0,>=1.40.0->langchain_openai==0.1.23) (2025.1.31)\n",
      "Requirement already satisfied: httpcore==1.* in c:\\users\\dabra\\appdata\\roaming\\python\\python313\\site-packages (from httpx<1,>=0.23.0->openai<2.0.0,>=1.40.0->langchain_openai==0.1.23) (1.0.7)\n",
      "Requirement already satisfied: h11<0.15,>=0.13 in c:\\users\\dabra\\appdata\\roaming\\python\\python313\\site-packages (from httpcore==1.*->httpx<1,>=0.23.0->openai<2.0.0,>=1.40.0->langchain_openai==0.1.23) (0.14.0)\n",
      "Requirement already satisfied: jsonpointer>=1.9 in c:\\users\\dabra\\appdata\\roaming\\python\\python313\\site-packages (from jsonpatch<2.0,>=1.33->langchain-core<0.3.0,>=0.2.35->langchain_openai==0.1.23) (3.0.0)\n",
      "Requirement already satisfied: orjson<4.0.0,>=3.9.14 in c:\\users\\dabra\\appdata\\roaming\\python\\python313\\site-packages (from langsmith<0.2.0,>=0.1.112->langchain-core<0.3.0,>=0.2.35->langchain_openai==0.1.23) (3.10.15)\n",
      "Requirement already satisfied: requests-toolbelt<2.0.0,>=1.0.0 in c:\\users\\dabra\\appdata\\roaming\\python\\python313\\site-packages (from langsmith<0.2.0,>=0.1.112->langchain-core<0.3.0,>=0.2.35->langchain_openai==0.1.23) (1.0.0)\n",
      "Requirement already satisfied: annotated-types>=0.6.0 in c:\\users\\dabra\\appdata\\roaming\\python\\python313\\site-packages (from pydantic<3.0.0,>=2.7.4->langchain-core<0.3.0,>=0.2.35->langchain_openai==0.1.23) (0.7.0)\n",
      "Requirement already satisfied: pydantic-core==2.27.2 in c:\\users\\dabra\\appdata\\roaming\\python\\python313\\site-packages (from pydantic<3.0.0,>=2.7.4->langchain-core<0.3.0,>=0.2.35->langchain_openai==0.1.23) (2.27.2)\n",
      "Requirement already satisfied: charset-normalizer<4,>=2 in c:\\users\\dabra\\appdata\\roaming\\python\\python313\\site-packages (from requests>=2.26.0->tiktoken<1,>=0.7->langchain_openai==0.1.23) (3.4.1)\n",
      "Requirement already satisfied: urllib3<3,>=1.21.1 in c:\\users\\dabra\\appdata\\roaming\\python\\python313\\site-packages (from requests>=2.26.0->tiktoken<1,>=0.7->langchain_openai==0.1.23) (2.3.0)\n",
      "Requirement already satisfied: colorama in c:\\users\\dabra\\appdata\\roaming\\python\\python313\\site-packages (from tqdm>4->openai<2.0.0,>=1.40.0->langchain_openai==0.1.23) (0.4.6)\n",
      "Downloading langchain_openai-0.1.23-py3-none-any.whl (51 kB)\n",
      "Using cached langchain_core-0.2.43-py3-none-any.whl (397 kB)\n",
      "Installing collected packages: langchain-core, langchain_openai\n",
      "  Attempting uninstall: langchain-core\n",
      "    Found existing installation: langchain-core 0.3.36\n",
      "    Uninstalling langchain-core-0.3.36:\n",
      "      Successfully uninstalled langchain-core-0.3.36\n",
      "  Attempting uninstall: langchain_openai\n",
      "    Found existing installation: langchain-openai 0.3.6\n",
      "    Uninstalling langchain-openai-0.3.6:\n",
      "      Successfully uninstalled langchain-openai-0.3.6\n",
      "Successfully installed langchain-core-0.2.43 langchain_openai-0.1.23\n"
     ]
    },
    {
     "name": "stderr",
     "output_type": "stream",
     "text": [
      "ERROR: pip's dependency resolver does not currently take into account all the packages that are installed. This behaviour is the source of the following dependency conflicts.\n",
      "langchain 0.3.19 requires langchain-core<1.0.0,>=0.3.35, but you have langchain-core 0.2.43 which is incompatible.\n",
      "langchain-cohere 0.4.2 requires langchain-core<0.4.0,>=0.3.27, but you have langchain-core 0.2.43 which is incompatible.\n",
      "langchain-community 0.3.17 requires langchain-core<1.0.0,>=0.3.34, but you have langchain-core 0.2.43 which is incompatible.\n",
      "langchain-huggingface 0.1.2 requires langchain-core<0.4.0,>=0.3.15, but you have langchain-core 0.2.43 which is incompatible.\n",
      "langchain-text-splitters 0.3.6 requires langchain-core<1.0.0,>=0.3.34, but you have langchain-core 0.2.43 which is incompatible.\n"
     ]
    }
   ],
   "source": [
    "!pip install langchain_openai==0.1.23"
   ]
  },
  {
   "cell_type": "code",
   "execution_count": 6,
   "metadata": {},
   "outputs": [
    {
     "name": "stdout",
     "output_type": "stream",
     "text": [
      "Defaulting to user installation because normal site-packages is not writeable\n",
      "Collecting langchain==0.2.14\n",
      "  Using cached langchain-0.2.14-py3-none-any.whl.metadata (7.1 kB)\n",
      "Requirement already satisfied: PyYAML>=5.3 in c:\\users\\dabra\\appdata\\roaming\\python\\python313\\site-packages (from langchain==0.2.14) (6.0.2)\n",
      "Requirement already satisfied: SQLAlchemy<3,>=1.4 in c:\\users\\dabra\\appdata\\roaming\\python\\python313\\site-packages (from langchain==0.2.14) (2.0.37)\n",
      "Requirement already satisfied: aiohttp<4.0.0,>=3.8.3 in c:\\users\\dabra\\appdata\\roaming\\python\\python313\\site-packages (from langchain==0.2.14) (3.11.11)\n",
      "Requirement already satisfied: langchain-core<0.3.0,>=0.2.32 in c:\\users\\dabra\\appdata\\roaming\\python\\python313\\site-packages (from langchain==0.2.14) (0.2.43)\n",
      "Collecting langchain-text-splitters<0.3.0,>=0.2.0 (from langchain==0.2.14)\n",
      "  Using cached langchain_text_splitters-0.2.4-py3-none-any.whl.metadata (2.3 kB)\n",
      "Requirement already satisfied: langsmith<0.2.0,>=0.1.17 in c:\\users\\dabra\\appdata\\roaming\\python\\python313\\site-packages (from langchain==0.2.14) (0.1.147)\n",
      "Collecting numpy<2.0.0,>=1.26.0 (from langchain==0.2.14)\n",
      "  Using cached numpy-1.26.4.tar.gz (15.8 MB)\n",
      "  Installing build dependencies: started\n",
      "  Installing build dependencies: finished with status 'done'\n",
      "  Getting requirements to build wheel: started\n",
      "  Getting requirements to build wheel: finished with status 'done'\n",
      "  Installing backend dependencies: started\n",
      "  Installing backend dependencies: finished with status 'done'\n",
      "  Preparing metadata (pyproject.toml): started\n",
      "  Preparing metadata (pyproject.toml): finished with status 'error'\n"
     ]
    },
    {
     "name": "stderr",
     "output_type": "stream",
     "text": [
      "  error: subprocess-exited-with-error\n",
      "  \n",
      "  × Preparing metadata (pyproject.toml) did not run successfully.\n",
      "  │ exit code: 1\n",
      "  ╰─> [21 lines of output]\n",
      "      + c:\\Python313\\python.exe C:\\Users\\dabra\\AppData\\Local\\Temp\\pip-install-6ieu6o4g\\numpy_d8cefeab46564a3782f258b8c8583281\\vendored-meson\\meson\\meson.py setup C:\\Users\\dabra\\AppData\\Local\\Temp\\pip-install-6ieu6o4g\\numpy_d8cefeab46564a3782f258b8c8583281 C:\\Users\\dabra\\AppData\\Local\\Temp\\pip-install-6ieu6o4g\\numpy_d8cefeab46564a3782f258b8c8583281\\.mesonpy-e752gwgi -Dbuildtype=release -Db_ndebug=if-release -Db_vscrt=md --native-file=C:\\Users\\dabra\\AppData\\Local\\Temp\\pip-install-6ieu6o4g\\numpy_d8cefeab46564a3782f258b8c8583281\\.mesonpy-e752gwgi\\meson-python-native-file.ini\n",
      "      The Meson build system\n",
      "      Version: 1.2.99\n",
      "      Source dir: C:\\Users\\dabra\\AppData\\Local\\Temp\\pip-install-6ieu6o4g\\numpy_d8cefeab46564a3782f258b8c8583281\n",
      "      Build dir: C:\\Users\\dabra\\AppData\\Local\\Temp\\pip-install-6ieu6o4g\\numpy_d8cefeab46564a3782f258b8c8583281\\.mesonpy-e752gwgi\n",
      "      Build type: native build\n",
      "      Project name: NumPy\n",
      "      Project version: 1.26.4\n",
      "      WARNING: Failed to activate VS environment: Could not parse vswhere.exe output\n",
      "      \n",
      "      ..\\meson.build:1:0: ERROR: Unknown compiler(s): [['icl'], ['cl'], ['cc'], ['gcc'], ['clang'], ['clang-cl'], ['pgcc']]\n",
      "      The following exception(s) were encountered:\n",
      "      Running `icl \"\"` gave \"[WinError 2] The system cannot find the file specified\"\n",
      "      Running `cl /?` gave \"[WinError 2] The system cannot find the file specified\"\n",
      "      Running `cc --version` gave \"[WinError 2] The system cannot find the file specified\"\n",
      "      Running `gcc --version` gave \"[WinError 2] The system cannot find the file specified\"\n",
      "      Running `clang --version` gave \"[WinError 2] The system cannot find the file specified\"\n",
      "      Running `clang-cl /?` gave \"[WinError 2] The system cannot find the file specified\"\n",
      "      Running `pgcc --version` gave \"[WinError 2] The system cannot find the file specified\"\n",
      "      \n",
      "      A full log can be found at C:\\Users\\dabra\\AppData\\Local\\Temp\\pip-install-6ieu6o4g\\numpy_d8cefeab46564a3782f258b8c8583281\\.mesonpy-e752gwgi\\meson-logs\\meson-log.txt\n",
      "      [end of output]\n",
      "  \n",
      "  note: This error originates from a subprocess, and is likely not a problem with pip.\n",
      "error: metadata-generation-failed\n",
      "\n",
      "× Encountered error while generating package metadata.\n",
      "╰─> See above for output.\n",
      "\n",
      "note: This is an issue with the package mentioned above, not pip.\n",
      "hint: See above for details.\n"
     ]
    }
   ],
   "source": [
    "!pip install langchain==0.2.14"
   ]
  },
  {
   "cell_type": "code",
   "execution_count": 8,
   "metadata": {},
   "outputs": [
    {
     "name": "stdout",
     "output_type": "stream",
     "text": [
      "Defaulting to user installation because normal site-packages is not writeable\n",
      "Requirement already satisfied: langsmith in c:\\users\\dabra\\appdata\\roaming\\python\\python313\\site-packages (0.1.147)\n",
      "Requirement already satisfied: httpx<1,>=0.23.0 in c:\\users\\dabra\\appdata\\roaming\\python\\python313\\site-packages (from langsmith) (0.28.1)\n",
      "Requirement already satisfied: orjson<4.0.0,>=3.9.14 in c:\\users\\dabra\\appdata\\roaming\\python\\python313\\site-packages (from langsmith) (3.10.15)\n",
      "Requirement already satisfied: pydantic<3.0.0,>=2.7.4 in c:\\users\\dabra\\appdata\\roaming\\python\\python313\\site-packages (from langsmith) (2.10.6)\n",
      "Requirement already satisfied: requests<3,>=2 in c:\\users\\dabra\\appdata\\roaming\\python\\python313\\site-packages (from langsmith) (2.32.3)\n",
      "Requirement already satisfied: requests-toolbelt<2.0.0,>=1.0.0 in c:\\users\\dabra\\appdata\\roaming\\python\\python313\\site-packages (from langsmith) (1.0.0)\n",
      "Requirement already satisfied: anyio in c:\\users\\dabra\\appdata\\roaming\\python\\python313\\site-packages (from httpx<1,>=0.23.0->langsmith) (4.8.0)\n",
      "Requirement already satisfied: certifi in c:\\users\\dabra\\appdata\\roaming\\python\\python313\\site-packages (from httpx<1,>=0.23.0->langsmith) (2025.1.31)\n",
      "Requirement already satisfied: httpcore==1.* in c:\\users\\dabra\\appdata\\roaming\\python\\python313\\site-packages (from httpx<1,>=0.23.0->langsmith) (1.0.7)\n",
      "Requirement already satisfied: idna in c:\\users\\dabra\\appdata\\roaming\\python\\python313\\site-packages (from httpx<1,>=0.23.0->langsmith) (3.10)\n",
      "Requirement already satisfied: h11<0.15,>=0.13 in c:\\users\\dabra\\appdata\\roaming\\python\\python313\\site-packages (from httpcore==1.*->httpx<1,>=0.23.0->langsmith) (0.14.0)\n",
      "Requirement already satisfied: annotated-types>=0.6.0 in c:\\users\\dabra\\appdata\\roaming\\python\\python313\\site-packages (from pydantic<3.0.0,>=2.7.4->langsmith) (0.7.0)\n",
      "Requirement already satisfied: pydantic-core==2.27.2 in c:\\users\\dabra\\appdata\\roaming\\python\\python313\\site-packages (from pydantic<3.0.0,>=2.7.4->langsmith) (2.27.2)\n",
      "Requirement already satisfied: typing-extensions>=4.12.2 in c:\\users\\dabra\\appdata\\roaming\\python\\python313\\site-packages (from pydantic<3.0.0,>=2.7.4->langsmith) (4.12.2)\n",
      "Requirement already satisfied: charset-normalizer<4,>=2 in c:\\users\\dabra\\appdata\\roaming\\python\\python313\\site-packages (from requests<3,>=2->langsmith) (3.4.1)\n",
      "Requirement already satisfied: urllib3<3,>=1.21.1 in c:\\users\\dabra\\appdata\\roaming\\python\\python313\\site-packages (from requests<3,>=2->langsmith) (2.3.0)\n",
      "Requirement already satisfied: sniffio>=1.1 in c:\\users\\dabra\\appdata\\roaming\\python\\python313\\site-packages (from anyio->httpx<1,>=0.23.0->langsmith) (1.3.1)\n"
     ]
    }
   ],
   "source": [
    "!pip install langsmith"
   ]
  },
  {
   "cell_type": "code",
   "execution_count": 9,
   "metadata": {},
   "outputs": [
    {
     "name": "stdout",
     "output_type": "stream",
     "text": [
      "Package                  Version\n",
      "------------------------ ---------------\n",
      "accelerate               0.26.0\n",
      "aiofiles                 24.1.0\n",
      "aiohappyeyeballs         2.4.4\n",
      "aiohttp                  3.11.11\n",
      "aiosignal                1.3.2\n",
      "annotated-types          0.7.0\n",
      "anyio                    4.8.0\n",
      "appdirs                  1.4.4\n",
      "asttokens                3.0.0\n",
      "attrs                    25.1.0\n",
      "backoff                  2.2.1\n",
      "beautifulsoup4           4.13.3\n",
      "certifi                  2025.1.31\n",
      "cffi                     1.17.1\n",
      "chardet                  5.2.0\n",
      "charset-normalizer       3.4.1\n",
      "click                    8.1.8\n",
      "cohere                   5.13.12\n",
      "colorama                 0.4.6\n",
      "comm                     0.2.2\n",
      "cryptography             44.0.0\n",
      "dataclasses-json         0.6.7\n",
      "datasets                 3.3.1\n",
      "debugpy                  1.8.12\n",
      "decorator                5.1.1\n",
      "dill                     0.3.8\n",
      "diskcache                5.6.3\n",
      "distro                   1.9.0\n",
      "docker-pycreds           0.4.0\n",
      "emoji                    2.14.1\n",
      "eval_type_backport       0.2.2\n",
      "executing                2.2.0\n",
      "faiss-cpu                1.10.0\n",
      "fastavro                 1.10.0\n",
      "filelock                 3.17.0\n",
      "filetype                 1.2.0\n",
      "frozenlist               1.5.0\n",
      "fsspec                   2024.9.0\n",
      "gitdb                    4.0.12\n",
      "GitPython                3.1.44\n",
      "greenlet                 3.1.1\n",
      "grpcio                   1.70.0\n",
      "grpcio-tools             1.70.0\n",
      "h11                      0.14.0\n",
      "h2                       4.2.0\n",
      "hpack                    4.1.0\n",
      "httpcore                 1.0.7\n",
      "httpx                    0.28.1\n",
      "httpx-sse                0.4.0\n",
      "huggingface-hub          0.28.1\n",
      "hyperframe               6.1.0\n",
      "idna                     3.10\n",
      "ipykernel                6.29.5\n",
      "ipython                  8.32.0\n",
      "ipywidgets               8.1.5\n",
      "jedi                     0.19.2\n",
      "Jinja2                   3.1.5\n",
      "jiter                    0.8.2\n",
      "joblib                   1.4.2\n",
      "jsonpatch                1.33\n",
      "jsonpath-python          1.0.6\n",
      "jsonpointer              3.0.0\n",
      "jupyter_client           8.6.3\n",
      "jupyter_core             5.7.2\n",
      "jupyterlab_widgets       3.0.13\n",
      "langchain                0.3.19\n",
      "langchain-cohere         0.4.2\n",
      "langchain-community      0.3.17\n",
      "langchain-core           0.2.43\n",
      "langchain-huggingface    0.1.2\n",
      "langchain-openai         0.1.23\n",
      "langchain-qdrant         0.2.0\n",
      "langchain-text-splitters 0.3.6\n",
      "langdetect               1.0.9\n",
      "langgraph                0.2.74\n",
      "langgraph-checkpoint     2.0.16\n",
      "langgraph-sdk            0.1.51\n",
      "langsmith                0.1.147\n",
      "libmagic                 1.0\n",
      "lxml                     5.3.1\n",
      "MarkupSafe               3.0.2\n",
      "marshmallow              3.26.1\n",
      "matplotlib-inline        0.1.7\n",
      "mpmath                   1.3.0\n",
      "msgpack                  1.1.0\n",
      "multidict                6.1.0\n",
      "multiprocess             0.70.16\n",
      "mypy-extensions          1.0.0\n",
      "nest-asyncio             1.6.0\n",
      "networkx                 3.4.2\n",
      "nltk                     3.9.1\n",
      "numpy                    2.2.2\n",
      "openai                   1.61.0\n",
      "orjson                   3.10.15\n",
      "packaging                24.2\n",
      "pandas                   2.2.3\n",
      "parso                    0.8.4\n",
      "pillow                   11.1.0\n",
      "pip                      25.0.1\n",
      "platformdirs             4.3.6\n",
      "portalocker              2.10.1\n",
      "prompt_toolkit           3.0.50\n",
      "propcache                0.2.1\n",
      "protobuf                 5.29.3\n",
      "psutil                   7.0.0\n",
      "pure_eval                0.2.3\n",
      "pyarrow                  19.0.0\n",
      "pycparser                2.22\n",
      "pydantic                 2.10.6\n",
      "pydantic_core            2.27.2\n",
      "pydantic-settings        2.7.1\n",
      "Pygments                 2.19.1\n",
      "PyMuPDF                  1.25.3\n",
      "pypdf                    5.2.0\n",
      "pysbd                    0.3.4\n",
      "python-dateutil          2.9.0.post0\n",
      "python-dotenv            1.0.1\n",
      "python-iso639            2025.1.28\n",
      "python-magic             0.4.27\n",
      "python-pptx              1.0.2\n",
      "pytz                     2025.1\n",
      "pywin32                  308\n",
      "PyYAML                   6.0.2\n",
      "pyzmq                    26.2.1\n",
      "qdrant-client            1.13.2\n",
      "ragas                    0.2.13\n",
      "RapidFuzz                3.12.1\n",
      "regex                    2024.11.6\n",
      "requests                 2.32.3\n",
      "requests-toolbelt        1.0.0\n",
      "safetensors              0.5.2\n",
      "scikit-learn             1.6.1\n",
      "scipy                    1.15.2\n",
      "sentence-transformers    3.4.1\n",
      "sentry-sdk               2.22.0\n",
      "setproctitle             1.3.4\n",
      "setuptools               75.8.0\n",
      "six                      1.17.0\n",
      "smmap                    5.0.2\n",
      "sniffio                  1.3.1\n",
      "soupsieve                2.6\n",
      "SQLAlchemy               2.0.37\n",
      "stack-data               0.6.3\n",
      "sympy                    1.13.1\n",
      "tabulate                 0.9.0\n",
      "tenacity                 8.5.0\n",
      "threadpoolctl            3.5.0\n",
      "tiktoken                 0.8.0\n",
      "tokenizers               0.21.0\n",
      "torch                    2.6.0\n",
      "tornado                  6.4.2\n",
      "tqdm                     4.67.1\n",
      "traitlets                5.14.3\n",
      "transformers             4.49.0\n",
      "types-PyYAML             6.0.12.20241230\n",
      "types-requests           2.32.0.20241016\n",
      "typing_extensions        4.12.2\n",
      "typing-inspect           0.9.0\n",
      "tzdata                   2025.1\n",
      "unstructured             0.11.8\n",
      "unstructured-client      0.29.0\n",
      "urllib3                  2.3.0\n",
      "wandb                    0.19.6\n",
      "wcwidth                  0.2.13\n",
      "widgetsnbextension       4.0.13\n",
      "wrapt                    1.17.2\n",
      "XlsxWriter               3.2.2\n",
      "xxhash                   3.5.0\n",
      "yarl                     1.18.3\n",
      "zstandard                0.23.0\n"
     ]
    }
   ],
   "source": [
    "!pip list"
   ]
  },
  {
   "cell_type": "code",
   "execution_count": 16,
   "metadata": {},
   "outputs": [
    {
     "name": "stdout",
     "output_type": "stream",
     "text": [
      "Defaulting to user installation because normal site-packages is not writeable\n",
      "Requirement already satisfied: ragas in c:\\users\\dabra\\appdata\\roaming\\python\\python313\\site-packages (0.2.13)\n",
      "Requirement already satisfied: numpy in c:\\users\\dabra\\appdata\\roaming\\python\\python313\\site-packages (from ragas) (2.2.2)\n",
      "Requirement already satisfied: datasets in c:\\users\\dabra\\appdata\\roaming\\python\\python313\\site-packages (from ragas) (3.3.1)\n",
      "Requirement already satisfied: tiktoken in c:\\users\\dabra\\appdata\\roaming\\python\\python313\\site-packages (from ragas) (0.8.0)\n",
      "Requirement already satisfied: langchain in c:\\users\\dabra\\appdata\\roaming\\python\\python313\\site-packages (from ragas) (0.3.19)\n",
      "Requirement already satisfied: langchain-core in c:\\users\\dabra\\appdata\\roaming\\python\\python313\\site-packages (from ragas) (0.2.43)\n",
      "Requirement already satisfied: langchain-community in c:\\users\\dabra\\appdata\\roaming\\python\\python313\\site-packages (from ragas) (0.3.17)\n",
      "Requirement already satisfied: langchain_openai in c:\\users\\dabra\\appdata\\roaming\\python\\python313\\site-packages (from ragas) (0.1.23)\n",
      "Requirement already satisfied: nest-asyncio in c:\\users\\dabra\\appdata\\roaming\\python\\python313\\site-packages (from ragas) (1.6.0)\n",
      "Requirement already satisfied: appdirs in c:\\users\\dabra\\appdata\\roaming\\python\\python313\\site-packages (from ragas) (1.4.4)\n",
      "Requirement already satisfied: pydantic>=2 in c:\\users\\dabra\\appdata\\roaming\\python\\python313\\site-packages (from ragas) (2.10.6)\n",
      "Requirement already satisfied: openai>1 in c:\\users\\dabra\\appdata\\roaming\\python\\python313\\site-packages (from ragas) (1.61.0)\n",
      "Requirement already satisfied: diskcache>=5.6.3 in c:\\users\\dabra\\appdata\\roaming\\python\\python313\\site-packages (from ragas) (5.6.3)\n",
      "Requirement already satisfied: anyio<5,>=3.5.0 in c:\\users\\dabra\\appdata\\roaming\\python\\python313\\site-packages (from openai>1->ragas) (4.8.0)\n",
      "Requirement already satisfied: distro<2,>=1.7.0 in c:\\users\\dabra\\appdata\\roaming\\python\\python313\\site-packages (from openai>1->ragas) (1.9.0)\n",
      "Requirement already satisfied: httpx<1,>=0.23.0 in c:\\users\\dabra\\appdata\\roaming\\python\\python313\\site-packages (from openai>1->ragas) (0.28.1)\n",
      "Requirement already satisfied: jiter<1,>=0.4.0 in c:\\users\\dabra\\appdata\\roaming\\python\\python313\\site-packages (from openai>1->ragas) (0.8.2)\n",
      "Requirement already satisfied: sniffio in c:\\users\\dabra\\appdata\\roaming\\python\\python313\\site-packages (from openai>1->ragas) (1.3.1)\n",
      "Requirement already satisfied: tqdm>4 in c:\\users\\dabra\\appdata\\roaming\\python\\python313\\site-packages (from openai>1->ragas) (4.67.1)\n",
      "Requirement already satisfied: typing-extensions<5,>=4.11 in c:\\users\\dabra\\appdata\\roaming\\python\\python313\\site-packages (from openai>1->ragas) (4.12.2)\n",
      "Requirement already satisfied: annotated-types>=0.6.0 in c:\\users\\dabra\\appdata\\roaming\\python\\python313\\site-packages (from pydantic>=2->ragas) (0.7.0)\n",
      "Requirement already satisfied: pydantic-core==2.27.2 in c:\\users\\dabra\\appdata\\roaming\\python\\python313\\site-packages (from pydantic>=2->ragas) (2.27.2)\n",
      "Requirement already satisfied: filelock in c:\\users\\dabra\\appdata\\roaming\\python\\python313\\site-packages (from datasets->ragas) (3.17.0)\n",
      "Requirement already satisfied: pyarrow>=15.0.0 in c:\\users\\dabra\\appdata\\roaming\\python\\python313\\site-packages (from datasets->ragas) (19.0.0)\n",
      "Requirement already satisfied: dill<0.3.9,>=0.3.0 in c:\\users\\dabra\\appdata\\roaming\\python\\python313\\site-packages (from datasets->ragas) (0.3.8)\n",
      "Requirement already satisfied: pandas in c:\\users\\dabra\\appdata\\roaming\\python\\python313\\site-packages (from datasets->ragas) (2.2.3)\n",
      "Requirement already satisfied: requests>=2.32.2 in c:\\users\\dabra\\appdata\\roaming\\python\\python313\\site-packages (from datasets->ragas) (2.32.3)\n",
      "Requirement already satisfied: xxhash in c:\\users\\dabra\\appdata\\roaming\\python\\python313\\site-packages (from datasets->ragas) (3.5.0)\n",
      "Requirement already satisfied: multiprocess<0.70.17 in c:\\users\\dabra\\appdata\\roaming\\python\\python313\\site-packages (from datasets->ragas) (0.70.16)\n",
      "Requirement already satisfied: fsspec<=2024.12.0,>=2023.1.0 in c:\\users\\dabra\\appdata\\roaming\\python\\python313\\site-packages (from fsspec[http]<=2024.12.0,>=2023.1.0->datasets->ragas) (2024.9.0)\n",
      "Requirement already satisfied: aiohttp in c:\\users\\dabra\\appdata\\roaming\\python\\python313\\site-packages (from datasets->ragas) (3.11.11)\n",
      "Requirement already satisfied: huggingface-hub>=0.24.0 in c:\\users\\dabra\\appdata\\roaming\\python\\python313\\site-packages (from datasets->ragas) (0.28.1)\n",
      "Requirement already satisfied: packaging in c:\\users\\dabra\\appdata\\roaming\\python\\python313\\site-packages (from datasets->ragas) (24.2)\n",
      "Requirement already satisfied: pyyaml>=5.1 in c:\\users\\dabra\\appdata\\roaming\\python\\python313\\site-packages (from datasets->ragas) (6.0.2)\n",
      "Collecting langchain-core (from ragas)\n",
      "  Using cached langchain_core-0.3.36-py3-none-any.whl.metadata (5.9 kB)\n",
      "Requirement already satisfied: langchain-text-splitters<1.0.0,>=0.3.6 in c:\\users\\dabra\\appdata\\roaming\\python\\python313\\site-packages (from langchain->ragas) (0.3.6)\n",
      "Requirement already satisfied: langsmith<0.4,>=0.1.17 in c:\\users\\dabra\\appdata\\roaming\\python\\python313\\site-packages (from langchain->ragas) (0.1.147)\n",
      "Requirement already satisfied: SQLAlchemy<3,>=1.4 in c:\\users\\dabra\\appdata\\roaming\\python\\python313\\site-packages (from langchain->ragas) (2.0.37)\n",
      "Requirement already satisfied: tenacity!=8.4.0,<10,>=8.1.0 in c:\\users\\dabra\\appdata\\roaming\\python\\python313\\site-packages (from langchain->ragas) (8.5.0)\n",
      "Requirement already satisfied: jsonpatch<2.0,>=1.33 in c:\\users\\dabra\\appdata\\roaming\\python\\python313\\site-packages (from langchain-core->ragas) (1.33)\n",
      "Requirement already satisfied: dataclasses-json<0.7,>=0.5.7 in c:\\users\\dabra\\appdata\\roaming\\python\\python313\\site-packages (from langchain-community->ragas) (0.6.7)\n",
      "Requirement already satisfied: pydantic-settings<3.0.0,>=2.4.0 in c:\\users\\dabra\\appdata\\roaming\\python\\python313\\site-packages (from langchain-community->ragas) (2.7.1)\n",
      "Requirement already satisfied: httpx-sse<1.0.0,>=0.4.0 in c:\\users\\dabra\\appdata\\roaming\\python\\python313\\site-packages (from langchain-community->ragas) (0.4.0)\n",
      "INFO: pip is looking at multiple versions of langchain-openai to determine which version is compatible with other requirements. This could take a while.\n",
      "Collecting langchain_openai (from ragas)\n",
      "  Using cached langchain_openai-0.3.6-py3-none-any.whl.metadata (2.3 kB)\n",
      "Requirement already satisfied: regex>=2022.1.18 in c:\\users\\dabra\\appdata\\roaming\\python\\python313\\site-packages (from tiktoken->ragas) (2024.11.6)\n",
      "Requirement already satisfied: aiohappyeyeballs>=2.3.0 in c:\\users\\dabra\\appdata\\roaming\\python\\python313\\site-packages (from aiohttp->datasets->ragas) (2.4.4)\n",
      "Requirement already satisfied: aiosignal>=1.1.2 in c:\\users\\dabra\\appdata\\roaming\\python\\python313\\site-packages (from aiohttp->datasets->ragas) (1.3.2)\n",
      "Requirement already satisfied: attrs>=17.3.0 in c:\\users\\dabra\\appdata\\roaming\\python\\python313\\site-packages (from aiohttp->datasets->ragas) (25.1.0)\n",
      "Requirement already satisfied: frozenlist>=1.1.1 in c:\\users\\dabra\\appdata\\roaming\\python\\python313\\site-packages (from aiohttp->datasets->ragas) (1.5.0)\n",
      "Requirement already satisfied: multidict<7.0,>=4.5 in c:\\users\\dabra\\appdata\\roaming\\python\\python313\\site-packages (from aiohttp->datasets->ragas) (6.1.0)\n",
      "Requirement already satisfied: propcache>=0.2.0 in c:\\users\\dabra\\appdata\\roaming\\python\\python313\\site-packages (from aiohttp->datasets->ragas) (0.2.1)\n",
      "Requirement already satisfied: yarl<2.0,>=1.17.0 in c:\\users\\dabra\\appdata\\roaming\\python\\python313\\site-packages (from aiohttp->datasets->ragas) (1.18.3)\n",
      "Requirement already satisfied: idna>=2.8 in c:\\users\\dabra\\appdata\\roaming\\python\\python313\\site-packages (from anyio<5,>=3.5.0->openai>1->ragas) (3.10)\n",
      "Requirement already satisfied: marshmallow<4.0.0,>=3.18.0 in c:\\users\\dabra\\appdata\\roaming\\python\\python313\\site-packages (from dataclasses-json<0.7,>=0.5.7->langchain-community->ragas) (3.26.1)\n",
      "Requirement already satisfied: typing-inspect<1,>=0.4.0 in c:\\users\\dabra\\appdata\\roaming\\python\\python313\\site-packages (from dataclasses-json<0.7,>=0.5.7->langchain-community->ragas) (0.9.0)\n",
      "Requirement already satisfied: certifi in c:\\users\\dabra\\appdata\\roaming\\python\\python313\\site-packages (from httpx<1,>=0.23.0->openai>1->ragas) (2025.1.31)\n",
      "Requirement already satisfied: httpcore==1.* in c:\\users\\dabra\\appdata\\roaming\\python\\python313\\site-packages (from httpx<1,>=0.23.0->openai>1->ragas) (1.0.7)\n",
      "Requirement already satisfied: h11<0.15,>=0.13 in c:\\users\\dabra\\appdata\\roaming\\python\\python313\\site-packages (from httpcore==1.*->httpx<1,>=0.23.0->openai>1->ragas) (0.14.0)\n",
      "Requirement already satisfied: jsonpointer>=1.9 in c:\\users\\dabra\\appdata\\roaming\\python\\python313\\site-packages (from jsonpatch<2.0,>=1.33->langchain-core->ragas) (3.0.0)\n",
      "Requirement already satisfied: orjson<4.0.0,>=3.9.14 in c:\\users\\dabra\\appdata\\roaming\\python\\python313\\site-packages (from langsmith<0.4,>=0.1.17->langchain->ragas) (3.10.15)\n",
      "Requirement already satisfied: requests-toolbelt<2.0.0,>=1.0.0 in c:\\users\\dabra\\appdata\\roaming\\python\\python313\\site-packages (from langsmith<0.4,>=0.1.17->langchain->ragas) (1.0.0)\n",
      "Requirement already satisfied: python-dotenv>=0.21.0 in c:\\users\\dabra\\appdata\\roaming\\python\\python313\\site-packages (from pydantic-settings<3.0.0,>=2.4.0->langchain-community->ragas) (1.0.1)\n",
      "Requirement already satisfied: charset-normalizer<4,>=2 in c:\\users\\dabra\\appdata\\roaming\\python\\python313\\site-packages (from requests>=2.32.2->datasets->ragas) (3.4.1)\n",
      "Requirement already satisfied: urllib3<3,>=1.21.1 in c:\\users\\dabra\\appdata\\roaming\\python\\python313\\site-packages (from requests>=2.32.2->datasets->ragas) (2.3.0)\n",
      "Requirement already satisfied: greenlet!=0.4.17 in c:\\users\\dabra\\appdata\\roaming\\python\\python313\\site-packages (from SQLAlchemy<3,>=1.4->langchain->ragas) (3.1.1)\n",
      "Requirement already satisfied: colorama in c:\\users\\dabra\\appdata\\roaming\\python\\python313\\site-packages (from tqdm>4->openai>1->ragas) (0.4.6)\n",
      "Requirement already satisfied: python-dateutil>=2.8.2 in c:\\users\\dabra\\appdata\\roaming\\python\\python313\\site-packages (from pandas->datasets->ragas) (2.9.0.post0)\n",
      "Requirement already satisfied: pytz>=2020.1 in c:\\users\\dabra\\appdata\\roaming\\python\\python313\\site-packages (from pandas->datasets->ragas) (2025.1)\n",
      "Requirement already satisfied: tzdata>=2022.7 in c:\\users\\dabra\\appdata\\roaming\\python\\python313\\site-packages (from pandas->datasets->ragas) (2025.1)\n",
      "Requirement already satisfied: six>=1.5 in c:\\users\\dabra\\appdata\\roaming\\python\\python313\\site-packages (from python-dateutil>=2.8.2->pandas->datasets->ragas) (1.17.0)\n",
      "Requirement already satisfied: mypy-extensions>=0.3.0 in c:\\users\\dabra\\appdata\\roaming\\python\\python313\\site-packages (from typing-inspect<1,>=0.4.0->dataclasses-json<0.7,>=0.5.7->langchain-community->ragas) (1.0.0)\n",
      "Using cached langchain_core-0.3.36-py3-none-any.whl (413 kB)\n",
      "Using cached langchain_openai-0.3.6-py3-none-any.whl (54 kB)\n",
      "Installing collected packages: langchain-core, langchain_openai\n",
      "  Attempting uninstall: langchain-core\n",
      "    Found existing installation: langchain-core 0.2.43\n",
      "    Uninstalling langchain-core-0.2.43:\n",
      "      Successfully uninstalled langchain-core-0.2.43\n",
      "  Attempting uninstall: langchain_openai\n",
      "    Found existing installation: langchain-openai 0.1.23\n",
      "    Uninstalling langchain-openai-0.1.23:\n",
      "      Successfully uninstalled langchain-openai-0.1.23\n",
      "Successfully installed langchain-core-0.3.36 langchain_openai-0.3.6\n"
     ]
    }
   ],
   "source": [
    "!pip install ragas"
   ]
  },
  {
   "cell_type": "code",
   "execution_count": 4,
   "metadata": {},
   "outputs": [],
   "source": []
  },
  {
   "cell_type": "code",
   "execution_count": 26,
   "metadata": {},
   "outputs": [
    {
     "name": "stdout",
     "output_type": "stream",
     "text": [
      "Defaulting to user installation because normal site-packages is not writeable\n",
      "Requirement already satisfied: langsmith in c:\\users\\dabra\\appdata\\roaming\\python\\python313\\site-packages (0.1.147)\n",
      "Collecting langsmith\n",
      "  Downloading langsmith-0.3.8-py3-none-any.whl.metadata (14 kB)\n",
      "Requirement already satisfied: httpx<1,>=0.23.0 in c:\\users\\dabra\\appdata\\roaming\\python\\python313\\site-packages (from langsmith) (0.28.1)\n",
      "Requirement already satisfied: orjson<4.0.0,>=3.9.14 in c:\\users\\dabra\\appdata\\roaming\\python\\python313\\site-packages (from langsmith) (3.10.15)\n",
      "Requirement already satisfied: pydantic<3.0.0,>=2.7.4 in c:\\users\\dabra\\appdata\\roaming\\python\\python313\\site-packages (from langsmith) (2.10.6)\n",
      "Requirement already satisfied: requests<3,>=2 in c:\\users\\dabra\\appdata\\roaming\\python\\python313\\site-packages (from langsmith) (2.32.3)\n",
      "Requirement already satisfied: requests-toolbelt<2.0.0,>=1.0.0 in c:\\users\\dabra\\appdata\\roaming\\python\\python313\\site-packages (from langsmith) (1.0.0)\n",
      "Requirement already satisfied: zstandard<0.24.0,>=0.23.0 in c:\\users\\dabra\\appdata\\roaming\\python\\python313\\site-packages (from langsmith) (0.23.0)\n",
      "Requirement already satisfied: anyio in c:\\users\\dabra\\appdata\\roaming\\python\\python313\\site-packages (from httpx<1,>=0.23.0->langsmith) (4.8.0)\n",
      "Requirement already satisfied: certifi in c:\\users\\dabra\\appdata\\roaming\\python\\python313\\site-packages (from httpx<1,>=0.23.0->langsmith) (2025.1.31)\n",
      "Requirement already satisfied: httpcore==1.* in c:\\users\\dabra\\appdata\\roaming\\python\\python313\\site-packages (from httpx<1,>=0.23.0->langsmith) (1.0.7)\n",
      "Requirement already satisfied: idna in c:\\users\\dabra\\appdata\\roaming\\python\\python313\\site-packages (from httpx<1,>=0.23.0->langsmith) (3.10)\n",
      "Requirement already satisfied: h11<0.15,>=0.13 in c:\\users\\dabra\\appdata\\roaming\\python\\python313\\site-packages (from httpcore==1.*->httpx<1,>=0.23.0->langsmith) (0.14.0)\n",
      "Requirement already satisfied: annotated-types>=0.6.0 in c:\\users\\dabra\\appdata\\roaming\\python\\python313\\site-packages (from pydantic<3.0.0,>=2.7.4->langsmith) (0.7.0)\n",
      "Requirement already satisfied: pydantic-core==2.27.2 in c:\\users\\dabra\\appdata\\roaming\\python\\python313\\site-packages (from pydantic<3.0.0,>=2.7.4->langsmith) (2.27.2)\n",
      "Requirement already satisfied: typing-extensions>=4.12.2 in c:\\users\\dabra\\appdata\\roaming\\python\\python313\\site-packages (from pydantic<3.0.0,>=2.7.4->langsmith) (4.12.2)\n",
      "Requirement already satisfied: charset-normalizer<4,>=2 in c:\\users\\dabra\\appdata\\roaming\\python\\python313\\site-packages (from requests<3,>=2->langsmith) (3.4.1)\n",
      "Requirement already satisfied: urllib3<3,>=1.21.1 in c:\\users\\dabra\\appdata\\roaming\\python\\python313\\site-packages (from requests<3,>=2->langsmith) (2.3.0)\n",
      "Requirement already satisfied: sniffio>=1.1 in c:\\users\\dabra\\appdata\\roaming\\python\\python313\\site-packages (from anyio->httpx<1,>=0.23.0->langsmith) (1.3.1)\n",
      "Downloading langsmith-0.3.8-py3-none-any.whl (332 kB)\n",
      "Installing collected packages: langsmith\n",
      "  Attempting uninstall: langsmith\n",
      "    Found existing installation: langsmith 0.1.147\n",
      "    Uninstalling langsmith-0.1.147:\n",
      "      Successfully uninstalled langsmith-0.1.147\n",
      "Successfully installed langsmith-0.3.8\n"
     ]
    }
   ],
   "source": [
    "!pip install --upgrade langsmith"
   ]
  },
  {
   "cell_type": "code",
   "execution_count": 1,
   "metadata": {},
   "outputs": [],
   "source": [
    "from langchain_openai import OpenAI, OpenAIEmbeddings\n",
    "from langchain.tools import TavilySearchResults\n",
    "from langchain_community.vectorstores import Qdrant\n",
    "from langchain_core.prompts import PromptTemplate\n",
    "from langchain_core.runnables import RunnablePassthrough\n",
    "from langchain_text_splitters import RecursiveCharacterTextSplitter\n",
    "from langchain_core.documents import Document\n",
    "from langgraph.graph import StateGraph\n",
    "from langsmith.client import Client as LangSmithClient\n",
    "import requests\n",
    "import json\n",
    "import langsmith"
   ]
  },
  {
   "cell_type": "code",
   "execution_count": 2,
   "metadata": {},
   "outputs": [],
   "source": [
    "import os\n",
    "import getpass\n",
    "\n",
    "os.environ[\"LANGCHAIN_TRACING_V2\"] = \"true\"\n",
    "os.environ[\"LANGCHAIN_API_KEY\"] = getpass.getpass(\"LangChain API Key:\")"
   ]
  },
  {
   "cell_type": "code",
   "execution_count": 3,
   "metadata": {},
   "outputs": [
    {
     "data": {
      "text/plain": [
       "TracerSession(id=UUID('1d1747af-21b3-496f-a68b-4e4a23377094'), start_time=datetime.datetime(2025, 2, 19, 10, 14, 28, 749617, tzinfo=datetime.timezone.utc), end_time=None, description=None, name='travel_agent', extra=None, tenant_id=UUID('6044f486-c4ce-4bcb-b9a3-1062c4a153ae'), reference_dataset_id=None)"
      ]
     },
     "execution_count": 3,
     "metadata": {},
     "output_type": "execute_result"
    }
   ],
   "source": [
    "client = LangSmithClient()\n",
    "client.create_project(project_name=\"travel_agent\")"
   ]
  },
  {
   "cell_type": "code",
   "execution_count": 4,
   "metadata": {},
   "outputs": [],
   "source": [
    "os.environ[\"OPENAI_API_KEY\"] = getpass.getpass(\"OpenAI API Key:\")"
   ]
  },
  {
   "cell_type": "code",
   "execution_count": 5,
   "metadata": {},
   "outputs": [],
   "source": [
    "# Initialize OpenAI LLM & Embeddings\n",
    "llm = OpenAI(model=\"gpt-4-turbo\")"
   ]
  },
  {
   "cell_type": "code",
   "execution_count": 7,
   "metadata": {},
   "outputs": [],
   "source": [
    "from langchain_openai import OpenAIEmbeddings\n",
    "\n",
    "embeddings = OpenAIEmbeddings(model=\"text-embedding-3-small\")"
   ]
  },
  {
   "cell_type": "code",
   "execution_count": 9,
   "metadata": {},
   "outputs": [
    {
     "ename": "AttributeError",
     "evalue": "type object 'Qdrant' has no attribute 'from_embeddings'",
     "output_type": "error",
     "traceback": [
      "\u001b[1;31m---------------------------------------------------------------------------\u001b[0m",
      "\u001b[1;31mAttributeError\u001b[0m                            Traceback (most recent call last)",
      "Cell \u001b[1;32mIn[9], line 2\u001b[0m\n\u001b[0;32m      1\u001b[0m \u001b[38;5;66;03m# Initialize Qdrant Vector Store\u001b[39;00m\n\u001b[1;32m----> 2\u001b[0m vector_store \u001b[38;5;241m=\u001b[39m \u001b[43mQdrant\u001b[49m\u001b[38;5;241;43m.\u001b[39;49m\u001b[43mfrom_embeddings\u001b[49m(\n\u001b[0;32m      3\u001b[0m     collection_name\u001b[38;5;241m=\u001b[39m\u001b[38;5;124m\"\u001b[39m\u001b[38;5;124mtravel_data\u001b[39m\u001b[38;5;124m\"\u001b[39m,\n\u001b[0;32m      4\u001b[0m     embedding_function\u001b[38;5;241m=\u001b[39membeddings\n\u001b[0;32m      5\u001b[0m )\n",
      "\u001b[1;31mAttributeError\u001b[0m: type object 'Qdrant' has no attribute 'from_embeddings'"
     ]
    }
   ],
   "source": [
    "# Initialize Qdrant Vector Store\n",
    "vector_store = Qdrant.from_embeddings(\n",
    "    collection_name=\"travel_data\",\n",
    "    embedding_function=embeddings\n",
    ")"
   ]
  },
  {
   "cell_type": "code",
   "execution_count": 12,
   "metadata": {},
   "outputs": [],
   "source": [
    "def fetch_flight_data(origin, destination, date):\n",
    "    api_key = \"YOUR_AMADEUS_API_KEY\"\n",
    "    url = f\"https://api.amadeus.com/v1/shopping/flight-offers?origin={origin}&destination={destination}&departureDate={date}&max=3\"\n",
    "    headers = {\"Authorization\": f\"Bearer {api_key}\"}\n",
    "    response = requests.get(url, headers=headers)\n",
    "    return response.json()"
   ]
  },
  {
   "cell_type": "code",
   "execution_count": 13,
   "metadata": {},
   "outputs": [],
   "source": [
    "def fetch_hotel_data(city):\n",
    "    api_key = \"YOUR_BOOKING_API_KEY\"\n",
    "    url = f\"https://api.booking.com/v1/hotels?city={city}&checkin_date=2025-05-01&checkout_date=2025-05-05\"\n",
    "    headers = {\"Authorization\": f\"Bearer {api_key}\"}\n",
    "    response = requests.get(url, headers=headers)\n",
    "    return response.json()"
   ]
  },
  {
   "cell_type": "code",
   "execution_count": 14,
   "metadata": {},
   "outputs": [],
   "source": [
    "def fetch_attractions(city):\n",
    "    api_key = \"YOUR_GOOGLE_PLACES_API_KEY\"\n",
    "    url = f\"https://maps.googleapis.com/maps/api/place/textsearch/json?query=attractions+in+{city}&key={api_key}\"\n",
    "    response = requests.get(url)\n",
    "    return response.json()"
   ]
  },
  {
   "cell_type": "code",
   "execution_count": 17,
   "metadata": {},
   "outputs": [],
   "source": [
    "# Fetch and Ingest Data\n",
    "def ingest_api_data():\n",
    "    flight_data = fetch_flight_data(\"NYC\", \"LON\", \"2025-05-01\")\n",
    "    hotel_data = fetch_hotel_data(\"London\")\n",
    "    attractions_data = fetch_attractions(\"London\")\n",
    "    \n",
    "    text_splitter = RecursiveCharacterTextSplitter(chunk_size=500, chunk_overlap=50)\n",
    "    \n",
    "    all_docs = []\n",
    "    for data, source in [(flight_data, \"flights\"), (hotel_data, \"hotels\"), (attractions_data, \"attractions\")]:\n",
    "        text = json.dumps(data, indent=2)\n",
    "        docs = [Document(page_content=chunk, metadata={\"source\": source}) for chunk in text_splitter.split_text(text)]\n",
    "        all_docs.extend(docs)\n",
    "    \n",
    "    return all_docs"
   ]
  },
  {
   "cell_type": "code",
   "execution_count": 23,
   "metadata": {},
   "outputs": [],
   "source": [
    "os.environ[\"AMADEUS_API_KEY\"] = getpass.getpass(\"Amadeus API Key:\")"
   ]
  },
  {
   "cell_type": "code",
   "execution_count": 24,
   "metadata": {},
   "outputs": [],
   "source": [
    "import os\n",
    "\n",
    "def fetch_flight_data(origin, destination, date):\n",
    "    api_key = os.getenv(\"AMADEUS_API_KEY\")\n",
    "    if not api_key:\n",
    "        raise ValueError(\"Missing Amadeus API Key. Set AMADEUS_API_KEY as an environment variable.\")\n",
    "    \n",
    "    url = f\"https://api.amadeus.com/v1/shopping/flight-offers?origin={origin}&destination={destination}&departureDate={date}&max=3\"\n",
    "    headers = {\"Authorization\": f\"Bearer {api_key}\"}\n",
    "    \n",
    "    response = requests.get(url, headers=headers)\n",
    "    response.raise_for_status()  \n",
    "    return response.json()"
   ]
  },
  {
   "cell_type": "code",
   "execution_count": 29,
   "metadata": {},
   "outputs": [],
   "source": [
    "import os\n",
    "import requests\n",
    "\n",
    "AMADEUS_CLIENT_ID = os.getenv(\"AMADEUS_CLIENT_ID\")  # Set this in environment variables\n",
    "AMADEUS_CLIENT_SECRET = os.getenv(\"AMADEUS_CLIENT_SECRET\")  # Set this in environment variables\n",
    "\n",
    "def get_amadeus_access_token():\n",
    "    url = \"https://api.amadeus.com/v1/security/oauth2/token\"\n",
    "    payload = {\n",
    "        \"grant_type\": \"client_credentials\",\n",
    "        \"client_id\": AMADEUS_CLIENT_ID,\n",
    "        \"client_secret\": AMADEUS_CLIENT_SECRET\n",
    "    }\n",
    "    headers = {\"Content-Type\": \"application/x-www-form-urlencoded\"}\n",
    "\n",
    "    response = requests.post(url, data=payload, headers=headers)\n",
    "    response.raise_for_status()  # Ensure request was successful\n",
    "    return response.json()[\"access_token\"]\n"
   ]
  },
  {
   "cell_type": "code",
   "execution_count": 30,
   "metadata": {},
   "outputs": [],
   "source": [
    "def fetch_flight_data(origin, destination, date):\n",
    "    token = get_amadeus_access_token()\n",
    "    url = f\"https://api.amadeus.com/v1/shopping/flight-offers?origin={origin}&destination={destination}&departureDate={date}&max=3\"\n",
    "    headers = {\"Authorization\": f\"Bearer {token}\"}\n",
    "    \n",
    "    response = requests.get(url, headers=headers)\n",
    "    response.raise_for_status()  # Handle errors properly\n",
    "    return response.json()\n"
   ]
  },
  {
   "cell_type": "code",
   "execution_count": null,
   "metadata": {},
   "outputs": [],
   "source": []
  },
  {
   "cell_type": "code",
   "execution_count": 32,
   "metadata": {},
   "outputs": [
    {
     "ename": "HTTPError",
     "evalue": "400 Client Error: Bad Request for url: https://api.amadeus.com/v1/security/oauth2/token",
     "output_type": "error",
     "traceback": [
      "\u001b[1;31m---------------------------------------------------------------------------\u001b[0m",
      "\u001b[1;31mHTTPError\u001b[0m                                 Traceback (most recent call last)",
      "Cell \u001b[1;32mIn[32], line 1\u001b[0m\n\u001b[1;32m----> 1\u001b[0m flight_data \u001b[38;5;241m=\u001b[39m \u001b[43mfetch_flight_data\u001b[49m\u001b[43m(\u001b[49m\u001b[38;5;124;43m\"\u001b[39;49m\u001b[38;5;124;43mNYC\u001b[39;49m\u001b[38;5;124;43m\"\u001b[39;49m\u001b[43m,\u001b[49m\u001b[43m \u001b[49m\u001b[38;5;124;43m\"\u001b[39;49m\u001b[38;5;124;43mLON\u001b[39;49m\u001b[38;5;124;43m\"\u001b[39;49m\u001b[43m,\u001b[49m\u001b[43m \u001b[49m\u001b[38;5;124;43m\"\u001b[39;49m\u001b[38;5;124;43m2025-05-01\u001b[39;49m\u001b[38;5;124;43m\"\u001b[39;49m\u001b[43m)\u001b[49m\n",
      "Cell \u001b[1;32mIn[30], line 2\u001b[0m, in \u001b[0;36mfetch_flight_data\u001b[1;34m(origin, destination, date)\u001b[0m\n\u001b[0;32m      1\u001b[0m \u001b[38;5;28;01mdef\u001b[39;00m\u001b[38;5;250m \u001b[39m\u001b[38;5;21mfetch_flight_data\u001b[39m(origin, destination, date):\n\u001b[1;32m----> 2\u001b[0m     token \u001b[38;5;241m=\u001b[39m \u001b[43mget_amadeus_access_token\u001b[49m\u001b[43m(\u001b[49m\u001b[43m)\u001b[49m\n\u001b[0;32m      3\u001b[0m     url \u001b[38;5;241m=\u001b[39m \u001b[38;5;124mf\u001b[39m\u001b[38;5;124m\"\u001b[39m\u001b[38;5;124mhttps://api.amadeus.com/v1/shopping/flight-offers?origin=\u001b[39m\u001b[38;5;132;01m{\u001b[39;00morigin\u001b[38;5;132;01m}\u001b[39;00m\u001b[38;5;124m&destination=\u001b[39m\u001b[38;5;132;01m{\u001b[39;00mdestination\u001b[38;5;132;01m}\u001b[39;00m\u001b[38;5;124m&departureDate=\u001b[39m\u001b[38;5;132;01m{\u001b[39;00mdate\u001b[38;5;132;01m}\u001b[39;00m\u001b[38;5;124m&max=3\u001b[39m\u001b[38;5;124m\"\u001b[39m\n\u001b[0;32m      4\u001b[0m     headers \u001b[38;5;241m=\u001b[39m {\u001b[38;5;124m\"\u001b[39m\u001b[38;5;124mAuthorization\u001b[39m\u001b[38;5;124m\"\u001b[39m: \u001b[38;5;124mf\u001b[39m\u001b[38;5;124m\"\u001b[39m\u001b[38;5;124mBearer \u001b[39m\u001b[38;5;132;01m{\u001b[39;00mtoken\u001b[38;5;132;01m}\u001b[39;00m\u001b[38;5;124m\"\u001b[39m}\n",
      "Cell \u001b[1;32mIn[29], line 17\u001b[0m, in \u001b[0;36mget_amadeus_access_token\u001b[1;34m()\u001b[0m\n\u001b[0;32m     14\u001b[0m headers \u001b[38;5;241m=\u001b[39m {\u001b[38;5;124m\"\u001b[39m\u001b[38;5;124mContent-Type\u001b[39m\u001b[38;5;124m\"\u001b[39m: \u001b[38;5;124m\"\u001b[39m\u001b[38;5;124mapplication/x-www-form-urlencoded\u001b[39m\u001b[38;5;124m\"\u001b[39m}\n\u001b[0;32m     16\u001b[0m response \u001b[38;5;241m=\u001b[39m requests\u001b[38;5;241m.\u001b[39mpost(url, data\u001b[38;5;241m=\u001b[39mpayload, headers\u001b[38;5;241m=\u001b[39mheaders)\n\u001b[1;32m---> 17\u001b[0m \u001b[43mresponse\u001b[49m\u001b[38;5;241;43m.\u001b[39;49m\u001b[43mraise_for_status\u001b[49m\u001b[43m(\u001b[49m\u001b[43m)\u001b[49m  \u001b[38;5;66;03m# Ensure request was successful\u001b[39;00m\n\u001b[0;32m     18\u001b[0m \u001b[38;5;28;01mreturn\u001b[39;00m response\u001b[38;5;241m.\u001b[39mjson()[\u001b[38;5;124m\"\u001b[39m\u001b[38;5;124maccess_token\u001b[39m\u001b[38;5;124m\"\u001b[39m]\n",
      "File \u001b[1;32m~\\AppData\\Roaming\\Python\\Python313\\site-packages\\requests\\models.py:1024\u001b[0m, in \u001b[0;36mResponse.raise_for_status\u001b[1;34m(self)\u001b[0m\n\u001b[0;32m   1019\u001b[0m     http_error_msg \u001b[38;5;241m=\u001b[39m (\n\u001b[0;32m   1020\u001b[0m         \u001b[38;5;124mf\u001b[39m\u001b[38;5;124m\"\u001b[39m\u001b[38;5;132;01m{\u001b[39;00m\u001b[38;5;28mself\u001b[39m\u001b[38;5;241m.\u001b[39mstatus_code\u001b[38;5;132;01m}\u001b[39;00m\u001b[38;5;124m Server Error: \u001b[39m\u001b[38;5;132;01m{\u001b[39;00mreason\u001b[38;5;132;01m}\u001b[39;00m\u001b[38;5;124m for url: \u001b[39m\u001b[38;5;132;01m{\u001b[39;00m\u001b[38;5;28mself\u001b[39m\u001b[38;5;241m.\u001b[39murl\u001b[38;5;132;01m}\u001b[39;00m\u001b[38;5;124m\"\u001b[39m\n\u001b[0;32m   1021\u001b[0m     )\n\u001b[0;32m   1023\u001b[0m \u001b[38;5;28;01mif\u001b[39;00m http_error_msg:\n\u001b[1;32m-> 1024\u001b[0m     \u001b[38;5;28;01mraise\u001b[39;00m HTTPError(http_error_msg, response\u001b[38;5;241m=\u001b[39m\u001b[38;5;28mself\u001b[39m)\n",
      "\u001b[1;31mHTTPError\u001b[0m: 400 Client Error: Bad Request for url: https://api.amadeus.com/v1/security/oauth2/token"
     ]
    }
   ],
   "source": [
    "flight_data = fetch_flight_data(\"NYC\", \"LON\", \"2025-05-01\")"
   ]
  },
  {
   "cell_type": "code",
   "execution_count": 25,
   "metadata": {},
   "outputs": [],
   "source": [
    "# Fetch and Ingest Data\n",
    "def ingest_api_data():\n",
    "    flight_data = fetch_flight_data(\"NYC\", \"LON\", \"2025-05-01\")\n",
    "    # hotel_data = fetch_hotel_data(\"London\")\n",
    "    # attractions_data = fetch_attractions(\"London\")\n",
    "    \n",
    "    text_splitter = RecursiveCharacterTextSplitter(chunk_size=500, chunk_overlap=50)\n",
    "    \n",
    "    all_docs = []\n",
    "    for data, source in [(flight_data, \"flights\")]:\n",
    "        text = json.dumps(data, indent=2)\n",
    "        docs = [Document(page_content=chunk, metadata={\"source\": source}) for chunk in text_splitter.split_text(text)]\n",
    "        all_docs.extend(docs)\n",
    "    \n",
    "    return all_docs"
   ]
  },
  {
   "cell_type": "code",
   "execution_count": null,
   "metadata": {},
   "outputs": [],
   "source": []
  },
  {
   "cell_type": "code",
   "execution_count": 26,
   "metadata": {},
   "outputs": [
    {
     "ename": "HTTPError",
     "evalue": "401 Client Error: Unauthorized for url: https://api.amadeus.com/v1/shopping/flight-offers?origin=NYC&destination=LON&departureDate=2025-05-01&max=3",
     "output_type": "error",
     "traceback": [
      "\u001b[1;31m---------------------------------------------------------------------------\u001b[0m",
      "\u001b[1;31mHTTPError\u001b[0m                                 Traceback (most recent call last)",
      "Cell \u001b[1;32mIn[26], line 2\u001b[0m\n\u001b[0;32m      1\u001b[0m \u001b[38;5;66;03m# Initialize Qdrant Vector Store with API Data\u001b[39;00m\n\u001b[1;32m----> 2\u001b[0m docs \u001b[38;5;241m=\u001b[39m \u001b[43mingest_api_data\u001b[49m\u001b[43m(\u001b[49m\u001b[43m)\u001b[49m\n\u001b[0;32m      3\u001b[0m vector_store \u001b[38;5;241m=\u001b[39m Qdrant\u001b[38;5;241m.\u001b[39mfrom_documents(\n\u001b[0;32m      4\u001b[0m     documents\u001b[38;5;241m=\u001b[39mdocs,\n\u001b[0;32m      5\u001b[0m     embedding\u001b[38;5;241m=\u001b[39membeddings,\n\u001b[0;32m      6\u001b[0m     location\u001b[38;5;241m=\u001b[39m\u001b[38;5;124m\"\u001b[39m\u001b[38;5;124m:memory:\u001b[39m\u001b[38;5;124m\"\u001b[39m,  \u001b[38;5;66;03m# Change to your Qdrant URL if using a persistent instance\u001b[39;00m\n\u001b[0;32m      7\u001b[0m     collection_name\u001b[38;5;241m=\u001b[39m\u001b[38;5;124m\"\u001b[39m\u001b[38;5;124mtravel_data\u001b[39m\u001b[38;5;124m\"\u001b[39m\n\u001b[0;32m      8\u001b[0m )\n",
      "Cell \u001b[1;32mIn[25], line 3\u001b[0m, in \u001b[0;36mingest_api_data\u001b[1;34m()\u001b[0m\n\u001b[0;32m      2\u001b[0m \u001b[38;5;28;01mdef\u001b[39;00m\u001b[38;5;250m \u001b[39m\u001b[38;5;21mingest_api_data\u001b[39m():\n\u001b[1;32m----> 3\u001b[0m     flight_data \u001b[38;5;241m=\u001b[39m \u001b[43mfetch_flight_data\u001b[49m\u001b[43m(\u001b[49m\u001b[38;5;124;43m\"\u001b[39;49m\u001b[38;5;124;43mNYC\u001b[39;49m\u001b[38;5;124;43m\"\u001b[39;49m\u001b[43m,\u001b[49m\u001b[43m \u001b[49m\u001b[38;5;124;43m\"\u001b[39;49m\u001b[38;5;124;43mLON\u001b[39;49m\u001b[38;5;124;43m\"\u001b[39;49m\u001b[43m,\u001b[49m\u001b[43m \u001b[49m\u001b[38;5;124;43m\"\u001b[39;49m\u001b[38;5;124;43m2025-05-01\u001b[39;49m\u001b[38;5;124;43m\"\u001b[39;49m\u001b[43m)\u001b[49m\n\u001b[0;32m      4\u001b[0m     \u001b[38;5;66;03m# hotel_data = fetch_hotel_data(\"London\")\u001b[39;00m\n\u001b[0;32m      5\u001b[0m     \u001b[38;5;66;03m# attractions_data = fetch_attractions(\"London\")\u001b[39;00m\n\u001b[0;32m      7\u001b[0m     text_splitter \u001b[38;5;241m=\u001b[39m RecursiveCharacterTextSplitter(chunk_size\u001b[38;5;241m=\u001b[39m\u001b[38;5;241m500\u001b[39m, chunk_overlap\u001b[38;5;241m=\u001b[39m\u001b[38;5;241m50\u001b[39m)\n",
      "Cell \u001b[1;32mIn[24], line 12\u001b[0m, in \u001b[0;36mfetch_flight_data\u001b[1;34m(origin, destination, date)\u001b[0m\n\u001b[0;32m      9\u001b[0m headers \u001b[38;5;241m=\u001b[39m {\u001b[38;5;124m\"\u001b[39m\u001b[38;5;124mAuthorization\u001b[39m\u001b[38;5;124m\"\u001b[39m: \u001b[38;5;124mf\u001b[39m\u001b[38;5;124m\"\u001b[39m\u001b[38;5;124mBearer \u001b[39m\u001b[38;5;132;01m{\u001b[39;00mapi_key\u001b[38;5;132;01m}\u001b[39;00m\u001b[38;5;124m\"\u001b[39m}\n\u001b[0;32m     11\u001b[0m response \u001b[38;5;241m=\u001b[39m requests\u001b[38;5;241m.\u001b[39mget(url, headers\u001b[38;5;241m=\u001b[39mheaders)\n\u001b[1;32m---> 12\u001b[0m \u001b[43mresponse\u001b[49m\u001b[38;5;241;43m.\u001b[39;49m\u001b[43mraise_for_status\u001b[49m\u001b[43m(\u001b[49m\u001b[43m)\u001b[49m  \n\u001b[0;32m     13\u001b[0m \u001b[38;5;28;01mreturn\u001b[39;00m response\u001b[38;5;241m.\u001b[39mjson()\n",
      "File \u001b[1;32m~\\AppData\\Roaming\\Python\\Python313\\site-packages\\requests\\models.py:1024\u001b[0m, in \u001b[0;36mResponse.raise_for_status\u001b[1;34m(self)\u001b[0m\n\u001b[0;32m   1019\u001b[0m     http_error_msg \u001b[38;5;241m=\u001b[39m (\n\u001b[0;32m   1020\u001b[0m         \u001b[38;5;124mf\u001b[39m\u001b[38;5;124m\"\u001b[39m\u001b[38;5;132;01m{\u001b[39;00m\u001b[38;5;28mself\u001b[39m\u001b[38;5;241m.\u001b[39mstatus_code\u001b[38;5;132;01m}\u001b[39;00m\u001b[38;5;124m Server Error: \u001b[39m\u001b[38;5;132;01m{\u001b[39;00mreason\u001b[38;5;132;01m}\u001b[39;00m\u001b[38;5;124m for url: \u001b[39m\u001b[38;5;132;01m{\u001b[39;00m\u001b[38;5;28mself\u001b[39m\u001b[38;5;241m.\u001b[39murl\u001b[38;5;132;01m}\u001b[39;00m\u001b[38;5;124m\"\u001b[39m\n\u001b[0;32m   1021\u001b[0m     )\n\u001b[0;32m   1023\u001b[0m \u001b[38;5;28;01mif\u001b[39;00m http_error_msg:\n\u001b[1;32m-> 1024\u001b[0m     \u001b[38;5;28;01mraise\u001b[39;00m HTTPError(http_error_msg, response\u001b[38;5;241m=\u001b[39m\u001b[38;5;28mself\u001b[39m)\n",
      "\u001b[1;31mHTTPError\u001b[0m: 401 Client Error: Unauthorized for url: https://api.amadeus.com/v1/shopping/flight-offers?origin=NYC&destination=LON&departureDate=2025-05-01&max=3"
     ]
    }
   ],
   "source": [
    "# Initialize Qdrant Vector Store with API Data\n",
    "docs = ingest_api_data()\n",
    "vector_store = Qdrant.from_documents(\n",
    "    documents=docs,\n",
    "    embedding=embeddings,\n",
    "    location=\":memory:\",  # Change to your Qdrant URL if using a persistent instance\n",
    "    collection_name=\"travel_data\"\n",
    ")\n"
   ]
  },
  {
   "cell_type": "code",
   "execution_count": null,
   "metadata": {},
   "outputs": [
    {
     "ename": "IndexError",
     "evalue": "list index out of range",
     "output_type": "error",
     "traceback": [
      "\u001b[1;31m---------------------------------------------------------------------------\u001b[0m",
      "\u001b[1;31mIndexError\u001b[0m                                Traceback (most recent call last)",
      "Cell \u001b[1;32mIn[11], line 3\u001b[0m\n\u001b[0;32m      1\u001b[0m \u001b[38;5;28;01mfrom\u001b[39;00m\u001b[38;5;250m \u001b[39m\u001b[38;5;21;01mlangchain_community\u001b[39;00m\u001b[38;5;21;01m.\u001b[39;00m\u001b[38;5;21;01mvectorstores\u001b[39;00m\u001b[38;5;250m \u001b[39m\u001b[38;5;28;01mimport\u001b[39;00m Qdrant\n\u001b[1;32m----> 3\u001b[0m vector_store \u001b[38;5;241m=\u001b[39m \u001b[43mQdrant\u001b[49m\u001b[38;5;241;43m.\u001b[39;49m\u001b[43mfrom_documents\u001b[49m\u001b[43m(\u001b[49m\n\u001b[0;32m      4\u001b[0m \u001b[43m    \u001b[49m\u001b[43mdocuments\u001b[49m\u001b[38;5;241;43m=\u001b[39;49m\u001b[43m[\u001b[49m\u001b[43m]\u001b[49m\u001b[43m,\u001b[49m\n\u001b[0;32m      5\u001b[0m \u001b[43m    \u001b[49m\u001b[43membedding\u001b[49m\u001b[38;5;241;43m=\u001b[39;49m\u001b[43membeddings\u001b[49m\u001b[43m,\u001b[49m\n\u001b[0;32m      6\u001b[0m \u001b[43m    \u001b[49m\u001b[43mlocation\u001b[49m\u001b[38;5;241;43m=\u001b[39;49m\u001b[38;5;124;43m\"\u001b[39;49m\u001b[38;5;124;43m:memory:\u001b[39;49m\u001b[38;5;124;43m\"\u001b[39;49m\u001b[43m,\u001b[49m\n\u001b[0;32m      7\u001b[0m \u001b[43m    \u001b[49m\u001b[43mcollection_name\u001b[49m\u001b[38;5;241;43m=\u001b[39;49m\u001b[38;5;124;43m\"\u001b[39;49m\u001b[38;5;124;43mtravelData\u001b[39;49m\u001b[38;5;124;43m\"\u001b[39;49m\n\u001b[0;32m      8\u001b[0m \u001b[43m)\u001b[49m\n",
      "File \u001b[1;32m~\\AppData\\Roaming\\Python\\Python313\\site-packages\\langchain_core\\vectorstores\\base.py:843\u001b[0m, in \u001b[0;36mVectorStore.from_documents\u001b[1;34m(cls, documents, embedding, **kwargs)\u001b[0m\n\u001b[0;32m    840\u001b[0m     \u001b[38;5;28;01mif\u001b[39;00m \u001b[38;5;28many\u001b[39m(ids):\n\u001b[0;32m    841\u001b[0m         kwargs[\u001b[38;5;124m\"\u001b[39m\u001b[38;5;124mids\u001b[39m\u001b[38;5;124m\"\u001b[39m] \u001b[38;5;241m=\u001b[39m ids\n\u001b[1;32m--> 843\u001b[0m \u001b[38;5;28;01mreturn\u001b[39;00m \u001b[38;5;28;43mcls\u001b[39;49m\u001b[38;5;241;43m.\u001b[39;49m\u001b[43mfrom_texts\u001b[49m\u001b[43m(\u001b[49m\u001b[43mtexts\u001b[49m\u001b[43m,\u001b[49m\u001b[43m \u001b[49m\u001b[43membedding\u001b[49m\u001b[43m,\u001b[49m\u001b[43m \u001b[49m\u001b[43mmetadatas\u001b[49m\u001b[38;5;241;43m=\u001b[39;49m\u001b[43mmetadatas\u001b[49m\u001b[43m,\u001b[49m\u001b[43m \u001b[49m\u001b[38;5;241;43m*\u001b[39;49m\u001b[38;5;241;43m*\u001b[39;49m\u001b[43mkwargs\u001b[49m\u001b[43m)\u001b[49m\n",
      "File \u001b[1;32m~\\AppData\\Roaming\\Python\\Python313\\site-packages\\langchain_community\\vectorstores\\qdrant.py:1337\u001b[0m, in \u001b[0;36mQdrant.from_texts\u001b[1;34m(cls, texts, embedding, metadatas, ids, location, url, port, grpc_port, prefer_grpc, https, api_key, prefix, timeout, host, path, collection_name, distance_func, content_payload_key, metadata_payload_key, vector_name, batch_size, shard_number, replication_factor, write_consistency_factor, on_disk_payload, hnsw_config, optimizers_config, wal_config, quantization_config, init_from, on_disk, force_recreate, **kwargs)\u001b[0m\n\u001b[0;32m   1197\u001b[0m \u001b[38;5;129m@classmethod\u001b[39m\n\u001b[0;32m   1198\u001b[0m \u001b[38;5;28;01mdef\u001b[39;00m\u001b[38;5;250m \u001b[39m\u001b[38;5;21mfrom_texts\u001b[39m(\n\u001b[0;32m   1199\u001b[0m     \u001b[38;5;28mcls\u001b[39m: Type[Qdrant],\n\u001b[1;32m   (...)\u001b[0m\n\u001b[0;32m   1232\u001b[0m     \u001b[38;5;241m*\u001b[39m\u001b[38;5;241m*\u001b[39mkwargs: Any,\n\u001b[0;32m   1233\u001b[0m ) \u001b[38;5;241m-\u001b[39m\u001b[38;5;241m>\u001b[39m Qdrant:\n\u001b[0;32m   1234\u001b[0m \u001b[38;5;250m    \u001b[39m\u001b[38;5;124;03m\"\"\"Construct Qdrant wrapper from a list of texts.\u001b[39;00m\n\u001b[0;32m   1235\u001b[0m \n\u001b[0;32m   1236\u001b[0m \u001b[38;5;124;03m    Args:\u001b[39;00m\n\u001b[1;32m   (...)\u001b[0m\n\u001b[0;32m   1335\u001b[0m \u001b[38;5;124;03m            qdrant = Qdrant.from_texts(texts, embeddings, \"localhost\")\u001b[39;00m\n\u001b[0;32m   1336\u001b[0m \u001b[38;5;124;03m    \"\"\"\u001b[39;00m\n\u001b[1;32m-> 1337\u001b[0m     qdrant \u001b[38;5;241m=\u001b[39m \u001b[38;5;28;43mcls\u001b[39;49m\u001b[38;5;241;43m.\u001b[39;49m\u001b[43mconstruct_instance\u001b[49m\u001b[43m(\u001b[49m\n\u001b[0;32m   1338\u001b[0m \u001b[43m        \u001b[49m\u001b[43mtexts\u001b[49m\u001b[43m,\u001b[49m\n\u001b[0;32m   1339\u001b[0m \u001b[43m        \u001b[49m\u001b[43membedding\u001b[49m\u001b[43m,\u001b[49m\n\u001b[0;32m   1340\u001b[0m \u001b[43m        \u001b[49m\u001b[43mlocation\u001b[49m\u001b[43m,\u001b[49m\n\u001b[0;32m   1341\u001b[0m \u001b[43m        \u001b[49m\u001b[43murl\u001b[49m\u001b[43m,\u001b[49m\n\u001b[0;32m   1342\u001b[0m \u001b[43m        \u001b[49m\u001b[43mport\u001b[49m\u001b[43m,\u001b[49m\n\u001b[0;32m   1343\u001b[0m \u001b[43m        \u001b[49m\u001b[43mgrpc_port\u001b[49m\u001b[43m,\u001b[49m\n\u001b[0;32m   1344\u001b[0m \u001b[43m        \u001b[49m\u001b[43mprefer_grpc\u001b[49m\u001b[43m,\u001b[49m\n\u001b[0;32m   1345\u001b[0m \u001b[43m        \u001b[49m\u001b[43mhttps\u001b[49m\u001b[43m,\u001b[49m\n\u001b[0;32m   1346\u001b[0m \u001b[43m        \u001b[49m\u001b[43mapi_key\u001b[49m\u001b[43m,\u001b[49m\n\u001b[0;32m   1347\u001b[0m \u001b[43m        \u001b[49m\u001b[43mprefix\u001b[49m\u001b[43m,\u001b[49m\n\u001b[0;32m   1348\u001b[0m \u001b[43m        \u001b[49m\u001b[43mtimeout\u001b[49m\u001b[43m,\u001b[49m\n\u001b[0;32m   1349\u001b[0m \u001b[43m        \u001b[49m\u001b[43mhost\u001b[49m\u001b[43m,\u001b[49m\n\u001b[0;32m   1350\u001b[0m \u001b[43m        \u001b[49m\u001b[43mpath\u001b[49m\u001b[43m,\u001b[49m\n\u001b[0;32m   1351\u001b[0m \u001b[43m        \u001b[49m\u001b[43mcollection_name\u001b[49m\u001b[43m,\u001b[49m\n\u001b[0;32m   1352\u001b[0m \u001b[43m        \u001b[49m\u001b[43mdistance_func\u001b[49m\u001b[43m,\u001b[49m\n\u001b[0;32m   1353\u001b[0m \u001b[43m        \u001b[49m\u001b[43mcontent_payload_key\u001b[49m\u001b[43m,\u001b[49m\n\u001b[0;32m   1354\u001b[0m \u001b[43m        \u001b[49m\u001b[43mmetadata_payload_key\u001b[49m\u001b[43m,\u001b[49m\n\u001b[0;32m   1355\u001b[0m \u001b[43m        \u001b[49m\u001b[43mvector_name\u001b[49m\u001b[43m,\u001b[49m\n\u001b[0;32m   1356\u001b[0m \u001b[43m        \u001b[49m\u001b[43mshard_number\u001b[49m\u001b[43m,\u001b[49m\n\u001b[0;32m   1357\u001b[0m \u001b[43m        \u001b[49m\u001b[43mreplication_factor\u001b[49m\u001b[43m,\u001b[49m\n\u001b[0;32m   1358\u001b[0m \u001b[43m        \u001b[49m\u001b[43mwrite_consistency_factor\u001b[49m\u001b[43m,\u001b[49m\n\u001b[0;32m   1359\u001b[0m \u001b[43m        \u001b[49m\u001b[43mon_disk_payload\u001b[49m\u001b[43m,\u001b[49m\n\u001b[0;32m   1360\u001b[0m \u001b[43m        \u001b[49m\u001b[43mhnsw_config\u001b[49m\u001b[43m,\u001b[49m\n\u001b[0;32m   1361\u001b[0m \u001b[43m        \u001b[49m\u001b[43moptimizers_config\u001b[49m\u001b[43m,\u001b[49m\n\u001b[0;32m   1362\u001b[0m \u001b[43m        \u001b[49m\u001b[43mwal_config\u001b[49m\u001b[43m,\u001b[49m\n\u001b[0;32m   1363\u001b[0m \u001b[43m        \u001b[49m\u001b[43mquantization_config\u001b[49m\u001b[43m,\u001b[49m\n\u001b[0;32m   1364\u001b[0m \u001b[43m        \u001b[49m\u001b[43minit_from\u001b[49m\u001b[43m,\u001b[49m\n\u001b[0;32m   1365\u001b[0m \u001b[43m        \u001b[49m\u001b[43mon_disk\u001b[49m\u001b[43m,\u001b[49m\n\u001b[0;32m   1366\u001b[0m \u001b[43m        \u001b[49m\u001b[43mforce_recreate\u001b[49m\u001b[43m,\u001b[49m\n\u001b[0;32m   1367\u001b[0m \u001b[43m        \u001b[49m\u001b[38;5;241;43m*\u001b[39;49m\u001b[38;5;241;43m*\u001b[39;49m\u001b[43mkwargs\u001b[49m\u001b[43m,\u001b[49m\n\u001b[0;32m   1368\u001b[0m \u001b[43m    \u001b[49m\u001b[43m)\u001b[49m\n\u001b[0;32m   1369\u001b[0m     qdrant\u001b[38;5;241m.\u001b[39madd_texts(texts, metadatas, ids, batch_size)\n\u001b[0;32m   1370\u001b[0m     \u001b[38;5;28;01mreturn\u001b[39;00m qdrant\n",
      "File \u001b[1;32m~\\AppData\\Roaming\\Python\\Python313\\site-packages\\langchain_community\\vectorstores\\qdrant.py:1640\u001b[0m, in \u001b[0;36mQdrant.construct_instance\u001b[1;34m(cls, texts, embedding, location, url, port, grpc_port, prefer_grpc, https, api_key, prefix, timeout, host, path, collection_name, distance_func, content_payload_key, metadata_payload_key, vector_name, shard_number, replication_factor, write_consistency_factor, on_disk_payload, hnsw_config, optimizers_config, wal_config, quantization_config, init_from, on_disk, force_recreate, **kwargs)\u001b[0m\n\u001b[0;32m   1638\u001b[0m \u001b[38;5;66;03m# Just do a single quick embedding to get vector size\u001b[39;00m\n\u001b[0;32m   1639\u001b[0m partial_embeddings \u001b[38;5;241m=\u001b[39m embedding\u001b[38;5;241m.\u001b[39membed_documents(texts[:\u001b[38;5;241m1\u001b[39m])\n\u001b[1;32m-> 1640\u001b[0m vector_size \u001b[38;5;241m=\u001b[39m \u001b[38;5;28mlen\u001b[39m(\u001b[43mpartial_embeddings\u001b[49m\u001b[43m[\u001b[49m\u001b[38;5;241;43m0\u001b[39;49m\u001b[43m]\u001b[49m)\n\u001b[0;32m   1641\u001b[0m collection_name \u001b[38;5;241m=\u001b[39m collection_name \u001b[38;5;129;01mor\u001b[39;00m uuid\u001b[38;5;241m.\u001b[39muuid4()\u001b[38;5;241m.\u001b[39mhex\n\u001b[0;32m   1642\u001b[0m distance_func \u001b[38;5;241m=\u001b[39m distance_func\u001b[38;5;241m.\u001b[39mupper()\n",
      "\u001b[1;31mIndexError\u001b[0m: list index out of range"
     ]
    }
   ],
   "source": [
    "from langchain_community.vectorstores import Qdrant\n",
    "\n",
    "vector_store = Qdrant.from_documents(\n",
    "    documents=[],\n",
    "    embedding=embeddings,\n",
    "    location=\":memory:\",\n",
    "    collection_name=\"travelData\"\n",
    ")"
   ]
  },
  {
   "cell_type": "code",
   "execution_count": null,
   "metadata": {},
   "outputs": [],
   "source": [
    "from langchain_openai import OpenAI, OpenAIEmbeddings\n",
    "from langchain.tools import TavilySearchResults\n",
    "from langchain_community.vectorstores import Qdrant\n",
    "from langchain_core.prompts import PromptTemplate\n",
    "from langchain_core.runnables import RunnablePassthrough\n",
    "from langchain_text_splitters import RecursiveCharacterTextSplitter\n",
    "from langchain_core.documents import Document\n",
    "from langgraph.graph import StateGraph\n",
    "from langsmith import LangSmith\n",
    "from ragas.synth import SyntheticDataGenerator\n",
    "import requests\n",
    "import json\n",
    "\n",
    "# Initialize LangSmith for monitoring\n",
    "LangSmith.init(project_name=\"travel_ai_agent\")\n",
    "\n",
    "# Initialize OpenAI LLM & Embeddings\n",
    "llm = OpenAI(model=\"gpt-4-turbo\")\n",
    "embeddings = OpenAIEmbeddings()\n",
    "\n",
    "# Initialize Qdrant Vector Store\n",
    "vector_store = Qdrant.from_embeddings(\n",
    "    collection_name=\"travel_data\",\n",
    "    embedding_function=embeddings\n",
    ")\n",
    "\n",
    "# Define External API Calls\n",
    "\n",
    "def fetch_flight_data(origin, destination, date):\n",
    "    api_key = \"YOUR_AMADEUS_API_KEY\"\n",
    "    url = f\"https://api.amadeus.com/v1/shopping/flight-offers?origin={origin}&destination={destination}&departureDate={date}&max=3\"\n",
    "    headers = {\"Authorization\": f\"Bearer {api_key}\"}\n",
    "    response = requests.get(url, headers=headers)\n",
    "    return response.json()\n",
    "\n",
    "def fetch_hotel_data(city):\n",
    "    api_key = \"YOUR_BOOKING_API_KEY\"\n",
    "    url = f\"https://api.booking.com/v1/hotels?city={city}&checkin_date=2025-05-01&checkout_date=2025-05-05\"\n",
    "    headers = {\"Authorization\": f\"Bearer {api_key}\"}\n",
    "    response = requests.get(url, headers=headers)\n",
    "    return response.json()\n",
    "\n",
    "def fetch_attractions(city):\n",
    "    api_key = \"YOUR_GOOGLE_PLACES_API_KEY\"\n",
    "    url = f\"https://maps.googleapis.com/maps/api/place/textsearch/json?query=attractions+in+{city}&key={api_key}\"\n",
    "    response = requests.get(url)\n",
    "    return response.json()\n",
    "\n",
    "# Data Ingestion\n",
    "\n",
    "def ingest_data(text, source):\n",
    "    text_splitter = RecursiveCharacterTextSplitter(chunk_size=500, chunk_overlap=50)\n",
    "    docs = [Document(page_content=chunk, metadata={\"source\": source}) for chunk in text_splitter.split_text(text)]\n",
    "    vector_store.add_documents(docs)\n",
    "\n",
    "# Search Tool\n",
    "search_tool = TavilySearchResults()\n",
    "\n",
    "# Define Prompt Template\n",
    "prompt_template = PromptTemplate(\n",
    "    template=\"\"\"\n",
    "    You are a smart travel assistant. Given the user query: {query}, generate a travel itinerary using available knowledge and APIs.\n",
    "    \"\"\",\n",
    "    input_variables=[\"query\"]\n",
    ")\n",
    "\n",
    "# Define RAG Pipeline\n",
    "retriever = vector_store.as_retriever()\n",
    "retrieval_chain = retriever | RunnablePassthrough()\n",
    "rag_chain = retrieval_chain | prompt_template | llm\n",
    "\n",
    "# Define Graph Workflow\n",
    "workflow = StateGraph()\n",
    "workflow.add_nodes(\n",
    "    query_processing=RunnablePassthrough(),\n",
    "    retrieval=retrieval_chain,\n",
    "    generation=rag_chain,\n",
    ")\n",
    "workflow.add_edges([\n",
    "    (\"query_processing\", \"retrieval\"),\n",
    "    (\"retrieval\", \"generation\")\n",
    "])\n",
    "workflow.set_entry_point(\"query_processing\")\n",
    "compiled_workflow = workflow.compile()\n",
    "\n",
    "# Generate Synthetic Data for Testing\n",
    "synth_generator = SyntheticDataGenerator(llm)\n",
    "synth_samples = synth_generator.generate(\"Suggest a 5-day trip itinerary for Paris with budget options.\")\n",
    "\n",
    "# Running the agent\n",
    "query = \"Plan a 7-day Japan trip with flights, hotels, and attractions.\"\n",
    "response = compiled_workflow.invoke(query)\n",
    "print(response)\n"
   ]
  },
  {
   "cell_type": "code",
   "execution_count": null,
   "metadata": {},
   "outputs": [],
   "source": []
  }
 ],
 "metadata": {
  "kernelspec": {
   "display_name": "Python 3",
   "language": "python",
   "name": "python3"
  },
  "language_info": {
   "codemirror_mode": {
    "name": "ipython",
    "version": 3
   },
   "file_extension": ".py",
   "mimetype": "text/x-python",
   "name": "python",
   "nbconvert_exporter": "python",
   "pygments_lexer": "ipython3",
   "version": "3.13.1"
  }
 },
 "nbformat": 4,
 "nbformat_minor": 2
}
