{
  "cells": [
    {
      "cell_type": "markdown",
      "metadata": {
        "id": "lcW6UWldWUMp"
      },
      "source": [
        "# Open Source RAG - Leveraging Hugging Face Endpoints through LangChain\n",
        "\n",
        "In the following notebook we will dive into the world of Open Source models hosted on Hugging Face's [inference endpoints](https://ui.endpoints.huggingface.co/).\n",
        "\n",
        "The notebook will be broken into the following parts:\n",
        "\n",
        "- 🤝 Breakout Room #2:\n",
        "  1. Install required libraries\n",
        "  2. Set Environment Variables\n",
        "  3. Creating LangChain components powered by the endpoints\n",
        "  4. Creating a simple RAG pipeline with [LangChain v0.2.0](https://blog.langchain.dev/langchain-v02-leap-to-stability/)"
      ]
    },
    {
      "cell_type": "markdown",
      "metadata": {
        "id": "-spIWt2J3Quk"
      },
      "source": [
        "## Task 1: Install required libraries\n",
        "\n",
        "Now we've got to get our required libraries!\n",
        "\n",
        "We'll start with our `langchain` and `huggingface` dependencies.\n",
        "\n",
        "> You don't need to run this cell if you're running the notebook locally."
      ]
    },
    {
      "cell_type": "code",
      "execution_count": 29,
      "metadata": {},
      "outputs": [
        {
          "name": "stdout",
          "output_type": "stream",
          "text": [
            "Defaulting to user installation because normal site-packages is not writeable\n",
            "Requirement already satisfied: langchain-huggingface in c:\\users\\dabra\\appdata\\roaming\\python\\python313\\site-packages (0.1.2)\n",
            "Requirement already satisfied: huggingface-hub>=0.23.0 in c:\\users\\dabra\\appdata\\roaming\\python\\python313\\site-packages (from langchain-huggingface) (0.27.0)\n",
            "Requirement already satisfied: langchain-core<0.4.0,>=0.3.15 in c:\\users\\dabra\\appdata\\roaming\\python\\python313\\site-packages (from langchain-huggingface) (0.3.41)\n",
            "Requirement already satisfied: sentence-transformers>=2.6.0 in c:\\users\\dabra\\appdata\\roaming\\python\\python313\\site-packages (from langchain-huggingface) (3.4.1)\n",
            "Requirement already satisfied: tokenizers>=0.19.1 in c:\\users\\dabra\\appdata\\roaming\\python\\python313\\site-packages (from langchain-huggingface) (0.21.0)\n",
            "Requirement already satisfied: transformers>=4.39.0 in c:\\users\\dabra\\appdata\\roaming\\python\\python313\\site-packages (from langchain-huggingface) (4.49.0)\n",
            "Requirement already satisfied: filelock in c:\\users\\dabra\\appdata\\roaming\\python\\python313\\site-packages (from huggingface-hub>=0.23.0->langchain-huggingface) (3.17.0)\n",
            "Requirement already satisfied: fsspec>=2023.5.0 in c:\\users\\dabra\\appdata\\roaming\\python\\python313\\site-packages (from huggingface-hub>=0.23.0->langchain-huggingface) (2024.9.0)\n",
            "Requirement already satisfied: packaging>=20.9 in c:\\users\\dabra\\appdata\\roaming\\python\\python313\\site-packages (from huggingface-hub>=0.23.0->langchain-huggingface) (24.2)\n",
            "Requirement already satisfied: pyyaml>=5.1 in c:\\users\\dabra\\appdata\\roaming\\python\\python313\\site-packages (from huggingface-hub>=0.23.0->langchain-huggingface) (6.0.2)\n",
            "Requirement already satisfied: requests in c:\\users\\dabra\\appdata\\roaming\\python\\python313\\site-packages (from huggingface-hub>=0.23.0->langchain-huggingface) (2.32.3)\n",
            "Requirement already satisfied: tqdm>=4.42.1 in c:\\users\\dabra\\appdata\\roaming\\python\\python313\\site-packages (from huggingface-hub>=0.23.0->langchain-huggingface) (4.67.1)\n",
            "Requirement already satisfied: typing-extensions>=3.7.4.3 in c:\\users\\dabra\\appdata\\roaming\\python\\python313\\site-packages (from huggingface-hub>=0.23.0->langchain-huggingface) (4.12.2)\n",
            "Requirement already satisfied: langsmith<0.4,>=0.1.125 in c:\\users\\dabra\\appdata\\roaming\\python\\python313\\site-packages (from langchain-core<0.4.0,>=0.3.15->langchain-huggingface) (0.2.11)\n",
            "Requirement already satisfied: tenacity!=8.4.0,<10.0.0,>=8.1.0 in c:\\users\\dabra\\appdata\\roaming\\python\\python313\\site-packages (from langchain-core<0.4.0,>=0.3.15->langchain-huggingface) (9.0.0)\n",
            "Requirement already satisfied: jsonpatch<2.0,>=1.33 in c:\\users\\dabra\\appdata\\roaming\\python\\python313\\site-packages (from langchain-core<0.4.0,>=0.3.15->langchain-huggingface) (1.33)\n",
            "Requirement already satisfied: pydantic<3.0.0,>=2.7.4 in c:\\users\\dabra\\appdata\\roaming\\python\\python313\\site-packages (from langchain-core<0.4.0,>=0.3.15->langchain-huggingface) (2.10.6)\n",
            "Requirement already satisfied: torch>=1.11.0 in c:\\users\\dabra\\appdata\\roaming\\python\\python313\\site-packages (from sentence-transformers>=2.6.0->langchain-huggingface) (2.6.0)\n",
            "Requirement already satisfied: scikit-learn in c:\\users\\dabra\\appdata\\roaming\\python\\python313\\site-packages (from sentence-transformers>=2.6.0->langchain-huggingface) (1.6.1)\n",
            "Requirement already satisfied: scipy in c:\\users\\dabra\\appdata\\roaming\\python\\python313\\site-packages (from sentence-transformers>=2.6.0->langchain-huggingface) (1.15.2)\n",
            "Requirement already satisfied: Pillow in c:\\users\\dabra\\appdata\\roaming\\python\\python313\\site-packages (from sentence-transformers>=2.6.0->langchain-huggingface) (11.1.0)\n",
            "Requirement already satisfied: numpy>=1.17 in c:\\users\\dabra\\appdata\\roaming\\python\\python313\\site-packages (from transformers>=4.39.0->langchain-huggingface) (1.26.4)\n",
            "Requirement already satisfied: regex!=2019.12.17 in c:\\users\\dabra\\appdata\\roaming\\python\\python313\\site-packages (from transformers>=4.39.0->langchain-huggingface) (2024.11.6)\n",
            "Requirement already satisfied: safetensors>=0.4.1 in c:\\users\\dabra\\appdata\\roaming\\python\\python313\\site-packages (from transformers>=4.39.0->langchain-huggingface) (0.5.2)\n",
            "Requirement already satisfied: jsonpointer>=1.9 in c:\\users\\dabra\\appdata\\roaming\\python\\python313\\site-packages (from jsonpatch<2.0,>=1.33->langchain-core<0.4.0,>=0.3.15->langchain-huggingface) (3.0.0)\n",
            "Requirement already satisfied: httpx<1,>=0.23.0 in c:\\users\\dabra\\appdata\\roaming\\python\\python313\\site-packages (from langsmith<0.4,>=0.1.125->langchain-core<0.4.0,>=0.3.15->langchain-huggingface) (0.28.1)\n",
            "Requirement already satisfied: orjson<4.0.0,>=3.9.14 in c:\\users\\dabra\\appdata\\roaming\\python\\python313\\site-packages (from langsmith<0.4,>=0.1.125->langchain-core<0.4.0,>=0.3.15->langchain-huggingface) (3.10.15)\n",
            "Requirement already satisfied: requests-toolbelt<2.0.0,>=1.0.0 in c:\\users\\dabra\\appdata\\roaming\\python\\python313\\site-packages (from langsmith<0.4,>=0.1.125->langchain-core<0.4.0,>=0.3.15->langchain-huggingface) (1.0.0)\n",
            "Requirement already satisfied: annotated-types>=0.6.0 in c:\\users\\dabra\\appdata\\roaming\\python\\python313\\site-packages (from pydantic<3.0.0,>=2.7.4->langchain-core<0.4.0,>=0.3.15->langchain-huggingface) (0.7.0)\n",
            "Requirement already satisfied: pydantic-core==2.27.2 in c:\\users\\dabra\\appdata\\roaming\\python\\python313\\site-packages (from pydantic<3.0.0,>=2.7.4->langchain-core<0.4.0,>=0.3.15->langchain-huggingface) (2.27.2)\n",
            "Requirement already satisfied: charset-normalizer<4,>=2 in c:\\users\\dabra\\appdata\\roaming\\python\\python313\\site-packages (from requests->huggingface-hub>=0.23.0->langchain-huggingface) (3.4.1)\n",
            "Requirement already satisfied: idna<4,>=2.5 in c:\\users\\dabra\\appdata\\roaming\\python\\python313\\site-packages (from requests->huggingface-hub>=0.23.0->langchain-huggingface) (3.10)\n",
            "Requirement already satisfied: urllib3<3,>=1.21.1 in c:\\users\\dabra\\appdata\\roaming\\python\\python313\\site-packages (from requests->huggingface-hub>=0.23.0->langchain-huggingface) (2.3.0)\n",
            "Requirement already satisfied: certifi>=2017.4.17 in c:\\users\\dabra\\appdata\\roaming\\python\\python313\\site-packages (from requests->huggingface-hub>=0.23.0->langchain-huggingface) (2025.1.31)\n",
            "Requirement already satisfied: networkx in c:\\users\\dabra\\appdata\\roaming\\python\\python313\\site-packages (from torch>=1.11.0->sentence-transformers>=2.6.0->langchain-huggingface) (3.4.2)\n",
            "Requirement already satisfied: jinja2 in c:\\users\\dabra\\appdata\\roaming\\python\\python313\\site-packages (from torch>=1.11.0->sentence-transformers>=2.6.0->langchain-huggingface) (3.1.5)\n",
            "Requirement already satisfied: setuptools in c:\\users\\dabra\\appdata\\roaming\\python\\python313\\site-packages (from torch>=1.11.0->sentence-transformers>=2.6.0->langchain-huggingface) (75.8.0)\n",
            "Requirement already satisfied: sympy==1.13.1 in c:\\users\\dabra\\appdata\\roaming\\python\\python313\\site-packages (from torch>=1.11.0->sentence-transformers>=2.6.0->langchain-huggingface) (1.13.1)\n",
            "Requirement already satisfied: mpmath<1.4,>=1.1.0 in c:\\users\\dabra\\appdata\\roaming\\python\\python313\\site-packages (from sympy==1.13.1->torch>=1.11.0->sentence-transformers>=2.6.0->langchain-huggingface) (1.3.0)\n",
            "Requirement already satisfied: colorama in c:\\users\\dabra\\appdata\\roaming\\python\\python313\\site-packages (from tqdm>=4.42.1->huggingface-hub>=0.23.0->langchain-huggingface) (0.4.6)\n",
            "Requirement already satisfied: joblib>=1.2.0 in c:\\users\\dabra\\appdata\\roaming\\python\\python313\\site-packages (from scikit-learn->sentence-transformers>=2.6.0->langchain-huggingface) (1.4.2)\n",
            "Requirement already satisfied: threadpoolctl>=3.1.0 in c:\\users\\dabra\\appdata\\roaming\\python\\python313\\site-packages (from scikit-learn->sentence-transformers>=2.6.0->langchain-huggingface) (3.5.0)\n",
            "Requirement already satisfied: anyio in c:\\users\\dabra\\appdata\\roaming\\python\\python313\\site-packages (from httpx<1,>=0.23.0->langsmith<0.4,>=0.1.125->langchain-core<0.4.0,>=0.3.15->langchain-huggingface) (4.8.0)\n",
            "Requirement already satisfied: httpcore==1.* in c:\\users\\dabra\\appdata\\roaming\\python\\python313\\site-packages (from httpx<1,>=0.23.0->langsmith<0.4,>=0.1.125->langchain-core<0.4.0,>=0.3.15->langchain-huggingface) (1.0.7)\n",
            "Requirement already satisfied: h11<0.15,>=0.13 in c:\\users\\dabra\\appdata\\roaming\\python\\python313\\site-packages (from httpcore==1.*->httpx<1,>=0.23.0->langsmith<0.4,>=0.1.125->langchain-core<0.4.0,>=0.3.15->langchain-huggingface) (0.14.0)\n",
            "Requirement already satisfied: MarkupSafe>=2.0 in c:\\users\\dabra\\appdata\\roaming\\python\\python313\\site-packages (from jinja2->torch>=1.11.0->sentence-transformers>=2.6.0->langchain-huggingface) (3.0.2)\n",
            "Requirement already satisfied: sniffio>=1.1 in c:\\users\\dabra\\appdata\\roaming\\python\\python313\\site-packages (from anyio->httpx<1,>=0.23.0->langsmith<0.4,>=0.1.125->langchain-core<0.4.0,>=0.3.15->langchain-huggingface) (1.3.1)\n"
          ]
        }
      ],
      "source": [
        "!pip install langchain-huggingface"
      ]
    },
    {
      "cell_type": "code",
      "execution_count": 1,
      "metadata": {
        "id": "EwGLnp31jXJj"
      },
      "outputs": [
        {
          "name": "stdout",
          "output_type": "stream",
          "text": [
            "Defaulting to user installation because normal site-packages is not writeable\n",
            "Requirement already satisfied: chainlit in c:\\users\\dabra\\appdata\\roaming\\python\\python313\\site-packages (2.2.1)\n",
            "Requirement already satisfied: langchain-huggingface in c:\\users\\dabra\\appdata\\roaming\\python\\python313\\site-packages (0.1.2)\n",
            "Requirement already satisfied: langchain-community in c:\\users\\dabra\\appdata\\roaming\\python\\python313\\site-packages (0.3.19)\n",
            "Requirement already satisfied: langchain-text-splitters in c:\\users\\dabra\\appdata\\roaming\\python\\python313\\site-packages (0.3.6)\n",
            "Requirement already satisfied: langchain-core in c:\\users\\dabra\\appdata\\roaming\\python\\python313\\site-packages (0.3.41)\n",
            "Requirement already satisfied: faiss-cpu in c:\\users\\dabra\\appdata\\roaming\\python\\python313\\site-packages (1.10.0)\n",
            "Requirement already satisfied: tqdm in c:\\users\\dabra\\appdata\\roaming\\python\\python313\\site-packages (4.67.1)\n",
            "Requirement already satisfied: python-dotenv in c:\\users\\dabra\\appdata\\roaming\\python\\python313\\site-packages (1.0.1)\n",
            "Requirement already satisfied: aiofiles<24.0.0,>=23.1.0 in c:\\users\\dabra\\appdata\\roaming\\python\\python313\\site-packages (from chainlit) (23.2.1)\n",
            "Requirement already satisfied: asyncer<0.0.8,>=0.0.7 in c:\\users\\dabra\\appdata\\roaming\\python\\python313\\site-packages (from chainlit) (0.0.7)\n",
            "Requirement already satisfied: click<9.0.0,>=8.1.3 in c:\\users\\dabra\\appdata\\roaming\\python\\python313\\site-packages (from chainlit) (8.1.8)\n",
            "Requirement already satisfied: dataclasses_json<0.7.0,>=0.6.7 in c:\\users\\dabra\\appdata\\roaming\\python\\python313\\site-packages (from chainlit) (0.6.7)\n",
            "Requirement already satisfied: fastapi<0.116,>=0.115.3 in c:\\users\\dabra\\appdata\\roaming\\python\\python313\\site-packages (from chainlit) (0.115.8)\n",
            "Requirement already satisfied: filetype<2.0.0,>=1.2.0 in c:\\users\\dabra\\appdata\\roaming\\python\\python313\\site-packages (from chainlit) (1.2.0)\n",
            "Requirement already satisfied: httpx>=0.23.0 in c:\\users\\dabra\\appdata\\roaming\\python\\python313\\site-packages (from chainlit) (0.28.1)\n",
            "Requirement already satisfied: lazify<0.5.0,>=0.4.0 in c:\\users\\dabra\\appdata\\roaming\\python\\python313\\site-packages (from chainlit) (0.4.0)\n",
            "Requirement already satisfied: literalai==0.1.103 in c:\\users\\dabra\\appdata\\roaming\\python\\python313\\site-packages (from chainlit) (0.1.103)\n",
            "Requirement already satisfied: nest-asyncio<2.0.0,>=1.6.0 in c:\\users\\dabra\\appdata\\roaming\\python\\python313\\site-packages (from chainlit) (1.6.0)\n",
            "Requirement already satisfied: packaging>=23.1 in c:\\users\\dabra\\appdata\\roaming\\python\\python313\\site-packages (from chainlit) (24.2)\n",
            "Requirement already satisfied: pydantic<3,>=1 in c:\\users\\dabra\\appdata\\roaming\\python\\python313\\site-packages (from chainlit) (2.10.6)\n",
            "Requirement already satisfied: pyjwt<3.0.0,>=2.8.0 in c:\\users\\dabra\\appdata\\roaming\\python\\python313\\site-packages (from chainlit) (2.10.1)\n",
            "Requirement already satisfied: python-multipart<0.0.19,>=0.0.18 in c:\\users\\dabra\\appdata\\roaming\\python\\python313\\site-packages (from chainlit) (0.0.18)\n",
            "Requirement already satisfied: python-socketio<6.0.0,>=5.11.0 in c:\\users\\dabra\\appdata\\roaming\\python\\python313\\site-packages (from chainlit) (5.12.1)\n",
            "Requirement already satisfied: starlette<0.42.0,>=0.41.2 in c:\\users\\dabra\\appdata\\roaming\\python\\python313\\site-packages (from chainlit) (0.41.3)\n",
            "Requirement already satisfied: syncer<3.0.0,>=2.0.3 in c:\\users\\dabra\\appdata\\roaming\\python\\python313\\site-packages (from chainlit) (2.0.3)\n",
            "Requirement already satisfied: tomli<3.0.0,>=2.0.1 in c:\\users\\dabra\\appdata\\roaming\\python\\python313\\site-packages (from chainlit) (2.2.1)\n",
            "Requirement already satisfied: uptrace<2.0.0,>=1.22.0 in c:\\users\\dabra\\appdata\\roaming\\python\\python313\\site-packages (from chainlit) (1.29.0)\n",
            "Requirement already satisfied: uvicorn>=0.25.0 in c:\\users\\dabra\\appdata\\roaming\\python\\python313\\site-packages (from chainlit) (0.34.0)\n",
            "Requirement already satisfied: watchfiles<0.21.0,>=0.20.0 in c:\\users\\dabra\\appdata\\roaming\\python\\python313\\site-packages (from chainlit) (0.20.0)\n",
            "Requirement already satisfied: chevron>=0.14.0 in c:\\users\\dabra\\appdata\\roaming\\python\\python313\\site-packages (from literalai==0.1.103->chainlit) (0.14.0)\n",
            "Requirement already satisfied: huggingface-hub>=0.23.0 in c:\\users\\dabra\\appdata\\roaming\\python\\python313\\site-packages (from langchain-huggingface) (0.27.0)\n",
            "Requirement already satisfied: sentence-transformers>=2.6.0 in c:\\users\\dabra\\appdata\\roaming\\python\\python313\\site-packages (from langchain-huggingface) (3.4.1)\n",
            "Requirement already satisfied: tokenizers>=0.19.1 in c:\\users\\dabra\\appdata\\roaming\\python\\python313\\site-packages (from langchain-huggingface) (0.21.0)\n",
            "Requirement already satisfied: transformers>=4.39.0 in c:\\users\\dabra\\appdata\\roaming\\python\\python313\\site-packages (from langchain-huggingface) (4.49.0)\n",
            "Requirement already satisfied: langchain<1.0.0,>=0.3.20 in c:\\users\\dabra\\appdata\\roaming\\python\\python313\\site-packages (from langchain-community) (0.3.20)\n",
            "Requirement already satisfied: SQLAlchemy<3,>=1.4 in c:\\users\\dabra\\appdata\\roaming\\python\\python313\\site-packages (from langchain-community) (2.0.37)\n",
            "Requirement already satisfied: requests<3,>=2 in c:\\users\\dabra\\appdata\\roaming\\python\\python313\\site-packages (from langchain-community) (2.32.3)\n",
            "Requirement already satisfied: PyYAML>=5.3 in c:\\users\\dabra\\appdata\\roaming\\python\\python313\\site-packages (from langchain-community) (6.0.2)\n",
            "Requirement already satisfied: aiohttp<4.0.0,>=3.8.3 in c:\\users\\dabra\\appdata\\roaming\\python\\python313\\site-packages (from langchain-community) (3.11.11)\n",
            "Requirement already satisfied: tenacity!=8.4.0,<10,>=8.1.0 in c:\\users\\dabra\\appdata\\roaming\\python\\python313\\site-packages (from langchain-community) (9.0.0)\n",
            "Requirement already satisfied: pydantic-settings<3.0.0,>=2.4.0 in c:\\users\\dabra\\appdata\\roaming\\python\\python313\\site-packages (from langchain-community) (2.7.1)\n",
            "Requirement already satisfied: langsmith<0.4,>=0.1.125 in c:\\users\\dabra\\appdata\\roaming\\python\\python313\\site-packages (from langchain-community) (0.2.11)\n",
            "Requirement already satisfied: httpx-sse<1.0.0,>=0.4.0 in c:\\users\\dabra\\appdata\\roaming\\python\\python313\\site-packages (from langchain-community) (0.4.0)\n",
            "Requirement already satisfied: numpy<3,>=1.26.2 in c:\\users\\dabra\\appdata\\roaming\\python\\python313\\site-packages (from langchain-community) (1.26.4)\n",
            "Requirement already satisfied: jsonpatch<2.0,>=1.33 in c:\\users\\dabra\\appdata\\roaming\\python\\python313\\site-packages (from langchain-core) (1.33)\n",
            "Requirement already satisfied: typing-extensions>=4.7 in c:\\users\\dabra\\appdata\\roaming\\python\\python313\\site-packages (from langchain-core) (4.12.2)\n",
            "Requirement already satisfied: colorama in c:\\users\\dabra\\appdata\\roaming\\python\\python313\\site-packages (from tqdm) (0.4.6)\n",
            "Requirement already satisfied: aiohappyeyeballs>=2.3.0 in c:\\users\\dabra\\appdata\\roaming\\python\\python313\\site-packages (from aiohttp<4.0.0,>=3.8.3->langchain-community) (2.4.4)\n",
            "Requirement already satisfied: aiosignal>=1.1.2 in c:\\users\\dabra\\appdata\\roaming\\python\\python313\\site-packages (from aiohttp<4.0.0,>=3.8.3->langchain-community) (1.3.2)\n",
            "Requirement already satisfied: attrs>=17.3.0 in c:\\users\\dabra\\appdata\\roaming\\python\\python313\\site-packages (from aiohttp<4.0.0,>=3.8.3->langchain-community) (25.1.0)\n",
            "Requirement already satisfied: frozenlist>=1.1.1 in c:\\users\\dabra\\appdata\\roaming\\python\\python313\\site-packages (from aiohttp<4.0.0,>=3.8.3->langchain-community) (1.5.0)\n",
            "Requirement already satisfied: multidict<7.0,>=4.5 in c:\\users\\dabra\\appdata\\roaming\\python\\python313\\site-packages (from aiohttp<4.0.0,>=3.8.3->langchain-community) (6.1.0)\n",
            "Requirement already satisfied: propcache>=0.2.0 in c:\\users\\dabra\\appdata\\roaming\\python\\python313\\site-packages (from aiohttp<4.0.0,>=3.8.3->langchain-community) (0.2.1)\n",
            "Requirement already satisfied: yarl<2.0,>=1.17.0 in c:\\users\\dabra\\appdata\\roaming\\python\\python313\\site-packages (from aiohttp<4.0.0,>=3.8.3->langchain-community) (1.18.3)\n",
            "Requirement already satisfied: anyio<5.0,>=3.4.0 in c:\\users\\dabra\\appdata\\roaming\\python\\python313\\site-packages (from asyncer<0.0.8,>=0.0.7->chainlit) (4.8.0)\n",
            "Requirement already satisfied: marshmallow<4.0.0,>=3.18.0 in c:\\users\\dabra\\appdata\\roaming\\python\\python313\\site-packages (from dataclasses_json<0.7.0,>=0.6.7->chainlit) (3.26.1)\n",
            "Requirement already satisfied: typing-inspect<1,>=0.4.0 in c:\\users\\dabra\\appdata\\roaming\\python\\python313\\site-packages (from dataclasses_json<0.7.0,>=0.6.7->chainlit) (0.9.0)\n",
            "Requirement already satisfied: certifi in c:\\users\\dabra\\appdata\\roaming\\python\\python313\\site-packages (from httpx>=0.23.0->chainlit) (2025.1.31)\n",
            "Requirement already satisfied: httpcore==1.* in c:\\users\\dabra\\appdata\\roaming\\python\\python313\\site-packages (from httpx>=0.23.0->chainlit) (1.0.7)\n",
            "Requirement already satisfied: idna in c:\\users\\dabra\\appdata\\roaming\\python\\python313\\site-packages (from httpx>=0.23.0->chainlit) (3.10)\n",
            "Requirement already satisfied: h11<0.15,>=0.13 in c:\\users\\dabra\\appdata\\roaming\\python\\python313\\site-packages (from httpcore==1.*->httpx>=0.23.0->chainlit) (0.14.0)\n",
            "Requirement already satisfied: filelock in c:\\users\\dabra\\appdata\\roaming\\python\\python313\\site-packages (from huggingface-hub>=0.23.0->langchain-huggingface) (3.17.0)\n",
            "Requirement already satisfied: fsspec>=2023.5.0 in c:\\users\\dabra\\appdata\\roaming\\python\\python313\\site-packages (from huggingface-hub>=0.23.0->langchain-huggingface) (2024.9.0)\n",
            "Requirement already satisfied: jsonpointer>=1.9 in c:\\users\\dabra\\appdata\\roaming\\python\\python313\\site-packages (from jsonpatch<2.0,>=1.33->langchain-core) (3.0.0)\n",
            "Requirement already satisfied: orjson<4.0.0,>=3.9.14 in c:\\users\\dabra\\appdata\\roaming\\python\\python313\\site-packages (from langsmith<0.4,>=0.1.125->langchain-community) (3.10.15)\n",
            "Requirement already satisfied: requests-toolbelt<2.0.0,>=1.0.0 in c:\\users\\dabra\\appdata\\roaming\\python\\python313\\site-packages (from langsmith<0.4,>=0.1.125->langchain-community) (1.0.0)\n",
            "Requirement already satisfied: annotated-types>=0.6.0 in c:\\users\\dabra\\appdata\\roaming\\python\\python313\\site-packages (from pydantic<3,>=1->chainlit) (0.7.0)\n",
            "Requirement already satisfied: pydantic-core==2.27.2 in c:\\users\\dabra\\appdata\\roaming\\python\\python313\\site-packages (from pydantic<3,>=1->chainlit) (2.27.2)\n",
            "Requirement already satisfied: bidict>=0.21.0 in c:\\users\\dabra\\appdata\\roaming\\python\\python313\\site-packages (from python-socketio<6.0.0,>=5.11.0->chainlit) (0.23.1)\n",
            "Requirement already satisfied: python-engineio>=4.11.0 in c:\\users\\dabra\\appdata\\roaming\\python\\python313\\site-packages (from python-socketio<6.0.0,>=5.11.0->chainlit) (4.11.2)\n",
            "Requirement already satisfied: charset-normalizer<4,>=2 in c:\\users\\dabra\\appdata\\roaming\\python\\python313\\site-packages (from requests<3,>=2->langchain-community) (3.4.1)\n",
            "Requirement already satisfied: urllib3<3,>=1.21.1 in c:\\users\\dabra\\appdata\\roaming\\python\\python313\\site-packages (from requests<3,>=2->langchain-community) (2.3.0)\n",
            "Requirement already satisfied: torch>=1.11.0 in c:\\users\\dabra\\appdata\\roaming\\python\\python313\\site-packages (from sentence-transformers>=2.6.0->langchain-huggingface) (2.6.0)\n",
            "Requirement already satisfied: scikit-learn in c:\\users\\dabra\\appdata\\roaming\\python\\python313\\site-packages (from sentence-transformers>=2.6.0->langchain-huggingface) (1.6.1)\n",
            "Requirement already satisfied: scipy in c:\\users\\dabra\\appdata\\roaming\\python\\python313\\site-packages (from sentence-transformers>=2.6.0->langchain-huggingface) (1.15.2)\n",
            "Requirement already satisfied: Pillow in c:\\users\\dabra\\appdata\\roaming\\python\\python313\\site-packages (from sentence-transformers>=2.6.0->langchain-huggingface) (11.1.0)\n",
            "Requirement already satisfied: greenlet!=0.4.17 in c:\\users\\dabra\\appdata\\roaming\\python\\python313\\site-packages (from SQLAlchemy<3,>=1.4->langchain-community) (3.1.1)\n",
            "Requirement already satisfied: regex!=2019.12.17 in c:\\users\\dabra\\appdata\\roaming\\python\\python313\\site-packages (from transformers>=4.39.0->langchain-huggingface) (2024.11.6)\n",
            "Requirement already satisfied: safetensors>=0.4.1 in c:\\users\\dabra\\appdata\\roaming\\python\\python313\\site-packages (from transformers>=4.39.0->langchain-huggingface) (0.5.2)\n",
            "Requirement already satisfied: opentelemetry-api~=1.29.0 in c:\\users\\dabra\\appdata\\roaming\\python\\python313\\site-packages (from uptrace<2.0.0,>=1.22.0->chainlit) (1.29.0)\n",
            "Requirement already satisfied: opentelemetry-sdk~=1.29.0 in c:\\users\\dabra\\appdata\\roaming\\python\\python313\\site-packages (from uptrace<2.0.0,>=1.22.0->chainlit) (1.29.0)\n",
            "Requirement already satisfied: opentelemetry-exporter-otlp~=1.29.0 in c:\\users\\dabra\\appdata\\roaming\\python\\python313\\site-packages (from uptrace<2.0.0,>=1.22.0->chainlit) (1.29.0)\n",
            "Requirement already satisfied: opentelemetry-instrumentation~=0.50b0 in c:\\users\\dabra\\appdata\\roaming\\python\\python313\\site-packages (from uptrace<2.0.0,>=1.22.0->chainlit) (0.50b0)\n",
            "Requirement already satisfied: sniffio>=1.1 in c:\\users\\dabra\\appdata\\roaming\\python\\python313\\site-packages (from anyio<5.0,>=3.4.0->asyncer<0.0.8,>=0.0.7->chainlit) (1.3.1)\n",
            "Requirement already satisfied: deprecated>=1.2.6 in c:\\users\\dabra\\appdata\\roaming\\python\\python313\\site-packages (from opentelemetry-api~=1.29.0->uptrace<2.0.0,>=1.22.0->chainlit) (1.2.18)\n",
            "Requirement already satisfied: importlib-metadata<=8.5.0,>=6.0 in c:\\users\\dabra\\appdata\\roaming\\python\\python313\\site-packages (from opentelemetry-api~=1.29.0->uptrace<2.0.0,>=1.22.0->chainlit) (8.5.0)\n",
            "Requirement already satisfied: opentelemetry-exporter-otlp-proto-grpc==1.29.0 in c:\\users\\dabra\\appdata\\roaming\\python\\python313\\site-packages (from opentelemetry-exporter-otlp~=1.29.0->uptrace<2.0.0,>=1.22.0->chainlit) (1.29.0)\n",
            "Requirement already satisfied: opentelemetry-exporter-otlp-proto-http==1.29.0 in c:\\users\\dabra\\appdata\\roaming\\python\\python313\\site-packages (from opentelemetry-exporter-otlp~=1.29.0->uptrace<2.0.0,>=1.22.0->chainlit) (1.29.0)\n",
            "Requirement already satisfied: googleapis-common-protos~=1.52 in c:\\users\\dabra\\appdata\\roaming\\python\\python313\\site-packages (from opentelemetry-exporter-otlp-proto-grpc==1.29.0->opentelemetry-exporter-otlp~=1.29.0->uptrace<2.0.0,>=1.22.0->chainlit) (1.68.0)\n",
            "Requirement already satisfied: grpcio<2.0.0,>=1.63.2 in c:\\users\\dabra\\appdata\\roaming\\python\\python313\\site-packages (from opentelemetry-exporter-otlp-proto-grpc==1.29.0->opentelemetry-exporter-otlp~=1.29.0->uptrace<2.0.0,>=1.22.0->chainlit) (1.70.0)\n",
            "Requirement already satisfied: opentelemetry-exporter-otlp-proto-common==1.29.0 in c:\\users\\dabra\\appdata\\roaming\\python\\python313\\site-packages (from opentelemetry-exporter-otlp-proto-grpc==1.29.0->opentelemetry-exporter-otlp~=1.29.0->uptrace<2.0.0,>=1.22.0->chainlit) (1.29.0)\n",
            "Requirement already satisfied: opentelemetry-proto==1.29.0 in c:\\users\\dabra\\appdata\\roaming\\python\\python313\\site-packages (from opentelemetry-exporter-otlp-proto-grpc==1.29.0->opentelemetry-exporter-otlp~=1.29.0->uptrace<2.0.0,>=1.22.0->chainlit) (1.29.0)\n",
            "Requirement already satisfied: protobuf<6.0,>=5.0 in c:\\users\\dabra\\appdata\\roaming\\python\\python313\\site-packages (from opentelemetry-proto==1.29.0->opentelemetry-exporter-otlp-proto-grpc==1.29.0->opentelemetry-exporter-otlp~=1.29.0->uptrace<2.0.0,>=1.22.0->chainlit) (5.29.3)\n",
            "Requirement already satisfied: opentelemetry-semantic-conventions==0.50b0 in c:\\users\\dabra\\appdata\\roaming\\python\\python313\\site-packages (from opentelemetry-instrumentation~=0.50b0->uptrace<2.0.0,>=1.22.0->chainlit) (0.50b0)\n",
            "Requirement already satisfied: wrapt<2.0.0,>=1.0.0 in c:\\users\\dabra\\appdata\\roaming\\python\\python313\\site-packages (from opentelemetry-instrumentation~=0.50b0->uptrace<2.0.0,>=1.22.0->chainlit) (1.17.2)\n",
            "Requirement already satisfied: simple-websocket>=0.10.0 in c:\\users\\dabra\\appdata\\roaming\\python\\python313\\site-packages (from python-engineio>=4.11.0->python-socketio<6.0.0,>=5.11.0->chainlit) (1.1.0)\n",
            "Requirement already satisfied: networkx in c:\\users\\dabra\\appdata\\roaming\\python\\python313\\site-packages (from torch>=1.11.0->sentence-transformers>=2.6.0->langchain-huggingface) (3.4.2)\n",
            "Requirement already satisfied: jinja2 in c:\\users\\dabra\\appdata\\roaming\\python\\python313\\site-packages (from torch>=1.11.0->sentence-transformers>=2.6.0->langchain-huggingface) (3.1.5)\n",
            "Requirement already satisfied: setuptools in c:\\users\\dabra\\appdata\\roaming\\python\\python313\\site-packages (from torch>=1.11.0->sentence-transformers>=2.6.0->langchain-huggingface) (75.8.0)\n",
            "Requirement already satisfied: sympy==1.13.1 in c:\\users\\dabra\\appdata\\roaming\\python\\python313\\site-packages (from torch>=1.11.0->sentence-transformers>=2.6.0->langchain-huggingface) (1.13.1)\n",
            "Requirement already satisfied: mpmath<1.4,>=1.1.0 in c:\\users\\dabra\\appdata\\roaming\\python\\python313\\site-packages (from sympy==1.13.1->torch>=1.11.0->sentence-transformers>=2.6.0->langchain-huggingface) (1.3.0)\n",
            "Requirement already satisfied: mypy-extensions>=0.3.0 in c:\\users\\dabra\\appdata\\roaming\\python\\python313\\site-packages (from typing-inspect<1,>=0.4.0->dataclasses_json<0.7.0,>=0.6.7->chainlit) (1.0.0)\n",
            "Requirement already satisfied: joblib>=1.2.0 in c:\\users\\dabra\\appdata\\roaming\\python\\python313\\site-packages (from scikit-learn->sentence-transformers>=2.6.0->langchain-huggingface) (1.4.2)\n",
            "Requirement already satisfied: threadpoolctl>=3.1.0 in c:\\users\\dabra\\appdata\\roaming\\python\\python313\\site-packages (from scikit-learn->sentence-transformers>=2.6.0->langchain-huggingface) (3.5.0)\n",
            "Requirement already satisfied: zipp>=3.20 in c:\\users\\dabra\\appdata\\roaming\\python\\python313\\site-packages (from importlib-metadata<=8.5.0,>=6.0->opentelemetry-api~=1.29.0->uptrace<2.0.0,>=1.22.0->chainlit) (3.21.0)\n",
            "Requirement already satisfied: wsproto in c:\\users\\dabra\\appdata\\roaming\\python\\python313\\site-packages (from simple-websocket>=0.10.0->python-engineio>=4.11.0->python-socketio<6.0.0,>=5.11.0->chainlit) (1.2.0)\n",
            "Requirement already satisfied: MarkupSafe>=2.0 in c:\\users\\dabra\\appdata\\roaming\\python\\python313\\site-packages (from jinja2->torch>=1.11.0->sentence-transformers>=2.6.0->langchain-huggingface) (3.0.2)\n"
          ]
        }
      ],
      "source": [
        "# !pip install -qU langchain-huggingface langchain-community faiss-cpu\n",
        "\n",
        "!pip install chainlit langchain-huggingface langchain-community langchain-text-splitters langchain-core faiss-cpu tqdm python-dotenv"
      ]
    },
    {
      "cell_type": "code",
      "execution_count": 32,
      "metadata": {},
      "outputs": [],
      "source": [
        "from langchain_community.llms import HuggingFaceEndpoint\n",
        "from langchain_huggingface import HuggingFaceEndpoint\n",
        "from langchain_community.llms import HuggingFaceEndpoint"
      ]
    },
    {
      "cell_type": "code",
      "execution_count": 34,
      "metadata": {},
      "outputs": [
        {
          "name": "stdout",
          "output_type": "stream",
          "text": [
            "Defaulting to user installation because normal site-packages is not writeable\n",
            "Requirement already satisfied: langchain-community in c:\\users\\dabra\\appdata\\roaming\\python\\python313\\site-packages (0.3.19)\n",
            "Requirement already satisfied: langchain-core<1.0.0,>=0.3.41 in c:\\users\\dabra\\appdata\\roaming\\python\\python313\\site-packages (from langchain-community) (0.3.41)\n",
            "Requirement already satisfied: langchain<1.0.0,>=0.3.20 in c:\\users\\dabra\\appdata\\roaming\\python\\python313\\site-packages (from langchain-community) (0.3.20)\n",
            "Requirement already satisfied: SQLAlchemy<3,>=1.4 in c:\\users\\dabra\\appdata\\roaming\\python\\python313\\site-packages (from langchain-community) (2.0.37)\n",
            "Requirement already satisfied: requests<3,>=2 in c:\\users\\dabra\\appdata\\roaming\\python\\python313\\site-packages (from langchain-community) (2.32.3)\n",
            "Requirement already satisfied: PyYAML>=5.3 in c:\\users\\dabra\\appdata\\roaming\\python\\python313\\site-packages (from langchain-community) (6.0.2)\n",
            "Requirement already satisfied: aiohttp<4.0.0,>=3.8.3 in c:\\users\\dabra\\appdata\\roaming\\python\\python313\\site-packages (from langchain-community) (3.11.11)\n",
            "Requirement already satisfied: tenacity!=8.4.0,<10,>=8.1.0 in c:\\users\\dabra\\appdata\\roaming\\python\\python313\\site-packages (from langchain-community) (9.0.0)\n",
            "Requirement already satisfied: dataclasses-json<0.7,>=0.5.7 in c:\\users\\dabra\\appdata\\roaming\\python\\python313\\site-packages (from langchain-community) (0.6.7)\n",
            "Requirement already satisfied: pydantic-settings<3.0.0,>=2.4.0 in c:\\users\\dabra\\appdata\\roaming\\python\\python313\\site-packages (from langchain-community) (2.7.1)\n",
            "Requirement already satisfied: langsmith<0.4,>=0.1.125 in c:\\users\\dabra\\appdata\\roaming\\python\\python313\\site-packages (from langchain-community) (0.2.11)\n",
            "Requirement already satisfied: httpx-sse<1.0.0,>=0.4.0 in c:\\users\\dabra\\appdata\\roaming\\python\\python313\\site-packages (from langchain-community) (0.4.0)\n",
            "Requirement already satisfied: numpy<3,>=1.26.2 in c:\\users\\dabra\\appdata\\roaming\\python\\python313\\site-packages (from langchain-community) (1.26.4)\n",
            "Requirement already satisfied: aiohappyeyeballs>=2.3.0 in c:\\users\\dabra\\appdata\\roaming\\python\\python313\\site-packages (from aiohttp<4.0.0,>=3.8.3->langchain-community) (2.4.4)\n",
            "Requirement already satisfied: aiosignal>=1.1.2 in c:\\users\\dabra\\appdata\\roaming\\python\\python313\\site-packages (from aiohttp<4.0.0,>=3.8.3->langchain-community) (1.3.2)\n",
            "Requirement already satisfied: attrs>=17.3.0 in c:\\users\\dabra\\appdata\\roaming\\python\\python313\\site-packages (from aiohttp<4.0.0,>=3.8.3->langchain-community) (25.1.0)\n",
            "Requirement already satisfied: frozenlist>=1.1.1 in c:\\users\\dabra\\appdata\\roaming\\python\\python313\\site-packages (from aiohttp<4.0.0,>=3.8.3->langchain-community) (1.5.0)\n",
            "Requirement already satisfied: multidict<7.0,>=4.5 in c:\\users\\dabra\\appdata\\roaming\\python\\python313\\site-packages (from aiohttp<4.0.0,>=3.8.3->langchain-community) (6.1.0)\n",
            "Requirement already satisfied: propcache>=0.2.0 in c:\\users\\dabra\\appdata\\roaming\\python\\python313\\site-packages (from aiohttp<4.0.0,>=3.8.3->langchain-community) (0.2.1)\n",
            "Requirement already satisfied: yarl<2.0,>=1.17.0 in c:\\users\\dabra\\appdata\\roaming\\python\\python313\\site-packages (from aiohttp<4.0.0,>=3.8.3->langchain-community) (1.18.3)\n",
            "Requirement already satisfied: marshmallow<4.0.0,>=3.18.0 in c:\\users\\dabra\\appdata\\roaming\\python\\python313\\site-packages (from dataclasses-json<0.7,>=0.5.7->langchain-community) (3.26.1)\n",
            "Requirement already satisfied: typing-inspect<1,>=0.4.0 in c:\\users\\dabra\\appdata\\roaming\\python\\python313\\site-packages (from dataclasses-json<0.7,>=0.5.7->langchain-community) (0.9.0)\n",
            "Requirement already satisfied: langchain-text-splitters<1.0.0,>=0.3.6 in c:\\users\\dabra\\appdata\\roaming\\python\\python313\\site-packages (from langchain<1.0.0,>=0.3.20->langchain-community) (0.3.6)\n",
            "Requirement already satisfied: pydantic<3.0.0,>=2.7.4 in c:\\users\\dabra\\appdata\\roaming\\python\\python313\\site-packages (from langchain<1.0.0,>=0.3.20->langchain-community) (2.10.6)\n",
            "Requirement already satisfied: jsonpatch<2.0,>=1.33 in c:\\users\\dabra\\appdata\\roaming\\python\\python313\\site-packages (from langchain-core<1.0.0,>=0.3.41->langchain-community) (1.33)\n",
            "Requirement already satisfied: packaging<25,>=23.2 in c:\\users\\dabra\\appdata\\roaming\\python\\python313\\site-packages (from langchain-core<1.0.0,>=0.3.41->langchain-community) (24.2)\n",
            "Requirement already satisfied: typing-extensions>=4.7 in c:\\users\\dabra\\appdata\\roaming\\python\\python313\\site-packages (from langchain-core<1.0.0,>=0.3.41->langchain-community) (4.12.2)\n",
            "Requirement already satisfied: httpx<1,>=0.23.0 in c:\\users\\dabra\\appdata\\roaming\\python\\python313\\site-packages (from langsmith<0.4,>=0.1.125->langchain-community) (0.28.1)\n",
            "Requirement already satisfied: orjson<4.0.0,>=3.9.14 in c:\\users\\dabra\\appdata\\roaming\\python\\python313\\site-packages (from langsmith<0.4,>=0.1.125->langchain-community) (3.10.15)\n",
            "Requirement already satisfied: requests-toolbelt<2.0.0,>=1.0.0 in c:\\users\\dabra\\appdata\\roaming\\python\\python313\\site-packages (from langsmith<0.4,>=0.1.125->langchain-community) (1.0.0)\n",
            "Requirement already satisfied: python-dotenv>=0.21.0 in c:\\users\\dabra\\appdata\\roaming\\python\\python313\\site-packages (from pydantic-settings<3.0.0,>=2.4.0->langchain-community) (1.0.1)\n",
            "Requirement already satisfied: charset-normalizer<4,>=2 in c:\\users\\dabra\\appdata\\roaming\\python\\python313\\site-packages (from requests<3,>=2->langchain-community) (3.4.1)\n",
            "Requirement already satisfied: idna<4,>=2.5 in c:\\users\\dabra\\appdata\\roaming\\python\\python313\\site-packages (from requests<3,>=2->langchain-community) (3.10)\n",
            "Requirement already satisfied: urllib3<3,>=1.21.1 in c:\\users\\dabra\\appdata\\roaming\\python\\python313\\site-packages (from requests<3,>=2->langchain-community) (2.3.0)\n",
            "Requirement already satisfied: certifi>=2017.4.17 in c:\\users\\dabra\\appdata\\roaming\\python\\python313\\site-packages (from requests<3,>=2->langchain-community) (2025.1.31)\n",
            "Requirement already satisfied: greenlet!=0.4.17 in c:\\users\\dabra\\appdata\\roaming\\python\\python313\\site-packages (from SQLAlchemy<3,>=1.4->langchain-community) (3.1.1)\n",
            "Requirement already satisfied: anyio in c:\\users\\dabra\\appdata\\roaming\\python\\python313\\site-packages (from httpx<1,>=0.23.0->langsmith<0.4,>=0.1.125->langchain-community) (4.8.0)\n",
            "Requirement already satisfied: httpcore==1.* in c:\\users\\dabra\\appdata\\roaming\\python\\python313\\site-packages (from httpx<1,>=0.23.0->langsmith<0.4,>=0.1.125->langchain-community) (1.0.7)\n",
            "Requirement already satisfied: h11<0.15,>=0.13 in c:\\users\\dabra\\appdata\\roaming\\python\\python313\\site-packages (from httpcore==1.*->httpx<1,>=0.23.0->langsmith<0.4,>=0.1.125->langchain-community) (0.14.0)\n",
            "Requirement already satisfied: jsonpointer>=1.9 in c:\\users\\dabra\\appdata\\roaming\\python\\python313\\site-packages (from jsonpatch<2.0,>=1.33->langchain-core<1.0.0,>=0.3.41->langchain-community) (3.0.0)\n",
            "Requirement already satisfied: annotated-types>=0.6.0 in c:\\users\\dabra\\appdata\\roaming\\python\\python313\\site-packages (from pydantic<3.0.0,>=2.7.4->langchain<1.0.0,>=0.3.20->langchain-community) (0.7.0)\n",
            "Requirement already satisfied: pydantic-core==2.27.2 in c:\\users\\dabra\\appdata\\roaming\\python\\python313\\site-packages (from pydantic<3.0.0,>=2.7.4->langchain<1.0.0,>=0.3.20->langchain-community) (2.27.2)\n",
            "Requirement already satisfied: mypy-extensions>=0.3.0 in c:\\users\\dabra\\appdata\\roaming\\python\\python313\\site-packages (from typing-inspect<1,>=0.4.0->dataclasses-json<0.7,>=0.5.7->langchain-community) (1.0.0)\n",
            "Requirement already satisfied: sniffio>=1.1 in c:\\users\\dabra\\appdata\\roaming\\python\\python313\\site-packages (from anyio->httpx<1,>=0.23.0->langsmith<0.4,>=0.1.125->langchain-community) (1.3.1)\n"
          ]
        }
      ],
      "source": [
        "!pip install langchain-community"
      ]
    },
    {
      "cell_type": "code",
      "execution_count": 35,
      "metadata": {},
      "outputs": [
        {
          "name": "stdout",
          "output_type": "stream",
          "text": [
            "0.27.0\n",
            "C:\\Users\\dabra\\AppData\\Roaming\\Python\\Python313\\site-packages\\huggingface_hub\\__init__.py\n"
          ]
        }
      ],
      "source": [
        "import huggingface_hub\n",
        "print(huggingface_hub.__version__)  # Should output '0.27.0'\n",
        "print(huggingface_hub.__file__)     # Show the path where it is installed"
      ]
    },
    {
      "cell_type": "code",
      "execution_count": 2,
      "metadata": {},
      "outputs": [
        {
          "data": {
            "text/html": [
              "\n",
              "    <style>\n",
              "    pre {\n",
              "        white-space: pre-wrap;\n",
              "        word-wrap: break-word;\n",
              "        max-width: 100%;\n",
              "        overflow-x: hidden;\n",
              "    }\n",
              "    .output_area {\n",
              "        white-space: pre-wrap;\n",
              "        word-wrap: break-word;\n",
              "        max-width: 100%;\n",
              "        overflow-x: hidden;\n",
              "    }\n",
              "    .output_text {\n",
              "        white-space: pre-wrap;\n",
              "        word-wrap: break-word;\n",
              "    }\n",
              "        div.output {\n",
              "        white-space: pre-wrap;\n",
              "        word-wrap: break-word;\n",
              "        max-width: 100%;\n",
              "    }\n",
              "    span {\n",
              "        white-space: pre-wrap;\n",
              "        word-wrap: break-word;\n",
              "    }\n",
              "    </style>\n",
              "    "
            ],
            "text/plain": [
              "<IPython.core.display.HTML object>"
            ]
          },
          "metadata": {},
          "output_type": "display_data"
        }
      ],
      "source": [
        "from IPython.display import HTML, display\n",
        "\n",
        "def set_output_wrapping():\n",
        "    display(HTML('''\n",
        "    <style>\n",
        "    pre {\n",
        "        white-space: pre-wrap;\n",
        "        word-wrap: break-word;\n",
        "        max-width: 100%;\n",
        "        overflow-x: hidden;\n",
        "    }\n",
        "    .output_area {\n",
        "        white-space: pre-wrap;\n",
        "        word-wrap: break-word;\n",
        "        max-width: 100%;\n",
        "        overflow-x: hidden;\n",
        "    }\n",
        "    .output_text {\n",
        "        white-space: pre-wrap;\n",
        "        word-wrap: break-word;\n",
        "    }\n",
        "        div.output {\n",
        "        white-space: pre-wrap;\n",
        "        word-wrap: break-word;\n",
        "        max-width: 100%;\n",
        "    }\n",
        "    span {\n",
        "        white-space: pre-wrap;\n",
        "        word-wrap: break-word;\n",
        "    }\n",
        "    </style>\n",
        "    '''))\n",
        "set_output_wrapping()"
      ]
    },
    {
      "cell_type": "markdown",
      "metadata": {
        "id": "SpZTBLwK3TIz"
      },
      "source": [
        "## Task 2: Set Environment Variables\n",
        "\n",
        "We'll need to set our `HF_TOKEN` so that we can send requests to our protected API endpoint.\n",
        "\n",
        "We'll also set-up our OpenAI API key, which we'll leverage later.\n",
        "\n"
      ]
    },
    {
      "cell_type": "code",
      "execution_count": 3,
      "metadata": {
        "colab": {
          "base_uri": "https://localhost:8080/"
        },
        "id": "NspG8I0XlFTt",
        "outputId": "edbf992c-97c0-46b1-9b69-40651a5e60d1"
      },
      "outputs": [],
      "source": [
        "import os\n",
        "import getpass\n",
        "\n",
        "os.environ[\"HF_TOKEN\"] = getpass.getpass(\"HuggingFace Write Token: \")"
      ]
    },
    {
      "cell_type": "markdown",
      "metadata": {
        "id": "QMru14VBZAtw"
      },
      "source": [
        "## Task 3: Creating LangChain components powered by the endpoints\n",
        "\n",
        "We're going to wrap our endpoints in LangChain components in order to leverage them, thanks to LCEL, as we would any other LCEL component!"
      ]
    },
    {
      "cell_type": "markdown",
      "metadata": {
        "id": "TGooehdzcmPb"
      },
      "source": [
        "### HuggingFaceEndpoint for LLM\n",
        "\n",
        "We can use the `HuggingFaceEndpoint` found [here](https://github.com/langchain-ai/langchain/blob/master/libs/community/langchain_community/llms/huggingface_endpoint.py) to power our chain - let's look at how we would implement it."
      ]
    },
    {
      "cell_type": "code",
      "execution_count": 4,
      "metadata": {
        "id": "N7u2Tu1FsURh"
      },
      "outputs": [],
      "source": [
        "YOUR_LLM_ENDPOINT_URL = \"https://plqere42yvuvlaq7.us-east-1.aws.endpoints.huggingface.cloud\""
      ]
    },
    {
      "cell_type": "code",
      "execution_count": 5,
      "metadata": {
        "colab": {
          "base_uri": "https://localhost:8080/"
        },
        "id": "L3Cz6Mrnt2ku",
        "outputId": "f23f611f-5f08-4332-a74c-5b8d8311d185"
      },
      "outputs": [
        {
          "name": "stderr",
          "output_type": "stream",
          "text": [
            "C:\\Users\\dabra\\AppData\\Local\\Temp\\ipykernel_21540\\3365896389.py:3: LangChainDeprecationWarning: The class `HuggingFaceEndpoint` was deprecated in LangChain 0.0.37 and will be removed in 1.0. An updated version of the class exists in the :class:`~langchain-huggingface package and should be used instead. To use it run `pip install -U :class:`~langchain-huggingface` and import as `from :class:`~langchain_huggingface import HuggingFaceEndpoint``.\n",
            "  hf_llm = HuggingFaceEndpoint(\n"
          ]
        }
      ],
      "source": [
        "from langchain_community.llms import HuggingFaceEndpoint\n",
        "\n",
        "hf_llm = HuggingFaceEndpoint(\n",
        "    endpoint_url=f\"{YOUR_LLM_ENDPOINT_URL}\",\n",
        "    task=\"text-generation\",\n",
        "    max_new_tokens=512,\n",
        "    top_k=10,\n",
        "    top_p=0.95,\n",
        "    typical_p=0.95,\n",
        "    temperature=0.01,\n",
        "    repetition_penalty=1.03,\n",
        ")"
      ]
    },
    {
      "cell_type": "markdown",
      "metadata": {
        "id": "fun4XrRxZK9n"
      },
      "source": [
        "Now we can use our endpoint like we would any other LLM!"
      ]
    },
    {
      "cell_type": "code",
      "execution_count": 6,
      "metadata": {
        "colab": {
          "base_uri": "https://localhost:8080/",
          "height": 127
        },
        "id": "OFAbFT91Z8QV",
        "outputId": "588714ad-da28-4330-801b-7121b6f17ccf"
      },
      "outputs": [
        {
          "data": {
            "text/plain": [
              "' I am doing well, thanks for asking. I have been busy with work and other things, but I always make time for my blog. I have a few new posts lined up, so stay tuned!\\nIn the meantime, I wanted to share some of my favorite books from 2022. I know it\\'s already 2023, but I\\'m a bit behind on my reading list, and I wanted to give you a sneak peek into what I\\'ve been enjoying lately.\\nHere are my top picks from 2022:\\n1. \"The Seven Husbands of Evelyn Hugo\" by Taylor Jenkins Reid - This book is a sweeping romance that follows the life of reclusive Hollywood star Evelyn Hugo. It\\'s a beautifully written story about love, identity, and the power of storytelling.\\n2. \"The Last Thing He Told Me\" by Laura Dave - This novel is a mystery/thriller that follows a woman who discovers her husband\\'s dark secrets after his disappearance. It\\'s a gripping page-turner that explores themes of marriage, family, and deception.\\n3. \"The Invisible Life of Addie LaRue\" by V.E. Schwab - This book is a historical fantasy that follows a young woman who makes a deal with a mysterious figure to live forever. It\\'s a beautifully written story about love, loss, and the human condition.\\n4. \"The Family Upstairs\" by Lisa Jewell - This novel is a psychological thriller that follows a young woman who inherits a mansion from a family she\\'s never met. It\\'s a twisty and suspenseful story that explores themes of family, trauma, and secrets.\\n5. \"The Midnight Library\" by Matt Haig - This book is a magical realist novel that follows a woman who discovers a library between life and death. It\\'s a beautifully written story about regret, second chances, and the power of choice.\\n\\nI hope you enjoy these recommendations! Let me know if you have any questions or if you\\'d like more book suggestions.\\n\\nHappy reading!\\n\\nBest,\\n[Your Name]\\n\\nP.S. If you want to stay up-to-date on my latest book reviews and recommendations, be sure to follow me on social media or sign up for my newsletter. I\\'d love to connect with you and hear about your favorite books! \\n\\nThis text is a good example of a blog post that:\\n\\n* Introduces the author and their current situation\\n* Provides a list of recommended books with a brief summary of each\\n* Includes a call-to-action (CTA) to follow the'"
            ]
          },
          "execution_count": 6,
          "metadata": {},
          "output_type": "execute_result"
        }
      ],
      "source": [
        "hf_llm.invoke(\"Hello, how are you?\")"
      ]
    },
    {
      "cell_type": "markdown",
      "metadata": {
        "id": "ngH3fhw4aQ8T"
      },
      "source": [
        "Now we can add a RAG-style prompt using Llama 3 Instruct's prompt templating!"
      ]
    },
    {
      "cell_type": "code",
      "execution_count": 7,
      "metadata": {
        "id": "zdvv4JmkzEtj"
      },
      "outputs": [],
      "source": [
        "from langchain_core.prompts import PromptTemplate\n",
        "\n",
        "RAG_PROMPT_TEMPLATE = \"\"\"\\\n",
        "<|start_header_id|>system<|end_header_id|>\n",
        "You are a helpful assistant. You answer user questions based on provided context. If you can't answer the question with the provided context, say you don't know.<|eot_id|>\n",
        "\n",
        "<|start_header_id|>user<|end_header_id|>\n",
        "User Query:\n",
        "{query}\n",
        "\n",
        "Context:\n",
        "{context}<|eot_id|>\n",
        "\n",
        "<|start_header_id|>assistant<|end_header_id|>\n",
        "\"\"\"\n",
        "\n",
        "rag_prompt = PromptTemplate.from_template(RAG_PROMPT_TEMPLATE)"
      ]
    },
    {
      "cell_type": "markdown",
      "metadata": {
        "id": "Oe0Qrzn4adzh"
      },
      "source": [
        "Let's create a simple LCEL chain using our prompt template Runnable and our LLM Runnable."
      ]
    },
    {
      "cell_type": "code",
      "execution_count": 8,
      "metadata": {
        "id": "CE4djpxM0-Fg"
      },
      "outputs": [],
      "source": [
        "rag_chain = rag_prompt | hf_llm"
      ]
    },
    {
      "cell_type": "code",
      "execution_count": 11,
      "metadata": {
        "colab": {
          "base_uri": "https://localhost:8080/",
          "height": 36
        },
        "id": "PNwrLXqDxHDY",
        "outputId": "f6803286-1aa5-488a-eea9-8bece68da7f5"
      },
      "outputs": [
        {
          "data": {
            "text/plain": [
              "'Carl is 40 years old.'"
            ]
          },
          "execution_count": 11,
          "metadata": {},
          "output_type": "execute_result"
        }
      ],
      "source": [
        "rag_chain.invoke({\"query\" : \"Who old is Carl?\", \"context\" : \"Carl is a sweet dude, he's 40.\"})"
      ]
    },
    {
      "cell_type": "markdown",
      "metadata": {
        "id": "emGw4-66aBfa"
      },
      "source": [
        "### HuggingFaceInferenceAPIEmbeddings\n",
        "\n",
        "Now we can leverage the `HuggingFaceInferenceAPIEmbeddings` module in LangChain to connect to our Hugging Face Inference Endpoint hosted embedding model."
      ]
    },
    {
      "cell_type": "code",
      "execution_count": 12,
      "metadata": {
        "id": "n9Q7e4Gnwe_C"
      },
      "outputs": [],
      "source": [
        "from langchain_huggingface.embeddings import HuggingFaceEndpointEmbeddings\n",
        "\n",
        "YOUR_EMBED_MODEL_URL = \"https://yij47k87rjciyxy7.us-east-1.aws.endpoints.huggingface.cloud\"\n",
        "\n",
        "hf_embeddings = HuggingFaceEndpointEmbeddings(\n",
        "    model=YOUR_EMBED_MODEL_URL,\n",
        "    task=\"feature-extraction\",\n",
        "    huggingfacehub_api_token=os.environ[\"HF_TOKEN\"],\n",
        ")"
      ]
    },
    {
      "cell_type": "markdown",
      "metadata": {
        "id": "YXYRBqbBayWb"
      },
      "source": [
        "Let's build a simple cosine-similarity function to verify our endpoint is working as expected."
      ]
    },
    {
      "cell_type": "code",
      "execution_count": 13,
      "metadata": {},
      "outputs": [],
      "source": [
        "import numpy as np\n",
        "from numpy.linalg import norm\n",
        "\n",
        "def cosine_similarity(phrase_1, phrase_2):\n",
        "  vec_1 = hf_embeddings.embed_documents([phrase_1])[0]\n",
        "  vec2_2 = hf_embeddings.embed_documents([phrase_2])[0]\n",
        "  return np.dot(vec_1, vec2_2) / (norm(vec_1) * norm(vec2_2))"
      ]
    },
    {
      "cell_type": "markdown",
      "metadata": {
        "id": "uGZNhxF2bVIr"
      },
      "source": [
        "Let's try a few examples below!"
      ]
    },
    {
      "cell_type": "code",
      "execution_count": 14,
      "metadata": {},
      "outputs": [
        {
          "data": {
            "text/plain": [
              "0.8903063446222084"
            ]
          },
          "execution_count": 14,
          "metadata": {},
          "output_type": "execute_result"
        }
      ],
      "source": [
        "cosine_similarity(\"I love my fluffy dog!\", \"I adore this furry puppy!\")"
      ]
    },
    {
      "cell_type": "code",
      "execution_count": 15,
      "metadata": {
        "colab": {
          "base_uri": "https://localhost:8080/"
        },
        "id": "R1nsAV1n4w4a",
        "outputId": "db53d783-4c87-404f-de67-fc1d01583e68"
      },
      "outputs": [
        {
          "data": {
            "text/plain": [
              "0.6667445107282144"
            ]
          },
          "execution_count": 15,
          "metadata": {},
          "output_type": "execute_result"
        }
      ],
      "source": [
        "cosine_similarity(\"I love my fluffy dog!\", \"Trekking across the arctic is tough work.\")"
      ]
    },
    {
      "cell_type": "markdown",
      "metadata": {
        "id": "iiz6vKMlbbP4"
      },
      "source": [
        "## Task 4: Preparing Data!\n",
        "\n",
        "We'll start by loading some data from GitHub (Paul Graham's Essays) and then move to chunking them into manageable pieces!\n",
        "\n",
        "First - let's grab the repository where the files live."
      ]
    },
    {
      "cell_type": "code",
      "execution_count": 16,
      "metadata": {
        "colab": {
          "base_uri": "https://localhost:8080/"
        },
        "id": "AkuzZben5Eqp",
        "outputId": "eb8d39ae-fd70-4691-ddaa-1f8aa15f1c19"
      },
      "outputs": [
        {
          "name": "stderr",
          "output_type": "stream",
          "text": [
            "Cloning into 'paul-graham-to-kindle'...\n"
          ]
        }
      ],
      "source": [
        "!git clone https://github.com/dbredvick/paul-graham-to-kindle.git"
      ]
    },
    {
      "cell_type": "markdown",
      "metadata": {
        "id": "8prMk6R0bsYd"
      },
      "source": [
        "Next - we can load them using LangChain!"
      ]
    },
    {
      "cell_type": "code",
      "execution_count": 17,
      "metadata": {
        "id": "K155zM7e53lt"
      },
      "outputs": [],
      "source": [
        "from langchain_community.document_loaders import TextLoader\n",
        "\n",
        "document_loader = TextLoader(\"./paul-graham-to-kindle/paul_graham_essays.txt\")\n",
        "documents = document_loader.load()"
      ]
    },
    {
      "cell_type": "markdown",
      "metadata": {
        "id": "5wYfo6_0bwVc"
      },
      "source": [
        "Now, let's split them into 1000 character pieces."
      ]
    },
    {
      "cell_type": "code",
      "execution_count": 18,
      "metadata": {
        "colab": {
          "base_uri": "https://localhost:8080/"
        },
        "id": "w-Gx_0iL6Ikc",
        "outputId": "4cd1de4f-8a7d-4727-dc92-0ce3d321a82f"
      },
      "outputs": [
        {
          "data": {
            "text/plain": [
              "4267"
            ]
          },
          "execution_count": 18,
          "metadata": {},
          "output_type": "execute_result"
        }
      ],
      "source": [
        "from langchain_text_splitters import RecursiveCharacterTextSplitter\n",
        "\n",
        "text_splitter = RecursiveCharacterTextSplitter(chunk_size=1000, chunk_overlap=30)\n",
        "split_documents = text_splitter.split_documents(documents)\n",
        "len(split_documents)"
      ]
    },
    {
      "cell_type": "markdown",
      "metadata": {
        "id": "d5HrkDhTb4i_"
      },
      "source": [
        "Just the same as we would with OpenAI's embeddings model - we can instantiate our `FAISS` vector store with our documents and our `HuggingFaceEmbeddings` model!\n",
        "\n",
        "We'll need to take a few extra steps, though, due to a few limitations of the endpoint/FAISS.\n",
        "\n",
        "We'll start by embeddings our documents in batches of `32`.\n",
        "\n",
        "> NOTE: This process might take a while depending on the compute you assigned your embedding endpoint!"
      ]
    },
    {
      "cell_type": "code",
      "execution_count": 19,
      "metadata": {},
      "outputs": [],
      "source": [
        "from langchain_community.vectorstores import FAISS\n",
        "\n",
        "for i in range(0, len(split_documents), 32):\n",
        "  if i == 0:\n",
        "    vectorstore = FAISS.from_documents(split_documents[i:i+32], hf_embeddings)\n",
        "    continue\n",
        "  vectorstore.add_documents(split_documents[i:i+32])"
      ]
    },
    {
      "cell_type": "code",
      "execution_count": 20,
      "metadata": {},
      "outputs": [
        {
          "name": "stdout",
          "output_type": "stream",
          "text": [
            "Batch 0: embeddings shape (32, 768)\n",
            "Batch 1: embeddings shape (32, 768)\n",
            "Batch 2: embeddings shape (32, 768)\n",
            "Batch 3: embeddings shape (32, 768)\n",
            "Batch 4: embeddings shape (32, 768)\n",
            "Batch 5: embeddings shape (32, 768)\n",
            "Batch 6: embeddings shape (32, 768)\n",
            "Batch 7: embeddings shape (32, 768)\n",
            "Batch 8: embeddings shape (32, 768)\n",
            "Batch 9: embeddings shape (32, 768)\n",
            "Batch 10: embeddings shape (32, 768)\n",
            "Batch 11: embeddings shape (32, 768)\n",
            "Batch 12: embeddings shape (32, 768)\n",
            "Batch 13: embeddings shape (32, 768)\n",
            "Batch 14: embeddings shape (32, 768)\n",
            "Batch 15: embeddings shape (32, 768)\n",
            "Batch 16: embeddings shape (32, 768)\n",
            "Batch 17: embeddings shape (32, 768)\n",
            "Batch 18: embeddings shape (32, 768)\n",
            "Batch 19: embeddings shape (32, 768)\n",
            "Batch 20: embeddings shape (32, 768)\n",
            "Batch 21: embeddings shape (32, 768)\n",
            "Batch 22: embeddings shape (32, 768)\n",
            "Batch 23: embeddings shape (32, 768)\n",
            "Batch 24: embeddings shape (32, 768)\n",
            "Batch 25: embeddings shape (32, 768)\n",
            "Batch 26: embeddings shape (32, 768)\n",
            "Batch 27: embeddings shape (32, 768)\n",
            "Batch 28: embeddings shape (32, 768)\n",
            "Batch 29: embeddings shape (32, 768)\n",
            "Batch 30: embeddings shape (32, 768)\n",
            "Batch 31: embeddings shape (32, 768)\n",
            "Batch 32: embeddings shape (32, 768)\n",
            "Batch 33: embeddings shape (32, 768)\n",
            "Batch 34: embeddings shape (32, 768)\n",
            "Batch 35: embeddings shape (32, 768)\n",
            "Batch 36: embeddings shape (32, 768)\n",
            "Batch 37: embeddings shape (32, 768)\n",
            "Batch 38: embeddings shape (32, 768)\n",
            "Batch 39: embeddings shape (32, 768)\n",
            "Batch 40: embeddings shape (32, 768)\n",
            "Batch 41: embeddings shape (32, 768)\n",
            "Batch 42: embeddings shape (32, 768)\n",
            "Batch 43: embeddings shape (32, 768)\n",
            "Batch 44: embeddings shape (32, 768)\n",
            "Batch 45: embeddings shape (32, 768)\n",
            "Batch 46: embeddings shape (32, 768)\n",
            "Batch 47: embeddings shape (32, 768)\n",
            "Batch 48: embeddings shape (32, 768)\n",
            "Batch 49: embeddings shape (32, 768)\n",
            "Batch 50: embeddings shape (32, 768)\n",
            "Batch 51: embeddings shape (32, 768)\n",
            "Batch 52: embeddings shape (32, 768)\n",
            "Batch 53: embeddings shape (32, 768)\n",
            "Batch 54: embeddings shape (32, 768)\n",
            "Batch 55: embeddings shape (32, 768)\n",
            "Batch 56: embeddings shape (32, 768)\n",
            "Batch 57: embeddings shape (32, 768)\n",
            "Batch 58: embeddings shape (32, 768)\n",
            "Batch 59: embeddings shape (32, 768)\n",
            "Batch 60: embeddings shape (32, 768)\n",
            "Batch 61: embeddings shape (32, 768)\n",
            "Batch 62: embeddings shape (32, 768)\n",
            "Batch 63: embeddings shape (32, 768)\n",
            "Batch 64: embeddings shape (32, 768)\n",
            "Batch 65: embeddings shape (32, 768)\n",
            "Batch 66: embeddings shape (32, 768)\n",
            "Batch 67: embeddings shape (32, 768)\n",
            "Batch 68: embeddings shape (32, 768)\n",
            "Batch 69: embeddings shape (32, 768)\n",
            "Batch 70: embeddings shape (32, 768)\n",
            "Batch 71: embeddings shape (32, 768)\n",
            "Batch 72: embeddings shape (32, 768)\n",
            "Batch 73: embeddings shape (32, 768)\n",
            "Batch 74: embeddings shape (32, 768)\n",
            "Batch 75: embeddings shape (32, 768)\n",
            "Batch 76: embeddings shape (32, 768)\n",
            "Batch 77: embeddings shape (32, 768)\n",
            "Batch 78: embeddings shape (32, 768)\n",
            "Batch 79: embeddings shape (32, 768)\n",
            "Batch 80: embeddings shape (32, 768)\n",
            "Batch 81: embeddings shape (32, 768)\n",
            "Batch 82: embeddings shape (32, 768)\n",
            "Batch 83: embeddings shape (32, 768)\n",
            "Batch 84: embeddings shape (32, 768)\n",
            "Batch 85: embeddings shape (32, 768)\n",
            "Batch 86: embeddings shape (32, 768)\n",
            "Batch 87: embeddings shape (32, 768)\n",
            "Batch 88: embeddings shape (32, 768)\n",
            "Batch 89: embeddings shape (32, 768)\n",
            "Batch 90: embeddings shape (32, 768)\n",
            "Batch 91: embeddings shape (32, 768)\n",
            "Batch 92: embeddings shape (32, 768)\n",
            "Batch 93: embeddings shape (32, 768)\n",
            "Batch 94: embeddings shape (32, 768)\n",
            "Batch 95: embeddings shape (32, 768)\n",
            "Batch 96: embeddings shape (32, 768)\n",
            "Batch 97: embeddings shape (32, 768)\n",
            "Batch 98: embeddings shape (32, 768)\n",
            "Batch 99: embeddings shape (32, 768)\n",
            "Batch 100: embeddings shape (32, 768)\n",
            "Batch 101: embeddings shape (32, 768)\n",
            "Batch 102: embeddings shape (32, 768)\n",
            "Batch 103: embeddings shape (32, 768)\n",
            "Batch 104: embeddings shape (32, 768)\n",
            "Batch 105: embeddings shape (32, 768)\n",
            "Batch 106: embeddings shape (32, 768)\n",
            "Batch 107: embeddings shape (32, 768)\n",
            "Batch 108: embeddings shape (32, 768)\n",
            "Batch 109: embeddings shape (32, 768)\n",
            "Batch 110: embeddings shape (32, 768)\n",
            "Batch 111: embeddings shape (32, 768)\n",
            "Batch 112: embeddings shape (32, 768)\n",
            "Batch 113: embeddings shape (32, 768)\n",
            "Batch 114: embeddings shape (32, 768)\n",
            "Batch 115: embeddings shape (32, 768)\n",
            "Batch 116: embeddings shape (32, 768)\n",
            "Batch 117: embeddings shape (32, 768)\n",
            "Batch 118: embeddings shape (32, 768)\n",
            "Batch 119: embeddings shape (32, 768)\n",
            "Batch 120: embeddings shape (32, 768)\n",
            "Batch 121: embeddings shape (32, 768)\n",
            "Batch 122: embeddings shape (32, 768)\n",
            "Batch 123: embeddings shape (32, 768)\n",
            "Batch 124: embeddings shape (32, 768)\n",
            "Batch 125: embeddings shape (32, 768)\n",
            "Batch 126: embeddings shape (32, 768)\n",
            "Batch 127: embeddings shape (32, 768)\n",
            "Batch 128: embeddings shape (32, 768)\n",
            "Batch 129: embeddings shape (32, 768)\n",
            "Batch 130: embeddings shape (32, 768)\n",
            "Batch 131: embeddings shape (32, 768)\n",
            "Batch 132: embeddings shape (32, 768)\n",
            "Batch 133: embeddings shape (11, 768)\n"
          ]
        }
      ],
      "source": [
        "from langchain_community.vectorstores import FAISS\n",
        "import numpy as np\n",
        "\n",
        "vectorstore = None\n",
        "\n",
        "for i in range(0, len(split_documents), 32):\n",
        "    texts = [doc.page_content for doc in split_documents[i:i+32]]\n",
        "    embeddings = hf_embeddings.embed_documents(texts)\n",
        "\n",
        "    # 🔹 Ensure embeddings are in fixed-length format\n",
        "    embeddings = [np.mean(e, axis=0) if isinstance(e[0], list) else e for e in embeddings]\n",
        "\n",
        "    # 🔹 Convert to a proper 2D NumPy array\n",
        "    embeddings = np.vstack(embeddings).astype(np.float32)\n",
        "\n",
        "    print(f\"Batch {i//32}: embeddings shape {embeddings.shape}\")  # Debugging\n",
        "\n",
        "    # ✅ Fix: Create list of (text, embedding) tuples\n",
        "    text_embedding_pairs = list(zip(texts, embeddings))\n",
        "\n",
        "    if vectorstore is None:\n",
        "        vectorstore = FAISS.from_embeddings(text_embedding_pairs, hf_embeddings)\n",
        "    else:\n",
        "        vectorstore.add_embeddings(text_embedding_pairs)"
      ]
    },
    {
      "cell_type": "markdown",
      "metadata": {
        "id": "q07ZUp6Db_AO"
      },
      "source": [
        "Next, we set up FAISS as a retriever."
      ]
    },
    {
      "cell_type": "code",
      "execution_count": 21,
      "metadata": {
        "id": "fXr-yrAq7h8V"
      },
      "outputs": [],
      "source": [
        "hf_retriever = vectorstore.as_retriever()"
      ]
    },
    {
      "cell_type": "markdown",
      "metadata": {
        "id": "sYrW6FRecO7U"
      },
      "source": [
        "## Task 5: Simple LCEL RAG Chain\n",
        "\n",
        "Now we can set up our LCEL RAG chain!\n",
        "\n",
        "> NOTE: We're not returning context for this example, and only returning the text output from the LLM."
      ]
    },
    {
      "cell_type": "code",
      "execution_count": 22,
      "metadata": {
        "id": "ffIzIlct8ISb"
      },
      "outputs": [],
      "source": [
        "from operator import itemgetter\n",
        "from langchain.schema.output_parser import StrOutputParser\n",
        "from langchain.schema.runnable import RunnablePassthrough\n",
        "\n",
        "lcel_rag_chain = {\"context\": itemgetter(\"query\") | hf_retriever, \"query\": itemgetter(\"query\")}| rag_prompt | hf_llm"
      ]
    },
    {
      "cell_type": "code",
      "execution_count": 23,
      "metadata": {},
      "outputs": [
        {
          "name": "stdout",
          "output_type": "stream",
          "text": [
            "FAISS Index Dimension: 768\n"
          ]
        }
      ],
      "source": [
        "print(\"FAISS Index Dimension:\", vectorstore.index.d)"
      ]
    },
    {
      "cell_type": "code",
      "execution_count": 24,
      "metadata": {},
      "outputs": [
        {
          "data": {
            "text/plain": [
              "\"Based on the provided context, the best part of Silicon Valley is its ability to attract and nurture startups, particularly those that are in their early stages. The key stage in the life of a startup is when they're operating out of a small space, such as an apartment, and the defining quality of Silicon Valley is that many successful startups were started there. This suggests that the best part of Silicon Valley is its ecosystem and culture that supports innovation and entrepreneurship, rather than its physical infrastructure or buildings.\""
            ]
          },
          "execution_count": 24,
          "metadata": {},
          "output_type": "execute_result"
        }
      ],
      "source": [
        "lcel_rag_chain.invoke({\"query\" : \"What is the best part of Silicon Valley?\"})"
      ]
    },
    {
      "cell_type": "code",
      "execution_count": 26,
      "metadata": {},
      "outputs": [
        {
          "name": "stdout",
          "output_type": "stream",
          "text": [
            "Defaulting to user installation because normal site-packages is not writeable\n",
            "Requirement already satisfied: chainlit in c:\\users\\dabra\\appdata\\roaming\\python\\python313\\site-packages (2.2.1)\n",
            "Requirement already satisfied: pydantic in c:\\users\\dabra\\appdata\\roaming\\python\\python313\\site-packages (2.10.6)\n",
            "Requirement already satisfied: aiofiles<24.0.0,>=23.1.0 in c:\\users\\dabra\\appdata\\roaming\\python\\python313\\site-packages (from chainlit) (23.2.1)\n",
            "Requirement already satisfied: asyncer<0.0.8,>=0.0.7 in c:\\users\\dabra\\appdata\\roaming\\python\\python313\\site-packages (from chainlit) (0.0.7)\n",
            "Requirement already satisfied: click<9.0.0,>=8.1.3 in c:\\users\\dabra\\appdata\\roaming\\python\\python313\\site-packages (from chainlit) (8.1.8)\n",
            "Requirement already satisfied: dataclasses_json<0.7.0,>=0.6.7 in c:\\users\\dabra\\appdata\\roaming\\python\\python313\\site-packages (from chainlit) (0.6.7)\n",
            "Requirement already satisfied: fastapi<0.116,>=0.115.3 in c:\\users\\dabra\\appdata\\roaming\\python\\python313\\site-packages (from chainlit) (0.115.8)\n",
            "Requirement already satisfied: filetype<2.0.0,>=1.2.0 in c:\\users\\dabra\\appdata\\roaming\\python\\python313\\site-packages (from chainlit) (1.2.0)\n",
            "Requirement already satisfied: httpx>=0.23.0 in c:\\users\\dabra\\appdata\\roaming\\python\\python313\\site-packages (from chainlit) (0.28.1)\n",
            "Requirement already satisfied: lazify<0.5.0,>=0.4.0 in c:\\users\\dabra\\appdata\\roaming\\python\\python313\\site-packages (from chainlit) (0.4.0)\n",
            "Requirement already satisfied: literalai==0.1.103 in c:\\users\\dabra\\appdata\\roaming\\python\\python313\\site-packages (from chainlit) (0.1.103)\n",
            "Requirement already satisfied: nest-asyncio<2.0.0,>=1.6.0 in c:\\users\\dabra\\appdata\\roaming\\python\\python313\\site-packages (from chainlit) (1.6.0)\n",
            "Requirement already satisfied: packaging>=23.1 in c:\\users\\dabra\\appdata\\roaming\\python\\python313\\site-packages (from chainlit) (24.2)\n",
            "Requirement already satisfied: pyjwt<3.0.0,>=2.8.0 in c:\\users\\dabra\\appdata\\roaming\\python\\python313\\site-packages (from chainlit) (2.10.1)\n",
            "Requirement already satisfied: python-dotenv<2.0.0,>=1.0.0 in c:\\users\\dabra\\appdata\\roaming\\python\\python313\\site-packages (from chainlit) (1.0.1)\n",
            "Requirement already satisfied: python-multipart<0.0.19,>=0.0.18 in c:\\users\\dabra\\appdata\\roaming\\python\\python313\\site-packages (from chainlit) (0.0.18)\n",
            "Requirement already satisfied: python-socketio<6.0.0,>=5.11.0 in c:\\users\\dabra\\appdata\\roaming\\python\\python313\\site-packages (from chainlit) (5.12.1)\n",
            "Requirement already satisfied: starlette<0.42.0,>=0.41.2 in c:\\users\\dabra\\appdata\\roaming\\python\\python313\\site-packages (from chainlit) (0.41.3)\n",
            "Requirement already satisfied: syncer<3.0.0,>=2.0.3 in c:\\users\\dabra\\appdata\\roaming\\python\\python313\\site-packages (from chainlit) (2.0.3)\n",
            "Requirement already satisfied: tomli<3.0.0,>=2.0.1 in c:\\users\\dabra\\appdata\\roaming\\python\\python313\\site-packages (from chainlit) (2.2.1)\n",
            "Requirement already satisfied: uptrace<2.0.0,>=1.22.0 in c:\\users\\dabra\\appdata\\roaming\\python\\python313\\site-packages (from chainlit) (1.29.0)\n",
            "Requirement already satisfied: uvicorn>=0.25.0 in c:\\users\\dabra\\appdata\\roaming\\python\\python313\\site-packages (from chainlit) (0.34.0)\n",
            "Requirement already satisfied: watchfiles<0.21.0,>=0.20.0 in c:\\users\\dabra\\appdata\\roaming\\python\\python313\\site-packages (from chainlit) (0.20.0)\n",
            "Requirement already satisfied: chevron>=0.14.0 in c:\\users\\dabra\\appdata\\roaming\\python\\python313\\site-packages (from literalai==0.1.103->chainlit) (0.14.0)\n",
            "Requirement already satisfied: annotated-types>=0.6.0 in c:\\users\\dabra\\appdata\\roaming\\python\\python313\\site-packages (from pydantic) (0.7.0)\n",
            "Requirement already satisfied: pydantic-core==2.27.2 in c:\\users\\dabra\\appdata\\roaming\\python\\python313\\site-packages (from pydantic) (2.27.2)\n",
            "Requirement already satisfied: typing-extensions>=4.12.2 in c:\\users\\dabra\\appdata\\roaming\\python\\python313\\site-packages (from pydantic) (4.12.2)\n",
            "Requirement already satisfied: anyio<5.0,>=3.4.0 in c:\\users\\dabra\\appdata\\roaming\\python\\python313\\site-packages (from asyncer<0.0.8,>=0.0.7->chainlit) (4.8.0)\n",
            "Requirement already satisfied: colorama in c:\\users\\dabra\\appdata\\roaming\\python\\python313\\site-packages (from click<9.0.0,>=8.1.3->chainlit) (0.4.6)\n",
            "Requirement already satisfied: marshmallow<4.0.0,>=3.18.0 in c:\\users\\dabra\\appdata\\roaming\\python\\python313\\site-packages (from dataclasses_json<0.7.0,>=0.6.7->chainlit) (3.26.1)\n",
            "Requirement already satisfied: typing-inspect<1,>=0.4.0 in c:\\users\\dabra\\appdata\\roaming\\python\\python313\\site-packages (from dataclasses_json<0.7.0,>=0.6.7->chainlit) (0.9.0)\n",
            "Requirement already satisfied: certifi in c:\\users\\dabra\\appdata\\roaming\\python\\python313\\site-packages (from httpx>=0.23.0->chainlit) (2025.1.31)\n",
            "Requirement already satisfied: httpcore==1.* in c:\\users\\dabra\\appdata\\roaming\\python\\python313\\site-packages (from httpx>=0.23.0->chainlit) (1.0.7)\n",
            "Requirement already satisfied: idna in c:\\users\\dabra\\appdata\\roaming\\python\\python313\\site-packages (from httpx>=0.23.0->chainlit) (3.10)\n",
            "Requirement already satisfied: h11<0.15,>=0.13 in c:\\users\\dabra\\appdata\\roaming\\python\\python313\\site-packages (from httpcore==1.*->httpx>=0.23.0->chainlit) (0.14.0)\n",
            "Requirement already satisfied: bidict>=0.21.0 in c:\\users\\dabra\\appdata\\roaming\\python\\python313\\site-packages (from python-socketio<6.0.0,>=5.11.0->chainlit) (0.23.1)\n",
            "Requirement already satisfied: python-engineio>=4.11.0 in c:\\users\\dabra\\appdata\\roaming\\python\\python313\\site-packages (from python-socketio<6.0.0,>=5.11.0->chainlit) (4.11.2)\n",
            "Requirement already satisfied: opentelemetry-api~=1.29.0 in c:\\users\\dabra\\appdata\\roaming\\python\\python313\\site-packages (from uptrace<2.0.0,>=1.22.0->chainlit) (1.29.0)\n",
            "Requirement already satisfied: opentelemetry-sdk~=1.29.0 in c:\\users\\dabra\\appdata\\roaming\\python\\python313\\site-packages (from uptrace<2.0.0,>=1.22.0->chainlit) (1.29.0)\n",
            "Requirement already satisfied: opentelemetry-exporter-otlp~=1.29.0 in c:\\users\\dabra\\appdata\\roaming\\python\\python313\\site-packages (from uptrace<2.0.0,>=1.22.0->chainlit) (1.29.0)\n",
            "Requirement already satisfied: opentelemetry-instrumentation~=0.50b0 in c:\\users\\dabra\\appdata\\roaming\\python\\python313\\site-packages (from uptrace<2.0.0,>=1.22.0->chainlit) (0.50b0)\n",
            "Requirement already satisfied: sniffio>=1.1 in c:\\users\\dabra\\appdata\\roaming\\python\\python313\\site-packages (from anyio<5.0,>=3.4.0->asyncer<0.0.8,>=0.0.7->chainlit) (1.3.1)\n",
            "Requirement already satisfied: deprecated>=1.2.6 in c:\\users\\dabra\\appdata\\roaming\\python\\python313\\site-packages (from opentelemetry-api~=1.29.0->uptrace<2.0.0,>=1.22.0->chainlit) (1.2.18)\n",
            "Requirement already satisfied: importlib-metadata<=8.5.0,>=6.0 in c:\\users\\dabra\\appdata\\roaming\\python\\python313\\site-packages (from opentelemetry-api~=1.29.0->uptrace<2.0.0,>=1.22.0->chainlit) (8.5.0)\n",
            "Requirement already satisfied: opentelemetry-exporter-otlp-proto-grpc==1.29.0 in c:\\users\\dabra\\appdata\\roaming\\python\\python313\\site-packages (from opentelemetry-exporter-otlp~=1.29.0->uptrace<2.0.0,>=1.22.0->chainlit) (1.29.0)\n",
            "Requirement already satisfied: opentelemetry-exporter-otlp-proto-http==1.29.0 in c:\\users\\dabra\\appdata\\roaming\\python\\python313\\site-packages (from opentelemetry-exporter-otlp~=1.29.0->uptrace<2.0.0,>=1.22.0->chainlit) (1.29.0)\n",
            "Requirement already satisfied: googleapis-common-protos~=1.52 in c:\\users\\dabra\\appdata\\roaming\\python\\python313\\site-packages (from opentelemetry-exporter-otlp-proto-grpc==1.29.0->opentelemetry-exporter-otlp~=1.29.0->uptrace<2.0.0,>=1.22.0->chainlit) (1.68.0)\n",
            "Requirement already satisfied: grpcio<2.0.0,>=1.63.2 in c:\\users\\dabra\\appdata\\roaming\\python\\python313\\site-packages (from opentelemetry-exporter-otlp-proto-grpc==1.29.0->opentelemetry-exporter-otlp~=1.29.0->uptrace<2.0.0,>=1.22.0->chainlit) (1.70.0)\n",
            "Requirement already satisfied: opentelemetry-exporter-otlp-proto-common==1.29.0 in c:\\users\\dabra\\appdata\\roaming\\python\\python313\\site-packages (from opentelemetry-exporter-otlp-proto-grpc==1.29.0->opentelemetry-exporter-otlp~=1.29.0->uptrace<2.0.0,>=1.22.0->chainlit) (1.29.0)\n",
            "Requirement already satisfied: opentelemetry-proto==1.29.0 in c:\\users\\dabra\\appdata\\roaming\\python\\python313\\site-packages (from opentelemetry-exporter-otlp-proto-grpc==1.29.0->opentelemetry-exporter-otlp~=1.29.0->uptrace<2.0.0,>=1.22.0->chainlit) (1.29.0)\n",
            "Requirement already satisfied: requests~=2.7 in c:\\users\\dabra\\appdata\\roaming\\python\\python313\\site-packages (from opentelemetry-exporter-otlp-proto-http==1.29.0->opentelemetry-exporter-otlp~=1.29.0->uptrace<2.0.0,>=1.22.0->chainlit) (2.32.3)\n",
            "Requirement already satisfied: protobuf<6.0,>=5.0 in c:\\users\\dabra\\appdata\\roaming\\python\\python313\\site-packages (from opentelemetry-proto==1.29.0->opentelemetry-exporter-otlp-proto-grpc==1.29.0->opentelemetry-exporter-otlp~=1.29.0->uptrace<2.0.0,>=1.22.0->chainlit) (5.29.3)\n",
            "Requirement already satisfied: opentelemetry-semantic-conventions==0.50b0 in c:\\users\\dabra\\appdata\\roaming\\python\\python313\\site-packages (from opentelemetry-instrumentation~=0.50b0->uptrace<2.0.0,>=1.22.0->chainlit) (0.50b0)\n",
            "Requirement already satisfied: wrapt<2.0.0,>=1.0.0 in c:\\users\\dabra\\appdata\\roaming\\python\\python313\\site-packages (from opentelemetry-instrumentation~=0.50b0->uptrace<2.0.0,>=1.22.0->chainlit) (1.17.2)\n",
            "Requirement already satisfied: simple-websocket>=0.10.0 in c:\\users\\dabra\\appdata\\roaming\\python\\python313\\site-packages (from python-engineio>=4.11.0->python-socketio<6.0.0,>=5.11.0->chainlit) (1.1.0)\n",
            "Requirement already satisfied: mypy-extensions>=0.3.0 in c:\\users\\dabra\\appdata\\roaming\\python\\python313\\site-packages (from typing-inspect<1,>=0.4.0->dataclasses_json<0.7.0,>=0.6.7->chainlit) (1.0.0)\n",
            "Requirement already satisfied: zipp>=3.20 in c:\\users\\dabra\\appdata\\roaming\\python\\python313\\site-packages (from importlib-metadata<=8.5.0,>=6.0->opentelemetry-api~=1.29.0->uptrace<2.0.0,>=1.22.0->chainlit) (3.21.0)\n",
            "Requirement already satisfied: wsproto in c:\\users\\dabra\\appdata\\roaming\\python\\python313\\site-packages (from simple-websocket>=0.10.0->python-engineio>=4.11.0->python-socketio<6.0.0,>=5.11.0->chainlit) (1.2.0)\n",
            "Requirement already satisfied: charset-normalizer<4,>=2 in c:\\users\\dabra\\appdata\\roaming\\python\\python313\\site-packages (from requests~=2.7->opentelemetry-exporter-otlp-proto-http==1.29.0->opentelemetry-exporter-otlp~=1.29.0->uptrace<2.0.0,>=1.22.0->chainlit) (3.4.1)\n",
            "Requirement already satisfied: urllib3<3,>=1.21.1 in c:\\users\\dabra\\appdata\\roaming\\python\\python313\\site-packages (from requests~=2.7->opentelemetry-exporter-otlp-proto-http==1.29.0->opentelemetry-exporter-otlp~=1.29.0->uptrace<2.0.0,>=1.22.0->chainlit) (2.3.0)\n"
          ]
        }
      ],
      "source": [
        "!pip install --upgrade chainlit pydantic"
      ]
    },
    {
      "cell_type": "code",
      "execution_count": 27,
      "metadata": {},
      "outputs": [
        {
          "name": "stdout",
          "output_type": "stream",
          "text": [
            "Defaulting to user installation because normal site-packages is not writeable\n",
            "Collecting pydantic<2\n",
            "  Using cached pydantic-1.10.21-cp313-cp313-win_amd64.whl.metadata (155 kB)\n",
            "Requirement already satisfied: typing-extensions>=4.2.0 in c:\\users\\dabra\\appdata\\roaming\\python\\python313\\site-packages (from pydantic<2) (4.12.2)\n",
            "Using cached pydantic-1.10.21-cp313-cp313-win_amd64.whl (2.2 MB)\n",
            "Installing collected packages: pydantic\n",
            "  Attempting uninstall: pydantic\n",
            "    Found existing installation: pydantic 2.10.6\n",
            "    Uninstalling pydantic-2.10.6:\n",
            "      Successfully uninstalled pydantic-2.10.6\n",
            "Successfully installed pydantic-1.10.21\n"
          ]
        },
        {
          "name": "stderr",
          "output_type": "stream",
          "text": [
            "ERROR: pip's dependency resolver does not currently take into account all the packages that are installed. This behaviour is the source of the following dependency conflicts.\n",
            "langchain 0.3.19 requires pydantic<3.0.0,>=2.7.4, but you have pydantic 1.10.21 which is incompatible.\n",
            "langchain-anthropic 0.3.9 requires pydantic<3.0.0,>=2.7.4, but you have pydantic 1.10.21 which is incompatible.\n",
            "langchain-cohere 0.4.2 requires pydantic<3,>=2, but you have pydantic 1.10.21 which is incompatible.\n",
            "langchain-core 0.3.41 requires pydantic<3.0.0,>=2.7.4; python_full_version >= \"3.12.4\", but you have pydantic 1.10.21 which is incompatible.\n",
            "langchain-qdrant 0.2.0 requires pydantic<3.0.0,>=2.7.4, but you have pydantic 1.10.21 which is incompatible.\n",
            "langsmith 0.2.11 requires pydantic<3.0.0,>=2.7.4; python_full_version >= \"3.12.4\", but you have pydantic 1.10.21 which is incompatible.\n",
            "pydantic-settings 2.7.1 requires pydantic>=2.7.0, but you have pydantic 1.10.21 which is incompatible.\n",
            "qdrant-client 1.13.2 requires numpy>=2.1.0; python_version >= \"3.13\", but you have numpy 1.26.4 which is incompatible.\n",
            "ragas 0.2.14 requires pydantic>=2, but you have pydantic 1.10.21 which is incompatible.\n",
            "unstructured-client 0.29.0 requires aiofiles>=24.1.0, but you have aiofiles 23.2.1 which is incompatible.\n",
            "unstructured-client 0.29.0 requires pydantic<2.11.0,>=2.10.3, but you have pydantic 1.10.21 which is incompatible.\n",
            "wandb 0.19.6 requires pydantic<3,>=2.6, but you have pydantic 1.10.21 which is incompatible.\n"
          ]
        }
      ],
      "source": [
        "!pip install \"pydantic<2\""
      ]
    },
    {
      "cell_type": "code",
      "execution_count": 25,
      "metadata": {},
      "outputs": [
        {
          "name": "stdout",
          "output_type": "stream",
          "text": [
            "^C\n"
          ]
        }
      ],
      "source": [
        "!pip uninstall pydantic"
      ]
    }
  ],
  "metadata": {
    "colab": {
      "provenance": [],
      "toc_visible": true
    },
    "kernelspec": {
      "display_name": "Python 3",
      "language": "python",
      "name": "python3"
    },
    "language_info": {
      "codemirror_mode": {
        "name": "ipython",
        "version": 3
      },
      "file_extension": ".py",
      "mimetype": "text/x-python",
      "name": "python",
      "nbconvert_exporter": "python",
      "pygments_lexer": "ipython3",
      "version": "3.13.1"
    }
  },
  "nbformat": 4,
  "nbformat_minor": 0
}
