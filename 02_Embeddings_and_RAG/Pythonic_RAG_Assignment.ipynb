{
  "cells": [
    {
      "cell_type": "markdown",
      "metadata": {
        "id": "lElF3o5PR6ys"
      },
      "source": [
        "# Your First RAG Application\n",
        "\n",
        "In this notebook, we'll walk you through each of the components that are involved in a simple RAG application.\n",
        "\n",
        "We won't be leveraging any fancy tools, just the OpenAI Python SDK, Numpy, and some classic Python.\n",
        "\n",
        "> NOTE: This was done with Python 3.11.4.\n",
        "\n",
        "> NOTE: There might be [compatibility issues](https://github.com/wandb/wandb\\issues\\7683) if you're on NVIDIA driver >552.44 As an interim solution - you can rollback your drivers to the 552.44."
      ]
    },
    {
      "cell_type": "markdown",
      "metadata": {
        "id": "5CtcL8P8R6yt"
      },
      "source": [
        "## Table of Contents:\n",
        "\n",
        "- Task 1: Imports and Utilities\n",
        "- Task 2: Documents\n",
        "- Task 3: Embeddings and Vectors\n",
        "- Task 4: Prompts\n",
        "- Task 5: Retrieval Augmented Generation\n",
        "  - 🚧 Activity #1: Augment RAG"
      ]
    },
    {
      "cell_type": "markdown",
      "metadata": {
        "id": "1Dz6GYilR6yt"
      },
      "source": [
        "Let's look at a rather complicated looking visual representation of a basic RAG application.\n",
        "\n",
        "<img src=\"https://i.imgur.com/vD8b016.png\" />"
      ]
    },
    {
      "cell_type": "markdown",
      "metadata": {
        "id": "PjmC0KFtR6yt"
      },
      "source": [
        "## Task 1: Imports and Utility\n",
        "\n",
        "We're just doing some imports and enabling `async` to work within the Jupyter environment here, nothing too crazy!"
      ]
    },
    {
      "cell_type": "code",
      "execution_count": 1,
      "metadata": {
        "id": "Z1dyrG4hR6yt"
      },
      "outputs": [],
      "source": [
        "from aimakerspace.text_utils import TextFileLoader, CharacterTextSplitter\n",
        "from aimakerspace.vectordatabase import VectorDatabase\n",
        "import asyncio"
      ]
    },
    {
      "cell_type": "code",
      "execution_count": 2,
      "metadata": {
        "id": "9OrFZRnER6yt"
      },
      "outputs": [],
      "source": [
        "import nest_asyncio\n",
        "nest_asyncio.apply()"
      ]
    },
    {
      "cell_type": "code",
      "execution_count": 3,
      "metadata": {},
      "outputs": [],
      "source": [
        "import numpy as np\n",
        "import pandas as pd\n",
        "import pymupdf as PyMuPDF"
      ]
    },
    {
      "cell_type": "markdown",
      "metadata": {
        "id": "M0jGnpQsR6yu"
      },
      "source": [
        "## Task 2: Documents\n",
        "\n",
        "We'll be concerning ourselves with this part of the flow in the following section:\n",
        "\n",
        "<img src=\"https://i.imgur.com/jTm9gjk.png\" />"
      ]
    },
    {
      "cell_type": "markdown",
      "metadata": {
        "id": "-SFPWvRUR6yu"
      },
      "source": [
        "### Loading Source Documents\n",
        "\n",
        "So, first things first, we need some documents to work with.\n",
        "\n",
        "While we could work directly with the `.txt` files (or whatever file-types you wanted to extend this to) we can instead do some batch processing of those documents at the beginning in order to store them in a more machine compatible format.\n",
        "\n",
        "In this case, we're going to parse our text file into a single document in memory.\n",
        "\n",
        "Let's look at the relevant bits of the `TextFileLoader` class:\n",
        "\n",
        "```python\n",
        "def load_file(self):\n",
        "        with open(self.path, \"r\", encoding=self.encoding) as f:\n",
        "            self.documents.append(f.read())\n",
        "```\n",
        "\n",
        "We're simply loading the document using the built in `open` method, and storing that output in our `self.documents` list.\n"
      ]
    },
    {
      "cell_type": "code",
      "execution_count": 4,
      "metadata": {
        "colab": {
          "base_uri": "https://localhost:8080/"
        },
        "id": "Ia2sUEuGR6yu",
        "outputId": "84937ecc-c35f-4c4a-a4ab-9da72625954c"
      },
      "outputs": [
        {
          "data": {
            "text/plain": [
              "1"
            ]
          },
          "execution_count": 4,
          "metadata": {},
          "output_type": "execute_result"
        }
      ],
      "source": [
        "text_loader = TextFileLoader(\"data/PMarcaBlogs.txt\")\n",
        "documents = text_loader.load_documents()\n",
        "len(documents)"
      ]
    },
    {
      "cell_type": "code",
      "execution_count": 5,
      "metadata": {
        "colab": {
          "base_uri": "https://localhost:8080/"
        },
        "id": "bV-tj5WFR6yu",
        "outputId": "674eb315-1ff3-4597-bcf5-38ece0a812ac"
      },
      "outputs": [
        {
          "name": "stdout",
          "output_type": "stream",
          "text": [
            "\n",
            "The Pmarca Blog Archives\n",
            "(select posts from 2007-2009)\n",
            "Marc Andreessen\n",
            "copyright: Andreessen Horow\n"
          ]
        }
      ],
      "source": [
        "print(documents[0][:100])"
      ]
    },
    {
      "cell_type": "markdown",
      "metadata": {
        "id": "nHlTvCzYR6yu"
      },
      "source": [
        "### Splitting Text Into Chunks\n",
        "\n",
        "As we can see, there is one massive document.\n",
        "\n",
        "We'll want to chunk the document into smaller parts so it's easier to pass the most relevant snippets to the LLM.\n",
        "\n",
        "There is no fixed way to split/chunk documents - and you'll need to rely on some intuition as well as knowing your data *very* well in order to build the most robust system.\n",
        "\n",
        "For this toy example, we'll just split blindly on length.\n",
        "\n",
        ">There's an opportunity to clear up some terminology here, for this course we will be stick to the following:\n",
        ">\n",
        ">- \"source documents\" : The `.txt`, `.pdf`, `.html`, ..., files that make up the files and information we start with in its raw format\n",
        ">- \"document(s)\" : single (or more) text object(s)\n",
        ">- \"corpus\" : the combination of all of our documents"
      ]
    },
    {
      "cell_type": "markdown",
      "metadata": {
        "id": "2G6Voc0jR6yv"
      },
      "source": [
        "As you can imagine (though it's not specifically true in this toy example) the idea of splitting documents is to break them into managable sized chunks that retain the most relevant local context."
      ]
    },
    {
      "cell_type": "code",
      "execution_count": 6,
      "metadata": {
        "colab": {
          "base_uri": "https://localhost:8080/"
        },
        "id": "UMC4tsEmR6yv",
        "outputId": "08689c0b-57cd-4040-942a-8193e997f5cb"
      },
      "outputs": [
        {
          "data": {
            "text/plain": [
              "373"
            ]
          },
          "execution_count": 6,
          "metadata": {},
          "output_type": "execute_result"
        }
      ],
      "source": [
        "text_splitter = CharacterTextSplitter()\n",
        "split_documents = text_splitter.split_texts(documents)\n",
        "len(split_documents)"
      ]
    },
    {
      "cell_type": "markdown",
      "metadata": {
        "id": "W2wKT0WLR6yv"
      },
      "source": [
        "Let's take a look at some of the documents we've managed to split."
      ]
    },
    {
      "cell_type": "code",
      "execution_count": 7,
      "metadata": {
        "colab": {
          "base_uri": "https://localhost:8080/"
        },
        "id": "vcYMwWJoR6yv",
        "outputId": "20d69876-feca-4826-b4be-32915276987a"
      },
      "outputs": [
        {
          "data": {
            "text/plain": [
              "['\\ufeff\\nThe Pmarca Blog Archives\\n(select posts from 2007-2009)\\nMarc Andreessen\\ncopyright: Andreessen Horowitz\\ncover design: Jessica Hagy\\nproduced using: Pressbooks\\nContents\\nTHE PMARCA GUIDE TO STARTUPS\\nPart 1: Why not to do a startup 2\\nPart 2: When the VCs say \"no\" 10\\nPart 3: \"But I don\\'t know any VCs!\" 18\\nPart 4: The only thing that matters 25\\nPart 5: The Moby Dick theory of big companies 33\\nPart 6: How much funding is too little? Too much? 41\\nPart 7: Why a startup\\'s initial business plan doesn\\'t\\nmatter that much\\n49\\nTHE PMARCA GUIDE TO HIRING\\nPart 8: Hiring, managing, promoting, and Dring\\nexecutives\\n54\\nPart 9: How to hire a professional CEO 68\\nHow to hire the best people you\\'ve ever worked\\nwith\\n69\\nTHE PMARCA GUIDE TO BIG COMPANIES\\nPart 1: Turnaround! 82\\nPart 2: Retaining great people 86\\nTHE PMARCA GUIDE TO CAREER, PRODUCTIVITY,\\nAND SOME OTHER THINGS\\nIntroduction 97\\nPart 1: Opportunity 99\\nPart 2: Skills and education 107\\nPart 3: Where to go and why 120\\nThe Pmarca Guide to Personal Productivi']"
            ]
          },
          "execution_count": 7,
          "metadata": {},
          "output_type": "execute_result"
        }
      ],
      "source": [
        "split_documents[0:1]"
      ]
    },
    {
      "cell_type": "markdown",
      "metadata": {
        "id": "HOU-RFP_R6yv"
      },
      "source": [
        "## Task 3: Embeddings and Vectors\n",
        "\n",
        "Next, we have to convert our corpus into a \"machine readable\" format as we explored in the Embedding Primer notebook.\n",
        "\n",
        "Today, we're going to talk about the actual process of creating, and then storing, these embeddings, and how we can leverage that to intelligently add context to our queries."
      ]
    },
    {
      "cell_type": "markdown",
      "metadata": {},
      "source": [
        "### OpenAI API Key\n",
        "\n",
        "In order to access OpenAI's APIs, we'll need to provide our OpenAI API Key!\n",
        "\n",
        "You can work through the folder \"OpenAI API Key Setup\" for more information on this process if you don't already have an API Key!"
      ]
    },
    {
      "cell_type": "code",
      "execution_count": 8,
      "metadata": {},
      "outputs": [],
      "source": [
        "import os\n",
        "import openai\n",
        "from getpass import getpass\n",
        "\n",
        "openai.api_key = getpass(\"OpenAI API Key: \")\n",
        "os.environ[\"OPENAI_API_KEY\"] = openai.api_key"
      ]
    },
    {
      "cell_type": "markdown",
      "metadata": {},
      "source": [
        "### Vector Database\n",
        "\n",
        "Let's set up our vector database to hold all our documents and their embeddings!"
      ]
    },
    {
      "cell_type": "markdown",
      "metadata": {
        "id": "kDQrfAR1R6yv"
      },
      "source": [
        "While this is all baked into 1 call - we can look at some of the code that powers this process to get a better understanding:\n",
        "\n",
        "Let's look at our `VectorDatabase().__init__()`:\n",
        "\n",
        "```python\n",
        "def __init__(self, embedding_model: EmbeddingModel = None):\n",
        "        self.vectors = defaultdict(np.array)\n",
        "        self.embedding_model = embedding_model or EmbeddingModel()\n",
        "```\n",
        "\n",
        "As you can see - our vectors are merely stored as a dictionary of `np.array` objects.\n",
        "\n",
        "Secondly, our `VectorDatabase()` has a default `EmbeddingModel()` which is a wrapper for OpenAI's `text-embedding-3-small` model.\n",
        "\n",
        "> **Quick Info About `text-embedding-3-small`**:\n",
        "> - It has a context window of **8191** tokens\n",
        "> - It returns vectors with dimension **1536**"
      ]
    },
    {
      "cell_type": "markdown",
      "metadata": {
        "id": "L273pRdeR6yv"
      },
      "source": [
        "#### ❓Question #1:\n",
        "\n",
        "The default embedding dimension of `text-embedding-3-small` is 1536, as noted above. \n",
        "\n",
        "1. Is there any way to modify this dimension?  \n",
        "\n",
        "ANSWER: Yes - we can modify it by specifying the desired number of dimensions (an integer) for the parameter 'dimensions' to the API call. The resulting output embeddings will have the specified number of dimensions.\n",
        "\n",
        "2. What technique does OpenAI use to achieve this?  \n",
        "\n",
        "ANSWER: OpenAI's new embedding models, text-embedding-3-small and text-embedding-3-large, utilize Matryoshka Representation Learning (MRL) to modify the dimensions of their embeddings. This technique allows for flexible and efficient dimension reduction while maintaining high performance.\n",
        "\n",
        "> NOTE: Check out this [API documentation](https://platform.openai.com/docs/api-reference/embeddings/create) for the answer to question #1, and [this documentation](https://platform.openai.com/docs/guides/embeddings/use-cases) for an answer to question #2!"
      ]
    },
    {
      "cell_type": "markdown",
      "metadata": {
        "id": "w5FZY7K3R6yv"
      },
      "source": [
        "We can call the `async_get_embeddings` method of our `EmbeddingModel()` on a list of `str` and receive a list of `float` back!\n",
        "\n",
        "```python\n",
        "async def async_get_embeddings(self, list_of_text: List[str]) -> List[List[float]]:\n",
        "        return await aget_embeddings(\n",
        "            list_of_text=list_of_text, engine=self.embeddings_model_name\n",
        "        )\n",
        "```"
      ]
    },
    {
      "cell_type": "markdown",
      "metadata": {
        "id": "cSct6X0aR6yv"
      },
      "source": [
        "We cast those to `np.array` when we build our `VectorDatabase()`:\n",
        "\n",
        "```python\n",
        "async def abuild_from_list(self, list_of_text: List[str]) -> \"VectorDatabase\":\n",
        "        embeddings = await self.embedding_model.async_get_embeddings(list_of_text)\n",
        "        for text, embedding in zip(list_of_text, embeddings):\n",
        "            self.insert(text, np.array(embedding))\n",
        "        return self\n",
        "```\n",
        "\n",
        "And that's all we need to do!"
      ]
    },
    {
      "cell_type": "code",
      "execution_count": 9,
      "metadata": {
        "id": "O4KoLbVDR6yv"
      },
      "outputs": [],
      "source": [
        "vector_db = VectorDatabase()\n",
        "vector_db = asyncio.run(vector_db.abuild_from_list(split_documents))"
      ]
    },
    {
      "cell_type": "markdown",
      "metadata": {
        "id": "SSZwaGvpR6yv"
      },
      "source": [
        "#### ❓Question #2:\n",
        "\n",
        "What are the benefits of using an `async` approach to collecting our embeddings?\n",
        "\n",
        "> NOTE: Determining the core difference between `async` and `sync` will be useful! If you get stuck - ask ChatGPT!"
      ]
    },
    {
      "cell_type": "markdown",
      "metadata": {
        "id": "nRBdIt-xR6yw"
      },
      "source": [
        "So, to review what we've done so far in natural language:\n",
        "\n",
        "1. We load source documents\n",
        "2. We split those source documents into smaller chunks (documents)\n",
        "3. We send each of those documents to the `text-embedding-3-small` OpenAI API endpoint\n",
        "4. We store each of the text representations with the vector representations as keys/values in a dictionary"
      ]
    },
    {
      "cell_type": "markdown",
      "metadata": {
        "id": "4-vWANZyR6yw"
      },
      "source": [
        "### Semantic Similarity\n",
        "\n",
        "The next step is to be able to query our `VectorDatabase()` with a `str` and have it return to us vectors and text that is most relevant from our corpus.\n",
        "\n",
        "We're going to use the following process to achieve this in our toy example:\n",
        "\n",
        "1. We need to embed our query with the same `EmbeddingModel()` as we used to construct our `VectorDatabase()`\n",
        "2. We loop through every vector in our `VectorDatabase()` and use a distance measure to compare how related they are\n",
        "3. We return a list of the top `k` closest vectors, with their text representations\n",
        "\n",
        "There's some very heavy optimization that can be done at each of these steps - but let's just focus on the basic pattern in this notebook.\n",
        "\n",
        "> We are using [cosine similarity](https://www.engati.com/glossary/cosine-similarity) as a distance metric in this example - but there are many many distance metrics you could use - like [these](https://flavien-vidal.medium.com/similarity-distances-for-natural-language-processing-16f63cd5ba55)\n",
        "\n",
        "> We are using a rather inefficient way of calculating relative distance between the query vector and all other vectors - there are more advanced approaches that are much more efficient, like [ANN](https://towardsdatascience.com/comprehensive-guide-to-approximate-nearest-neighbors-algorithms-8b94f057d6b6)"
      ]
    },
    {
      "cell_type": "code",
      "execution_count": 10,
      "metadata": {
        "colab": {
          "base_uri": "https://localhost:8080/"
        },
        "id": "76d96uavR6yw",
        "outputId": "bbfccc31-20a2-41c7-c14d-46554a43ed2d"
      },
      "outputs": [
        {
          "data": {
            "text/plain": [
              "[('ordingly.\\nSeventh, when hiring the executive to run your former specialty, be\\ncareful you don’t hire someone weak on purpose.\\nThis sounds silly, but you wouldn’t believe how oaen it happens.\\nThe CEO who used to be a product manager who has a weak\\nproduct management executive. The CEO who used to be in\\nsales who has a weak sales executive. The CEO who used to be\\nin marketing who has a weak marketing executive.\\nI call this the “Michael Eisner Memorial Weak Executive Problem” — aaer the CEO of Disney who had previously been a brilliant TV network executive. When he bought ABC at Disney, it\\npromptly fell to fourth place. His response? “If I had an extra\\ntwo days a week, I could turn around ABC myself.” Well, guess\\nwhat, he didn’t have an extra two days a week.\\nA CEO — or a startup founder — oaen has a hard time letting\\ngo of the function that brought him to the party. The result: you\\nhire someone weak into the executive role for that function so\\nthat you can continue to be “the man” — cons',\n",
              "  np.float64(0.6538563767462545)),\n",
              " ('m. They have areas where they are truly deXcient in judgment or skill set. That’s just life. Almost nobody is brilliant\\nat everything. When hiring and when Hring executives, you\\nmust therefore focus on strength rather than lack of weakness. Everybody has severe weaknesses even if you can’t see\\nthem yet. When managing, it’s oaen useful to micromanage and\\nto provide remedial training around these weaknesses. Doing so\\nmay make the diWerence between an executive succeeding or\\nfailing.\\nFor example, you might have a brilliant engineering executive\\nwho generates excellent team loyalty, has terriXc product judgment and makes the trains run on time. This same executive\\nmay be very poor at relating to the other functions in the company. She may generate far more than her share of cross-functional conYicts, cut herself oW from critical information, and\\nsigniXcantly impede your ability to sell and market eWectively.\\nYour alternatives are:\\n(a) Macro-manage and give her an annual or quarterly object',\n",
              "  np.float64(0.5036012174947994)),\n",
              " ('ed?\\nIn reality — as opposed to Marc’s warped view of reality — it will\\nbe extremely helpful for Marc [if he were actually the CEO,\\nwhich he is not] to meet with the new head of engineering daily\\nwhen she comes on board and review all of her thinking and\\ndecisions. This level of micromanagement will accelerate her\\ntraining and improve her long-term eWectiveness. It will make\\nher seem smarter to the rest of the organization which will build\\ncredibility and conXdence while she comes up to speed. Micromanaging new executives is generally a good idea for a limited\\nperiod of time.\\nHowever, that is not the only time that it makes sense to micro66 The Pmarca Blog Archives\\nmanage executives. It turns out that just about every executive\\nin the world has a few things that are seriously wrong with\\nthem. They have areas where they are truly deXcient in judgment or skill set. That’s just life. Almost nobody is brilliant\\nat everything. When hiring and when Hring executives, you\\nmust therefore focus o',\n",
              "  np.float64(0.4814102594977529))]"
            ]
          },
          "execution_count": 10,
          "metadata": {},
          "output_type": "execute_result"
        }
      ],
      "source": [
        "vector_db.search_by_text(\"What is the Michael Eisner Memorial Weak Executive Problem?\", k=3)"
      ]
    },
    {
      "cell_type": "markdown",
      "metadata": {
        "id": "TehsfIiKR6yw"
      },
      "source": [
        "## Task 4: Prompts\n",
        "\n",
        "In the following section, we'll be looking at the role of prompts - and how they help us to guide our application in the right direction.\n",
        "\n",
        "In this notebook, we're going to rely on the idea of \"zero-shot in-context learning\".\n",
        "\n",
        "This is a lot of words to say: \"We will ask it to perform our desired task in the prompt, and provide no examples.\""
      ]
    },
    {
      "cell_type": "markdown",
      "metadata": {
        "id": "yXpA0UveR6yw"
      },
      "source": [
        "### XYZRolePrompt\n",
        "\n",
        "Before we do that, let's stop and think a bit about how OpenAI's chat models work.\n",
        "\n",
        "We know they have roles - as is indicated in the following API [documentation](https://platform.openai.com/docs/api-reference/chat/create#chat/create-messages)\n",
        "\n",
        "There are three roles, and they function as follows (taken directly from [OpenAI](https://platform.openai.com/docs/guides/gpt/chat-completions-api)):\n",
        "\n",
        "- `{\"role\" : \"system\"}` : The system message helps set the behavior of the assistant. For example, you can modify the personality of the assistant or provide specific instructions about how it should behave throughout the conversation. However note that the system message is optional and the model’s behavior without a system message is likely to be similar to using a generic message such as \"You are a helpful assistant.\"\n",
        "- `{\"role\" : \"user\"}` : The user messages provide requests or comments for the assistant to respond to.\n",
        "- `{\"role\" : \"assistant\"}` : Assistant messages store previous assistant responses, but can also be written by you to give examples of desired behavior.\n",
        "\n",
        "The main idea is this:\n",
        "\n",
        "1. You start with a system message that outlines how the LLM should respond, what kind of behaviours you can expect from it, and more\n",
        "2. Then, you can provide a few examples in the form of \"assistant\"/\"user\" pairs\n",
        "3. Then, you prompt the model with the true \"user\" message.\n",
        "\n",
        "In this example, we'll be forgoing the 2nd step for simplicities sake."
      ]
    },
    {
      "cell_type": "markdown",
      "metadata": {
        "id": "gdZ2KWKSR6yw"
      },
      "source": [
        "#### Utility Functions\n",
        "\n",
        "You'll notice that we're using some utility functions from the `aimakerspace` module - let's take a peek at these and see what they're doing!"
      ]
    },
    {
      "cell_type": "markdown",
      "metadata": {
        "id": "GFbeJDDsR6yw"
      },
      "source": [
        "##### XYZRolePrompt"
      ]
    },
    {
      "cell_type": "markdown",
      "metadata": {
        "id": "5mojJSE3R6yw"
      },
      "source": [
        "Here we have our `system`, `user`, and `assistant` role prompts.\n",
        "\n",
        "Let's take a peek at what they look like:\n",
        "\n",
        "```python\n",
        "class BasePrompt:\n",
        "    def __init__(self, prompt):\n",
        "        \"\"\"\n",
        "        Initializes the BasePrompt object with a prompt template.\n",
        "\n",
        "        :param prompt: A string that can contain placeholders within curly braces\n",
        "        \"\"\"\n",
        "        self.prompt = prompt\n",
        "        self._pattern = re.compile(r\"\\{([^}]+)\\}\")\n",
        "\n",
        "    def format_prompt(self, **kwargs):\n",
        "        \"\"\"\n",
        "        Formats the prompt string using the keyword arguments provided.\n",
        "\n",
        "        :param kwargs: The values to substitute into the prompt string\n",
        "        :return: The formatted prompt string\n",
        "        \"\"\"\n",
        "        matches = self._pattern.findall(self.prompt)\n",
        "        return self.prompt.format(**{match: kwargs.get(match, \"\") for match in matches})\n",
        "\n",
        "    def get_input_variables(self):\n",
        "        \"\"\"\n",
        "        Gets the list of input variable names from the prompt string.\n",
        "\n",
        "        :return: List of input variable names\n",
        "        \"\"\"\n",
        "        return self._pattern.findall(self.prompt)\n",
        "```\n",
        "\n",
        "Then we have our `RolePrompt` which laser focuses us on the role pattern found in most API endpoints for LLMs.\n",
        "\n",
        "```python\n",
        "class RolePrompt(BasePrompt):\n",
        "    def __init__(self, prompt, role: str):\n",
        "        \"\"\"\n",
        "        Initializes the RolePrompt object with a prompt template and a role.\n",
        "\n",
        "        :param prompt: A string that can contain placeholders within curly braces\n",
        "        :param role: The role for the message ('system', 'user', or 'assistant')\n",
        "        \"\"\"\n",
        "        super().__init__(prompt)\n",
        "        self.role = role\n",
        "\n",
        "    def create_message(self, **kwargs):\n",
        "        \"\"\"\n",
        "        Creates a message dictionary with a role and a formatted message.\n",
        "\n",
        "        :param kwargs: The values to substitute into the prompt string\n",
        "        :return: Dictionary containing the role and the formatted message\n",
        "        \"\"\"\n",
        "        return {\"role\": self.role, \"content\": self.format_prompt(**kwargs)}\n",
        "```\n",
        "\n",
        "We'll look at how the `SystemRolePrompt` is constructed to get a better idea of how that extension works:\n",
        "\n",
        "```python\n",
        "class SystemRolePrompt(RolePrompt):\n",
        "    def __init__(self, prompt: str):\n",
        "        super().__init__(prompt, \"system\")\n",
        "```\n",
        "\n",
        "That pattern is repeated for our `UserRolePrompt` and our `AssistantRolePrompt` as well."
      ]
    },
    {
      "cell_type": "markdown",
      "metadata": {
        "id": "D361R6sMR6yw"
      },
      "source": [
        "##### ChatOpenAI"
      ]
    },
    {
      "cell_type": "markdown",
      "metadata": {
        "id": "HJVQ2Pm8R6yw"
      },
      "source": [
        "Next we have our model, which is converted to a format analagous to libraries like LangChain and LlamaIndex.\n",
        "\n",
        "Let's take a peek at how that is constructed:\n",
        "\n",
        "```python\n",
        "class ChatOpenAI:\n",
        "    def __init__(self, model_name: str = \"gpt-4o-mini\"):\n",
        "        self.model_name = model_name\n",
        "        self.openai_api_key = os.getenv(\"OPENAI_API_KEY\")\n",
        "        if self.openai_api_key is None:\n",
        "            raise ValueError(\"OPENAI_API_KEY is not set\")\n",
        "\n",
        "    def run(self, messages, text_only: bool = True):\n",
        "        if not isinstance(messages, list):\n",
        "            raise ValueError(\"messages must be a list\")\n",
        "\n",
        "        openai.api_key = self.openai_api_key\n",
        "        response = openai.ChatCompletion.create(\n",
        "            model=self.model_name, messages=messages\n",
        "        )\n",
        "\n",
        "        if text_only:\n",
        "            return response.choices[0].message.content\n",
        "\n",
        "        return response\n",
        "```"
      ]
    },
    {
      "cell_type": "markdown",
      "metadata": {
        "id": "qCU7FfhIR6yw"
      },
      "source": [
        "#### ❓ Question #3:\n",
        "\n",
        "When calling the OpenAI API - are there any ways we can achieve more reproducible outputs?\n",
        "\n",
        "> NOTE: Check out [this section](https://platform.openai.com/docs/guides/text-generation/) of the OpenAI documentation for the answer!"
      ]
    },
    {
      "cell_type": "markdown",
      "metadata": {
        "id": "c5wcjMLCR6yw"
      },
      "source": [
        "### Creating and Prompting OpenAI's `gpt-4o-mini`!\n",
        "\n",
        "Let's tie all these together and use it to prompt `gpt-4o-mini`!"
      ]
    },
    {
      "cell_type": "code",
      "execution_count": 11,
      "metadata": {
        "id": "WIfpIot7R6yw"
      },
      "outputs": [],
      "source": [
        "from aimakerspace.openai_utils.prompts import (\n",
        "    UserRolePrompt,\n",
        "    SystemRolePrompt,\n",
        "    AssistantRolePrompt,\n",
        ")\n",
        "\n",
        "from aimakerspace.openai_utils.chatmodel import ChatOpenAI\n",
        "\n",
        "chat_openai = ChatOpenAI()\n",
        "user_prompt_template = \"{content}\"\n",
        "user_role_prompt = UserRolePrompt(user_prompt_template)\n",
        "system_prompt_template = (\n",
        "    \"You are an expert in {expertise}, you always answer in a kind way.\"\n",
        ")\n",
        "system_role_prompt = SystemRolePrompt(system_prompt_template)\n",
        "\n",
        "messages = [\n",
        "    system_role_prompt.create_message(expertise=\"Python\"),\n",
        "    user_role_prompt.create_message(\n",
        "        content=\"What is the best way to write a loop?\"\n",
        "    ),\n",
        "]\n",
        "\n",
        "response = chat_openai.run(messages)"
      ]
    },
    {
      "cell_type": "code",
      "execution_count": 12,
      "metadata": {
        "colab": {
          "base_uri": "https://localhost:8080/"
        },
        "id": "dHo7lssNR6yw",
        "outputId": "1d3823fa-bb6b-45f6-ddba-b41686388324"
      },
      "outputs": [
        {
          "name": "stdout",
          "output_type": "stream",
          "text": [
            "The best way to write a loop in Python depends on your specific use case, but here are some general guidelines for writing clear and efficient loops:\n",
            "\n",
            "1. **Use `for` Loop for Iterating Over Sequences**: If you want to iterate over a list, tuple, string, or any iterable, a `for` loop is typically the best choice.\n",
            "\n",
            "   ```python\n",
            "   items = [1, 2, 3, 4]\n",
            "   for item in items:\n",
            "       print(item)\n",
            "   ```\n",
            "\n",
            "2. **Use `while` Loop for Conditional Iteration**: If you want to loop until a certain condition is met, then a `while` loop is appropriate.\n",
            "\n",
            "   ```python\n",
            "   counter = 0\n",
            "   while counter < 5:\n",
            "       print(counter)\n",
            "       counter += 1\n",
            "   ```\n",
            "\n",
            "3. **Be Mindful of Indentation**: Python uses indentation to define the scope of loops. Make sure your code is properly indented for readability.\n",
            "\n",
            "4. **Avoid Infinite Loops**: Ensure that your condition for a `while` loop will eventually become false to avoid infinite loops.\n",
            "\n",
            "5. **Consider Python’s Built-In Functions**: Functions like `enumerate()` and `zip()` can make your loops more efficient and readable.\n",
            "\n",
            "   ```python\n",
            "   fruits = ['apple', 'banana', 'cherry']\n",
            "   for index, fruit in enumerate(fruits):\n",
            "       print(f\"{index}: {fruit}\")\n",
            "\n",
            "   # Using zip to iterate over two lists\n",
            "   colors = ['red', 'yellow', 'pink']\n",
            "   for fruit, color in zip(fruits, colors):\n",
            "       print(f\"{fruit} is {color}\")\n",
            "   ```\n",
            "\n",
            "6. **Use List Comprehensions for Simple Cases**: For cases where you want to create a list based on an existing list, consider using a list comprehension, which is more Pythonic.\n",
            "\n",
            "   ```python\n",
            "   squares = [x**2 for x in range(10)]\n",
            "   ```\n",
            "\n",
            "7. **Break and Continue Statements**: If you need to exit a loop early or skip to the next iteration, you can use `break` and `continue`.\n",
            "\n",
            "   ```python\n",
            "   for number in range(10):\n",
            "       if number == 5:\n",
            "           break  # Exit the loop when number is 5\n",
            "       if number % 2 == 0:\n",
            "           continue  # Skip even numbers\n",
            "       print(number)\n",
            "   ```\n",
            "\n",
            "By following these guidelines, you can write loops that are efficient and easy to understand. If you have a specific scenario in mind, feel free to share, and I’d be happy to help you craft the loop!\n"
          ]
        }
      ],
      "source": [
        "print(response)"
      ]
    },
    {
      "cell_type": "markdown",
      "metadata": {
        "id": "r2nxxhB2R6yy"
      },
      "source": [
        "## Task 5: Retrieval Augmented Generation\n",
        "\n",
        "Now we can create a RAG prompt - which will help our system behave in a way that makes sense!\n",
        "\n",
        "There is much you could do here, many tweaks and improvements to be made!"
      ]
    },
    {
      "cell_type": "code",
      "execution_count": 13,
      "metadata": {
        "id": "D1hamzGaR6yy"
      },
      "outputs": [],
      "source": [
        "RAG_PROMPT_TEMPLATE = \"\"\" \\\n",
        "Use the provided context to answer the user's query.\n",
        "\n",
        "You may not answer the user's query unless there is specific context in the following text.\n",
        "\n",
        "If you do not know the answer, or cannot answer, please respond with \"I don't know\".\n",
        "\"\"\"\n",
        "\n",
        "rag_prompt = SystemRolePrompt(RAG_PROMPT_TEMPLATE)\n",
        "\n",
        "USER_PROMPT_TEMPLATE = \"\"\" \\\n",
        "Context:\n",
        "{context}\n",
        "\n",
        "User Query:\n",
        "{user_query}\n",
        "\"\"\"\n",
        "\n",
        "\n",
        "user_prompt = UserRolePrompt(USER_PROMPT_TEMPLATE)\n",
        "\n",
        "class RetrievalAugmentedQAPipeline:\n",
        "    def __init__(self, llm: ChatOpenAI(), vector_db_retriever: VectorDatabase) -> None:\n",
        "        self.llm = llm\n",
        "        self.vector_db_retriever = vector_db_retriever\n",
        "\n",
        "    def run_pipeline(self, user_query: str) -> str:\n",
        "        context_list = self.vector_db_retriever.search_by_text(user_query, k=4)\n",
        "\n",
        "        context_prompt = \"\"\n",
        "        for context in context_list:\n",
        "            context_prompt += context[0] + \"\\n\"\n",
        "\n",
        "        formatted_system_prompt = rag_prompt.create_message()\n",
        "\n",
        "        formatted_user_prompt = user_prompt.create_message(user_query=user_query, context=context_prompt)\n",
        "\n",
        "        return {\"response\" : self.llm.run([formatted_system_prompt, formatted_user_prompt]), \"context\" : context_list}"
      ]
    },
    {
      "cell_type": "markdown",
      "metadata": {
        "id": "zZIJI19uR6yz"
      },
      "source": [
        "#### ❓ Question #4:\n",
        "\n",
        "What prompting strategies could you use to make the LLM have a more thoughtful, detailed response?\n",
        "\n",
        "What is that strategy called?\n",
        "\n",
        "> NOTE: You can look through the Week 1 Day 1 \"Prompting OpenAI Like A Developer\" material for an answer to this question!"
      ]
    },
    {
      "cell_type": "code",
      "execution_count": 14,
      "metadata": {
        "id": "kqbE9fZ6R6yz"
      },
      "outputs": [],
      "source": [
        "retrieval_augmented_qa_pipeline = RetrievalAugmentedQAPipeline(\n",
        "    vector_db_retriever=vector_db,\n",
        "    llm=chat_openai\n",
        ")"
      ]
    },
    {
      "cell_type": "code",
      "execution_count": 15,
      "metadata": {
        "colab": {
          "base_uri": "https://localhost:8080/"
        },
        "id": "jAGhaCGOR6yz",
        "outputId": "e4fb3a1b-d2bc-4e18-ec31-dc0adf767163"
      },
      "outputs": [
        {
          "data": {
            "text/plain": [
              "{'response': \"The 'Michael Eisner Memorial Weak Executive Problem' refers to the tendency of CEOs or startup founders to hire executives who are weak in the area they themselves excelled in, in order to maintain control and a sense of superiority over that function. The term is named after Michael Eisner, the former CEO of Disney, who, despite being a successful TV network executive, faced challenges when he bought ABC, which fell to fourth place, and expressed confidence that he could turn it around himself if he had more time. This highlights the risk of hiring weaker executives intentionally to avoid relinquishing control over a function, which can lead to poor performance in that area.\",\n",
              " 'context': [('ordingly.\\nSeventh, when hiring the executive to run your former specialty, be\\ncareful you don’t hire someone weak on purpose.\\nThis sounds silly, but you wouldn’t believe how oaen it happens.\\nThe CEO who used to be a product manager who has a weak\\nproduct management executive. The CEO who used to be in\\nsales who has a weak sales executive. The CEO who used to be\\nin marketing who has a weak marketing executive.\\nI call this the “Michael Eisner Memorial Weak Executive Problem” — aaer the CEO of Disney who had previously been a brilliant TV network executive. When he bought ABC at Disney, it\\npromptly fell to fourth place. His response? “If I had an extra\\ntwo days a week, I could turn around ABC myself.” Well, guess\\nwhat, he didn’t have an extra two days a week.\\nA CEO — or a startup founder — oaen has a hard time letting\\ngo of the function that brought him to the party. The result: you\\nhire someone weak into the executive role for that function so\\nthat you can continue to be “the man” — cons',\n",
              "   np.float64(0.658212511330063)),\n",
              "  ('m. They have areas where they are truly deXcient in judgment or skill set. That’s just life. Almost nobody is brilliant\\nat everything. When hiring and when Hring executives, you\\nmust therefore focus on strength rather than lack of weakness. Everybody has severe weaknesses even if you can’t see\\nthem yet. When managing, it’s oaen useful to micromanage and\\nto provide remedial training around these weaknesses. Doing so\\nmay make the diWerence between an executive succeeding or\\nfailing.\\nFor example, you might have a brilliant engineering executive\\nwho generates excellent team loyalty, has terriXc product judgment and makes the trains run on time. This same executive\\nmay be very poor at relating to the other functions in the company. She may generate far more than her share of cross-functional conYicts, cut herself oW from critical information, and\\nsigniXcantly impede your ability to sell and market eWectively.\\nYour alternatives are:\\n(a) Macro-manage and give her an annual or quarterly object',\n",
              "   np.float64(0.5088372362539735)),\n",
              "  ('ed?\\nIn reality — as opposed to Marc’s warped view of reality — it will\\nbe extremely helpful for Marc [if he were actually the CEO,\\nwhich he is not] to meet with the new head of engineering daily\\nwhen she comes on board and review all of her thinking and\\ndecisions. This level of micromanagement will accelerate her\\ntraining and improve her long-term eWectiveness. It will make\\nher seem smarter to the rest of the organization which will build\\ncredibility and conXdence while she comes up to speed. Micromanaging new executives is generally a good idea for a limited\\nperiod of time.\\nHowever, that is not the only time that it makes sense to micro66 The Pmarca Blog Archives\\nmanage executives. It turns out that just about every executive\\nin the world has a few things that are seriously wrong with\\nthem. They have areas where they are truly deXcient in judgment or skill set. That’s just life. Almost nobody is brilliant\\nat everything. When hiring and when Hring executives, you\\nmust therefore focus o',\n",
              "   np.float64(0.4790366940597922)),\n",
              "  ('nYicts, cut herself oW from critical information, and\\nsigniXcantly impede your ability to sell and market eWectively.\\nYour alternatives are:\\n(a) Macro-manage and give her an annual or quarterly objective\\nto Xx it, or…\\n(b) Intensively micromanage her interactions until she learns\\nthe fundamental interpersonal skills required to be an eWective\\nexecutive.\\nI am arguing that doing (a) will likely result in weak performance. The reason is that she very likely has no idea how to be\\neWective with her peers. If somebody is an executive, it’s very\\nlikely that somewhere along the line somebody gave her feedback — perhaps abstractly — about all of her weaknesses. Yet\\nthe weakness remains. As a result, executives generally require\\nmore hands-on management than lower level employees to\\nimprove weak areas.\\nSo, micromanagement is like Xne wine. A little at the right times\\nwill really enhance things; too much all the time and you’ll end\\nup in rehab.\\nPart 8: Hiring, managing, promoting, and Dring execut',\n",
              "   np.float64(0.46810833913806876))]}"
            ]
          },
          "execution_count": 15,
          "metadata": {},
          "output_type": "execute_result"
        }
      ],
      "source": [
        "retrieval_augmented_qa_pipeline.run_pipeline(\"What is the 'Michael Eisner Memorial Weak Executive Problem'?\")"
      ]
    },
    {
      "cell_type": "markdown",
      "metadata": {},
      "source": [
        "### 🏗️ Activity #1:\n",
        "\n",
        "Enhance your RAG application in some way! \n",
        "\n",
        "Suggestions are: \n",
        "\n",
        "- Allow it to work with PDF files\n",
        "- Implement a new distance metric\n",
        "- Add metadata support to the vector database\n",
        "\n",
        "While these are suggestions, you should feel free to make whatever augmentations you desire! \n",
        "\n",
        "> NOTE: These additions might require you to work within the `aimakerspace` library - that's expected!"
      ]
    },
    {
      "cell_type": "code",
      "execution_count": 34,
      "metadata": {},
      "outputs": [],
      "source": [
        "def cosine_similarity(v1: np.array, v2: np.array) -> float:\n",
        "    \"\"\"\n",
        "    Computes the cosine similarity between two vectors.\n",
        "\n",
        "    Parameters:\n",
        "        v1 (np.array): The first vector.\n",
        "        v2 (np.array): The second vector.\n",
        "\n",
        "    Returns:\n",
        "        float: The cosine similarity between the two vectors.\n",
        "    \"\"\"\n",
        "    dot_product = np.dot(v1, v2)   # Compute the dot product of the two vectors\n",
        "    euc_n1 = np.linalg.norm(v1)          # Calculate the Euclidean norms (magnitude) of first vector\n",
        "    euc_n2 = np.linalg.norm(v2)          # Calculate the Euclidean norms (magnitude) of second vector\n",
        "    distance = dot_product / (euc_n1 * euc_n2) # Calculate the cosine similarity\n",
        "\n",
        "    # Returns a similarity score between -1 and 1:\n",
        "    # 1 indicates perfect similarity (vectors pointing in the same direction).\n",
        "    # 0 indicates orthogonality (no similarity).\n",
        "    # -1 indicates opposite directions.\n",
        "\n",
        "    return round(distance, 6)\n",
        "\n",
        "def euclidean_distance(v1: np.array, v2: np.array) -> float:\n",
        "    \"\"\"\n",
        "    Computes the Euclidean distance between two vectors.\n",
        "\n",
        "    Parameters:\n",
        "        v1 (np.array): The first vector.\n",
        "        v2 (np.array): The second vector.\n",
        "\n",
        "    Returns:\n",
        "        float: The Euclidean similarity between the two vectors.\n",
        "    \"\"\"\n",
        "    \n",
        "    distance = np.linalg.norm(v1 - v2) # Straight-line distance between two points in Euclidean space\n",
        "    return round(distance, 6)\n",
        "\n",
        "def minkowski_distance(v1: np.array, v2: np.array, p: float = 5) -> float:\n",
        "    \"\"\"\n",
        "    Computes the Minkowski distance between two vectors for a given order p.\n",
        "\n",
        "    Parameters:\n",
        "        v1 (np.array): The first vector.\n",
        "        v2 (np.array): The second vector.\n",
        "\n",
        "    Returns:\n",
        "        float: The Minkowski similarity between the two vectors.\n",
        "    \"\"\"\n",
        "\n",
        "    distance = np.sum(np.abs(v1 - v2) ** p) ** (1 / p)\n",
        "    return round(distance, 6)"
      ]
    },
    {
      "cell_type": "code",
      "execution_count": 35,
      "metadata": {},
      "outputs": [
        {
          "data": {
            "text/plain": [
              "[('ordingly.\\nSeventh, when hiring the executive to run your former specialty, be\\ncareful you don’t hire someone weak on purpose.\\nThis sounds silly, but you wouldn’t believe how oaen it happens.\\nThe CEO who used to be a product manager who has a weak\\nproduct management executive. The CEO who used to be in\\nsales who has a weak sales executive. The CEO who used to be\\nin marketing who has a weak marketing executive.\\nI call this the “Michael Eisner Memorial Weak Executive Problem” — aaer the CEO of Disney who had previously been a brilliant TV network executive. When he bought ABC at Disney, it\\npromptly fell to fourth place. His response? “If I had an extra\\ntwo days a week, I could turn around ABC myself.” Well, guess\\nwhat, he didn’t have an extra two days a week.\\nA CEO — or a startup founder — oaen has a hard time letting\\ngo of the function that brought him to the party. The result: you\\nhire someone weak into the executive role for that function so\\nthat you can continue to be “the man” — cons',\n",
              "  np.float64(0.6538563767462545)),\n",
              " ('m. They have areas where they are truly deXcient in judgment or skill set. That’s just life. Almost nobody is brilliant\\nat everything. When hiring and when Hring executives, you\\nmust therefore focus on strength rather than lack of weakness. Everybody has severe weaknesses even if you can’t see\\nthem yet. When managing, it’s oaen useful to micromanage and\\nto provide remedial training around these weaknesses. Doing so\\nmay make the diWerence between an executive succeeding or\\nfailing.\\nFor example, you might have a brilliant engineering executive\\nwho generates excellent team loyalty, has terriXc product judgment and makes the trains run on time. This same executive\\nmay be very poor at relating to the other functions in the company. She may generate far more than her share of cross-functional conYicts, cut herself oW from critical information, and\\nsigniXcantly impede your ability to sell and market eWectively.\\nYour alternatives are:\\n(a) Macro-manage and give her an annual or quarterly object',\n",
              "  np.float64(0.5036012174947994)),\n",
              " ('ed?\\nIn reality — as opposed to Marc’s warped view of reality — it will\\nbe extremely helpful for Marc [if he were actually the CEO,\\nwhich he is not] to meet with the new head of engineering daily\\nwhen she comes on board and review all of her thinking and\\ndecisions. This level of micromanagement will accelerate her\\ntraining and improve her long-term eWectiveness. It will make\\nher seem smarter to the rest of the organization which will build\\ncredibility and conXdence while she comes up to speed. Micromanaging new executives is generally a good idea for a limited\\nperiod of time.\\nHowever, that is not the only time that it makes sense to micro66 The Pmarca Blog Archives\\nmanage executives. It turns out that just about every executive\\nin the world has a few things that are seriously wrong with\\nthem. They have areas where they are truly deXcient in judgment or skill set. That’s just life. Almost nobody is brilliant\\nat everything. When hiring and when Hring executives, you\\nmust therefore focus o',\n",
              "  np.float64(0.4814102594977529)),\n",
              " ('nYicts, cut herself oW from critical information, and\\nsigniXcantly impede your ability to sell and market eWectively.\\nYour alternatives are:\\n(a) Macro-manage and give her an annual or quarterly objective\\nto Xx it, or…\\n(b) Intensively micromanage her interactions until she learns\\nthe fundamental interpersonal skills required to be an eWective\\nexecutive.\\nI am arguing that doing (a) will likely result in weak performance. The reason is that she very likely has no idea how to be\\neWective with her peers. If somebody is an executive, it’s very\\nlikely that somewhere along the line somebody gave her feedback — perhaps abstractly — about all of her weaknesses. Yet\\nthe weakness remains. As a result, executives generally require\\nmore hands-on management than lower level employees to\\nimprove weak areas.\\nSo, micromanagement is like Xne wine. A little at the right times\\nwill really enhance things; too much all the time and you’ll end\\nup in rehab.\\nPart 8: Hiring, managing, promoting, and Dring execut',\n",
              "  np.float64(0.46839784000061724)),\n",
              " ('ummy\\ndecision is no fun to work for. However, it is wrong to condemn\\nthe practice of micromanagement on that basis.\\nPart 8: Hiring, managing, promoting, and Dring executives 65\\nSpeciXcally, there are times and situations where micromanaging executives is not just ok, but also the right thing to do.\\nAndy Grove has an excellent explanation of this in his classic\\nbook High Output Management, where he describes a concept\\ncalled “Task Relevant Maturity”. Andy explains that employees\\nwho are immature in a given task require detailed training and\\ninstruction. They need to be micromanaged. On the other\\nhand, if an employee is relatively mature in a task, then it is\\ncounterproductive and annoying to manage the details of their\\nwork.\\nThis is also true when managing executives. Marc might think\\nthat he hires an executive because she has the experience and\\nknow-how to comprehensively do her job, so any detailed\\ninstruction would be unwise and unwarranted. Marc would be\\nwrong about that. It turns o',\n",
              "  np.float64(0.4636587776975078)),\n",
              " ('tartup, an executive is hired to take over a function that’s\\nalready been started, at least in rudimentary form. The\\npeople in that function should be noticeably better at their\\njobs, and highly respectful of the executive’s skills, within the\\nXrst several months at the very least. If not, you have a\\nproblem.\\n• What do the other executives think?Great executives are oaen\\nimperfect but their peers always respect them. If your other\\nexecutives are skeptical of a new executive aaer the Xrst few\\nmonths, you have a problem.\\n• Is it painful for you to interact with the executive?Do you try to\\navoid or cancel your 1:1’s? Does talking to her give you a\\nheadache? Do you oaen not understand what point she’s\\ntrying to make or why she’s focused on such an odd issue? If\\nthe answer to any of these questions is yes, you have a\\nproblem.\\nThird, Fre crisply.\\nFiring an executive sucks. It’s disruptive to the organization. It\\ncreates a lot of work for you — not least of which is you’ll have\\nto go Xnd some',\n",
              "  np.float64(0.46032435936351634)),\n",
              " ('ly cripple her function and sometimes the entire company. Therefore, it is far more important to Fre a bad executive as fast\\nas possible, versus a normal employee.\\nSolution? There isn’t one. It’s a permanent problem.\\nI once asked Andy Grove, one of the world’s all-time best CEOs,\\nabout this. He said, you always Xre a bad executive too late. If\\nyou’re really good, you’ll Xre her about three months too late.\\nBut you’ll always do it too late. If you did it fast enough that it\\nwasn’t too late, you wouldn’t have enough data, and you’d risk\\nbeing viewed as arbitrary and capricious by the rest of the organization.\\nSecond, the minute you have a bad feeling in your gut, start gathering\\ndata.\\nBack to the point on ruthlessly violating the chain of command\\n— get to it. Talk to everyone. Know what’s going on. Unless\\nyou’re paranoid — and, shockingly, I have met paranoid\\nfounders and CEOs, and not counting Andy Grove — you need\\nto gather the data because you’re going to need to Xre the executive — i',\n",
              "  np.float64(0.44615774606534536)),\n",
              " ('e giving her a chance to Xnd a better Xt\\nin a diWerent company where she will be more valued, more\\nrespected, and more successful. This sounds mushy, but I mean\\nit. And if she can’t, then she has a much deeper problem and\\nyou just dodged a huge bullet.\\nAnd on that cheery note, good luck!\\nCounterpoint: Ben Horowitz on\\nmicromanagement\\n[This is a guest post from my business partner Ben Horowitz, reacting\\nto my recent post about hiring, managing, promoting, and Fring executives. I have italicized the parts where he really tears into me for your\\nadded humor value.]\\nWhile I enjoyed Marc’s post on hiring and Xring executives, I\\nthink that he unfairly dissed micromanagement.\\nHere’s why.\\nEveryone knows that the hyper-controlling manager with the\\nsevere personality disorder who micromanages every crummy\\ndecision is no fun to work for. However, it is wrong to condemn\\nthe practice of micromanagement on that basis.\\nPart 8: Hiring, managing, promoting, and Dring executives 65\\nSpeciXcally, there are ',\n",
              "  np.float64(0.43373335074011604)),\n",
              " ('the high potential people apart from everyone\\nelse. That too is lea as an exercise for the reader.\\nFiring\\nFirst, recognize the paradox of deciding to Fre an executive.\\nThe paradox works like this:\\nIt takes time to gather data to evaluate an executive’s performance. You can’t evaluate an executive based on her own output, like a normal employee — you have to evaluate her based\\non the output of her organization. It takes time for her to build\\nand manage her organization to generate output. Therefore, it\\n62 The Pmarca Blog Archives\\ntakes longer to evaluate the performance of an executive than a normal\\nemployee.\\nBut, an executive can cause far more damage than a normal\\nemployee. A normal employee doesn’t work out, Xne, replace\\nhim. An executive doesn’t work out, it can — worst case — permanently cripple her function and sometimes the entire company. Therefore, it is far more important to Fre a bad executive as fast\\nas possible, versus a normal employee.\\nSolution? There isn’t one. It’s a pe',\n",
              "  np.float64(0.4316464571927935)),\n",
              " ('ions is yes, you have a\\nproblem.\\nThird, Fre crisply.\\nFiring an executive sucks. It’s disruptive to the organization. It\\ncreates a lot of work for you — not least of which is you’ll have\\nto go Xnd someone else for the job. And, it risks making you\\nlook bad, since you’re the one who hired the person in the Xrst\\nplace.\\nAnd it always seems to happen at a critical time in your startup’s\\nlife, when the last thing you need is a distraction like this.\\nNevertheless, the only thing to do is do it, do it professionally,\\nmake clear to the organization what will happen next, and get\\non down the road.\\nIn my opinion the two most common mistakes people make\\nwhen they Xre executives both fall in the category of pulling\\none’s punches, and I highly recommend avoiding them:\\n• Long transition periods — tempting, but counterproductive.\\nConfusing, demoralizing, and just plain weird. Instead, make\\na clean break, put a new person in charge — even if only on\\nan acting basis — and get moving.\\n64 The Pmarca Blog ',\n",
              "  np.float64(0.4259861107682723))]"
            ]
          },
          "execution_count": 35,
          "metadata": {},
          "output_type": "execute_result"
        }
      ],
      "source": [
        "vector_db.search_by_text(\n",
        "    \"What is the Michael Eisner Memorial Weak Executive Problem?\", \n",
        "    k=10\n",
        "    )"
      ]
    },
    {
      "cell_type": "code",
      "execution_count": 36,
      "metadata": {},
      "outputs": [
        {
          "name": "stdout",
          "output_type": "stream",
          "text": [
            " Calculated Cosine distance \n"
          ]
        },
        {
          "data": {
            "text/plain": [
              "[('ordingly.\\nSeventh, when hiring the executive to run your former specialty, be\\ncareful you don’t hire someone weak on purpose.\\nThis sounds silly, but you wouldn’t believe how oaen it happens.\\nThe CEO who used to be a product manager who has a weak\\nproduct management executive. The CEO who used to be in\\nsales who has a weak sales executive. The CEO who used to be\\nin marketing who has a weak marketing executive.\\nI call this the “Michael Eisner Memorial Weak Executive Problem” — aaer the CEO of Disney who had previously been a brilliant TV network executive. When he bought ABC at Disney, it\\npromptly fell to fourth place. His response? “If I had an extra\\ntwo days a week, I could turn around ABC myself.” Well, guess\\nwhat, he didn’t have an extra two days a week.\\nA CEO — or a startup founder — oaen has a hard time letting\\ngo of the function that brought him to the party. The result: you\\nhire someone weak into the executive role for that function so\\nthat you can continue to be “the man” — cons',\n",
              "  np.float64(0.653856)),\n",
              " ('m. They have areas where they are truly deXcient in judgment or skill set. That’s just life. Almost nobody is brilliant\\nat everything. When hiring and when Hring executives, you\\nmust therefore focus on strength rather than lack of weakness. Everybody has severe weaknesses even if you can’t see\\nthem yet. When managing, it’s oaen useful to micromanage and\\nto provide remedial training around these weaknesses. Doing so\\nmay make the diWerence between an executive succeeding or\\nfailing.\\nFor example, you might have a brilliant engineering executive\\nwho generates excellent team loyalty, has terriXc product judgment and makes the trains run on time. This same executive\\nmay be very poor at relating to the other functions in the company. She may generate far more than her share of cross-functional conYicts, cut herself oW from critical information, and\\nsigniXcantly impede your ability to sell and market eWectively.\\nYour alternatives are:\\n(a) Macro-manage and give her an annual or quarterly object',\n",
              "  np.float64(0.503601)),\n",
              " ('ed?\\nIn reality — as opposed to Marc’s warped view of reality — it will\\nbe extremely helpful for Marc [if he were actually the CEO,\\nwhich he is not] to meet with the new head of engineering daily\\nwhen she comes on board and review all of her thinking and\\ndecisions. This level of micromanagement will accelerate her\\ntraining and improve her long-term eWectiveness. It will make\\nher seem smarter to the rest of the organization which will build\\ncredibility and conXdence while she comes up to speed. Micromanaging new executives is generally a good idea for a limited\\nperiod of time.\\nHowever, that is not the only time that it makes sense to micro66 The Pmarca Blog Archives\\nmanage executives. It turns out that just about every executive\\nin the world has a few things that are seriously wrong with\\nthem. They have areas where they are truly deXcient in judgment or skill set. That’s just life. Almost nobody is brilliant\\nat everything. When hiring and when Hring executives, you\\nmust therefore focus o',\n",
              "  np.float64(0.48141)),\n",
              " ('nYicts, cut herself oW from critical information, and\\nsigniXcantly impede your ability to sell and market eWectively.\\nYour alternatives are:\\n(a) Macro-manage and give her an annual or quarterly objective\\nto Xx it, or…\\n(b) Intensively micromanage her interactions until she learns\\nthe fundamental interpersonal skills required to be an eWective\\nexecutive.\\nI am arguing that doing (a) will likely result in weak performance. The reason is that she very likely has no idea how to be\\neWective with her peers. If somebody is an executive, it’s very\\nlikely that somewhere along the line somebody gave her feedback — perhaps abstractly — about all of her weaknesses. Yet\\nthe weakness remains. As a result, executives generally require\\nmore hands-on management than lower level employees to\\nimprove weak areas.\\nSo, micromanagement is like Xne wine. A little at the right times\\nwill really enhance things; too much all the time and you’ll end\\nup in rehab.\\nPart 8: Hiring, managing, promoting, and Dring execut',\n",
              "  np.float64(0.468398)),\n",
              " ('ummy\\ndecision is no fun to work for. However, it is wrong to condemn\\nthe practice of micromanagement on that basis.\\nPart 8: Hiring, managing, promoting, and Dring executives 65\\nSpeciXcally, there are times and situations where micromanaging executives is not just ok, but also the right thing to do.\\nAndy Grove has an excellent explanation of this in his classic\\nbook High Output Management, where he describes a concept\\ncalled “Task Relevant Maturity”. Andy explains that employees\\nwho are immature in a given task require detailed training and\\ninstruction. They need to be micromanaged. On the other\\nhand, if an employee is relatively mature in a task, then it is\\ncounterproductive and annoying to manage the details of their\\nwork.\\nThis is also true when managing executives. Marc might think\\nthat he hires an executive because she has the experience and\\nknow-how to comprehensively do her job, so any detailed\\ninstruction would be unwise and unwarranted. Marc would be\\nwrong about that. It turns o',\n",
              "  np.float64(0.463659)),\n",
              " ('tartup, an executive is hired to take over a function that’s\\nalready been started, at least in rudimentary form. The\\npeople in that function should be noticeably better at their\\njobs, and highly respectful of the executive’s skills, within the\\nXrst several months at the very least. If not, you have a\\nproblem.\\n• What do the other executives think?Great executives are oaen\\nimperfect but their peers always respect them. If your other\\nexecutives are skeptical of a new executive aaer the Xrst few\\nmonths, you have a problem.\\n• Is it painful for you to interact with the executive?Do you try to\\navoid or cancel your 1:1’s? Does talking to her give you a\\nheadache? Do you oaen not understand what point she’s\\ntrying to make or why she’s focused on such an odd issue? If\\nthe answer to any of these questions is yes, you have a\\nproblem.\\nThird, Fre crisply.\\nFiring an executive sucks. It’s disruptive to the organization. It\\ncreates a lot of work for you — not least of which is you’ll have\\nto go Xnd some',\n",
              "  np.float64(0.460324)),\n",
              " ('ly cripple her function and sometimes the entire company. Therefore, it is far more important to Fre a bad executive as fast\\nas possible, versus a normal employee.\\nSolution? There isn’t one. It’s a permanent problem.\\nI once asked Andy Grove, one of the world’s all-time best CEOs,\\nabout this. He said, you always Xre a bad executive too late. If\\nyou’re really good, you’ll Xre her about three months too late.\\nBut you’ll always do it too late. If you did it fast enough that it\\nwasn’t too late, you wouldn’t have enough data, and you’d risk\\nbeing viewed as arbitrary and capricious by the rest of the organization.\\nSecond, the minute you have a bad feeling in your gut, start gathering\\ndata.\\nBack to the point on ruthlessly violating the chain of command\\n— get to it. Talk to everyone. Know what’s going on. Unless\\nyou’re paranoid — and, shockingly, I have met paranoid\\nfounders and CEOs, and not counting Andy Grove — you need\\nto gather the data because you’re going to need to Xre the executive — i',\n",
              "  np.float64(0.446158)),\n",
              " ('e giving her a chance to Xnd a better Xt\\nin a diWerent company where she will be more valued, more\\nrespected, and more successful. This sounds mushy, but I mean\\nit. And if she can’t, then she has a much deeper problem and\\nyou just dodged a huge bullet.\\nAnd on that cheery note, good luck!\\nCounterpoint: Ben Horowitz on\\nmicromanagement\\n[This is a guest post from my business partner Ben Horowitz, reacting\\nto my recent post about hiring, managing, promoting, and Fring executives. I have italicized the parts where he really tears into me for your\\nadded humor value.]\\nWhile I enjoyed Marc’s post on hiring and Xring executives, I\\nthink that he unfairly dissed micromanagement.\\nHere’s why.\\nEveryone knows that the hyper-controlling manager with the\\nsevere personality disorder who micromanages every crummy\\ndecision is no fun to work for. However, it is wrong to condemn\\nthe practice of micromanagement on that basis.\\nPart 8: Hiring, managing, promoting, and Dring executives 65\\nSpeciXcally, there are ',\n",
              "  np.float64(0.433733)),\n",
              " ('the high potential people apart from everyone\\nelse. That too is lea as an exercise for the reader.\\nFiring\\nFirst, recognize the paradox of deciding to Fre an executive.\\nThe paradox works like this:\\nIt takes time to gather data to evaluate an executive’s performance. You can’t evaluate an executive based on her own output, like a normal employee — you have to evaluate her based\\non the output of her organization. It takes time for her to build\\nand manage her organization to generate output. Therefore, it\\n62 The Pmarca Blog Archives\\ntakes longer to evaluate the performance of an executive than a normal\\nemployee.\\nBut, an executive can cause far more damage than a normal\\nemployee. A normal employee doesn’t work out, Xne, replace\\nhim. An executive doesn’t work out, it can — worst case — permanently cripple her function and sometimes the entire company. Therefore, it is far more important to Fre a bad executive as fast\\nas possible, versus a normal employee.\\nSolution? There isn’t one. It’s a pe',\n",
              "  np.float64(0.431646)),\n",
              " ('ions is yes, you have a\\nproblem.\\nThird, Fre crisply.\\nFiring an executive sucks. It’s disruptive to the organization. It\\ncreates a lot of work for you — not least of which is you’ll have\\nto go Xnd someone else for the job. And, it risks making you\\nlook bad, since you’re the one who hired the person in the Xrst\\nplace.\\nAnd it always seems to happen at a critical time in your startup’s\\nlife, when the last thing you need is a distraction like this.\\nNevertheless, the only thing to do is do it, do it professionally,\\nmake clear to the organization what will happen next, and get\\non down the road.\\nIn my opinion the two most common mistakes people make\\nwhen they Xre executives both fall in the category of pulling\\none’s punches, and I highly recommend avoiding them:\\n• Long transition periods — tempting, but counterproductive.\\nConfusing, demoralizing, and just plain weird. Instead, make\\na clean break, put a new person in charge — even if only on\\nan acting basis — and get moving.\\n64 The Pmarca Blog ',\n",
              "  np.float64(0.425986))]"
            ]
          },
          "execution_count": 36,
          "metadata": {},
          "output_type": "execute_result"
        }
      ],
      "source": [
        "print(\" Calculated Cosine distance \")\n",
        "\n",
        "vector_db.search_by_text(\n",
        "        \"What is the Michael Eisner Memorial Weak Executive Problem?\", \n",
        "        k=10,\n",
        "        distance_measure=cosine_similarity)"
      ]
    },
    {
      "cell_type": "code",
      "execution_count": 37,
      "metadata": {},
      "outputs": [
        {
          "name": "stdout",
          "output_type": "stream",
          "text": [
            " Calculated Euclidean distance \n"
          ]
        },
        {
          "data": {
            "text/plain": [
              "[('hese\\nare only personal views; I am not trying to malign anyone else’s\\nchoice of career or education path. These are simply the\\nthings I would want to be told if I were entering college today.]\\nThis post discusses skills acquisition throughout your lifetime,\\nincluding your formal education. So I will start with college and\\nmove on from there.\\nWhat should I study in college?\\nSome people argue that college will be your one chance in life\\nto pursue your passion — to spend four years doing nothing but\\nstudying whatever you love the most, whether that’s Renaissance literature or existential philosophy.\\nI disagree.\\nIf you intend to have an impact on the world, the faster you start\\ndeveloping concrete skills that will be useful in the real world, the\\nbetter — and your undergrad degree is a great place to start.\\nOnce you get into the real world and you’re primed for success, then you can pursue your passion.\\nA typical liberal arts degree will be almost useless on its own. So\\nyou usually won’t h',\n",
              "  np.float64(1.352079)),\n",
              " ('lace to start.\\nOnce you get into the real world and you’re primed for success, then you can pursue your passion.\\nA typical liberal arts degree will be almost useless on its own. So\\nyou usually won’t have the option of immediately entering the\\nworkforce in a high-impact way when you graduate, and you’ll\\nhave to go get a useful graduate degree.\\nAnd even if you are already planning to get a useful graduate\\ndegree, you are much better oW combining it with a substantive\\nundergraduate degree — thereby becoming a “double threat”.\\nMore on this in a bit.\\nWhich undergraduate degrees are useful in\\nthe real world?\\nTypically, those that have a technical element of some form —\\nthat teach you how to do something substantive.\\nEngineering degrees obviously qualify. The current myth that\\nengineering and computer science degrees are less useful\\nbecause all the jobs are going to India and China is silliness;\\nignore it.\\nHard science degrees — physics, chemistry — also clearly qualify, as do mathematics and',\n",
              "  np.float64(1.34049)),\n",
              " ('c paranoid political\\nthrillers of the 70’s but with a much harder edge. Highly recommended. Also very helpful re advising on things to think about\\nbefore booking your next trip back from Mars.\\nAlastair Reynolds\\nReynolds is the real deal — doctorate in astrophysics and former staW scientist at the European Space Agency — and writes\\nas if Robert Heinlein knew a thousand times more about science\\nand completely lost his ability to write for warm characters.\\nWhile Reynolds’ work is cold and dark — almost sterile — in\\nhuman terms, he operates on a scale and scope seldom seen,\\nand everything he writes is grounded in real advanced theoretical physics. Highly recommended for anyone who likes largescale space opera and big ideas.\\nRevelation Space, Redemption Ark, and Absolution Gap —\\ntogether, Reynolds’ Yagship trilogy — are three of the darkest,\\nlargest-scale, and most scientiXcally complex hard science Xction novels ever written. Highly recommended to anyone who\\nthinks that sounds like a good ',\n",
              "  np.float64(1.339746)),\n",
              " ('ar and its sequel Judas Unchained. Plain on staying up late,\\nyou’ll roll straight from the Xrst into the second — and they are\\nnot short (in the best way!).\\nJohn Scalzi\\nAnother post-cyberpunk Heinlein heir, Scalzi writes strong,\\nhighly characterized, inventive novels that have been racking\\nup tremendous review aaer tremendous review for the past few\\nyears.\\nStart with Old Man’s War (don’t worry, they put the old dude\\nin a young body, so you don’t need to Xnd out what it’s like\\nto Xght aliens aaer hip replacement surgery). Progress directly\\nto sequel The Ghost Brigades (Sci Fi Essential Books) and\\ntriquel The Last Colony.\\nScalzi is also an active blogger, turns out!\\nNeal Asher\\nThis way lie dragons… literally, and not like you’ve ever met\\nbefore. Asher is an incredidly strong author of science Xction\\nwith a distinctive horror overlay. Not for the squeamish, but\\nhighly inventive.\\nAsher’s primary work is the Polity series — Gridlinked, The\\nLine of Polity, Brass Man, and Polity Agent. The ex',\n",
              "  np.float64(1.331167)),\n",
              " ('l, MacLeod’s latest, takes a lea turn into\\na paranoid post-9/11 near future featuring war with Iran, Yu\\npandemics, nuclear terrorist attacks, government conspiracies,\\nand the Execution Channel, broadcasting actual footage of murders and executions around the clock. Haven’t read it yet, but\\nsounds like fun.\\nPeter Hamilton\\nHamilton is the clear heir to Heinlein in my view. Large-scale\\nspace opera told through a shiaing and interlinked cast of people from various walks of life, and amazing storytelling — or,\\nas (accurately) blurbed by Richard Morgan, “Yat-out huge\\nwidescreen all-engines-at-full I-dare-you-not-to-believe-it\\nspace opera”.\\nIt’s taken Hamilton a little while to Xnd his talent, but he’s\\n176 The Pmarca Blog Archives\\ndeXnitely found it. His two latest novels are superb: Pandora’s\\nStar and its sequel Judas Unchained. Plain on staying up late,\\nyou’ll roll straight from the Xrst into the second — and they are\\nnot short (in the best way!).\\nJohn Scalzi\\nAnother post-cyberpunk Heinlein',\n",
              "  np.float64(1.330715)),\n",
              " ('of the time they can send an email that\\nyou can process at the end of the day during the second of your\\ntwo daily email sweeps.\\nHere’s the best part: you don’t actually have to be listening to\\nanything.\\nHell, you don’t even have to have the headphones plugged into\\nanything.\\nSleeping and Eating\\nI’m not going to talk a lot about getting up early or going to\\nbed late or anything else related to the course of a typical day,\\nbecause everyone’s diWerent.\\nPersonally I go back and forth between being a night owl (99% of\\nthe time) and a morning person (1% — I’m going to try to push\\nit to 2%).\\nBut the thing that matters almost more than anything in determining whether I’ll have a happy, satisfying day is this: no matter what time you get up, start the day with a real, sit-down\\nbreakfast.\\nThis serves two purposes.\\nFirst, it fuels you up. Study aaer study have shown that breakfast\\nis, yes, the most important meal of the day. It’s critical to properly fuel the body for the day’s activities and it’s',\n",
              "  np.float64(1.329603)),\n",
              " (' demands rigorous thinking on the\\npath to doing anything big.\\n• Plus, technical degrees indicate seriousness of purpose to\\nfuture employers and partners. You get coded right up front\\nas someone who is intent on doing real things.\\nGraduating with a technical degree is like heading out into the real\\n108 The Pmarca Blog Archives\\nworld armed with an assault riGe instead of a dull knife. Don’t miss\\nthat opportunity because of some fuzzy romanticized view of\\nliberal arts broadening your horizons.\\nWhat graduate degrees are useful in the\\nreal world?\\nGenerally, if you have a useful undergrad degree, I think graduate degrees are overrated. You can usually hit the workforce in a\\nreal job with just an undergraduate degree and progress rapidly\\naccording to your own ability and energy from there.\\nOf course, you’re hearing this from someone who could barely\\nstand to stay in school long enough to Xnish undergrad, so take\\nthat for what it’s worth.\\nIf you don’t have a useful undergrad degree, then a use',\n",
              "  np.float64(1.328581)),\n",
              " ('gher intensity, and bolder than many\\n(but not all!) of their predecessors — and in my view revitalizing\\nthe genre at a time when more new technologies that will radically reshape all our lives are incubating and percolating than\\never before.\\nSo, taking nothing away from authors like David Brin who have\\nlong been established and continue to produce top-notch work,\\nhere are my nominations for the top 10 new science Xction novelists of — more or less — the decade, plus one bonus.\\nAnd, they’re not all British.\\nCharles Stross\\nStross, in my opinion, is Xrst among equals — the single best\\nemerging talent with several outstanding novels in various styles\\nunder his belt and hopefully many more to come.\\n“One of us” in the sense that his career includes a stint as —\\nnot kidding — Linux columnist for Computer Shopper magazine,\\nStross is equally adept at both near-future and radically-extrap-\\nolated timeframes, and both hyper-serious and humorous\\nmoods.\\nGlasshouse is Stross’s latest book and perhap',\n",
              "  np.float64(1.326622)),\n",
              " ('Computer Shopper magazine,\\nStross is equally adept at both near-future and radically-extrap-\\nolated timeframes, and both hyper-serious and humorous\\nmoods.\\nGlasshouse is Stross’s latest book and perhaps the best introduction to his work. A paranoid journey into a world of intergalactic teleportation and arbitrary physical body reshaping will have\\nyou thinking twice about who you are, and how you know who\\nyou are.\\nSingularity Sky and Iron Sunrise are top-notch post-Singularity space opera featuring perhaps the most inventive alien\\nopponent ever created for science Xction — “the Festival”. You’ll\\nnever look at telephones that drop out of the sky the same way\\nagain.\\nAccelerando is the best envisioning of the Singularity committed to paper so far. This book is really cool, both in the sense\\nof how the kids mean it, and also in tone — the plot, which\\nspans about 100 years, is emotionally cold but amazingly inventive and highly likely to keep you up nights thinking hard about\\nwhere we’re all ',\n",
              "  np.float64(1.326552)),\n",
              " ('pure research and education — do\\nnot have PhDs. Draw from that whatever conclusion you think\\nmakes sense.\\nWhat college or university should I go to?\\nTry very very hard to go to one of the best colleges or universities in the world for your chosen Xeld.\\nDon’t worry about being a small Fsh in a big pond — you want to\\nalways be in the best pond possible, because that’s how you will get\\nPart 2: Skills and education 109\\nexposed to the best people and the best opportunities in your\\nXeld.\\nIf you can’t start out in one of the top schools for your Xeld, then\\nwork your butt oW and get great grades and transfer as fast as\\nyou possibly can into a top school.\\nAnd if you can’t do that — if you end up getting your undergrad\\nat a school that’s not one of the top in your Xeld — then strongly\\nconsider pursuing a graduate degree in your Xeld at a great\\nschool for your Xeld.\\nIn this way, even if your only option is starting out at a community college, by the time you Xnish 4-6 years of education, you\\ncan ',\n",
              "  np.float64(1.326434))]"
            ]
          },
          "execution_count": 37,
          "metadata": {},
          "output_type": "execute_result"
        }
      ],
      "source": [
        "print(\" Calculated Euclidean distance \")\n",
        "\n",
        "vector_db.search_by_text(\n",
        "        \"What is the Michael Eisner Memorial Weak Executive Problem?\", \n",
        "        k=10, \n",
        "        distance_measure=euclidean_distance\n",
        "        )"
      ]
    },
    {
      "cell_type": "code",
      "execution_count": 38,
      "metadata": {},
      "outputs": [
        {
          "name": "stdout",
          "output_type": "stream",
          "text": [
            " Calculated Minkowski distance \n"
          ]
        },
        {
          "data": {
            "text/plain": [
              "[('lace to start.\\nOnce you get into the real world and you’re primed for success, then you can pursue your passion.\\nA typical liberal arts degree will be almost useless on its own. So\\nyou usually won’t have the option of immediately entering the\\nworkforce in a high-impact way when you graduate, and you’ll\\nhave to go get a useful graduate degree.\\nAnd even if you are already planning to get a useful graduate\\ndegree, you are much better oW combining it with a substantive\\nundergraduate degree — thereby becoming a “double threat”.\\nMore on this in a bit.\\nWhich undergraduate degrees are useful in\\nthe real world?\\nTypically, those that have a technical element of some form —\\nthat teach you how to do something substantive.\\nEngineering degrees obviously qualify. The current myth that\\nengineering and computer science degrees are less useful\\nbecause all the jobs are going to India and China is silliness;\\nignore it.\\nHard science degrees — physics, chemistry — also clearly qualify, as do mathematics and',\n",
              "  np.float64(0.224415)),\n",
              " ('hese\\nare only personal views; I am not trying to malign anyone else’s\\nchoice of career or education path. These are simply the\\nthings I would want to be told if I were entering college today.]\\nThis post discusses skills acquisition throughout your lifetime,\\nincluding your formal education. So I will start with college and\\nmove on from there.\\nWhat should I study in college?\\nSome people argue that college will be your one chance in life\\nto pursue your passion — to spend four years doing nothing but\\nstudying whatever you love the most, whether that’s Renaissance literature or existential philosophy.\\nI disagree.\\nIf you intend to have an impact on the world, the faster you start\\ndeveloping concrete skills that will be useful in the real world, the\\nbetter — and your undergrad degree is a great place to start.\\nOnce you get into the real world and you’re primed for success, then you can pursue your passion.\\nA typical liberal arts degree will be almost useless on its own. So\\nyou usually won’t h',\n",
              "  np.float64(0.223811)),\n",
              " (' demands rigorous thinking on the\\npath to doing anything big.\\n• Plus, technical degrees indicate seriousness of purpose to\\nfuture employers and partners. You get coded right up front\\nas someone who is intent on doing real things.\\nGraduating with a technical degree is like heading out into the real\\n108 The Pmarca Blog Archives\\nworld armed with an assault riGe instead of a dull knife. Don’t miss\\nthat opportunity because of some fuzzy romanticized view of\\nliberal arts broadening your horizons.\\nWhat graduate degrees are useful in the\\nreal world?\\nGenerally, if you have a useful undergrad degree, I think graduate degrees are overrated. You can usually hit the workforce in a\\nreal job with just an undergraduate degree and progress rapidly\\naccording to your own ability and energy from there.\\nOf course, you’re hearing this from someone who could barely\\nstand to stay in school long enough to Xnish undergrad, so take\\nthat for what it’s worth.\\nIf you don’t have a useful undergrad degree, then a use',\n",
              "  np.float64(0.221984)),\n",
              " ('of the time they can send an email that\\nyou can process at the end of the day during the second of your\\ntwo daily email sweeps.\\nHere’s the best part: you don’t actually have to be listening to\\nanything.\\nHell, you don’t even have to have the headphones plugged into\\nanything.\\nSleeping and Eating\\nI’m not going to talk a lot about getting up early or going to\\nbed late or anything else related to the course of a typical day,\\nbecause everyone’s diWerent.\\nPersonally I go back and forth between being a night owl (99% of\\nthe time) and a morning person (1% — I’m going to try to push\\nit to 2%).\\nBut the thing that matters almost more than anything in determining whether I’ll have a happy, satisfying day is this: no matter what time you get up, start the day with a real, sit-down\\nbreakfast.\\nThis serves two purposes.\\nFirst, it fuels you up. Study aaer study have shown that breakfast\\nis, yes, the most important meal of the day. It’s critical to properly fuel the body for the day’s activities and it’s',\n",
              "  np.float64(0.221452)),\n",
              " ('gher intensity, and bolder than many\\n(but not all!) of their predecessors — and in my view revitalizing\\nthe genre at a time when more new technologies that will radically reshape all our lives are incubating and percolating than\\never before.\\nSo, taking nothing away from authors like David Brin who have\\nlong been established and continue to produce top-notch work,\\nhere are my nominations for the top 10 new science Xction novelists of — more or less — the decade, plus one bonus.\\nAnd, they’re not all British.\\nCharles Stross\\nStross, in my opinion, is Xrst among equals — the single best\\nemerging talent with several outstanding novels in various styles\\nunder his belt and hopefully many more to come.\\n“One of us” in the sense that his career includes a stint as —\\nnot kidding — Linux columnist for Computer Shopper magazine,\\nStross is equally adept at both near-future and radically-extrap-\\nolated timeframes, and both hyper-serious and humorous\\nmoods.\\nGlasshouse is Stross’s latest book and perhap',\n",
              "  np.float64(0.220507)),\n",
              " ('pure research and education — do\\nnot have PhDs. Draw from that whatever conclusion you think\\nmakes sense.\\nWhat college or university should I go to?\\nTry very very hard to go to one of the best colleges or universities in the world for your chosen Xeld.\\nDon’t worry about being a small Fsh in a big pond — you want to\\nalways be in the best pond possible, because that’s how you will get\\nPart 2: Skills and education 109\\nexposed to the best people and the best opportunities in your\\nXeld.\\nIf you can’t start out in one of the top schools for your Xeld, then\\nwork your butt oW and get great grades and transfer as fast as\\nyou possibly can into a top school.\\nAnd if you can’t do that — if you end up getting your undergrad\\nat a school that’s not one of the top in your Xeld — then strongly\\nconsider pursuing a graduate degree in your Xeld at a great\\nschool for your Xeld.\\nIn this way, even if your only option is starting out at a community college, by the time you Xnish 4-6 years of education, you\\ncan ',\n",
              "  np.float64(0.219607)),\n",
              " (' illuminating (more on that later).\\nIn the book, Dr. Austin outlines his theory of the four kinds of\\nluck — or, as he calls it, chance; I will use the terms interchangeably.\\nFirst, he deXnes chance as follows:\\nChance… something fortuitous that happens unpredictably without\\ndiscernable human intention.\\nYup, that’s luck.\\nChance is unintentional, it is capricious, but we needn’t conclude\\nthat chance is immune from human interventions. However, one\\nmust be careful not to read any unconsciously purposeful intent\\ninto “interventions”… [which] are to be viewed as accidental,\\nunwilled, inadvertent, and unforseeable.\\nIndeed, chance plays several distinct roles when humans react creatively with one another and with their environment…\\nWe can observe chance arriving in four major forms and for four\\ndiWerent reasons. The principles involved aWect everyone.\\nHere’s where it helps to be a neurologist writing on this topic:\\nThe four kinds of chance each have a diWerent kind of motor\\nexploratory activit',\n",
              "  np.float64(0.219458)),\n",
              " ('ong those lines, some VCs are aggressive early adopters of\\nnew forms of communication and interaction — current examples being Facebook and Twitter. Observationally, when a VC is\\nexploring a new communiation medium like Facebook or Twitter, she can be more interested in interacting with various people over that new medium than she might otherwise be. So,\\nwhen such a new thing comes out — like, hint hint, Facebook or\\nTwitter — jump all over it, see which VCs are using it, and interact with them that way — sensibly, of course.\\nMore generally, it’s a good idea for entrepreneurs who are\\nlooking for funding to blog — about their startup, about interesting things going on, about their point of view. This puts an\\nentrepreneur in the Yow of conversation, which can lead to\\ninteraction with VCs through the normal medium of blogging.\\nAnd, when a VC does decide to take a look at you and your company, she can read your blog to get a sense of who you are and\\n22 The Pmarca Blog Archives\\nhow you think',\n",
              "  np.float64(0.219164)),\n",
              " ('u can withstand bad surprises. In other words, insurance. This is partic-\\nularly true for startups that have not yet achieved Product/\\nMarket Fit, since you have no real idea how long that will take.\\nThese answers all sound obvious, but in my experience, a surprising number of startups go out to raise funding and do not\\nhave an underlying theory of how much money they are raising\\nand for precisely what purpose they are raising it.\\nWhat if you can’t raise that much money at\\nonce?\\nObviously, many startups Xnd that they cannot raise enough\\nmoney at one time to accomplish these objectives — but I\\nbelieve this is still the correct underlying theory for how much\\nmoney a startup should raise and around which you should orient your thinking.\\nIf you are Before Product/Market Fit and you can’t raise\\nenough money in one shot to get to Product/Market Fit, then\\nyou will need get as far as you can on each round and demonstrate progress towards Product/Market Fit when you raise each\\nnew round.\\nIf you',\n",
              "  np.float64(0.218784)),\n",
              " ('e to start, Morgan’s Xrst and\\nperhaps most inventive novel, Robert Heinlein meets Raymond\\nChandler — and Xrst of a trio.\\n174 The Pmarca Blog Archives\\nBroken Angels is a strong followup that tilts more towards military Xction while still occupying the same universe.\\nWoken Furies completes the trilogy with more hard-boiled\\naction featuring a protagonist who has to Xght a younger, and\\nreally mean, version of himself, which he does not enjoy.\\nThirteen is undoubtedly Morgan’s best-written novel so far —\\nthis is an author whose skills are growing rapidly, and this book\\nshows it. Not oZcially released in the US yet (I just read the\\nBritish version, Black Man, renamed for US consumption), Thirteen is a near-future story of genetic engineering gone badly\\nwrong — a future version of all those classic paranoid political\\nthrillers of the 70’s but with a much harder edge. Highly recommended. Also very helpful re advising on things to think about\\nbefore booking your next trip back from Mars.\\nAlastai',\n",
              "  np.float64(0.218674))]"
            ]
          },
          "execution_count": 38,
          "metadata": {},
          "output_type": "execute_result"
        }
      ],
      "source": [
        "print(\" Calculated Minkowski distance \")\n",
        "\n",
        "vector_db.search_by_text(\n",
        "        \"What is the Michael Eisner Memorial Weak Executive Problem?\", \n",
        "        k=10, \n",
        "        distance_measure=minkowski_distance\n",
        "        )"
      ]
    },
    {
      "cell_type": "code",
      "execution_count": null,
      "metadata": {},
      "outputs": [],
      "source": []
    }
  ],
  "metadata": {
    "colab": {
      "provenance": []
    },
    "kernelspec": {
      "display_name": ".venv",
      "language": "python",
      "name": "python3"
    },
    "language_info": {
      "codemirror_mode": {
        "name": "ipython",
        "version": 3
      },
      "file_extension": ".py",
      "mimetype": "text/x-python",
      "name": "python",
      "nbconvert_exporter": "python",
      "pygments_lexer": "ipython3",
      "version": "3.9.0"
    },
    "orig_nbformat": 4,
    "widgets": {
      "application/vnd.jupyter.widget-state+json": {
        "1ce393d9afcf427d9d352259c5d32678": {
          "model_module": "@jupyter-widgets/controls",
          "model_module_version": "1.5.0",
          "model_name": "FloatProgressModel",
          "state": {
            "_dom_classes": [],
            "_model_module": "@jupyter-widgets/controls",
            "_model_module_version": "1.5.0",
            "_model_name": "FloatProgressModel",
            "_view_count": null,
            "_view_module": "@jupyter-widgets/controls",
            "_view_module_version": "1.5.0",
            "_view_name": "ProgressView",
            "bar_style": "",
            "description": "",
            "description_tooltip": null,
            "layout": "IPY_MODEL_4e6efd99f7d346e485b002fb0fa85cc7",
            "max": 1,
            "min": 0,
            "orientation": "horizontal",
            "style": "IPY_MODEL_3dfb67c39958461da6071e4c19c3fa41",
            "value": 1
          }
        },
        "3a4ba348cb004f8ab7b2b1395539c81b": {
          "model_module": "@jupyter-widgets/controls",
          "model_module_version": "1.5.0",
          "model_name": "LabelModel",
          "state": {
            "_dom_classes": [],
            "_model_module": "@jupyter-widgets/controls",
            "_model_module_version": "1.5.0",
            "_model_name": "LabelModel",
            "_view_count": null,
            "_view_module": "@jupyter-widgets/controls",
            "_view_module_version": "1.5.0",
            "_view_name": "LabelView",
            "description": "",
            "description_tooltip": null,
            "layout": "IPY_MODEL_d2ea5009dd16442cb5d8a0ac468e50a8",
            "placeholder": "​",
            "style": "IPY_MODEL_5f00135fe1044051a50ee5e841cbb8e3",
            "value": "0.018 MB of 0.018 MB uploaded\r"
          }
        },
        "3dfb67c39958461da6071e4c19c3fa41": {
          "model_module": "@jupyter-widgets/controls",
          "model_module_version": "1.5.0",
          "model_name": "ProgressStyleModel",
          "state": {
            "_model_module": "@jupyter-widgets/controls",
            "_model_module_version": "1.5.0",
            "_model_name": "ProgressStyleModel",
            "_view_count": null,
            "_view_module": "@jupyter-widgets/base",
            "_view_module_version": "1.2.0",
            "_view_name": "StyleView",
            "bar_color": null,
            "description_width": ""
          }
        },
        "4e6efd99f7d346e485b002fb0fa85cc7": {
          "model_module": "@jupyter-widgets/base",
          "model_module_version": "1.2.0",
          "model_name": "LayoutModel",
          "state": {
            "_model_module": "@jupyter-widgets/base",
            "_model_module_version": "1.2.0",
            "_model_name": "LayoutModel",
            "_view_count": null,
            "_view_module": "@jupyter-widgets/base",
            "_view_module_version": "1.2.0",
            "_view_name": "LayoutView",
            "align_content": null,
            "align_items": null,
            "align_self": null,
            "border": null,
            "bottom": null,
            "display": null,
            "flex": null,
            "flex_flow": null,
            "grid_area": null,
            "grid_auto_columns": null,
            "grid_auto_flow": null,
            "grid_auto_rows": null,
            "grid_column": null,
            "grid_gap": null,
            "grid_row": null,
            "grid_template_areas": null,
            "grid_template_columns": null,
            "grid_template_rows": null,
            "height": null,
            "justify_content": null,
            "justify_items": null,
            "left": null,
            "margin": null,
            "max_height": null,
            "max_width": null,
            "min_height": null,
            "min_width": null,
            "object_fit": null,
            "object_position": null,
            "order": null,
            "overflow": null,
            "overflow_x": null,
            "overflow_y": null,
            "padding": null,
            "right": null,
            "top": null,
            "visibility": null,
            "width": null
          }
        },
        "56a8e24025594e5e9ff3b8581c344691": {
          "model_module": "@jupyter-widgets/base",
          "model_module_version": "1.2.0",
          "model_name": "LayoutModel",
          "state": {
            "_model_module": "@jupyter-widgets/base",
            "_model_module_version": "1.2.0",
            "_model_name": "LayoutModel",
            "_view_count": null,
            "_view_module": "@jupyter-widgets/base",
            "_view_module_version": "1.2.0",
            "_view_name": "LayoutView",
            "align_content": null,
            "align_items": null,
            "align_self": null,
            "border": null,
            "bottom": null,
            "display": null,
            "flex": null,
            "flex_flow": null,
            "grid_area": null,
            "grid_auto_columns": null,
            "grid_auto_flow": null,
            "grid_auto_rows": null,
            "grid_column": null,
            "grid_gap": null,
            "grid_row": null,
            "grid_template_areas": null,
            "grid_template_columns": null,
            "grid_template_rows": null,
            "height": null,
            "justify_content": null,
            "justify_items": null,
            "left": null,
            "margin": null,
            "max_height": null,
            "max_width": null,
            "min_height": null,
            "min_width": null,
            "object_fit": null,
            "object_position": null,
            "order": null,
            "overflow": null,
            "overflow_x": null,
            "overflow_y": null,
            "padding": null,
            "right": null,
            "top": null,
            "visibility": null,
            "width": null
          }
        },
        "5f00135fe1044051a50ee5e841cbb8e3": {
          "model_module": "@jupyter-widgets/controls",
          "model_module_version": "1.5.0",
          "model_name": "DescriptionStyleModel",
          "state": {
            "_model_module": "@jupyter-widgets/controls",
            "_model_module_version": "1.5.0",
            "_model_name": "DescriptionStyleModel",
            "_view_count": null,
            "_view_module": "@jupyter-widgets/base",
            "_view_module_version": "1.2.0",
            "_view_name": "StyleView",
            "description_width": ""
          }
        },
        "bb904e05ece143c79ecc4f20de482f45": {
          "model_module": "@jupyter-widgets/controls",
          "model_module_version": "1.5.0",
          "model_name": "VBoxModel",
          "state": {
            "_dom_classes": [],
            "_model_module": "@jupyter-widgets/controls",
            "_model_module_version": "1.5.0",
            "_model_name": "VBoxModel",
            "_view_count": null,
            "_view_module": "@jupyter-widgets/controls",
            "_view_module_version": "1.5.0",
            "_view_name": "VBoxView",
            "box_style": "",
            "children": [
              "IPY_MODEL_3a4ba348cb004f8ab7b2b1395539c81b",
              "IPY_MODEL_1ce393d9afcf427d9d352259c5d32678"
            ],
            "layout": "IPY_MODEL_56a8e24025594e5e9ff3b8581c344691"
          }
        },
        "d2ea5009dd16442cb5d8a0ac468e50a8": {
          "model_module": "@jupyter-widgets/base",
          "model_module_version": "1.2.0",
          "model_name": "LayoutModel",
          "state": {
            "_model_module": "@jupyter-widgets/base",
            "_model_module_version": "1.2.0",
            "_model_name": "LayoutModel",
            "_view_count": null,
            "_view_module": "@jupyter-widgets/base",
            "_view_module_version": "1.2.0",
            "_view_name": "LayoutView",
            "align_content": null,
            "align_items": null,
            "align_self": null,
            "border": null,
            "bottom": null,
            "display": null,
            "flex": null,
            "flex_flow": null,
            "grid_area": null,
            "grid_auto_columns": null,
            "grid_auto_flow": null,
            "grid_auto_rows": null,
            "grid_column": null,
            "grid_gap": null,
            "grid_row": null,
            "grid_template_areas": null,
            "grid_template_columns": null,
            "grid_template_rows": null,
            "height": null,
            "justify_content": null,
            "justify_items": null,
            "left": null,
            "margin": null,
            "max_height": null,
            "max_width": null,
            "min_height": null,
            "min_width": null,
            "object_fit": null,
            "object_position": null,
            "order": null,
            "overflow": null,
            "overflow_x": null,
            "overflow_y": null,
            "padding": null,
            "right": null,
            "top": null,
            "visibility": null,
            "width": null
          }
        }
      }
    }
  },
  "nbformat": 4,
  "nbformat_minor": 0
}
