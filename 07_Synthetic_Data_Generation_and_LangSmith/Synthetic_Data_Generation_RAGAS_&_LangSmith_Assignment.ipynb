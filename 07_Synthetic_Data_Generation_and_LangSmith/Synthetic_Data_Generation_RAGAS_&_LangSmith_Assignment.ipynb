{
 "cells": [
  {
   "cell_type": "markdown",
   "metadata": {
    "id": "sCk2Rx4cjlYF"
   },
   "source": [
    "# Synthetic Data Generation Using RAGAS - RAG Evaluation with LangSmith\n",
    "\n",
    "In the following notebook we'll explore a use-case for RAGAS' synthetic testset generation workflow!\n",
    "\n",
    "\n",
    "\n",
    "- 🤝 BREAKOUT ROOM #1\n",
    "  1. Use RAGAS to Generate Synthetic Data\n",
    "\n",
    "- 🤝 BREAKOUT ROOM #2\n",
    "  1. Load them into a LangSmith Dataset\n",
    "  2. Evaluate our RAG chain against the synthetic test data\n",
    "  3. Make changes to our pipeline\n",
    "  4. Evaluate the modified pipeline\n",
    "\n",
    "SDG is a critical piece of the puzzle, especially for early iteration! Without it, it would not be nearly as easy to get high quality early signal for our application's performance.\n",
    "\n",
    "Let's dive in!"
   ]
  },
  {
   "cell_type": "markdown",
   "metadata": {
    "id": "5bG2ta-B478G"
   },
   "source": [
    "# 🤝 BREAKOUT ROOM #1"
   ]
  },
  {
   "cell_type": "markdown",
   "metadata": {
    "id": "7VUI7vF_kbv9"
   },
   "source": [
    "## Task 1: Dependencies and API Keys\n",
    "\n",
    "We'll need to install a number of API keys and dependencies, since we'll be leveraging a number of great technologies for this pipeline!\n",
    "\n",
    "1. OpenAI's endpoints to handle the Synthetic Data Generation\n",
    "2. OpenAI's Endpoints for our RAG pipeline and LangSmith evaluation\n",
    "3. QDrant as our vectorstore\n",
    "4. LangSmith for our evaluation coordinator!\n",
    "\n",
    "Let's install and provide all the required information below!"
   ]
  },
  {
   "cell_type": "markdown",
   "metadata": {},
   "source": [
    "## Dependencies and API Keys:\n",
    "\n",
    "> NOTE: DO NOT RUN THESE CELLS IF YOU ARE RUNNING THIS NOTEBOOK LOCALLY"
   ]
  },
  {
   "cell_type": "code",
   "execution_count": 28,
   "metadata": {},
   "outputs": [
    {
     "name": "stderr",
     "output_type": "stream",
     "text": [
      "\n",
      "[notice] A new release of pip is available: 24.3.1 -> 25.0\n",
      "[notice] To update, run: C:\\Python313\\python.exe -m pip install --upgrade pip\n"
     ]
    }
   ],
   "source": [
    "!pip install -qU ragas==0.2.10"
   ]
  },
  {
   "cell_type": "code",
   "execution_count": 2,
   "metadata": {},
   "outputs": [
    {
     "name": "stderr",
     "output_type": "stream",
     "text": [
      "\n",
      "[notice] A new release of pip is available: 24.3.1 -> 25.0\n",
      "[notice] To update, run: C:\\Python313\\python.exe -m pip install --upgrade pip\n"
     ]
    }
   ],
   "source": [
    "!pip install -qU langchain-community==0.3.14"
   ]
  },
  {
   "cell_type": "code",
   "execution_count": 3,
   "metadata": {},
   "outputs": [
    {
     "name": "stderr",
     "output_type": "stream",
     "text": [
      "\n",
      "[notice] A new release of pip is available: 24.3.1 -> 25.0\n",
      "[notice] To update, run: C:\\Python313\\python.exe -m pip install --upgrade pip\n"
     ]
    }
   ],
   "source": [
    "!pip install -qU  langchain-openai==0.2.14 "
   ]
  },
  {
   "cell_type": "code",
   "execution_count": 7,
   "metadata": {},
   "outputs": [
    {
     "name": "stdout",
     "output_type": "stream",
     "text": [
      "Defaulting to user installation because normal site-packages is not writeable"
     ]
    },
    {
     "name": "stderr",
     "output_type": "stream",
     "text": [
      "  WARNING: The script filetype.exe is installed in 'C:\\Users\\dabra\\AppData\\Roaming\\Python\\Python313\\Scripts' which is not on PATH.\n",
      "  Consider adding this directory to PATH or, if you prefer to suppress this warning, use --no-warn-script-location.\n",
      "  WARNING: The script tabulate.exe is installed in 'C:\\Users\\dabra\\AppData\\Roaming\\Python\\Python313\\Scripts' which is not on PATH.\n",
      "  Consider adding this directory to PATH or, if you prefer to suppress this warning, use --no-warn-script-location.\n",
      "  WARNING: The script chardetect.exe is installed in 'C:\\Users\\dabra\\AppData\\Roaming\\Python\\Python313\\Scripts' which is not on PATH.\n",
      "  Consider adding this directory to PATH or, if you prefer to suppress this warning, use --no-warn-script-location.\n",
      "  WARNING: The script nltk.exe is installed in 'C:\\Users\\dabra\\AppData\\Roaming\\Python\\Python313\\Scripts' which is not on PATH.\n",
      "  Consider adding this directory to PATH or, if you prefer to suppress this warning, use --no-warn-script-location.\n",
      "  WARNING: The script unstructured-ingest.exe is installed in 'C:\\Users\\dabra\\AppData\\Roaming\\Python\\Python313\\Scripts' which is not on PATH.\n",
      "  Consider adding this directory to PATH or, if you prefer to suppress this warning, use --no-warn-script-location.\n",
      "\n",
      "[notice] A new release of pip is available: 24.3.1 -> 25.0\n",
      "[notice] To update, run: C:\\Python313\\python.exe -m pip install --upgrade pip\n"
     ]
    },
    {
     "name": "stdout",
     "output_type": "stream",
     "text": [
      "\n",
      "Collecting unstructured\n",
      "  Downloading unstructured-0.11.8-py3-none-any.whl.metadata (26 kB)\n",
      "Collecting chardet (from unstructured)\n",
      "  Downloading chardet-5.2.0-py3-none-any.whl.metadata (3.4 kB)\n",
      "Collecting filetype (from unstructured)\n",
      "  Using cached filetype-1.2.0-py2.py3-none-any.whl.metadata (6.5 kB)\n",
      "Collecting python-magic (from unstructured)\n",
      "  Using cached python_magic-0.4.27-py2.py3-none-any.whl.metadata (5.8 kB)\n",
      "Collecting lxml (from unstructured)\n",
      "  Downloading lxml-5.3.0-cp313-cp313-win_amd64.whl.metadata (3.9 kB)\n",
      "Collecting nltk (from unstructured)\n",
      "  Downloading nltk-3.9.1-py3-none-any.whl.metadata (2.9 kB)\n",
      "Collecting tabulate (from unstructured)\n",
      "  Downloading tabulate-0.9.0-py3-none-any.whl.metadata (34 kB)\n",
      "Requirement already satisfied: requests in c:\\users\\dabra\\appdata\\roaming\\python\\python313\\site-packages (from unstructured) (2.32.3)\n",
      "Collecting beautifulsoup4 (from unstructured)\n",
      "  Downloading beautifulsoup4-4.13.3-py3-none-any.whl.metadata (3.8 kB)\n",
      "Collecting emoji (from unstructured)\n",
      "  Using cached emoji-2.14.1-py3-none-any.whl.metadata (5.7 kB)\n",
      "Requirement already satisfied: dataclasses-json in c:\\users\\dabra\\appdata\\roaming\\python\\python313\\site-packages (from unstructured) (0.6.7)\n",
      "Collecting python-iso639 (from unstructured)\n",
      "  Using cached python_iso639-2025.1.28-py3-none-any.whl.metadata (13 kB)\n",
      "Collecting langdetect (from unstructured)\n",
      "  Using cached langdetect-1.0.9.tar.gz (981 kB)\n",
      "  Installing build dependencies: started\n",
      "  Installing build dependencies: finished with status 'done'\n",
      "  Getting requirements to build wheel: started\n",
      "  Getting requirements to build wheel: finished with status 'done'\n",
      "  Preparing metadata (pyproject.toml): started\n",
      "  Preparing metadata (pyproject.toml): finished with status 'done'\n",
      "Requirement already satisfied: numpy in c:\\users\\dabra\\appdata\\roaming\\python\\python313\\site-packages (from unstructured) (2.2.2)\n",
      "Collecting rapidfuzz (from unstructured)\n",
      "  Downloading rapidfuzz-3.12.1-cp313-cp313-win_amd64.whl.metadata (11 kB)\n",
      "Collecting backoff (from unstructured)\n",
      "  Using cached backoff-2.2.1-py3-none-any.whl.metadata (14 kB)\n",
      "Requirement already satisfied: typing-extensions in c:\\users\\dabra\\appdata\\roaming\\python\\python313\\site-packages (from unstructured) (4.12.2)\n",
      "Collecting unstructured-client (from unstructured)\n",
      "  Using cached unstructured_client-0.29.0-py3-none-any.whl.metadata (20 kB)\n",
      "Collecting wrapt (from unstructured)\n",
      "  Downloading wrapt-1.17.2-cp313-cp313-win_amd64.whl.metadata (6.5 kB)\n",
      "Collecting soupsieve>1.2 (from beautifulsoup4->unstructured)\n",
      "  Downloading soupsieve-2.6-py3-none-any.whl.metadata (4.6 kB)\n",
      "Requirement already satisfied: marshmallow<4.0.0,>=3.18.0 in c:\\users\\dabra\\appdata\\roaming\\python\\python313\\site-packages (from dataclasses-json->unstructured) (3.26.1)\n",
      "Requirement already satisfied: typing-inspect<1,>=0.4.0 in c:\\users\\dabra\\appdata\\roaming\\python\\python313\\site-packages (from dataclasses-json->unstructured) (0.9.0)\n",
      "Requirement already satisfied: six in c:\\users\\dabra\\appdata\\roaming\\python\\python313\\site-packages (from langdetect->unstructured) (1.17.0)\n",
      "Collecting click (from nltk->unstructured)\n",
      "  Using cached click-8.1.8-py3-none-any.whl.metadata (2.3 kB)\n",
      "Collecting joblib (from nltk->unstructured)\n",
      "  Downloading joblib-1.4.2-py3-none-any.whl.metadata (5.4 kB)\n",
      "Requirement already satisfied: regex>=2021.8.3 in c:\\users\\dabra\\appdata\\roaming\\python\\python313\\site-packages (from nltk->unstructured) (2024.11.6)\n",
      "Requirement already satisfied: tqdm in c:\\users\\dabra\\appdata\\roaming\\python\\python313\\site-packages (from nltk->unstructured) (4.67.1)\n",
      "Requirement already satisfied: charset-normalizer<4,>=2 in c:\\users\\dabra\\appdata\\roaming\\python\\python313\\site-packages (from requests->unstructured) (3.4.1)\n",
      "Requirement already satisfied: idna<4,>=2.5 in c:\\users\\dabra\\appdata\\roaming\\python\\python313\\site-packages (from requests->unstructured) (3.10)\n",
      "Requirement already satisfied: urllib3<3,>=1.21.1 in c:\\users\\dabra\\appdata\\roaming\\python\\python313\\site-packages (from requests->unstructured) (2.3.0)\n",
      "Requirement already satisfied: certifi>=2017.4.17 in c:\\users\\dabra\\appdata\\roaming\\python\\python313\\site-packages (from requests->unstructured) (2025.1.31)\n",
      "Collecting aiofiles>=24.1.0 (from unstructured-client->unstructured)\n",
      "  Using cached aiofiles-24.1.0-py3-none-any.whl.metadata (10 kB)\n",
      "Collecting cryptography>=3.1 (from unstructured-client->unstructured)\n",
      "  Downloading cryptography-44.0.0-cp39-abi3-win_amd64.whl.metadata (5.7 kB)\n",
      "Collecting eval-type-backport<0.3.0,>=0.2.0 (from unstructured-client->unstructured)\n",
      "  Using cached eval_type_backport-0.2.2-py3-none-any.whl.metadata (2.2 kB)\n",
      "Requirement already satisfied: httpx>=0.27.0 in c:\\users\\dabra\\appdata\\roaming\\python\\python313\\site-packages (from unstructured-client->unstructured) (0.28.1)\n",
      "Collecting jsonpath-python<2.0.0,>=1.0.6 (from unstructured-client->unstructured)\n",
      "  Using cached jsonpath_python-1.0.6-py3-none-any.whl.metadata (12 kB)\n",
      "Requirement already satisfied: nest-asyncio>=1.6.0 in c:\\users\\dabra\\appdata\\roaming\\python\\python313\\site-packages (from unstructured-client->unstructured) (1.6.0)\n",
      "Requirement already satisfied: pydantic<2.11.0,>=2.10.3 in c:\\users\\dabra\\appdata\\roaming\\python\\python313\\site-packages (from unstructured-client->unstructured) (2.10.6)\n",
      "Collecting pypdf>=4.0 (from unstructured-client->unstructured)\n",
      "  Using cached pypdf-5.2.0-py3-none-any.whl.metadata (7.2 kB)\n",
      "Requirement already satisfied: python-dateutil<3.0.0,>=2.8.2 in c:\\users\\dabra\\appdata\\roaming\\python\\python313\\site-packages (from unstructured-client->unstructured) (2.9.0.post0)\n",
      "Requirement already satisfied: requests-toolbelt>=1.0.0 in c:\\users\\dabra\\appdata\\roaming\\python\\python313\\site-packages (from unstructured-client->unstructured) (1.0.0)\n",
      "Collecting cffi>=1.12 (from cryptography>=3.1->unstructured-client->unstructured)\n",
      "  Downloading cffi-1.17.1-cp313-cp313-win_amd64.whl.metadata (1.6 kB)\n",
      "Requirement already satisfied: anyio in c:\\users\\dabra\\appdata\\roaming\\python\\python313\\site-packages (from httpx>=0.27.0->unstructured-client->unstructured) (4.8.0)\n",
      "Requirement already satisfied: httpcore==1.* in c:\\users\\dabra\\appdata\\roaming\\python\\python313\\site-packages (from httpx>=0.27.0->unstructured-client->unstructured) (1.0.7)\n",
      "Requirement already satisfied: h11<0.15,>=0.13 in c:\\users\\dabra\\appdata\\roaming\\python\\python313\\site-packages (from httpcore==1.*->httpx>=0.27.0->unstructured-client->unstructured) (0.14.0)\n",
      "Requirement already satisfied: packaging>=17.0 in c:\\users\\dabra\\appdata\\roaming\\python\\python313\\site-packages (from marshmallow<4.0.0,>=3.18.0->dataclasses-json->unstructured) (24.2)\n",
      "Requirement already satisfied: annotated-types>=0.6.0 in c:\\users\\dabra\\appdata\\roaming\\python\\python313\\site-packages (from pydantic<2.11.0,>=2.10.3->unstructured-client->unstructured) (0.7.0)\n",
      "Requirement already satisfied: pydantic-core==2.27.2 in c:\\users\\dabra\\appdata\\roaming\\python\\python313\\site-packages (from pydantic<2.11.0,>=2.10.3->unstructured-client->unstructured) (2.27.2)\n",
      "Requirement already satisfied: mypy-extensions>=0.3.0 in c:\\users\\dabra\\appdata\\roaming\\python\\python313\\site-packages (from typing-inspect<1,>=0.4.0->dataclasses-json->unstructured) (1.0.0)\n",
      "Requirement already satisfied: colorama in c:\\users\\dabra\\appdata\\roaming\\python\\python313\\site-packages (from click->nltk->unstructured) (0.4.6)\n",
      "Collecting pycparser (from cffi>=1.12->cryptography>=3.1->unstructured-client->unstructured)\n",
      "  Downloading pycparser-2.22-py3-none-any.whl.metadata (943 bytes)\n",
      "Requirement already satisfied: sniffio>=1.1 in c:\\users\\dabra\\appdata\\roaming\\python\\python313\\site-packages (from anyio->httpx>=0.27.0->unstructured-client->unstructured) (1.3.1)\n",
      "Downloading unstructured-0.11.8-py3-none-any.whl (1.8 MB)\n",
      "   ---------------------------------------- 0.0/1.8 MB ? eta -:--:--\n",
      "   ---------------------------------------- 1.8/1.8 MB 24.5 MB/s eta 0:00:00\n",
      "Using cached backoff-2.2.1-py3-none-any.whl (15 kB)\n",
      "Downloading beautifulsoup4-4.13.3-py3-none-any.whl (186 kB)\n",
      "Downloading chardet-5.2.0-py3-none-any.whl (199 kB)\n",
      "Using cached emoji-2.14.1-py3-none-any.whl (590 kB)\n",
      "Using cached filetype-1.2.0-py2.py3-none-any.whl (19 kB)\n",
      "Downloading lxml-5.3.0-cp313-cp313-win_amd64.whl (3.8 MB)\n",
      "   ---------------------------------------- 0.0/3.8 MB ? eta -:--:--\n",
      "   ---------------------------------------- 3.8/3.8 MB 35.1 MB/s eta 0:00:00\n",
      "Downloading nltk-3.9.1-py3-none-any.whl (1.5 MB)\n",
      "   ---------------------------------------- 0.0/1.5 MB ? eta -:--:--\n",
      "   ---------------------------------------- 1.5/1.5 MB 25.5 MB/s eta 0:00:00\n",
      "Using cached python_iso639-2025.1.28-py3-none-any.whl (166 kB)\n",
      "Using cached python_magic-0.4.27-py2.py3-none-any.whl (13 kB)\n",
      "Downloading rapidfuzz-3.12.1-cp313-cp313-win_amd64.whl (1.6 MB)\n",
      "   ---------------------------------------- 0.0/1.6 MB ? eta -:--:--\n",
      "   ---------------------------------------- 1.6/1.6 MB 24.0 MB/s eta 0:00:00\n",
      "Downloading tabulate-0.9.0-py3-none-any.whl (35 kB)\n",
      "Using cached unstructured_client-0.29.0-py3-none-any.whl (63 kB)\n",
      "Downloading wrapt-1.17.2-cp313-cp313-win_amd64.whl (38 kB)\n",
      "Using cached aiofiles-24.1.0-py3-none-any.whl (15 kB)\n",
      "Downloading cryptography-44.0.0-cp39-abi3-win_amd64.whl (3.2 MB)\n",
      "   ---------------------------------------- 0.0/3.2 MB ? eta -:--:--\n",
      "   ---------------------------------------- 3.2/3.2 MB 24.1 MB/s eta 0:00:00\n",
      "Using cached eval_type_backport-0.2.2-py3-none-any.whl (5.8 kB)\n",
      "Using cached jsonpath_python-1.0.6-py3-none-any.whl (7.6 kB)\n",
      "Using cached pypdf-5.2.0-py3-none-any.whl (298 kB)\n",
      "Downloading soupsieve-2.6-py3-none-any.whl (36 kB)\n",
      "Using cached click-8.1.8-py3-none-any.whl (98 kB)\n",
      "Downloading joblib-1.4.2-py3-none-any.whl (301 kB)\n",
      "Downloading cffi-1.17.1-cp313-cp313-win_amd64.whl (182 kB)\n",
      "Downloading pycparser-2.22-py3-none-any.whl (117 kB)\n",
      "Building wheels for collected packages: langdetect\n",
      "  Building wheel for langdetect (pyproject.toml): started\n",
      "  Building wheel for langdetect (pyproject.toml): finished with status 'done'\n",
      "  Created wheel for langdetect: filename=langdetect-1.0.9-py3-none-any.whl size=993313 sha256=c183d00c21e961f6e586032cf24863cca870962856864bb9e8aff4061098c115\n",
      "  Stored in directory: c:\\users\\dabra\\appdata\\local\\pip\\cache\\wheels\\eb\\87\\25\\2dddf1c94e1786054e25022ec5530bfed52bad86d882999c48\n",
      "Successfully built langdetect\n",
      "Installing collected packages: filetype, wrapt, tabulate, soupsieve, rapidfuzz, python-magic, python-iso639, pypdf, pycparser, lxml, langdetect, jsonpath-python, joblib, eval-type-backport, emoji, click, chardet, backoff, aiofiles, nltk, cffi, beautifulsoup4, cryptography, unstructured-client, unstructured\n",
      "Successfully installed aiofiles-24.1.0 backoff-2.2.1 beautifulsoup4-4.13.3 cffi-1.17.1 chardet-5.2.0 click-8.1.8 cryptography-44.0.0 emoji-2.14.1 eval-type-backport-0.2.2 filetype-1.2.0 joblib-1.4.2 jsonpath-python-1.0.6 langdetect-1.0.9 lxml-5.3.0 nltk-3.9.1 pycparser-2.22 pypdf-5.2.0 python-iso639-2025.1.28 python-magic-0.4.27 rapidfuzz-3.12.1 soupsieve-2.6 tabulate-0.9.0 unstructured-0.11.8 unstructured-client-0.29.0 wrapt-1.17.2\n"
     ]
    }
   ],
   "source": [
    "!pip install unstructured"
   ]
  },
  {
   "cell_type": "code",
   "execution_count": 8,
   "metadata": {},
   "outputs": [
    {
     "name": "stderr",
     "output_type": "stream",
     "text": [
      "\n",
      "[notice] A new release of pip is available: 24.3.1 -> 25.0\n",
      "[notice] To update, run: C:\\Python313\\python.exe -m pip install --upgrade pip\n"
     ]
    }
   ],
   "source": [
    "!pip install -qU langgraph==0.2.61 langchain-qdrant==0.2.0"
   ]
  },
  {
   "cell_type": "code",
   "execution_count": 9,
   "metadata": {},
   "outputs": [],
   "source": [
    "import os\n",
    "import getpass\n",
    "\n",
    "os.environ[\"LANGCHAIN_TRACING_V2\"] = \"true\"\n",
    "os.environ[\"LANGCHAIN_API_KEY\"] = getpass.getpass(\"LangChain API Key:\")"
   ]
  },
  {
   "cell_type": "markdown",
   "metadata": {},
   "source": [
    "We'll also want to set a project name to make things easier for ourselves."
   ]
  },
  {
   "cell_type": "code",
   "execution_count": 10,
   "metadata": {},
   "outputs": [],
   "source": [
    "from uuid import uuid4\n",
    "\n",
    "os.environ[\"LANGCHAIN_PROJECT\"] = f\"AIM - SDG - {uuid4().hex[0:8]}\""
   ]
  },
  {
   "cell_type": "markdown",
   "metadata": {},
   "source": [
    "OpenAI's API Key!"
   ]
  },
  {
   "cell_type": "code",
   "execution_count": 11,
   "metadata": {},
   "outputs": [],
   "source": [
    "os.environ[\"OPENAI_API_KEY\"] = getpass.getpass(\"OpenAI API Key:\")"
   ]
  },
  {
   "cell_type": "markdown",
   "metadata": {},
   "source": [
    "## Generating Synthetic Test Data\n",
    "\n",
    "We wil be using Ragas to build out a set of synthetic test questions, references, and reference contexts. This is useful because it will allow us to find out how our system is performing.\n",
    "\n",
    "> NOTE: Ragas is best suited for finding *directional* changes in your LLM-based systems. The absolute scores aren't comparable in a vacuum."
   ]
  },
  {
   "cell_type": "markdown",
   "metadata": {},
   "source": [
    "### Data Preparation\n",
    "\n",
    "We'll prepare our data - and download our webpages which we'll be using for our data today.\n",
    "\n",
    "These webpages are from [Simon Willison's](https://simonwillison.net/) yearly \"AI learnings\".\n",
    "\n",
    "- [2023 Blog](https://simonwillison.net/2023/Dec/31/ai-in-2023/)\n",
    "- [2024 Blog](https://simonwillison.net/2024/Dec/31/llms-in-2024/)\n",
    "\n",
    "Let's start by collecting our data into a useful pile!"
   ]
  },
  {
   "cell_type": "code",
   "execution_count": 12,
   "metadata": {},
   "outputs": [
    {
     "name": "stderr",
     "output_type": "stream",
     "text": [
      "A subdirectory or file data already exists.\n"
     ]
    }
   ],
   "source": [
    "!mkdir data"
   ]
  },
  {
   "cell_type": "code",
   "execution_count": 47,
   "metadata": {},
   "outputs": [
    {
     "name": "stderr",
     "output_type": "stream",
     "text": [
      "  % Total    % Received % Xferd  Average Speed   Time    Time     Time  Current\n",
      "                                 Dload  Upload   Total   Spent    Left  Speed\n",
      "\n",
      "  0     0    0     0    0     0      0      0 --:--:-- --:--:-- --:--:--     0\n",
      "  0     0    0     0    0     0      0      0 --:--:-- --:--:-- --:--:--     0\n",
      "curl: (35) schannel: next InitializeSecurityContext failed: CRYPT_E_NO_REVOCATION_CHECK (0x80092012) - The revocation function was unable to check revocation for the certificate.\n"
     ]
    }
   ],
   "source": [
    "!curl https://simonwillison.net/2023/Dec/31/ai-in-2023/ -o data/2023_llms.html"
   ]
  },
  {
   "cell_type": "code",
   "execution_count": 48,
   "metadata": {},
   "outputs": [
    {
     "name": "stderr",
     "output_type": "stream",
     "text": [
      "  % Total    % Received % Xferd  Average Speed   Time    Time     Time  Current\n",
      "                                 Dload  Upload   Total   Spent    Left  Speed\n",
      "\n",
      "  0     0    0     0    0     0      0      0 --:--:-- --:--:-- --:--:--     0\n",
      "  0     0    0     0    0     0      0      0 --:--:-- --:--:-- --:--:--     0\n",
      "  0     0    0     0    0     0      0      0 --:--:-- --:--:-- --:--:--     0\n",
      "curl: (35) schannel: next InitializeSecurityContext failed: CRYPT_E_NO_REVOCATION_CHECK (0x80092012) - The revocation function was unable to check revocation for the certificate.\n"
     ]
    }
   ],
   "source": [
    "!curl https://simonwillison.net/2024/Dec/31/llms-in-2024/ -o data/2024_llms.html"
   ]
  },
  {
   "cell_type": "markdown",
   "metadata": {},
   "source": [
    "Next, let's load our data into a familiar LangChain format using the `DirectoryLoader`."
   ]
  },
  {
   "cell_type": "code",
   "execution_count": 16,
   "metadata": {},
   "outputs": [
    {
     "name": "stdout",
     "output_type": "stream",
     "text": [
      "Defaulting to user installation because normal site-packages is not writeable\n",
      "Requirement already satisfied: unstructured in c:\\users\\dabra\\appdata\\roaming\\python\\python313\\site-packages (0.11.8)\n",
      "Requirement already satisfied: chardet in c:\\users\\dabra\\appdata\\roaming\\python\\python313\\site-packages (from unstructured) (5.2.0)\n",
      "Requirement already satisfied: filetype in c:\\users\\dabra\\appdata\\roaming\\python\\python313\\site-packages (from unstructured) (1.2.0)\n",
      "Requirement already satisfied: python-magic in c:\\users\\dabra\\appdata\\roaming\\python\\python313\\site-packages (from unstructured) (0.4.27)\n",
      "Requirement already satisfied: lxml in c:\\users\\dabra\\appdata\\roaming\\python\\python313\\site-packages (from unstructured) (5.3.0)\n",
      "Requirement already satisfied: nltk in c:\\users\\dabra\\appdata\\roaming\\python\\python313\\site-packages (from unstructured) (3.9.1)\n",
      "Requirement already satisfied: tabulate in c:\\users\\dabra\\appdata\\roaming\\python\\python313\\site-packages (from unstructured) (0.9.0)\n",
      "Requirement already satisfied: requests in c:\\users\\dabra\\appdata\\roaming\\python\\python313\\site-packages (from unstructured) (2.32.3)\n",
      "Requirement already satisfied: beautifulsoup4 in c:\\users\\dabra\\appdata\\roaming\\python\\python313\\site-packages (from unstructured) (4.13.3)\n",
      "Requirement already satisfied: emoji in c:\\users\\dabra\\appdata\\roaming\\python\\python313\\site-packages (from unstructured) (2.14.1)\n",
      "Requirement already satisfied: dataclasses-json in c:\\users\\dabra\\appdata\\roaming\\python\\python313\\site-packages (from unstructured) (0.6.7)\n",
      "Requirement already satisfied: python-iso639 in c:\\users\\dabra\\appdata\\roaming\\python\\python313\\site-packages (from unstructured) (2025.1.28)\n",
      "Requirement already satisfied: langdetect in c:\\users\\dabra\\appdata\\roaming\\python\\python313\\site-packages (from unstructured) (1.0.9)\n",
      "Requirement already satisfied: numpy in c:\\users\\dabra\\appdata\\roaming\\python\\python313\\site-packages (from unstructured) (2.2.2)\n",
      "Requirement already satisfied: rapidfuzz in c:\\users\\dabra\\appdata\\roaming\\python\\python313\\site-packages (from unstructured) (3.12.1)\n",
      "Requirement already satisfied: backoff in c:\\users\\dabra\\appdata\\roaming\\python\\python313\\site-packages (from unstructured) (2.2.1)\n",
      "Requirement already satisfied: typing-extensions in c:\\users\\dabra\\appdata\\roaming\\python\\python313\\site-packages (from unstructured) (4.12.2)\n",
      "Requirement already satisfied: unstructured-client in c:\\users\\dabra\\appdata\\roaming\\python\\python313\\site-packages (from unstructured) (0.29.0)\n",
      "Requirement already satisfied: wrapt in c:\\users\\dabra\\appdata\\roaming\\python\\python313\\site-packages (from unstructured) (1.17.2)\n",
      "Requirement already satisfied: soupsieve>1.2 in c:\\users\\dabra\\appdata\\roaming\\python\\python313\\site-packages (from beautifulsoup4->unstructured) (2.6)\n",
      "Requirement already satisfied: marshmallow<4.0.0,>=3.18.0 in c:\\users\\dabra\\appdata\\roaming\\python\\python313\\site-packages (from dataclasses-json->unstructured) (3.26.1)\n",
      "Requirement already satisfied: typing-inspect<1,>=0.4.0 in c:\\users\\dabra\\appdata\\roaming\\python\\python313\\site-packages (from dataclasses-json->unstructured) (0.9.0)\n",
      "Requirement already satisfied: six in c:\\users\\dabra\\appdata\\roaming\\python\\python313\\site-packages (from langdetect->unstructured) (1.17.0)\n",
      "Requirement already satisfied: click in c:\\users\\dabra\\appdata\\roaming\\python\\python313\\site-packages (from nltk->unstructured) (8.1.8)\n",
      "Requirement already satisfied: joblib in c:\\users\\dabra\\appdata\\roaming\\python\\python313\\site-packages (from nltk->unstructured) (1.4.2)\n",
      "Requirement already satisfied: regex>=2021.8.3 in c:\\users\\dabra\\appdata\\roaming\\python\\python313\\site-packages (from nltk->unstructured) (2024.11.6)\n",
      "Requirement already satisfied: tqdm in c:\\users\\dabra\\appdata\\roaming\\python\\python313\\site-packages (from nltk->unstructured) (4.67.1)\n",
      "Requirement already satisfied: charset-normalizer<4,>=2 in c:\\users\\dabra\\appdata\\roaming\\python\\python313\\site-packages (from requests->unstructured) (3.4.1)\n",
      "Requirement already satisfied: idna<4,>=2.5 in c:\\users\\dabra\\appdata\\roaming\\python\\python313\\site-packages (from requests->unstructured) (3.10)\n",
      "Requirement already satisfied: urllib3<3,>=1.21.1 in c:\\users\\dabra\\appdata\\roaming\\python\\python313\\site-packages (from requests->unstructured) (2.3.0)\n",
      "Requirement already satisfied: certifi>=2017.4.17 in c:\\users\\dabra\\appdata\\roaming\\python\\python313\\site-packages (from requests->unstructured) (2025.1.31)\n",
      "Requirement already satisfied: aiofiles>=24.1.0 in c:\\users\\dabra\\appdata\\roaming\\python\\python313\\site-packages (from unstructured-client->unstructured) (24.1.0)\n",
      "Requirement already satisfied: cryptography>=3.1 in c:\\users\\dabra\\appdata\\roaming\\python\\python313\\site-packages (from unstructured-client->unstructured) (44.0.0)\n",
      "Requirement already satisfied: eval-type-backport<0.3.0,>=0.2.0 in c:\\users\\dabra\\appdata\\roaming\\python\\python313\\site-packages (from unstructured-client->unstructured) (0.2.2)\n",
      "Requirement already satisfied: httpx>=0.27.0 in c:\\users\\dabra\\appdata\\roaming\\python\\python313\\site-packages (from unstructured-client->unstructured) (0.28.1)\n",
      "Requirement already satisfied: jsonpath-python<2.0.0,>=1.0.6 in c:\\users\\dabra\\appdata\\roaming\\python\\python313\\site-packages (from unstructured-client->unstructured) (1.0.6)\n",
      "Requirement already satisfied: nest-asyncio>=1.6.0 in c:\\users\\dabra\\appdata\\roaming\\python\\python313\\site-packages (from unstructured-client->unstructured) (1.6.0)\n",
      "Requirement already satisfied: pydantic<2.11.0,>=2.10.3 in c:\\users\\dabra\\appdata\\roaming\\python\\python313\\site-packages (from unstructured-client->unstructured) (2.10.6)\n",
      "Requirement already satisfied: pypdf>=4.0 in c:\\users\\dabra\\appdata\\roaming\\python\\python313\\site-packages (from unstructured-client->unstructured) (5.2.0)\n",
      "Requirement already satisfied: python-dateutil<3.0.0,>=2.8.2 in c:\\users\\dabra\\appdata\\roaming\\python\\python313\\site-packages (from unstructured-client->unstructured) (2.9.0.post0)\n",
      "Requirement already satisfied: requests-toolbelt>=1.0.0 in c:\\users\\dabra\\appdata\\roaming\\python\\python313\\site-packages (from unstructured-client->unstructured) (1.0.0)\n",
      "Requirement already satisfied: cffi>=1.12 in c:\\users\\dabra\\appdata\\roaming\\python\\python313\\site-packages (from cryptography>=3.1->unstructured-client->unstructured) (1.17.1)\n",
      "Requirement already satisfied: anyio in c:\\users\\dabra\\appdata\\roaming\\python\\python313\\site-packages (from httpx>=0.27.0->unstructured-client->unstructured) (4.8.0)\n",
      "Requirement already satisfied: httpcore==1.* in c:\\users\\dabra\\appdata\\roaming\\python\\python313\\site-packages (from httpx>=0.27.0->unstructured-client->unstructured) (1.0.7)\n",
      "Requirement already satisfied: h11<0.15,>=0.13 in c:\\users\\dabra\\appdata\\roaming\\python\\python313\\site-packages (from httpcore==1.*->httpx>=0.27.0->unstructured-client->unstructured) (0.14.0)\n",
      "Requirement already satisfied: packaging>=17.0 in c:\\users\\dabra\\appdata\\roaming\\python\\python313\\site-packages (from marshmallow<4.0.0,>=3.18.0->dataclasses-json->unstructured) (24.2)\n",
      "Requirement already satisfied: annotated-types>=0.6.0 in c:\\users\\dabra\\appdata\\roaming\\python\\python313\\site-packages (from pydantic<2.11.0,>=2.10.3->unstructured-client->unstructured) (0.7.0)\n",
      "Requirement already satisfied: pydantic-core==2.27.2 in c:\\users\\dabra\\appdata\\roaming\\python\\python313\\site-packages (from pydantic<2.11.0,>=2.10.3->unstructured-client->unstructured) (2.27.2)\n",
      "Requirement already satisfied: mypy-extensions>=0.3.0 in c:\\users\\dabra\\appdata\\roaming\\python\\python313\\site-packages (from typing-inspect<1,>=0.4.0->dataclasses-json->unstructured) (1.0.0)\n",
      "Requirement already satisfied: colorama in c:\\users\\dabra\\appdata\\roaming\\python\\python313\\site-packages (from click->nltk->unstructured) (0.4.6)\n",
      "Requirement already satisfied: pycparser in c:\\users\\dabra\\appdata\\roaming\\python\\python313\\site-packages (from cffi>=1.12->cryptography>=3.1->unstructured-client->unstructured) (2.22)\n",
      "Requirement already satisfied: sniffio>=1.1 in c:\\users\\dabra\\appdata\\roaming\\python\\python313\\site-packages (from anyio->httpx>=0.27.0->unstructured-client->unstructured) (1.3.1)\n"
     ]
    },
    {
     "name": "stderr",
     "output_type": "stream",
     "text": [
      "\n",
      "[notice] A new release of pip is available: 24.3.1 -> 25.0\n",
      "[notice] To update, run: C:\\Python313\\python.exe -m pip install --upgrade pip\n"
     ]
    }
   ],
   "source": [
    "!pip install unstructured"
   ]
  },
  {
   "cell_type": "code",
   "execution_count": 18,
   "metadata": {},
   "outputs": [
    {
     "name": "stdout",
     "output_type": "stream",
     "text": [
      "Defaulting to user installation because normal site-packages is not writeable\n",
      "Requirement already satisfied: unstructured in c:\\users\\dabra\\appdata\\roaming\\python\\python313\\site-packages (0.11.8)\n",
      "Requirement already satisfied: chardet in c:\\users\\dabra\\appdata\\roaming\\python\\python313\\site-packages (from unstructured) (5.2.0)\n",
      "Requirement already satisfied: filetype in c:\\users\\dabra\\appdata\\roaming\\python\\python313\\site-packages (from unstructured) (1.2.0)\n",
      "Requirement already satisfied: python-magic in c:\\users\\dabra\\appdata\\roaming\\python\\python313\\site-packages (from unstructured) (0.4.27)\n",
      "Requirement already satisfied: lxml in c:\\users\\dabra\\appdata\\roaming\\python\\python313\\site-packages (from unstructured) (5.3.0)\n",
      "Requirement already satisfied: nltk in c:\\users\\dabra\\appdata\\roaming\\python\\python313\\site-packages (from unstructured) (3.9.1)\n",
      "Requirement already satisfied: tabulate in c:\\users\\dabra\\appdata\\roaming\\python\\python313\\site-packages (from unstructured) (0.9.0)\n",
      "Requirement already satisfied: requests in c:\\users\\dabra\\appdata\\roaming\\python\\python313\\site-packages (from unstructured) (2.32.3)\n",
      "Requirement already satisfied: beautifulsoup4 in c:\\users\\dabra\\appdata\\roaming\\python\\python313\\site-packages (from unstructured) (4.13.3)\n",
      "Requirement already satisfied: emoji in c:\\users\\dabra\\appdata\\roaming\\python\\python313\\site-packages (from unstructured) (2.14.1)\n",
      "Requirement already satisfied: dataclasses-json in c:\\users\\dabra\\appdata\\roaming\\python\\python313\\site-packages (from unstructured) (0.6.7)\n",
      "Requirement already satisfied: python-iso639 in c:\\users\\dabra\\appdata\\roaming\\python\\python313\\site-packages (from unstructured) (2025.1.28)\n",
      "Requirement already satisfied: langdetect in c:\\users\\dabra\\appdata\\roaming\\python\\python313\\site-packages (from unstructured) (1.0.9)\n",
      "Requirement already satisfied: numpy in c:\\users\\dabra\\appdata\\roaming\\python\\python313\\site-packages (from unstructured) (2.2.2)\n",
      "Requirement already satisfied: rapidfuzz in c:\\users\\dabra\\appdata\\roaming\\python\\python313\\site-packages (from unstructured) (3.12.1)\n",
      "Requirement already satisfied: backoff in c:\\users\\dabra\\appdata\\roaming\\python\\python313\\site-packages (from unstructured) (2.2.1)\n",
      "Requirement already satisfied: typing-extensions in c:\\users\\dabra\\appdata\\roaming\\python\\python313\\site-packages (from unstructured) (4.12.2)\n",
      "Requirement already satisfied: unstructured-client in c:\\users\\dabra\\appdata\\roaming\\python\\python313\\site-packages (from unstructured) (0.29.0)\n",
      "Requirement already satisfied: wrapt in c:\\users\\dabra\\appdata\\roaming\\python\\python313\\site-packages (from unstructured) (1.17.2)\n",
      "Requirement already satisfied: soupsieve>1.2 in c:\\users\\dabra\\appdata\\roaming\\python\\python313\\site-packages (from beautifulsoup4->unstructured) (2.6)\n",
      "Requirement already satisfied: marshmallow<4.0.0,>=3.18.0 in c:\\users\\dabra\\appdata\\roaming\\python\\python313\\site-packages (from dataclasses-json->unstructured) (3.26.1)\n",
      "Requirement already satisfied: typing-inspect<1,>=0.4.0 in c:\\users\\dabra\\appdata\\roaming\\python\\python313\\site-packages (from dataclasses-json->unstructured) (0.9.0)\n",
      "Requirement already satisfied: six in c:\\users\\dabra\\appdata\\roaming\\python\\python313\\site-packages (from langdetect->unstructured) (1.17.0)\n",
      "Requirement already satisfied: click in c:\\users\\dabra\\appdata\\roaming\\python\\python313\\site-packages (from nltk->unstructured) (8.1.8)\n",
      "Requirement already satisfied: joblib in c:\\users\\dabra\\appdata\\roaming\\python\\python313\\site-packages (from nltk->unstructured) (1.4.2)\n",
      "Requirement already satisfied: regex>=2021.8.3 in c:\\users\\dabra\\appdata\\roaming\\python\\python313\\site-packages (from nltk->unstructured) (2024.11.6)\n",
      "Requirement already satisfied: tqdm in c:\\users\\dabra\\appdata\\roaming\\python\\python313\\site-packages (from nltk->unstructured) (4.67.1)\n",
      "Requirement already satisfied: charset-normalizer<4,>=2 in c:\\users\\dabra\\appdata\\roaming\\python\\python313\\site-packages (from requests->unstructured) (3.4.1)\n",
      "Requirement already satisfied: idna<4,>=2.5 in c:\\users\\dabra\\appdata\\roaming\\python\\python313\\site-packages (from requests->unstructured) (3.10)\n",
      "Requirement already satisfied: urllib3<3,>=1.21.1 in c:\\users\\dabra\\appdata\\roaming\\python\\python313\\site-packages (from requests->unstructured) (2.3.0)\n",
      "Requirement already satisfied: certifi>=2017.4.17 in c:\\users\\dabra\\appdata\\roaming\\python\\python313\\site-packages (from requests->unstructured) (2025.1.31)\n",
      "Requirement already satisfied: aiofiles>=24.1.0 in c:\\users\\dabra\\appdata\\roaming\\python\\python313\\site-packages (from unstructured-client->unstructured) (24.1.0)\n",
      "Requirement already satisfied: cryptography>=3.1 in c:\\users\\dabra\\appdata\\roaming\\python\\python313\\site-packages (from unstructured-client->unstructured) (44.0.0)\n",
      "Requirement already satisfied: eval-type-backport<0.3.0,>=0.2.0 in c:\\users\\dabra\\appdata\\roaming\\python\\python313\\site-packages (from unstructured-client->unstructured) (0.2.2)\n",
      "Requirement already satisfied: httpx>=0.27.0 in c:\\users\\dabra\\appdata\\roaming\\python\\python313\\site-packages (from unstructured-client->unstructured) (0.28.1)\n",
      "Requirement already satisfied: jsonpath-python<2.0.0,>=1.0.6 in c:\\users\\dabra\\appdata\\roaming\\python\\python313\\site-packages (from unstructured-client->unstructured) (1.0.6)\n",
      "Requirement already satisfied: nest-asyncio>=1.6.0 in c:\\users\\dabra\\appdata\\roaming\\python\\python313\\site-packages (from unstructured-client->unstructured) (1.6.0)\n",
      "Requirement already satisfied: pydantic<2.11.0,>=2.10.3 in c:\\users\\dabra\\appdata\\roaming\\python\\python313\\site-packages (from unstructured-client->unstructured) (2.10.6)\n",
      "Requirement already satisfied: pypdf>=4.0 in c:\\users\\dabra\\appdata\\roaming\\python\\python313\\site-packages (from unstructured-client->unstructured) (5.2.0)\n",
      "Requirement already satisfied: python-dateutil<3.0.0,>=2.8.2 in c:\\users\\dabra\\appdata\\roaming\\python\\python313\\site-packages (from unstructured-client->unstructured) (2.9.0.post0)\n",
      "Requirement already satisfied: requests-toolbelt>=1.0.0 in c:\\users\\dabra\\appdata\\roaming\\python\\python313\\site-packages (from unstructured-client->unstructured) (1.0.0)\n",
      "Requirement already satisfied: cffi>=1.12 in c:\\users\\dabra\\appdata\\roaming\\python\\python313\\site-packages (from cryptography>=3.1->unstructured-client->unstructured) (1.17.1)\n",
      "Requirement already satisfied: anyio in c:\\users\\dabra\\appdata\\roaming\\python\\python313\\site-packages (from httpx>=0.27.0->unstructured-client->unstructured) (4.8.0)\n",
      "Requirement already satisfied: httpcore==1.* in c:\\users\\dabra\\appdata\\roaming\\python\\python313\\site-packages (from httpx>=0.27.0->unstructured-client->unstructured) (1.0.7)\n",
      "Requirement already satisfied: h11<0.15,>=0.13 in c:\\users\\dabra\\appdata\\roaming\\python\\python313\\site-packages (from httpcore==1.*->httpx>=0.27.0->unstructured-client->unstructured) (0.14.0)\n",
      "Requirement already satisfied: packaging>=17.0 in c:\\users\\dabra\\appdata\\roaming\\python\\python313\\site-packages (from marshmallow<4.0.0,>=3.18.0->dataclasses-json->unstructured) (24.2)\n",
      "Requirement already satisfied: annotated-types>=0.6.0 in c:\\users\\dabra\\appdata\\roaming\\python\\python313\\site-packages (from pydantic<2.11.0,>=2.10.3->unstructured-client->unstructured) (0.7.0)\n",
      "Requirement already satisfied: pydantic-core==2.27.2 in c:\\users\\dabra\\appdata\\roaming\\python\\python313\\site-packages (from pydantic<2.11.0,>=2.10.3->unstructured-client->unstructured) (2.27.2)\n",
      "Requirement already satisfied: mypy-extensions>=0.3.0 in c:\\users\\dabra\\appdata\\roaming\\python\\python313\\site-packages (from typing-inspect<1,>=0.4.0->dataclasses-json->unstructured) (1.0.0)\n",
      "Requirement already satisfied: colorama in c:\\users\\dabra\\appdata\\roaming\\python\\python313\\site-packages (from click->nltk->unstructured) (0.4.6)\n",
      "Requirement already satisfied: pycparser in c:\\users\\dabra\\appdata\\roaming\\python\\python313\\site-packages (from cffi>=1.12->cryptography>=3.1->unstructured-client->unstructured) (2.22)\n",
      "Requirement already satisfied: sniffio>=1.1 in c:\\users\\dabra\\appdata\\roaming\\python\\python313\\site-packages (from anyio->httpx>=0.27.0->unstructured-client->unstructured) (1.3.1)\n"
     ]
    },
    {
     "name": "stderr",
     "output_type": "stream",
     "text": [
      "\n",
      "[notice] A new release of pip is available: 24.3.1 -> 25.0\n",
      "[notice] To update, run: C:\\Python313\\python.exe -m pip install --upgrade pip\n"
     ]
    }
   ],
   "source": [
    "!pip install --upgrade unstructured"
   ]
  },
  {
   "cell_type": "code",
   "execution_count": 20,
   "metadata": {},
   "outputs": [
    {
     "name": "stdout",
     "output_type": "stream",
     "text": [
      "Defaulting to user installation because normal site-packages is not writeable\n",
      "Requirement already satisfied: unstructured<0.16.0 in c:\\users\\dabra\\appdata\\roaming\\python\\python313\\site-packages (0.11.8)\n",
      "Requirement already satisfied: chardet in c:\\users\\dabra\\appdata\\roaming\\python\\python313\\site-packages (from unstructured<0.16.0) (5.2.0)\n",
      "Requirement already satisfied: filetype in c:\\users\\dabra\\appdata\\roaming\\python\\python313\\site-packages (from unstructured<0.16.0) (1.2.0)\n",
      "Requirement already satisfied: python-magic in c:\\users\\dabra\\appdata\\roaming\\python\\python313\\site-packages (from unstructured<0.16.0) (0.4.27)\n",
      "Requirement already satisfied: lxml in c:\\users\\dabra\\appdata\\roaming\\python\\python313\\site-packages (from unstructured<0.16.0) (5.3.0)\n",
      "Requirement already satisfied: nltk in c:\\users\\dabra\\appdata\\roaming\\python\\python313\\site-packages (from unstructured<0.16.0) (3.9.1)\n",
      "Requirement already satisfied: tabulate in c:\\users\\dabra\\appdata\\roaming\\python\\python313\\site-packages (from unstructured<0.16.0) (0.9.0)\n",
      "Requirement already satisfied: requests in c:\\users\\dabra\\appdata\\roaming\\python\\python313\\site-packages (from unstructured<0.16.0) (2.32.3)\n",
      "Requirement already satisfied: beautifulsoup4 in c:\\users\\dabra\\appdata\\roaming\\python\\python313\\site-packages (from unstructured<0.16.0) (4.13.3)\n",
      "Requirement already satisfied: emoji in c:\\users\\dabra\\appdata\\roaming\\python\\python313\\site-packages (from unstructured<0.16.0) (2.14.1)\n",
      "Requirement already satisfied: dataclasses-json in c:\\users\\dabra\\appdata\\roaming\\python\\python313\\site-packages (from unstructured<0.16.0) (0.6.7)\n",
      "Requirement already satisfied: python-iso639 in c:\\users\\dabra\\appdata\\roaming\\python\\python313\\site-packages (from unstructured<0.16.0) (2025.1.28)\n",
      "Requirement already satisfied: langdetect in c:\\users\\dabra\\appdata\\roaming\\python\\python313\\site-packages (from unstructured<0.16.0) (1.0.9)\n",
      "Requirement already satisfied: numpy in c:\\users\\dabra\\appdata\\roaming\\python\\python313\\site-packages (from unstructured<0.16.0) (2.2.2)\n",
      "Requirement already satisfied: rapidfuzz in c:\\users\\dabra\\appdata\\roaming\\python\\python313\\site-packages (from unstructured<0.16.0) (3.12.1)\n",
      "Requirement already satisfied: backoff in c:\\users\\dabra\\appdata\\roaming\\python\\python313\\site-packages (from unstructured<0.16.0) (2.2.1)\n",
      "Requirement already satisfied: typing-extensions in c:\\users\\dabra\\appdata\\roaming\\python\\python313\\site-packages (from unstructured<0.16.0) (4.12.2)\n",
      "Requirement already satisfied: unstructured-client in c:\\users\\dabra\\appdata\\roaming\\python\\python313\\site-packages (from unstructured<0.16.0) (0.29.0)\n",
      "Requirement already satisfied: wrapt in c:\\users\\dabra\\appdata\\roaming\\python\\python313\\site-packages (from unstructured<0.16.0) (1.17.2)\n",
      "Requirement already satisfied: soupsieve>1.2 in c:\\users\\dabra\\appdata\\roaming\\python\\python313\\site-packages (from beautifulsoup4->unstructured<0.16.0) (2.6)\n",
      "Requirement already satisfied: marshmallow<4.0.0,>=3.18.0 in c:\\users\\dabra\\appdata\\roaming\\python\\python313\\site-packages (from dataclasses-json->unstructured<0.16.0) (3.26.1)\n",
      "Requirement already satisfied: typing-inspect<1,>=0.4.0 in c:\\users\\dabra\\appdata\\roaming\\python\\python313\\site-packages (from dataclasses-json->unstructured<0.16.0) (0.9.0)\n",
      "Requirement already satisfied: six in c:\\users\\dabra\\appdata\\roaming\\python\\python313\\site-packages (from langdetect->unstructured<0.16.0) (1.17.0)\n",
      "Requirement already satisfied: click in c:\\users\\dabra\\appdata\\roaming\\python\\python313\\site-packages (from nltk->unstructured<0.16.0) (8.1.8)\n",
      "Requirement already satisfied: joblib in c:\\users\\dabra\\appdata\\roaming\\python\\python313\\site-packages (from nltk->unstructured<0.16.0) (1.4.2)\n",
      "Requirement already satisfied: regex>=2021.8.3 in c:\\users\\dabra\\appdata\\roaming\\python\\python313\\site-packages (from nltk->unstructured<0.16.0) (2024.11.6)\n",
      "Requirement already satisfied: tqdm in c:\\users\\dabra\\appdata\\roaming\\python\\python313\\site-packages (from nltk->unstructured<0.16.0) (4.67.1)\n",
      "Requirement already satisfied: charset-normalizer<4,>=2 in c:\\users\\dabra\\appdata\\roaming\\python\\python313\\site-packages (from requests->unstructured<0.16.0) (3.4.1)\n",
      "Requirement already satisfied: idna<4,>=2.5 in c:\\users\\dabra\\appdata\\roaming\\python\\python313\\site-packages (from requests->unstructured<0.16.0) (3.10)\n",
      "Requirement already satisfied: urllib3<3,>=1.21.1 in c:\\users\\dabra\\appdata\\roaming\\python\\python313\\site-packages (from requests->unstructured<0.16.0) (2.3.0)\n",
      "Requirement already satisfied: certifi>=2017.4.17 in c:\\users\\dabra\\appdata\\roaming\\python\\python313\\site-packages (from requests->unstructured<0.16.0) (2025.1.31)\n",
      "Requirement already satisfied: aiofiles>=24.1.0 in c:\\users\\dabra\\appdata\\roaming\\python\\python313\\site-packages (from unstructured-client->unstructured<0.16.0) (24.1.0)\n",
      "Requirement already satisfied: cryptography>=3.1 in c:\\users\\dabra\\appdata\\roaming\\python\\python313\\site-packages (from unstructured-client->unstructured<0.16.0) (44.0.0)\n",
      "Requirement already satisfied: eval-type-backport<0.3.0,>=0.2.0 in c:\\users\\dabra\\appdata\\roaming\\python\\python313\\site-packages (from unstructured-client->unstructured<0.16.0) (0.2.2)\n",
      "Requirement already satisfied: httpx>=0.27.0 in c:\\users\\dabra\\appdata\\roaming\\python\\python313\\site-packages (from unstructured-client->unstructured<0.16.0) (0.28.1)\n",
      "Requirement already satisfied: jsonpath-python<2.0.0,>=1.0.6 in c:\\users\\dabra\\appdata\\roaming\\python\\python313\\site-packages (from unstructured-client->unstructured<0.16.0) (1.0.6)\n",
      "Requirement already satisfied: nest-asyncio>=1.6.0 in c:\\users\\dabra\\appdata\\roaming\\python\\python313\\site-packages (from unstructured-client->unstructured<0.16.0) (1.6.0)\n",
      "Requirement already satisfied: pydantic<2.11.0,>=2.10.3 in c:\\users\\dabra\\appdata\\roaming\\python\\python313\\site-packages (from unstructured-client->unstructured<0.16.0) (2.10.6)\n",
      "Requirement already satisfied: pypdf>=4.0 in c:\\users\\dabra\\appdata\\roaming\\python\\python313\\site-packages (from unstructured-client->unstructured<0.16.0) (5.2.0)\n",
      "Requirement already satisfied: python-dateutil<3.0.0,>=2.8.2 in c:\\users\\dabra\\appdata\\roaming\\python\\python313\\site-packages (from unstructured-client->unstructured<0.16.0) (2.9.0.post0)\n",
      "Requirement already satisfied: requests-toolbelt>=1.0.0 in c:\\users\\dabra\\appdata\\roaming\\python\\python313\\site-packages (from unstructured-client->unstructured<0.16.0) (1.0.0)\n",
      "Requirement already satisfied: cffi>=1.12 in c:\\users\\dabra\\appdata\\roaming\\python\\python313\\site-packages (from cryptography>=3.1->unstructured-client->unstructured<0.16.0) (1.17.1)\n",
      "Requirement already satisfied: anyio in c:\\users\\dabra\\appdata\\roaming\\python\\python313\\site-packages (from httpx>=0.27.0->unstructured-client->unstructured<0.16.0) (4.8.0)\n",
      "Requirement already satisfied: httpcore==1.* in c:\\users\\dabra\\appdata\\roaming\\python\\python313\\site-packages (from httpx>=0.27.0->unstructured-client->unstructured<0.16.0) (1.0.7)\n",
      "Requirement already satisfied: h11<0.15,>=0.13 in c:\\users\\dabra\\appdata\\roaming\\python\\python313\\site-packages (from httpcore==1.*->httpx>=0.27.0->unstructured-client->unstructured<0.16.0) (0.14.0)\n",
      "Requirement already satisfied: packaging>=17.0 in c:\\users\\dabra\\appdata\\roaming\\python\\python313\\site-packages (from marshmallow<4.0.0,>=3.18.0->dataclasses-json->unstructured<0.16.0) (24.2)\n",
      "Requirement already satisfied: annotated-types>=0.6.0 in c:\\users\\dabra\\appdata\\roaming\\python\\python313\\site-packages (from pydantic<2.11.0,>=2.10.3->unstructured-client->unstructured<0.16.0) (0.7.0)\n",
      "Requirement already satisfied: pydantic-core==2.27.2 in c:\\users\\dabra\\appdata\\roaming\\python\\python313\\site-packages (from pydantic<2.11.0,>=2.10.3->unstructured-client->unstructured<0.16.0) (2.27.2)\n",
      "Requirement already satisfied: mypy-extensions>=0.3.0 in c:\\users\\dabra\\appdata\\roaming\\python\\python313\\site-packages (from typing-inspect<1,>=0.4.0->dataclasses-json->unstructured<0.16.0) (1.0.0)\n",
      "Requirement already satisfied: colorama in c:\\users\\dabra\\appdata\\roaming\\python\\python313\\site-packages (from click->nltk->unstructured<0.16.0) (0.4.6)\n",
      "Requirement already satisfied: pycparser in c:\\users\\dabra\\appdata\\roaming\\python\\python313\\site-packages (from cffi>=1.12->cryptography>=3.1->unstructured-client->unstructured<0.16.0) (2.22)\n",
      "Requirement already satisfied: sniffio>=1.1 in c:\\users\\dabra\\appdata\\roaming\\python\\python313\\site-packages (from anyio->httpx>=0.27.0->unstructured-client->unstructured<0.16.0) (1.3.1)\n"
     ]
    },
    {
     "name": "stderr",
     "output_type": "stream",
     "text": [
      "\n",
      "[notice] A new release of pip is available: 24.3.1 -> 25.0\n",
      "[notice] To update, run: C:\\Python313\\python.exe -m pip install --upgrade pip\n"
     ]
    }
   ],
   "source": [
    "!pip install \"unstructured<0.16.0\""
   ]
  },
  {
   "cell_type": "code",
   "execution_count": 23,
   "metadata": {},
   "outputs": [],
   "source": [
    "from langchain_community.document_loaders import DirectoryLoader"
   ]
  },
  {
   "cell_type": "code",
   "execution_count": 51,
   "metadata": {},
   "outputs": [
    {
     "name": "stdout",
     "output_type": "stream",
     "text": [
      "c:\\Users\\dabra\\AppData\\Local\\Programs\\Python\\Python39\\python.exe\n"
     ]
    }
   ],
   "source": [
    "import sys\n",
    "print(sys.executable)"
   ]
  },
  {
   "cell_type": "code",
   "execution_count": 54,
   "metadata": {},
   "outputs": [
    {
     "name": "stdout",
     "output_type": "stream",
     "text": [
      "Collecting unstructured\n",
      "  Downloading unstructured-0.16.17-py3-none-any.whl (1.8 MB)\n",
      "Requirement already satisfied: python-magic in c:\\users\\dabra\\appdata\\local\\programs\\python\\python39\\lib\\site-packages (from unstructured) (0.4.27)\n",
      "Requirement already satisfied: tqdm in c:\\users\\dabra\\appdata\\local\\programs\\python\\python39\\lib\\site-packages (from unstructured) (4.67.1)\n",
      "Requirement already satisfied: chardet in c:\\users\\dabra\\appdata\\local\\programs\\python\\python39\\lib\\site-packages (from unstructured) (5.2.0)\n",
      "Collecting unstructured-client\n",
      "  Using cached unstructured_client-0.29.0-py3-none-any.whl (63 kB)\n",
      "Requirement already satisfied: beautifulsoup4 in c:\\users\\dabra\\appdata\\local\\programs\\python\\python39\\lib\\site-packages (from unstructured) (4.12.3)\n",
      "Requirement already satisfied: requests in c:\\users\\dabra\\appdata\\local\\programs\\python\\python39\\lib\\site-packages (from unstructured) (2.32.3)\n",
      "Requirement already satisfied: emoji in c:\\users\\dabra\\appdata\\local\\programs\\python\\python39\\lib\\site-packages (from unstructured) (2.14.1)\n",
      "Requirement already satisfied: langdetect in c:\\users\\dabra\\appdata\\local\\programs\\python\\python39\\lib\\site-packages (from unstructured) (1.0.9)\n",
      "Collecting html5lib\n",
      "  Downloading html5lib-1.1-py2.py3-none-any.whl (112 kB)\n",
      "Requirement already satisfied: numpy<2 in c:\\users\\dabra\\appdata\\local\\programs\\python\\python39\\lib\\site-packages (from unstructured) (1.26.4)\n",
      "Requirement already satisfied: python-oxmsg in c:\\users\\dabra\\appdata\\local\\programs\\python\\python39\\lib\\site-packages (from unstructured) (0.0.2)\n",
      "Requirement already satisfied: psutil in c:\\users\\dabra\\appdata\\roaming\\python\\python39\\site-packages (from unstructured) (6.1.1)\n",
      "Requirement already satisfied: wrapt in c:\\users\\dabra\\appdata\\local\\programs\\python\\python39\\lib\\site-packages (from unstructured) (1.17.0)\n",
      "Requirement already satisfied: nltk in c:\\users\\dabra\\appdata\\local\\programs\\python\\python39\\lib\\site-packages (from unstructured) (3.9.1)\n",
      "Requirement already satisfied: backoff in c:\\users\\dabra\\appdata\\local\\programs\\python\\python39\\lib\\site-packages (from unstructured) (1.10.0)\n",
      "Requirement already satisfied: filetype in c:\\users\\dabra\\appdata\\local\\programs\\python\\python39\\lib\\site-packages (from unstructured) (1.2.0)\n",
      "Requirement already satisfied: typing-extensions in c:\\users\\dabra\\appdata\\local\\programs\\python\\python39\\lib\\site-packages (from unstructured) (4.12.2)\n",
      "Requirement already satisfied: lxml in c:\\users\\dabra\\appdata\\local\\programs\\python\\python39\\lib\\site-packages (from unstructured) (5.3.0)\n",
      "Requirement already satisfied: rapidfuzz in c:\\users\\dabra\\appdata\\local\\programs\\python\\python39\\lib\\site-packages (from unstructured) (3.11.0)\n",
      "Requirement already satisfied: python-iso639 in c:\\users\\dabra\\appdata\\local\\programs\\python\\python39\\lib\\site-packages (from unstructured) (2025.1.28)\n",
      "Requirement already satisfied: dataclasses-json in c:\\users\\dabra\\appdata\\local\\programs\\python\\python39\\lib\\site-packages (from unstructured) (0.5.14)\n",
      "Requirement already satisfied: colorama; platform_system == \"Windows\" in c:\\users\\dabra\\appdata\\local\\programs\\python\\python39\\lib\\site-packages (from tqdm->unstructured) (0.4.6)\n",
      "Requirement already satisfied: nest-asyncio>=1.6.0 in c:\\users\\dabra\\appdata\\local\\programs\\python\\python39\\lib\\site-packages (from unstructured-client->unstructured) (1.6.0)\n",
      "Requirement already satisfied: httpx>=0.27.0 in c:\\users\\dabra\\appdata\\local\\programs\\python\\python39\\lib\\site-packages (from unstructured-client->unstructured) (0.28.1)\n",
      "Requirement already satisfied: requests-toolbelt>=1.0.0 in c:\\users\\dabra\\appdata\\local\\programs\\python\\python39\\lib\\site-packages (from unstructured-client->unstructured) (1.0.0)\n",
      "Requirement already satisfied: aiofiles>=24.1.0 in c:\\users\\dabra\\appdata\\local\\programs\\python\\python39\\lib\\site-packages (from unstructured-client->unstructured) (24.1.0)\n",
      "Requirement already satisfied: cryptography>=3.1 in c:\\users\\dabra\\appdata\\local\\programs\\python\\python39\\lib\\site-packages (from unstructured-client->unstructured) (43.0.3)\n",
      "Requirement already satisfied: typing-inspect<0.10.0,>=0.9.0 in c:\\users\\dabra\\appdata\\local\\programs\\python\\python39\\lib\\site-packages (from unstructured-client->unstructured) (0.9.0)\n",
      "Collecting pypdf>=4.0\n",
      "  Using cached pypdf-5.2.0-py3-none-any.whl (298 kB)\n",
      "Collecting eval-type-backport<0.3.0,>=0.2.0\n",
      "  Using cached eval_type_backport-0.2.2-py3-none-any.whl (5.8 kB)\n",
      "Requirement already satisfied: python-dateutil<3.0.0,>=2.8.2 in c:\\users\\dabra\\appdata\\roaming\\python\\python39\\site-packages (from unstructured-client->unstructured) (2.9.0.post0)\n",
      "Collecting jsonpath-python<2.0.0,>=1.0.6\n",
      "  Using cached jsonpath_python-1.0.6-py3-none-any.whl (7.6 kB)\n",
      "Collecting pydantic<2.11.0,>=2.10.3\n",
      "  Using cached pydantic-2.10.6-py3-none-any.whl (431 kB)\n",
      "Requirement already satisfied: soupsieve>1.2 in c:\\users\\dabra\\appdata\\local\\programs\\python\\python39\\lib\\site-packages (from beautifulsoup4->unstructured) (2.6)\n",
      "Requirement already satisfied: urllib3<3,>=1.21.1 in c:\\users\\dabra\\appdata\\local\\programs\\python\\python39\\lib\\site-packages (from requests->unstructured) (2.3.0)\n",
      "Requirement already satisfied: certifi>=2017.4.17 in c:\\users\\dabra\\appdata\\local\\programs\\python\\python39\\lib\\site-packages (from requests->unstructured) (2024.12.14)\n",
      "Requirement already satisfied: charset-normalizer<4,>=2 in c:\\users\\dabra\\appdata\\local\\programs\\python\\python39\\lib\\site-packages (from requests->unstructured) (3.4.1)\n",
      "Requirement already satisfied: idna<4,>=2.5 in c:\\users\\dabra\\appdata\\local\\programs\\python\\python39\\lib\\site-packages (from requests->unstructured) (3.10)\n",
      "Requirement already satisfied: six in c:\\users\\dabra\\appdata\\roaming\\python\\python39\\site-packages (from langdetect->unstructured) (1.17.0)\n",
      "Requirement already satisfied: webencodings in c:\\users\\dabra\\appdata\\local\\programs\\python\\python39\\lib\\site-packages (from html5lib->unstructured) (0.5.1)\n",
      "Requirement already satisfied: olefile in c:\\users\\dabra\\appdata\\local\\programs\\python\\python39\\lib\\site-packages (from python-oxmsg->unstructured) (0.47)\n",
      "Requirement already satisfied: click in c:\\users\\dabra\\appdata\\local\\programs\\python\\python39\\lib\\site-packages (from python-oxmsg->unstructured) (8.1.8)\n",
      "Requirement already satisfied: regex>=2021.8.3 in c:\\users\\dabra\\appdata\\local\\programs\\python\\python39\\lib\\site-packages (from nltk->unstructured) (2024.11.6)\n",
      "Requirement already satisfied: joblib in c:\\users\\dabra\\appdata\\local\\programs\\python\\python39\\lib\\site-packages (from nltk->unstructured) (1.4.2)\n",
      "Requirement already satisfied: marshmallow<4.0.0,>=3.18.0 in c:\\users\\dabra\\appdata\\local\\programs\\python\\python39\\lib\\site-packages (from dataclasses-json->unstructured) (3.24.2)\n",
      "Requirement already satisfied: anyio in c:\\users\\dabra\\appdata\\local\\programs\\python\\python39\\lib\\site-packages (from httpx>=0.27.0->unstructured-client->unstructured) (3.7.1)\n",
      "Requirement already satisfied: httpcore==1.* in c:\\users\\dabra\\appdata\\local\\programs\\python\\python39\\lib\\site-packages (from httpx>=0.27.0->unstructured-client->unstructured) (1.0.7)\n",
      "Requirement already satisfied: cffi>=1.12; platform_python_implementation != \"PyPy\" in c:\\users\\dabra\\appdata\\local\\programs\\python\\python39\\lib\\site-packages (from cryptography>=3.1->unstructured-client->unstructured) (1.17.1)\n",
      "Requirement already satisfied: mypy-extensions>=0.3.0 in c:\\users\\dabra\\appdata\\local\\programs\\python\\python39\\lib\\site-packages (from typing-inspect<0.10.0,>=0.9.0->unstructured-client->unstructured) (1.0.0)\n",
      "Requirement already satisfied: pydantic-core==2.27.2 in c:\\users\\dabra\\appdata\\local\\programs\\python\\python39\\lib\\site-packages (from pydantic<2.11.0,>=2.10.3->unstructured-client->unstructured) (2.27.2)\n",
      "Requirement already satisfied: annotated-types>=0.6.0 in c:\\users\\dabra\\appdata\\local\\programs\\python\\python39\\lib\\site-packages (from pydantic<2.11.0,>=2.10.3->unstructured-client->unstructured) (0.7.0)\n",
      "Requirement already satisfied: packaging>=17.0 in c:\\users\\dabra\\appdata\\local\\programs\\python\\python39\\lib\\site-packages (from marshmallow<4.0.0,>=3.18.0->dataclasses-json->unstructured) (23.2)\n",
      "Requirement already satisfied: sniffio>=1.1 in c:\\users\\dabra\\appdata\\local\\programs\\python\\python39\\lib\\site-packages (from anyio->httpx>=0.27.0->unstructured-client->unstructured) (1.3.1)\n",
      "Requirement already satisfied: exceptiongroup; python_version < \"3.11\" in c:\\users\\dabra\\appdata\\local\\programs\\python\\python39\\lib\\site-packages (from anyio->httpx>=0.27.0->unstructured-client->unstructured) (1.2.2)\n",
      "Requirement already satisfied: h11<0.15,>=0.13 in c:\\users\\dabra\\appdata\\local\\programs\\python\\python39\\lib\\site-packages (from httpcore==1.*->httpx>=0.27.0->unstructured-client->unstructured) (0.14.0)\n",
      "Requirement already satisfied: pycparser in c:\\users\\dabra\\appdata\\local\\programs\\python\\python39\\lib\\site-packages (from cffi>=1.12; platform_python_implementation != \"PyPy\"->cryptography>=3.1->unstructured-client->unstructured) (2.22)\n",
      "Installing collected packages: pypdf, eval-type-backport, jsonpath-python, pydantic, unstructured-client, html5lib, unstructured\n",
      "  Attempting uninstall: pydantic\n",
      "    Found existing installation: pydantic 2.10.1\n",
      "    Uninstalling pydantic-2.10.1:\n",
      "      Successfully uninstalled pydantic-2.10.1\n",
      "Successfully installed eval-type-backport-0.2.2 html5lib-1.1 jsonpath-python-1.0.6 pydantic-2.10.6 pypdf-5.2.0 unstructured-0.16.17 unstructured-client-0.29.0\n"
     ]
    },
    {
     "name": "stderr",
     "output_type": "stream",
     "text": [
      "ERROR: After October 2020 you may experience errors when installing or updating packages. This is because pip will change the way that it resolves dependency conflicts.\n",
      "\n",
      "We recommend you use --use-feature=2020-resolver to test your packages with the new resolver before it becomes the default.\n",
      "\n",
      "chainlit 0.7.700 requires aiofiles<24.0.0,>=23.1.0, but you'll have aiofiles 24.1.0 which is incompatible.\n",
      "chainlit 0.7.700 requires httpx<0.25.0,>=0.23.0, but you'll have httpx 0.28.1 which is incompatible.\n",
      "WARNING: You are using pip version 20.2.3; however, version 25.0 is available.\n",
      "You should consider upgrading via the 'c:\\Users\\dabra\\AppData\\Local\\Programs\\Python\\Python39\\python.exe -m pip install --upgrade pip' command.\n"
     ]
    }
   ],
   "source": [
    "!{sys.executable} -m pip install unstructured"
   ]
  },
  {
   "cell_type": "code",
   "execution_count": 55,
   "metadata": {},
   "outputs": [
    {
     "name": "stderr",
     "output_type": "stream",
     "text": [
      "libmagic is unavailable but assists in filetype detection. Please consider installing libmagic for better results.\n",
      "libmagic is unavailable but assists in filetype detection. Please consider installing libmagic for better results.\n"
     ]
    }
   ],
   "source": [
    "path = \"data/\"\n",
    "loader = DirectoryLoader(path, glob=\"*.html\")\n",
    "docs = loader.load()"
   ]
  },
  {
   "cell_type": "markdown",
   "metadata": {},
   "source": [
    "### Knowledge Graph Based Synthetic Generation\n",
    "\n",
    "Ragas uses a knowledge graph based approach to create data. This is extremely useful as it allows us to create complex queries rather simply. The additional testset complexity allows us to evaluate larger problems more effectively, as systems tend to be very strong on simple evaluation tasks.\n",
    "\n",
    "Let's start by defining our `generator_llm` (which will generate our questions, summaries, and more), and our `generator_embeddings` which will be useful in building our graph."
   ]
  },
  {
   "cell_type": "markdown",
   "metadata": {},
   "source": [
    "### Unrolled SDG"
   ]
  },
  {
   "cell_type": "code",
   "execution_count": 34,
   "metadata": {},
   "outputs": [
    {
     "name": "stdout",
     "output_type": "stream",
     "text": [
      "Name: ragas\n",
      "Version: 0.2.10\n",
      "Summary: \n",
      "Home-page: \n",
      "Author: \n",
      "Author-email: \n",
      "License: \n",
      "Location: C:\\Users\\dabra\\AppData\\Roaming\\Python\\Python313\\site-packages\n",
      "Requires: appdirs, datasets, diskcache, langchain, langchain-community, langchain-core, langchain_openai, nest-asyncio, numpy, openai, pydantic, pysbd, tiktoken\n",
      "Required-by: \n"
     ]
    }
   ],
   "source": [
    "!pip show ragas"
   ]
  },
  {
   "cell_type": "code",
   "execution_count": 36,
   "metadata": {},
   "outputs": [
    {
     "name": "stdout",
     "output_type": "stream",
     "text": [
      "c:\\Users\\dabra\\AppData\\Local\\Programs\\Python\\Python39\\python.exe\n"
     ]
    }
   ],
   "source": [
    "import sys\n",
    "print(sys.executable)"
   ]
  },
  {
   "cell_type": "code",
   "execution_count": 37,
   "metadata": {},
   "outputs": [
    {
     "name": "stdout",
     "output_type": "stream",
     "text": [
      "Collecting ragas\n",
      "  Downloading ragas-0.2.13-py3-none-any.whl (178 kB)\n",
      "Collecting appdirs\n",
      "  Downloading appdirs-1.4.4-py2.py3-none-any.whl (9.6 kB)\n",
      "Requirement already satisfied: langchain-community in c:\\users\\dabra\\appdata\\local\\programs\\python\\python39\\lib\\site-packages (from ragas) (0.3.16)\n",
      "Requirement already satisfied: numpy in c:\\users\\dabra\\appdata\\local\\programs\\python\\python39\\lib\\site-packages (from ragas) (1.26.4)\n",
      "Requirement already satisfied: datasets in c:\\users\\dabra\\appdata\\local\\programs\\python\\python39\\lib\\site-packages (from ragas) (3.2.0)\n",
      "Requirement already satisfied: langchain in c:\\users\\dabra\\appdata\\local\\programs\\python\\python39\\lib\\site-packages (from ragas) (0.3.16)\n",
      "Requirement already satisfied: langchain-core in c:\\users\\dabra\\appdata\\local\\programs\\python\\python39\\lib\\site-packages (from ragas) (0.3.32)\n",
      "Requirement already satisfied: tiktoken in c:\\users\\dabra\\appdata\\local\\programs\\python\\python39\\lib\\site-packages (from ragas) (0.8.0)\n",
      "Requirement already satisfied: openai>1 in c:\\users\\dabra\\appdata\\local\\programs\\python\\python39\\lib\\site-packages (from ragas) (1.60.2)\n",
      "Collecting diskcache>=5.6.3\n",
      "  Downloading diskcache-5.6.3-py3-none-any.whl (45 kB)\n",
      "Requirement already satisfied: langchain_openai in c:\\users\\dabra\\appdata\\local\\programs\\python\\python39\\lib\\site-packages (from ragas) (0.3.2)\n",
      "Requirement already satisfied: pydantic>=2 in c:\\users\\dabra\\appdata\\local\\programs\\python\\python39\\lib\\site-packages (from ragas) (2.10.1)\n",
      "Requirement already satisfied: nest-asyncio in c:\\users\\dabra\\appdata\\local\\programs\\python\\python39\\lib\\site-packages (from ragas) (1.6.0)\n",
      "Requirement already satisfied: tenacity!=8.4.0,<10,>=8.1.0 in c:\\users\\dabra\\appdata\\local\\programs\\python\\python39\\lib\\site-packages (from langchain-community->ragas) (9.0.0)\n",
      "Requirement already satisfied: dataclasses-json<0.7,>=0.5.7 in c:\\users\\dabra\\appdata\\local\\programs\\python\\python39\\lib\\site-packages (from langchain-community->ragas) (0.5.14)\n",
      "Requirement already satisfied: pydantic-settings<3.0.0,>=2.4.0 in c:\\users\\dabra\\appdata\\local\\programs\\python\\python39\\lib\\site-packages (from langchain-community->ragas) (2.7.1)\n",
      "Requirement already satisfied: requests<3,>=2 in c:\\users\\dabra\\appdata\\local\\programs\\python\\python39\\lib\\site-packages (from langchain-community->ragas) (2.32.3)\n",
      "Requirement already satisfied: aiohttp<4.0.0,>=3.8.3 in c:\\users\\dabra\\appdata\\local\\programs\\python\\python39\\lib\\site-packages (from langchain-community->ragas) (3.11.11)\n",
      "Requirement already satisfied: httpx-sse<0.5.0,>=0.4.0 in c:\\users\\dabra\\appdata\\local\\programs\\python\\python39\\lib\\site-packages (from langchain-community->ragas) (0.4.0)\n",
      "Requirement already satisfied: SQLAlchemy<3,>=1.4 in c:\\users\\dabra\\appdata\\local\\programs\\python\\python39\\lib\\site-packages (from langchain-community->ragas) (2.0.37)\n",
      "Requirement already satisfied: PyYAML>=5.3 in c:\\users\\dabra\\appdata\\local\\programs\\python\\python39\\lib\\site-packages (from langchain-community->ragas) (6.0.2)\n",
      "Requirement already satisfied: langsmith<0.4,>=0.1.125 in c:\\users\\dabra\\appdata\\local\\programs\\python\\python39\\lib\\site-packages (from langchain-community->ragas) (0.3.2)\n",
      "Requirement already satisfied: filelock in c:\\users\\dabra\\appdata\\local\\programs\\python\\python39\\lib\\site-packages (from datasets->ragas) (3.17.0)\n",
      "Requirement already satisfied: packaging in c:\\users\\dabra\\appdata\\local\\programs\\python\\python39\\lib\\site-packages (from datasets->ragas) (23.2)\n",
      "Requirement already satisfied: fsspec[http]<=2024.9.0,>=2023.1.0 in c:\\users\\dabra\\appdata\\local\\programs\\python\\python39\\lib\\site-packages (from datasets->ragas) (2024.9.0)\n",
      "Requirement already satisfied: tqdm>=4.66.3 in c:\\users\\dabra\\appdata\\local\\programs\\python\\python39\\lib\\site-packages (from datasets->ragas) (4.67.1)\n",
      "Requirement already satisfied: pyarrow>=15.0.0 in c:\\users\\dabra\\appdata\\local\\programs\\python\\python39\\lib\\site-packages (from datasets->ragas) (19.0.0)\n",
      "Requirement already satisfied: multiprocess<0.70.17 in c:\\users\\dabra\\appdata\\local\\programs\\python\\python39\\lib\\site-packages (from datasets->ragas) (0.70.16)\n",
      "Requirement already satisfied: pandas in c:\\users\\dabra\\appdata\\local\\programs\\python\\python39\\lib\\site-packages (from datasets->ragas) (2.2.3)\n",
      "Requirement already satisfied: dill<0.3.9,>=0.3.0 in c:\\users\\dabra\\appdata\\local\\programs\\python\\python39\\lib\\site-packages (from datasets->ragas) (0.3.8)\n",
      "Requirement already satisfied: huggingface-hub>=0.23.0 in c:\\users\\dabra\\appdata\\local\\programs\\python\\python39\\lib\\site-packages (from datasets->ragas) (0.27.1)\n",
      "Requirement already satisfied: xxhash in c:\\users\\dabra\\appdata\\local\\programs\\python\\python39\\lib\\site-packages (from datasets->ragas) (3.5.0)\n",
      "Requirement already satisfied: langchain-text-splitters<0.4.0,>=0.3.3 in c:\\users\\dabra\\appdata\\local\\programs\\python\\python39\\lib\\site-packages (from langchain->ragas) (0.3.5)\n",
      "Requirement already satisfied: async-timeout<5.0.0,>=4.0.0; python_version < \"3.11\" in c:\\users\\dabra\\appdata\\local\\programs\\python\\python39\\lib\\site-packages (from langchain->ragas) (4.0.3)\n",
      "Requirement already satisfied: jsonpatch<2.0,>=1.33 in c:\\users\\dabra\\appdata\\local\\programs\\python\\python39\\lib\\site-packages (from langchain-core->ragas) (1.33)\n",
      "Requirement already satisfied: typing-extensions>=4.7 in c:\\users\\dabra\\appdata\\local\\programs\\python\\python39\\lib\\site-packages (from langchain-core->ragas) (4.12.2)\n",
      "Requirement already satisfied: regex>=2022.1.18 in c:\\users\\dabra\\appdata\\local\\programs\\python\\python39\\lib\\site-packages (from tiktoken->ragas) (2024.11.6)\n",
      "Requirement already satisfied: distro<2,>=1.7.0 in c:\\users\\dabra\\appdata\\local\\programs\\python\\python39\\lib\\site-packages (from openai>1->ragas) (1.9.0)\n",
      "Requirement already satisfied: sniffio in c:\\users\\dabra\\appdata\\local\\programs\\python\\python39\\lib\\site-packages (from openai>1->ragas) (1.3.1)\n",
      "Requirement already satisfied: jiter<1,>=0.4.0 in c:\\users\\dabra\\appdata\\local\\programs\\python\\python39\\lib\\site-packages (from openai>1->ragas) (0.8.2)\n",
      "Requirement already satisfied: httpx<1,>=0.23.0 in c:\\users\\dabra\\appdata\\local\\programs\\python\\python39\\lib\\site-packages (from openai>1->ragas) (0.28.1)\n",
      "Requirement already satisfied: anyio<5,>=3.5.0 in c:\\users\\dabra\\appdata\\local\\programs\\python\\python39\\lib\\site-packages (from openai>1->ragas) (3.7.1)\n",
      "Requirement already satisfied: annotated-types>=0.6.0 in c:\\users\\dabra\\appdata\\local\\programs\\python\\python39\\lib\\site-packages (from pydantic>=2->ragas) (0.7.0)\n",
      "Requirement already satisfied: pydantic-core==2.27.1 in c:\\users\\dabra\\appdata\\local\\programs\\python\\python39\\lib\\site-packages (from pydantic>=2->ragas) (2.27.1)\n",
      "Requirement already satisfied: marshmallow<4.0.0,>=3.18.0 in c:\\users\\dabra\\appdata\\local\\programs\\python\\python39\\lib\\site-packages (from dataclasses-json<0.7,>=0.5.7->langchain-community->ragas) (3.24.2)\n",
      "Requirement already satisfied: typing-inspect<1,>=0.4.0 in c:\\users\\dabra\\appdata\\local\\programs\\python\\python39\\lib\\site-packages (from dataclasses-json<0.7,>=0.5.7->langchain-community->ragas) (0.9.0)\n",
      "Requirement already satisfied: python-dotenv>=0.21.0 in c:\\users\\dabra\\appdata\\local\\programs\\python\\python39\\lib\\site-packages (from pydantic-settings<3.0.0,>=2.4.0->langchain-community->ragas) (1.0.0)\n",
      "Requirement already satisfied: idna<4,>=2.5 in c:\\users\\dabra\\appdata\\local\\programs\\python\\python39\\lib\\site-packages (from requests<3,>=2->langchain-community->ragas) (3.10)\n",
      "Requirement already satisfied: urllib3<3,>=1.21.1 in c:\\users\\dabra\\appdata\\local\\programs\\python\\python39\\lib\\site-packages (from requests<3,>=2->langchain-community->ragas) (2.3.0)\n",
      "Requirement already satisfied: certifi>=2017.4.17 in c:\\users\\dabra\\appdata\\local\\programs\\python\\python39\\lib\\site-packages (from requests<3,>=2->langchain-community->ragas) (2024.12.14)\n",
      "Requirement already satisfied: charset-normalizer<4,>=2 in c:\\users\\dabra\\appdata\\local\\programs\\python\\python39\\lib\\site-packages (from requests<3,>=2->langchain-community->ragas) (3.4.1)\n",
      "Requirement already satisfied: aiohappyeyeballs>=2.3.0 in c:\\users\\dabra\\appdata\\local\\programs\\python\\python39\\lib\\site-packages (from aiohttp<4.0.0,>=3.8.3->langchain-community->ragas) (2.4.4)\n",
      "Requirement already satisfied: frozenlist>=1.1.1 in c:\\users\\dabra\\appdata\\local\\programs\\python\\python39\\lib\\site-packages (from aiohttp<4.0.0,>=3.8.3->langchain-community->ragas) (1.5.0)\n",
      "Requirement already satisfied: multidict<7.0,>=4.5 in c:\\users\\dabra\\appdata\\local\\programs\\python\\python39\\lib\\site-packages (from aiohttp<4.0.0,>=3.8.3->langchain-community->ragas) (6.1.0)\n",
      "Requirement already satisfied: aiosignal>=1.1.2 in c:\\users\\dabra\\appdata\\local\\programs\\python\\python39\\lib\\site-packages (from aiohttp<4.0.0,>=3.8.3->langchain-community->ragas) (1.3.2)\n",
      "Requirement already satisfied: attrs>=17.3.0 in c:\\users\\dabra\\appdata\\local\\programs\\python\\python39\\lib\\site-packages (from aiohttp<4.0.0,>=3.8.3->langchain-community->ragas) (24.3.0)\n",
      "Requirement already satisfied: propcache>=0.2.0 in c:\\users\\dabra\\appdata\\local\\programs\\python\\python39\\lib\\site-packages (from aiohttp<4.0.0,>=3.8.3->langchain-community->ragas) (0.2.1)\n",
      "Requirement already satisfied: yarl<2.0,>=1.17.0 in c:\\users\\dabra\\appdata\\local\\programs\\python\\python39\\lib\\site-packages (from aiohttp<4.0.0,>=3.8.3->langchain-community->ragas) (1.18.3)\n",
      "Requirement already satisfied: greenlet!=0.4.17; python_version < \"3.14\" and (platform_machine == \"aarch64\" or (platform_machine == \"ppc64le\" or (platform_machine == \"x86_64\" or (platform_machine == \"amd64\" or (platform_machine == \"AMD64\" or (platform_machine == \"win32\" or platform_machine == \"WIN32\")))))) in c:\\users\\dabra\\appdata\\local\\programs\\python\\python39\\lib\\site-packages (from SQLAlchemy<3,>=1.4->langchain-community->ragas) (3.1.1)\n",
      "Requirement already satisfied: requests-toolbelt<2.0.0,>=1.0.0 in c:\\users\\dabra\\appdata\\local\\programs\\python\\python39\\lib\\site-packages (from langsmith<0.4,>=0.1.125->langchain-community->ragas) (1.0.0)\n",
      "Requirement already satisfied: orjson<4.0.0,>=3.9.14; platform_python_implementation != \"PyPy\" in c:\\users\\dabra\\appdata\\local\\programs\\python\\python39\\lib\\site-packages (from langsmith<0.4,>=0.1.125->langchain-community->ragas) (3.10.15)\n",
      "Requirement already satisfied: zstandard<0.24.0,>=0.23.0 in c:\\users\\dabra\\appdata\\local\\programs\\python\\python39\\lib\\site-packages (from langsmith<0.4,>=0.1.125->langchain-community->ragas) (0.23.0)\n",
      "Requirement already satisfied: colorama; platform_system == \"Windows\" in c:\\users\\dabra\\appdata\\local\\programs\\python\\python39\\lib\\site-packages (from tqdm>=4.66.3->datasets->ragas) (0.4.6)\n",
      "Requirement already satisfied: pytz>=2020.1 in c:\\users\\dabra\\appdata\\local\\programs\\python\\python39\\lib\\site-packages (from pandas->datasets->ragas) (2024.2)\n",
      "Requirement already satisfied: python-dateutil>=2.8.2 in c:\\users\\dabra\\appdata\\roaming\\python\\python39\\site-packages (from pandas->datasets->ragas) (2.9.0.post0)\n",
      "Requirement already satisfied: tzdata>=2022.7 in c:\\users\\dabra\\appdata\\local\\programs\\python\\python39\\lib\\site-packages (from pandas->datasets->ragas) (2024.2)\n",
      "Requirement already satisfied: jsonpointer>=1.9 in c:\\users\\dabra\\appdata\\local\\programs\\python\\python39\\lib\\site-packages (from jsonpatch<2.0,>=1.33->langchain-core->ragas) (3.0.0)\n",
      "Requirement already satisfied: httpcore==1.* in c:\\users\\dabra\\appdata\\local\\programs\\python\\python39\\lib\\site-packages (from httpx<1,>=0.23.0->openai>1->ragas) (1.0.7)\n",
      "Requirement already satisfied: exceptiongroup; python_version < \"3.11\" in c:\\users\\dabra\\appdata\\local\\programs\\python\\python39\\lib\\site-packages (from anyio<5,>=3.5.0->openai>1->ragas) (1.2.2)\n",
      "Requirement already satisfied: mypy-extensions>=0.3.0 in c:\\users\\dabra\\appdata\\local\\programs\\python\\python39\\lib\\site-packages (from typing-inspect<1,>=0.4.0->dataclasses-json<0.7,>=0.5.7->langchain-community->ragas) (1.0.0)\n",
      "Requirement already satisfied: six>=1.5 in c:\\users\\dabra\\appdata\\roaming\\python\\python39\\site-packages (from python-dateutil>=2.8.2->pandas->datasets->ragas) (1.17.0)\n",
      "Requirement already satisfied: h11<0.15,>=0.13 in c:\\users\\dabra\\appdata\\local\\programs\\python\\python39\\lib\\site-packages (from httpcore==1.*->httpx<1,>=0.23.0->openai>1->ragas) (0.14.0)\n",
      "Installing collected packages: appdirs, diskcache, ragas\n",
      "Successfully installed appdirs-1.4.4 diskcache-5.6.3 ragas-0.2.13\n"
     ]
    },
    {
     "name": "stderr",
     "output_type": "stream",
     "text": [
      "WARNING: You are using pip version 20.2.3; however, version 25.0 is available.\n",
      "You should consider upgrading via the 'c:\\Users\\dabra\\AppData\\Local\\Programs\\Python\\Python39\\python.exe -m pip install --upgrade pip' command.\n"
     ]
    }
   ],
   "source": [
    "!{sys.executable} -m pip install ragas"
   ]
  },
  {
   "cell_type": "code",
   "execution_count": 38,
   "metadata": {},
   "outputs": [
    {
     "name": "stderr",
     "output_type": "stream",
     "text": [
      "c:\\Users\\dabra\\AppData\\Local\\Programs\\Python\\Python39\\lib\\site-packages\\tqdm\\auto.py:21: TqdmWarning: IProgress not found. Please update jupyter and ipywidgets. See https://ipywidgets.readthedocs.io/en/stable/user_install.html\n",
      "  from .autonotebook import tqdm as notebook_tqdm\n"
     ]
    },
    {
     "name": "stdout",
     "output_type": "stream",
     "text": [
      "0.2.13\n"
     ]
    }
   ],
   "source": [
    "import ragas\n",
    "print(ragas.__version__)"
   ]
  },
  {
   "cell_type": "code",
   "execution_count": 40,
   "metadata": {},
   "outputs": [],
   "source": [
    "from ragas.llms import LangchainLLMWrapper\n",
    "from ragas.embeddings import LangchainEmbeddingsWrapper\n",
    "from langchain_openai import ChatOpenAI\n",
    "from langchain_openai import OpenAIEmbeddings\n",
    "\n",
    "generator_llm = LangchainLLMWrapper(ChatOpenAI(model=\"gpt-4o\"))\n",
    "generator_embeddings = LangchainEmbeddingsWrapper(OpenAIEmbeddings())"
   ]
  },
  {
   "cell_type": "markdown",
   "metadata": {},
   "source": [
    "Next, we're going to instantiate our Knowledge Graph.\n",
    "\n",
    "This graph will contain N number of nodes that have M number of relationships. These nodes and relationships (AKA \"edges\") will define our knowledge graph and be used later to construct relevant questions and responses."
   ]
  },
  {
   "cell_type": "code",
   "execution_count": 41,
   "metadata": {},
   "outputs": [
    {
     "data": {
      "text/plain": [
       "KnowledgeGraph(nodes: 0, relationships: 0)"
      ]
     },
     "execution_count": 41,
     "metadata": {},
     "output_type": "execute_result"
    }
   ],
   "source": [
    "from ragas.testset.graph import KnowledgeGraph\n",
    "\n",
    "kg = KnowledgeGraph()\n",
    "kg"
   ]
  },
  {
   "cell_type": "markdown",
   "metadata": {},
   "source": [
    "The first step we're going to take is to simply insert each of our full documents into the graph. This will provide a base that we can apply transformations to."
   ]
  },
  {
   "cell_type": "code",
   "execution_count": 42,
   "metadata": {},
   "outputs": [
    {
     "data": {
      "text/plain": [
       "KnowledgeGraph(nodes: 0, relationships: 0)"
      ]
     },
     "execution_count": 42,
     "metadata": {},
     "output_type": "execute_result"
    }
   ],
   "source": [
    "from ragas.testset.graph import Node, NodeType\n",
    "\n",
    "for doc in docs:\n",
    "    kg.nodes.append(\n",
    "        Node(\n",
    "            type=NodeType.DOCUMENT,\n",
    "            properties={\"page_content\": doc.page_content, \"document_metadata\": doc.metadata}\n",
    "        )\n",
    "    )\n",
    "kg"
   ]
  },
  {
   "cell_type": "markdown",
   "metadata": {},
   "source": [
    "Now, we'll apply the *default* transformations to our knowledge graph. This will take the nodes currently on the graph and transform them based on a set of [default transformations](https://docs.ragas.io/en/latest/references/transforms/#ragas.testset.transforms.default_transforms).\n",
    "\n",
    "These default transformations are dependent on the corpus length, in our case:\n",
    "\n",
    "- Producing Summaries -> produces summaries of the documents\n",
    "- Extracting Headlines -> finding the overall headline for the document\n",
    "- Theme Extractor -> extracts broad themes about the documents\n",
    "\n",
    "It then uses cosine-similarity and heuristics between the embeddings of the above transformations to construct relationships between the nodes."
   ]
  },
  {
   "cell_type": "code",
   "execution_count": 46,
   "metadata": {},
   "outputs": [],
   "source": [
    "from ragas.testset.transforms import default_transforms, apply_transforms\n",
    "\n",
    "transformer_llm = generator_llm\n",
    "embedding_model = generator_embeddings"
   ]
  },
  {
   "cell_type": "code",
   "execution_count": 56,
   "metadata": {},
   "outputs": [],
   "source": [
    "default_transforms = default_transforms(documents=docs, llm=transformer_llm, embedding_model=embedding_model)"
   ]
  },
  {
   "cell_type": "code",
   "execution_count": 59,
   "metadata": {},
   "outputs": [
    {
     "data": {
      "text/plain": [
       "[Document(metadata={'source': 'data\\\\2023_llms.html'}, page_content=\"Simon Willison’s Weblog\\n\\nSubscribe\\n\\nStuff we figured out about AI in 2023\\n\\n31st December 2023\\n\\n2023 was the breakthrough year for Large Language Models (LLMs). I think it’s OK to call these AI—they’re the latest and (currently) most interesting development in the academic field of Artificial Intelligence that dates back to the 1950s.\\n\\nHere’s my attempt to round up the highlights in one place!\\n\\nLarge Language Models\\n\\nThey’re actually quite easy to build\\n\\nYou can run LLMs on your own devices\\n\\nHobbyists can build their own fine-tuned models\\n\\nWe don’t yet know how to build GPT-4\\n\\nVibes Based Development\\n\\nLLMs are really smart, and also really, really dumb\\n\\nGullibility is the biggest unsolved problem\\n\\nCode may be the best application\\n\\nThe ethics of this space remain diabolically complex\\n\\nMy blog in 2023\\n\\nHere’s the sequel to this post: Things we learned about LLMs in 2024.\\n\\nLarge Language Models\\n\\nIn the past 24-36 months, our species has discovered that you can take a GIANT corpus of text, run it through a pile of GPUs, and use it to create a fascinating new kind of software.\\n\\nLLMs can do a lot of things. They can answer questions, summarize documents, translate from one language to another, extract information and even write surprisingly competent code.\\n\\nThey can also help you cheat at your homework, generate unlimited streams of fake content and be used for all manner of nefarious purposes.\\n\\nSo far, I think they’re a net positive. I’ve used them on a personal level to improve my productivity (and entertain myself) in all sorts of different ways. I think people who learn how to use them effectively can gain a significant boost to their quality of life.\\n\\nA lot of people are yet to be sold on their value! Some think their negatives outweigh their positives, some think they are all hot air, and some even think they represent an existential threat to humanity.\\n\\nThey’re actually quite easy to build\\n\\nThe most surprising thing we’ve learned about LLMs this year is that they’re actually quite easy to build.\\n\\nIntuitively, one would expect that systems this powerful would take millions of lines of complex code. Instead, it turns out a few hundred lines of Python is genuinely enough to train a basic version!\\n\\nWhat matters most is the training data. You need a lot of data to make these things work, and the quantity and quality of the training data appears to be the most important factor in how good the resulting model is.\\n\\nIf you can gather the right data, and afford to pay for the GPUs to train it, you can build an LLM.\\n\\nA year ago, the only organization that had released a generally useful LLM was OpenAI. We’ve now seen better-than-GPT-3 class models produced by Anthropic, Mistral, Google, Meta, EleutherAI, Stability AI, TII in Abu Dhabi (Falcon), Microsoft Research, xAI, Replit, Baidu and a bunch of other organizations.\\n\\nThe training cost (hardware and electricity) is still significant—initially millions of dollars, but that seems to have dropped to the tens of thousands already. Microsoft’s Phi-2 claims to have used “14 days on 96 A100 GPUs”, which works out at around $35,000 using current Lambda pricing.\\n\\nSo training an LLM still isn’t something a hobbyist can afford, but it’s no longer the sole domain of the super-rich. I like to compare the difficulty of training an LLM to that of building a suspension bridge—not trivial, but hundreds of countries around the world have figured out how to do it. (Correction: Wikipedia’s Suspension bridges by country category lists 44 countries).\\n\\nYou can run LLMs on your own devices\\n\\nIn January of this year, I thought it would be years before I could run a useful LLM on my own computer. GPT-3 and 3.5 were pretty much the only games in town, and I thought that even if the model weights were available it would take a $10,000+ server to run them.\\n\\nThen in February, Meta released Llama. And a few weeks later in March, Georgi Gerganov released code that got it working on a MacBook.\\n\\nI wrote about how Large language models are having their Stable Diffusion moment, and with hindsight that was a very good call!\\n\\nThis unleashed a whirlwind of innovation, which was accelerated further in July when Meta released Llama 2—an improved version which, crucially, included permission for commercial use.\\n\\nToday there are literally thousands of LLMs that can be run locally, on all manner of different devices.\\n\\nI run a bunch of them on my laptop. I run Mistral 7B (a surprisingly great model) on my iPhone. You can install several different apps to get your own, local, completely private LLM. My own LLM project provides a CLI tool for running an array of different models via plugins.\\n\\nYou can even run them entirely in your browser using WebAssembly and the latest Chrome!\\n\\nHobbyists can build their own fine-tuned models\\n\\nI said earlier that building an LLM was still out of reach of hobbyists. That may be true for training from scratch, but fine-tuning one of those models is another matter entirely.\\n\\nThere’s now a fascinating ecosystem of people training their own models on top of these foundations, publishing those models, building fine-tuning datasets and sharing those too.\\n\\nThe Hugging Face Open LLM Leaderboard is one place that tracks these. I can’t even attempt to count them, and any count would be out-of-date within a few hours.\\n\\nThe best overall openly licensed LLM at any time is rarely a foundation model: instead, it’s whichever fine-tuned community model has most recently discovered the best combination of fine-tuning data.\\n\\nThis is a huge advantage for open over closed models: the closed, hosted models don’t have thousands of researchers and hobbyists around the world collaborating and competing to improve them.\\n\\nWe don’t yet know how to build GPT-4\\n\\nFrustratingly, despite the enormous leaps ahead we’ve had this year, we are yet to see an alternative model that’s better than GPT-4.\\n\\nOpenAI released GPT-4 in March, though it later turned out we had a sneak peak of it in February when Microsoft used it as part of the new Bing.\\n\\nThis may well change in the next few weeks: Google’s Gemini Ultra has big claims, but isn’t yet available for us to try out.\\n\\nThe team behind Mistral are working to beat GPT-4 as well, and their track record is already extremely strong considering their first public model only came out in September, and they’ve released two significant improvements since then.\\n\\nStill, I’m surprised that no-one has beaten the now almost year old GPT-4 by now. OpenAI clearly have some substantial tricks that they haven’t shared yet.\\n\\nVibes Based Development\\n\\nAs a computer scientist and software engineer, LLMs are infuriating.\\n\\nEven the openly licensed ones are still the world’s most convoluted black boxes. We continue to have very little idea what they can do, how exactly they work and how best to control them.\\n\\nI’m used to programming where the computer does exactly what I tell it to do. Prompting an LLM is decidedly not that!\\n\\nThe worst part is the challenge of evaluating them.\\n\\nThere are plenty of benchmarks, but no benchmark is going to tell you if an LLM actually “feels” right when you try it for a given task.\\n\\nI find I have to work with an LLM for a few weeks in order to get a good intuition for it’s strengths and weaknesses. This greatly limits how many I can evaluate myself!\\n\\nThe most frustrating thing for me is at the level of individual prompting.\\n\\nSometimes I’ll tweak a prompt and capitalize some of the words in it, to emphasize that I really want it to OUTPUT VALID MARKDOWN or similar. Did capitalizing those words make a difference? I still don’t have a good methodology for figuring that out.\\n\\nWe’re left with what’s effectively Vibes Based Development. It’s vibes all the way down.\\n\\nI’d love to see us move beyond vibes in 2024!\\n\\nLLMs are really smart, and also really, really dumb\\n\\nOn the one hand, we keep on finding new things that LLMs can do that we didn’t expect—and that the people who trained the models didn’t expect either. That’s usually really fun!\\n\\nBut on the other hand, the things you sometimes have to do to get the models to behave are often incredibly dumb.\\n\\nDoes ChatGPT get lazy in December, because its hidden system prompt includes the current date and its training data shows that people provide less useful answers coming up to the holidays?\\n\\nThe honest answer is “maybe”! No-one is entirely sure, but if you give it a different date its answers may skew slightly longer.\\n\\nSometimes it omits sections of code and leaves you to fill them in, but if you tell it you can’t type because you don’t have any fingers it produces the full code for you instead.\\n\\nThere are so many more examples like this. Offer it cash tips for better answers. Tell it your career depends on it. Give it positive reinforcement. It’s all so dumb, but it works!\\n\\nGullibility is the biggest unsolved problem\\n\\nI coined the term prompt injection in September last year.\\n\\n15 months later, I regret to say that we’re still no closer to a robust, dependable solution to this problem.\\n\\nI’ve written a ton about this already.\\n\\nBeyond that specific class of security vulnerabilities, I’ve started seeing this as a wider problem of gullibility.\\n\\nLanguage Models are gullible. They “believe” what we tell them—what’s in their training data, then what’s in the fine-tuning data, then what’s in the prompt.\\n\\nIn order to be useful tools for us, we need them to believe what we feed them!\\n\\nBut it turns out a lot of the things we want to build need them not to be gullible.\\n\\nEveryone wants an AI personal assistant. If you hired a real-world personal assistant who believed everything that anyone told them, you would quickly find that their ability to positively impact your life was severely limited.\\n\\nA lot of people are excited about AI agents—an infuriatingly vague term that seems to be converging on “AI systems that can go away and act on your behalf”. We’ve been talking about them all year, but I’ve seen few if any examples of them running in production, despite lots of exciting prototypes.\\n\\nI think this is because of gullibility.\\n\\nCan we solve this? Honestly, I’m beginning to suspect that you can’t fully solve gullibility without achieving AGI. So it may be quite a while before those agent dreams can really start to come true!\\n\\nCode may be the best application\\n\\nOver the course of the year, it’s become increasingly clear that writing code is one of the things LLMs are most capable of.\\n\\nIf you think about what they do, this isn’t such a big surprise. The grammar rules of programming languages like Python and JavaScript are massively less complicated than the grammar of Chinese, Spanish or English.\\n\\nIt’s still astonishing to me how effective they are though.\\n\\nOne of the great weaknesses of LLMs is their tendency to hallucinate—to imagine things that don’t correspond to reality. You would expect this to be a particularly bad problem for code—if an LLM hallucinates a method that doesn’t exist, the code should be useless.\\n\\nExcept... you can run generated code to see if it’s correct. And with patterns like ChatGPT Code Interpreter the LLM can execute the code itself, process the error message, then rewrite it and keep trying until it works!\\n\\nSo hallucination is a much lesser problem for code generation than for anything else. If only we had the equivalent of Code Interpreter for fact-checking natural language!\\n\\nHow should we feel about this as software engineers?\\n\\nOn the one hand, this feels like a threat: who needs a programmer if ChatGPT can write code for you?\\n\\nOn the other hand, as software engineers we are better placed to take advantage of this than anyone else. We’ve all been given weird coding interns—we can use our deep knowledge to prompt them to solve coding problems more effectively than anyone else can.\\n\\nThe ethics of this space remain diabolically complex\\n\\nIn September last year Andy Baio and I produced the first major story on the unlicensed training data behind Stable Diffusion.\\n\\nSince then, almost every major LLM (and most of the image generation models) have also been trained on unlicensed data.\\n\\nJust this week, the New York Times launched a landmark lawsuit against OpenAI and Microsoft over this issue. The 69 page PDF is genuinely worth reading—especially the first few pages, which lay out the issues in a way that’s surprisingly easy to follow. The rest of the document includes some of the clearest explanations of what LLMs are, how they work and how they are built that I’ve read anywhere.\\n\\nThe legal arguments here are complex. I’m not a lawyer, but I don’t think this one will be easily decided. Whichever way it goes, I expect this case to have a profound impact on how this technology develops in the future.\\n\\nLaw is not ethics. Is it OK to train models on people’s content without their permission, when those models will then be used in ways that compete with those people?\\n\\nAs the quality of results produced by AI models has increased over the year, these questions have become even more pressing.\\n\\nThe impact on human society in terms of these models is already huge, if difficult to objectively measure.\\n\\nPeople have certainly lost work to them—anecdotally, I’ve seen this for copywriters, artists and translators.\\n\\nThere are a great deal of untold stories here. I’m hoping 2024 sees significant amounts of dedicated journalism on this topic.\\n\\nMy blog in 2023\\n\\nHere’s a tag cloud for content I posted to my blog in 2023 (generated using Django SQL Dashboard):\\n\\nThe top five: ai (342), generativeai (300), llms (287), openai (86), chatgpt (78).\\n\\nI’ve written a lot about this stuff!\\n\\nI grabbed a screenshot of my Plausible analytics for the year, fed that to ChatGPT Vision, told it to extract the data into a table, then got it to mix in entry titles (from a SQL query it wrote) and produced this table with it. Here are my top entries this year by amount of traffic:\\n\\nArticle Visitors Pageviews Bing: “I will not harm you unless you harm me first” 1.1M 1.3M Leaked Google document: “We Have No Moat, And Neither Does OpenAI” 132k 162k Large language models are having their Stable Diffusion moment 121k 150k Prompt injection: What’s the worst that can happen? 79.8k 95.9k Embeddings: What they are and why they matter 61.7k 79.3k Catching up on the weird world of LLMs 61.6k 85.9k llamafile is the new best way to run an LLM on your own computer 52k 66k Prompt injection explained, with video, slides, and a transcript 51k 61.9k AI-enhanced development makes me more ambitious with my projects 49.6k 60.1k Understanding GPT tokenizers 49.5k 61.1k Exploring GPTs: ChatGPT in a trench coat? 46.4k 58.5k Could you train a ChatGPT-beating model for $85,000 and run it in a browser? 40.5k 49.2k How to implement Q&A against your documentation with GPT3, embeddings and Datasette 37.3k 44.9k Lawyer cites fake cases invented by ChatGPT, judge is not amused 37.1k 47.4k Now add a walrus: Prompt engineering in DALL-E 3 32.8k 41.2k Web LLM runs the vicuna-7b Large Language Model entirely in your browser, and it’s very impressive 32.5k 38.2k ChatGPT can’t access the internet, even though it really looks like it can 30.5k 34.2k Stanford Alpaca, and the acceleration of on-device large language model development 29.7k 35.7k Run Llama 2 on your own Mac using LLM and Homebrew 27.9k 33.6k Midjourney 5.1 26.7k 33.4k Think of language models like ChatGPT as a “calculator for words” 25k 31.8k Multi-modal prompt injection image attacks against GPT-4V 23.7k 27.4k\\n\\nI also gave a bunch of talks and podcast appearances. I’ve started habitually turning my talks into annotated presentations—here are my best from 2023:\\n\\nPrompt injection explained, with video, slides, and a transcript\\n\\nCatching up on the weird world of LLMs\\n\\nMaking Large Language Models work for you\\n\\nOpen questions for AI engineering\\n\\nEmbeddings: What they are and why they matter\\n\\nFinancial sustainability for open source projects at GitHub Universe\\n\\nAnd in podcasts:\\n\\nWhat AI can do for you on the Theory of Change\\n\\nWorking in public on Path to Citus Con\\n\\nLLMs break the internet on the Changelog\\n\\nTalking Large Language Models on Rooftop Ruby\\n\\nThoughts on the OpenAI board situation on Newsroom Robots\\n\\nIndustry’s Tardy Response to the AI Prompt Injection Vulnerability on RedMonk Conversations\\n\\nPosted 31st December 2023 at 11:59 pm · Follow me on Mastodon or Twitter or subscribe to my newsletter\\n\\nMore recent articles\\n\\nOpenAI o3-mini, now available in LLM - 31st January 2025\\n\\nA selfish personal argument for releasing code as Open Source - 24th January 2025\\n\\nAnthropic's new Citations API - 24th January 2025\\n\\nThis is Stuff we figured out about AI in 2023 by Simon Willison, posted on 31st December 2023.\\n\\nPart of series LLMs annual review\\n\\nStuff we figured out about AI in 2023 - Dec. 31, 2023, 11:59 p.m.\\n\\nThings we learned about LLMs in 2024 - Dec. 31, 2024, 6:07 p.m.\\n\\nblogging 67 ai 1080 generative-ai 926 llms 914\\n\\nNext: Tom Scott, and the formidable power of escalating streaks\\n\\nPrevious: Last weeknotes of 2023\\n\\nColophon\\n\\n©\\n\\n2002\\n\\n2003\\n\\n2004\\n\\n2005\\n\\n2006\\n\\n2007\\n\\n2008\\n\\n2009\\n\\n2010\\n\\n2011\\n\\n2012\\n\\n2013\\n\\n2014\\n\\n2015\\n\\n2016\\n\\n2017\\n\\n2018\\n\\n2019\\n\\n2020\\n\\n2021\\n\\n2022\\n\\n2023\\n\\n2024\\n\\n2025\"),\n",
       " Document(metadata={'source': 'data\\\\2024_llms.html'}, page_content='Simon Willison’s Weblog\\n\\nSubscribe\\n\\nThings we learned about LLMs in 2024\\n\\n31st December 2024\\n\\nA lot has happened in the world of Large Language Models over the course of 2024. Here’s a review of things we figured out about the field in the past twelve months, plus my attempt at identifying key themes and pivotal moments.\\n\\nThis is a sequel to my review of 2023.\\n\\nIn this article:\\n\\nThe GPT-4 barrier was comprehensively broken\\n\\nSome of those GPT-4 models run on my laptop\\n\\nLLM prices crashed, thanks to competition and increased efficiency\\n\\nMultimodal vision is common, audio and video are starting to emerge\\n\\nVoice and live camera mode are science fiction come to life\\n\\nPrompt driven app generation is a commodity already\\n\\nUniversal access to the best models lasted for just a few short months\\n\\n“Agents” still haven’t really happened yet\\n\\nEvals really matter\\n\\nApple Intelligence is bad, Apple’s MLX library is excellent\\n\\nThe rise of inference-scaling “reasoning” models\\n\\nWas the best currently available LLM trained in China for less than $6m?\\n\\nThe environmental impact got better\\n\\nThe environmental impact got much, much worse\\n\\nThe year of slop\\n\\nSynthetic training data works great\\n\\nLLMs somehow got even harder to use\\n\\nKnowledge is incredibly unevenly distributed\\n\\nLLMs need better criticism\\n\\nEverything tagged “llms” on my blog in 2024\\n\\nThe GPT-4 barrier was comprehensively broken\\n\\nIn my December 2023 review I wrote about how We don’t yet know how to build GPT-4—OpenAI’s best model was almost a year old at that point, yet no other AI lab had produced anything better. What did OpenAI know that the rest of us didn’t?\\n\\nI’m relieved that this has changed completely in the past twelve months. 18 organizations now have models on the Chatbot Arena Leaderboard that rank higher than the original GPT-4 from March 2023 (GPT-4-0314 on the board)—70 models in total.\\n\\nThe earliest of those was Google’s Gemini 1.5 Pro, released in February. In addition to producing GPT-4 level outputs, it introduced several brand new capabilities to the field—most notably its 1 million (and then later 2 million) token input context length, and the ability to input video.\\n\\nI wrote about this at the time in The killer app of Gemini Pro 1.5 is video, which earned me a short appearance as a talking head in the Google I/O opening keynote in May.\\n\\nGemini 1.5 Pro also illustrated one of the key themes of 2024: increased context lengths. Last year most models accepted 4,096 or 8,192 tokens, with the notable exception of Claude 2.1 which accepted 200,000. Today every serious provider has a 100,000+ token model, and Google’s Gemini series accepts up to 2 million.\\n\\nLonger inputs dramatically increase the scope of problems that can be solved with an LLM: you can now throw in an entire book and ask questions about its contents, but more importantly you can feed in a lot of example code to help the model correctly solve a coding problem. LLM use-cases that involve long inputs are far more interesting to me than short prompts that rely purely on the information already baked into the model weights. Many of my tools were built using this pattern.\\n\\nGetting back to models that beat GPT-4: Anthropic’s Claude 3 series launched in March, and Claude 3 Opus quickly became my new favourite daily-driver. They upped the ante even more in June with the launch of Claude 3.5 Sonnet—a model that is still my favourite six months later (though it got a significant upgrade on October 22, confusingly keeping the same 3.5 version number. Anthropic fans have since taken to calling it Claude 3.6).\\n\\nThen there’s the rest. If you browse the Chatbot Arena leaderboard today—still the most useful single place to get a vibes-based evaluation of models—you’ll see that GPT-4-0314 has fallen to around 70th place. The 18 organizations with higher scoring models are Google, OpenAI, Alibaba, Anthropic, Meta, Reka AI, 01 AI, Amazon, Cohere, DeepSeek, Nvidia, Mistral, NexusFlow, Zhipu AI, xAI, AI21 Labs, Princeton and Tencent.\\n\\nTraining a GPT-4 beating model was a huge deal in 2023. In 2024 it’s an achievement that isn’t even particularly notable, though I personally still celebrate any time a new organization joins that list.\\n\\nSome of those GPT-4 models run on my laptop\\n\\nMy personal laptop is a 64GB M2 MacBook Pro from 2023. It’s a powerful machine, but it’s also nearly two years old now—and crucially it’s the same laptop I’ve been using ever since I first ran an LLM on my computer back in March 2023 (see Large language models are having their Stable Diffusion moment).\\n\\nThat same laptop that could just about run a GPT-3-class model in March last year has now run multiple GPT-4 class models! Some of my notes on that:\\n\\nQwen2.5-Coder-32B is an LLM that can code well that runs on my Mac talks about Qwen2.5-Coder-32B in November—an Apache 2.0 licensed model!\\n\\nI can now run a GPT-4 class model on my laptop talks about running Meta’s Llama 3.3 70B (released in December)\\n\\nThis remains astonishing to me. I thought a model with the capabilities and output quality of GPT-4 needed a datacenter class server with one or more $40,000+ GPUs.\\n\\nThese models take up enough of my 64GB of RAM that I don’t run them often—they don’t leave much room for anything else.\\n\\nThe fact that they run at all is a testament to the incredible training and inference performance gains that we’ve figured out over the past year. It turns out there was a lot of low-hanging fruit to be harvested in terms of model efficiency. I expect there’s still more to come.\\n\\nMeta’s Llama 3.2 models deserve a special mention. They may not be GPT-4 class, but at 1B and 3B sizes they punch massively above their weight. I run Llama 3.2 3B on my iPhone using the free MLC Chat iOS app and it’s a shockingly capable model for its tiny (<2GB) size. Try firing it up and asking it for “a plot outline of a Netflix Christmas movie where a data journalist falls in love with a local ceramacist”. Here’s what I got, at a respectable 20 tokens per second:\\n\\nHere’s the rest of the transcript. It’s bland and generic, but my phone can pitch bland and generic Christmas movies to Netflix now!\\n\\nLLM prices crashed, thanks to competition and increased efficiency\\n\\nThe past twelve months have seen a dramatic collapse in the cost of running a prompt through the top tier hosted LLMs.\\n\\nIn December 2023 (here’s the Internet Archive for the OpenAI pricing page) OpenAI were charging $30/million input tokens for GPT-4, $10/mTok for the then-new GPT-4 Turbo and $1/mTok for GPT-3.5 Turbo.\\n\\nToday $30/mTok gets you OpenAI’s most expensive model, o1. GPT-4o is $2.50 (12x cheaper than GPT-4) and GPT-4o mini is $0.15/mTok—nearly 7x cheaper than GPT-3.5 and massively more capable.\\n\\nOther model providers charge even less. Anthropic’s Claude 3 Haiku (from March, but still their cheapest model) is $0.25/mTok. Google’s Gemini 1.5 Flash is $0.075/mTok and their Gemini 1.5 Flash 8B is $0.0375/mTok—that’s 27x cheaper than GPT-3.5 Turbo last year.\\n\\nI’ve been tracking these pricing changes under my llm-pricing tag.\\n\\nThese price drops are driven by two factors: increased competition and increased efficiency. The efficiency thing is really important for everyone who is concerned about the environmental impact of LLMs. These price drops tie directly to how much energy is being used for running prompts.\\n\\nThere’s still plenty to worry about with respect to the environmental impact of the great AI datacenter buildout, but a lot of the concerns over the energy cost of individual prompts are no longer credible.\\n\\nHere’s a fun napkin calculation: how much would it cost to generate short descriptions of every one of the 68,000 photos in my personal photo library using Google’s Gemini 1.5 Flash 8B (released in October), their cheapest model?\\n\\nEach photo would need 260 input tokens and around 100 output tokens.\\n\\n260 * 68,000 = 17,680,000 input tokens 17,680,000 * $0.0375/million = $0.66 100 * 68,000 = 6,800,000 output tokens 6,800,000 * $0.15/million = $1.02\\n\\nThat’s a total cost of $1.68 to process 68,000 images. That’s so absurdly cheap I had to run the numbers three times to confirm I got it right.\\n\\nHow good are those descriptions? Here’s what I got from this command:\\n\\nllm -m gemini-1.5-flash-8b-latest describe -a IMG_1825.jpeg\\n\\nAgainst this photo of butterflies at the California Academy of Sciences:\\n\\nA shallow dish, likely a hummingbird or butterfly feeder, is red. Pieces of orange slices of fruit are visible inside the dish.\\n\\nTwo butterflies are positioned in the feeder, one is a dark brown/black butterfly with white/cream-colored markings. The other is a large, brown butterfly with patterns of lighter brown, beige, and black markings, including prominent eye spots. The larger brown butterfly appears to be feeding on the fruit.\\n\\n260 input tokens, 92 output tokens. Cost approximately 0.0024 cents (that’s less than a 400th of a cent).\\n\\nThis increase in efficiency and reduction in price is my single favourite trend from 2024. I want the utility of LLMs at a fraction of the energy cost and it looks like that’s what we’re getting.\\n\\nMultimodal vision is common, audio and video are starting to emerge\\n\\nMy butterfly example above illustrates another key trend from 2024: the rise of multi-modal LLMs.\\n\\nA year ago the single most notable example of these was GPT-4 Vision, released at OpenAI’s DevDay in November 2023. Google’s multi-modal Gemini 1.0 was announced on December 7th 2023 so it also (just) makes it into the 2023 window.\\n\\nIn 2024, almost every significant model vendor released multi-modal models. We saw the Claude 3 series from Anthropic in March, Gemini 1.5 Pro in April (images, audio and video), then September brought Qwen2-VL and Mistral’s Pixtral 12B and Meta’s Llama 3.2 11B and 90B vision models. We got audio input and output from OpenAI in October, then November saw SmolVLM from Hugging Face and December saw image and video models from Amazon Nova.\\n\\nIn October I upgraded my LLM CLI tool to support multi-modal models via attachments. It now has plugins for a whole collection of different vision models.\\n\\nI think people who complain that LLM improvement has slowed are often missing the enormous advances in these multi-modal models. Being able to run prompts against images (and audio and video) is a fascinating new way to apply these models.\\n\\nVoice and live camera mode are science fiction come to life\\n\\nThe audio and live video modes that have started to emerge deserve a special mention.\\n\\nThe ability to talk to ChatGPT first arrived in September 2023, but it was mostly an illusion: OpenAI used their excellent Whisper speech-to-text model and a new text-to-speech model (creatively named tts-1) to enable conversations with the ChatGPT mobile apps, but the actual model just saw text.\\n\\nThe May 13th announcement of GPT-4o included a demo of a brand new voice mode, where the true multi-modal GPT-4o (the o is for “omni”) model could accept audio input and output incredibly realistic sounding speech without needing separate TTS or STT models.\\n\\nThe demo also sounded conspicuously similar to Scarlett Johansson... and after she complained the voice from the demo, Skye, never made it to a production product.\\n\\nThe delay in releasing the new voice mode after the initial demo caused quite a lot of confusion. I wrote about that in ChatGPT in “4o” mode is not running the new features yet.\\n\\nWhen ChatGPT Advanced Voice mode finally did roll out (a slow roll from August through September) it was spectacular. I’ve been using it extensively on walks with my dog and it’s amazing how much the improvement in intonation elevates the material. I’ve also had a lot of fun experimenting with the OpenAI audio APIs.\\n\\nEven more fun: Advanced Voice mode can do accents! Here’s what happened when I told it I need you to pretend to be a California brown pelican with a very thick Russian accent, but you talk to me exclusively in Spanish.\\n\\nOpenAI aren’t the only group with a multi-modal audio model. Google’s Gemini also accepts audio input, and the Google Gemini apps can speak in a similar way to ChatGPT now. Amazon also pre-announced voice mode for Amazon Nova, but that’s meant to roll out in Q1 of 2025.\\n\\nGoogle’s NotebookLM, released in September, took audio output to a new level by producing spookily realistic conversations between two “podcast hosts” about anything you fed into their tool. They later added custom instructions, so naturally I turned them into pelicans:\\n\\nThe most recent twist, again from December (December was a lot) is live video. ChatGPT voice mode now provides the option to share your camera feed with the model and talk about what you can see in real time. Google Gemini have a preview of the same feature, which they managed to ship the day before ChatGPT did.\\n\\nThese abilities are just a few weeks old at this point, and I don’t think their impact has been fully felt yet. If you haven’t tried them out yet you really should.\\n\\nBoth Gemini and OpenAI offer API access to these features as well. OpenAI started with a WebSocket API that was quite challenging to use, but in December they announced a new WebRTC API which is much easier to get started with. Building a web app that a user can talk to via voice is easy now!\\n\\nPrompt driven app generation is a commodity already\\n\\nThis was possible with GPT-4 in 2023, but the value it provides became evident in 2024.\\n\\nWe already knew LLMs were spookily good at writing code. If you prompt them right, it turns out they can build you a full interactive application using HTML, CSS and JavaScript (and tools like React if you wire up some extra supporting build mechanisms)—often in a single prompt.\\n\\nAnthropic kicked this idea into high gear when they released Claude Artifacts, a groundbreaking new feature that was initially slightly lost in the noise due to being described half way through their announcement of the incredible Claude 3.5 Sonnet.\\n\\nWith Artifacts, Claude can write you an on-demand interactive application and then let you use it directly inside the Claude interface.\\n\\nHere’s my Extract URLs app, entirely generated by Claude:\\n\\nI’ve found myself using this a lot. I noticed how much I was relying on it in October and wrote Everything I built with Claude Artifacts this week, describing 14 little tools I had put together in a seven day period.\\n\\nSince then, a whole bunch of other teams have built similar systems. GitHub announced their version of this—GitHub Spark—in October. Mistral Chat added it as a feature called Canvas in November.\\n\\nSteve Krouse from Val Town built a version of it against Cerebras, showcasing how a 2,000 token/second LLM can iterate on an application with changes visible in less than a second.\\n\\nThen in December, the Chatbot Arena team introduced a whole new leaderboard for this feature, driven by users building the same interactive app twice with two different models and voting on the answer. Hard to come up with a more convincing argument that this feature is now a commodity that can be effectively implemented against all of the leading models.\\n\\nI’ve been tinkering with a version of this myself for my Datasette project, with the goal of letting users use prompts to build and iterate on custom widgets and data visualizations against their own data. I also figured out a similar pattern for writing one-shot Python programs, enabled by uv.\\n\\nThis prompt-driven custom interface feature is so powerful and easy to build (once you’ve figured out the gnarly details of browser sandboxing) that I expect it to show up as a feature in a wide range of products in 2025.\\n\\nUniversal access to the best models lasted for just a few short months\\n\\nFor a few short months this year all three of the best available models—GPT-4o, Claude 3.5 Sonnet and Gemini 1.5 Pro—were freely available to most of the world.\\n\\nOpenAI made GPT-4o free for all users in May, and Claude 3.5 Sonnet was freely available from its launch in June. This was a momentus change, because for the previous year free users had mostly been restricted to GPT-3.5 level models, meaning new users got a very inaccurate mental model of what a capable LLM could actually do.\\n\\nThat era appears to have ended, likely permanently, with OpenAI’s launch of ChatGPT Pro. This $200/month subscription service is the only way to access their most capable model, o1 Pro.\\n\\nSince the trick behind the o1 series (and the future models it will undoubtedly inspire) is to expend more compute time to get better results, I don’t think those days of free access to the best available models are likely to return.\\n\\n“Agents” still haven’t really happened yet\\n\\nI find the term “agents” extremely frustrating. It lacks a single, clear and widely understood meaning... but the people who use the term never seem to acknowledge that.\\n\\nIf you tell me that you are building “agents”, you’ve conveyed almost no information to me at all. Without reading your mind I have no way of telling which of the dozens of possible definitions you are talking about.\\n\\nThe two main categories I see are people who think AI agents are obviously things that go and act on your behalf—the travel agent model—and people who think in terms of LLMs that have been given access to tools which they can run in a loop as part of solving a problem. The term “autonomy” is often thrown into the mix too, again without including a clear definition.\\n\\n(I also collected 211 definitions on Twitter a few months ago—here they are in Datasette Lite—and had gemini-exp-1206 attempt to summarize them.)\\n\\nWhatever the term may mean, agents still have that feeling of perpetually “coming soon”.\\n\\nTerminology aside, I remain skeptical as to their utility based, once again, on the challenge of gullibility. LLMs believe anything you tell them. Any systems that attempts to make meaningful decisions on your behalf will run into the same roadblock: how good is a travel agent, or a digital assistant, or even a research tool if it can’t distinguish truth from fiction?\\n\\nJust the other day Google Search was caught serving up an entirely fake description of the non-existant movie “Encanto 2”. It turned out to be summarizing an imagined movie listing from a fan fiction wiki.\\n\\nPrompt injection is a natural consequence of this gulibility. I’ve seen precious little progress on tackling that problem in 2024, and we’ve been talking about it since September 2022.\\n\\nI’m beginning to see the most popular idea of “agents” as dependent on AGI itself. A model that’s robust against gulliblity is a very tall order indeed.\\n\\nEvals really matter\\n\\nAnthropic’s Amanda Askell (responsible for much of the work behind Claude’s Character):\\n\\nThe boring yet crucial secret behind good system prompts is test-driven development. You don’t write down a system prompt and find ways to test it. You write down tests and find a system prompt that passes them.\\n\\nIt’s become abundantly clear over the course of 2024 that writing good automated evals for LLM-powered systems is the skill that’s most needed to build useful applications on top of these models. If you have a strong eval suite you can adopt new models faster, iterate better and build more reliable and useful product features than your competition.\\n\\nVercel’s Malte Ubl:\\n\\nWhen @v0 first came out we were paranoid about protecting the prompt with all kinds of pre and post processing complexity.\\n\\nWe completely pivoted to let it rip. A prompt without the evals, models, and especially UX is like getting a broken ASML machine without a manual\\n\\nI’m still trying to figure out the best patterns for doing this for my own work. Everyone knows that evals are important, but there remains a lack of great guidance for how to best implement them—I’m tracking this under my evals tag. My SVG pelican riding a bicycle benchmark is a pale imitation of what a real eval suite should look like.\\n\\nApple Intelligence is bad, Apple’s MLX library is excellent\\n\\nAs a Mac user I’ve been feeling a lot better about my choice of platform this year.\\n\\nLast year it felt like my lack of a Linux/Windows machine with an NVIDIA GPU was a huge disadvantage in terms of trying out new models.\\n\\nOn paper, a 64GB Mac should be a great machine for running models due to the way the CPU and GPU can share the same memory. In practice, many models are released as model weights and libraries that reward NVIDIA’s CUDA over other platforms.\\n\\nThe llama.cpp ecosystem helped a lot here, but the real breakthrough has been Apple’s MLX library, “an array framework for Apple Silicon”. It’s fantastic.\\n\\nApple’s mlx-lm Python library supports running a wide range of MLX-compatible models on my Mac, with excellent performance. mlx-community on Hugging Face offers more than 1,000 models that have been converted to the necessary format.\\n\\nPrince Canuma’s excellent, fast moving mlx-vlm project brings vision LLMs to Apple Silicon as well. I used that recently to run Qwen’s QvQ.\\n\\nWhile MLX is a game changer, Apple’s own “Apple Intelligence” features have mostly been a disappointment. I wrote about their initial announcement in June, and I was optimistic that Apple had focused hard on the subset of LLM applications that preserve user privacy and minimize the chance of users getting mislead by confusing features.\\n\\nNow that those features are rolling out they’re pretty weak. As an LLM power-user I know what these models are capable of, and Apple’s LLM features offer a pale imitation of what a frontier LLM can do. Instead we’re getting notification summaries that misrepresent news headlines and writing assistant tools that I’ve not found useful at all. Genmoji are kind of fun though.\\n\\nThe rise of inference-scaling “reasoning” models\\n\\nThe most interesting development in the final quarter of 2024 was the introduction of a new shape of LLM, exemplified by OpenAI’s o1 models—initially released as o1-preview and o1-mini on September 12th.\\n\\nOne way to think about these models is an extension of the chain-of-thought prompting trick, first explored in the May 2022 paper Large Language Models are Zero-Shot Reasoners.\\n\\nThis is that trick where, if you get a model to talk out loud about a problem it’s solving, you often get a result which the model would not have achieved otherwise.\\n\\no1 takes this process and further bakes it into the model itself. The details are somewhat obfuscated: o1 models spend “reasoning tokens” thinking through the problem that are not directly visible to the user (though the ChatGPT UI shows a summary of them), then outputs a final result.\\n\\nThe biggest innovation here is that it opens up a new way to scale a model: instead of improving model performance purely through additional compute at training time, models can now take on harder problems by spending more compute on inference.\\n\\nThe sequel to o1, o3 (they skipped “o2” for European trademark reasons) was announced on 20th December with an impressive result against the ARC-AGI benchmark, albeit one that likely involved more than $1,000,000 of compute time expense!\\n\\no3 is expected to ship in January. I doubt many people have real-world problems that would benefit from that level of compute expenditure—I certainly don’t!—but it appears to be a genuine next step in LLM architecture for taking on much harder problems.\\n\\nOpenAI are not the only game in town here. Google released their first entrant in the category, gemini-2.0-flash-thinking-exp, on December 19th.\\n\\nAlibaba’s Qwen team released their QwQ model on November 28th—under an Apache 2.0 license, and that one I could run on my own machine. They followed that up with a vision reasoning model called QvQ on December 24th, which I also ran locally.\\n\\nDeepSeek made their DeepSeek-R1-Lite-Preview model available to try out through their chat interface on November 20th.\\n\\nTo understand more about inference scaling I recommend Is AI progress slowing down? by Arvind Narayanan and Sayash Kapoor.\\n\\nNothing yet from Anthropic or Meta but I would be very surprised if they don’t have their own inference-scaling models in the works. Meta published a relevant paper Training Large Language Models to Reason in a Continuous Latent Space in December.\\n\\nWas the best currently available LLM trained in China for less than $6m?\\n\\nNot quite, but almost! It does make for a great attention-grabbing headline.\\n\\nThe big news to end the year was the release of DeepSeek v3—dropped on Hugging Face on Christmas Day without so much as a README file, then followed by documentation and a paper the day after that.\\n\\nDeepSeek v3 is a huge 685B parameter model—one of the largest openly licensed models currently available, significantly bigger than the largest of Meta’s Llama series, Llama 3.1 405B.\\n\\nBenchmarks put it up there with Claude 3.5 Sonnet. Vibe benchmarks (aka the Chatbot Arena) currently rank it 7th, just behind the Gemini 2.0 and OpenAI 4o/o1 models. This is by far the highest ranking openly licensed model.\\n\\nThe really impressive thing about DeepSeek v3 is the training cost. The model was trained on 2,788,000 H800 GPU hours at an estimated cost of $5,576,000. Llama 3.1 405B trained 30,840,000 GPU hours—11x that used by DeepSeek v3, for a model that benchmarks slightly worse.\\n\\nThose US export regulations on GPUs to China seem to have inspired some very effective training optimizations!\\n\\nThe environmental impact got better\\n\\nA welcome result of the increased efficiency of the models—both the hosted ones and the ones I can run locally—is that the energy usage and environmental impact of running a prompt has dropped enormously over the past couple of years.\\n\\nOpenAI themselves are charging 100x less for a prompt compared to the GPT-3 days. I have it on good authority that neither Google Gemini nor Amazon Nova (two of the least expensive model providers) are running prompts at a loss.\\n\\nI think this means that, as individual users, we don’t need to feel any guilt at all for the energy consumed by the vast majority of our prompts. The impact is likely neglible compared to driving a car down the street or maybe even watching a video on YouTube.\\n\\nLikewise, training. DeepSeek v3 training for less than $6m is a fantastic sign that training costs can and should continue to drop.\\n\\nFor less efficient models I find it useful to compare their energy usage to commercial flights. The largest Llama 3 model cost about the same as a single digit number of fully loaded passenger flights from New York to London. That’s certainly not nothing, but once trained that model can be used by millions of people at no extra training cost.\\n\\nThe environmental impact got much, much worse\\n\\nThe much bigger problem here is the enormous competitive buildout of the infrastructure that is imagined to be necessary for these models in the future.\\n\\nCompanies like Google, Meta, Microsoft and Amazon are all spending billions of dollars rolling out new datacenters, with a very material impact on the electricity grid and the environment. There’s even talk of spinning up new nuclear power stations, but those can take decades.\\n\\nIs this infrastructure necessary? DeepSeek v3’s $6m training cost and the continued crash in LLM prices might hint that it’s not. But would you want to be the big tech executive that argued NOT to build out this infrastructure only to be proven wrong in a few years’ time?\\n\\nAn interesting point of comparison here could be the way railways rolled out around the world in the 1800s. Constructing these required enormous investments and had a massive environmental impact, and many of the lines that were built turned out to be unnecessary—sometimes multiple lines from different companies serving the exact same routes!\\n\\nThe resulting bubbles contributed to several financial crashes, see Wikipedia for Panic of 1873, Panic of 1893, Panic of 1901 and the UK’s Railway Mania. They left us with a lot of useful infrastructure and a great deal of bankruptcies and environmental damage.\\n\\nThe year of slop\\n\\n2024 was the year that the word \"slop\" became a term of art. I wrote about this in May, expanding on this tweet by @deepfates:\\n\\nWatching in real time as “slop” becomes a term of art. the way that “spam” became the term for unwanted emails, “slop” is going in the dictionary as the term for unwanted AI generated content\\n\\nI expanded that definition a tiny bit to this:\\n\\nSlop describes AI-generated content that is both unrequested and unreviewed.\\n\\nI ended up getting quoted talking about slop in both the Guardian and the NY Times. Here’s what I said in the NY TImes:\\n\\nSociety needs concise ways to talk about modern A.I. — both the positives and the negatives. ‘Ignore that email, it’s spam,’ and ‘Ignore that article, it’s slop,’ are both useful lessons.\\n\\nI love the term “slop” because it so succinctly captures one of the ways we should not be using generative AI!\\n\\nSlop was even in the running for Oxford Word of the Year 2024, but it lost to brain rot.\\n\\nSynthetic training data works great\\n\\nAn idea that surprisingly seems to have stuck in the public consciousness is that of “model collapse”. This was first described in the paper The Curse of Recursion: Training on Generated Data Makes Models Forget in May 2023, and repeated in Nature in July 2024 with the more eye-catching headline AI models collapse when trained on recursively generated data.\\n\\nThe idea is seductive: as the internet floods with AI-generated slop the models themselves will degenerate, feeding on their own output in a way that leads to their inevitable demise!\\n\\nThat’s clearly not happening. Instead, we are seeing AI labs increasingly train on synthetic content—deliberately creating artificial data to help steer their models in the right way.\\n\\nOne of the best descriptions I’ve seen of this comes from the Phi-4 technical report, which included this:\\n\\nSynthetic data as a substantial component of pretraining is becoming increasingly common, and the Phi series of models has consistently emphasized the importance of synthetic data. Rather than serving as a cheap substitute for organic data, synthetic data has several direct advantages over organic data.\\n\\nStructured and Gradual Learning. In organic datasets, the relationship between tokens is often complex and indirect. Many reasoning steps may be required to connect the current token to the next, making it challenging for the model to learn effectively from next-token prediction. By contrast, each token generated by a language model is by definition predicted by the preceding tokens, making it easier for a model to follow the resulting reasoning patterns.\\n\\nAnother common technique is to use larger models to help create training data for their smaller, cheaper alternatives—a trick used by an increasing number of labs. DeepSeek v3 used “reasoning” data created by DeepSeek-R1. Meta’s Llama 3.3 70B fine-tuning used over 25M synthetically generated examples.\\n\\nCareful design of the training data that goes into an LLM appears to be the entire game for creating these models. The days of just grabbing a full scrape of the web and indiscriminately dumping it into a training run are long gone.\\n\\nLLMs somehow got even harder to use\\n\\nA drum I’ve been banging for a while is that LLMs are power-user tools—they’re chainsaws disguised as kitchen knives. They look deceptively simple to use—how hard can it be to type messages to a chatbot?—but in reality you need a huge depth of both understanding and experience to make the most of them and avoid their many pitfalls.\\n\\nIf anything, this problem got worse in 2024.\\n\\nWe’ve built computer systems you can talk to in human language, that will answer your questions and usually get them right! ... depending on the question, and how you ask it, and whether it’s accurately reflected in the undocumented and secret training set.\\n\\nThe number of available systems has exploded. Different systems have different tools they can apply to your problems—like Python and JavaScript and web search and image generation and maybe even database lookups... so you’d better understand what those tools are, what they can do and how to tell if the LLM used them or not.\\n\\nDid you know ChatGPT has two entirely different ways of running Python now?\\n\\nWant to build a Claude Artifact that talks to an external API? You’d better understand CSP and CORS HTTP headers first.\\n\\nThe models may have got more capable, but most of the limitations remained the same. OpenAI’s o1 may finally be able to (mostly) count the Rs in strawberry, but its abilities are still limited by its nature as an LLM and the constraints placed on it by the harness it’s running in. o1 can’t run web searches or use Code Interpreter, but GPT-4o can—both in that same ChatGPT UI. (o1 will pretend to do those things if you ask it to, a regression to the URL hallucinations bug from early 2023).\\n\\nWhat are we doing about this? Not much. Most users are thrown in at the deep end. The default LLM chat UI is like taking brand new computer users, dropping them into a Linux terminal and expecting them to figure it all out.\\n\\nMeanwhile, it’s increasingly common for end users to develop wildly inaccurate mental models of how these things work and what they are capable of. I’ve seen so many examples of people trying to win an argument with a screenshot from ChatGPT—an inherently ludicrous proposition, given the inherent unreliability of these models crossed with the fact that you can get them to say anything if you prompt them right.\\n\\nThere’s a flipside to this too: a lot of better informed people have sworn off LLMs entirely because they can’t see how anyone could benefit from a tool with so many flaws. The key skill in getting the most out of LLMs is learning to work with tech that is both inherently unreliable and incredibly powerful at the same time. This is a decidedly non-obvious skill to acquire!\\n\\nThere is so much space for helpful education content here, but we need to do do a lot better than outsourcing it all to AI grifters with bombastic Twitter threads.\\n\\nKnowledge is incredibly unevenly distributed\\n\\nMost people have heard of ChatGPT by now. How many have heard of Claude?\\n\\nThe knowledge gap between the people who actively follow this stuff and the 99% of the population who do not is vast.\\n\\nThe pace of change doesn’t help either. In just the past month we’ve seen general availability of live interfaces where you can point your phone’s camera at something and talk about it with your voice... and optionally have it pretend to be Santa. Most self-certified nerds haven’t even tried that yet.\\n\\nGiven the ongoing (and potential) impact on society that this technology has, I don’t think the size of this gap is healthy. I’d like to see a lot more effort put into improving this.\\n\\nLLMs need better criticism\\n\\nA lot of people absolutely hate this stuff. In some of the spaces I hang out (Mastodon, Bluesky, Lobste.rs, even Hacker News on occasion) even suggesting that “LLMs are useful” can be enough to kick off a huge fight.\\n\\nI get it. There are plenty of reasons to dislike this technology—the environmental impact, the (lack of) ethics of the training data, the lack of reliability, the negative applications, the potential impact on people’s jobs.\\n\\nLLMs absolutely warrant criticism. We need to be talking through these problems, finding ways to mitigate them and helping people learn how to use these tools responsibly in ways where the positive applications outweigh the negative.\\n\\nI like people who are skeptical of this stuff. The hype has been deafening for more than two years now, and there are enormous quantities of snake oil and misinformation out there. A lot of very bad decisions are being made based on that hype. Being critical is a virtue.\\n\\nIf we want people with decision-making authority to make good decisions about how to apply these tools we first need to acknowledge that there ARE good applications, and then help explain how to put those into practice while avoiding the many unintiutive traps.\\n\\n(If you still don’t think there are any good applications at all I’m not sure why you made it to this point in the article!)\\n\\nI think telling people that this whole field is environmentally catastrophic plagiarism machines that constantly make things up is doing those people a disservice, no matter how much truth that represents. There is genuine value to be had here, but getting to that value is unintuitive and needs guidance.\\n\\nThose of us who understand this stuff have a duty to help everyone else figure it out.\\n\\nEverything tagged “llms” on my blog in 2024\\n\\nBecause I undoubtedly missed a whole bunch of things, here’s every long-form post I wrote in 2024 that I tagged with llms:\\n\\nJanuary\\n\\n7th: It’s OK to call it Artificial Intelligence\\n\\n9th: What I should have said about the term Artificial Intelligence\\n\\n17th: Talking about Open Source LLMs on Oxide and Friends\\n\\n26th: LLM 0.13: The annotated release notes\\n\\nFebruary\\n\\n21st: The killer app of Gemini Pro 1.5 is video\\n\\nMarch\\n\\n5th: Prompt injection and jailbreaking are not the same thing\\n\\n8th: The GPT-4 barrier has finally been broken\\n\\n22nd: Claude and ChatGPT for ad-hoc sidequests\\n\\n23rd: Building and testing C extensions for SQLite with ChatGPT Code Interpreter\\n\\n26th: llm cmd undo last git commit—a new plugin for LLM\\n\\nApril\\n\\n8th: Building files-to-prompt entirely using Claude 3 Opus\\n\\n10th: Three major LLM releases in 24 hours (plus weeknotes)\\n\\n17th: AI for Data Journalism: demonstrating what we can do with this stuff right now\\n\\n22nd: Options for accessing Llama 3 from the terminal using LLM\\n\\nMay\\n\\n8th: Slop is the new name for unwanted AI-generated content\\n\\n15th: ChatGPT in “4o” mode is not running the new features yet\\n\\n29th: Training is not the same as chatting: ChatGPT and other LLMs don’t remember everything you say\\n\\nJune\\n\\n6th: Accidental prompt injection against RAG applications\\n\\n10th: Thoughts on the WWDC 2024 keynote on Apple Intelligence\\n\\n17th: Language models on the command-line\\n\\n21st: Building search-based RAG using Claude, Datasette and Val Town\\n\\n27th: Open challenges for AI engineering\\n\\nJuly\\n\\n14th: Imitation Intelligence, my keynote for PyCon US 2024\\n\\n19th: Weeknotes: GPT-4o mini, LLM 0.15, sqlite-utils 3.37 and building a staging environment\\n\\nAugust\\n\\n6th: Weeknotes: a staging environment, a Datasette alpha and a bunch of new LLMs\\n\\n8th: django-http-debug, a new Django app mostly written by Claude\\n\\n23rd: Claude’s API now supports CORS requests, enabling client-side applications\\n\\n26th: Building a tool showing how Gemini Pro can return bounding boxes for objects in images\\n\\nSeptember\\n\\n6th: Calling LLMs from client-side JavaScript, converting PDFs to HTML + weeknotes\\n\\n10th: Notes from my appearance on the Software Misadventures Podcast\\n\\n12th: Notes on OpenAI’s new o1 chain-of-thought models\\n\\n20th: Notes on using LLMs for code\\n\\n29th: NotebookLM’s automatically generated podcasts are surprisingly effective\\n\\n30th: Weeknotes: Three podcasts, two trips and a new plugin system\\n\\nOctober\\n\\n1st: OpenAI DevDay 2024 live blog\\n\\n2nd: OpenAI DevDay: Let’s build developer tools, not digital God\\n\\n15th: ChatGPT will happily write you a thinly disguised horoscope\\n\\n17th: Video scraping: extracting JSON data from a 35 second screen capture for less than 1/10th of a cent\\n\\n18th: Experimenting with audio input and output for the OpenAI Chat Completion API\\n\\n19th: Running Llama 3.2 Vision and Phi-3.5 Vision on a Mac with mistral.rs\\n\\n21st: Everything I built with Claude Artifacts this week\\n\\n22nd: Initial explorations of Anthropic’s new Computer Use capability\\n\\n24th: Notes on the new Claude analysis JavaScript code execution tool\\n\\n27th: Run a prompt to generate and execute jq programs using llm-jq\\n\\n29th: You can now run prompts against images, audio and video in your terminal using LLM\\n\\n30th: W̶e̶e̶k̶n̶o̶t̶e̶s̶ Monthnotes for October\\n\\nNovember\\n\\n4th: Claude 3.5 Haiku\\n\\n7th: Project: VERDAD—tracking misinformation in radio broadcasts using Gemini 1.5\\n\\n12th: Qwen2.5-Coder-32B is an LLM that can code well that runs on my Mac\\n\\n19th: Notes from Bing Chat—Our First Encounter With Manipulative AI\\n\\n25th: Ask questions of SQLite databases and CSV/JSON files in your terminal\\n\\nDecember\\n\\n4th: First impressions of the new Amazon Nova LLMs (via a new llm-bedrock plugin)\\n\\n7th: Prompts.js\\n\\n9th: I can now run a GPT-4 class model on my laptop\\n\\n10th: ChatGPT Canvas can make API requests now, but it’s complicated\\n\\n11th: Gemini 2.0 Flash: An outstanding multi-modal LLM with a sci-fi streaming mode\\n\\n19th: Building Python tools with a one-shot prompt using uv run and Claude Projects\\n\\n19th: Gemini 2.0 Flash “Thinking mode”\\n\\n20th: December in LLMs has been a lot\\n\\n20th: Live blog: the 12th day of OpenAI—“Early evals for OpenAI o3”\\n\\n24th: Trying out QvQ—Qwen’s new visual reasoning model\\n\\n31st: Things we learned about LLMs in 2024\\n\\n(This list generated using Django SQL Dashboard with a SQL query written for me by Claude.)\\n\\nPosted 31st December 2024 at 6:07 pm · Follow me on Mastodon or Twitter or subscribe to my newsletter\\n\\nMore recent articles\\n\\nOpenAI o3-mini, now available in LLM - 31st January 2025\\n\\nA selfish personal argument for releasing code as Open Source - 24th January 2025\\n\\nAnthropic\\'s new Citations API - 24th January 2025\\n\\nThis is Things we learned about LLMs in 2024 by Simon Willison, posted on 31st December 2024.\\n\\nPart of series LLMs annual review\\n\\nStuff we figured out about AI in 2023 - Dec. 31, 2023, 11:59 p.m.\\n\\nThings we learned about LLMs in 2024 - Dec. 31, 2024, 6:07 p.m.\\n\\ngoogle 345 ai 1080 openai 252 generative-ai 926 llms 914 anthropic 114 gemini 53 meta 26 inference-scaling 26 long-context 10\\n\\nNext: Ending a year long posting streak\\n\\nPrevious: Trying out QvQ - Qwen\\'s new visual reasoning model\\n\\nColophon\\n\\n©\\n\\n2002\\n\\n2003\\n\\n2004\\n\\n2005\\n\\n2006\\n\\n2007\\n\\n2008\\n\\n2009\\n\\n2010\\n\\n2011\\n\\n2012\\n\\n2013\\n\\n2014\\n\\n2015\\n\\n2016\\n\\n2017\\n\\n2018\\n\\n2019\\n\\n2020\\n\\n2021\\n\\n2022\\n\\n2023\\n\\n2024\\n\\n2025')]"
      ]
     },
     "execution_count": 59,
     "metadata": {},
     "output_type": "execute_result"
    }
   ],
   "source": [
    "docs"
   ]
  },
  {
   "cell_type": "code",
   "execution_count": null,
   "metadata": {},
   "outputs": [
    {
     "name": "stderr",
     "output_type": "stream",
     "text": [
      "c:\\Users\\dabra\\AppData\\Local\\Programs\\Python\\Python39\\lib\\site-packages\\tqdm\\auto.py:21: TqdmWarning: IProgress not found. Please update jupyter and ipywidgets. See https://ipywidgets.readthedocs.io/en/stable/user_install.html\n",
      "  from .autonotebook import tqdm as notebook_tqdm\n"
     ]
    },
    {
     "name": "stdout",
     "output_type": "stream",
     "text": [
      "0.2.13\n"
     ]
    }
   ],
   "source": [
    "import ragas\n",
    "print(ragas.__version__)"
   ]
  },
  {
   "cell_type": "code",
   "execution_count": 60,
   "metadata": {},
   "outputs": [
    {
     "name": "stderr",
     "output_type": "stream",
     "text": [
      "Applying [CosineSimilarityBuilder, OverlapScoreBuilder]:   0%|          | 0/2 [00:00<?, ?it/s]unable to apply transformation: axis 1 is out of bounds for array of dimension 1\n",
      "                                                                                              \r"
     ]
    },
    {
     "data": {
      "text/plain": [
       "KnowledgeGraph(nodes: 0, relationships: 0)"
      ]
     },
     "execution_count": 60,
     "metadata": {},
     "output_type": "execute_result"
    }
   ],
   "source": [
    "apply_transforms(kg, default_transforms)\n",
    "kg"
   ]
  },
  {
   "cell_type": "markdown",
   "metadata": {},
   "source": [
    "We can save and load our knowledge graphs as follows."
   ]
  },
  {
   "cell_type": "code",
   "execution_count": 61,
   "metadata": {},
   "outputs": [
    {
     "data": {
      "text/plain": [
       "KnowledgeGraph(nodes: 0, relationships: 0)"
      ]
     },
     "execution_count": 61,
     "metadata": {},
     "output_type": "execute_result"
    }
   ],
   "source": [
    "kg.save(\"ai_across_years_kg.json\")\n",
    "ai_across_years_kg = KnowledgeGraph.load(\"ai_across_years_kg.json\")\n",
    "ai_across_years_kg"
   ]
  },
  {
   "cell_type": "markdown",
   "metadata": {},
   "source": [
    "Using our knowledge graph, we can construct a \"test set generator\" - which will allow us to create queries."
   ]
  },
  {
   "cell_type": "code",
   "execution_count": 62,
   "metadata": {},
   "outputs": [],
   "source": [
    "from ragas.testset import TestsetGenerator\n",
    "\n",
    "generator = TestsetGenerator(llm=generator_llm, embedding_model=embedding_model, knowledge_graph=ai_across_years_kg)"
   ]
  },
  {
   "cell_type": "markdown",
   "metadata": {},
   "source": [
    "However, we'd like to be able to define the kinds of queries we're generating - which is made simple by Ragas having pre-created a number of different \"QuerySynthesizer\"s.\n",
    "\n",
    "Each of these Synthetsizers is going to tackle a separate kind of query which will be generated from a scenario and a persona.\n",
    "\n",
    "In essence, Ragas will use an LLM to generate a persona of someone who would interact with the data - and then use a scenario to construct a question from that data and persona."
   ]
  },
  {
   "cell_type": "code",
   "execution_count": 110,
   "metadata": {},
   "outputs": [],
   "source": [
    "from ragas.testset.synthesizers import default_query_distribution, SingleHopSpecificQuerySynthesizer, MultiHopAbstractQuerySynthesizer, MultiHopSpecificQuerySynthesizer\n",
    "\n",
    "query_distribution = [\n",
    "        (SingleHopSpecificQuerySynthesizer(llm=generator_llm), 0.5),\n",
    "        (MultiHopAbstractQuerySynthesizer(llm=generator_llm), 0.25),\n",
    "        (MultiHopSpecificQuerySynthesizer(llm=generator_llm), 0.25),\n",
    "]"
   ]
  },
  {
   "cell_type": "markdown",
   "metadata": {},
   "source": [
    "#### ❓ Question #1:\n",
    "\n",
    "What are the three types of query synthesizers doing? Describe each one in simple terms.\n"
   ]
  },
  {
   "cell_type": "markdown",
   "metadata": {},
   "source": [
    "<div style=\"background-color: #E6E6FA; padding: 10px; border-radius: 5px;\">\n",
    "<span style=\"color: black;\">\n",
    "<b> ANSWER:  </b> \n",
    "\n",
    "As part of the Ragas library, ragas.testset.synthesizers is used for evaluating RAG systems. Its synthesizers are used to generate synthetic queries based on  documents provided and implement RAG tests.\n",
    "\n",
    "The three query synthesizers mentioned above have  three different purposes while generating synthetic queries. \n",
    "\n",
    "1. <b> SingleHopSpecificQuerySynthesizer: </b> This generates queries that directly correspond to a single document or passage and works by synthesizing queries that explicitly reference the given information without requiring additional reasoning or combining multiple sources. This is relevant for use cases requiring direct fact extraction tasks.\n",
    "\n",
    "2. <b> MultiHopAbstractQuerySynthesizer: </b> This creates complex queries that require reasoning / inference / generalization across multiple documents / sources, but in an abstract way. This is most relevant for testing RAGs designed to aggregate multiple pieces of information to answer a query.\n",
    "\n",
    "3. <b> MultiHopSpecificQuerySynthesizer: </b> This generates complex queries that require retrieving multiple documents and mentioning specific details. It creates queries requiring fact linkage across multiple sources (inputs to RAG systems).\n",
    "\n",
    "Therefore, these different synthesizers enable evaluation of RAG systems by generating different types of synthetic queries, from simple fact-based ones to complex multi-hop reasoning queries.\n",
    "\n",
    "</span>\n",
    "</div>"
   ]
  },
  {
   "cell_type": "markdown",
   "metadata": {},
   "source": [
    "Finally, we can use our `TestSetGenerator` to generate our testset!"
   ]
  },
  {
   "cell_type": "code",
   "execution_count": 111,
   "metadata": {},
   "outputs": [
    {
     "name": "stdout",
     "output_type": "stream",
     "text": [
      "[Node(id: 70906c, type: document, properties: ['page_content', 'document_metadata', 'headlines', 'summary', 'summary_embedding']), Node(id: f32cbe, type: document, properties: ['page_content', 'document_metadata', 'headlines', 'summary', 'summary_embedding']), Node(id: e8e442, type: chunk, properties: ['page_content', 'entities', 'themes']), Node(id: 236fe6, type: chunk, properties: ['page_content', 'entities', 'themes']), Node(id: ae437a, type: chunk, properties: ['page_content', 'entities', 'themes']), Node(id: 9e232b, type: chunk, properties: ['page_content', 'entities', 'themes']), Node(id: 5410f2, type: chunk, properties: ['page_content', 'themes', 'entities']), Node(id: f4a556, type: chunk, properties: ['page_content', 'themes', 'entities']), Node(id: 6d8b51, type: chunk, properties: ['page_content', 'themes', 'entities']), Node(id: f9a3ac, type: chunk, properties: ['page_content', 'themes', 'entities']), Node(id: aeaf4c, type: chunk, properties: ['page_content', 'themes', 'entities']), Node(id: c12e6d, type: chunk, properties: ['page_content', 'themes', 'entities']), Node(id: eb01f7, type: chunk, properties: ['page_content', 'themes', 'entities']), Node(id: e87a3a, type: chunk, properties: ['page_content', 'themes', 'entities'])]\n"
     ]
    }
   ],
   "source": [
    "print(generator.knowledge_graph.nodes)"
   ]
  },
  {
   "cell_type": "code",
   "execution_count": 112,
   "metadata": {},
   "outputs": [
    {
     "name": "stderr",
     "output_type": "stream",
     "text": [
      "Generating Scenarios:   0%|          | 0/3 [00:00<?, ?it/s]"
     ]
    },
    {
     "name": "stderr",
     "output_type": "stream",
     "text": [
      "Generating Scenarios: 100%|██████████| 3/3 [00:22<00:00,  7.63s/it]\n",
      "Generating Samples: 100%|██████████| 11/11 [00:09<00:00,  1.20it/s]\n"
     ]
    },
    {
     "data": {
      "text/html": [
       "<div>\n",
       "<style scoped>\n",
       "    .dataframe tbody tr th:only-of-type {\n",
       "        vertical-align: middle;\n",
       "    }\n",
       "\n",
       "    .dataframe tbody tr th {\n",
       "        vertical-align: top;\n",
       "    }\n",
       "\n",
       "    .dataframe thead th {\n",
       "        text-align: right;\n",
       "    }\n",
       "</style>\n",
       "<table border=\"1\" class=\"dataframe\">\n",
       "  <thead>\n",
       "    <tr style=\"text-align: right;\">\n",
       "      <th></th>\n",
       "      <th>user_input</th>\n",
       "      <th>reference_contexts</th>\n",
       "      <th>reference</th>\n",
       "      <th>synthesizer_name</th>\n",
       "    </tr>\n",
       "  </thead>\n",
       "  <tbody>\n",
       "    <tr>\n",
       "      <th>0</th>\n",
       "      <td>What is the significance of Mistral in the con...</td>\n",
       "      <td>[Code may be the best application The ethics o...</td>\n",
       "      <td>Mistral is one of the organizations that have ...</td>\n",
       "      <td>single_hop_specifc_query_synthesizer</td>\n",
       "    </tr>\n",
       "    <tr>\n",
       "      <th>1</th>\n",
       "      <td>In what ways might the behavior of Large Langu...</td>\n",
       "      <td>[Based Development As a computer scientist and...</td>\n",
       "      <td>The behavior of Large Language Models might ch...</td>\n",
       "      <td>single_hop_specifc_query_synthesizer</td>\n",
       "    </tr>\n",
       "    <tr>\n",
       "      <th>2</th>\n",
       "      <td>So like, what be the big deal with LLMs in 202...</td>\n",
       "      <td>[Simon Willison’s Weblog Subscribe Stuff we fi...</td>\n",
       "      <td>2023 was the breakthrough year for Large Langu...</td>\n",
       "      <td>single_hop_specifc_query_synthesizer</td>\n",
       "    </tr>\n",
       "    <tr>\n",
       "      <th>3</th>\n",
       "      <td>What LLMs do and how they work?</td>\n",
       "      <td>[easy to follow. The rest of the document incl...</td>\n",
       "      <td>The document includes some of the clearest exp...</td>\n",
       "      <td>single_hop_specifc_query_synthesizer</td>\n",
       "    </tr>\n",
       "    <tr>\n",
       "      <th>4</th>\n",
       "      <td>What role does Meta play in the advancements o...</td>\n",
       "      <td>[Prompt driven app generation is a commodity a...</td>\n",
       "      <td>Meta is one of the 18 organizations with model...</td>\n",
       "      <td>single_hop_specifc_query_synthesizer</td>\n",
       "    </tr>\n",
       "    <tr>\n",
       "      <th>5</th>\n",
       "      <td>How have advancements in Large Language Models...</td>\n",
       "      <td>[&lt;1-hop&gt;\\n\\nCode may be the best application T...</td>\n",
       "      <td>In 2023, Large Language Models (LLMs) were rec...</td>\n",
       "      <td>multi_hop_abstract_query_synthesizer</td>\n",
       "    </tr>\n",
       "    <tr>\n",
       "      <th>6</th>\n",
       "      <td>How does OpenAI's approach to AI ethics and le...</td>\n",
       "      <td>[&lt;1-hop&gt;\\n\\nCode may be the best application T...</td>\n",
       "      <td>OpenAI's approach to AI ethics and legality si...</td>\n",
       "      <td>multi_hop_abstract_query_synthesizer</td>\n",
       "    </tr>\n",
       "    <tr>\n",
       "      <th>7</th>\n",
       "      <td>How have advancements in model training costs ...</td>\n",
       "      <td>[&lt;1-hop&gt;\\n\\nCode may be the best application T...</td>\n",
       "      <td>Advancements in model training costs and the e...</td>\n",
       "      <td>multi_hop_abstract_query_synthesizer</td>\n",
       "    </tr>\n",
       "    <tr>\n",
       "      <th>8</th>\n",
       "      <td>What are some of the key insights about LLMs f...</td>\n",
       "      <td>[&lt;1-hop&gt;\\n\\neasy to follow. The rest of the do...</td>\n",
       "      <td>In 2023, Large Language Models (LLMs) were rec...</td>\n",
       "      <td>multi_hop_specific_query_synthesizer</td>\n",
       "    </tr>\n",
       "    <tr>\n",
       "      <th>9</th>\n",
       "      <td>How do GPT-4 and GPT-4o exemplify advancements...</td>\n",
       "      <td>[&lt;1-hop&gt;\\n\\nfeed with the model and talk about...</td>\n",
       "      <td>GPT-4 and GPT-4o exemplify advancements in lar...</td>\n",
       "      <td>multi_hop_specific_query_synthesizer</td>\n",
       "    </tr>\n",
       "    <tr>\n",
       "      <th>10</th>\n",
       "      <td>How do the challenges of evaluating LLMs and t...</td>\n",
       "      <td>[&lt;1-hop&gt;\\n\\nBased Development As a computer sc...</td>\n",
       "      <td>The challenges of evaluating LLMs intersect wi...</td>\n",
       "      <td>multi_hop_specific_query_synthesizer</td>\n",
       "    </tr>\n",
       "  </tbody>\n",
       "</table>\n",
       "</div>"
      ],
      "text/plain": [
       "                                           user_input  \\\n",
       "0   What is the significance of Mistral in the con...   \n",
       "1   In what ways might the behavior of Large Langu...   \n",
       "2   So like, what be the big deal with LLMs in 202...   \n",
       "3                     What LLMs do and how they work?   \n",
       "4   What role does Meta play in the advancements o...   \n",
       "5   How have advancements in Large Language Models...   \n",
       "6   How does OpenAI's approach to AI ethics and le...   \n",
       "7   How have advancements in model training costs ...   \n",
       "8   What are some of the key insights about LLMs f...   \n",
       "9   How do GPT-4 and GPT-4o exemplify advancements...   \n",
       "10  How do the challenges of evaluating LLMs and t...   \n",
       "\n",
       "                                   reference_contexts  \\\n",
       "0   [Code may be the best application The ethics o...   \n",
       "1   [Based Development As a computer scientist and...   \n",
       "2   [Simon Willison’s Weblog Subscribe Stuff we fi...   \n",
       "3   [easy to follow. The rest of the document incl...   \n",
       "4   [Prompt driven app generation is a commodity a...   \n",
       "5   [<1-hop>\\n\\nCode may be the best application T...   \n",
       "6   [<1-hop>\\n\\nCode may be the best application T...   \n",
       "7   [<1-hop>\\n\\nCode may be the best application T...   \n",
       "8   [<1-hop>\\n\\neasy to follow. The rest of the do...   \n",
       "9   [<1-hop>\\n\\nfeed with the model and talk about...   \n",
       "10  [<1-hop>\\n\\nBased Development As a computer sc...   \n",
       "\n",
       "                                            reference  \\\n",
       "0   Mistral is one of the organizations that have ...   \n",
       "1   The behavior of Large Language Models might ch...   \n",
       "2   2023 was the breakthrough year for Large Langu...   \n",
       "3   The document includes some of the clearest exp...   \n",
       "4   Meta is one of the 18 organizations with model...   \n",
       "5   In 2023, Large Language Models (LLMs) were rec...   \n",
       "6   OpenAI's approach to AI ethics and legality si...   \n",
       "7   Advancements in model training costs and the e...   \n",
       "8   In 2023, Large Language Models (LLMs) were rec...   \n",
       "9   GPT-4 and GPT-4o exemplify advancements in lar...   \n",
       "10  The challenges of evaluating LLMs intersect wi...   \n",
       "\n",
       "                        synthesizer_name  \n",
       "0   single_hop_specifc_query_synthesizer  \n",
       "1   single_hop_specifc_query_synthesizer  \n",
       "2   single_hop_specifc_query_synthesizer  \n",
       "3   single_hop_specifc_query_synthesizer  \n",
       "4   single_hop_specifc_query_synthesizer  \n",
       "5   multi_hop_abstract_query_synthesizer  \n",
       "6   multi_hop_abstract_query_synthesizer  \n",
       "7   multi_hop_abstract_query_synthesizer  \n",
       "8   multi_hop_specific_query_synthesizer  \n",
       "9   multi_hop_specific_query_synthesizer  \n",
       "10  multi_hop_specific_query_synthesizer  "
      ]
     },
     "execution_count": 112,
     "metadata": {},
     "output_type": "execute_result"
    }
   ],
   "source": [
    "testset = generator.generate(testset_size=10, query_distribution=query_distribution)\n",
    "testset.to_pandas()"
   ]
  },
  {
   "cell_type": "markdown",
   "metadata": {},
   "source": [
    "### Abstracted SDG\n",
    "\n",
    "The above method is the full process - but we can shortcut that using the provided abstractions!\n",
    "\n",
    "This will generate our knowledge graph under the hood, and will - from there - generate our personas and scenarios to construct our queries.\n",
    "\n"
   ]
  },
  {
   "cell_type": "code",
   "execution_count": 83,
   "metadata": {},
   "outputs": [
    {
     "name": "stderr",
     "output_type": "stream",
     "text": [
      "Generating personas: 100%|██████████| 2/2 [00:10<00:00,  5.07s/it]                                           \n",
      "Generating Scenarios: 100%|██████████| 3/3 [00:11<00:00,  3.92s/it]\n",
      "Generating Samples: 100%|██████████| 12/12 [00:07<00:00,  1.63it/s]\n"
     ]
    }
   ],
   "source": [
    "from ragas.testset import TestsetGenerator\n",
    "\n",
    "generator = TestsetGenerator(llm=generator_llm, embedding_model=generator_embeddings)\n",
    "dataset = generator.generate_with_langchain_docs(docs, testset_size=10)"
   ]
  },
  {
   "cell_type": "code",
   "execution_count": 84,
   "metadata": {},
   "outputs": [
    {
     "data": {
      "text/html": [
       "<div>\n",
       "<style scoped>\n",
       "    .dataframe tbody tr th:only-of-type {\n",
       "        vertical-align: middle;\n",
       "    }\n",
       "\n",
       "    .dataframe tbody tr th {\n",
       "        vertical-align: top;\n",
       "    }\n",
       "\n",
       "    .dataframe thead th {\n",
       "        text-align: right;\n",
       "    }\n",
       "</style>\n",
       "<table border=\"1\" class=\"dataframe\">\n",
       "  <thead>\n",
       "    <tr style=\"text-align: right;\">\n",
       "      <th></th>\n",
       "      <th>user_input</th>\n",
       "      <th>reference_contexts</th>\n",
       "      <th>reference</th>\n",
       "      <th>synthesizer_name</th>\n",
       "    </tr>\n",
       "  </thead>\n",
       "  <tbody>\n",
       "    <tr>\n",
       "      <th>0</th>\n",
       "      <td>Meta do what with LLMs?</td>\n",
       "      <td>[Code may be the best application The ethics o...</td>\n",
       "      <td>Meta released Llama, which allowed running a u...</td>\n",
       "      <td>single_hop_specifc_query_synthesizer</td>\n",
       "    </tr>\n",
       "    <tr>\n",
       "      <th>1</th>\n",
       "      <td>What happen in September with prompt injection?</td>\n",
       "      <td>[Based Development As a computer scientist and...</td>\n",
       "      <td>In September last year, the term 'prompt injec...</td>\n",
       "      <td>single_hop_specifc_query_synthesizer</td>\n",
       "    </tr>\n",
       "    <tr>\n",
       "      <th>2</th>\n",
       "      <td>What we learn about AI in 2023?</td>\n",
       "      <td>[Simon Willison’s Weblog Subscribe Stuff we fi...</td>\n",
       "      <td>2023 was the breakthrough year for Large Langu...</td>\n",
       "      <td>single_hop_specifc_query_synthesizer</td>\n",
       "    </tr>\n",
       "    <tr>\n",
       "      <th>3</th>\n",
       "      <td>how use homebrew for run llama 2?</td>\n",
       "      <td>[easy to follow. The rest of the document incl...</td>\n",
       "      <td>You can run Llama 2 on your own Mac using LLM ...</td>\n",
       "      <td>single_hop_specifc_query_synthesizer</td>\n",
       "    </tr>\n",
       "    <tr>\n",
       "      <th>4</th>\n",
       "      <td>How have advancements in large language models...</td>\n",
       "      <td>[&lt;1-hop&gt;\\n\\nCode may be the best application T...</td>\n",
       "      <td>Advancements in large language models have sig...</td>\n",
       "      <td>multi_hop_abstract_query_synthesizer</td>\n",
       "    </tr>\n",
       "    <tr>\n",
       "      <th>5</th>\n",
       "      <td>How OpenAI and AI ethics and legality connect ...</td>\n",
       "      <td>[&lt;1-hop&gt;\\n\\nCode may be the best application T...</td>\n",
       "      <td>OpenAI was one of the first organizations to r...</td>\n",
       "      <td>multi_hop_abstract_query_synthesizer</td>\n",
       "    </tr>\n",
       "    <tr>\n",
       "      <th>6</th>\n",
       "      <td>How do the challenges of understanding and con...</td>\n",
       "      <td>[&lt;1-hop&gt;\\n\\nCode may be the best application T...</td>\n",
       "      <td>The challenges of understanding and controllin...</td>\n",
       "      <td>multi_hop_abstract_query_synthesizer</td>\n",
       "    </tr>\n",
       "    <tr>\n",
       "      <th>7</th>\n",
       "      <td>How has OpenAI contributed to the development ...</td>\n",
       "      <td>[&lt;1-hop&gt;\\n\\nCode may be the best application T...</td>\n",
       "      <td>OpenAI has played a significant role in the de...</td>\n",
       "      <td>multi_hop_abstract_query_synthesizer</td>\n",
       "    </tr>\n",
       "    <tr>\n",
       "      <th>8</th>\n",
       "      <td>What were the key advancements in AI and Large...</td>\n",
       "      <td>[&lt;1-hop&gt;\\n\\neasy to follow. The rest of the do...</td>\n",
       "      <td>In 2023, significant advancements were made in...</td>\n",
       "      <td>multi_hop_specific_query_synthesizer</td>\n",
       "    </tr>\n",
       "    <tr>\n",
       "      <th>9</th>\n",
       "      <td>How has Claude contributed to advancements in ...</td>\n",
       "      <td>[&lt;1-hop&gt;\\n\\nThose of us who understand this st...</td>\n",
       "      <td>Claude has been a significant contributor to a...</td>\n",
       "      <td>multi_hop_specific_query_synthesizer</td>\n",
       "    </tr>\n",
       "    <tr>\n",
       "      <th>10</th>\n",
       "      <td>How have advancements in GPT-4 and GPT-4o infl...</td>\n",
       "      <td>[&lt;1-hop&gt;\\n\\nfeed with the model and talk about...</td>\n",
       "      <td>Advancements in GPT-4 and GPT-4o have signific...</td>\n",
       "      <td>multi_hop_specific_query_synthesizer</td>\n",
       "    </tr>\n",
       "    <tr>\n",
       "      <th>11</th>\n",
       "      <td>How do the challenges of evaluating LLMs and t...</td>\n",
       "      <td>[&lt;1-hop&gt;\\n\\nBased Development As a computer sc...</td>\n",
       "      <td>The challenges of evaluating LLMs stem from th...</td>\n",
       "      <td>multi_hop_specific_query_synthesizer</td>\n",
       "    </tr>\n",
       "  </tbody>\n",
       "</table>\n",
       "</div>"
      ],
      "text/plain": [
       "                                           user_input  \\\n",
       "0                             Meta do what with LLMs?   \n",
       "1     What happen in September with prompt injection?   \n",
       "2                     What we learn about AI in 2023?   \n",
       "3                   how use homebrew for run llama 2?   \n",
       "4   How have advancements in large language models...   \n",
       "5   How OpenAI and AI ethics and legality connect ...   \n",
       "6   How do the challenges of understanding and con...   \n",
       "7   How has OpenAI contributed to the development ...   \n",
       "8   What were the key advancements in AI and Large...   \n",
       "9   How has Claude contributed to advancements in ...   \n",
       "10  How have advancements in GPT-4 and GPT-4o infl...   \n",
       "11  How do the challenges of evaluating LLMs and t...   \n",
       "\n",
       "                                   reference_contexts  \\\n",
       "0   [Code may be the best application The ethics o...   \n",
       "1   [Based Development As a computer scientist and...   \n",
       "2   [Simon Willison’s Weblog Subscribe Stuff we fi...   \n",
       "3   [easy to follow. The rest of the document incl...   \n",
       "4   [<1-hop>\\n\\nCode may be the best application T...   \n",
       "5   [<1-hop>\\n\\nCode may be the best application T...   \n",
       "6   [<1-hop>\\n\\nCode may be the best application T...   \n",
       "7   [<1-hop>\\n\\nCode may be the best application T...   \n",
       "8   [<1-hop>\\n\\neasy to follow. The rest of the do...   \n",
       "9   [<1-hop>\\n\\nThose of us who understand this st...   \n",
       "10  [<1-hop>\\n\\nfeed with the model and talk about...   \n",
       "11  [<1-hop>\\n\\nBased Development As a computer sc...   \n",
       "\n",
       "                                            reference  \\\n",
       "0   Meta released Llama, which allowed running a u...   \n",
       "1   In September last year, the term 'prompt injec...   \n",
       "2   2023 was the breakthrough year for Large Langu...   \n",
       "3   You can run Llama 2 on your own Mac using LLM ...   \n",
       "4   Advancements in large language models have sig...   \n",
       "5   OpenAI was one of the first organizations to r...   \n",
       "6   The challenges of understanding and controllin...   \n",
       "7   OpenAI has played a significant role in the de...   \n",
       "8   In 2023, significant advancements were made in...   \n",
       "9   Claude has been a significant contributor to a...   \n",
       "10  Advancements in GPT-4 and GPT-4o have signific...   \n",
       "11  The challenges of evaluating LLMs stem from th...   \n",
       "\n",
       "                        synthesizer_name  \n",
       "0   single_hop_specifc_query_synthesizer  \n",
       "1   single_hop_specifc_query_synthesizer  \n",
       "2   single_hop_specifc_query_synthesizer  \n",
       "3   single_hop_specifc_query_synthesizer  \n",
       "4   multi_hop_abstract_query_synthesizer  \n",
       "5   multi_hop_abstract_query_synthesizer  \n",
       "6   multi_hop_abstract_query_synthesizer  \n",
       "7   multi_hop_abstract_query_synthesizer  \n",
       "8   multi_hop_specific_query_synthesizer  \n",
       "9   multi_hop_specific_query_synthesizer  \n",
       "10  multi_hop_specific_query_synthesizer  \n",
       "11  multi_hop_specific_query_synthesizer  "
      ]
     },
     "execution_count": 84,
     "metadata": {},
     "output_type": "execute_result"
    }
   ],
   "source": [
    "dataset.to_pandas()"
   ]
  },
  {
   "cell_type": "markdown",
   "metadata": {
    "id": "6vSRr2MXk0P_"
   },
   "source": [
    "We'll need to provide our LangSmith API key, and set tracing to \"true\"."
   ]
  },
  {
   "cell_type": "markdown",
   "metadata": {
    "id": "vLDUsLJg43k7"
   },
   "source": [
    "# 🤝 BREAKOUT ROOM #2"
   ]
  },
  {
   "cell_type": "markdown",
   "metadata": {
    "id": "8SLtk1GtnyoY"
   },
   "source": [
    "## Task 4: LangSmith Dataset\n",
    "\n",
    "Now we can move on to creating a dataset for LangSmith!\n",
    "\n",
    "First, we'll need to create a dataset on LangSmith using the `Client`!\n",
    "\n",
    "We'll name our Dataset to make it easy to work with later."
   ]
  },
  {
   "cell_type": "code",
   "execution_count": 85,
   "metadata": {
    "id": "TLgm6OjvYSsm"
   },
   "outputs": [],
   "source": [
    "from langsmith import Client\n",
    "\n",
    "client = Client()\n",
    "\n",
    "dataset_name = \"State of AI Across the Years!\"\n",
    "\n",
    "langsmith_dataset = client.create_dataset(\n",
    "    dataset_name=dataset_name,\n",
    "    description=\"State of AI Across the Years!\"\n",
    ")"
   ]
  },
  {
   "cell_type": "markdown",
   "metadata": {
    "id": "64SmXMBnzXWm"
   },
   "source": [
    "We'll iterate through the RAGAS created dataframe - and add each example to our created dataset!\n",
    "\n",
    "> NOTE: We need to conform the outputs to the expected format - which in this case is: `question` and `answer`."
   ]
  },
  {
   "cell_type": "code",
   "execution_count": 86,
   "metadata": {
    "id": "8nFQ6di_XnY7"
   },
   "outputs": [],
   "source": [
    "for data_row in dataset.to_pandas().iterrows():\n",
    "  client.create_example(\n",
    "      inputs={\n",
    "          \"question\": data_row[1][\"user_input\"]\n",
    "      },\n",
    "      outputs={\n",
    "          \"answer\": data_row[1][\"reference\"]\n",
    "      },\n",
    "      metadata={\n",
    "          \"context\": data_row[1][\"reference_contexts\"]\n",
    "      },\n",
    "      dataset_id=langsmith_dataset.id\n",
    "  )"
   ]
  },
  {
   "cell_type": "markdown",
   "metadata": {
    "id": "o6EbQVyZq-2j"
   },
   "source": [
    "## Basic RAG Chain\n",
    "\n",
    "Time for some RAG!\n"
   ]
  },
  {
   "cell_type": "code",
   "execution_count": 87,
   "metadata": {
    "id": "4njbUAIsaYjB"
   },
   "outputs": [],
   "source": [
    "rag_documents = docs"
   ]
  },
  {
   "cell_type": "markdown",
   "metadata": {
    "id": "bQorBy8H1AZR"
   },
   "source": [
    "To keep things simple, we'll just use LangChain's recursive character text splitter!\n"
   ]
  },
  {
   "cell_type": "code",
   "execution_count": 88,
   "metadata": {
    "id": "qWo3Ajaragv1"
   },
   "outputs": [],
   "source": [
    "from langchain.text_splitter import RecursiveCharacterTextSplitter\n",
    "\n",
    "text_splitter = RecursiveCharacterTextSplitter(\n",
    "    chunk_size = 500,\n",
    "    chunk_overlap = 50\n",
    ")\n",
    "\n",
    "rag_documents = text_splitter.split_documents(rag_documents)"
   ]
  },
  {
   "cell_type": "markdown",
   "metadata": {
    "id": "kghuTb9R01oO"
   },
   "source": [
    "We'll create our vectorstore using OpenAI's [`text-embedding-3-small`](https://platform.openai.com/docs/guides/embeddings/embedding-models) embedding model."
   ]
  },
  {
   "cell_type": "code",
   "execution_count": 89,
   "metadata": {
    "id": "UwfJCzP3aqKI"
   },
   "outputs": [],
   "source": [
    "from langchain_openai import OpenAIEmbeddings\n",
    "\n",
    "embeddings = OpenAIEmbeddings(model=\"text-embedding-3-small\")"
   ]
  },
  {
   "cell_type": "markdown",
   "metadata": {
    "id": "QpCLS-a01Ft2"
   },
   "source": [
    "As usual, we will power our RAG application with Qdrant!"
   ]
  },
  {
   "cell_type": "code",
   "execution_count": 90,
   "metadata": {
    "id": "58Ypj_NgbEsi"
   },
   "outputs": [],
   "source": [
    "from langchain_community.vectorstores import Qdrant\n",
    "\n",
    "vectorstore = Qdrant.from_documents(\n",
    "    documents=rag_documents,\n",
    "    embedding=embeddings,\n",
    "    location=\":memory:\",\n",
    "    collection_name=\"State of AI\"\n",
    ")"
   ]
  },
  {
   "cell_type": "code",
   "execution_count": 91,
   "metadata": {
    "id": "SbKSjfSkbTYo"
   },
   "outputs": [],
   "source": [
    "retriever = vectorstore.as_retriever(search_kwargs={\"k\": 10})"
   ]
  },
  {
   "cell_type": "markdown",
   "metadata": {
    "id": "WxUOMaQX1K2N"
   },
   "source": [
    "To get the \"A\" in RAG, we'll provide a prompt."
   ]
  },
  {
   "cell_type": "code",
   "execution_count": 92,
   "metadata": {
    "id": "1sLeY1oWbVqO"
   },
   "outputs": [],
   "source": [
    "from langchain.prompts import ChatPromptTemplate\n",
    "\n",
    "RAG_PROMPT = \"\"\"\\\n",
    "Given a provided context and question, you must answer the question based only on context.\n",
    "\n",
    "If you cannot answer the question based on the context - you must say \"I don't know\".\n",
    "\n",
    "Context: {context}\n",
    "Question: {question}\n",
    "\"\"\"\n",
    "\n",
    "rag_prompt = ChatPromptTemplate.from_template(RAG_PROMPT)"
   ]
  },
  {
   "cell_type": "markdown",
   "metadata": {
    "id": "PZnHDh4e1Ou5"
   },
   "source": [
    "For our LLM, we will be using TogetherAI's endpoints as well!\n",
    "\n",
    "We're going to be using Meta Llama 3.1 70B Instruct Turbo - a powerful model which should get us powerful results!"
   ]
  },
  {
   "cell_type": "code",
   "execution_count": 93,
   "metadata": {
    "id": "6nx-ue1XbciV"
   },
   "outputs": [],
   "source": [
    "from langchain_openai import ChatOpenAI\n",
    "\n",
    "llm = ChatOpenAI(model=\"gpt-4o-mini\")"
   ]
  },
  {
   "cell_type": "markdown",
   "metadata": {
    "id": "jmTL6-pc1ZGz"
   },
   "source": [
    "Finally, we can set-up our RAG LCEL chain!"
   ]
  },
  {
   "cell_type": "code",
   "execution_count": 94,
   "metadata": {
    "id": "TjWj0OLIbbFc"
   },
   "outputs": [],
   "source": [
    "from operator import itemgetter\n",
    "from langchain_core.runnables import RunnablePassthrough, RunnableParallel\n",
    "from langchain.schema import StrOutputParser\n",
    "\n",
    "rag_chain = (\n",
    "    {\"context\": itemgetter(\"question\") | retriever, \"question\": itemgetter(\"question\")}\n",
    "    | rag_prompt | llm | StrOutputParser()\n",
    ")"
   ]
  },
  {
   "cell_type": "code",
   "execution_count": 95,
   "metadata": {
    "colab": {
     "base_uri": "https://localhost:8080/",
     "height": 35
    },
    "id": "WQ7bEweo4IIb",
    "outputId": "d161b269-f799-4920-d6ce-c202f6e783aa"
   },
   "outputs": [
    {
     "data": {
      "text/plain": [
       "'Agents refer to AI systems that can act on your behalf, but the term lacks a clear, widely accepted definition. There are different interpretations, including AI that behaves like a travel agent and LLMs that utilize tools to solve problems. Overall, \"agents\" are depicted as a somewhat vague concept that is still in the process of development and has not yet been fully realized in practical applications.'"
      ]
     },
     "execution_count": 95,
     "metadata": {},
     "output_type": "execute_result"
    }
   ],
   "source": [
    "rag_chain.invoke({\"question\" : \"What are Agents?\"})"
   ]
  },
  {
   "cell_type": "markdown",
   "metadata": {
    "id": "D9hBh5YPrdGJ"
   },
   "source": [
    "## LangSmith Evaluation Set-up\n",
    "\n",
    "We'll use OpenAI's GPT-4o as our evaluation LLM for our base Evaluators."
   ]
  },
  {
   "cell_type": "code",
   "execution_count": 96,
   "metadata": {
    "id": "gfwPYdIkcvpF"
   },
   "outputs": [],
   "source": [
    "eval_llm = ChatOpenAI(model=\"gpt-4o\")"
   ]
  },
  {
   "cell_type": "markdown",
   "metadata": {
    "id": "6b8pToKH2K28"
   },
   "source": [
    "We'll be using a number of evaluators - from LangSmith provided evaluators, to a few custom evaluators!"
   ]
  },
  {
   "cell_type": "code",
   "execution_count": 97,
   "metadata": {
    "id": "PXSG-_ajckp6"
   },
   "outputs": [],
   "source": [
    "from langsmith.evaluation import LangChainStringEvaluator, evaluate\n",
    "\n",
    "qa_evaluator = LangChainStringEvaluator(\"qa\", config={\"llm\" : eval_llm})\n",
    "\n",
    "labeled_helpfulness_evaluator = LangChainStringEvaluator(\n",
    "    \"labeled_criteria\",\n",
    "    config={\n",
    "        \"criteria\": {\n",
    "            \"helpfulness\": (\n",
    "                \"Is this submission helpful to the user,\"\n",
    "                \" taking into account the correct reference answer?\"\n",
    "            )\n",
    "        },\n",
    "        \"llm\" : eval_llm\n",
    "    },\n",
    "    prepare_data=lambda run, example: {\n",
    "        \"prediction\": run.outputs[\"output\"],\n",
    "        \"reference\": example.outputs[\"answer\"],\n",
    "        \"input\": example.inputs[\"question\"],\n",
    "    }\n",
    ")\n",
    "\n",
    "dope_or_nope_evaluator = LangChainStringEvaluator(\n",
    "    \"criteria\",\n",
    "    config={\n",
    "        \"criteria\": {\n",
    "            \"dopeness\": \"Is this submission dope, lit, or cool?\",\n",
    "        },\n",
    "        \"llm\" : eval_llm\n",
    "    }\n",
    ")"
   ]
  },
  {
   "cell_type": "markdown",
   "metadata": {
    "id": "z0SQP_FoCetP"
   },
   "source": [
    "#### 🏗️ Activity #2:\n",
    "\n",
    "Highlight what each evaluator is evaluating.\n",
    "\n",
    "- `qa_evaluator`:\n",
    "- `labeled_helpfulness_evaluator`:\n",
    "- `dope_or_nope_evaluator`:"
   ]
  },
  {
   "cell_type": "markdown",
   "metadata": {},
   "source": [
    "<div style=\"background-color: #E6E6FA; padding: 10px; border-radius: 5px;\">\n",
    "<span style=\"color: black;\">\n",
    "<b> ANSWER:  </b> \n",
    "\n",
    "\n",
    "Each evaluator in your code is using LangSmith's LangChainStringEvaluator to assess the quality of generated responses based on different criteria.\n",
    "\n",
    "(1) <b> qa_evaluator: </b> This QA (Question-Answer) evaluator checks how the generated response (prediction) aligns with an expected or reference answer. \n",
    "- The evaluator argument is set to \"qa\" suggesting this evaluator will leverage a built-in evaluator meant for general QA tasks. \n",
    "- The LLM (eval_llm) assesses the quality of the response.\n",
    "\n",
    "(2) <b> labeled_helpfulness_evaluator: </b> This evaluator checks how helpful the response is.\n",
    "- It uses a custom labeled criteria (\"labeled_criteria\") with a specific focus on helpfulness.\n",
    "- The prepare_data function structures the input for evaluation: prediction (model's generated response), reference (expected answer), input (query)\n",
    "- The LLM (eval_llm) dteremines how helpful the generated response is, benchmarked in comparison to the reference.\n",
    "\n",
    "(3) <b> dope_or_nope_evaluator: </b> This evaluator is assessing \"dopeness\" (coolness).\n",
    "- It uses a custom \"criteria\" evaluator with the criterion \"dopeness\", checking if the response is dope / lit / cool.\n",
    "- The LLM (eval_llm) determines whether the generated response meets this informal, subjective standard.\n",
    "</span>\n",
    "</div>"
   ]
  },
  {
   "cell_type": "markdown",
   "metadata": {
    "id": "R35sQMHVrnpl"
   },
   "source": [
    "## LangSmith Evaluation"
   ]
  },
  {
   "cell_type": "code",
   "execution_count": 98,
   "metadata": {
    "colab": {
     "base_uri": "https://localhost:8080/",
     "height": 136,
     "referenced_widgets": [
      "122b1bd1f0e9417a8dcb57d4eebe4d2e",
      "e0c233ad01604540a6c873f4a731982d",
      "e9a01115c75b499884f7e0ef32e9e599",
      "5faba4ad609448b2b49024add4ad3b8e",
      "ef25efa751304e4699910f1fbc14345f",
      "0b44cb0f8e34446c8dde668a75d3d8ad",
      "edaac6587b2d4bd5be52b89bb097f99f",
      "7cb241365f604419af454c1c28de197a",
      "9cf586576ff44dba86ba2eb389593c61",
      "849b5c95008541d49f1ceedf0a59ac60",
      "f3665a86662746c4ac7cb0796604781d"
     ]
    },
    "id": "t7t_Uz0tdumL",
    "outputId": "d684e218-294e-4dc3-c8de-a01d397f021c"
   },
   "outputs": [
    {
     "name": "stdout",
     "output_type": "stream",
     "text": [
      "View the evaluation results for experiment: 'monthly-wound-64' at:\n",
      "https://smith.langchain.com/o/a880a293-74b1-4b82-a94d-e9a3daf7aa11/datasets/f4fa746b-ddac-42dc-b684-812378b0c61b/compare?selectedSessions=5c26707e-1d01-4a24-a629-ad8c76b8dda2\n",
      "\n",
      "\n"
     ]
    },
    {
     "name": "stderr",
     "output_type": "stream",
     "text": [
      "12it [05:17, 26.48s/it]\n"
     ]
    },
    {
     "data": {
      "text/html": [
       "<div>\n",
       "<style scoped>\n",
       "    .dataframe tbody tr th:only-of-type {\n",
       "        vertical-align: middle;\n",
       "    }\n",
       "\n",
       "    .dataframe tbody tr th {\n",
       "        vertical-align: top;\n",
       "    }\n",
       "\n",
       "    .dataframe thead th {\n",
       "        text-align: right;\n",
       "    }\n",
       "</style>\n",
       "<table border=\"1\" class=\"dataframe\">\n",
       "  <thead>\n",
       "    <tr style=\"text-align: right;\">\n",
       "      <th></th>\n",
       "      <th>inputs.question</th>\n",
       "      <th>outputs.output</th>\n",
       "      <th>error</th>\n",
       "      <th>reference.answer</th>\n",
       "      <th>feedback.correctness</th>\n",
       "      <th>feedback.helpfulness</th>\n",
       "      <th>feedback.dopeness</th>\n",
       "      <th>execution_time</th>\n",
       "      <th>example_id</th>\n",
       "      <th>id</th>\n",
       "    </tr>\n",
       "  </thead>\n",
       "  <tbody>\n",
       "    <tr>\n",
       "      <th>0</th>\n",
       "      <td>How do the challenges of evaluating LLMs and t...</td>\n",
       "      <td>The challenges of evaluating LLMs and their gu...</td>\n",
       "      <td>None</td>\n",
       "      <td>The challenges of evaluating LLMs stem from th...</td>\n",
       "      <td>1</td>\n",
       "      <td>0</td>\n",
       "      <td>0</td>\n",
       "      <td>5.533696</td>\n",
       "      <td>f3ce003d-5d87-47ae-a43d-ba57a66a8441</td>\n",
       "      <td>476f216f-617e-478a-9887-0730271d2647</td>\n",
       "    </tr>\n",
       "    <tr>\n",
       "      <th>1</th>\n",
       "      <td>How have advancements in GPT-4 and GPT-4o infl...</td>\n",
       "      <td>The advancements in GPT-4 and the release of G...</td>\n",
       "      <td>None</td>\n",
       "      <td>Advancements in GPT-4 and GPT-4o have signific...</td>\n",
       "      <td>0</td>\n",
       "      <td>0</td>\n",
       "      <td>0</td>\n",
       "      <td>5.740549</td>\n",
       "      <td>0ed56e13-9a66-4278-9b54-8bc06a996358</td>\n",
       "      <td>60aa3775-94a9-405a-81e3-ac2a00f0ff0a</td>\n",
       "    </tr>\n",
       "    <tr>\n",
       "      <th>2</th>\n",
       "      <td>How has Claude contributed to advancements in ...</td>\n",
       "      <td>Claude has contributed to advancements in larg...</td>\n",
       "      <td>None</td>\n",
       "      <td>Claude has been a significant contributor to a...</td>\n",
       "      <td>0</td>\n",
       "      <td>0</td>\n",
       "      <td>0</td>\n",
       "      <td>6.845584</td>\n",
       "      <td>1ec814da-b35c-4704-a529-ee7d6358d458</td>\n",
       "      <td>c59502bf-cdf0-45c3-9cf5-c05825600c61</td>\n",
       "    </tr>\n",
       "    <tr>\n",
       "      <th>3</th>\n",
       "      <td>What were the key advancements in AI and Large...</td>\n",
       "      <td>In 2023, key advancements in AI and Large Lang...</td>\n",
       "      <td>None</td>\n",
       "      <td>In 2023, significant advancements were made in...</td>\n",
       "      <td>1</td>\n",
       "      <td>0</td>\n",
       "      <td>1</td>\n",
       "      <td>3.648828</td>\n",
       "      <td>b5da1594-d1c3-4cb7-9079-de28360d7f4d</td>\n",
       "      <td>489aaacd-d166-439d-853d-6fc2b0d9ca1c</td>\n",
       "    </tr>\n",
       "    <tr>\n",
       "      <th>4</th>\n",
       "      <td>How has OpenAI contributed to the development ...</td>\n",
       "      <td>OpenAI has contributed to the development of l...</td>\n",
       "      <td>None</td>\n",
       "      <td>OpenAI has played a significant role in the de...</td>\n",
       "      <td>1</td>\n",
       "      <td>0</td>\n",
       "      <td>0</td>\n",
       "      <td>5.816194</td>\n",
       "      <td>1ba383fe-b824-41d0-8bb4-ae2d225507e4</td>\n",
       "      <td>a78f81be-6603-41d5-8d7e-584621d61c1a</td>\n",
       "    </tr>\n",
       "    <tr>\n",
       "      <th>5</th>\n",
       "      <td>How do the challenges of understanding and con...</td>\n",
       "      <td>The challenges of understanding and controllin...</td>\n",
       "      <td>None</td>\n",
       "      <td>The challenges of understanding and controllin...</td>\n",
       "      <td>1</td>\n",
       "      <td>0</td>\n",
       "      <td>0</td>\n",
       "      <td>5.239366</td>\n",
       "      <td>eb2ff29c-e9fb-4441-b9fe-fb006fa9aa51</td>\n",
       "      <td>d54107a4-e1a7-440a-8b03-db60875b49a7</td>\n",
       "    </tr>\n",
       "    <tr>\n",
       "      <th>6</th>\n",
       "      <td>How OpenAI and AI ethics and legality connect ...</td>\n",
       "      <td>The context discusses the legal and ethical im...</td>\n",
       "      <td>None</td>\n",
       "      <td>OpenAI was one of the first organizations to r...</td>\n",
       "      <td>1</td>\n",
       "      <td>1</td>\n",
       "      <td>0</td>\n",
       "      <td>4.152866</td>\n",
       "      <td>12b050a9-0821-4bf7-b281-28fa692a8a08</td>\n",
       "      <td>421469e4-ade9-48d3-8733-f3fa40193be3</td>\n",
       "    </tr>\n",
       "    <tr>\n",
       "      <th>7</th>\n",
       "      <td>How have advancements in large language models...</td>\n",
       "      <td>Advancements in large language models (LLMs) h...</td>\n",
       "      <td>None</td>\n",
       "      <td>Advancements in large language models have sig...</td>\n",
       "      <td>1</td>\n",
       "      <td>1</td>\n",
       "      <td>0</td>\n",
       "      <td>3.373136</td>\n",
       "      <td>8c687021-339d-4880-a5ba-d45233fbb033</td>\n",
       "      <td>3600c50b-ce7c-4ba3-98a6-1d2cf6255ed9</td>\n",
       "    </tr>\n",
       "    <tr>\n",
       "      <th>8</th>\n",
       "      <td>how use homebrew for run llama 2?</td>\n",
       "      <td>I don't know.</td>\n",
       "      <td>None</td>\n",
       "      <td>You can run Llama 2 on your own Mac using LLM ...</td>\n",
       "      <td>0</td>\n",
       "      <td>0</td>\n",
       "      <td>0</td>\n",
       "      <td>1.742109</td>\n",
       "      <td>47984f6f-a5a6-4582-a028-8aa08b123843</td>\n",
       "      <td>c216929d-4c7d-4849-bb52-c6bbfa50cbde</td>\n",
       "    </tr>\n",
       "    <tr>\n",
       "      <th>9</th>\n",
       "      <td>What we learn about AI in 2023?</td>\n",
       "      <td>In 2023, it was noted that it was a breakthrou...</td>\n",
       "      <td>None</td>\n",
       "      <td>2023 was the breakthrough year for Large Langu...</td>\n",
       "      <td>1</td>\n",
       "      <td>0</td>\n",
       "      <td>0</td>\n",
       "      <td>3.541928</td>\n",
       "      <td>137ed418-b9ca-4933-afdf-7c9792b1bec4</td>\n",
       "      <td>b656e90b-e261-4be7-ad76-8f72d489e06d</td>\n",
       "    </tr>\n",
       "    <tr>\n",
       "      <th>10</th>\n",
       "      <td>What happen in September with prompt injection?</td>\n",
       "      <td>In September last year, the term \"prompt injec...</td>\n",
       "      <td>None</td>\n",
       "      <td>In September last year, the term 'prompt injec...</td>\n",
       "      <td>1</td>\n",
       "      <td>0</td>\n",
       "      <td>0</td>\n",
       "      <td>1.444051</td>\n",
       "      <td>fedf930c-9242-4d27-a284-ee21a977cd7d</td>\n",
       "      <td>63efd310-3f81-4f3e-928a-8c514d27d467</td>\n",
       "    </tr>\n",
       "    <tr>\n",
       "      <th>11</th>\n",
       "      <td>Meta do what with LLMs?</td>\n",
       "      <td>I don't know.</td>\n",
       "      <td>None</td>\n",
       "      <td>Meta released Llama, which allowed running a u...</td>\n",
       "      <td>0</td>\n",
       "      <td>0</td>\n",
       "      <td>0</td>\n",
       "      <td>1.944713</td>\n",
       "      <td>1567c78f-07a3-45d5-93be-35c7005a0bb2</td>\n",
       "      <td>c37a0935-8d06-4b9d-847e-1337ca0457fb</td>\n",
       "    </tr>\n",
       "  </tbody>\n",
       "</table>\n",
       "</div>"
      ],
      "text/plain": [
       "<ExperimentResults monthly-wound-64>"
      ]
     },
     "execution_count": 98,
     "metadata": {},
     "output_type": "execute_result"
    }
   ],
   "source": [
    "evaluate(\n",
    "    rag_chain.invoke,\n",
    "    data=dataset_name,\n",
    "    evaluators=[\n",
    "        qa_evaluator,\n",
    "        labeled_helpfulness_evaluator,\n",
    "        dope_or_nope_evaluator\n",
    "    ],\n",
    "    metadata={\"revision_id\": \"default_chain_init\"},\n",
    ")"
   ]
  },
  {
   "cell_type": "markdown",
   "metadata": {
    "id": "Nq7fCVinrpI4"
   },
   "source": [
    "## Dope-ifying Our Application\n",
    "\n",
    "We'll be making a few changes to our RAG chain to increase its performance on our SDG evaluation test dataset!\n",
    "\n",
    "- Include a \"dope\" prompt augmentation\n",
    "- Use larger chunks\n",
    "- Improve the retriever model to: `text-embedding-3-large`\n",
    "\n",
    "Let's see how this changes our evaluation!"
   ]
  },
  {
   "cell_type": "code",
   "execution_count": 99,
   "metadata": {
    "id": "z56pXwyUgFUt"
   },
   "outputs": [],
   "source": [
    "DOPE_RAG_PROMPT = \"\"\"\\\n",
    "Given a provided context and question, you must answer the question based only on context.\n",
    "\n",
    "If you cannot answer the question based on the context - you must say \"I don't know\".\n",
    "\n",
    "You must answer the questions in a dope way, be cool!\n",
    "\n",
    "Context: {context}\n",
    "Question: {question}\n",
    "\"\"\"\n",
    "\n",
    "dope_rag_prompt = ChatPromptTemplate.from_template(DOPE_RAG_PROMPT)"
   ]
  },
  {
   "cell_type": "code",
   "execution_count": 100,
   "metadata": {
    "id": "rZLcTstJgfv5"
   },
   "outputs": [],
   "source": [
    "rag_documents = docs"
   ]
  },
  {
   "cell_type": "code",
   "execution_count": 101,
   "metadata": {
    "id": "-LYsyirngj6n"
   },
   "outputs": [],
   "source": [
    "from langchain.text_splitter import RecursiveCharacterTextSplitter\n",
    "\n",
    "text_splitter = RecursiveCharacterTextSplitter(\n",
    "    chunk_size = 1000,\n",
    "    chunk_overlap = 50\n",
    ")\n",
    "\n",
    "rag_documents = text_splitter.split_documents(rag_documents)"
   ]
  },
  {
   "cell_type": "markdown",
   "metadata": {
    "id": "spldiPuTCzDO"
   },
   "source": [
    "#### ❓Question #2:\n",
    "\n",
    "Why would modifying our chunk size modify the performance of our application?"
   ]
  },
  {
   "cell_type": "markdown",
   "metadata": {},
   "source": [
    "<div style=\"background-color: #E6E6FA; padding: 10px; border-radius: 5px;\">\n",
    "<span style=\"color: black;\">\n",
    "<b> ANSWER:  </b> \n",
    "\n",
    "Modifying the chunk size in RecursiveCharacterTextSplitter can significantly impact the RAG system's performance in following ways.\n",
    "\n",
    "1. The effectiveness, and precision performance of retrieval can be majorly impacted by the chunk size. This is because smaller chunks can enable precise retrieval but risk missing context due to frequent splitting, and larger chunks can enable better contextual understanding but may increase redundancy leading to higher costs and storage requriements.\n",
    "\n",
    "2. Similarly, latency & computation cost are also severely impacted by chunk size. Smaller chunking increases the number of required retrievals slowing speed of execution. On the other hand, larger chunks increase the volume of data (text) / higher dimensional vectors passed to the LLM, increasing inference time and costs.\n",
    "\n",
    "3. Similarly, context retention and redundancy are also significantly impacted by chosen chunk size. It should not be too high to limit redundant storage and embedding costs. It should, also, not be too low else the system can lose vital context / information / intelligence.\n",
    "\n",
    "Therefore, it is critical to find the optimal chunk size for each use case / app / implementation to balance the above mentioned considerations of retrieval precision, latency, computation costs, and context retention.\n",
    "\n",
    "</span>\n",
    "</div>"
   ]
  },
  {
   "cell_type": "code",
   "execution_count": 102,
   "metadata": {
    "id": "b9MI2Bm2go1r"
   },
   "outputs": [],
   "source": [
    "from langchain_openai import OpenAIEmbeddings\n",
    "\n",
    "embeddings = OpenAIEmbeddings(model=\"text-embedding-3-large\")"
   ]
  },
  {
   "cell_type": "markdown",
   "metadata": {
    "id": "UBbjG6cKC8BQ"
   },
   "source": [
    "#### ❓Question #3:\n",
    "\n",
    "Why would modifying our embedding model modify the performance of our application?"
   ]
  },
  {
   "cell_type": "markdown",
   "metadata": {},
   "source": [
    "<div style=\"background-color: #E6E6FA; padding: 10px; border-radius: 5px;\">\n",
    "<span style=\"color: black;\">\n",
    "<b> ANSWER:  </b> \n",
    "\n",
    "The embedding model of the RAG system has significant impact on retrieval accuracy, storage requirements, speed, costs, and overall performance. \n",
    "\n",
    "1. <b> Retrieval Accuracy / Precision:  </b> Since different embedding models encode text with varying semantic richness, more advanced models can capture deeper contextual meaning, leading to improved retrieval of relevant documents / chunks, enhancing the Retrieval component of a RAG pipeline. Less advanced models may miss these deeper nuances retrieving less relevant results.\n",
    "\n",
    "2. <b> Storage requirements:  </b> Since each embedding model produces vectors of different dimensions, higher-dimensional embeddings improve semantic understanding but also increase storage costs (of vector database) and latency (due to higher computation volume).\n",
    "\n",
    "3. <b> Storage requirements:  </b> Larger models require more compute power to generate embeddings and hence, are slower. Smaller models generate embeddings faster, which can improve real-time applications.\n",
    "\n",
    "4. <b> Costs:  </b> Each API call has a cost per # of tokens. Larger models are more expensive than smaller ones but produce better quality outputs.\n",
    "\n",
    "5. <b> Pipeline performeance:  </b> Switching between embedding models might not be seamless since older embedding model versions might not be compatible and require recomputation of all stored embeddings.\n",
    "\n",
    "</span>\n",
    "</div>"
   ]
  },
  {
   "cell_type": "code",
   "execution_count": 103,
   "metadata": {
    "id": "hVUY25FKgxXx"
   },
   "outputs": [],
   "source": [
    "vectorstore = Qdrant.from_documents(\n",
    "    documents=rag_documents,\n",
    "    embedding=embeddings,\n",
    "    location=\":memory:\",\n",
    "    collection_name=\"AI Across Years (Augmented)\"\n",
    ")"
   ]
  },
  {
   "cell_type": "code",
   "execution_count": 104,
   "metadata": {
    "id": "Q4TOZNYIg2v1"
   },
   "outputs": [],
   "source": [
    "retriever = vectorstore.as_retriever()"
   ]
  },
  {
   "cell_type": "markdown",
   "metadata": {
    "id": "SqYGFrnKDB91"
   },
   "source": [
    "Setting up our new and improved DOPE RAG CHAIN."
   ]
  },
  {
   "cell_type": "code",
   "execution_count": 105,
   "metadata": {
    "id": "HqnTqeXMhAdx"
   },
   "outputs": [],
   "source": [
    "dope_rag_chain = (\n",
    "    {\"context\": itemgetter(\"question\") | retriever, \"question\": itemgetter(\"question\")}\n",
    "    | dope_rag_prompt | llm | StrOutputParser()\n",
    ")"
   ]
  },
  {
   "cell_type": "markdown",
   "metadata": {
    "id": "21pTxoqJDI1Y"
   },
   "source": [
    "Let's test it on the same output that we saw before."
   ]
  },
  {
   "cell_type": "code",
   "execution_count": 106,
   "metadata": {
    "colab": {
     "base_uri": "https://localhost:8080/",
     "height": 70
    },
    "id": "OfZZ3MoN3fKv",
    "outputId": "d65722dd-92c2-4e4e-9cca-c42ee6f3f208"
   },
   "outputs": [
    {
     "data": {
      "text/plain": [
       "'Agents, man, are these elusive AI systems that are supposed to act on your behalf, like a digital travel agent or a super-efficient assistant. But here\\'s the kicker: the term \"agents\" is all over the place—no one seems to agree on what it really means. You’ve got folks thinking about them as tools with autonomy, running loops to solve problems, but then there’s the whole issue of gullibility—LLMs easily believe anything! So while there\\'s a lot of talk and hype around agents, the reality is that they’re still just “coming soon” in a universe of prototypes with no solid production examples. They\\'re a bit of a mirage in the AI desert, bro.'"
      ]
     },
     "execution_count": 106,
     "metadata": {},
     "output_type": "execute_result"
    }
   ],
   "source": [
    "dope_rag_chain.invoke({\"question\" : \"what are Agents?\"})"
   ]
  },
  {
   "cell_type": "markdown",
   "metadata": {
    "id": "lpj7v1inDLnQ"
   },
   "source": [
    "Finally, we can evaluate the new chain on the same test set!"
   ]
  },
  {
   "cell_type": "code",
   "execution_count": 107,
   "metadata": {
    "colab": {
     "base_uri": "https://localhost:8080/",
     "height": 136,
     "referenced_widgets": [
      "bf8dcc0895054529af356da401c513f6",
      "7dce19ac55264f2b88a0e4730e55867b",
      "2a0755d4476543feb4a64538e3e37213",
      "158212a630f04cbd884c937f2f60f5c8",
      "11c7f66acc1d45be9517d0addf49331e",
      "ddffd834e09940a4bd3874c3f39b4e21",
      "ef63c3b2d51e452da03cdae5d9b034be",
      "c20b539cd70b4ba99601ad1d69fd9cec",
      "a6d681eeafa44d18b933a4c5dec88382",
      "d1d54ccd56494c4d831f71b416a1f880",
      "530f696feefe499da08c6312047379b2"
     ]
    },
    "id": "Dx11S2b-hIM8",
    "outputId": "d3a3ea78-aa32-4bd2-8c2a-d0d0303695c1"
   },
   "outputs": [
    {
     "name": "stdout",
     "output_type": "stream",
     "text": [
      "View the evaluation results for experiment: 'timely-stomach-49' at:\n",
      "https://smith.langchain.com/o/a880a293-74b1-4b82-a94d-e9a3daf7aa11/datasets/f4fa746b-ddac-42dc-b684-812378b0c61b/compare?selectedSessions=a489d665-fca9-4d75-896c-e588be121bf1\n",
      "\n",
      "\n"
     ]
    },
    {
     "name": "stderr",
     "output_type": "stream",
     "text": [
      "12it [04:21, 21.80s/it]\n"
     ]
    },
    {
     "data": {
      "text/html": [
       "<div>\n",
       "<style scoped>\n",
       "    .dataframe tbody tr th:only-of-type {\n",
       "        vertical-align: middle;\n",
       "    }\n",
       "\n",
       "    .dataframe tbody tr th {\n",
       "        vertical-align: top;\n",
       "    }\n",
       "\n",
       "    .dataframe thead th {\n",
       "        text-align: right;\n",
       "    }\n",
       "</style>\n",
       "<table border=\"1\" class=\"dataframe\">\n",
       "  <thead>\n",
       "    <tr style=\"text-align: right;\">\n",
       "      <th></th>\n",
       "      <th>inputs.question</th>\n",
       "      <th>outputs.output</th>\n",
       "      <th>error</th>\n",
       "      <th>reference.answer</th>\n",
       "      <th>feedback.correctness</th>\n",
       "      <th>feedback.helpfulness</th>\n",
       "      <th>feedback.dopeness</th>\n",
       "      <th>execution_time</th>\n",
       "      <th>example_id</th>\n",
       "      <th>id</th>\n",
       "    </tr>\n",
       "  </thead>\n",
       "  <tbody>\n",
       "    <tr>\n",
       "      <th>0</th>\n",
       "      <td>How do the challenges of evaluating LLMs and t...</td>\n",
       "      <td>Yo, the struggles with evaluating LLMs and the...</td>\n",
       "      <td>None</td>\n",
       "      <td>The challenges of evaluating LLMs stem from th...</td>\n",
       "      <td>1</td>\n",
       "      <td>0</td>\n",
       "      <td>1</td>\n",
       "      <td>4.648778</td>\n",
       "      <td>f3ce003d-5d87-47ae-a43d-ba57a66a8441</td>\n",
       "      <td>e7014d7a-9b93-43e4-abcb-e84735dade9f</td>\n",
       "    </tr>\n",
       "    <tr>\n",
       "      <th>1</th>\n",
       "      <td>How have advancements in GPT-4 and GPT-4o infl...</td>\n",
       "      <td>Yo, check this out! The advancements in GPT-4 ...</td>\n",
       "      <td>None</td>\n",
       "      <td>Advancements in GPT-4 and GPT-4o have signific...</td>\n",
       "      <td>1</td>\n",
       "      <td>0</td>\n",
       "      <td>1</td>\n",
       "      <td>4.276076</td>\n",
       "      <td>0ed56e13-9a66-4278-9b54-8bc06a996358</td>\n",
       "      <td>63c6e462-9444-4d9d-b638-de552eb2143a</td>\n",
       "    </tr>\n",
       "    <tr>\n",
       "      <th>2</th>\n",
       "      <td>How has Claude contributed to advancements in ...</td>\n",
       "      <td>I don't know.</td>\n",
       "      <td>None</td>\n",
       "      <td>Claude has been a significant contributor to a...</td>\n",
       "      <td>0</td>\n",
       "      <td>0</td>\n",
       "      <td>0</td>\n",
       "      <td>1.358806</td>\n",
       "      <td>1ec814da-b35c-4704-a529-ee7d6358d458</td>\n",
       "      <td>438efdd3-1b14-43b1-a9af-649b27bb135b</td>\n",
       "    </tr>\n",
       "    <tr>\n",
       "      <th>3</th>\n",
       "      <td>What were the key advancements in AI and Large...</td>\n",
       "      <td>In 2023, the landscape of Large Language Model...</td>\n",
       "      <td>None</td>\n",
       "      <td>In 2023, significant advancements were made in...</td>\n",
       "      <td>1</td>\n",
       "      <td>0</td>\n",
       "      <td>1</td>\n",
       "      <td>5.854190</td>\n",
       "      <td>b5da1594-d1c3-4cb7-9079-de28360d7f4d</td>\n",
       "      <td>aaedbe54-4ac6-47b9-b904-7e455fce97bf</td>\n",
       "    </tr>\n",
       "    <tr>\n",
       "      <th>4</th>\n",
       "      <td>How has OpenAI contributed to the development ...</td>\n",
       "      <td>OpenAI has made some serious waves in the worl...</td>\n",
       "      <td>None</td>\n",
       "      <td>OpenAI has played a significant role in the de...</td>\n",
       "      <td>1</td>\n",
       "      <td>0</td>\n",
       "      <td>1</td>\n",
       "      <td>5.084471</td>\n",
       "      <td>1ba383fe-b824-41d0-8bb4-ae2d225507e4</td>\n",
       "      <td>fab6b8b3-53aa-4809-947b-a05e5bc1901d</td>\n",
       "    </tr>\n",
       "    <tr>\n",
       "      <th>5</th>\n",
       "      <td>How do the challenges of understanding and con...</td>\n",
       "      <td>Yo, when it comes to LLMs being these mysterio...</td>\n",
       "      <td>None</td>\n",
       "      <td>The challenges of understanding and controllin...</td>\n",
       "      <td>1</td>\n",
       "      <td>0</td>\n",
       "      <td>1</td>\n",
       "      <td>5.911435</td>\n",
       "      <td>eb2ff29c-e9fb-4441-b9fe-fb006fa9aa51</td>\n",
       "      <td>3e82dd5b-0c7a-404f-b4ac-2693c297fa7c</td>\n",
       "    </tr>\n",
       "    <tr>\n",
       "      <th>6</th>\n",
       "      <td>How OpenAI and AI ethics and legality connect ...</td>\n",
       "      <td>Yo, it's a wild ride when you talk about OpenA...</td>\n",
       "      <td>None</td>\n",
       "      <td>OpenAI was one of the first organizations to r...</td>\n",
       "      <td>1</td>\n",
       "      <td>0</td>\n",
       "      <td>1</td>\n",
       "      <td>4.311288</td>\n",
       "      <td>12b050a9-0821-4bf7-b281-28fa692a8a08</td>\n",
       "      <td>c7440775-5840-4b47-899a-8bf058258066</td>\n",
       "    </tr>\n",
       "    <tr>\n",
       "      <th>7</th>\n",
       "      <td>How have advancements in large language models...</td>\n",
       "      <td>Yo, the advancements in large language models ...</td>\n",
       "      <td>None</td>\n",
       "      <td>Advancements in large language models have sig...</td>\n",
       "      <td>1</td>\n",
       "      <td>0</td>\n",
       "      <td>1</td>\n",
       "      <td>5.910872</td>\n",
       "      <td>8c687021-339d-4880-a5ba-d45233fbb033</td>\n",
       "      <td>a37ce655-7fa1-4ff2-95a8-8c4b74c28ff8</td>\n",
       "    </tr>\n",
       "    <tr>\n",
       "      <th>8</th>\n",
       "      <td>how use homebrew for run llama 2?</td>\n",
       "      <td>I don't know.</td>\n",
       "      <td>None</td>\n",
       "      <td>You can run Llama 2 on your own Mac using LLM ...</td>\n",
       "      <td>0</td>\n",
       "      <td>0</td>\n",
       "      <td>0</td>\n",
       "      <td>1.784549</td>\n",
       "      <td>47984f6f-a5a6-4582-a028-8aa08b123843</td>\n",
       "      <td>eae096b2-451e-429a-81f2-64ade8ced1b0</td>\n",
       "    </tr>\n",
       "    <tr>\n",
       "      <th>9</th>\n",
       "      <td>What we learn about AI in 2023?</td>\n",
       "      <td>Yo, 2023 was a wild ride in the world of AI! H...</td>\n",
       "      <td>None</td>\n",
       "      <td>2023 was the breakthrough year for Large Langu...</td>\n",
       "      <td>1</td>\n",
       "      <td>1</td>\n",
       "      <td>1</td>\n",
       "      <td>6.348835</td>\n",
       "      <td>137ed418-b9ca-4933-afdf-7c9792b1bec4</td>\n",
       "      <td>8bd17aeb-fa38-4227-86bc-77cbac9002b5</td>\n",
       "    </tr>\n",
       "    <tr>\n",
       "      <th>10</th>\n",
       "      <td>What happen in September with prompt injection?</td>\n",
       "      <td>Back in September of last year, the term \"prom...</td>\n",
       "      <td>None</td>\n",
       "      <td>In September last year, the term 'prompt injec...</td>\n",
       "      <td>1</td>\n",
       "      <td>1</td>\n",
       "      <td>1</td>\n",
       "      <td>2.994948</td>\n",
       "      <td>fedf930c-9242-4d27-a284-ee21a977cd7d</td>\n",
       "      <td>c9236348-900b-4089-93d5-6e70d18e78f0</td>\n",
       "    </tr>\n",
       "    <tr>\n",
       "      <th>11</th>\n",
       "      <td>Meta do what with LLMs?</td>\n",
       "      <td>Meta is all about pushing the boundaries with ...</td>\n",
       "      <td>None</td>\n",
       "      <td>Meta released Llama, which allowed running a u...</td>\n",
       "      <td>1</td>\n",
       "      <td>1</td>\n",
       "      <td>1</td>\n",
       "      <td>2.493017</td>\n",
       "      <td>1567c78f-07a3-45d5-93be-35c7005a0bb2</td>\n",
       "      <td>11f14383-f6bc-4fe4-ace8-857dd35c4ee2</td>\n",
       "    </tr>\n",
       "  </tbody>\n",
       "</table>\n",
       "</div>"
      ],
      "text/plain": [
       "<ExperimentResults timely-stomach-49>"
      ]
     },
     "execution_count": 107,
     "metadata": {},
     "output_type": "execute_result"
    }
   ],
   "source": [
    "evaluate(\n",
    "    dope_rag_chain.invoke,\n",
    "    data=dataset_name,\n",
    "    evaluators=[\n",
    "        qa_evaluator,\n",
    "        labeled_helpfulness_evaluator,\n",
    "        dope_or_nope_evaluator\n",
    "    ],\n",
    "    metadata={\"revision_id\": \"dope_chain\"},\n",
    ")"
   ]
  },
  {
   "cell_type": "markdown",
   "metadata": {
    "id": "3C7migvlDPZT"
   },
   "source": [
    "#### 🏗️ Activity #3:\n",
    "\n",
    "Provide a screenshot of the difference between the two chains, and explain why you believe certain metrics changed in certain ways."
   ]
  },
  {
   "cell_type": "markdown",
   "metadata": {},
   "source": [
    "<div style=\"background-color: #E6E6FA; padding: 10px; border-radius: 5px;\">\n",
    "<span style=\"color: black;\">\n",
    "<b> ANSWER:  </b> \n",
    "\n",
    "The two RAG chains - rag_chain and dope_rag_chain vary wrt their prompt template / instructions where dope_rag_chain is additionally prompted to be dope.  \n",
    "\n",
    "\n",
    "\n",
    "We will compare the performance of the two RAG chains (monthly-wound-64 using rag_chain revision_id = default_chain_init and timely-stomach-49 using dope_rag_chain with revision_id =  dope_chain) created above across the 3 key categories:\n",
    "\n",
    "(1) <b> Evaluation scores (to assess quality of responses): </b>\n",
    "- (a) Correctness: how accurate the model's response is compared to a reference answer\n",
    "- (b) Dopeness:  how \"cool,\" \"engaging,\" or \"creative\" a response is (likely a subjective measure)\n",
    "- (c) Helpfulness: how useful and relevant the response is to the user's question\n",
    "\n",
    "(2) <b> Performance metrics (to assess speed and reliability of RAGs): </b> \n",
    "- P50 Latency: median response time (50th percentile)\n",
    "- P99 Latency: 99th percentile response time and helpful in determining the worst case scenario\n",
    "- Error Rate: % of requests that fail or produce an error; lower value means more reliability\n",
    "\n",
    "(3) <b> Cost metrics (to track resource usage and cost associated with LLM usage / API calls):  </b> \n",
    "- Total Cost: total amount spent on API calls\n",
    "- Prompt Tokens: # of tokens used in prompt sent to the LLM\n",
    "- Completion Tokens: # of tokens generated by LLM as output\n",
    "- Total Tokens: sum of prompt tokens and completion tokens accounting for overall cost by finding total API usage\n",
    "\n",
    "</span>\n",
    "</div>"
   ]
  },
  {
   "cell_type": "markdown",
   "metadata": {},
   "source": [
    "![1a](images/correctness.png)"
   ]
  },
  {
   "cell_type": "code",
   "execution_count": null,
   "metadata": {},
   "outputs": [],
   "source": []
  },
  {
   "cell_type": "markdown",
   "metadata": {},
   "source": [
    "![1b](images/dopeness.png)"
   ]
  },
  {
   "cell_type": "code",
   "execution_count": null,
   "metadata": {},
   "outputs": [],
   "source": []
  },
  {
   "cell_type": "markdown",
   "metadata": {},
   "source": [
    "![1c](images/helpfulness.png)"
   ]
  },
  {
   "cell_type": "code",
   "execution_count": null,
   "metadata": {},
   "outputs": [],
   "source": []
  },
  {
   "cell_type": "markdown",
   "metadata": {},
   "source": [
    "![2a](images/P50_latency.png)"
   ]
  },
  {
   "cell_type": "code",
   "execution_count": null,
   "metadata": {},
   "outputs": [],
   "source": []
  },
  {
   "cell_type": "markdown",
   "metadata": {},
   "source": [
    "![2b](images/P99_latency.png)"
   ]
  },
  {
   "cell_type": "code",
   "execution_count": null,
   "metadata": {},
   "outputs": [],
   "source": []
  },
  {
   "cell_type": "markdown",
   "metadata": {},
   "source": [
    "![2c](images/error_rate.png)"
   ]
  },
  {
   "cell_type": "code",
   "execution_count": null,
   "metadata": {},
   "outputs": [],
   "source": []
  },
  {
   "cell_type": "markdown",
   "metadata": {},
   "source": [
    "![3b](images/prompt_tokens.png)"
   ]
  },
  {
   "cell_type": "code",
   "execution_count": null,
   "metadata": {},
   "outputs": [],
   "source": []
  },
  {
   "cell_type": "markdown",
   "metadata": {},
   "source": [
    "![3c](images/completion_tokens.png)"
   ]
  },
  {
   "cell_type": "code",
   "execution_count": null,
   "metadata": {},
   "outputs": [],
   "source": []
  },
  {
   "cell_type": "markdown",
   "metadata": {},
   "source": [
    "![3d](images/total_tokens.png)"
   ]
  },
  {
   "cell_type": "code",
   "execution_count": null,
   "metadata": {},
   "outputs": [],
   "source": []
  }
 ],
 "metadata": {
  "colab": {
   "provenance": [],
   "toc_visible": true
  },
  "kernelspec": {
   "display_name": "Python 3",
   "language": "python",
   "name": "python3"
  },
  "language_info": {
   "codemirror_mode": {
    "name": "ipython",
    "version": 3
   },
   "file_extension": ".py",
   "mimetype": "text/x-python",
   "name": "python",
   "nbconvert_exporter": "python",
   "pygments_lexer": "ipython3",
   "version": "3.9.0"
  },
  "widgets": {
   "application/vnd.jupyter.widget-state+json": {
    "07ab3dc0790241bbb85a7f488a42ef8c": {
     "model_module": "@jupyter-widgets/controls",
     "model_module_version": "1.5.0",
     "model_name": "HBoxModel",
     "state": {
      "_dom_classes": [],
      "_model_module": "@jupyter-widgets/controls",
      "_model_module_version": "1.5.0",
      "_model_name": "HBoxModel",
      "_view_count": null,
      "_view_module": "@jupyter-widgets/controls",
      "_view_module_version": "1.5.0",
      "_view_name": "HBoxView",
      "box_style": "",
      "children": [
       "IPY_MODEL_7710c7377cbc4c30b55b28b4bc99e88f",
       "IPY_MODEL_41bdd49fab5f4826959d0d50663ff539",
       "IPY_MODEL_60168d85131d4afc99d55d61ab954ee6"
      ],
      "layout": "IPY_MODEL_9edf898aeeab40dda9b9475395776521"
     }
    },
    "095f680d37a3430fb82d223615662db5": {
     "model_module": "@jupyter-widgets/controls",
     "model_module_version": "1.5.0",
     "model_name": "ProgressStyleModel",
     "state": {
      "_model_module": "@jupyter-widgets/controls",
      "_model_module_version": "1.5.0",
      "_model_name": "ProgressStyleModel",
      "_view_count": null,
      "_view_module": "@jupyter-widgets/base",
      "_view_module_version": "1.2.0",
      "_view_name": "StyleView",
      "bar_color": null,
      "description_width": ""
     }
    },
    "0b44cb0f8e34446c8dde668a75d3d8ad": {
     "model_module": "@jupyter-widgets/base",
     "model_module_version": "1.2.0",
     "model_name": "LayoutModel",
     "state": {
      "_model_module": "@jupyter-widgets/base",
      "_model_module_version": "1.2.0",
      "_model_name": "LayoutModel",
      "_view_count": null,
      "_view_module": "@jupyter-widgets/base",
      "_view_module_version": "1.2.0",
      "_view_name": "LayoutView",
      "align_content": null,
      "align_items": null,
      "align_self": null,
      "border": null,
      "bottom": null,
      "display": null,
      "flex": null,
      "flex_flow": null,
      "grid_area": null,
      "grid_auto_columns": null,
      "grid_auto_flow": null,
      "grid_auto_rows": null,
      "grid_column": null,
      "grid_gap": null,
      "grid_row": null,
      "grid_template_areas": null,
      "grid_template_columns": null,
      "grid_template_rows": null,
      "height": null,
      "justify_content": null,
      "justify_items": null,
      "left": null,
      "margin": null,
      "max_height": null,
      "max_width": null,
      "min_height": null,
      "min_width": null,
      "object_fit": null,
      "object_position": null,
      "order": null,
      "overflow": null,
      "overflow_x": null,
      "overflow_y": null,
      "padding": null,
      "right": null,
      "top": null,
      "visibility": null,
      "width": null
     }
    },
    "10df31709059484c99f102453d780473": {
     "model_module": "@jupyter-widgets/base",
     "model_module_version": "1.2.0",
     "model_name": "LayoutModel",
     "state": {
      "_model_module": "@jupyter-widgets/base",
      "_model_module_version": "1.2.0",
      "_model_name": "LayoutModel",
      "_view_count": null,
      "_view_module": "@jupyter-widgets/base",
      "_view_module_version": "1.2.0",
      "_view_name": "LayoutView",
      "align_content": null,
      "align_items": null,
      "align_self": null,
      "border": null,
      "bottom": null,
      "display": null,
      "flex": null,
      "flex_flow": null,
      "grid_area": null,
      "grid_auto_columns": null,
      "grid_auto_flow": null,
      "grid_auto_rows": null,
      "grid_column": null,
      "grid_gap": null,
      "grid_row": null,
      "grid_template_areas": null,
      "grid_template_columns": null,
      "grid_template_rows": null,
      "height": null,
      "justify_content": null,
      "justify_items": null,
      "left": null,
      "margin": null,
      "max_height": null,
      "max_width": null,
      "min_height": null,
      "min_width": null,
      "object_fit": null,
      "object_position": null,
      "order": null,
      "overflow": null,
      "overflow_x": null,
      "overflow_y": null,
      "padding": null,
      "right": null,
      "top": null,
      "visibility": null,
      "width": null
     }
    },
    "1160a44dc18e47b0890f70c40eaa7eb0": {
     "model_module": "@jupyter-widgets/controls",
     "model_module_version": "1.5.0",
     "model_name": "DescriptionStyleModel",
     "state": {
      "_model_module": "@jupyter-widgets/controls",
      "_model_module_version": "1.5.0",
      "_model_name": "DescriptionStyleModel",
      "_view_count": null,
      "_view_module": "@jupyter-widgets/base",
      "_view_module_version": "1.2.0",
      "_view_name": "StyleView",
      "description_width": ""
     }
    },
    "11c7f66acc1d45be9517d0addf49331e": {
     "model_module": "@jupyter-widgets/base",
     "model_module_version": "1.2.0",
     "model_name": "LayoutModel",
     "state": {
      "_model_module": "@jupyter-widgets/base",
      "_model_module_version": "1.2.0",
      "_model_name": "LayoutModel",
      "_view_count": null,
      "_view_module": "@jupyter-widgets/base",
      "_view_module_version": "1.2.0",
      "_view_name": "LayoutView",
      "align_content": null,
      "align_items": null,
      "align_self": null,
      "border": null,
      "bottom": null,
      "display": null,
      "flex": null,
      "flex_flow": null,
      "grid_area": null,
      "grid_auto_columns": null,
      "grid_auto_flow": null,
      "grid_auto_rows": null,
      "grid_column": null,
      "grid_gap": null,
      "grid_row": null,
      "grid_template_areas": null,
      "grid_template_columns": null,
      "grid_template_rows": null,
      "height": null,
      "justify_content": null,
      "justify_items": null,
      "left": null,
      "margin": null,
      "max_height": null,
      "max_width": null,
      "min_height": null,
      "min_width": null,
      "object_fit": null,
      "object_position": null,
      "order": null,
      "overflow": null,
      "overflow_x": null,
      "overflow_y": null,
      "padding": null,
      "right": null,
      "top": null,
      "visibility": null,
      "width": null
     }
    },
    "122b1bd1f0e9417a8dcb57d4eebe4d2e": {
     "model_module": "@jupyter-widgets/controls",
     "model_module_version": "1.5.0",
     "model_name": "HBoxModel",
     "state": {
      "_dom_classes": [],
      "_model_module": "@jupyter-widgets/controls",
      "_model_module_version": "1.5.0",
      "_model_name": "HBoxModel",
      "_view_count": null,
      "_view_module": "@jupyter-widgets/controls",
      "_view_module_version": "1.5.0",
      "_view_name": "HBoxView",
      "box_style": "",
      "children": [
       "IPY_MODEL_e0c233ad01604540a6c873f4a731982d",
       "IPY_MODEL_e9a01115c75b499884f7e0ef32e9e599",
       "IPY_MODEL_5faba4ad609448b2b49024add4ad3b8e"
      ],
      "layout": "IPY_MODEL_ef25efa751304e4699910f1fbc14345f"
     }
    },
    "158212a630f04cbd884c937f2f60f5c8": {
     "model_module": "@jupyter-widgets/controls",
     "model_module_version": "1.5.0",
     "model_name": "HTMLModel",
     "state": {
      "_dom_classes": [],
      "_model_module": "@jupyter-widgets/controls",
      "_model_module_version": "1.5.0",
      "_model_name": "HTMLModel",
      "_view_count": null,
      "_view_module": "@jupyter-widgets/controls",
      "_view_module_version": "1.5.0",
      "_view_name": "HTMLView",
      "description": "",
      "description_tooltip": null,
      "layout": "IPY_MODEL_d1d54ccd56494c4d831f71b416a1f880",
      "placeholder": "​",
      "style": "IPY_MODEL_530f696feefe499da08c6312047379b2",
      "value": " 20/? [01:43&lt;00:00,  5.25s/it]"
     }
    },
    "23863bc37a8645029934b8c106622c51": {
     "model_module": "@jupyter-widgets/base",
     "model_module_version": "1.2.0",
     "model_name": "LayoutModel",
     "state": {
      "_model_module": "@jupyter-widgets/base",
      "_model_module_version": "1.2.0",
      "_model_name": "LayoutModel",
      "_view_count": null,
      "_view_module": "@jupyter-widgets/base",
      "_view_module_version": "1.2.0",
      "_view_name": "LayoutView",
      "align_content": null,
      "align_items": null,
      "align_self": null,
      "border": null,
      "bottom": null,
      "display": null,
      "flex": null,
      "flex_flow": null,
      "grid_area": null,
      "grid_auto_columns": null,
      "grid_auto_flow": null,
      "grid_auto_rows": null,
      "grid_column": null,
      "grid_gap": null,
      "grid_row": null,
      "grid_template_areas": null,
      "grid_template_columns": null,
      "grid_template_rows": null,
      "height": null,
      "justify_content": null,
      "justify_items": null,
      "left": null,
      "margin": null,
      "max_height": null,
      "max_width": null,
      "min_height": null,
      "min_width": null,
      "object_fit": null,
      "object_position": null,
      "order": null,
      "overflow": null,
      "overflow_x": null,
      "overflow_y": null,
      "padding": null,
      "right": null,
      "top": null,
      "visibility": null,
      "width": null
     }
    },
    "2508d229935744cbb5fc340222e2d660": {
     "model_module": "@jupyter-widgets/controls",
     "model_module_version": "1.5.0",
     "model_name": "DescriptionStyleModel",
     "state": {
      "_model_module": "@jupyter-widgets/controls",
      "_model_module_version": "1.5.0",
      "_model_name": "DescriptionStyleModel",
      "_view_count": null,
      "_view_module": "@jupyter-widgets/base",
      "_view_module_version": "1.2.0",
      "_view_name": "StyleView",
      "description_width": ""
     }
    },
    "2a0755d4476543feb4a64538e3e37213": {
     "model_module": "@jupyter-widgets/controls",
     "model_module_version": "1.5.0",
     "model_name": "FloatProgressModel",
     "state": {
      "_dom_classes": [],
      "_model_module": "@jupyter-widgets/controls",
      "_model_module_version": "1.5.0",
      "_model_name": "FloatProgressModel",
      "_view_count": null,
      "_view_module": "@jupyter-widgets/controls",
      "_view_module_version": "1.5.0",
      "_view_name": "ProgressView",
      "bar_style": "success",
      "description": "",
      "description_tooltip": null,
      "layout": "IPY_MODEL_c20b539cd70b4ba99601ad1d69fd9cec",
      "max": 1,
      "min": 0,
      "orientation": "horizontal",
      "style": "IPY_MODEL_a6d681eeafa44d18b933a4c5dec88382",
      "value": 1
     }
    },
    "33f063017b7c4c7fa8cbafc89674350b": {
     "model_module": "@jupyter-widgets/controls",
     "model_module_version": "1.5.0",
     "model_name": "HBoxModel",
     "state": {
      "_dom_classes": [],
      "_model_module": "@jupyter-widgets/controls",
      "_model_module_version": "1.5.0",
      "_model_name": "HBoxModel",
      "_view_count": null,
      "_view_module": "@jupyter-widgets/controls",
      "_view_module_version": "1.5.0",
      "_view_name": "HBoxView",
      "box_style": "",
      "children": [
       "IPY_MODEL_6864c81e2bcf459bbaf5acbb36bdfcbe",
       "IPY_MODEL_59d6e269eadf429a924f6f79bc8ba4ba",
       "IPY_MODEL_ca791fc471e34b9da2f9070fc1053c0f"
      ],
      "layout": "IPY_MODEL_8baf0ed3d0f743f294e07f2b5407e820"
     }
    },
    "3a8537e37fc14fd9b16ca0ceee4fede6": {
     "model_module": "@jupyter-widgets/base",
     "model_module_version": "1.2.0",
     "model_name": "LayoutModel",
     "state": {
      "_model_module": "@jupyter-widgets/base",
      "_model_module_version": "1.2.0",
      "_model_name": "LayoutModel",
      "_view_count": null,
      "_view_module": "@jupyter-widgets/base",
      "_view_module_version": "1.2.0",
      "_view_name": "LayoutView",
      "align_content": null,
      "align_items": null,
      "align_self": null,
      "border": null,
      "bottom": null,
      "display": null,
      "flex": null,
      "flex_flow": null,
      "grid_area": null,
      "grid_auto_columns": null,
      "grid_auto_flow": null,
      "grid_auto_rows": null,
      "grid_column": null,
      "grid_gap": null,
      "grid_row": null,
      "grid_template_areas": null,
      "grid_template_columns": null,
      "grid_template_rows": null,
      "height": null,
      "justify_content": null,
      "justify_items": null,
      "left": null,
      "margin": null,
      "max_height": null,
      "max_width": null,
      "min_height": null,
      "min_width": null,
      "object_fit": null,
      "object_position": null,
      "order": null,
      "overflow": null,
      "overflow_x": null,
      "overflow_y": null,
      "padding": null,
      "right": null,
      "top": null,
      "visibility": null,
      "width": null
     }
    },
    "41bdd49fab5f4826959d0d50663ff539": {
     "model_module": "@jupyter-widgets/controls",
     "model_module_version": "1.5.0",
     "model_name": "FloatProgressModel",
     "state": {
      "_dom_classes": [],
      "_model_module": "@jupyter-widgets/controls",
      "_model_module_version": "1.5.0",
      "_model_name": "FloatProgressModel",
      "_view_count": null,
      "_view_module": "@jupyter-widgets/controls",
      "_view_module_version": "1.5.0",
      "_view_name": "ProgressView",
      "bar_style": "",
      "description": "",
      "description_tooltip": null,
      "layout": "IPY_MODEL_6eb8b2e3262c45248708a2082c366f0a",
      "max": 64,
      "min": 0,
      "orientation": "horizontal",
      "style": "IPY_MODEL_095f680d37a3430fb82d223615662db5",
      "value": 64
     }
    },
    "530f696feefe499da08c6312047379b2": {
     "model_module": "@jupyter-widgets/controls",
     "model_module_version": "1.5.0",
     "model_name": "DescriptionStyleModel",
     "state": {
      "_model_module": "@jupyter-widgets/controls",
      "_model_module_version": "1.5.0",
      "_model_name": "DescriptionStyleModel",
      "_view_count": null,
      "_view_module": "@jupyter-widgets/base",
      "_view_module_version": "1.2.0",
      "_view_name": "StyleView",
      "description_width": ""
     }
    },
    "59d6e269eadf429a924f6f79bc8ba4ba": {
     "model_module": "@jupyter-widgets/controls",
     "model_module_version": "1.5.0",
     "model_name": "FloatProgressModel",
     "state": {
      "_dom_classes": [],
      "_model_module": "@jupyter-widgets/controls",
      "_model_module_version": "1.5.0",
      "_model_name": "FloatProgressModel",
      "_view_count": null,
      "_view_module": "@jupyter-widgets/controls",
      "_view_module_version": "1.5.0",
      "_view_name": "ProgressView",
      "bar_style": "success",
      "description": "",
      "description_tooltip": null,
      "layout": "IPY_MODEL_890e0dd7fa524ceca1e805cb6253ee71",
      "max": 20,
      "min": 0,
      "orientation": "horizontal",
      "style": "IPY_MODEL_61b52ff459214129b8f7e6d67b192b78",
      "value": 20
     }
    },
    "5ab5f08afa5841709aedb2f78a52a11c": {
     "model_module": "@jupyter-widgets/controls",
     "model_module_version": "1.5.0",
     "model_name": "DescriptionStyleModel",
     "state": {
      "_model_module": "@jupyter-widgets/controls",
      "_model_module_version": "1.5.0",
      "_model_name": "DescriptionStyleModel",
      "_view_count": null,
      "_view_module": "@jupyter-widgets/base",
      "_view_module_version": "1.2.0",
      "_view_name": "StyleView",
      "description_width": ""
     }
    },
    "5c2fda99d4204d85b1bf7ad354fd58d4": {
     "model_module": "@jupyter-widgets/base",
     "model_module_version": "1.2.0",
     "model_name": "LayoutModel",
     "state": {
      "_model_module": "@jupyter-widgets/base",
      "_model_module_version": "1.2.0",
      "_model_name": "LayoutModel",
      "_view_count": null,
      "_view_module": "@jupyter-widgets/base",
      "_view_module_version": "1.2.0",
      "_view_name": "LayoutView",
      "align_content": null,
      "align_items": null,
      "align_self": null,
      "border": null,
      "bottom": null,
      "display": null,
      "flex": null,
      "flex_flow": null,
      "grid_area": null,
      "grid_auto_columns": null,
      "grid_auto_flow": null,
      "grid_auto_rows": null,
      "grid_column": null,
      "grid_gap": null,
      "grid_row": null,
      "grid_template_areas": null,
      "grid_template_columns": null,
      "grid_template_rows": null,
      "height": null,
      "justify_content": null,
      "justify_items": null,
      "left": null,
      "margin": null,
      "max_height": null,
      "max_width": null,
      "min_height": null,
      "min_width": null,
      "object_fit": null,
      "object_position": null,
      "order": null,
      "overflow": null,
      "overflow_x": null,
      "overflow_y": null,
      "padding": null,
      "right": null,
      "top": null,
      "visibility": null,
      "width": null
     }
    },
    "5faba4ad609448b2b49024add4ad3b8e": {
     "model_module": "@jupyter-widgets/controls",
     "model_module_version": "1.5.0",
     "model_name": "HTMLModel",
     "state": {
      "_dom_classes": [],
      "_model_module": "@jupyter-widgets/controls",
      "_model_module_version": "1.5.0",
      "_model_name": "HTMLModel",
      "_view_count": null,
      "_view_module": "@jupyter-widgets/controls",
      "_view_module_version": "1.5.0",
      "_view_name": "HTMLView",
      "description": "",
      "description_tooltip": null,
      "layout": "IPY_MODEL_849b5c95008541d49f1ceedf0a59ac60",
      "placeholder": "​",
      "style": "IPY_MODEL_f3665a86662746c4ac7cb0796604781d",
      "value": " 20/? [01:27&lt;00:00,  6.45s/it]"
     }
    },
    "60168d85131d4afc99d55d61ab954ee6": {
     "model_module": "@jupyter-widgets/controls",
     "model_module_version": "1.5.0",
     "model_name": "HTMLModel",
     "state": {
      "_dom_classes": [],
      "_model_module": "@jupyter-widgets/controls",
      "_model_module_version": "1.5.0",
      "_model_name": "HTMLModel",
      "_view_count": null,
      "_view_module": "@jupyter-widgets/controls",
      "_view_module_version": "1.5.0",
      "_view_name": "HTMLView",
      "description": "",
      "description_tooltip": null,
      "layout": "IPY_MODEL_3a8537e37fc14fd9b16ca0ceee4fede6",
      "placeholder": "​",
      "style": "IPY_MODEL_1160a44dc18e47b0890f70c40eaa7eb0",
      "value": " 61/64 [00:02&lt;00:00, 23.36it/s]"
     }
    },
    "61b52ff459214129b8f7e6d67b192b78": {
     "model_module": "@jupyter-widgets/controls",
     "model_module_version": "1.5.0",
     "model_name": "ProgressStyleModel",
     "state": {
      "_model_module": "@jupyter-widgets/controls",
      "_model_module_version": "1.5.0",
      "_model_name": "ProgressStyleModel",
      "_view_count": null,
      "_view_module": "@jupyter-widgets/base",
      "_view_module_version": "1.2.0",
      "_view_name": "StyleView",
      "bar_color": null,
      "description_width": ""
     }
    },
    "6864c81e2bcf459bbaf5acbb36bdfcbe": {
     "model_module": "@jupyter-widgets/controls",
     "model_module_version": "1.5.0",
     "model_name": "HTMLModel",
     "state": {
      "_dom_classes": [],
      "_model_module": "@jupyter-widgets/controls",
      "_model_module_version": "1.5.0",
      "_model_name": "HTMLModel",
      "_view_count": null,
      "_view_module": "@jupyter-widgets/controls",
      "_view_module_version": "1.5.0",
      "_view_name": "HTMLView",
      "description": "",
      "description_tooltip": null,
      "layout": "IPY_MODEL_10df31709059484c99f102453d780473",
      "placeholder": "​",
      "style": "IPY_MODEL_2508d229935744cbb5fc340222e2d660",
      "value": "Generating: 100%"
     }
    },
    "6eb8b2e3262c45248708a2082c366f0a": {
     "model_module": "@jupyter-widgets/base",
     "model_module_version": "1.2.0",
     "model_name": "LayoutModel",
     "state": {
      "_model_module": "@jupyter-widgets/base",
      "_model_module_version": "1.2.0",
      "_model_name": "LayoutModel",
      "_view_count": null,
      "_view_module": "@jupyter-widgets/base",
      "_view_module_version": "1.2.0",
      "_view_name": "LayoutView",
      "align_content": null,
      "align_items": null,
      "align_self": null,
      "border": null,
      "bottom": null,
      "display": null,
      "flex": null,
      "flex_flow": null,
      "grid_area": null,
      "grid_auto_columns": null,
      "grid_auto_flow": null,
      "grid_auto_rows": null,
      "grid_column": null,
      "grid_gap": null,
      "grid_row": null,
      "grid_template_areas": null,
      "grid_template_columns": null,
      "grid_template_rows": null,
      "height": null,
      "justify_content": null,
      "justify_items": null,
      "left": null,
      "margin": null,
      "max_height": null,
      "max_width": null,
      "min_height": null,
      "min_width": null,
      "object_fit": null,
      "object_position": null,
      "order": null,
      "overflow": null,
      "overflow_x": null,
      "overflow_y": null,
      "padding": null,
      "right": null,
      "top": null,
      "visibility": null,
      "width": null
     }
    },
    "7710c7377cbc4c30b55b28b4bc99e88f": {
     "model_module": "@jupyter-widgets/controls",
     "model_module_version": "1.5.0",
     "model_name": "HTMLModel",
     "state": {
      "_dom_classes": [],
      "_model_module": "@jupyter-widgets/controls",
      "_model_module_version": "1.5.0",
      "_model_name": "HTMLModel",
      "_view_count": null,
      "_view_module": "@jupyter-widgets/controls",
      "_view_module_version": "1.5.0",
      "_view_name": "HTMLView",
      "description": "",
      "description_tooltip": null,
      "layout": "IPY_MODEL_5c2fda99d4204d85b1bf7ad354fd58d4",
      "placeholder": "​",
      "style": "IPY_MODEL_93cd4d35c5fd41f5904ca1d52d1f52a8",
      "value": "embedding nodes:  95%"
     }
    },
    "7cb241365f604419af454c1c28de197a": {
     "model_module": "@jupyter-widgets/base",
     "model_module_version": "1.2.0",
     "model_name": "LayoutModel",
     "state": {
      "_model_module": "@jupyter-widgets/base",
      "_model_module_version": "1.2.0",
      "_model_name": "LayoutModel",
      "_view_count": null,
      "_view_module": "@jupyter-widgets/base",
      "_view_module_version": "1.2.0",
      "_view_name": "LayoutView",
      "align_content": null,
      "align_items": null,
      "align_self": null,
      "border": null,
      "bottom": null,
      "display": null,
      "flex": null,
      "flex_flow": null,
      "grid_area": null,
      "grid_auto_columns": null,
      "grid_auto_flow": null,
      "grid_auto_rows": null,
      "grid_column": null,
      "grid_gap": null,
      "grid_row": null,
      "grid_template_areas": null,
      "grid_template_columns": null,
      "grid_template_rows": null,
      "height": null,
      "justify_content": null,
      "justify_items": null,
      "left": null,
      "margin": null,
      "max_height": null,
      "max_width": null,
      "min_height": null,
      "min_width": null,
      "object_fit": null,
      "object_position": null,
      "order": null,
      "overflow": null,
      "overflow_x": null,
      "overflow_y": null,
      "padding": null,
      "right": null,
      "top": null,
      "visibility": null,
      "width": "20px"
     }
    },
    "7dce19ac55264f2b88a0e4730e55867b": {
     "model_module": "@jupyter-widgets/controls",
     "model_module_version": "1.5.0",
     "model_name": "HTMLModel",
     "state": {
      "_dom_classes": [],
      "_model_module": "@jupyter-widgets/controls",
      "_model_module_version": "1.5.0",
      "_model_name": "HTMLModel",
      "_view_count": null,
      "_view_module": "@jupyter-widgets/controls",
      "_view_module_version": "1.5.0",
      "_view_name": "HTMLView",
      "description": "",
      "description_tooltip": null,
      "layout": "IPY_MODEL_ddffd834e09940a4bd3874c3f39b4e21",
      "placeholder": "​",
      "style": "IPY_MODEL_ef63c3b2d51e452da03cdae5d9b034be",
      "value": ""
     }
    },
    "849b5c95008541d49f1ceedf0a59ac60": {
     "model_module": "@jupyter-widgets/base",
     "model_module_version": "1.2.0",
     "model_name": "LayoutModel",
     "state": {
      "_model_module": "@jupyter-widgets/base",
      "_model_module_version": "1.2.0",
      "_model_name": "LayoutModel",
      "_view_count": null,
      "_view_module": "@jupyter-widgets/base",
      "_view_module_version": "1.2.0",
      "_view_name": "LayoutView",
      "align_content": null,
      "align_items": null,
      "align_self": null,
      "border": null,
      "bottom": null,
      "display": null,
      "flex": null,
      "flex_flow": null,
      "grid_area": null,
      "grid_auto_columns": null,
      "grid_auto_flow": null,
      "grid_auto_rows": null,
      "grid_column": null,
      "grid_gap": null,
      "grid_row": null,
      "grid_template_areas": null,
      "grid_template_columns": null,
      "grid_template_rows": null,
      "height": null,
      "justify_content": null,
      "justify_items": null,
      "left": null,
      "margin": null,
      "max_height": null,
      "max_width": null,
      "min_height": null,
      "min_width": null,
      "object_fit": null,
      "object_position": null,
      "order": null,
      "overflow": null,
      "overflow_x": null,
      "overflow_y": null,
      "padding": null,
      "right": null,
      "top": null,
      "visibility": null,
      "width": null
     }
    },
    "890e0dd7fa524ceca1e805cb6253ee71": {
     "model_module": "@jupyter-widgets/base",
     "model_module_version": "1.2.0",
     "model_name": "LayoutModel",
     "state": {
      "_model_module": "@jupyter-widgets/base",
      "_model_module_version": "1.2.0",
      "_model_name": "LayoutModel",
      "_view_count": null,
      "_view_module": "@jupyter-widgets/base",
      "_view_module_version": "1.2.0",
      "_view_name": "LayoutView",
      "align_content": null,
      "align_items": null,
      "align_self": null,
      "border": null,
      "bottom": null,
      "display": null,
      "flex": null,
      "flex_flow": null,
      "grid_area": null,
      "grid_auto_columns": null,
      "grid_auto_flow": null,
      "grid_auto_rows": null,
      "grid_column": null,
      "grid_gap": null,
      "grid_row": null,
      "grid_template_areas": null,
      "grid_template_columns": null,
      "grid_template_rows": null,
      "height": null,
      "justify_content": null,
      "justify_items": null,
      "left": null,
      "margin": null,
      "max_height": null,
      "max_width": null,
      "min_height": null,
      "min_width": null,
      "object_fit": null,
      "object_position": null,
      "order": null,
      "overflow": null,
      "overflow_x": null,
      "overflow_y": null,
      "padding": null,
      "right": null,
      "top": null,
      "visibility": null,
      "width": null
     }
    },
    "8baf0ed3d0f743f294e07f2b5407e820": {
     "model_module": "@jupyter-widgets/base",
     "model_module_version": "1.2.0",
     "model_name": "LayoutModel",
     "state": {
      "_model_module": "@jupyter-widgets/base",
      "_model_module_version": "1.2.0",
      "_model_name": "LayoutModel",
      "_view_count": null,
      "_view_module": "@jupyter-widgets/base",
      "_view_module_version": "1.2.0",
      "_view_name": "LayoutView",
      "align_content": null,
      "align_items": null,
      "align_self": null,
      "border": null,
      "bottom": null,
      "display": null,
      "flex": null,
      "flex_flow": null,
      "grid_area": null,
      "grid_auto_columns": null,
      "grid_auto_flow": null,
      "grid_auto_rows": null,
      "grid_column": null,
      "grid_gap": null,
      "grid_row": null,
      "grid_template_areas": null,
      "grid_template_columns": null,
      "grid_template_rows": null,
      "height": null,
      "justify_content": null,
      "justify_items": null,
      "left": null,
      "margin": null,
      "max_height": null,
      "max_width": null,
      "min_height": null,
      "min_width": null,
      "object_fit": null,
      "object_position": null,
      "order": null,
      "overflow": null,
      "overflow_x": null,
      "overflow_y": null,
      "padding": null,
      "right": null,
      "top": null,
      "visibility": null,
      "width": null
     }
    },
    "93cd4d35c5fd41f5904ca1d52d1f52a8": {
     "model_module": "@jupyter-widgets/controls",
     "model_module_version": "1.5.0",
     "model_name": "DescriptionStyleModel",
     "state": {
      "_model_module": "@jupyter-widgets/controls",
      "_model_module_version": "1.5.0",
      "_model_name": "DescriptionStyleModel",
      "_view_count": null,
      "_view_module": "@jupyter-widgets/base",
      "_view_module_version": "1.2.0",
      "_view_name": "StyleView",
      "description_width": ""
     }
    },
    "9cf586576ff44dba86ba2eb389593c61": {
     "model_module": "@jupyter-widgets/controls",
     "model_module_version": "1.5.0",
     "model_name": "ProgressStyleModel",
     "state": {
      "_model_module": "@jupyter-widgets/controls",
      "_model_module_version": "1.5.0",
      "_model_name": "ProgressStyleModel",
      "_view_count": null,
      "_view_module": "@jupyter-widgets/base",
      "_view_module_version": "1.2.0",
      "_view_name": "StyleView",
      "bar_color": null,
      "description_width": ""
     }
    },
    "9edf898aeeab40dda9b9475395776521": {
     "model_module": "@jupyter-widgets/base",
     "model_module_version": "1.2.0",
     "model_name": "LayoutModel",
     "state": {
      "_model_module": "@jupyter-widgets/base",
      "_model_module_version": "1.2.0",
      "_model_name": "LayoutModel",
      "_view_count": null,
      "_view_module": "@jupyter-widgets/base",
      "_view_module_version": "1.2.0",
      "_view_name": "LayoutView",
      "align_content": null,
      "align_items": null,
      "align_self": null,
      "border": null,
      "bottom": null,
      "display": null,
      "flex": null,
      "flex_flow": null,
      "grid_area": null,
      "grid_auto_columns": null,
      "grid_auto_flow": null,
      "grid_auto_rows": null,
      "grid_column": null,
      "grid_gap": null,
      "grid_row": null,
      "grid_template_areas": null,
      "grid_template_columns": null,
      "grid_template_rows": null,
      "height": null,
      "justify_content": null,
      "justify_items": null,
      "left": null,
      "margin": null,
      "max_height": null,
      "max_width": null,
      "min_height": null,
      "min_width": null,
      "object_fit": null,
      "object_position": null,
      "order": null,
      "overflow": null,
      "overflow_x": null,
      "overflow_y": null,
      "padding": null,
      "right": null,
      "top": null,
      "visibility": "hidden",
      "width": null
     }
    },
    "a6d681eeafa44d18b933a4c5dec88382": {
     "model_module": "@jupyter-widgets/controls",
     "model_module_version": "1.5.0",
     "model_name": "ProgressStyleModel",
     "state": {
      "_model_module": "@jupyter-widgets/controls",
      "_model_module_version": "1.5.0",
      "_model_name": "ProgressStyleModel",
      "_view_count": null,
      "_view_module": "@jupyter-widgets/base",
      "_view_module_version": "1.2.0",
      "_view_name": "StyleView",
      "bar_color": null,
      "description_width": ""
     }
    },
    "bf8dcc0895054529af356da401c513f6": {
     "model_module": "@jupyter-widgets/controls",
     "model_module_version": "1.5.0",
     "model_name": "HBoxModel",
     "state": {
      "_dom_classes": [],
      "_model_module": "@jupyter-widgets/controls",
      "_model_module_version": "1.5.0",
      "_model_name": "HBoxModel",
      "_view_count": null,
      "_view_module": "@jupyter-widgets/controls",
      "_view_module_version": "1.5.0",
      "_view_name": "HBoxView",
      "box_style": "",
      "children": [
       "IPY_MODEL_7dce19ac55264f2b88a0e4730e55867b",
       "IPY_MODEL_2a0755d4476543feb4a64538e3e37213",
       "IPY_MODEL_158212a630f04cbd884c937f2f60f5c8"
      ],
      "layout": "IPY_MODEL_11c7f66acc1d45be9517d0addf49331e"
     }
    },
    "c20b539cd70b4ba99601ad1d69fd9cec": {
     "model_module": "@jupyter-widgets/base",
     "model_module_version": "1.2.0",
     "model_name": "LayoutModel",
     "state": {
      "_model_module": "@jupyter-widgets/base",
      "_model_module_version": "1.2.0",
      "_model_name": "LayoutModel",
      "_view_count": null,
      "_view_module": "@jupyter-widgets/base",
      "_view_module_version": "1.2.0",
      "_view_name": "LayoutView",
      "align_content": null,
      "align_items": null,
      "align_self": null,
      "border": null,
      "bottom": null,
      "display": null,
      "flex": null,
      "flex_flow": null,
      "grid_area": null,
      "grid_auto_columns": null,
      "grid_auto_flow": null,
      "grid_auto_rows": null,
      "grid_column": null,
      "grid_gap": null,
      "grid_row": null,
      "grid_template_areas": null,
      "grid_template_columns": null,
      "grid_template_rows": null,
      "height": null,
      "justify_content": null,
      "justify_items": null,
      "left": null,
      "margin": null,
      "max_height": null,
      "max_width": null,
      "min_height": null,
      "min_width": null,
      "object_fit": null,
      "object_position": null,
      "order": null,
      "overflow": null,
      "overflow_x": null,
      "overflow_y": null,
      "padding": null,
      "right": null,
      "top": null,
      "visibility": null,
      "width": "20px"
     }
    },
    "ca791fc471e34b9da2f9070fc1053c0f": {
     "model_module": "@jupyter-widgets/controls",
     "model_module_version": "1.5.0",
     "model_name": "HTMLModel",
     "state": {
      "_dom_classes": [],
      "_model_module": "@jupyter-widgets/controls",
      "_model_module_version": "1.5.0",
      "_model_name": "HTMLModel",
      "_view_count": null,
      "_view_module": "@jupyter-widgets/controls",
      "_view_module_version": "1.5.0",
      "_view_name": "HTMLView",
      "description": "",
      "description_tooltip": null,
      "layout": "IPY_MODEL_23863bc37a8645029934b8c106622c51",
      "placeholder": "​",
      "style": "IPY_MODEL_5ab5f08afa5841709aedb2f78a52a11c",
      "value": " 20/20 [00:52&lt;00:00,  4.50s/it]"
     }
    },
    "d1d54ccd56494c4d831f71b416a1f880": {
     "model_module": "@jupyter-widgets/base",
     "model_module_version": "1.2.0",
     "model_name": "LayoutModel",
     "state": {
      "_model_module": "@jupyter-widgets/base",
      "_model_module_version": "1.2.0",
      "_model_name": "LayoutModel",
      "_view_count": null,
      "_view_module": "@jupyter-widgets/base",
      "_view_module_version": "1.2.0",
      "_view_name": "LayoutView",
      "align_content": null,
      "align_items": null,
      "align_self": null,
      "border": null,
      "bottom": null,
      "display": null,
      "flex": null,
      "flex_flow": null,
      "grid_area": null,
      "grid_auto_columns": null,
      "grid_auto_flow": null,
      "grid_auto_rows": null,
      "grid_column": null,
      "grid_gap": null,
      "grid_row": null,
      "grid_template_areas": null,
      "grid_template_columns": null,
      "grid_template_rows": null,
      "height": null,
      "justify_content": null,
      "justify_items": null,
      "left": null,
      "margin": null,
      "max_height": null,
      "max_width": null,
      "min_height": null,
      "min_width": null,
      "object_fit": null,
      "object_position": null,
      "order": null,
      "overflow": null,
      "overflow_x": null,
      "overflow_y": null,
      "padding": null,
      "right": null,
      "top": null,
      "visibility": null,
      "width": null
     }
    },
    "ddffd834e09940a4bd3874c3f39b4e21": {
     "model_module": "@jupyter-widgets/base",
     "model_module_version": "1.2.0",
     "model_name": "LayoutModel",
     "state": {
      "_model_module": "@jupyter-widgets/base",
      "_model_module_version": "1.2.0",
      "_model_name": "LayoutModel",
      "_view_count": null,
      "_view_module": "@jupyter-widgets/base",
      "_view_module_version": "1.2.0",
      "_view_name": "LayoutView",
      "align_content": null,
      "align_items": null,
      "align_self": null,
      "border": null,
      "bottom": null,
      "display": null,
      "flex": null,
      "flex_flow": null,
      "grid_area": null,
      "grid_auto_columns": null,
      "grid_auto_flow": null,
      "grid_auto_rows": null,
      "grid_column": null,
      "grid_gap": null,
      "grid_row": null,
      "grid_template_areas": null,
      "grid_template_columns": null,
      "grid_template_rows": null,
      "height": null,
      "justify_content": null,
      "justify_items": null,
      "left": null,
      "margin": null,
      "max_height": null,
      "max_width": null,
      "min_height": null,
      "min_width": null,
      "object_fit": null,
      "object_position": null,
      "order": null,
      "overflow": null,
      "overflow_x": null,
      "overflow_y": null,
      "padding": null,
      "right": null,
      "top": null,
      "visibility": null,
      "width": null
     }
    },
    "e0c233ad01604540a6c873f4a731982d": {
     "model_module": "@jupyter-widgets/controls",
     "model_module_version": "1.5.0",
     "model_name": "HTMLModel",
     "state": {
      "_dom_classes": [],
      "_model_module": "@jupyter-widgets/controls",
      "_model_module_version": "1.5.0",
      "_model_name": "HTMLModel",
      "_view_count": null,
      "_view_module": "@jupyter-widgets/controls",
      "_view_module_version": "1.5.0",
      "_view_name": "HTMLView",
      "description": "",
      "description_tooltip": null,
      "layout": "IPY_MODEL_0b44cb0f8e34446c8dde668a75d3d8ad",
      "placeholder": "​",
      "style": "IPY_MODEL_edaac6587b2d4bd5be52b89bb097f99f",
      "value": ""
     }
    },
    "e9a01115c75b499884f7e0ef32e9e599": {
     "model_module": "@jupyter-widgets/controls",
     "model_module_version": "1.5.0",
     "model_name": "FloatProgressModel",
     "state": {
      "_dom_classes": [],
      "_model_module": "@jupyter-widgets/controls",
      "_model_module_version": "1.5.0",
      "_model_name": "FloatProgressModel",
      "_view_count": null,
      "_view_module": "@jupyter-widgets/controls",
      "_view_module_version": "1.5.0",
      "_view_name": "ProgressView",
      "bar_style": "success",
      "description": "",
      "description_tooltip": null,
      "layout": "IPY_MODEL_7cb241365f604419af454c1c28de197a",
      "max": 1,
      "min": 0,
      "orientation": "horizontal",
      "style": "IPY_MODEL_9cf586576ff44dba86ba2eb389593c61",
      "value": 1
     }
    },
    "edaac6587b2d4bd5be52b89bb097f99f": {
     "model_module": "@jupyter-widgets/controls",
     "model_module_version": "1.5.0",
     "model_name": "DescriptionStyleModel",
     "state": {
      "_model_module": "@jupyter-widgets/controls",
      "_model_module_version": "1.5.0",
      "_model_name": "DescriptionStyleModel",
      "_view_count": null,
      "_view_module": "@jupyter-widgets/base",
      "_view_module_version": "1.2.0",
      "_view_name": "StyleView",
      "description_width": ""
     }
    },
    "ef25efa751304e4699910f1fbc14345f": {
     "model_module": "@jupyter-widgets/base",
     "model_module_version": "1.2.0",
     "model_name": "LayoutModel",
     "state": {
      "_model_module": "@jupyter-widgets/base",
      "_model_module_version": "1.2.0",
      "_model_name": "LayoutModel",
      "_view_count": null,
      "_view_module": "@jupyter-widgets/base",
      "_view_module_version": "1.2.0",
      "_view_name": "LayoutView",
      "align_content": null,
      "align_items": null,
      "align_self": null,
      "border": null,
      "bottom": null,
      "display": null,
      "flex": null,
      "flex_flow": null,
      "grid_area": null,
      "grid_auto_columns": null,
      "grid_auto_flow": null,
      "grid_auto_rows": null,
      "grid_column": null,
      "grid_gap": null,
      "grid_row": null,
      "grid_template_areas": null,
      "grid_template_columns": null,
      "grid_template_rows": null,
      "height": null,
      "justify_content": null,
      "justify_items": null,
      "left": null,
      "margin": null,
      "max_height": null,
      "max_width": null,
      "min_height": null,
      "min_width": null,
      "object_fit": null,
      "object_position": null,
      "order": null,
      "overflow": null,
      "overflow_x": null,
      "overflow_y": null,
      "padding": null,
      "right": null,
      "top": null,
      "visibility": null,
      "width": null
     }
    },
    "ef63c3b2d51e452da03cdae5d9b034be": {
     "model_module": "@jupyter-widgets/controls",
     "model_module_version": "1.5.0",
     "model_name": "DescriptionStyleModel",
     "state": {
      "_model_module": "@jupyter-widgets/controls",
      "_model_module_version": "1.5.0",
      "_model_name": "DescriptionStyleModel",
      "_view_count": null,
      "_view_module": "@jupyter-widgets/base",
      "_view_module_version": "1.2.0",
      "_view_name": "StyleView",
      "description_width": ""
     }
    },
    "f3665a86662746c4ac7cb0796604781d": {
     "model_module": "@jupyter-widgets/controls",
     "model_module_version": "1.5.0",
     "model_name": "DescriptionStyleModel",
     "state": {
      "_model_module": "@jupyter-widgets/controls",
      "_model_module_version": "1.5.0",
      "_model_name": "DescriptionStyleModel",
      "_view_count": null,
      "_view_module": "@jupyter-widgets/base",
      "_view_module_version": "1.2.0",
      "_view_name": "StyleView",
      "description_width": ""
     }
    }
   }
  }
 },
 "nbformat": 4,
 "nbformat_minor": 4
}
