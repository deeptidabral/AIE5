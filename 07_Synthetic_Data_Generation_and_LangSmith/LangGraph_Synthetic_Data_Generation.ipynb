{
 "cells": [
  {
   "cell_type": "markdown",
   "id": "e58ce5f9",
   "metadata": {},
   "source": [
    "\n",
    "## LangGraph Synthetic Data Generation\n",
    "\n",
    "This notebook demonstrates the use of a LangGraph structure to generate and manage synthetic data involving question evolution. \n",
    "The LangGraph is used to model simple, multi-context, and reasoning evolutions of questions with corresponding answers and contexts.\n"
   ]
  },
  {
   "cell_type": "code",
   "execution_count": 1,
   "id": "86d17a70",
   "metadata": {},
   "outputs": [],
   "source": [
    "\n",
    "class LangGraph:\n",
    "    def __init__(self):\n",
    "        self.questions = []\n",
    "        self.answers = []\n",
    "        self.contexts = []\n",
    "    \n",
    "    def add_question(self, question_text, evolution_type):\n",
    "        question_id = 'Q' + str(len(self.questions) + 1)\n",
    "        self.questions.append({\n",
    "            'id': question_id,\n",
    "            'text': question_text,\n",
    "            'evolution_type': evolution_type\n",
    "        })\n",
    "        return question_id\n",
    "\n",
    "    def add_answer(self, question_id, answer_text):\n",
    "        self.answers.append({\n",
    "            'question_id': question_id,\n",
    "            'answer': answer_text\n",
    "        })\n",
    "\n",
    "    def add_context(self, question_id, context_text):\n",
    "        self.contexts.append({\n",
    "            'question_id': question_id,\n",
    "            'context': context_text\n",
    "        })\n",
    "\n",
    "    def evolve_question(self, original_question_id, new_question_text, evolution_type):\n",
    "        original_question = next((q for q in self.questions if q['id'] == original_question_id), None)\n",
    "        if original_question:\n",
    "            new_question_id = self.add_question(new_question_text, evolution_type)\n",
    "            return new_question_id\n",
    "        return None\n"
   ]
  },
  {
   "cell_type": "code",
   "execution_count": 2,
   "id": "17a13b0e",
   "metadata": {},
   "outputs": [],
   "source": [
    "\n",
    "# Instantiate the LangGraph\n",
    "lang_graph = LangGraph()\n",
    "\n",
    "# Add initial question and evolve it through various types\n",
    "q1_id = lang_graph.add_question('What is synthetic data?', 'Simple Evolution')\n",
    "lang_graph.add_answer(q1_id, 'Synthetic data is artificially generated data that mimics real-world data.')\n",
    "lang_graph.add_context(q1_id, 'Used in scenarios where real data is unavailable or inadequate for training models.')\n",
    "\n",
    "# Simple evolution example\n",
    "q1_evol_id = lang_graph.evolve_question(q1_id, 'Define synthetic data and its primary uses.', 'Simple Evolution')\n",
    "lang_graph.add_answer(q1_evol_id, 'Synthetic data refers to artificial data created by algorithms to simulate real-world data for training machine learning models and ensuring privacy in testing scenarios.')\n",
    "lang_graph.add_context(q1_evol_id, 'Commonly used to avoid the complications of using real data such as privacy breaches or data scarcity.')\n",
    "\n",
    "# Multi-context evolution example\n",
    "q2_id = lang_graph.evolve_question(q1_id, 'How is synthetic data generated and what are its applications?', 'Multi-Context Evolution')\n",
    "lang_graph.add_answer(q2_id, 'Synthetic data is generated using algorithms that model real data distributions, and it is used in machine learning, testing, and privacy protection.')\n",
    "lang_graph.add_context(q2_id, 'Synthetic data generation involves statistical and machine learning techniques.')\n",
    "\n",
    "# Reasoning evolution example\n",
    "q3_id = lang_graph.evolve_question(q2_id, 'Why is synthetic data preferred over real data in sensitive applications?', 'Reasoning Evolution')\n",
    "lang_graph.add_answer(q3_id, 'Synthetic data is preferred in sensitive applications because it can be used without violating privacy laws, making it ideal for compliance-driven industries.')\n",
    "lang_graph.add_context(q3_id, 'Privacy concerns and regulatory compliance are pivotal in sectors like healthcare and finance.')\n"
   ]
  }
 ],
 "metadata": {
  "kernelspec": {
   "display_name": "Python 3",
   "language": "python",
   "name": "python3"
  },
  "language_info": {
   "codemirror_mode": {
    "name": "ipython",
    "version": 3
   },
   "file_extension": ".py",
   "mimetype": "text/x-python",
   "name": "python",
   "nbconvert_exporter": "python",
   "pygments_lexer": "ipython3",
   "version": "3.9.0"
  }
 },
 "nbformat": 4,
 "nbformat_minor": 5
}
