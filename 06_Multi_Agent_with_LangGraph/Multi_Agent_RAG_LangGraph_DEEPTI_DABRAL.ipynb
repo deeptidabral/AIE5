{
  "cells": [
    {
      "cell_type": "markdown",
      "metadata": {
        "id": "KxpWDFG11o3G"
      },
      "source": [
        "# Multi-Agent Workflows + RAG - LangGraph\n",
        "\n",
        "Today we'll be looking at an example of a Multi-Agent workflow that's powered by LangGraph, LCEL, and more!\n",
        "\n",
        "We're going to be, more specifically, looking at a \"heirarchical agent teams\" from the [AutoGen: Enabling Next-Gen LLM\n",
        "Applications via Multi-Agent Conversation](https://arxiv.org/pdf/2308.08155) paper.\n",
        "\n",
        "This will be the final \"graph\" of our system:\n",
        "\n",
        "![image](https://i.imgur.com/Bhc7RVE.png)\n",
        "\n",
        "It's important to keep in mind that the actual implementation will be constructed of 3 separate graphs, the final one having 2 graphs as nodes! LangGraph is a heckuva tool!\n",
        "\n"
      ]
    },
    {
      "cell_type": "markdown",
      "metadata": {
        "id": "TyzoBrWoYeOZ"
      },
      "source": [
        "# 🤝 BREAKOUT ROOM #1"
      ]
    },
    {
      "cell_type": "markdown",
      "metadata": {
        "id": "mx3oaVoX5cA2"
      },
      "source": [
        "## Dependencies\n",
        "\n",
        "We'll start, as we normally do, by grabbing our dependencies.\n",
        "\n",
        "We'll be using LangChain and LangGraph to power our application, so let's start by grabbing those!"
      ]
    },
    {
      "cell_type": "code",
      "execution_count": 1,
      "metadata": {
        "id": "cs6HUTgecbzW"
      },
      "outputs": [],
      "source": [
        "!pip install -qU langgraph==0.2.14 langchain==0.2.14 langchain_openai==0.1.23 langchain_core==0.2.35 langchain-community"
      ]
    },
    {
      "cell_type": "markdown",
      "metadata": {
        "id": "BMzWFUc25oqT"
      },
      "source": [
        "We're going to be showing a simple RAG chain as part of our LangGraph - and so we'll need specific dependencies for that as well!"
      ]
    },
    {
      "cell_type": "code",
      "execution_count": 2,
      "metadata": {
        "id": "qEUBCOdukjwc"
      },
      "outputs": [],
      "source": [
        "!pip install -qU --disable-pip-version-check qdrant-client pymupdf tiktoken"
      ]
    },
    {
      "cell_type": "markdown",
      "metadata": {
        "id": "Zpv2MWqu5vS9"
      },
      "source": [
        "Since we'll be relying on OpenAI's suite of models to power our agents today, we'll want to provide our OpenAI API Key.\n",
        "\n",
        "We're also going to be using the Tavily search tool - so we'll want to provide that API key as well!\n",
        "\n",
        "Instruction for how to obtain the Tavily API key can be found:\n",
        "\n",
        "1. [Tavily API Key](https://app.tavily.com/sign-in)\n",
        "\n"
      ]
    },
    {
      "cell_type": "code",
      "execution_count": 3,
      "metadata": {
        "colab": {
          "base_uri": "https://localhost:8080/"
        },
        "id": "h30OjkLfeR2Y",
        "outputId": "8e85104d-37a2-46c5-f9f9-f37988b094ab"
      },
      "outputs": [
        {
          "name": "stdout",
          "output_type": "stream",
          "text": [
            "OpenAI API Key:··········\n",
            "TAVILY_API_KEY··········\n"
          ]
        }
      ],
      "source": [
        "import os\n",
        "import getpass\n",
        "\n",
        "os.environ[\"OPENAI_API_KEY\"] = getpass.getpass(\"OpenAI API Key:\")\n",
        "os.environ[\"TAVILY_API_KEY\"] = getpass.getpass(\"TAVILY_API_KEY\")"
      ]
    },
    {
      "cell_type": "markdown",
      "metadata": {
        "id": "M_LD7rwT6PbO"
      },
      "source": [
        "## Task 1: Simple LCEL RAG\n",
        "\n",
        "Now that we have our dependencies set-up - let's create a simple RAG chain that works over a single PDF.\n",
        "\n",
        "> NOTE: While this particular example is very straight forward - you can \"plug in\" any complexity of chain you desire as a node in a LangGraph."
      ]
    },
    {
      "cell_type": "markdown",
      "metadata": {
        "id": "JY7T5kxJ6jGn"
      },
      "source": [
        "## Retrieval\n",
        "\n",
        "The 'R' in 'RAG' - this is, at this point, fairly straightforward!"
      ]
    },
    {
      "cell_type": "markdown",
      "metadata": {
        "id": "DGuPxSCk7Ztz"
      },
      "source": [
        "#### Data Collection and Processing\n",
        "\n",
        "A classic first step, at this point, let's grab our desired document!"
      ]
    },
    {
      "cell_type": "code",
      "execution_count": 4,
      "metadata": {
        "id": "LfuoEYRCln3H"
      },
      "outputs": [],
      "source": [
        "from langchain.document_loaders import PyMuPDFLoader\n",
        "\n",
        "docs = PyMuPDFLoader(\"https://arxiv.org/pdf/2404.19553\").load()"
      ]
    },
    {
      "cell_type": "markdown",
      "metadata": {
        "id": "r_t_F1zG6vXa"
      },
      "source": [
        "Now we can chunk it down to size!"
      ]
    },
    {
      "cell_type": "code",
      "execution_count": 5,
      "metadata": {
        "id": "5R7A_z8CgL79"
      },
      "outputs": [],
      "source": [
        "import tiktoken\n",
        "from langchain.text_splitter import RecursiveCharacterTextSplitter\n",
        "\n",
        "def tiktoken_len(text):\n",
        "    tokens = tiktoken.encoding_for_model(\"gpt-4o-mini\").encode(\n",
        "        text,\n",
        "    )\n",
        "    return len(tokens)\n",
        "\n",
        "text_splitter = RecursiveCharacterTextSplitter(\n",
        "    chunk_size = 300,\n",
        "    chunk_overlap = 0,\n",
        "    length_function = tiktoken_len,\n",
        ")\n",
        "\n",
        "split_chunks = text_splitter.split_documents(docs)"
      ]
    },
    {
      "cell_type": "markdown",
      "metadata": {
        "id": "lGE-VuMc7AKv"
      },
      "source": [
        "Now we've successfully split our single PDF into..."
      ]
    },
    {
      "cell_type": "code",
      "execution_count": 6,
      "metadata": {
        "colab": {
          "base_uri": "https://localhost:8080/"
        },
        "id": "pgYBHsdWmLvW",
        "outputId": "5d28d2fd-0818-40d8-bacd-12f10c07499c"
      },
      "outputs": [
        {
          "data": {
            "text/plain": [
              "15"
            ]
          },
          "execution_count": 6,
          "metadata": {},
          "output_type": "execute_result"
        }
      ],
      "source": [
        "len(split_chunks)"
      ]
    },
    {
      "cell_type": "markdown",
      "metadata": {
        "id": "lxaKmmyh7DHD"
      },
      "source": [
        "documents!"
      ]
    },
    {
      "cell_type": "markdown",
      "metadata": {
        "id": "cGWs7KTd7QPS"
      },
      "source": [
        "#### Embedding Model and Vector Store\n",
        "\n",
        "Now that we have our chunked document - lets create a vector store, which will first require us to create an embedding model to get the vector representations of our text!\n",
        "\n",
        "We'll use OpenAI's [`text-embedding-3-small`](https://platform.openai.com/docs/guides/embeddings/embedding-models) model - as it's cheap, and performant."
      ]
    },
    {
      "cell_type": "code",
      "execution_count": 7,
      "metadata": {
        "id": "xLIWMMZCmfrj"
      },
      "outputs": [],
      "source": [
        "from langchain_openai.embeddings import OpenAIEmbeddings\n",
        "\n",
        "embedding_model = OpenAIEmbeddings(model=\"text-embedding-3-small\")"
      ]
    },
    {
      "cell_type": "markdown",
      "metadata": {
        "id": "lTEi7Ww573sc"
      },
      "source": [
        "Now we can create our QDrant backed vector store!"
      ]
    },
    {
      "cell_type": "code",
      "execution_count": 8,
      "metadata": {
        "id": "Xct51f8omVAU"
      },
      "outputs": [],
      "source": [
        "from langchain_community.vectorstores import Qdrant\n",
        "\n",
        "qdrant_vectorstore = Qdrant.from_documents(\n",
        "    split_chunks,\n",
        "    embedding_model,\n",
        "    location=\":memory:\",\n",
        "    collection_name=\"extending_context_window_llama_3\",\n",
        ")"
      ]
    },
    {
      "cell_type": "markdown",
      "metadata": {
        "id": "wzGq6o4s79Ar"
      },
      "source": [
        "Let's make sure we can access it as a retriever."
      ]
    },
    {
      "cell_type": "code",
      "execution_count": 9,
      "metadata": {
        "id": "OTnQZbWymi4K"
      },
      "outputs": [],
      "source": [
        "qdrant_retriever = qdrant_vectorstore.as_retriever()"
      ]
    },
    {
      "cell_type": "markdown",
      "metadata": {
        "id": "aU8qSrMS7_D7"
      },
      "source": [
        "### Augmented\n",
        "\n",
        "Now that we have our retrieval process set-up, we need to set up our \"augmentation\" process - AKA a prompt template."
      ]
    },
    {
      "cell_type": "code",
      "execution_count": 10,
      "metadata": {
        "id": "lezTN0zCmk46"
      },
      "outputs": [],
      "source": [
        "from langchain_core.prompts import ChatPromptTemplate\n",
        "\n",
        "RAG_PROMPT = \"\"\"\n",
        "CONTEXT:\n",
        "{context}\n",
        "\n",
        "QUERY:\n",
        "{question}\n",
        "\n",
        "You are a helpful assistant. Use the available context to answer the question. If you can't answer the question, say you don't know.\n",
        "\"\"\"\n",
        "\n",
        "rag_prompt = ChatPromptTemplate.from_template(RAG_PROMPT)"
      ]
    },
    {
      "cell_type": "markdown",
      "metadata": {
        "id": "Y9fa63nM7IKK"
      },
      "source": [
        "### Generation\n",
        "\n",
        "Last, but certainly not least, let's put the 'G' in 'RAG' by adding our generator - in this case, we can rely on OpenAI's [`gpt-4o-mini`](https://platform.openai.com/docs/models/gpt-4o-mini) model!"
      ]
    },
    {
      "cell_type": "code",
      "execution_count": 11,
      "metadata": {
        "id": "AwEi29-Jo3a8"
      },
      "outputs": [],
      "source": [
        "from langchain_openai import ChatOpenAI\n",
        "\n",
        "openai_chat_model = ChatOpenAI(model=\"gpt-4o-mini\")"
      ]
    },
    {
      "cell_type": "markdown",
      "metadata": {
        "id": "qO-ZC0T98XJJ"
      },
      "source": [
        "### RAG - Retrieval Augmented Generation\n",
        "\n",
        "All that's left to do is combine our R, A, and G into a single chain - and we're off!"
      ]
    },
    {
      "cell_type": "code",
      "execution_count": 12,
      "metadata": {
        "id": "nlOJrPm_oT3S"
      },
      "outputs": [],
      "source": [
        "from operator import itemgetter\n",
        "from langchain.schema.output_parser import StrOutputParser\n",
        "\n",
        "rag_chain = (\n",
        "    {\"context\": itemgetter(\"question\") | qdrant_retriever, \"question\": itemgetter(\"question\")}\n",
        "    | rag_prompt | openai_chat_model | StrOutputParser()\n",
        ")"
      ]
    },
    {
      "cell_type": "markdown",
      "metadata": {
        "id": "qiWrbXpu8ggz"
      },
      "source": [
        "Let's test this out and make sure it works."
      ]
    },
    {
      "cell_type": "code",
      "execution_count": 13,
      "metadata": {
        "colab": {
          "base_uri": "https://localhost:8080/",
          "height": 70
        },
        "id": "gJhFlW32pBPe",
        "outputId": "e709c7a2-4346-4af3-f1c3-6b8a8aba46c6"
      },
      "outputs": [
        {
          "data": {
            "application/vnd.google.colaboratory.intrinsic+json": {
              "type": "string"
            },
            "text/plain": [
              "\"In the context of 'long context', the term 'context' refers to the amount of text or information that a language model can process and analyze at one time. Specifically, it pertains to the length of the input data that the model can handle, which in this case involves extending the context length of large language models (LLMs) like Llama-3 from 8K tokens to 80K tokens. This allows the model to aggregate and reason over multiple details within a more extensive text, such as a book or a lengthy research paper.\""
            ]
          },
          "execution_count": 13,
          "metadata": {},
          "output_type": "execute_result"
        }
      ],
      "source": [
        "rag_chain.invoke({\"question\" : \"What does the 'context' in 'long context' refer to?\"})"
      ]
    },
    {
      "cell_type": "markdown",
      "metadata": {
        "id": "gReMizYk8qd-"
      },
      "source": [
        "### RAG Limitation\n",
        "\n",
        "Notice how we're hard-coding our data, while this is simply meant to be an illustrative example - you could easily extend this to work with any provied paper or document in order to have a more dynamic system.\n",
        "\n",
        "For now, we'll stick with this single hard-coded example in order to keep complexity down in an already very long notebook!"
      ]
    },
    {
      "cell_type": "markdown",
      "metadata": {
        "id": "oxkbuir-H5rE"
      },
      "source": [
        "##### 🏗️ Activity #1 (Bonus Marks)\n",
        "\n",
        "Allow the system to dynamically fetch Arxiv papers instead of hard coding them.\n",
        "\n",
        "> HINT: Tuesday's assignment will be very useful here."
      ]
    },
    {
      "cell_type": "code",
      "execution_count": 14,
      "metadata": {
        "colab": {
          "base_uri": "https://localhost:8080/"
        },
        "id": "zxsQdOdJMsjq",
        "outputId": "ec4497a1-7db5-4b8c-ef17-aa322067cb4e"
      },
      "outputs": [
        {
          "name": "stdout",
          "output_type": "stream",
          "text": [
            "Requirement already satisfied: arxiv in /usr/local/lib/python3.11/dist-packages (2.1.3)\n",
            "Requirement already satisfied: feedparser~=6.0.10 in /usr/local/lib/python3.11/dist-packages (from arxiv) (6.0.11)\n",
            "Requirement already satisfied: requests~=2.32.0 in /usr/local/lib/python3.11/dist-packages (from arxiv) (2.32.3)\n",
            "Requirement already satisfied: sgmllib3k in /usr/local/lib/python3.11/dist-packages (from feedparser~=6.0.10->arxiv) (1.0.0)\n",
            "Requirement already satisfied: charset-normalizer<4,>=2 in /usr/local/lib/python3.11/dist-packages (from requests~=2.32.0->arxiv) (3.4.1)\n",
            "Requirement already satisfied: idna<4,>=2.5 in /usr/local/lib/python3.11/dist-packages (from requests~=2.32.0->arxiv) (3.10)\n",
            "Requirement already satisfied: urllib3<3,>=1.21.1 in /usr/local/lib/python3.11/dist-packages (from requests~=2.32.0->arxiv) (2.3.0)\n",
            "Requirement already satisfied: certifi>=2017.4.17 in /usr/local/lib/python3.11/dist-packages (from requests~=2.32.0->arxiv) (2024.12.14)\n"
          ]
        }
      ],
      "source": [
        "!pip install arxiv"
      ]
    },
    {
      "cell_type": "markdown",
      "metadata": {
        "id": "uPiC4YzDMy7x"
      },
      "source": [
        "By creating a toolbelt with this LangChain called ArvixQueryRun and\n",
        "attaching it to the relevant model to be used by using bind_tools(), we can dynamically fetch Arvix papers\n",
        "\n",
        "from langchain_community.tools.arxiv.tool import ArxivQueryRun\n",
        "\n",
        "tool_belt = [\n",
        "    ArxivQueryRun()\n",
        "]\n",
        "\n",
        "model_test = ChatOpenAI(model=\"gpt-4o\", temperature=0)\n",
        "model_test = model_test.bind_tools(tool_belt)"
      ]
    },
    {
      "cell_type": "markdown",
      "metadata": {
        "id": "7U6a_pqQ9uWf"
      },
      "source": [
        "## Task 2: Helper Functions for Agent Graphs\n",
        "\n",
        "We'll be using a number of agents, nodes, and supervisors in the rest of the notebook - and so it will help to have a collection of useful helper functions that we can leverage to make our lives easier going forward.\n",
        "\n",
        "Let's start with the most simple one!"
      ]
    },
    {
      "cell_type": "markdown",
      "metadata": {
        "id": "IDUnpEEl-L_F"
      },
      "source": [
        "#### Import Wall\n",
        "\n",
        "Here's a wall of imports we'll be needing going forward!"
      ]
    },
    {
      "cell_type": "code",
      "execution_count": 23,
      "metadata": {
        "id": "TbzoL3Q3-SG1"
      },
      "outputs": [],
      "source": [
        "from typing import Any, Callable, List, Optional, TypedDict, Union\n",
        "\n",
        "from langchain.agents import AgentExecutor, create_openai_functions_agent\n",
        "from langchain.output_parsers.openai_functions import JsonOutputFunctionsParser\n",
        "from langchain_core.prompts import ChatPromptTemplate, MessagesPlaceholder\n",
        "from langchain_core.messages import AIMessage, BaseMessage, HumanMessage\n",
        "from langchain_core.runnables import Runnable\n",
        "from langchain_core.tools import BaseTool\n",
        "from langchain_openai import ChatOpenAI\n",
        "from langgraph.graph import END, StateGraph"
      ]
    },
    {
      "cell_type": "markdown",
      "metadata": {
        "id": "qb6Z3EEz-Asi"
      },
      "source": [
        "### Agent Node Helper\n",
        "\n",
        "Since we're going to be wrapping each of our agents into a node - it will help to have an easy way to create the node!"
      ]
    },
    {
      "cell_type": "code",
      "execution_count": 17,
      "metadata": {
        "id": "5IF7KWfS-JKd"
      },
      "outputs": [],
      "source": [
        "def agent_node(state, agent, name):\n",
        "    result = agent.invoke(state)\n",
        "    return {\"messages\": [HumanMessage(content=result[\"output\"], name=name)]}"
      ]
    },
    {
      "cell_type": "markdown",
      "metadata": {
        "id": "fwND2teK-WHm"
      },
      "source": [
        "### Agent Creation Helper Function\n",
        "\n",
        "Since we know we'll need to create agents to populate our agent nodes, let's use a helper function for that as well!\n",
        "\n",
        "Notice a few things:\n",
        "\n",
        "1. We have a standard suffix to append to our system messages for each agent to handle the tool calling and boilerplate prompting.\n",
        "2. Each agent has its our scratchpad.\n",
        "3. We're relying on OpenAI's function-calling API for tool selection\n",
        "4. Each agent is its own executor."
      ]
    },
    {
      "cell_type": "code",
      "execution_count": 18,
      "metadata": {
        "id": "NxLyHJt5-eUx"
      },
      "outputs": [],
      "source": [
        "def create_agent(\n",
        "    llm: ChatOpenAI,\n",
        "    tools: list,\n",
        "    system_prompt: str,\n",
        ") -> str:\n",
        "    \"\"\"Create a function-calling agent and add it to the graph.\"\"\"\n",
        "    system_prompt += (\"\\nWork autonomously according to your specialty, using the tools available to you.\"\n",
        "    \" Do not ask for clarification.\"\n",
        "    \" Your other team members (and other teams) will collaborate with you with their own specialties.\"\n",
        "    \" You are chosen for a reason! You are one of the following team members: {team_members}.\")\n",
        "    prompt = ChatPromptTemplate.from_messages(\n",
        "        [\n",
        "            (\n",
        "                \"system\",\n",
        "                system_prompt,\n",
        "            ),\n",
        "            MessagesPlaceholder(variable_name=\"messages\"),\n",
        "            MessagesPlaceholder(variable_name=\"agent_scratchpad\"),\n",
        "        ]\n",
        "    )\n",
        "    agent = create_openai_functions_agent(llm, tools, prompt)\n",
        "    executor = AgentExecutor(agent=agent, tools=tools)\n",
        "    return executor"
      ]
    },
    {
      "cell_type": "markdown",
      "metadata": {
        "id": "S6kmlR9d-1K5"
      },
      "source": [
        "### Supervisor Helper Function\n",
        "\n",
        "Finally, we need a \"supervisor\" that decides and routes tasks to specific agents.\n",
        "\n",
        "Since each \"team\" will have a collection of potential agents - this \"supervisor\" will act as an \"intelligent\" router to make sure that the right agent is selected for the right task.\n",
        "\n",
        "Notice that, at the end of the day, this \"supervisor\" is simply directing who acts next - or if the state is considered \"done\"."
      ]
    },
    {
      "cell_type": "code",
      "execution_count": 19,
      "metadata": {
        "id": "S2MXA83mrYE2"
      },
      "outputs": [],
      "source": [
        "def create_team_supervisor(llm: ChatOpenAI, system_prompt, members) -> str:\n",
        "    \"\"\"An LLM-based router.\"\"\"\n",
        "    options = [\"FINISH\"] + members\n",
        "    function_def = {\n",
        "        \"name\": \"route\",\n",
        "        \"description\": \"Select the next role.\",\n",
        "        \"parameters\": {\n",
        "            \"title\": \"routeSchema\",\n",
        "            \"type\": \"object\",\n",
        "            \"properties\": {\n",
        "                \"next\": {\n",
        "                    \"title\": \"Next\",\n",
        "                    \"anyOf\": [\n",
        "                        {\"enum\": options},\n",
        "                    ],\n",
        "                },\n",
        "            },\n",
        "            \"required\": [\"next\"],\n",
        "        },\n",
        "    }\n",
        "    prompt = ChatPromptTemplate.from_messages(\n",
        "        [\n",
        "            (\"system\", system_prompt),\n",
        "            MessagesPlaceholder(variable_name=\"messages\"),\n",
        "            (\n",
        "                \"system\",\n",
        "                \"Given the conversation above, who should act next?\"\n",
        "                \" Or should we FINISH? Select one of: {options}\",\n",
        "            ),\n",
        "        ]\n",
        "    ).partial(options=str(options), team_members=\", \".join(members))\n",
        "    return (\n",
        "        prompt\n",
        "        | llm.bind_functions(functions=[function_def], function_call=\"route\")\n",
        "        | JsonOutputFunctionsParser()\n",
        "    )"
      ]
    },
    {
      "cell_type": "markdown",
      "metadata": {
        "id": "jd0zfyq48jKb"
      },
      "source": [
        "## Task 3: Research Team - A LangGraph for Researching A Specific Topic\n",
        "\n",
        "Now that we have our RAG chain set-up and some awesome helper functions, we want to create a LangGraph related to researching a specific topic.\n",
        "\n",
        "We're going to start by equipping our Research Team with a few tools:\n",
        "\n",
        "1. Tavily Search - aka \"Google\", for the most up to date information possible.\n",
        "2. Our RAG chain - specific and high quality information about our topic.\n",
        "\n",
        "Let's create those tools now!"
      ]
    },
    {
      "cell_type": "markdown",
      "metadata": {
        "id": "VNsVTZrH_alw"
      },
      "source": [
        "### Tool Creation\n",
        "\n",
        "As you can see below, some tools already come pre-packaged ready to use!"
      ]
    },
    {
      "cell_type": "code",
      "execution_count": 20,
      "metadata": {
        "id": "ce7FKTZDgAWG"
      },
      "outputs": [],
      "source": [
        "from langchain_community.tools.tavily_search import TavilySearchResults\n",
        "\n",
        "tavily_tool = TavilySearchResults(max_results=5)"
      ]
    },
    {
      "cell_type": "markdown",
      "metadata": {
        "id": "NIR7cbTL9agM"
      },
      "source": [
        "Creating a custom tool, however, is very straightforward.\n",
        "\n",
        "> NOTE: You *must* include a docstring, as that is what the LLM will consider when deciding when to use this tool."
      ]
    },
    {
      "cell_type": "code",
      "execution_count": 21,
      "metadata": {
        "id": "sSwO2L_UqFhm"
      },
      "outputs": [],
      "source": [
        "from typing import Annotated, List, Tuple, Union\n",
        "from langchain_core.tools import tool\n",
        "\n",
        "@tool\n",
        "def retrieve_information(\n",
        "    query: Annotated[str, \"query to ask the retrieve information tool\"]\n",
        "    ):\n",
        "  \"\"\"Use Retrieval Augmented Generation to retrieve information about the 'Extending Llama-3’s Context Ten-Fold Overnight' paper.\"\"\"\n",
        "  return rag_chain.invoke({\"question\" : query})"
      ]
    },
    {
      "cell_type": "markdown",
      "metadata": {
        "id": "nxsMnqjpBTCj"
      },
      "source": [
        "> NOTE: We could just as easily use the LCEL chain directly, since nodes can be LCEL objects - but creating a tool helps explain the tool creation process at the same time."
      ]
    },
    {
      "cell_type": "markdown",
      "metadata": {
        "id": "oDHCajO4_gB2"
      },
      "source": [
        "### Research Team State\n",
        "\n",
        "Since we're using LangGraph - we're going to need state!\n",
        "\n",
        "Let's look at how we've created our state below."
      ]
    },
    {
      "cell_type": "code",
      "execution_count": 24,
      "metadata": {
        "id": "mXminK9d_1fa"
      },
      "outputs": [],
      "source": [
        "import functools\n",
        "import operator\n",
        "\n",
        "from langchain_core.messages import AIMessage, BaseMessage, HumanMessage\n",
        "from langchain_openai.chat_models import ChatOpenAI\n",
        "import functools\n",
        "\n",
        "class ResearchTeamState(TypedDict):\n",
        "    messages: Annotated[List[BaseMessage], operator.add]\n",
        "    team_members: List[str]\n",
        "    next: str"
      ]
    },
    {
      "cell_type": "markdown",
      "metadata": {
        "id": "fvPM5msq_18C"
      },
      "source": [
        "Notice how we've used `messages`, `team_members`, and `next`.\n",
        "\n",
        "These states will help us understand:\n",
        "\n",
        "1. What we've done so far (`messages`)\n",
        "2. Which team members we have access to (`team_members`)\n",
        "3. Which team member is up next! (`next`)"
      ]
    },
    {
      "cell_type": "markdown",
      "metadata": {
        "id": "Mu7B_6qHAFjK"
      },
      "source": [
        "### Research Team LLM\n",
        "\n",
        "We'll be using `gpt-4-turbo` today. This LLM is going to be doing a lot of reasoning - and so using a \"powerful\" LLM is very important here!"
      ]
    },
    {
      "cell_type": "code",
      "execution_count": 25,
      "metadata": {
        "id": "dTNqrip8AcKR"
      },
      "outputs": [],
      "source": [
        "llm = ChatOpenAI(model=\"gpt-4-turbo\")"
      ]
    },
    {
      "cell_type": "markdown",
      "metadata": {
        "id": "pfb_VCNKIy9w"
      },
      "source": [
        "##### ❓ Question #1:\n",
        "\n",
        "Why is a \"powerful\" LLM important for this use-case?\n",
        "\n",
        "What tasks must our Agent perform that make it such that the LLM's reasoning capability is a potential limiter?"
      ]
    },
    {
      "cell_type": "markdown",
      "metadata": {
        "id": "ZYIz3-dmSjHo"
      },
      "source": [
        "<div style=\"background-color: #E6E6FA; padding: 10px; border-radius: 5px;\">\n",
        "<span style=\"color: black;\">\n",
        "<b> * **ANSWER:**  </b> \n",
        "\n",
        "A powerful LLM is needed in this use case since this is a multi-agent framework reuiring multiple agents to work together,\n",
        "requiring capabilties of advanced reasoning, orchestration, and advanced synthesis of retrieved information.\n",
        "\n",
        "\n",
        "This multi-agent system can test the reasoning capabilities of the chosen LLM in some situations such as the following:\n",
        "1.\tWhen it has to make complex decisions accounting and anticipating actions and potential reactions of other agents in the environment and involves strategic thinking, prediction of behaviors of other role players, and complex reasoning about multiple steps ahead.\n",
        "2.\tIn scenarios where agents must interact in real-time as LLMs may struggle having been pre-trained on static data and lack of explicit ability to adapt dynamically.\n",
        "3.\tSituations requiring high levels of coordination and collaboration, since LLMs are not provided the ability to communicate effectively with other agents.\n",
        "4.\tDealing with multi-model data such as images, sounds, or video unless specifically trained on them and optimized for their use cases.\n",
        "\n",
        "</span>\n",
        "</div>"
      ]
    },
    {
      "cell_type": "markdown",
      "metadata": {
        "id": "ZR_1LuMKAekf"
      },
      "source": [
        "### Research Team Agents & Nodes\n",
        "\n",
        "Now we can use our helper functions to create our agent nodes, with their related tools.\n",
        "\n",
        "Let's start with our search agent node."
      ]
    },
    {
      "cell_type": "markdown",
      "metadata": {
        "id": "uzx6wuPoAlPq"
      },
      "source": [
        "#### Research Team: Search Agent\n",
        "\n",
        "We're going to give our agent access to the Tavily tool, power it with our GPT-4 Turbo model, and then create its node - and name it `Search`."
      ]
    },
    {
      "cell_type": "code",
      "execution_count": 26,
      "metadata": {
        "id": "FIlLPxj7Atpj"
      },
      "outputs": [],
      "source": [
        "search_agent = create_agent(\n",
        "    llm,\n",
        "    [tavily_tool],\n",
        "    \"You are a research assistant who can search for up-to-date info using the tavily search engine.\",\n",
        ")\n",
        "search_node = functools.partial(agent_node, agent=search_agent, name=\"Search\")"
      ]
    },
    {
      "cell_type": "markdown",
      "metadata": {
        "id": "emLtesudA9Dd"
      },
      "source": [
        "#### Research Team: RAG Agent Node\n",
        "\n",
        "Now we can wrap our LCEL RAG pipeline in an agent node as well, using the LCEL RAG pipeline as the tool, as created above."
      ]
    },
    {
      "cell_type": "code",
      "execution_count": 27,
      "metadata": {
        "id": "z-nnAG9XA_p7"
      },
      "outputs": [],
      "source": [
        "research_agent = create_agent(\n",
        "    llm,\n",
        "    [retrieve_information],\n",
        "    \"You are a research assistant who can provide specific information on the provided paper: 'Extending Llama-3’s Context Ten-Fold Overnight'. You must only respond with information about the paper related to the request.\",\n",
        ")\n",
        "research_node = functools.partial(agent_node, agent=research_agent, name=\"PaperInformationRetriever\")"
      ]
    },
    {
      "cell_type": "markdown",
      "metadata": {
        "id": "dA5z6T1CBeSc"
      },
      "source": [
        "### Research Team Supervisor Agent\n",
        "\n",
        "Notice that we're not yet creating our supervisor *node*, simply the agent here.\n",
        "\n",
        "Also notice how we need to provide a few extra pieces of information - including which tools we're using.\n",
        "\n",
        "> NOTE: It's important to use the *exact* tool name, as that is how the LLM will reference the tool. Also, it's important that your tool name is all a single alphanumeric string!\n",
        "\n"
      ]
    },
    {
      "cell_type": "code",
      "execution_count": 28,
      "metadata": {
        "id": "J0g8CQMBrtFs"
      },
      "outputs": [],
      "source": [
        "supervisor_agent = create_team_supervisor(\n",
        "    llm,\n",
        "    (\"You are a supervisor tasked with managing a conversation between the\"\n",
        "    \" following workers:  Search, PaperInformationRetriever. Given the following user request,\"\n",
        "    \" determine the subject to be researched and respond with the worker to act next. Each worker will perform a\"\n",
        "    \" task and respond with their results and status. \"\n",
        "    \" You should never ask your team to do anything beyond research. They are not required to write content or posts.\"\n",
        "    \" You should only pass tasks to workers that are specifically research focused.\"\n",
        "    \" When finished, respond with FINISH.\"),\n",
        "    [\"Search\", \"PaperInformationRetriever\"],\n",
        ")"
      ]
    },
    {
      "cell_type": "markdown",
      "metadata": {
        "id": "qohn0DcgB_U1"
      },
      "source": [
        "### Research Team Graph Creation\n",
        "\n",
        "Now that we have our research team agent nodes created, and our supervisor agent - let's finally construct our graph!\n",
        "\n",
        "We'll start by creating our base graph from our state, and then adding the nodes/agent we've created as nodes on our LangGraph."
      ]
    },
    {
      "cell_type": "code",
      "execution_count": 29,
      "metadata": {
        "id": "p0s2GAgJCN8G"
      },
      "outputs": [],
      "source": [
        "research_graph = StateGraph(ResearchTeamState)\n",
        "\n",
        "research_graph.add_node(\"Search\", search_node)\n",
        "research_graph.add_node(\"PaperInformationRetriever\", research_node)\n",
        "research_graph.add_node(\"supervisor\", supervisor_agent)"
      ]
    },
    {
      "cell_type": "markdown",
      "metadata": {
        "id": "33qixRGNCaAX"
      },
      "source": [
        "Now we can define our edges - include our conditional edge from our supervisor to our agent nodes.\n",
        "\n",
        "Notice how we're always routing our agent nodes back to our supervisor!"
      ]
    },
    {
      "cell_type": "code",
      "execution_count": 30,
      "metadata": {
        "id": "yYSJIhijsGyg"
      },
      "outputs": [],
      "source": [
        "research_graph.add_edge(\"Search\", \"supervisor\")\n",
        "research_graph.add_edge(\"PaperInformationRetriever\", \"supervisor\")\n",
        "research_graph.add_conditional_edges(\n",
        "    \"supervisor\",\n",
        "    lambda x: x[\"next\"],\n",
        "    {\"Search\": \"Search\", \"PaperInformationRetriever\": \"PaperInformationRetriever\", \"FINISH\": END},\n",
        ")"
      ]
    },
    {
      "cell_type": "markdown",
      "metadata": {
        "id": "hgGcuZzkCj1-"
      },
      "source": [
        "Now we can set our supervisor node as the entry point, and compile our graph!"
      ]
    },
    {
      "cell_type": "code",
      "execution_count": 31,
      "metadata": {
        "id": "1l-1I2Z3CnPX"
      },
      "outputs": [],
      "source": [
        "research_graph.set_entry_point(\"supervisor\")\n",
        "chain = research_graph.compile()"
      ]
    },
    {
      "cell_type": "markdown",
      "metadata": {
        "id": "GDwQpYTSEY13"
      },
      "source": [
        "#### Display Graph"
      ]
    },
    {
      "cell_type": "code",
      "execution_count": 32,
      "metadata": {
        "colab": {
          "base_uri": "https://localhost:8080/",
          "height": 488
        },
        "id": "l8n6SXhpEa2b",
        "outputId": "47004105-0f30-4c48-ba0d-e407474f47e5"
      },
      "outputs": [
        {
          "data": {
            "image/jpeg": "[encoded data removed]",
            "text/plain": [
              "<IPython.core.display.Image object>"
            ]
          },
          "metadata": {},
          "output_type": "display_data"
        }
      ],
      "source": [
        "from IPython.display import Image, display\n",
        "\n",
        "try:\n",
        "    display(Image(chain.get_graph(xray=True).draw_mermaid_png()))\n",
        "except:\n",
        "    pass"
      ]
    },
    {
      "cell_type": "markdown",
      "metadata": {
        "id": "bfRvA2QfCqFL"
      },
      "source": [
        "The next part is key - since we need to \"wrap\" our LangGraph in order for it to be compatible in the following steps - let's create an LCEL chain out of it!\n",
        "\n",
        "This allows us to \"broadcast\" messages down to our Research Team LangGraph!"
      ]
    },
    {
      "cell_type": "code",
      "execution_count": 33,
      "metadata": {
        "id": "1G7hmEINCx3i"
      },
      "outputs": [],
      "source": [
        "def enter_chain(message: str):\n",
        "    results = {\n",
        "        \"messages\": [HumanMessage(content=message)],\n",
        "    }\n",
        "    return results\n",
        "\n",
        "research_chain = enter_chain | chain"
      ]
    },
    {
      "cell_type": "markdown",
      "metadata": {
        "id": "EGdoCdXWC7Pi"
      },
      "source": [
        "Now, finally, we can take it for a spin!"
      ]
    },
    {
      "cell_type": "code",
      "execution_count": 34,
      "metadata": {
        "colab": {
          "base_uri": "https://localhost:8080/"
        },
        "id": "xIDpFIg2sRUl",
        "outputId": "4004a0ea-481b-4679-b071-63e46788c788"
      },
      "outputs": [
        {
          "name": "stdout",
          "output_type": "stream",
          "text": [
            "{'supervisor': {'next': 'Search'}}\n",
            "---\n",
            "{'Search': {'messages': [HumanMessage(content='The paper \"Extending Llama-3\\'s Context Ten-Fold Overnight\" primarily focuses on significantly increasing the context length of the Llama-3-8B-Instruct model from 8,000 tokens to 80,000 tokens. Here are the main takeaways:\\n\\n1. **Efficient Fine-Tuning Process**: The extension of the context length was achieved through a process called QLoRA fine-tuning. The training was notably efficient, taking only 8 hours on a machine with an 8xA800 (80G) GPU setup.\\n\\n2. **Use of Synthetic Training Data**: The dramatic increase in context length was facilitated by using only 3,500 synthetic training samples generated by the GPT-4 model, highlighting the potential of large language models (LLMs) to handle significantly longer contexts with relatively minimal training data.\\n\\n3. **Broad Application and Performance Improvement**: The extended context model showed superior performance across a variety of evaluation tasks, including NIHS, topic retrieval, and long-context language understanding. This indicates the model\\'s enhanced ability to manage and utilize more extensive context effectively.\\n\\n4. **Potential for Further Extension**: The research suggests that the context length of LLMs like Llama-3 could potentially be extended even beyond 80,000 tokens with more computational resources, pointing to an inherent, yet largely underestimated, capability of these models.\\n\\n5. **Preservation of Model Integrity**: Despite the significant extension of context length, the model well preserves its original characteristics and performance standards.\\n\\nThis breakthrough indicates a promising direction for the development of more capable and versatile language models capable of handling increasingly complex and lengthy data inputs.', name='Search')]}}\n",
            "---\n",
            "{'supervisor': {'next': 'FINISH'}}\n",
            "---\n"
          ]
        }
      ],
      "source": [
        "for s in research_chain.stream(\n",
        "    \"What are the main takeaways from the paper `Extending Llama-3's Context Ten-Fold Overnight'? Please use Search and PaperInformationRetriever!\", {\"recursion_limit\": 100}\n",
        "):\n",
        "    if \"__end__\" not in s:\n",
        "        print(s)\n",
        "        print(\"---\")"
      ]
    },
    {
      "cell_type": "markdown",
      "metadata": {
        "id": "DHAgsbwIIhwj"
      },
      "source": [
        "##### 🏗️ Activity #2:\n",
        "\n",
        "Using whatever drawing application you wish - please label the flow above on a diagram of your graph."
      ]
    },
    {
      "cell_type": "markdown",
      "metadata": {
        "id": "o3RMYZJioCV7"
      },
      "source": [
        "![flow_diagram.png](data:image/png;base64,iVBORw0KGgoAAAANSUhEUgAABSIAAAReCAYAAADDv04pAAAAAXNSR0IArs4c6QAAAARnQU1BAACxjwv8YQUAAAAJcEhZcwAAHYcAAB2HAY/l8WUAAP+lSURBVHhe7N17vNVVgTf+z1EkIHIOPdpAXvFSIZqgYSk5CjxeCUsx5xEynbzMb0TrocwuamJeylvOpDi/8VKaAs9oaMmAoSPoJNpICmZKjhpqEpT+5DwOAgFyfn+c2z5fDnBAtuyz9/v9ep3irLX2dp/vXud7vuuz11rfusbGxsYAAAAAAJTRNsUCAAAAAIAtTRAJAAAAAJSdIBIAAAAAKDtBJAAAAABQdoJIAAAAAKDsBJEAAAAAQNkJIgEAAACAshNEAgAAAABlJ4gEAAAAAMpOEAkAAAAAlJ0gEgAAAAAoO0EkAAAAAFB2gkgAAAAAoOwEkQAAAABA2QkiAQAAAICyE0QCAAAAAGVX19jY2FgsBACAcnnzzTezcOHCLFy4MIsWLcrbb7+dt99+O8uXL+/0v+vq6tKrV6+8//3vX+f/N1S28847p3///unfv38++MEPFl8aAABlJIgEAGCL+stf/tIaNHb0tXTp0uJDtoo+ffq0hpIdfb3vfe8rPgQAgHdBEAkAwGZ76qmn8tRTT+XJJ5/Ms88+m4ULF+a1114rNmtn++23bw37dttttw5nLm7s30nWmSXZmX+/8sorrYHoW2+9VXxp7bTMntx3331zwAEH5MADD8zgwYOLzQAA6CRBJAAAnfLKK6/kkUceyRNPPNEaPq5atarYLNtuu+06swtLv3bcccfiQ7aK119/PQsXLszvf//71nDy5Zdfbv33O++8U3xIunfvngMPPDAHHHBADjrooBx22GHZbbfdis0AAOiAIBIAgA4tWbIkDz/8cB555JE8/PDD+d3vfldsko9+9KOtwdzgwYNbw8Zq0BJIzps3rzV4ff7554vN8rGPfSyHH354DjvssBx22GHp169fsQkAAIJIAABKPf3007nvvvsybdq0zJ07t13dX/3VX+Wwww7Lpz/96dalyvX19e3aVLuGhoY8+eSTeeqpp/Loo4/mkUceyf/9v/+3XZshQ4bkuOOOy6hRo7L//vu3qwMAqGWCSACAGvfYY49l2rRpue+++/Lcc8+1lvfs2bN1lt/hhx+eT33qU+0eR5Nf/epXrTNHH3nkkaxYsaK1bp999smoUaMyatSoDB06tN3jAABqjSASAKAGLVmyJHfeeWfuuOOO/OY3v2kt/+u//uvW2XyjRo1q9xg6Z9q0aa3B7p/+9KfW8o9//OM55ZRTcsopp+Sv//qv2z0GAKAWCCIBAGrIv/3bv+WOO+7IXXfd1Vq2yy67ZPTo0Rk1alSGDx/erj3vzqxZs3LfffflnnvuyR/+8IfW8pNOOimnnHJKPvOZz7RrDwBQzQSRAAA14Ec/+lGuv/76zJ8/v7Xs+OOPzymnnJLjjz++XVvK4957782dd96Ze+65p7Vs0KBBOffcc/OlL32pXVsAgGokiAQAqFJr167N9ddfn+uvvz4vvfRSkmTvvffO3/3d3+WUU07JzjvvXHwI74HXXnstd955Z370ox/lhRdeSJLsueeeOffcc3Puuedmm222KT4EAKAqCCIBAKrQv/zLv2TChAlZsmRJkuSAAw7Iueeem9NOO63YlK3otttuy/XXX5+nnnoqSdK3b99MmDAhf//3f19sCgDQ5QkiAQCqyIMPPpgJEybkscceS5L8zd/8Tc4999yceOKJxaZUkJ/+9Ke5/vrr8x//8R9JkkMOOSQTJkzIEUccUWwKANBlCSIBAKrAG2+8ka9+9au54447kualvhdffHFOOeWUYlMq2B133JFLLrmkdSn9Kaeckuuuuy7/43/8j2JTAIAuRxAJANDF/fznP88555yT1157LXV1dbn44otz8cUXF5vRhVxyySW55JJL0tjYmF122SU33HBDjjvuuGIzAIAuRRAJANCFfeMb38hVV12VJDnmmGNyww03ZI899ig2owv6/e9/n3POOSf3339/kuT888/PlVdeWWwGANBlCCIBALqg//7v/86JJ56YBx54IEly6aWX5sILLyw2owpcfvnlre/tUUcdlbvvvjsf+MAHis0AACqeIBIAoIt55ZVX8vnPfz5z587NnnvumVtuuSWHH354sRlV5OGHH84ZZ5yRl156KUOGDMlPf/rT7LrrrsVmAAAVTRAJANCFzJ8/PyeeeGJeeumlfOITn8hPf/rT7LbbbsVmVKFXXnklJ554Yn79619nr732yt13351BgwYVmwEAVCxBJABAF/H666/n05/+dP7rv/4rRxxxRH76059m++23Lzajir311ls58cQT8+CDD+YjH/lIHn300ey4447FZgAAFUkQCQDQRRx11FF54IEHMnz48Dz00EPFamrIiBEjMmvWrBx55JGZOXNmsRoAoCJtUywAAKDynHXWWXnggQey55575s477yxWU2PuvPPO7LnnnnnggQdy1llnFasBACqSIBIAoMLdd999ufnmm7PtttvmjjvuSL9+/YpNqkbDo9dm5PkzisXlt6Yhj189MufdX6yoTP369csdd9yRbbfdNjfffHPuu+++YhMAgIojiAQAqHAXX3xxkuSKK67IwQcfXKyuDm88nmuP7Zc+h56XGUuKleXV8Oi1GblLnxxy/owsXlOsrVwHH3xwrrjiiqSkjwAAVDJBJABABbvmmmsyf/78fPzjH8/5559frK4aM756SM67/z1OIJMkMzJuK4SfW8r555+fj3/845k/f36uueaaYjUAQEURRAIAVLDbb789SXLJJZcUqyAp6RstfQUAoFIJIgEAKtTcuXPz29/+Nv369cvnPve5YnXlemNebv3qiOzTr2fq6uqavrbrk35DxubaBwtTD6eNTV1dXUbeUVJ2x8jmx41N6W6RK1+8J+cN3yd9tmt+zrq61PXslwOOuzD3vLiypGWTGV9sa7fP1Quy4ObR6df82J57j8ipx9alrm5kJpc8ZvJxzY/54lbYp3Izfe5zn0u/fv3y29/+NnPnzi1WAwBUDEEkAECF+ulPf5okGT16dLGqcv3u2hzS74Cccd2sLFhSEg6uaciSX0/OeUf2ywFXLyh9RKc0TBubfnuPzrWzF6ShdB/HlUsyb9rlGb33Ibn2dyXlBUvvGptDzronS5ofu/LFhflLt2Krrqulj7T0GQCASiSIBACoUE8//XSS5JhjjilWVaiVmfzt8/L4miTpkTGTF2fF6sY0Nq7I4rvGpL651bzzR+bC37Z/5AateTwXfnFyGpIkA/K1Xy5NY2NjViyemjEtT5p5Oe+K9c9iXPLrec2Pb9LjmAsyqvWxXV9LH5k/f36xCgCgYggiAQAq1B/+8IckyS677FKsqlCzMv3eln/3zz771adHtyTpkb6fvzUTj2+pW5hrb3q86Z+jJqWxsTHTT2mpS3LK9DQ2NqaxcVKOTZL7b8jElhTxlGtyzaebEsQefU/IhecPaHvcvAVZ2PbdOuqPvyW/X9HYFGLOOD1jf9KYxsbpGVPSZsx9TfWNPzm2pLTytfSR1157rVgFAFAxBJEAABWqJVTqOkFkn/Tp0fLvBblwv57pOXhkLvznGZn38sqccE9zyNfYmBU/PLj9QzekOazsMCAsXaa9QQfnsh+env6tr6+6CCIBgK5AEAkAwBZycMae2X6988r5M3L52SNzQP8+6bldv4z46q2Z90a7JptgZRp+Oyv3/POFOeO4A9KvZ132+U4n95v82MgM37lYCADAe0kQCQBQoXbeuSk5a1mi3RUc/IPHcssxfYvFTdYsyazrzsgBO/bLGdNKd2zcmJVZ8OOx2We7numz34iMPvvy3DptXkrvhbNR3XqkSidDJiV9pKXPAABUIkEkAECF6opBZLoNyOkzFmfF4qdyy0XHZnCHN4RZkltPujCzOrmsumHK6OzzpclZ0NK+W30Gj/parvnJQ5n+rZI9Ijdk8ID0L5ZVka63nygAUIsEkQAAFWrQoEFJkvvvv79YVfF69B2c0787PU8tbcyKpb/PUzNuyOkfK2mwclbmvVzy/XotzK0/aLsbdo+Tp2bpiqV56r5r8rVThmdAn3aNa1ZLH9l///2LVQAAFUMQCQBQoU488cQkydSpU4tVlenRc9Kzri51dXWpqxudycuainvU98/gY8bllmnXpG3+Yr/U9257aDtvLE5DkpUNDVmZpOl/mgwfdWzqu7V9v+CZTu4R2UkNbzQ07UXZsCnrvre+lj7S0mcAACqRIBIAoEINGTIk++67bxYvXpyf/exnxerK8+mv5bJPtHxzT8Z98dYsaAn0li3JrB9NSmtsOGxMRpZuJVkSLub+M9Knri49+xySiS/2TP2ObVUzfnBZHn8jyZqVmXf9iIy9o+RxbyzNpuw82aJnyb9nfKlP6up6ps+hE7OwpLyS/exnP8vixYuz7777ZsiQIcVqAICKIYgEAKhgp556apLk4osvLlZVoP752oPTc3pzwNhw7xnZp0/PphmSH+iXEd+b11RRPybT7zk9pTnk8CNOKPmuVN+c/t2vtbX99eU5ZMe61G3XMwd8eVYaSgPMJfOyoHkWZucNz/Dji2VdS0vfaOkrAACVShAJAFDBzjvvvAwaNCi/+c1vctVVVxWrK0/9sbnlD0vz2A9Pz/CPtb9TTf3OgzPmqun5/eJJObZwE5seJ9+ax344puTmNj3S9xOHpH+3JJ++JgsevyFjPlHyoPrBOfaiqfn9fy/OLcNaCmfkhh8vaWvTKT0y5keP5YZTBrct+e7RN4OHdI1b21x11VX5zW9+k0GDBuW8884rVgMAVJS6xsbGxmIhAACV47777stnP/vZbLvttvnlL3+Zgw8+uNiEGvT444/n0EMPzTvvvJOf//znOe6444pNAAAqihmRAAAV7rjjjsuZZ56Zd955J6ecckoWL15cbEKNWbx4cU455ZS88847OfPMM4WQAECXYEYkAEAXcdRRR+WBBx7I8OHD89BDDxWrqSEjRozIrFmzcuSRR2bmzJnFagCAimRGJABAF3HnnXfmIx/5SGsA9dZbbxWbUOXeeuutHHnkkZk1a1Y+8pGP5M477yw2AQCoWIJIAIAuYscdd8y//uu/Zq+99sqDDz6YESNG5JVXXik2o0q98sorGTFiRB588MHsueee+dd//dfsuOOOxWYAABVLEAkA0IUMGjQoDz30UIYMGZJf//rXGTFiRB5++OFiM6rM7NmzM2LEiPz617/OkCFD8tBDD2XQoEHFZgAAFU0QCQDQxey666556KGHctRRR+Wll17KsGHDcvnllxebUSUuu+yyDB8+PC+99FKOPPLIPPTQQ9ltt92KzQAAKp4gEgCgC/rABz6QX/ziFzn//POTJBdeeGGOPfbY/P73vy82pYv6/e9/n2OOOSYXXXRRkuT888/PzJkz84EPfKDYFACgSxBEAgB0YVdeeWV+/vOfZ5dddsn999+fvfbaK5dcckmxGV3MJZdckr322iu/+MUvsvPOO+fnP/95rrzyymIzAIAuRRAJANDFHXfccZk3b16+8IUvpLGxMRMmTMhee+2VO+64o9iUCnfHHXdkr732yoQJE9LY2JhTTjkl8+fPz3HHHVdsCgDQ5dQ1NjY2FgsBAOiaHnzwwUyYMCGPPfZYkuRv/uZvcu655+bEE08sNqWC/PSnP83111+f//iP/0iSHHLIIZkwYUKOOOKIYlMAgC5LEAkAUIX+5V/+JRMmTMiSJUuSJAcccEDOPffcnHbaacWmbEW33XZbrr/++jz11FNJkr59+2bChAn5+7//+2JTAIAuTxAJAFCl1q5dm+uvvz7XX399XnrppSTJ3nvvnS996Uv5whe+kJ133rn4EN4Dr732Wu644478+Mc/zgsvvJAk2XPPPXPuuefm3HPPzTbb2D0JAKhOgkgAgBrwox/9KNdff33mz5/fWnbCCSfkC1/4Qo4//vh2bSmPe++9N3fccUfuvffe1rJBgwbl3HPPzZe+9KV2bQEAqpEgEgCghvzbv/1b7rjjjtx1112tZbvssktOOOGEHHfccRk+fHi79rw7s2bNyrRp0zJ16tT84Q9/aC0/6aSTcsopp+Qzn/lMu/YAANVMEAkAUIP+9Kc/5Y477sgdd9yR3/zmN63lf/3Xf53jjjsuo0aNyqhRo9o9hs6ZNm1apk2blvvuuy9/+tOfWss//vGP55RTTskXvvCF9O3bt91jAABqgSASAKDGzZkzpzU8e+6551rLe/bsmcMOOyyHHXZYDj/88HzqU59q9zia/OpXv8rDDz+cRx55JI888khWrFjRWrfPPvu0BruHHHJIu8cBANQaQSQAAK2efvrp3HfffZk2bVrmzp3bru6v/uqvcthhh+XTn/50DjjggBx44IGpr69v16baNTQ05Mknn8xTTz2VRx99NI888kj+7//9v+3aDBkyJKNGjcpxxx2X/fffv10dAEAtE0QCANChxYsXt87ye/jhh/O73/2u2CQf/ehHc+CBB+aAAw7I4MGD079///Tv37/YrEtauHBhFi5cmHnz5uWpp57Kk08+meeff77YLAMGDGg3c9SyawCAjgkiAQDolFdffTUPP/xwnnjiidZgbtWqVcVm2XbbbVsDyd13373133vssUf69++fHXfcsfiQreL1119vDRs7+nrnnXeKD0n37t1bg9eDDjoohx12WHbbbbdiMwAAOiCIBABgs82bN691qfJvf/vbLFy4MK+99lqxWTvbb799azi522675f3vf3969eqV97///Z3+d5K8/fbbefvtt7N8+fJO//uVV15pDRrfeuut4ktrZ+edd07//v0zcODA1vDxgAMOKDYDAKCTBJEAAGxRf/nLX9aZXVj6tXTp0uJDtoo+ffq0BqIdfb3vfe8rPgQAgHdBEAkAwHvqzTffbA0lX3vttQ5nLm6obPny5WlsbFxnlmRn/r3TTju1Bo0f/OAHiy8NAIAyEkQCAAAAAGW3TbEAAAAAAGBLE0QCAAAAAGUniAQAoMuoq6tLXV1dsRgAgC5AEAkAAAAAlJ0gEgAAAAAoO0EkAAAAAFB2gkgAAAAAoOwEkQAAAABA2QkiAQAAAICyE0QCAAAAAGUniAQAAAAAyk4QCQAAAACUnSASAAAAACg7QSQAAAAAUHaCSAAAAACg7ASRAAAAAEDZCSIBAAAAgLITRAIAAAAAZSeIBAAAAADKThAJAAAAAJSdIBIAAAAAKDtBJAAAAABQdoJIAAAAAKDsBJEAAAAAQNkJIgEAAACAshNEAgAAAABlJ4gEAAAAAMpOEAkAAAAAlJ0gEgAAAAAoO0EkAAAAAFB2gkgAAAAAoOwEkQAAAABA2QkiAQAAAICyE0QCAAAAAGUniAQAAAAAyk4QCQAAAACUnSASAAAAACg7QSQAAAAAUHaCSAAAAACg7ASRAAAAAEDZCSIBAAAAgLITRAIAAAAAZSeIBAAAAADKThAJAAAAAJSdIBIAAAAAKDtBJAAAAABQdoJIAAAAAKDsBJEAAAAAQNkJIgEAAACAshNEAgAAAABlJ4gEAAAAAMpOEAkAAAAAlJ0gEgAAAAAoO0EkAAAAAFB2gkgAAAAAoOwEkQAAAABA2QkiAQAAAICyE0QCAAAAAGUniAQAAAAAyk4QCQAAAACUnSASAAAAACg7QSQAAAAAUHaCSAAAAACg7ASRAAAAAEDZCSIBAAAAgLITRAIAAAAAZSeIBAAAAADKThAJAAAAAJSdIBIAAAAAKDtBJAAAAABQdoJIAAAAAKDsBJEAAAAAQNkJIgEAAACAshNEAgAAAABlJ4gEAAAAAMpOEAkAAAAAlJ0gEgAAAAAoO0EkAAAAAFB2gkgAAAAAoOwEkQAAAABA2QkiAQAAAICyE0QCAAAAAGUniAQAAAAAyk4QCQAAAACUnSASAAAAACg7QSQAAAAAUHaCSAAAAACg7ASRAAAAAEDZCSIBAAAAgLITRAIAAAAAZSeIBAAAAADKThAJAAAAAJSdIBIAAAAAKDtBJAAAAABQdoJIAAAAAKDsBJEAAAAAQNkJIgEAAACAshNEAgAAAABlJ4gEAAAAAMpOEAkAAAAAlJ0gEgAAAAAoO0EkAAAAAFB2gkgAAAAAoOwEkQAAVITly5dn4cKFxeJN9uKLL2b58uXFYgAAtjJBJAAAFaFXr14566yzMnbs2Dz//PPF6o16/vnnM2bMmPzDP/xDevXqVawGAGArq2tsbGwsFgIAwNYwZ86cfPrTn06SnHTSSfnOd76TgQMHttbX1dUlSUovYX/zm9/ksssuy913350kefTRRzN06NDWegAAKoMZkQAAVIyhQ4dmxIgRSZK77ror++67b0444YTMnz+/2DTz5s3L8ccfn/333781hBwxYoQQEgCgQpkRCQBARfnVr36Vgw8+uFicz3zmM/m3f/u3JMmxxx6bGTNmFJvk8ccfz6c+9aliMQAAFUAQCQBAxfmf//N/5qGHHioWb9CIESPy7//+78ViAAAqhCASAICK8x//8R857LDDisUbNGfOnBxyyCHFYgAAKoQ9IgEAqDh/8zd/k0MPPbRYvF4jRowQQgIAVDgzIgEAqEgPP/xwhg0bVizukL0hAQAqnxmRAABUpMMPP7xT4eLw4cM71Q4AgK1LEAkAQMW64oorikXruPzyy4tFAABUIEEkAAAVa9iwYRuc7bixegAAKocgEgCAirahGY+dmTEJAEBlEEQCAFDR1rcHpNmQAABdiyASAICK19HMx8suu6xYBABABRNEAgBQ8YqzHw8//PAccsgh7doAAFDZ6hobGxuLhQAAG1JXV1csAqgphlEAsOnMiAQAAAAAys6MSABgk7XMiJw84RfFKiirZxfOzzZ122bA7vsVq+A9MWbC0YkZkQCwWcyIBACgyxjYf5AQEgCgixJEAgAAAABlJ4gEAAAAAMpOEAkAAAAAlJ0gEgAAAAAoO0EkAAAAAFB2gkgAAAAAoOwEkQAAAABA2QkiAQAAAICyE0QCAAAAAGUniAQAAAAAyk4QCQAAAACUnSASAAAAACg7QSQAAAAAUHaCSAAAAACg7ASRAAAAAEDZCSIBAAAAgLITRAIAAAAAZSeIBAAAAADKThAJAAAAAJSdIBIAAAAAKDtBJAAAAABQdoJIAAAAAKDsBJEAAAAAQNkJIgEAAACAshNEAgAAAABlJ4gEAAAAAMpOEAkAAAAAlJ0gEgAAAAAoO0EkAAAAAFB2gkgAAAAAoOwEkQAAAABA2QkiAQAAAICyE0QCAAAAAGUniAQAAAAAyk4QCQAAAACUnSASAAAAACg7QSQAAAAAUHaCSAAAAACg7ASRAAAAAEDZCSIBAAAAgLITRAIAAAAAZSeIBAAAAADKThAJAAAAAJSdIBIAAAAAKDtBJAAAAABQdoJIAAAAAKDsBJEAAAAAQNkJIgEAAACAshNEAgAAAABlJ4gEAAAAAMpOEAkAAAAAlJ0gEgAAAAAoO0EkAAAAAFB2gkgAAAAAoOwEkQAAAABA2QkiAQAAAICyE0QCAAAAAGUniAQAAAAAyk4QCQAAAACUnSASAAAAACg7QSQAAAAAUHaCSAAAAACg7ASRAAAAAEDZCSIBAAAAgLITRAIAAAAAZSeIBAAAAADKThAJAAAAAJSdIBIAAAAAKDtBJAAAAABQdoJIAAAAAKDsBJEAAAAAQNkJIgEAAACAshNEAgAAAABlJ4gEAAAAAMpOEAkAAAAAlJ0gEgAAAAAoO0EkAAAAAFB2gkgAAAAAoOwEkQAAAABA2QkiAQAAAICyE0QCAAAAAGUniAQAAAAAyk4QCQAAAACUnSASAAAAACg7QSQAAAAAUHaCSAAAAACg7ASRAAAAAEDZCSIBAAAAgLITRAIAAAAAZSeIBAAAAADKThAJAAAAAJSdIBIAAAAAKDtBJAAAAABQdoJIAAAAAKDsBJEAAAAAQNkJIgEAAACAshNEAgAAAABlJ4gEAAAAAMpOEAkAAAAAlJ0gEgAAAAAoO0EkAAAAAFB2gkgAAAAAoOwEkQAAAABA2QkiAQAAAICyE0QCAAAAAGUniAQAAAAAyk4QCQAAAACUnSASAAAAACg7QSQAAAAAUHaCSAAAAACg7ASRAAAAAEDZCSIBAAAAgLITRAIAAAAAZSeIBAAAAADKThAJAAAAAJSdIBIAAAAAKDtBJAAAAABQdoJIAAAAAKDsBJEAAAAAQNkJIgEAAACAshNEAgAAAABlJ4gEAAAAAMpOEAkAAAAAlJ0gEgAAAAAoO0EkAACdNv/eozNmQtPX1+csKVYDAMB6CSIBAICuYfmCTJ90Uaa/WawAALoCQSQAAFDhlmb+zPE5+6rxmfTCn4qVAEAXIYgEAAAq3IuZ8/iCNBSLAYAuRRAJAECnDTr+F5k8oenr6qF9i9UAALBegkgAAAAAoOwEkQAAAABA2dU1NjY2FgsBADakrq4uSTJ5wi+KVZtt9bKXMmfubXlg3oK8/Nay1vLteu+aj3z0qBw55KgM6du73WNKzb/36Fz1dNO/dzrito0uG95Y+9L6oSf/IuM+mqx+c07umnZ7Zr/yapavbarrtf2eGfzJ03LSJ4dkx27tnmIDVuX1F6bl3sdmZv4fXk3Dmubibn2y0y4H5fBDRufIPXfNdhv4yLjt9e2asV++KSN7LcgD99+Qu555qem19dg1AwePzt/u8ES+M21O04O6jcoF3x6XgRt43iav5q5/PCs/a96Qb8jo+zJ+v+5JJ45bi3f7frazdlleXjAzD/y6/Mdr7KFHZfdexUdvWauXvZT5T9+XB+Y9kUUNS9t+niTb9e6TnXY6OkcedlyGfrhPtit94PosfykP/+dteeDJp/PyslVNZd36ZPeBJ+akw0Zl0Ae7J89fmTFTZjfV7X9pJh8/pN1TtFeG/vnB5j4x5+ZMf+a5LCp9nXsenSOHjc7hHfWH0te9Hi2/n02WZPqNp2XSn5u//dCZ+aezR2fHtubv2pgJRydJDKMAYNNt4PIBAOC9sCwvzB6fU68Zl5semdsutEqS1ctezbNP3pzr/t8Tc8YdU/PCynbV75lFj4/PqT+8NNMXtoWQSbL8rZcy58GL8pUrzsqkF9q/9g69NTvXXXNcvjLp5jy8sCTkSZI1S7No4cxMmnRWTv3BRXngz81hzcYsn5uJ/zg+tz3dHKolycpX8+zjU/LUTqNyZEtAumZaHn6h5HHr8+fZmdN6V5ChOeijTSFk52zZ93P5q7fn4stOzLfvfm+O1xOdeAs329qlmTvtrJx6zbhc9+DMPPtG+xAySVYvW5qXn5+Sm246OafecvtGjs+qLPrPi3L2Vc3HuiXcS9Oxefnpm3PVD4/LxbMXZHnpwzakHP0zyaInL8pXrhmXmx6f3xZCpvl1Pj8lN/2/J+bsSTOzqOR3CwCoPoJIAGCrev3xb+TiRxa0FfTYNQP3OyqHH3hUDt9vUHbq0Va1/KWbc/FPpub1tqL3xNvzL83XZ7a8xu7Zsf+wHH7gURn04ZIZXGtfzfRJp2Xi8+tPslb/eUq+/YMrM7ekyXYfHJShBx6Vww8cloE7lDzfsrm57cbxueu19T9fkyW5986LMmdlkm16Z/ePHpXDDxyS3Xsk+eip+UzfQRkyuC1InPPc3HaP7sjLz/yi9RhvN2RUhm5CDrkl389FT34zX/7RlLxQEk61Ha8h2b13yQtbNje33XhqbtrA8W+ykeP1oWL7LWTtq5l+y8m57slX28q69Wn+73fw/ifJa1Ny8b2z1xsiLpozPl+/f27JnaTb+ubQ/n1bZ1O+8Mj4nDdt4+97efpn8vIj4/L1ac2vs/WYt3+NSdLwwnW5uPX3rNlfDWo+PoNKZjV2z+4DW47bURn4V+0eAQBUMEuzAYBNtsWWZq+aneuuuDJNEUnvDPnsDTlncPtwIlmV1+ddmW/9fE5rIFO6VLhFZ5cMt9hY+9L6Fr0GjM/3Rh/Vfgn28rm57ZaL8sCbLQWDctZXv5/Dty9pkyQr52TiNZdmTssMsx1G5/zTTs2g0jAtSZYvyPSpF2XSS80BT7dhGX/eNzKkJMBLR6/vwyfnki+emr1b263K6lXds133JH+8PWffNKU5sBqacd++aAPh4oLcdtn4PLAmSbrnyFPvy2n922o3eNy24PuZVyfmjB9NawvhPjgq53/pzHWO1+o3Z+aGH11XEp7tmbFfnpiRH2zXbNOOVxk0PPnNnD1tfvN3vTP08zfnrIEdLL1esyQPTz0nNy1o+YHalja388fb85WbprSGuB32zTWv5oEpX81tLX2pRUdLs8vdP9M7A4+4NOMPHpBepVMhVi7IXT8Zn5/9saVgSMZ9+9IO+ufcTJxwUZo2GVjPMUkszQaACmdGJACw9bwyvzm0SvLRcR2EVmma5TX4oowf0pZMzH2xkBC+B3rtf2l++LeFoCdJeg3JaWddmqGtQcz8/PiXLYFTm2cfurIt5Pnwmbn67HVDtSRJrwEZOfYHGfvh5u/XzM6/zC7MEltH33zuM6WhWpKUhGofHpbD61vK5+SJ5zewpHbhrMxueZ29R+fwkhByo7bY+7kk0/+tJIT88Jm5+pxxHR6v7T54VMafU3r8X8qkB2dndftmBRs5Xlvcq3mgpE/seOiVGddRCJkk3frm8M9f2LacPq/m5T+1b5IszQMz2kLI7fa7qOO+2W3XHHnKbeuGvB0ob/9Mdj/iB7lgaCGETJIeA3LSF8dnUGvB3Mx/qV2LTdQ3I8/+RSZPaP7awiEkAPDuFC8FAADeO2tLArG3l+Xt0rqCgfsdlV7d+qR++z0z6IMpWY76XhiSvztmSNZ7D5MeQ3LWyKGt366eOzPzS/e6WzU7D8xt+Vn75nOfGZ2dNnQVts2uGfmZk9OSHS7/z/vaP19R72E5qCUY6tCuOfLgAa3fzf3tnPUGdc8+N7O1bscDh2X3Qv0Gban3888z80DLjLbOHK8eQ3LW8cPagr0FMzNnQyuGN3q8trCVb6b7X++Z+u37ZLsMyvGf3LPYor1t9sneJU1efnNJaW3y5qw8+FrLNwMy9oih6++b6Z0hR5yZvYvFpcrdP7uNytiDdy2WtulxUA4qCbzX+XkBgKqxoUsMAIDy6tO3bbbSaxNz8c/nZNHK9czW23VcbrlwSm786sScf9iQ1hDkPbH/cSUz7jq23cCj0xZFzsn81qAoycIn2mYKdjYE+/BBOah1hlvh+Yr677XRwLB+wPC2MOr5WXmio8O8dm4ebg2kds2R+28gPOrIFno/X3/pibZ9Iz80KsM6cby2++hxGdZ6vObniYXr+e+mc8dri+oxKJ87eWJu/OqU3D7h+zm8g5tDt9c9799Af3v9+VlZ1PJN/6NzUHEbgKLtj8qRrXeV7kC5++ee++QjGxx19En9xn4GAKAqbPCSAACgrD50XI4vmQn1+rxL8/XvH5cx3x+Xq2ZOzdw/Lsnywl2Ft4ZBe+1fLFrXNrtk99YAZ1X+a1HbrK5Ffy5Za7ryidw77brctNGvn+a/Wh+0KoteX9r2HAU7fWiXYtG62oVRc/PwM+s+3+pnf9G8B1+SnUdlaId78G3AFno/Fy1pO17b9d+nk0trB2Rg26TPvPznP5RWttOp4/UeW71yaV7/49zMmXNzrrrpxHX2Jy1Venx22mNAJ0L57vnIrusPlcvdP+s/tGvHy9ABgJojiAQAtqI+Ofz4dW90kZUvZf7jN+e6m07LGZcdnTNuuih3zZ2fRRuY5FZO7+/ewV556+ibnUoSs9UlS1Vff6PkTslrXsrcJ2fm4Y1+zcnLJaFdw8q/tH1TtE1nXl/3HLRv25zNZ+c9WljevipPPNcaQ2bg4E93IuAq2hLv55IsKrmN9oe271NauUH1vdqOQ8NbrXcPWlenjle5rErDH+fmgdnXZeLtZ+XsH5yYMROOzqnfPzlfuemiTHxwaub/cUPrypdk0eK277br1rmfZccd1r8cvNz98/093l8sAgBqlCASANi6th+W8efdlvEHD0r9eq5Mlv9xbn42/Zv5+hVH5+vT5qRhQ/vRbXG7ZvfOTcmreO2Wj782K0+8VVK5ak7mtN5zZGgO36/zAWA7W+L97MSsyY7Ub7/hO6VvbctfuDnfvuy4nH3TRbntkZmZs/DVNLzVQejYY8/s1MkUeKcPVvbPDABQaj2XhwAA76FufTPkqO/nxu/cl1vO/n5OO2xIdu/ojr1JFj15ac6eNPM9vFnNkrzeQVa02fa/tO2OvpvwdfXQLRA4bTMkh7ferXpBHnymbfl4wzMz03pf5/2PztCOD3/nvNv3s3j3505aVDqzr8Isenx8zpg0td0swiTptX2f7P7Ro3L4YeMy/tSbcuM378vkb07M2N3at1ufl9/Ywjd22Zr9EwCoeoJIAKCCdE+vDw3KkcMuzRXn3ZfJF/40V5/6jYzdf8/2e8y9NDE/W1hasKnaL//dsFV5e0O3f27Vfsnsjtu3bbBYX7q8+K0338MQdV0DB49uXXK96Ok5zTeFWZon5rXEkN1z5KAhre3fnc15P9svcf/zW+vfe7C9VXl7edt3O+3w16WVW9dbM3PbzNbppskHj8r4s3+a2yf8Ird8dUquOHl8zho2KkP675r6Hk2BbenS/vb65kMlP9rbKzvVOfP6GyX7QBZUUv8EAKqbIBIAqFzdemen/sMy8viJuf38izK0dabcqjzx+/UHKxv3dt4uXZa8Ec/+sRP/rVUL8uyfW77pk93/R9sMwJ0+tFfrv7PwiTzb4d6I75EPD8vhLUnkn2fmiTeTvPVo5rTc9bjbURlacsOZLaqT7+dOfdv2M1y98Lm2O2hvyNrn8kLJ27RjfeXM0Fv05JQ82/JNt2E5//8ZnyEf6r2BG7i82i7ULtq9b9uNZxpee7FTweHLS9Y/W7Si+icAUNUEkQDAVrI08x+5LlfddHLO/v7RmVgyYaxDvYZm6MC2bxuWrf9mJIveWP8dk5Mkf340czZhuXXDM4/m5fXOUGuy/PlZbUubex+dg1rvoJ1s1//TaXvpc/LAvE7M8ls5O1dNODpn/ODknH3DN/PAFluBu2uGDWkJsl7NwwuWpGHBrLzQXLLj0FHZu6R1522593PHPQ9qu1P2n6dl9h9bq9Zr9QszM7t12fOADNqt46XgW8PrDSVv3sDhGbSxl/bm3Mx5o1jYZse9h7Ydn4W/aL/XZ0dWzc6jzxQL21RW/wQAqpkgEgDYSvrk/ctnZ/4fl6ZhZTLniY3t+9h+6fPAnUtmcRVm0eWZJ/LseoPDZZn7y6mdm2XXomFKbnp8/TPKsnJufjx9buu3Ox18VHYvre89LIcPaPv2hfsvzPQNBE3Jssy/f2LmJ1n+1tI0vPH+vL9tpfe7tuN+bWHjohdn5oHftaSGfTN0YNtsu02zBd/PDx2XkTu3fLMkP/u3qVm03vez6fjfdO/srG75/qPH5dPbt29SMf6/JRs+LmtfzfSf3pxFxfJS7Y7Pgtz10NyUrEovWJb50yemrXd2oML6JwBQvQSRAMBWs/eBo0tmdl2Xi38+J693dMfktcsy//5vZlLr0uchOXxg+7s6t5tFt2Zarrt79rp3Y171ah6++8xc98ymrz19+cGv5vI5C7K88Jyr35yZ6264KHNWNhf0GJWzDi4uC+6eoUecWRJOvpRJN47PXa92MC1zzZLM/fk5uerptrrdjzrz3d08pmj7o3LkR5v/vXBK2/6MO4/OkR8qabeJttz72SdHHnty23P98eZ8/YbrMvfNdd+3dY5/9szYI4alV/tmW9Xuuw5q++a1ibnql6+2haYlVr8xJzfdcFYmFWeAri3+3O2Pz/KnL8p5d89c91h30Jc6VmH9c6OW5PX/WyxrsSTTbzw6YyY0f924iR86AABlVdfY2NhYLAQA2JC6urokyeQJvyhWbbIX7j8xF/9naeDRPfUf3j+D+jVNsVr95oLMe+XVdgHg3sfclks+WQz7lmXu1DHtQ8Ztemf3vYdm995Jw+I5mf/Hlv/Onhk7YtdMemh2kmSnI25b566/8+89Olc93a6oSbe+GThg/+zYfVVeXzgnz7YLx/bM2HMmZuQOJUUllj9/Xc6bUpgp2GPXDNx7QHbsnqx+8+k8sXBJu5Cq1/6X5ofHD1knWCt9fR29/o1Z/cylOXXqnHZlex8zJZd8sn3AW7Sx/+6Wez+TRU9+MxdPm99utt92HxyUg/r/dbbLm3n5+afz8rLS498nh598c876aO+SsiYbe91ltXZBbrtqfB5oDUtL+1GSVX/KCy/Mz6LW+j4ZtOcHMv+l5lm4+1+aycevewOhRXPG5esPlu5f2j079h+agR/s3uFxbrWe59ua/XPj7Zdk+k2ntYW02/TJwIEHZcfuyUeGjM/hrc2XZPqNp7WF3B86M/90dklAvgWMmXB0ksQwCgA2nRmRAMBWtfcxt+WCg0uXA69Kwx/n5uEnZ+bhJ2dmzsLSMKVPhoye0mFolfTOkM/ekNP2LAmh1i7Ly883PU9rCNljUE47+7qM3ISZfzsdcV0uaPlvrlmSZ5+ZmYefnN0+hOw9NOO+uv4QMkl6fXR8rjnjzAwqzclWvtr8fDMzpxDy7HTwpfnhZ9cNebaE7QYenaHtSobkyMEbDiE7Y8u9n8lOB34/Pxw7OjuVXLGufnN+5jw5Mw8/Obd9CNl7SE47+/YOQ8itbpsBOe2M8e3f99Z+NDMPP1MSQu5wVMZ/+facf9j+bTezeem5vNz2yFY7Db0uVx8zqKR/rMrrC2cXjnPvDBx1U8bv3/a4+pI7upeqpP65rr4ZdljJTNe1S1tf1wMLbVAJAF2FIBIA2Mp6Z+BRN+X28ybmrMOGZPft+6RX6RXKNr1T/+Eh+dzI7+efLpyS8fttICzrtmuOPGVybjxrfEb237Xd8/TaYVAOP+b7ufG87+fID23qOtI+GXjMbbnl/yk87za9s1P/ozJ27G25/byLMrQT+xL22nl0zv/qfbl67Jk5vP+uqe9RWts99TsMytDDxueK8+7L1UcNaX8stqRthuTwISXHYcDwHLSph6VDW/D9TNJr7zNz9YU/zRWfPTmDPtwn9a132k7So092/+jJOe3U23L7eZduxvv6HtrhqJz/v6fkgmOOysAd+rS7Y/Z2vXfNwAPPzPj/56eZfM74DPlg92Tng3JQS4Nls/NEcbl2kqR7dvrk9/PP503MWQcPyk69S37+bn2y+/5n5vwvT84FB+7a7r/3/h7vL/muvYrpnx3o9dFv5IdfOjNDdmgfNr/8543cnAoAqBiWZgMAm2xLLs2uVBtfKgpdR2l/HjT6vpy/XwWHthXO0mwA2Hzv4WeYAADAu/bm1Hz7spNz9g3fzMTZczd8F+4kyUv5r9atJPtk9/8hhAQAtg5BJAAAdCXde+f9a5am4Y35mfPI5DzxVrFBe8sX/DTTW+4f1O3TGWhyLwCwlQgiAQCgK+l9UIbs3PLNgtz2f27PC6W3Fm+1Kq8/e12+9a+zW28ys9Ow0RloBAAAbCX2iAQANpk9ImEr++Pt+fpNU7KopKjXDoMyeLe/broxzbIXM/+ll9KwpqTBzmfm6i+1vws5m84ekQCw+QSRAMAmE0RSjV6fc1a+8uCrxeJ3pZx9Z/lrt+fKH03JC2uLNeva6cCLcsHIoakXQr5rgkgA2HwuRQAAoAvqtfOpueTCn+aKz5+Zw/vvmvpupbXdU7/9nhl02Phccd59uXqUEBIA2PrMiAQANlktzIikBq1aloZVLbspbhndu/dJLzepripmRALA5hNEAgCbTBAJ1CpBJABsPgs0AAAAAICyE0QCAAAAAGUniAQAAAAAyk4QCQAAAACUnSASAAAAACg7QSQAAAAAUHaCSAAAAACg7OoaGxsbi4UAABtSV1eXJJk84RfFqvfW2lVZ9MrMzPnVL/Lwoj+kYdmqtrpufVJfv1sGDhyWkUOGZffe3UsfyXtmSabfeFom/bmkaP9LM/n4ISUFsBFrl2X+gxPz5yHfyJEfLFa+t8ZMODpJYhgFAJvOjEgAoEta/edpueoHx+Xrt0/Mz55/qX0ImSRrlqbhjfmZ88h1+fY1x+XsSdOyaE37JkDla/pdPzFXPf5SVhcrAYAuRRAJAHQ9b0zNxTdOzPxlxYr1a3hhYr7+o6lZtLZYA1SktcvywuzxOXUTf9cBgMplaTYAsMm26tLstQty21Xj88DKYkXn7HjoxPzTiD2LxUClef7KjJkyu6Rg14z98k0ZaWk2AHRZZkQCAF3K6md/um4IucNROeus23LLhb/I5AlNX7eff1suOGJI6gtNX3/8F3mhUAYAAJSfIBIA6FJefm1u+4Leo3PJ2eNz+If7ple3tuLtevXNwKGX5opjBpS2TtY8nf96s30RAABQfpZmAwCbbGsuzZ5/79G56umSgh1OzdXnnJydSoo23dxMnHBR5pSU7HTEbbl6aN+SkmadWC76+pyz8pUHX20raL5L9Oo35uTeByfn4ZdeSkPzjXO2671nDjr0zIw9cFDqS4LUDq1dlpefnpJJc2blv95Y2nzjju6p32GfDBo8Osd/ckh2XN9zFF/3/pdm8mf3ytzpF+Zf5r2U5WuTbNM7O+12VIb1mZY7nyq5+U/9ybn6f5+63mO8+pmLcurU0oB4aMZ9+6IM7Z5Nu2v2miWZ/5/T8sCzs/JfS5Y2vaZm2/Xuk512Gp6hnxiVI/fum+1KH7ceq9+cn9lPT83D8xbk5bdaNhnsnvrtd8nug4/LSZ88Krv3KjyoVfF1N73Pw5ZPzb/cc3vmvtl0fLbrvWcOGvGNnDV41069phZtr+3FLHqr5b1s0vSzHp0jh43O4X17l9R0bPUbc3LX9Nsz+5VXm49Z99R/eGhGDju16VgV3/sPnZl/Ont0dix5jlZbso+1/HfWLMn8/5yS6fPm5Nk3mt+Hbn2y+8ATc9JhozLog+3vaL/O7896DD35Fxn30WJp+VmaDQCbz4xIAKBLqd++T/uCN27PxIcWtAutKs+bTTfduOHSpjt8l9y9e/WylzLn/m/m7H+8KA+/UfqY9lruHPztn0/Ns60BUZKsSsMb8/PwgxflK1eclUkLO3tXjzcz/+dn5ronm0PINIVQixavyt4HFUKqhtmZUxoktrMqT/y2/SzV7YaMag4hO2/5a7fn4itOy1UPTs38P7YPIZNk9bKlefn5qZk06bScesvteaG4PL/UmlfzwKSTc+oPv5nbHplbEkKm6Xi99VLmP3Jdvn3V0bl4duf7zuo/Tc1lt9zcGkKm+f1rWPuBTQghV2XRnPElr619CJnWn3VKbvp/T8zZd89Ow3pf37I8e/9pOfWGSzN9YUsImaaf8Y+zM2nSafmHO2Z2+gZNW76PJQ2t7+vMthAyTXe1f/npm3PVD8fk8ic3HjoCANVBEAkAdCm77/HpdUKfl385PmdcdnIunzktz/552TrBzlb39HW5+JEFxdL2ls3NTTeOzwMdLRvv7F3C176a6beflonPb6xh02u66ul12w08Ykz27ntcRu5cWrok059cz+tfNjsPP19a0D3D9htUWrBxb83MdbdMyQudDMzy2pRc/JOpeb1YniQr5+e2G8/KbS8sLdZ06IVHxufLGwz7Wryau/715rxcLO4xKicNLoTjG7D8mUvz9QfXcyw70PDslbn88SXF4iSrMv/np+Xy/+yors3yl67L1/+1dAbvepSjj705JVdu9H1dlmenXZbpHfV7AKDqCCIBgK6l/5j8Xf9iYZK1S/Ps4xNz+Y0n5tTvnphvT7k9D/9xaVZvMAR5j+08Ouefc1/TDXW+PSUXHDEo7VYGr12Q26bNTEOx7JZCAPbBozK+9XluylkDS4OwZZlz98TML1lZvSG7H/r93Fhyk58LDuyTpE8OGtw+TFz95Kw828GxbHj2F3m2tKB+dI7YtbRg416YM7Hdc/Ta88xc8L9/mttbbjz0zZsyfnBhmfwfb86dzxR/yGWZc+83C2Fu7ww87NJc/e31P9fyBVfm4tkvtStbrx5Dc1bLsZ/wi0z+5rjs3ekr6gW5d3phj9MPn5wLzmt+vu/clxtPPTUDC0ufF82bnUXti5JXb84N8wphYLt+MSUXHFbYH3V9ytXH1izL8nTwXAOKy81fzfR5bcd/x6E3NbU9eVi7Vk3L49v66tZYlg0AvDudvmwCAKgMfXL4316aoT2K5SXWLmta2nrTyTn1u8fl2/dOzfyS5bRbxYdOzdVfOjODdmhes9y9TwYO/X4uOWLP9u0WTszPSlaqNsy9qf1dwnsMy/lnjc+Q1ufZNYd//ub2ocya2Zk0d8Mz5ZIkO4/L+SM63puyfr+j0m4XxzXT8sCzxWO4NE880352305DjlrvXpIdW5L/Wlj6vLvmM8eMzsD63q0zX7frsWuGfPa6nNa/e+o/PCQjj/hGLjj7pzlnYGH998Lbc1NhdubQz9+WC4YNyU7NTZue67ZcXTjur//yyk7MyuueI//2ohzecuw32YCc9L9vyxWfPzMjP7pn6rsNymn/69QM7N38fNt0T33/kzP24OL2A68WZn+uypzHpzWFfC26Dcv4dv2iTwYOuy5Xj9h4KlzWPlZ/cq44p/hcF+bIQp9reO3F9gE8AFCVBJEAQNfTY0jG/e/rMnbvziyJXdW8F91x+fq0OZ1YglsO3XPkMSdnpw6uvHY6+MxCKLMqT7zQMjtsaeb/rn3QVz/kxAxaJ4TtnaEHtJ89tujpOR0vXS4xcPCnU18sbNF9WI4c0j5wm/vcnPbL3t96NHNeKy0YkCP26+AGP5vk1cyZ19G+jX1y5Kn35cazLs3YocMy8EO9s12747kqc56Y1v717Xxmxg4szr5rstPB52Rku6pXc9d/bmTJdLejMrSj2bibYLsefbP7wNEZe/LE3Hjh93Pk9sUWyft7fKBY1N7apzO/8FJ3GnZqhqzTL5Kdhp6ZocXCdsrbx3YaclR2L/b7bQZl0MBC2dsVuKUCALDFFS8LAAC6hh4DMnLslNz+5Uszdv8919k3siOLnrw0Z/9o2kbDky1vaAbuVixrts2gDCysoG2bHfZinl3Yvm7gzoUZlC123Kv9TMQ/z89/FScwttM9O+244SB34H5HtT+uC2ZmTslq4NefmZYXSusHHJdhHQRrG9Y3H+nfPvBcNGd8zrjsxHx7ys2Z/uxLeX3lBn+QZk/n2UI4t8GgdZsBGVrY23H1S/PXXQJdape9Or7T9BawevmSvPzCtNw1ZVy+9dBGbt7y5ouFvSr7ZEj/9QTA2+yfQRtcwlzOPpbsvsN6XhcAUJMEkQBAl7bdB4dk5PETc/t37svVp47L5z66Z3pt6ArntYm56cnO3chki+nWO/UbeE071hcCwZbZYQ2vrhOMzZlydMZM6ODrhzcX2v4pr7/VrqCgb3bseLJgm11HZWS7JG9+Zj/bcuxezey57QOzIfsM7VQgXLT30HEpTpBrWl4/NZPuHpevfP+4jLns5LZ9P4ttk+TNV9uHoknqe284aK2vL6TD6yyBLtj+g+sPNjfR6rdeytw51+XyG07OqROOzqlXnZZvT5qYnz1fchfz9fn/iv3iA3n/OjMYW3TPTh/awHEoax/bNTv9j2JZk50+tPEl4wBA9dnAJTEAQBeyTffs1H9UTjp5Ym75zn255eymmZIdhZLP/uesDQdOW9oH+24wwFrvUty16Th065RXs+j/K5Ztql1z5MHtp2u+8GTzsfvz7Mwp3dSv26gcWdyzsbO2Pyrnnz0ugzYUjK5Z2rbv52XjctOCdx8mbyyoLIuVCzJ90sk59Qfjct2DM/PsG+sJVreg9favlL+PtV8+DwDUOpcGAEAV6p5eH2qaKXnLt2/LacV9/f784jqzwMpqI/+9t1f+d7HoPfDBvL8TuWH9gOHZu7TgzzPzxJvJomdntwtztztweAa+iyvL7T40Kuefd1/+6dRxGdm/74ZnVq55KQ//65mZ+HzhrtGbqGHZpoWZ2/XYUFLaCWtfzfSfjM+kF4r/3aab8Bx+2Licf9ZtuWLYlp0tuHX6FwDAut7F5SIAwHvr9cfHFZaLXpQ5G9mjLt365shPtb/JxruxetXmhF9L07CBh73eUAim+jQvAf7grtm9fU2GnvyLTJ7Qua92dzleR5/UdyZX2/6oHNluUuSreXjB3MxfUHrH5L4ZeWBho8vN0j079h+Vsafeltsn3Jdbzv5+xh0xOoM+3KeDma3LMuf+qW0B7wd3bR+YdiJofP3Pz7Uv2GHXDe4B+aHt390MytXP3p5Jfywt6Z2BxzRtK3DjWZfmrGGjMujDffP+Du5i3s7/2LVwZ/L/ztuld71uZ1UW/XkDx6GsfQwAoL11LukAACrVjrsdVFjiPDc/nj43y9uVFS3L3N/OKZRtfCrg2yvfLhYlSRb9+cViUSfMzxMvrCeJXDt/nZus1H9o1+YZgbtk9w+3r3v5jdIA8L3QPUMPGtVuhuKiX16Ze/9cUrDz6Bz5oZLvN8mqLG94KfOfnppJU8bl7MvGZfqbaZ7VOihDh56Z88+aklsu/GkuGFK48UnDkpJZmftnYCEUe3beo803/enA2gV54tn2KXb9gIMKAd+W9ezvC/1wh9E57ZN7rrN8edXG9oj84F6F8HBp5i5cT79YNSdPPF8sLFUJfQwAqBWCSACg6/jwsBxe2Gxx+dMX5YwbrssDC1/N8tJcadWyvP7HmbnphhNz3TOFaZMDBhVujrJLdi8EaQ0Ln1s3xFo5N9PnbmB22QbMnzkx8zuYtdYw7//kgTWlJX1z+H4tdy3um6H7t59puOiXt3f4PGW129AMK52lt3JZu/B37/02cHfqjXn15vzDP47LVffenOnPv5SGNS/lgXkvFVsl2/TOR3bdpVhaonsO2ndo+6LXbs6kZzsOgBc9fkOmt6sakM8NWc/doreUYsC4ctW6+zOufSlzntzIXbO32T+DChNQF82+PXM76BeL/nNK5hYL26mQPgYA1ARBJAB0IX/5y1/S0NCQxYsXZ+HChXnuuefy1FNPZc6cOfn3f//3/Nu//Vvuvvvu/OQnP8lNN92Uf/qnf8qVV16ZCRMm5Bvf+Ea+8pWv5KyzzsoXv/jFfP7zn89nPvOZ/M//+T8zdOjQHHjggdlnn33Sv3//9OvXL/X19Xnf+96XT3ziE8WXsRXtmuNHHpVexeI3Zua228/KGVeULNu+4sR85abr8vAbxcZ987lDhxX2IOybj/QvzJJ8bWKuemh+Gtakadben+fkppsuypzNDWhWzs5VN1yah//cfEfsNUvz7Jxv5rxp89u3++ip+UxJKFo/eEyGtgsBZ+eqm67L3JbnaXltPzwuZ9zwzUycOTVziqHsu7XNoBwxtDAbsdXQHDn4XSxZ3nV0TirMyHv9l9/I5XPmp6HlZ1i7Kg0Lp+aq6YVIbcBB7QLl7fY7M2PbPdeqzLn7tFw+e24WNT/X6pWvZu7PT8vXH2wfdu5+xPgcuX27oi1unTtFL5uS6+6f276P3TAuP1snAS8u7e+eoYee3H4Z+ZrZue6m6zL3jeYfdFXzz/nQRkLNSuljHdlxr8IM1Vfz7CtNB2L1Wy9l0Qbv2A0AVKK6xsbGxmIhALB+a9asyYoVK7Jy5cqsWLGi3b/fTVlH9StXrmz9euedd4ov5T1TvFyoq6tLkkye8It25e+VRXPGrRMkddbeR92USw7u4GYgf7w9X7lpymbcTXvXjP3yTRn5wbaS1+ecla88WAiAtulgRlxRj2E5/39/I4N6tC9e/vyV+fKU2RtZgt5er/0vzQ+PH9IW2j5/ZcZMmV3SYljOn/CNDCop2aC3puXiH0zMC8XyAd/I7X9bDHZLLcn0G0/LpNKl3PtfmsnHD2n7/o2p+fYNN+flkiYbt2fGnjMxI3coFK+cm4n/uGmB8TrHKunwde90xG25er2BbCe8NTOX/+C6PFss36hdc9I5N+VzhZ/1hftPzMX/2fGMzw360Jn5p7NHtwsyy9PH1v3daLHO70gHrylr52bidy9KcWOFFkP/9hcZtyW2Jt1EYyYcnXRwXgQANk4QCUCX1NjYuMEAb33/3pSylq/S7//yl78UX8p7Ztttt02PHj3affXs2XOdss7UbU59qa0dRCZJw4LrcvndM7NoY+Fei212zeGfvzJnDVj/7L1Fj4/P12cWNmwstc2AfO5LR+f1W64rCUfWDVvWCVkyLOO/elAevenKzF1fbtR7aMaddVGGrmdW3vIXbs7FU6Z26ufd6cCLcsHIoakvXfuyTki0iUFkluaBW07Oba+VlnXPkafet+5dydtZN9BbJ4hMkrfm5KbbLs3Db7Yv7lDvITntixflyA+tZ6/PlQsyfep3O7g7dVGfDDriOzln6IB1Z9l28LrfdRCZZPnz1+W8KTPXXfbfqk8GHfGNDHr1m7mtZG/HvY+Zkks+Wey7yzL/52fmqnnr/znrB1+Uv+t2Za6bWzJ9saPQryx9bN3fjRbr/I6s5zVt6EOHLfF+bA5BJABsPkEkAO/KqlWrNhjmbU5ZMfzr6GvNmnab6r2nunfvvtHQrvi1ofoN1RXrt9tu/fPO3kuVEEQmTUt2F700LQ//elbmLP5TGt5qn/L12n7X9N9taIYcMCzDdtt1nZuCdGT1m3Ny17TbM/uVV7N8bZJ0T/0O+2TQ4NE5/pNDsmO3uZk4oXSW1rphyzohS0vot2ZJ5v/n7bnrl7PzcvOMvV47DMpBQ07NF4YM6ODO0AVrlmT+f07J9HlPZOGbS5tfX9P+ifUf3CsDBw7LyCHDsnvvDgK6dUKiTQ0ik9XPXJpTp5bMT+t9cq4479R17rrc3rqBXodBZJJkVV5fODOzf/WLPLzoD2lYVhKe9eiTnfodlMMPGZ0j9+zke7nspcyZe1semLcgL7f2jbb3c+SQIdmpg0PVZN3XvcWCr+UL8sDMG/Kz519KQ3M/2K73rvnIfqMz9tCjsnuvpOHJb+bs0mX79Sfnii+fmt07+LmXvzotd86emjkLlzQtpd6md3ba7aiMPOrkHN63d+bfe3SuerrkAR8+M/901rqhX7Kl+9i6vxst1vkdWU8QmazK68/enptmz8yzbzS/h82v5aBh/zunDdwC78cmEkQCwOYTRAJUgXfeeWedMK+jgG99ZZsSABbbbC11dXXrBHbF0K6jr3dTX1q3zTYdpAE1pGKCyAq1TsiyGaEfbCnrBJHrDYLpDEEkAGw+QSTAFlQM+4pBX/HfxbINfW2ozerV69x39T3TrVu3dQK7joK74teG6jpb/773va/4cniPCCI3TBBJeS3J9FvOyfS1AzJo74MyePf9s3e/vqnv0cEsxQ6W1O9+1G254uD3fiZhtRBEAsDmE0QCVWf16tXrBHwdhX7F/1/f18bqS9tszVPq+973vnXCuk0J9Yplnalrqe/WrfR2q9QCQeSGCSIpt3VmOSbZfcTEXHjwnunVfEpevfzVzH/wO7lu3pKSVgNy2levK/sdwquZIBIANp8gEiiLxsbG9YZ+xbKOvjZUt7E2q1aV7Cn2Hqurq9tgcLehundb37Nnz9ZwCMpNELlhgkjKbjPv8t5r8KX5588O2cBdztkYQSQAbD5BJFS5v/zlL+1Cu9IgsKOvDdVtapu1aztx280y6dat2wZDu86EesWyztZbLkwtEERumCCS98LyFybmW5OmdTqMrB/4jVwxelj7O12zyQSRALD5BJHwHnjnnXc2GACur3xLtPnLX/5SfDnvqfe9730bDO02FuptrH5DdZYLQ/kIIjdMEMl7Zs2SPDtvZh5+bk6efX1J+zuNp3vqt98luw8cniMPHJVBO3S0hySbShAJAJtPEElNKYZ0HQV3xa8t1WbNmjXFl/Oe2WabbToV3G2o7t3UWy4M1UcQCdQqQSQAbD5BJDVj7dq12XbbbYvF76nttttuo6FdZ+o3VLe++u7dzYIAthxBJFCrBJEAsPkEkdSMNWvWZLvtmrZm31hot6XqO6rb2mEowJYgiARqlSASADafIJKasWrVqrzvfe/LNttsk3feeadYDcAmEEQCtUoQCQCbTxBJzVi5cmV69uyZbt26ZfXq1cVqADaBIBKoVS1BZJrPhcWv9ZV39LUpbTe1fVdru6ntq7VtJbfrTJtKb9eZNpXWDqqNIJKasXz58rz//e9P9+7dt/qdpAG6upYLY0EkUGtKg0iAchLXUI0EkdSMZcuW5QMf+EB69OiRFStWFKsB2ASCSKBWtQSRa9euTWNjY7uvNAcHnfkqR9vOtutqbTvbrqu17Wy7rta2s+26WtvOtttSbW0pRrUSRFIz3nrrrfzVX/1VevXqlbfffrtYDcAmEEQCtcoekUC51dXV2VKMqrVNsQCq1dq1a5PEXasBAACoSC3j1m22EddQnfRsakbLtHYndAAAACqRIJJqp2dTM5zQAQAAqGTGrVQ7PZua4YQOAABAJbOlGNVOIkPNEEQCAABQyWwpRrXTs6kZgkgAAAAqmXEr1U7PpmY4oQMAAFDJjFupdno2NcMJHQAAgEpm3Eq107OpGU7oAAAAVDLjVqqdnk3NcEIHAACgkhm3Uu30bGqGEzoAAACVzLiVaqdnUzOc0AEAAKhkxq1UOz2bmtFyQt92222LVQAAALDVvfPOO4kgkiqmZ1MzfLIEAABAJTOBhmonkaFmCCIBAACoZMatVDs9m5rhhA4AAEAlM26l2unZ1AwndAAAACqZcSvVTs+mZtj0FwAAgEomiKTa6dnUDCd0AAAAKplxK9VOz6ZmOKEDAABQyYxbqXZ6NjXDCR0AAIBKZksxqp2eTc0QRAIAAFDJjFupdno2NcMJHQAAgEpm3Eq107OpGU7oAAAAVLKWceu2225brIKqIJGhZjihAwAAUMlMoKHa6dnUDCd0AAAAKplxK9VOz6ZmOKEDAABQyYxbqXZ6NjXDCR0AAIBKZtxKtdOzqRlO6AAAAFSyd955JzFupYrp2dQMQSQAAACVzLiVaqdnUzOc0AEAAKhkxq1UOz2bmuGEDgAAQCUzbqXa6dnUDCd0AAAAKplxK9VOz6ZmOKEDAABQyYxbqXZ6NjXD3ccAAACoZC1B5LbbblusgqogkaFmOKEDAABQycyIpNrp2dQMJ3QAAAAqmZV8VDs9m5ohiAQAAKCSGbdS7fRsaoYTOgAAAJXMuJVqp2dTM5zQAQAAqGTGrVQ7PZua4YQOAABAJTNupdrp2dQMJ3QAAAAqmXEr1U7PpmY4oQMAAFDJjFupdno2NcMJHQAAgEpm3Eq107OpGU7oAAAAVLJ33nknSbLtttsWq6AqSGSoGYJIAAAAKplxK9VOz6ZmOKEDAABQyYxbqXZ6NjWj5YRuijsAAACVSBBJtdOzqRlO6AAAAFQy41aqnZ5NzXBCBwAAoJIZt1Lt9GxqRsvdx5zQAQAAqESCSKqdnk3NcEIHAACgkhm3Uu30bGqGEzoAAACVzEo+qp2eTc0QRAIAAFDJjFupdno2NcMJHQAAgErWMm7ddttti1VQFSQy1IyKCSKnjU1dXV3qvjijWJOG+y/MiL17NtXX1aVu78szr9ioy1iZhXefkbHXLyxWVLSVL96TM744Me1f9cJcu19d6ur2ybUvtquoQjMytrn/jZ2W5MVrs09drfzs61p49T7r/X1dr5bf8bqxmVH6HPtdW+hXAFQt13sVzfXe1r3e6/j4b0zLa266vqp47+J6sGLGrVAmejY1o+JP6L+9MAcce3lmvbgy6dE3fXfum7779U2/YrsuYuF1h2SPk27NvJXFmgr28rU5ZO/RubVLvWgAoMtwvbf1ud7buhz/jar4cSu8S3o2NaNiTuijJqWxsTGNPzm2ffnChU2fjn3qhixesTiL/7A4i+85PX3bt+o61nTBi4s1Scevun++9kxjGhufy9f2KtYBABS43qtcrve2rvUe/405NpMaG9PYOCmF36qqUzHjVigTPZua0WVO6Hv377oXo1SBPunTI0n6pn+/JLv3z+AkSb/U9y62pUN9+qTpEPZPvyT992o6gtmxPj0LTQGoUa732Kpc75Xdu7ge7DLjVthMejY1o2I2/S3uGdTy/XGTm76/Y2TzfiIb36Nlxhfb9nZZ+eI9OW/4HunZst9QnwMy9vrH07Cm+KhmbzyeiV88IP16Nrev65l+Q8Zm4qMNhYYNmfHFPs3PeUZmLCtUr1mQy/dreo4+X5yRhub9W/Y4f0GSZMH5e6x3j6RN9sa83PqdkTmgX8m+Ss2v+9r7F67309WG+bfmvOH7pM92zY/Zrk/2GX5e7nmx7REzvliXur3Py4Ik+e152aPdHjQb3jOoM8/fqmUPnv2uzcI1DXn8+rE5oE/bz7LH+h73nhmcQ45IkgOyz8eSdBvQ9P89BmSf0hFTy2svfS/67JMRX701894oaVeqg8f07LeRfrqmIfN+fGFGDunX1rdbHnf1jCwsHKqW/Xf2uXpBFtw8Ov2a35M+Q87IPS+3tVv54oxc26n+X6L5d6b1fe7ZLwecdc86ryGDDsnwJBmyTwYkyYCm/++x7z4GnQC1wvXe5nO99x7oxPVeyc+w4He3ZvQubX3ujLtLdjnchOu7DR//kj0gG2blvMHNz9dzj4z43uNZuZE9Ipt+Nzb+/rTu1XjC5PX2pVlnN/239/hOU/9u1enfp3d3PSiIpNrp2dSMij2h9+jXtD9QffP33eqbvt+5f3p0K7Rdj4a7z0j/vUfn2tkL06PluRrmZfKXD0mfY2/NkmL72edkjx0PyTl3zMuSlT2a//srs+TXk3POoX2yx5dnpe3PaX2OvXFSTq9P0nBrxn778XbPteDq0bnwt0nqT8+kG49NfXqk385907dHc4OW/Y92aCnYTL+7NgfseEDOuHRG5i1J8zHqmx5pet3nHbtHDrm6cLGQZMF1h6TP4DNy7ewFaUjTsa1PQxbMvjaj9+6XsdOaftIeO/RN37YX3fz8/Zo+yVyvhsz68h5tz9+t6TW1PX/PHHLduq8pSbLmqVx+aJ8c8uXJmbey7WdZOPvajN67f857tPiA9WjdCLszXx1fuLXXIwP27Zv0HZwBvZNkQAYMTnLEIc2flDcNRq49uPm1L1mZ+pb3omFBZl13Rg7Ye3Qmv9buSZOGWTlnQNtjevTtm74712flkuZ+OuCczCpewzX/dw740uWZ8eslSd/mvtQjTY87f2T2OPTaLOhg8LX0rrE55Kx7sqR30/va8GKP9Nu5qa5h2hnpv/fInFfa/3u09f8DOuhHmXdZDunX9DuzsqWvrFySeTePzh79z8vjpa+h94AM7pv03XdAU//Za0AGJxl+cOsRBKDWuN7rHNd7Hdsa13st3piUsQefkXuWNB3XHg0L06Nf/6a6Tby+69zxn5cLjxiRa+c3vf/1axYmO/Tf4Hu04OYR6bf36Hbvf99ube//iJvb3p/+J4/LwUly79TcUwzck2TNrNzz45VJBmTcFwe0Fm/a79O7ux6s2HErbCF6NjWjYk/oR1zTtD/QT8Y0fX/ypKbv/zA943YvNu7YjDtuzcrjb8nvVzRm6R8WZ/HSxiy9Z0zqk+TBc3JZ6UXOa7dm9PCmu9QN/tZjWbp6RdN/b2ljlv7ymgyvTxZePyJjp5T8Ke19bG6YfHrqkzRcPzYX/rq5/NcXZuS3FyTpnwsevCXH9k6S4bnmD4vz2Heb/nAP+O5jTc//g+Ftz7fJFuTCY87LvCQDvl7ymv+wOCtWL830f2i6GJp3/rXtL7wePSeHfPXxJPU54Ue/z4rVS7P4D4uzdPWKPHfF4CQNmXzc6Zm8LBn+g8VZ/MvLmj6x3PeyPPaHxVn8h2uaPslcj4YpYzPi+oVJ+jY9f/NeT0tXr8hzPxye+iSPf/WQnHF/B5+3/m5ybv3V4Fzwy6VpbH7cihXP5bJPJMmSXPuddQcU75XBVyxO4+LLWi9ET5jcmMb7xrReAK68+8Kc9+skn7gsz7X0udLX33BPTr9iVskzLsmtJ4zIxBeTfOKCPPZ6Y1YsXpzFf1iaxtcfyzVH1CcvTsyIL05udwG34Lsjm/47+36t5DGLs3hFY5bOGJf+SfLr83LtgyUParbk1/PS77vPZcXSxVm8eEVWLL4mB3dr7v/HNR3bdv1/RdvvzLzzRzYNtkr99vE8vvu4TF+8oul1LF6RFc80H6Ml1+bCH5e+W4Nz2eLGLL6i+Qh2OyGTGhsz/eQNXUIDUNVc73WC67330sau91otmZd5O1+W5/676biuWLE413w6m3V917njvyDzfjsmU19vev+XrliR6X+3gTmEj56TQ86alYbC+794xYr8/q7T0z8NmXXWyLb+vPPojP1UktyTqdM6eM9+eU9uXZnkU+MytmWv0M35fXoX14PvvPNOUonjVthC9GxqRsUGkVtCj3GZetfp6V/yd63++FszcVSSrMxjc9uWTzx+1TmZlaTHyVMz64qDU1/yKXz9p7+W6T9pugCZ8e1rmpZNNOtxzA2Z9Hf1SRbm8r+7PAtWPp5zjrg8C5MMuGJ68wVVmfxuRmatqU96jMsNhdecbvU59qrLmjetfiwLWpfSrMzkqyamIUn/b83K1L8r/SS1RwZ8a0Zu+FRSv/OCPFcMnTplQa75dtNl8ICrHlv3+c99KLO+1T9JQ279bscXmQf/cEYu+3TL1IgkPQbkgn++oGm5xuzH81RJ2/Vq2Qy/U19bZnPvxa819YwBJ5yQAaXXUi2vv1t96p+Z19Z/Hr0s58xO0mNMpj54WQ7eoeQxOxycr90zKWN6JJl2Ya5pfS8WZMbsFanv1iPjfnhN+8ckqT/mmlw2qunfj/22ZHlQqzG55lvNn0An6dGj6V/zbrwws9J03Nbp/8dPytR/qE+PviuyYF7xHTs4N8y+Ice2foqf9Nj3gtz6raYL41mPd+rdAoDN53rP9V6nvrbM9V6pMVdc0HbN16NH0zHYrOu7zhnw3ctyQsvzdeuxgVnDS3Lrd5re/wFXrPv+9P/8LXnoqgFN/fmKlqXYfXP6l5uO0D1337PO8uwZP56YlUkOHjO6dQn15v4+ba6qHreCIJJaUtUn9JOPzfB1/kD3SH3zH/CVrctG52X63SuT9MjpZ5/Q9Al6QY9RYzM2SV6ekRkle+olPXLsD5uX7Pz2wgzvf2wmNiT5xDWZ+vW2ZQtl8bGv5bE/LE3jihs6+DmT9K5f92dZMyPTp6VpWcWXOloC0TfjHm/M0j88l8s+VazrhN/d07zn4LG5sPkT+qLBX76g6RPeX92T6etcmQ7O6FEdfLq7Q5/0S5KsKNZUjJ71Ta9wwVXn5ML7F6Sh9AruE5dl8eqlWfzLrzV92p1k3oypWZmkx5nn5IR13qimGRhjT06ShZnxYMsgakC+9sum2QY3DGvfvEmP1Hf0XC0+cUAGrNNXFmTGvU1vxJgzm2eQFAy/cWlWLF6cqacU3ptPjM6xzUu7Sw3Y74Cmf3SwPBwAtijXe+v+LK733gODc8B+xbLNvb7rnEP27fhYr2PZrNwzO0mG52t/13H/7P/505tmfd47q+nD6Ob+f0KS3Dup/fLsNTMy6Y4kGZ7TP9/yvr2b36fNU9XjVhBEUkuq+YQ+YEDHf3jXKV+2IE0TvVbm1s/3S79dOvo6PZOSJPPy1DPtH166ZGfJkoYkg3PNHV/rIPAps2UNWbJkQWbdPTnXfnVkDug3Os1bv7d5eWHmJUkGZ0DLsoot6YXnmj7x3Hd4Dl7f3QX77tP86fFjmbfOpucDMqCjpVi7D2gN8CpV35O/ltP7Nu0LdPmx+6RPz7r0GTAiZ1x9T+a9VvxceWUW/LbpqnzlzSd00N+avk6f0tR63rz1fI68ZmUalizJgtn3ZPLV52XkkH4ZfUexUYkBA5qWbrezMM/9LkkG5IBNPcgdPl/So3dHl6MAsOWtc13XbJ1y13tbTg1f77Xp6GfYQtd3HRqQAXsXy9bjd881zyidlfOGrPvf77dLv/Q79LLmPlIyk7b3CRl9fJLMyKSS5dkr7761qY+NOj1jW3LId/v7tBmqedwKEURSS5zQkyxZnJbPI1cuWZIlr3X8VYySSvU49IQc27Lmof6ADOhgllhZrFyYe746Inv0rEvdB/qkX799MuKksTnvuhmZ98aGXvHW1Df990qSlVm6tFi3hWzxzcs7ofexuWXh7zN1/PDW5WENv5uVW88fnQN26Zm6XUZn4m9b3pPFWdzW6dbpa61fHb6FK7Pw7vMyYu+eqduuZ/r065d9ho/O2POvzYxfL8nK93pABABdgeu991iVXu9t0Lu5vtuCFi9sXQ7fUPxvt361u4VMsx4Zc+64puXUU1qWZ6/MPXffkyQ54eQT2pZ4b4Hfp03VMm7ddttti1VQFWo4kaHWCCKblrQ0LQMZnGsWFveTWfdrUvMefG1WZsaXx2Zyy1/ahlsz9ssztugf3g6tWZBrD90jo6+blYVr6jNg2JicftENmXrXQ3lu8dKsWD09zVu/V5glWfhimi5Qmw589ejRPyf84KH8fkVjVvzhqUy/8YIc+4nm2YGv3ZNz9hubycuSpGfqd2wqHvyD36/Tx9b5+knbrkYLrj4ke5x0bWa9uDL1HxueMWdekBvumpqHnlmcpSsaM/3k1qYAQAvXe++xKr7eW6/Nv77bovr0aQ4MT8/04n9zna/n8rXSWbOHnpDTeySZ1rw8e9k9mXpvkozJ6Z9v22ny3f8+bTrjVqqdnk3NcPex0qUjm7dsYOX952TsjxuSDM8tj9+S4Ukafjw253R0l8AtaMmPz2m6e3L9mEx/fWmemzUpt3x3XE74/PAM6FufHms6+O/37de8lHZeyYbm7c37dr/U9emXQ67blOUizQYc0LSk5rez8njp3jKlXnsqT61Mkn3Sv1wzCbby5uVJ0mPnwTn2Hy7L9LlL0/j61KaNyXNPps9Okr7ZZ9+mi7lNWpaz5Nacc/68JPUZc9/SLF3wUCbddFnGff6EDN+3b+p7lO6F1Vn90r9vkizIU+t5KSunjExdz37pd9Z7MOACgHJwvdeO671y2Mzruy1tr8E5JCncwKiTug3P2DN7tC7PXjltau5J0uMfTs+xpatu3uXv0+YQRFLt9GxqhhN6khycE/6u6aJh8s2T09FChbx4bfapq0ufXUZkYukf9GUzcs6YW9OQZPAPbsnpnzo9t/xgcNNdAseckxnruzjbAp76ZfPW0qPG5tgOtuRraNnPpVTv4TlhWJIsyMQfNe0M086aeZk6ZUnS0JADBm3GLj17HZsTdk+SGbnsnzvegHvejdfm8STZ99gM72Cf8q5pYSYe2y/9evZpulNi0Q6Dc0Bhj6aDjz+96dPqOyZmcoedbmGu3a8udX36ZcT1zcdybsuG4sdm7KiO3vTJubV536HOG5yRzZ9wd9z/G3LPlBnJyiXpv98BJXddBICuxPVeK9d7ZbNZ13dbWt+ROeFTWf/7n2TltLHpWdcz/fqfkxmFLPvgs76W/klmTLk1k+6+p+mGNJ8f3r7Ru/l92kzGrVQ7PZua4YTeZPhXL2u6c9y0sTngS/dkYckf5JVLZuScY87LgiQNe4/J6NZAqWmJzq0td00c3/TZc/9zJ+WyfTe8ZGfBvI4vCjbFgP2aLxzvnphbXyupWLMyC+4+IweM6WgnnL45/bvjUp9k4feGZ/SPF7a9vjUNmfHV0bn85ST7XpavFe/K/NunMm+js+0G5Lwrmj5vXnD+Ie2fPyuz4PoRGf69hUnqc/pV4zq80UnX1D/DP9EzS1Y2ZOIJY3NPYfOfhnsvzGW/TZLhGd5y88phX8tln0iSGRk75Izc82K7TpcZXx6R836bpGGfjDm++Ui1zEDIPZn44/a3oFz5u3tyxpDN2//o4PNvaLqz5bSxGf7tx9PQ+j6vzILrR2fctCQ9xuTCv6uhkQQAVcf1nuu9stuc67tSnTr+G9M3p3+n6cZKC783PCOuLr22S1bOn5iRX5yclVmZlaPGtu172mLfsRmze5Jp5+SMe5P0OD1ji/1ks3+fNp+VfFQ7PZuaYdPfZnt9LbPuOz19kyz88ejs0bNn093e+vVMz34jmz7F63t6pt/T1CZJGqad3rxEZ0Auu6Ppk8MkSbcBueDHF6R/85Kd06e1fUbY/2PNKdSU0enZr1/6fallI+hN1//MazKmPsnKGTljl7qm59ulX3pu1zP7nHRrFn7q9IzZN0kWZMELJQ/89A157AcHN810+9Ie6dmz6XF9evbJyOsXJvXDc8vdJT/P7gOaLjIyOaM/0C/9djmjac+Y9ag/eVIeOrd/kiXtn3+7ntnny7PSkOTgHzyWW44pXvV0bQPOn9S0x07D5Izu1zN1fZrvGNizLn1OmJyG1Gf4TTfk9NblSf3ztQenN91p+8VbM3rvnm3vYc9+Te9F+ub0+6a2PWav03PNKfVNg6Iv9WtaLt383+g5YHRuffngnH5K04BlwYJNWBK08+mZ2tz/533vkPTp2af5eVves/4ZN2Nijl3fnTEBoCtwved6r+w24/oum378N6bHMbe0vv+zzi+5tutTl56Dz8mshiSfuqa5TdGAnH5220zZ/l8fl45abc7v07thAg3VTs+mZjiht6kfdUsWLn4oN5wyOH17rGy629uSlenRd3DG/PCxLP3DLW1LYhpmZNwXm5Yh9P/WpFzwscKTfeKyTP1W/yQNmfzFcZnRcm06amIeGj849d2a7zB3/1PZhLiovfpjM+mFx3LDKSXP91pD6j8xJtfM+H1WPH5LzhvV9Gd/0rTmZT3NBox/LEvn3ZKvDeufHs139Wvo1jeDz7wlT73wUE4v/Xm6HZuJs76WwfVNn+QueW16nvpdSf066jP8h7/P0l/ekNOHDUj9mubnT30Gj7ogU19YkcfGb8YyoErX++Bc88zvM/2qMRm8c33S0HzHwDX1GTDsa5n6wuI8dGbh564/NrcsXJyHfjgmg/v2aL3r4MoefTP4lBvy2OuLc0u7Jdj1OfZHC/PYD8eUvB9L0lA/OGOump7f//djueXLJzRd7E2ZkVmb8Il6/ahbsvCF6bnmlMGpT0Pbaz/+gkx/4bncMKyD9WAA0MW43nO9V3abfH23Ocd/4waMfywrFkzN14YNaLu2a0jqPzY8X7vr91nx+NcyoHTfxxL9T24JH/tnzEnrfx836ffpXTJupdrVNTY2NhYLoRqNHTs2kydPzh133JEvfOELxWoANkFdXV2SZPKEXxSrAKramAlHJ0kMo4ByOPPMM3PLLbfk1ltvzZe+9KViNXR5InZqhk+WAAAAqGTGrVQ7PZua4YQOAABAJTNupdrp2dQMJ/StbNrY1NXVbfrXFzu6QyIAABXH9R68a26ySrWzRyQ1Y/To0bnnnnty991358QTTyxWU27zb80ZNz5eLN24IeNyy5nNd2QEKkadPSKBGmWPyA1wvQfv2imnnJI777wzkydPzsknn1yshi5PEEnNOP744/Ozn/0sU6dOzQknnFCsBmATCCKBWiWIBMppzJgxmTJlSv7P//k/+du//dtiNXR51qhSMyzNBgAAoJIZt1Lt9GxqhhM6AAAAlcy4lWqnZ1Mz3nnnncQJHQAAgAoliKTa6dnUDCd0AAAAKplxK9VOz6ZmtJzQt91222IVAAAAbHWCSKqdnk3NcEIHAACgkhm3Uu30bGqGEzoAAACVzLiVaqdnUzOc0AEAAKhkLTdZtaUY1UoiQ80QRAIAAFDJjFupdno2NcMJHQAAgEpm3Eq107OpGS1T3J3QAQAAqESCSKqdnk3NcEIHAACgkhm3Uu30bGqGEzoAAACVzLiVaqdnUzOc0AEAAKhkxq1UOz2bmuGEDgAAQCUzbqXa6dnUjJYT+rbbblusAgAAgK3OTVapdno2NcMnSwAAAFQy41aqnZ5NzXBCBwAAoJIZt1Lt9GxqhhM6AAAAlcyWYlQ7iQw1w14bAAAAVDITaKh2ejY1wwkdAACASmbcSrXTs6kZTugAAABUMuNWqp2eTc1wQgcAAKCSGbdS7fRsaoYTOgAAAJXMvQ2odno2NUMQCQAAQCUzbqXa6dnUDCd0AAAAKplxK9VOz6ZmOKEDAABQyYxbqXZ6NjWj5YS+7bbbFqsAAABgqxNEUu30bGqGTX8BAACoZCbQUO0kMtQMnywBAABQyYxbqXZ6NjXDCR0AAIBKZtxKtdOzqRlO6AAAAFQyW4pR7fRsaoYgEgAAgEpm3Eq107OpGU7oAAAAVDLjVqqdnk3NcEIHAACgkhm3Uu3qGhsbG4uFUI222267rFmzJitXrsz73ve+YjUAm6Curq5YBFBTDKOActh+++3z3//93/nv//7v9O7du1gNXZ6InZrhkyUAAAAqmXEr1c6MSGpCY2Nj64l8zZo12XbbbYtNAAAAYKvq1atXVqxYkRUrVqRHjx7FaujyROzUhNJPlXyyBAAAQCUyI5Jqp2dTE0pP5vY1AwAAoBK1jF2t4qNaCSKpCT5VAgAAoNK98847ibErVUzPpiYIIgEAAKh0a9euTV1dnZV8VC2pDDVBEAkAAEBXYNxKNdO7qQmCSAAAACqZcSu1QO+mJjihAwAAUMmMW6kFejc1wQkdAACASmbcSi3Qu6kJTugAAABUMuNWaoHeTU1wQgcAAKCSGbdSC/RuaoITOgAAAJXMuJVaoHdTE1pO6Ntuu22xCgAAALa6d955JxFEUuX0bmqCT5YAAACoZCbQUAukMtQEQSQAAACVzLiVWqB3UxOc0AEAAKhkxq3UAr2bmuCEDgAAQCUzbqUW6N3UBJv+AgAAUMkEkdQCvZua4IQOAABAJTNupRbo3dQEJ3QAqB51dXWpq6trXfEAANXAuJVaoHdTE5zQAaB6bLvttknJ33cAqAa2FKMW6N3UBEEkAFSPlr/nZkQCUE2MW6kFejc1wQkdAKqHGZEAVCPjVmqB3k1NcEIHgOrREkSaEQlANTFupRbo3dSElhN6y8AFAOi6LM0GoBoJIqkFejc1wQkdAKqHpdkAVCPjVmqB3k1NcEIHgOphaTYA1chKPmqBVIaaIIgEgOphaTYA1ci4lVqgd1MTnNABoHpYmg1ANWr5gM24lWqmd1MTBJEAUD0szQagGhm3Ugv0bmqCEzoAVI+Wv+dmRAJQTYxbqQV6NzXBCR0AqocZkQBUI+NWaoHeTU1wQgeA6iGIBKAaGbdSC/RuaoJNfwGgeliaDUA1EkRSC/RuaoITOgBUDzMiAahGxq3UAr2bmuCEDgDVoyWINCMSgGpi3Eot0LupCS0n9JaBCwDQdbUM0MyIBKCa2FKMWqB3UxN8sgQA1cPSbACqkXErtUDvpiY4oQNA9bA0G4BqZNxKLdC7qQlO6ABQPSzNBqAa2VKMWiCVAQAAAADKThBJTTAjEgCqhz0iAahGxq3UAr2bmuCEDgDVwx6RAFQj41Zqgd5NTXBCB4DqYY9IAKqRcSu1QO+mJjihA0D1MCMSgGpk3Eot0LupCU7oAFA97BEJQDVq+btm3Eo107upCYJIAKgelmYDUI2MW6kFejc1wSdLAFA9LM0GoBoJIqkFejc1oeWE3jJwAQC6LkuzAahGgkhqgd5NTXBCB4Dq0fL33IxIAKqJcSu1QO+mJjihA0D1MCMSgGpk3Eot0LupCU7oAFA9BJEAVCPjVmqB3k1NcEIHgOphaTYA1ci9DagFUhlqgiASAKqHGZEAVKOWv2vGrVQzvZuaIIgEgOohiASgGhm3Ugv0bmqCEzoAVA9LswGoRsat1AK9m5pgijsAVA8zIgGoRoJIaoHeTU1wQgeA6tESRJoRCUA1MW6lFujd1AQndACoHi1/z82IBKCaGLdSC/RuaoITOgBUD0uzAahGxq3UAr2bmtByQm8ZuAAAXZel2QBUI0EktUDvpiY4oQNA9bA0G4BqZNxKLdC7qQlO6ABQPcyIBKAatXzAZtxKNdO7qQmCSACoHvaIBKAaGbdSC/RuaoITOgBUD0uzAahGxq3UAr2bmmCKOwBUD0uzAahGbrJKLZDKUBN8sgQA1cPSbACqkXErtUDvpiY4oQNA9RBEAlCNjFupBXo3NcEJHQCqR8vfc0uzAagmxq3UAr2bmuCEDgDVw4xIAKqRcSu1QO+mJjihA0D1MCMSgGrkJqvUAr2bmiCIBIDqYUYkANXIuJVaoHdTE1pO6C0DFwCg6xJEAlCNBJHUAr2bmuCEDgDVw9JsAKqRcSu1QO+mJthrAwCqhxmRAFQjQSS1QO+mJjihA0D1MCMSgGpk3Eot0LupCU7oAFA9zIgEoBoZt1IL9G5qghM6AFQPQSQA1chNVqkFUhlqgiASAKqHpdkAVCP3NqAW6N3UBEEkAFQPMyIBqEbGrdQCvZua4IQOANVDEAlANTJupRbo3dQEJ3QAqB6WZgNQjYxbqQV6NzXBCR0AqocZkQBUI+NWaoHeTU1oGai4+xgAdH1mRAJQjQSR1AK9m5rghA4A1cOMSACqkXErtUDvpiY4oQNA9RBEAlCNjFupBXo3NcEJHQCqh6XZAFSjlg/YjFupZno3NUEQCQDVw4xIAKqRcSu1QO+mJjihA0D1MCMSgGpk3Eot0LupCU7oAFA9zIgEoBoZt1IL9G5qghM6AFQPQSQA1ahl3Nrydw6qkVSGmiCIBIDqYWk2ANXIuJVaoHdTE9x9DACqhxmRAFQjQSS1QO+mJjihA0D1EEQCUI2MW6kFejc1wQkdAKqHpdkAVCMr+agFejc1waa/AFA9zIgEoBqZQEMt0LupCU7oAFA9zIgEoBoZt1IL9G5qghM6AFQPMyIBqEbGrdQCvZua4IQOANVDEAlANTJupRbo3dQEJ3QAqB6WZgNQjYxbqQV6NzXBCR0AqocZkQBUI+NWaoHeTU1oGag4oQNA12dGJADVSBBJLdC7qQlO6ABQPcyIBKAamUBDLdC7qQmCSACoHoJIAKpRy7i15e8cVCOpDDVBEAkA1cPSbACqkXErtUDvpiY4oQNA9TAjEoBqZNxKLdC7qQlO6ABQPQSRAFQj41Zqgd5NTbDXBgBUD0uzAahGgkhqgd5NTXBCB4DqYUYkANXIuJVaoHdTE5zQAaB6mBEJQDUybqUW6N3UhJYZE07oAND1mREJQDUybqUW6N3UBJ8sAUD1EEQCUI2MW6kFejc1wQkdAKqHpdkAVCPjVmqB3k1NcEIHgOphRiQA1ci4lVqgd1MTnNABoHqYEQlANTJupRbo3dQEJ3QAqB5mRAJQjVrGrS1/56AaSWWoCYJIAKgegkgAqpFxK7VA76bLW7VqVRYsWFAsbqczJ/S1a9fm7bffLhYDABWmM3/XAaCr8feNWqB30+V17949F198cU455ZQsXLiwWJ1sZIr72rVrc8cdd2T48OHZbrvtitUAQIVZvXp1kvi7DUBVEURSC/RuqsKFF16YO++8M3vvvXf+/u//PosWLWpX37J0q/SEvmbNmvzoRz/KnnvumS9+8Ys56aST0r1795JHAQCVaNWqVUnzh5EAUC06GrdCtdG7qQof//jH89nPfjbvvPNObrrppuyxxx4ZP358Xn/99aTwydJf/vKX/PM//3P23HPPnH766Xn55Zez00475Ywzzig8KwBQicyIBKAamRFJLdC7qRoXX3xx679XrVqVf/zHf0z//v1zwQUXtJ7Qb7jhhuyxxx45++yz8+qrr7a2v+iii8yqAIAuwoxIALqatWvX5plnnikWt9OZIPJPf/pTFi9eXCyGLqOusbGxsVgIXdWxxx6b+++/v1i8QbvttlteeOEFsyoAoIt49dVXs9tuu2XXXXfNK6+8UqwGgIp0+umnZ/Hixfnud7+bT3ziE8Xq9OrVKytWrMiyZcvy/ve/v13da6+9lu9973t5+OGH88wzz2wwrIRKpudSVb7zne8Uizbq4osvFkICQBdiaTYAXdFFF12UBx98MEOGDMnRRx+dX/3qV+3qO5oRuXDhwpxxxhnZfffdc+ONN+bCCy8UQtKl6b1UlU996lMZMWJEsXi9+vfvn1NOOaVYDABUMEuzAeiKdt9994wdOzZJMnPmzBx88ME54ogj8h//8R9JIYh84YUXcuqpp2avvfbKrbfemnfeeScDBgzI3/7t37Z7TuhqBJFUnYsuuqhYtF4XX3xxunXrViwGACqYGZEAdFUXXnhh6urqWr//93//9xx22GE59NBDW++afeqpp+ajH/1ofvKTn7SGk0kyYcIEsyHp8vRgqs5hhx2Wgw8+uFi8jj322MNsSADogsyIBKCr2muvvTJmzJhicR599NHW0PFf//VfU7ydx7777puTTjqpXRl0RYJIqtIll1xSLFrHpZde6tMkAOiCzIgEoCu74IILikUbdfHFFxeLoEuSwlCVjjjiiAwePLhY3OpjH/tY/tf/+l/FYgCgCzAjEoCubMCAAZs0u/HjH/94TjzxxGIxdEmCSKrWpZdeWixqdckll5gNCQBdlBmRAHR1F198cbu9IjdkwoQJxSLosiQxVK2RI0d2OCvyYx/72CZ9+gQAVBYzIgHo6vbZZ5989rOfLRavY9CgQTn++OOLxdBlCSKpat/5zneKRfne975XLAIAuhAzIgGoBh2NV4u++93vFougSxNEUtU++9nPZp999mn9fv/998/nPve5dm0AgK7FjEgAqsHgwYMzcuTIYnGrQYMGZdSoUcVi6NIEkVS1urq6dnfQvuyyy9rVAwBdjxmRAFSLDd3b4PLLLy8WQZcniKTqnXDCCfnIRz6SAw88MJ/5zGeK1QBAF2NGJADVYvDgwTnqqKOKxfnkJz+ZY489tlgMXZ4gkqq3zTbb5Ctf+coGP2kCALoOMyIBqCYd3RXb+JVqJYikJpx22mk55phjisUAQBckiASgmnzqU5/K8OHDW7//5Cc/mSOOOKJdG6gWgkhqQq9evYpFAEAXZWk2ANXm4osvbv3397///XZ1UE0EkQAAdClmRAJQbf7mb/4mhx56aA499NAcfvjhxWqoGnWNjY2NxcKu5K45bxSLAGrKSUN3KBYBVLXLL788F154YS644IJcdtllxWqAzWZ8ydb02yd/mW223Tb7DDqkWAXvmXKPL82IBACgSzEjEoBqtO+BhwohqXpmRAJ0ceX+xAqg0nz729/O9773vVxxxRX51re+VawG2Gwt48s9e7xSrAKoai+t3C15D8aXZkQCANClmBEJANA1CSIBAOhS3DUbAKBrEkQCANClmBEJANA1CSIBAOhSzIgEAOiaBJEAAHQpZkQCAHRNgkgAALoUQSQAQNckiAQAoEuxNBsAoGsSRAIA0KWYEQkA0DUJIgEA6FJaZkQKIgEAuhZBJAAAXYoZkQAAXZMgEgCALsUekQAAXZMgEgCALsWMSACArkkQCQBAl2KPSACArkkQCQBAl9IyI9LSbACArkUQCQBAl2JGJABA1ySIBACgS7FHJABA1ySIBACgSzEjEgCgaxJEAgDQpdgjEgCgaxJEAgDQpViaDQDQNQkiAQDoUizNBgDomgSRAAB0KZZmAwB0TYJIAAC6FDMiAQC6JkEkAABdRmNjYxobG9OtW7d069atWA0AQAUTRAIA0GW0zIa0LBsAoOsRRAIA0GW4YzYAQNcliAQAoMswIxIAoOsSRAIA0GWYEQkA0HUJIgEA6DLMiAQA6LoEkQAAdBlmRAIAdF2CSAAAugwzIgEAui5BJAAAXYYZkQAAXZcgEgCALqNlRqQgEgCg6xFEAgDQZbTMiLQ0GwCg6xFEAgDQZZgRCQDQdQkiAQDoMsyIBADougSRAAB0GWZEAgB0XYJIAAC6DHfN5v9n79/jqqrzv///6eWImjFhFOWhEm08pc5oUA2gMxDdIDUcz5OgtxG9PiqlkpVaSaZoo5SGOpF+L8X5KdjgcSQ1uGJgJoUOmDSeEidFU7FhomjIUszL3x/7tPZiswFlG8jjfrvt27Dfa+2111572cjT1/v9AgAATRdBJAAAAJoMW0UkU7MBAACaHoJIAAAANBlURAIAADRdBJEAAABoMlgjEgAAoOkiiAQAAECTQUUkAABA00UQCQAAgCaDNSIBAACaLoJIAAAANBlURAIAADRdBJEAAABoMlgjEgAAoOkiiAQAAECTYauIZGo2AABA00MQCQAAgCaDikgAAICmiyASAAAATQZrRAIAADRdBJEAAABoMqiIBAAAaLoIIgEAANBksEYkAABA00UQCQAAgCaDikgAAICmiyASAAAATQZrRAIAADRdBJEAAABoNHbs2KGvv/7aPGxnq4isbWp2ZWWleQgAAAA/MYJIAAAANBo///nP1a1bNyUlJdlDR6PaKiL/7//9vwoPD1dxcbF5EwAAAH5iBJEAAABoNB599FHdf//9mjNnju6//35t3LhRV69etW93tUbklStXlJ6erl/+8peKiIjQrbfeqoCAAPt2AAAANA4EkQAAAGhUXnjhBUnSmTNnNGHCBA0YMEB/+9vfJFNF5Pfff6+VK1fK399fMTExOnjwoFq0aKFFixY5HQ8AAACNA0EkAAAAGpXhw4erR48e9ueffvqpwsPD9fjjj9vXj/zLX/6izp07a+bMmTpz5ox935iYGPXp08f+HAAAAI0HQSQAAAAalRYtWmj27NnmYWVlZWnfvn2SpIyMDH3zzTdO21u1aqWFCxc6jQEAAKDxIIgEAABAoxMTE6OOHTuah936n//5H3Xp0sU8DAAAgEaCIBIAAACNjpeXl5599lnzcI1at26thIQE8zAAAAAaEYJIAAAANErTpk1T+/btzcMuzZo1S3fddZd5GAAAAI0IQSQAAAAapbZt2+qpp54yD1dz2223ac6cOeZhAAAANDIEkQAAAGi0Zs2apbZt25qHncydO1e33XabeRgAAACNDEEkAAAAGq327dtr0qRJ5mG7u+66S/Hx8eZhAAAANEIEkQAAAGjUXnjhBf3sZz8zD0uSXn75ZbVp08Y8DAAAgEaIIBIAAACNWseOHfXkk0+ah+Xv768pU6aYhwEAANBIEUQCAACg0Zs7d655SIsWLVLLli3NwwAAAGikCCIBAADQ6PXu3VtDhw61P+/Ro4fGjRvntA8AAAAaN4JIAAAANAkvvvii/edly5Y5bQMAAEDjRxAJAACAJuHXv/61QkNDFRQUpCFDhpg3AwAAoJEjiAQAAECTkZCQoKVLl5qHAQAA0AQQRAIAAKDJCA0NVUhIiHkYAAAATQBBJAAAAAAAAACPI4gEAAAAAAAA4HEEkQAAAAAAAAA8jiASAAAAAAAAgMcRRAIAAAAAAADwOIJIAAAAAAAAAB5HEAkAAAAAAADA4wgiAQAAAAAAAHgcQSQAAAAAAAAAjyOIBAAAAAAAAOBxBJEAAAAAAAAAPI4gEgAAAAAAAIDHEUQCAAAAAAAA8DiCSAAAAAAAAAAeRxAJAAAAAAAAwOMIIgEAAAAAAAB4HEEkAAAAAADATyD/5QAFBFgeozeUmjejgXG9f3oEkQAAAAAAAAA8jiASAAAAAAAAgMcRRAIAAAAAAADwOIJIAAAAAAAAAB5HEAkAAAAAAADA4wgiAQAAAAAAAHhci6tXr141DzYlm/O/Mg8BQLMyJvgO8xAAAACuge33y25tTps3/WTyXw7QzD2S5K/4HVsU43NQm19bqreyi1V5RZK3vwKfiFF87DD18DG/ukqlBZu1bsNO7TtYovIq67CXr/z7hWjYhBiNedhfXi1NL3OhqrxY725J0ebMgyouq7SPe/n665eDhmn06GEK6+7t9JqaNdx5yXpu+3Zv1pbMfTpZWu44niQvX1/5PzBMYyaP1eO9feVlfKHBdV3nK1Uq+Wiz0mr8PJM0Jqijy/d2vK/kPyNTWyZ0lCqKtTM1WWnZ/1SJ7WBevvLv97hiZk3SsDpf5+tX7brcY70X/n/Vz6/HI8M0Zur4up/flUoV5+3U5q01Xbf63QeqKNbOv6Ro845CFdsOZvreXF7vGjXEfVqqtLFRSj5hfdotXpkZMXL3rj+VExfvk27A75cEkQDQxHn6/ygAAACai0YfRK6P17EZM5XlyAGtOio2I1Nx3QxDZVmaPX6ecssNY674Bmt2ymsa081VTCZJlTq4eqZi1x40b6jG++F4rVgSo37ucqgGOy9JV8qVu2SqZu8oMW9xrW+sUlfGuTy/a73OlYfSNO+5ZOXX9nm6xGjF2ngFm0JM52Bsi5JaJ2vqa/lydzjf8EXatDhSvm4DsIZhDiKD98/U1MW1nF9Qgla/MUz+bs6v8tMUzZySqoNXzFtM6nIfqFIHN8zT8yvdnZevwhZvUmR+hGbXJYhssPuUINKMIBIAmjhP/x8FAABAc9G4g0gveXtXqbJSUktv9QgOU0/fr3QsJ1/F/Rcpb3mkbPla1YlUTRybomLDcbzuCVRYQEe11iWVFuWr8JQxZeuh2PWrFde3ekJXuilaUcsNR/L2V2BQP3W8RdL3pTpYUKgS46F6xytzg+ugpSHPS1dKlDZxtJKPGsa8fNXjkRD19JXk8niSBjlfK5truc6V789T1KwsGd/B6fPsz1XhGUN5pnekVmQuUrDhzY1BpJe3t6oqrUdr6S3//sHqd09rXTpTqNz9pTIcSd5jU5X3fD/DiGcYg8jIwV7K2mP99uzXRvU+v5Id0xS7uLCG6/aVjr1vqGiUJPlq2PKtShhk/tYsSjZEa/RKw11V47l5y9u70vLdugkiG/Q+JYishiASAJo4T/8fBQAAQHPRuINIq96xSn3TWNVXparvveR1i/VpZa7mRcxWli3H6RKjFWviFOxrqtiqOKi0l2Yq+SNroOIVqaTsRQozZinfZ2n2oHnKlSR5K+zldC2KMk8xrlJp5jxFL8y1B0thiwuUFGF6v4Y8L0nlO6YpYnGh9Zm3Ipds1cvhLqZeV5Vq50vRSsyznZ1jirFRva9z2U5NG5wo2xnonmFKWjlHYfc4n0HlpymaOjnVHmp5DV6hvy8Mtp9ntfeV1G/yW3otNlBOl6aqRKmTRyvFHrwGKiH7LQ3zNezjAdXPz1uBM1YoKbqfvI0Vj5UHlfJUrFLt5xesRe+vUKTtetl8mqTQyZsdIeQ9YyyVoqb7oOrMTs2bnGioSOyh+B3p1b438/F8wxO0fuEwdTQeznxPWbkMIhv4PiWIrI5mNQAAAAAANAkdFTvXPLXYEI5JKnxzniNE6R2vLRnVQx5Jkk8/xaxMVXxv6/OqLCWuNk2//rTQGkJKGjTHRQgpSV7qGJWkpFGOLbn59njOrkHPSyXKWO94j44TV2uRqxBSkrw6atiSJI2xbyzRsc+dd6muDtc5dakjhPSO1IoNCdVCSEny/lWcVr8WaT+3qj1petfNdF//p7YodaophJQkL3/FvrlIwfaBQhWaL8sN0GNGqt6aYAohJcm7n+LeTDCcX772feS0hyWU+6MhhOwdry1bZ7u8D7zuGaakrSsUaf8OipW8Msup6lIq1+YVjuN5RSRp6xJTCCkX95QbDXufSlJHxWTs1/791kcjDSFvJIJIAADQtLwTrRYtWqjFBFP5gKSKd+fp0V+0tWxv0UItfrFYReadmoyLKtkyWdGr6rjuVSNx8fPtmjzhTTmfdYmW9W2hFi16a1mtv/w1dXsUbb3/ot+R9Pky9W7h6rNf1GfrozWgvfVebdFCbcdsUoWb+7u+Sl7rrRYtWqj3a9d+D9mOUa/zsX2GFtHaYzxG32Wm+wJAvflG6lF3Ycr3Wdqy1ZaidFTs3Bi36/Sppb9i5sbKVlRXmbFZ+cY1+3685Pj5m/86TaU1C4z8nby9fOXr10PB98p5rb6GPq/Kr9Tm/h7y9fOVlwI16fc9DBtdaPlL9XvE8bT4TKlxa3W1Xecr+dpp/zxS2NyXnaZbm3mHTlJMR8nbz1+BER1NF8coUvET/M2DDt5henyQ42mtn6OheY1RfLS78wtRWIDjabXzO/FXbbZVBtblPvAO1ssLHCGu8nY6h7hn3tWWQ7Yn/RQ/M6zalHs76z3lNgRs6PsULhFEAgCAm8PheRoweLFyP78otblbd3e+W3f3vVsdzPs1ESVvBKnrmHUqumje0oidWqagX4zUuiZ10j+Ni29Hq3fsJhVVSPKx3K8duvjL3IgVAJwE9JTbyG3/PkcFY21hmk3vED1qT3pylW8PdiR16ugIbg4laeLCXJVUOtek2f1qtvIKspW9J10rJgfbwxnJA+flHajY5enK3pOtgv11mZ7sJe9bzWNu1HadD+U7Po8iNSzcRcWcE3/FZe5X3p4temtxgoZ1N2+3GhSiQHfBl7zk/VP+H8Uj/fRLt+fnqzv8zGMOpR/lyx5Ndhuj39XhPvAaNEa/s1/eQuXud9x/5fvzHf/A1S1MIW7eW5LU+3H9rot50KCh71O4RBAJAACalifSdfXqVV3dMNh5vKTE8pfRR/6k8z+c1/kz53V++yTd7bxX0/FjEwzzfpRcn7W/nj10VVevHtWz95u3NU/nz34mSWoz7W+6+o3lfj2Z9Oua7+9r4P/8UV29elVHn3dTvQKgSfG/3/2f55IThvYalflatzhRibU+0vRP+4uqVFJiKDnrNlaTDBVupZmzNTo0SAGh0Zq5PE25R0tVUy5p1ODnVQdVleUqPZqvrA3JmjkhtNo6jO7Udp1Lj/7TMUW4d0/3VXP14NvN3/X0cgP/Lu7PzZPqcn7ulBxz3AdeAf3cVyfa9VNAqOPZsc8dtfXHDhmWAHjAvw7H81cP1/1zpJ/oPm2OCCIBAMDN5Rf+TTd8xE2gvdq3kaS75d9BUhd/9ZckdZCPi2ocf/+f7hdKj2nfXpZL4K8Okvzvt1wB3emjtqZdAdRTy9bmESelJYYFEKqKlbtjp3bW+shVsSFM/KrSMB1bvhq20EUDjspi5W9K1uwJUQoNClDohJlK2Vqoku9N+1k1/HkZVan8aL42r07UvKmjFTE4VAEBAQoKjVDUhJmatzJN+UfdTSp3oZbrrB8NJ9alLgFY3fzc23yhG5frO79SlZxyPOt0V90botzh44g/y//taFh8yXBL1DWgdbefZ+9T2BBEAgCApsW8hp7tedQmy/ONQ6zr05nX5KtuzwTHWn4XP9+u58K6qq1tfcn2AxS96gNV/Gh+ldVXH+jNCQPUoa1tjb+26hAYrTf3VZh2rNCeCe2tx5ysPd+ZNv/4mRb3tRyj/YQ9qrCuMdh1tqVi7rPZXeu/Rl9NvirSupeHaEAHwzqa1vNe9m5JDdWMUsWn6/RcWG+1b2V9Tav26h32nLZ/7njFngkt1OIXz+kzSTr8nLoa1gisbY3IuhzfzrbmYt9lKvmxQh+sMq6z2FZda3rdDdNfQY9J0gD17inpZ70s/9uml3rf7Vgvsdr3a7tW5vtb1/6Za1wjstq920Ltez2q59YX1Xy/y/E6+/fUtoMG/M92lZjf+ldBCpOkwN7qJUm9LP/bpk9v/pEAaIr8IpWUnamkcYHyraHyr/JovlKXTNPoQQEavThX5TdonbzKgmRFBwUpYsJMJa3dqaz9JSovcxE6eveQf0OlhZJKDFV5qIdrzOjuuKuTeUhSqUpd/J0CjR9BJAAAaNradLCsB2lbM+lnPpbnnf3V5memfWtQsWWy/H8xUsvyStTGdqyKIm2aEaT2g9fpS/P+eU+r651Benpjkb682Mb6/hf15f5Nenpge3WdkStHHOmjwSnpmuQjqWKdol/8wOlYn702UvMOS/KZpPSUwfJRG3XofLfubmPdwbbe5R22gWt0bJkG3DlAkxP3qOhLWa/R3Wojy3k/N7irgl6zhGNGn70RpPb9J2tZ3meqkOXa+qhCn+Ut08hfdFD0O5ZP2uaOu3W346Stx+9gqYyrUYVyZ3R1HP9nlnNyHL+tgt6ofk6SpB8PaPHA9gqasUlFFx2fpSRvmUb+wl/P7TO/oAb2xip1ediCVXfaqFefu6W7+6vXrZLUS736S3osyFIZeau/5dqYv99ar1UDfeZjyzTAdu/+aP2zcncbVRzL1bLYAfIfs6na/S5JKlqkoA6W1120fdcXv1TR/xmprv7P6QNjgHlrL/W/W7q7Ty/LZ7q/l/pLCvu1tTISwI0xeIWjU289HlsmuEjsvDoqbNZbyv6oQHkZb2n25GD1cNVJWFLJjtmKmLGz5n4sDXReJZtiFTojzakaTZK8/XzVY9AwDZs8W0mrtyg7r0D789IV/yvn/a5Hx5uxmv1GqKXQtCYlp1wFvx3V0ZPLvTTQfYrqCCIBAEDT9tjrlvUgN4yzPH8y3fL8zG495W5BcoM9G9fp4vC1OvnDVX1z5rzOf3NV32wfZ2kc8t7TWmQMeM6u08gwS1fo/i8U6JvLP1je75ur+mbv6wrzkUpWParotw2VkbcO1p82TZKPpIpV0Zq33zq+f56GvPiZJH+99N5aDb5VksL0+pnzKljYS5LUa2GB5fjLwxzHq7fPNO/x51QkqdfzhnM+c14/XP5Gu6dZfqEqmr3MOWjb97SCZn0gyUcjUk/qh8vf6PyZ8/rm8g86+mp/SRXaFDVJm76Twpaf1/m9iywVcH0WqeDMeZ0/87qlMq4GFW9H69FVJZLuthzfurbnN5d/0NGVYfKR9MGsIE1+11xyJ+nYJq37sL9e2vuNrlpf98MPR7UoQJK+1LKXqwfIN0r/V8/r6vlF1inZ0ohNV3U1c5zaSPKftlvnXX2/tVwrqSE+80VtetFyH/R/9aj9+zx//gf9cMhyvhU7JmlRnvl1kg5/oA+6PKXd53/QD+edX6Mvl2neeuM799ei81d1/lXrFfjZCKVfvardT9YatQK4TnfcZejaUvZVzWHgNfOSd7dAjZm6QunZBdpfkKctqxcpfnAP57UDP1qqdbb/r/PEeZXtVNLyg47n9wxTUkaeCvbvV96ebKUvT1DC1DEKC/CXr7flzC41YJVma2Nl6KkSRwMWuNFR/oa/l50zTLF2r0qVhr9S+RtKW1sbgk3XYWV1lZX/NQ/ZNfh9CpcIItHsFCXeqbEhlsesTV+YN6OBcb0BNAltntK2zZPkb8hJfIav05tPSNJFFRQ6/nL7QdLTypXU5sltyn311/IxVF36hDyr3RssgdOeF1+3TFO2avP4n5Q+0UdSiRZPXKzPLn6gpx9brBJJvV7dbQ2TPOTYHuX+6CO1eUp/Mp2zfuajwUmLZGmNUqDP7NOcLmpT0puqkOT/Qq62TfQ3VOy1Ua8X9uhPj0g+nT/T0cP2DfXwmV5/0RJ79koqqH786X9T7gv+kiq0bqHrgO3XK/doUYihfWibXnrprZcs03/zPtABw741sjWHqdMj3XqdfjrX95nP6/y/JKmXRg63Vitatenzkta9cLfk46MDn7qqQv21/pT3Jw22l3IaXiMp9wP37wzgxvC/v6fjyf58FdawZmOD8fKWf0CkYhamqyAnSZH2NLJKf/vI0fijoc+rZPs62duUeEVqRXqCwrp5u2mkUqJThj4k16vj/YaOJ0ePqaQOIWfJ+tEKCI1QxKhpmrenbqHZzca/p6MXedX+g3ULcK/8Uwc/dDzt2NExTbtn30DHhiN1CYTLdexQzfFiQ9+ncI0gEgAA4MnBCqs2jbuNfKzrqF+0Tzst0u4tFyW10aS4EZaKSZM2T0QrWpJO7dEew6LsUhsNXmmdon14nsL8B+vNCkkBr2vb85bqOI/p+awKznyjqz/8ycXnlHSrT/XP8uMe7X5HknrpqVhXU2rv1lMfXNU3Z45q0SPmbXVwbLu2n5KkwZpnrcg06z/jJUuV4IfbtbtaEtlfI59wseLgHe3VQZL0g3nLTeB6P3Nb+dwpSwg8Y572HK5wWhe0/6vndfWb8yp4xsX9GDBSgzubB6VefQdYfnC3tiSAG8YrIEyOaCZXm9+pOXSxq8zSzIAAhQ62hGSbj9s2lCt/baJmTohQRGiA5rmqljbyCdPj4Y6n5eWOireGPS+ptNQQOYU/ruBbHE9dOpOvd53+P/k6/SrQUMWeq3fza2sdXq7C90ukynKVnypU+aWfm3doFjo+HOxo7HNis/561Hm7K1X5O/VX++Xtp+D+jrjZNzhU9ki4Lscr+5t2Gip1zRr6PoVrBJEAAKDZ69XLRfDiavy7z1T0pSRd1LrRHdThHlePSUqXJBXpwCHnlxunaH/5ZYWk/np947Pq5Soc9KTvKvTll58pd8smLZs1RAM6jJS11Y/DqRIVSZL6q5cn1mD611FLxWifMP3aRTdpSdLdvdWrjSQVqKjagvS91MvV1PsuvSzTw29K1/uZ71b085N0t6SK9xZrSN/2atuqvXqHTdayLUX60txIyahXL7mKi9vcWi3CBvBT8n1cw0IdTw++NkNpbgO4SuW/tlT5kirLylV+yls/t/+jg6+8v3lX+UfLVV4pZWW4WfdRsnRFNlQdBvY1VJc16HmZnDnn/ryulCjtpWQ1aA3iLZEaPcoWiFUp6/W1KnZTFVn5/ht6y/53gjANizBMAW5Ouo1VTF/bk1KlLklzX01ama+F87NkzyEHjdHjfobtfr/TGPt9VdvxKpW7IlmGCf3VefI+hR1BJAAAQF19ed7+i8zFL7/Ul2ddP1ysaGjXZuAIDbbNbvUZoF436i+sF0u0fdaj6tq2hVp4t1eHDr316JhoPffGHhV95e6Mf0p3y/9+Sbqob74xb2sgDd6spnFr8/halfxrm54NtU6F/7FCn+Wt03NjBqiDdwt1GPGmPmustwOAOvBS5Ix4OSbAFit5bKxSPnXRSbqqVLkLozVzj2Nbj1nxijRUF/YbEeOoYNufqIkLc1XqqvjvSqXyX5uq5BO2gWANCzeGbQ17Xj37G6bkHkrSjPUljrDKoOpUrhJHjVayuVLuyjW2bzYIjJ3jqJ4rTVX0xBQdNKxlaFP5aYqmzsqS7dN0nDjJ6bM0L74a83ys4546mqzRoxKVe6b6t1d1Zqdmj5qpLPtt0EPxMyLl7bSX6b46mqzRk118D1Wl2jl3lGZnV38fZw17n1qUKm1sgAICrI+xaXWYQn5zI4gEAACoq1t9rFNg++v1EvP6gdUf6U+YD3BRe2ZEa5Mt6KlYp+gZe9wGlw3ix8+0bGBXjXwjVyU/+qhX6DhNSviTtm3+m46e/0Y/XN4ta6ufRuZLlXwuSyBpufBoAG3uH6HXc0/qh8s/6Hzhbv0pYbD6Wwsbv9zxtHqP2+T5exKA59wTo9XLh8keA145qNTJoQoIHa1pLyUqcXGi5k2NUlBQlGZnOiIR78ErtHqcqeNvtzgtGuuIfkozZysqKEgRE2YqcbHtWKMVGhSqmRmOY/V7fo4inROjBj0v36hpGmM4fvGboxUUFGU/TuJL0zQ6NEBBo2Zr5xlJ8lXww4667pKSBoiC/IYpabkhGDuaqtjwAIXar81MRYcGKHRyquyFor3jtWKqI+ZqlnrHacVLgY7rdmanZg8PUtDwaZpnu24RQQoanqhce6mrr4YtX60YV7MC7onRauP3cMjyPURMned0TyXmuK2bdWjA+xSuEUQCAADUlX2qsItp13Vw8d2nFb2+QlKY1n6wVmGSKtZH62lXXaEb0Jfrn9Zz+yX5jNPu/3yjo7npWrvwKY0YHaZed/uozY8u3v/uDtapuEWGBjbOil7soBbtOyjoDVfNTWrRa4BlOvHhXH1Q05Tgswd04KIk9Za/pypHm1izmgb1sza6O2Cwnlq4Wwe+uapvNlsaLWnHbuWa9wXQpHgPStDW9fEKNhYlVpaoMHundu7Yqaz9pU4VhP7jVihzfrCp2syi3/OZemuccXGGKpUfzdfOHbZjlajSPh3WV2GLs5U61nUg02Dn1bKfZq9PcD5OVan9ODuzC1ViK1TrMkxJO97Riv8d6Ghm89E/HeHgdfAetEiZps9Tab82+So2FNL5hi9S9voY+Rs7bjdT/sPfUuZK52tRdaZQWbbrVm64C3yDNTvjHSUMqnYX2HkPWlTteOX7s6rdU75RSUp9ytVCI84a7D6FSwSRAAAAdfZrjZhomVe96f9sknnmjyTp82Xq3aKF2t/zqN40Bnjf7dHT49apQlL/5Ws16ZFJWru8v6Ur9LintaemMK4BHNhrjZWeiNZgF0v6VWxZV32NyFvDNCJUkj7Tm6mW1SKd/FikbW9/KVVUaMCv6rZCoZP7B2tEF0nao0VvuV65qyhlmT6QpD6DFeaiRwvq6dSbGnJPB7Vt/7RyXTSX8ek/wOU6kACaJu++MVqxp0BbVsZrWIC/fJ1SEi/5dglU5OQEpWcXaMusYHnXGJB5K3DWFhVkpythcrB6+Pk679vSW769gxU79y1lFmQrqZb1DxvsvLoM04p3svXW88MU2MXXqWO2l6+/AofHK2lTnvZvTVDYPV5S32BHg5nyLP3NPF37Glk+T57SX45VcG/TtfH2VY/B8VqxtUDZSyLlW9NnaYa8g+K1pcBx3XyNX6C3r3oMitXs1ZkqyF6hMd1q7odu4x0Ury17M7VixjAFdjHcVC295R8Qo4RNecp+OUx31PE7aLD7FNW0uHr16lXzYFOyOd/Rietmc/nrQ9q7/VVl7ynUqbJv7eOtbu+uHiHRihgerYd+cZvTa2p2SWUfrtOOTek6cPi4KmzxvZefOvV5TGHj4hQR2F2t6viH5/LXh1SUtU7Zu9/T2fNljuNJanW7nzr1ilbExMka2NNPrYwvNChKvFNLsiWpu8b/JV9DfQqV/cYcZeQc0oUrkm7trj5D4jR+QrS6mD/mlUs6V7hOu2r8PLMU8ci9Lt/b8b5Sp7hPtHzcvdK3h5S7Yb52vfexzn1tXS/Ey0+d+ozS0OmzFFbn63z9ql2XztZ7Ib36+XUJjFbE5Kfqfn5XvtWp99OVvaOm61a/+0DfHlLulleVnblXp2znZfreXF7vGjXEffqFdk14UBtPWp92XaBVG+JkXNP4ZjMm2NrWF2gu3olWi6hN0vjdurrBUJ9W07gbeya00JCNUq+kkzr6fPUIpuS13uo6+zPn7Z8v04BfPKciSf4Tt+lvKSPkb13z8eKXe/TcwCGWADJ0rc7nWhqDSBe1J7aDhqyvkAJe18nCZy2Bz4+faXH/3pp3WPKZuFvnUwdbKtIM760nt+nqphHW0WtjP1abwVr7r92aZKsu/PGiPtvxtIaMWWdd+7KXXv/XUT1ra06z72m1H/imKuSjEakHlD7Rsa7gnlkDNGRVidTndZ08ZP08ny9T7188p880Ttsup2uEvQlPiZb17arnDjsfv+LtIWo/bo+kuzUitcBxfF3UZ6uGKGhGrirko0l7zmvt49YrY3iP3S4rFPcousUQbapxe+Pg8t5SDffxNX7m6u/xmeb599biU5LP+G367P8bobttN9yPFdoe66+RGyuc7l37vVPTnytX5ws0YbbfL7u1OW3eBAA3tRMX75NuwO+XVEQ2St/q+NrBiokK05o/5ziFkJJ0+evjOpw5X8sm3q/YZ1J0vLYKirJtWhbVWdOfm6/cA4ZwR5KqynTuQLo2PhesmOFPKvtkLYv2XinTx0nBiokK07KUdB0+7RxCStLlr8t0Kv8NrZn8gGKmvFr7+UnStzlaNWqwUrOtIaQkfXdchzOW6yPTUg4XjqRoyfDOmuX28zyomOj5KnK+dC5c1LmtT2rKkDCtydjrCPlkO1aK1ky8X1MStqmixu5bnnUu80k9HeX6/E7lv2E5v+fSda6W87tw8FUlhN2vOQnurlsd7wN9q+ObrNftzzmOEFK27y1ec4Y8oGU5ZbpsfJk7DXmfAoAn3f+scjOtIc36keratq2lW3aHtmrbwRpC3j1Ju7fbQkip4p1J1inZvbRoozW0k6Sf9dJL61+Sv3WK9qR3HDWW/j37W354e6TaduigDrHbr3ndPv///brG+Ui6uEeT72lhOd49HdS2VVv1HrNOJY9M0rg+kvSZPvuX4YUhf1LB8l9LqtD22K5q29byuvZt21tCSJ8wrd1i+Dxdesly1ps00ruDOtwzWdvd/D3A58l0/W26v6QvnY/fqq16z8hVhaRfLy9whJC4Tr00z3r/VWwcqQ5tW6i9tdt721btLSGkT5jWpjjuXQAAgIZEENkIlWUMV8KfCx0Dt3ZXn/BohUVFKyx8oDrd6th0oXC+EuJTVOYYcnL55BuaM2KqPv7aMdaq80CFREUrLGqk+txnqKT7OkepEx5XxpEa0rsrx7VrygNalnncMeblpy7B1nMzH0+SjryhhMRtuuA8anJa2599Uvu+k9TyNuvxwtXlVknBL2poV8eeF/KnavqU+Sqq6fN0bu3YcDpFS8ZOVZGbX4DKNgzWrOQcy9S6lrep04CRCouKVsgA52rKirypmrXK8J3cICXrwzQryXF+tmtd7fw+jFeCm/M7lzlC0+Pe0HFDWOm4buHqcrvhun2do9QJA7Qmv4b7QNK5TcOVkGI9L9V0bmX6+JUgrc43vtK1Br1PAeAG8HlirUrO/01/Gt9fd7e5aOmW/eVFtbm7v8atLNA3Z9Y6pkBX7NFTEyzTuP1fSNdLPU0HC1ikbS/4S6rQpglPaY/tP65PvKm/PdNfPj+zduh+94CuYSVGC5/BSv9Xgf403nC8sxXyCRin1/ec1A8frNVzT1iip/R3nFcH7PVMgb4pWmvpsnzR0hW84md3q///XqsD//qbJhk/z88G683cZy2NTy5+qS/P7taBY4bt1fgobOVJfbP3T5oU2ks+P1qPLx/1f+IlbfvXDyp45hqmfaNGbUJe19F/7dbr4/vrbh+pwtbp3aeXwp7ZppPnTd8pAABAA2JqdmPzwzYte2yqPpYk3aaHXsjVjCHmKcaXVLZ7qub+cZc94HvolbN6NtwQJknSd7u0Kmqi9tkqy+6L09xVL6q/MXSSpG8LteuVJ7Wx0BrseI3Us5mr9ZAh8JSkiswRmpK01/rsNoUkFmhqqIup11VfKPeVMK153xYUOaYYGxmn7EqSej6jxOQX1d3+vpd0+YfWatXW+rQsXYkj4nXYtrlztJ59fakeMoaP1sq/hXFv6JT1eauIt7U+Idx+ntXeV1L3P2zXsxMGyse49ETVcW2PC1aG/ReogZqSuV1htxv28YDq53eb+sS9rVljA9XOOCX5u0JlxA/Wdvv5hWv6e28rxHa9bA7OVWzcOkcY3HmS5qYsqHYfXD6brpVx8YYwsK/G/yW32vdmPp5PaLISE6LlZ7x25nvKyuXU7Aa+T5maDQAAgGvF1GwAzRVTs5urf+61hpCSgpe6CCElqbX8hqzXrOGOoObjD2wBocPhNVMd4U7PBVq+oXr4JEm6LVBDX9+j8bZ//a7aptVrzdV1x5W90fEefuN3aLqrEFKSvO5VWOJ6RdiDqeMqsYVCNbpXI54zhpCSZAghJR3eOMcRQt46UnPXJlcLISWpXb8X9fKrI+3ndjk7RXsNlXZmnabkK3GyKYSUJK/uGpG82jrFTJL26oj9BG6cLnF7lDDOFEJK0q2BGpucbDi/HBWZvzZ9oV2vG0LIngu0PH2Jy/ugVedoPbvpbYXYv4ND2piyzTS1ukzZbzqO1yp8vZYnmkJIubin3GjY+1SS7tXQDf9Rxj7r4yYPIQEAAAAAaCoIIhubK4bVnyoq3E5p7vNYjNp5+cnHr6/63yPnzp0/bFP2Dts6evdqxHNx6mQOsoxadtfQ556RbRbZha3rVGRcc/C7f6tV177y8fNTKw3U8NF9DRtdaPmQugc6npac/cK4tbrbR+phd6HVlRzl2T+P9NBzK9S/WiWcQ7tBs/REB6mdX3f1Cb9XMq0z6TBS48d1Nw863DpUIcGOp7V+jobmNUnjx7o7v8f00ADH02rndzJN2fYQuA73wa3hmprgCHH1frpziHt2q7KP2J4EanzcULUzbHZivafchoANfZ8CAAAAQDNTumG0AgICGvQxekOp+W2ABkEQ2dh0uNcR3ByZq4Q/7tK572pozNFviVJzj2jN9lzN/UO4PZyRJB14z1FZWVvIZ9PzMT1sr2zbpSJ74CTp1oEasTRXa7YfUdq+ukxPbq12boLCagb0UxfzmNGRHH1kfzJSYaEuKuacdNfYLf9R6vZ8JbySrLBfmLdbBT+mPu6CL7VWO6cLe4MFBqqH2/PzU/s7zWMOZYU5jvVDu05SaB3ug1bBkxRmvw/26uMDjvuv4kCOztmedB2q/m5TRkk9RynUUt3tWkPfpwBwM3snWi1atKj/Y8Ie85EAAACAnwRrRDY6Zcqd8YDWHDAN39pX/YeMUthjQ/VA13vVzjwV1uTcxmDNWmNtKuPVVw9F9lPtueC3Opm1S6es02T7zD6ihKjakiaHy9+V6ZuzB3X8wF7ty01X0THH+oCu1gY0roXYaUq+lo+vufKvLCNM01cdsjzpuUCr1l77dFvj+/qMz9WaKe6rO8s2BWt6iuVauvocDa2+5+d0HU3nZ9zWatQepcUbylTd+PiVO7Usx/Kz8RyK/ninluy27jTkbWW8EO54UQ2MrzGf309xn96MPL2GB4BG4tN1mpzygXm0doFPae3/dizkAQCoGWtEokn6vlLlP9jWu2oYXm195X2LeRQ3sxu1RiRBZGNUtk3LJkzVx266PbfrGa6IIXEKiRyoTubmJC4bntSfOTRyuKSKY3v10b5dOn6wUIfP/lsVZe47GLs6lrsAzcwYBiribWUk1B6A1aQ+76ufOIisy/vVvP8X2jX5QW20NrOpy7Fsjid3VsJWayWk4XobA8q6Hs/d9fPsfdp8ePr/KAAAAJoLgkgAzdWNCiKZmt0Y+Y3Us5mf6NmxA+VTw7TcC8dytH3ZCM167E7NStqlihu0Tt6FD+drTlhnTZn8pFL/nK59B467DiFv7atOHcyD1+7cCWsIifq5xn8U8/FzNZ/6C5XV2nQIAAAAAADANYLIxsrrXj00fbvW/OOsUjdsV+wfwtXFVSdhSecyJ2rKc+nOzWqMIt52dBCux8NcZXYuY7Bin0uxT4m1aefnpy7B0Qr7wxI9uzJfa7LOKiMrV+P7Oe93Pfy61DxtG27UMoW/JudOuwp+75VfV/NYA2qg+xQAAAAAADROBJGNXmu16zpQEZPf1tLMs8rI/VzLV67W+Ii+js7GklQ4R9sN60q29zOsmfeff9ccUtZVWbpSVxU6nneO1rMbPlfavv8odfsRLV2arCmTJ+mhAd3lc6slML3cgFWarYyVoaePOxqwwI171clQ2FhW9m/jRjcu6YLhhunUxRH0tTJk4a7Dyuq+r6z57mvw+xQAAAAAADRaBJFNjddt6jRgpIYm5Cpt93qF2CveLumjQmszF0mduhnKEQ/k6PAPjqfX4lzmch22PfEaqbnrk/VQ19ucw1Anx3X2X+axa+fX1dBk5dhBnatDyHluY7DGRj6gKdEjtCq7bqHZzaZTd0ejm8sHCusW4F75WMcNmbNfB0ea6f/AQMeGz+oSCJfp5JGa92ro+xQAAAAAADReBJGNSpmK/hyvJZMf0JTIO7XqffN2k9uGKiTU8bTia0fFW6sBQ9XH/myXsnfXHAbZfbdNS0LuVOwIS3iXbQgSy85/4XgSOkr9XTTIcXI2R/sacn3nXw7UQ/Ynu7TvQ2sjlRqV6fC+49J3Zao4vVcVl3zMOzQLfoHhju7iJ9cpz9q4xp3LH6Yr1z79PlD9+znKIH0eGSL7JPm6HK/sHeWZO8AbNPR9CgAAAAAAGi+CyEbFT+0qtqroWJkqvpP2bXWz7qMk6QudM4QwfR4wVJfdPkqhgxxPjyf/XrvcBoPfquiNOSqSdKGsTBWnb1O7zuZ9rM6edn9eV45r1yvzdc48fj3ajlTEcFsgdkn7kpfplJuqyAv5LyvjiO3ZUIU+ZpgC3Jx0nayhD9iefKHtr6e4ryb9LkerE7fpsu158CSFGC+dX4wi7PdVbcf7Vh+nzJfbWlRP3qcAAAAAAKBRIYhsZLpHxTkq2A7EK+GPu1TmqvPxlW9VlDxcG+1djMMVGmZMjForJG6ButifH9LGCYOVcdBFh+uqL/TxH8O0JNuxrcv0BQoxVD36/9IwJffIXP1x43FHWGVw+fQurYkO1kZzpdyVi6aB+uszfqmjeu78G5oz5VUdd/FxLhx8VQvnbNMF63O/8bOcPkvz4qeIZ55x3FPH5mtWdLw+Plu9ovTy2XQtG/ek9n1nG+mr8XEj1c5pL9N9dWy+ZsW5+B6qvlBuQpCW5VR/H2cNe59afKFdE+7U2BDrY0JKHaaQAwAAAAAAT2tx9erVq+bBpmRz/lfmoSbvePL9SthqDGJay6fnQA3ofpckqepsoYr+eVwXDJVo3eM/UeKo6t2DL+THa9YcU2Xlrd3V55FA+d0iVZ3dq48OfOEUKraLeFurEsKdA6grhUodMljZ9pDK0tm7z6CB8rtF0vdfqPjDvTpn3+6n/oE+Kiq01sNFvK2MhHDDi6WixDu1JNvyc6e4T+rU/fhC/lRNN4SMktSuZ7ge7n6XpH/rZG6OThnPsecCLV8Tp06GZjf1fd+yTcGanmL5HHXZ/3rV9/zqsv+5zBFKSNrrdN1adR6ohwfcKy/9Wyf37dWpr42hoZ/ClhZoSvBthjEHV9+Dz4CRGtC5jct7yqam82uw+1SyBpEPOkL6rgu0aoMh4L8JjQm+wzwEAACAa2D7/bJbG7fTdNCUnEnT6OHJKjGP18Dbz1ded/TUsFFxGhvZQ772vgzAze3ERUt/CE//fklFZCPUPf4TJYy1r8Qn6ZIqjuUoNzNduZnp2nfAGEL66aFXjrgMISWpXXCylq9ZoP63Gwa/O67DObZjOYc7nca+rVUvugh3WgYqdk2y83GqvrAfJzfHEELeF61n/3JAcycOdDSzKfxYpxyvvGbtgldrlenzXLBfG+cQ0id0tdaYQsjmqlPUdq163flaXD67V/ts180YQt4ertgNB2oMIWX7HkzHqziwrdo95TNkvRKnGO9l1xrsPgUAAACA61BZVq7yo/lKXRitiIhp2nzC1RRFANeKILJRuk19pucrLTNXU/4Qri5+fmpnDNNa3iafnuEa8ex2rco9omfD3dd6tXsgTnN3nNXy1xcobEB3+dxq3NpaPvcNVMgfkrU086yWTw93fi+j+6I1d+sRJcRHq899fk4ds1vd3l19ohbo2fWfKyM9WQ91bi09EK6HbTt8vU0fmadrXyPL5/lcS194Rv17mq7NrX7qErFAc9PPak3iSPnU9FmaoXaPLNDyXMd18zH+y96tfuoS/IxiV36itMy3FdHV0aCmJu0eWaDl732iuXHR6nOfIbRseZs6DYjTlPWfa80LQ+v8HTTYfQoAAAAADaGyUEljJyqtIapqAEhMzQaAps/TpfMAAADNBVOzb0L1nJrtUkCCslcPk695HLiJMDUbAAAAAACggUUu36/9+02PgjxlZ6xQbJCLuHF/mt49Yx4EcC0IIgEAAAAAQPPm5S3fbsGKW7lVSRHmDjUlKjzKWpFAQyCIBAAAAAAAkCR5KywizDyo0n+7WhauSqX7NytlVrQiIoIUEBBgeAQpYnC0Zq7eqeIK8+ts8jXP6TWjlXZGUlW5CjMSNW1UqGPbw6EaPTVZuafqFohWnclX2svRigg1HD80QtGzUrTzeKV5d4NSpY2tfk6Vh9I0e7jjMwZFRGteZonqdjaAA0EkAAAAAABAfVSVKG1ikKKmJin1/WKVl5sjuSqVlxUrf22iosMjNDu73LTdtarSLM1+IkLTXtupwlOGwPBKpUr2p2n2qCCNXl6oGqPEK5XKXz5aQcNnKnlPscqNO1aWq/j9VCWOC1XEjJ0quWLY5kbV52maOjFZuWccn7GqvFjlV34uc+0oUBua1QDXoGxTsKanHDcPX5dOcZ9o+bh7zcNArTy9mDAAAEBzQbOam5CLZjWRy/dr0SDDgJNK5b4UodnZzsFi5Gv7tSjUsU/WrFDNe99pl1r4K37HFsXcYxzL17yAmcoyDtWR7/AVeuelYFMQWKn8l6M0c0+NMaWz3vHasj5G/i2Ng6VKGxul5BPGMRe8xyg1Z7b6Ob0WTRnNagAAAAAAAG6E7ytVfiJfKU9FVQshpUAF9jM8PbROS00hZI+Jbym7wNr45v1svfVUoCkkLNHOnLr27vZV2Nx06/EKlJeRpGFOAaZUvmOekj81j802hZDeCpxhO68CZa+OdQ4OjyZrdnqpYcAN7zAlbC1wNPfJI4TEtaEiErgWP3yrih8umUevS6u2fmrX1jwK1M7T/2IFAADQXFAReRNyURFZX95RK5T9srH6sEqVpSUqzHlXO3PeVeEtk/TO6jFy7rddrJSIaKUaZ2QPXqH9C4MNA64qIr0U+Vq2FoV6O42qMl/zomYqy5gzBiQoe/Uwy/teKVTSwGnabMhQe8zYovQJ/oYXSDqaoqgJqXLEj5Fa8dEiBdtDRVcVkV4as7pAswOMY7jZUBEJNGZtb5PP7X4N+iCEBAAAAIBGxjtSi54xT4H2knfHHgqbEK8VG7JVUC2ElCRv/dzHPFYHfeP1jDmElCTvYD0z1ViWKWl/rgq/t/58KE9/dSrkDNb4UaYQUpJ6/05juhkHsvRuvvG5C16/UyQhJBoIQSQAAAAAAIBZ31ilZi5SsItc0KUrVaosLVb+1hTNnBBd+zqLLvgPCnQRalr4Phwi52ixUAetrQtKDxY6d7DuFqh+txgHbDrKv4fzSOGhYucBs3491Mk8BlwjgkgAAAAAAAAvX/n6+SswIlYJm/K0f32c+rkLIa9UqfxortIWT9PoiCAFPByk0KhozVySqvyjdWwYY3KHz8/NQw5+HdXRaaBK//2v5aeSU6bJ5yeSFRUQoAAXj5l7nHctLz3nPGDmd0eN4ShQXwSRAAAAAACg2Yhcbm24Yn4UZCt7zxa9tThOw7q7SyClykNpmjk4SBETZit5R6FKys0Nbq6Nr6+byO8Wb9V4Vj+aB+rh81LDmpGAZxFEAgAAAAAA1NWpNE2dmKx8YyMaWSoqewwapti5K5Sema44p7UY66b4lJtI8PtKXVud5fXx8q4x/gTqjSASAAAAAACgTqqU9WaynFZV9A7U7E0F2l+QrfTlCYobFaweHb1NDW7q5ty/LZ3bXSozVy76qqO1wbH//abGNN3ilWmu+KzpkRFjmvLtrNNdnu2ijOaFIBIAAAAAAKBOClWY5zziP2G2xnQ3x46XVHXFNFQHVTm5OljD68o/2ifnlSB7qmsXy08d7zd11D5xTCU1HAf4KRFEAgAAAAAA1NEl0/P/fu9ifcij7+qvp8yDdVCepqXppsYzknTloNatPug8Fvq4wmydsR+O1BinLDRLKa6OA/zEmnUQefnrQ/p4U7wSox9Q7G/u1NgQxyN2xAOaM2e+dn14XJf5V4Q6KUp0voZjJ6SozLwTfnpXvlXRqqnKPmvecO0u5DypsSF3KuaVXbogScrRKuO9cM2PYO1qwPO8Nl9o1wTb+UxVkWmr475vDOcKAAAAwLP81dO09mP5+ueV9H65qiSpqlIlOYmKmpBavQFM2VcyLyvpSvHK0YpdXajy7y3Pq07lKnFUrDY7LRDZUbETIx3Tv1sGKmaq8/Ts4pWxmrbBcRx9X67CDdMUERSh6FmJStmar+LSSst5AzdI8wwir3yrolXBiokK07KUdB0+XaYLprDxQlmZTuWnaONzwYoJC9bGD7913gFogi6fXKclw+/XkoxDumzeeK3OpmjhKzmSBio2bqjambcDAAAAwE2jox7/faBprFSbZ0UoKCBAAUGhGj13Z/UQUpK+Ktd/zWNmLS3/c3DtNEUMClBAQICCRs3WzjPOu/WYsUJxvZ3HOkYnKd5prFKFKx3HCRgUoWkrC1VeVa7i93cqdclMRUdN1eZrqdwErlEzDCK/VdGrD2pJxnHzhppdOa5dzz2oVfmEkWiirnyr42sHK2bCXBV9bd54Pb7Qrlfm65Qkv/ELFOZnG79LD0RFK6ymR+C9jkN0GFh9u/0xSp1sUw0AAAAAoBHwHZ6kFVG+5mFnvsGKf3O2go1jp/apsJZpg/5PpSp1smm9R5N+k1O1eoKpOY0ktfRXzNotmh1Uy7nZ+AYrfv1qxVjXmQRuhGYXRFZkTtSS7GsJFL/VvjlTte878zjQBHw4Rwl/LjSPXrcLOXO08Zgkr5GKndDXsKWvwmYna0pNj1GGf0HsF1d9u/3xjPrfbjjsT+JeDd3wH2Xs+48y9q1Wf/NmAAAAAM2Mt4Jfzlbe2tmK7O0rb2sVo+Ql3y6Bink5XXl7Vijm4UcVFmB83UGlbXHqt+3CHeo3NVV5mxIUE9DRMfXay1c9BsUqaUeBUqf2k7fzixy8/DVmZbbyNiUodlAP+fo6N9Hx8vVVj0Exil+5RQV7Viimb41HAjyixdWrV6+aB5uSzfluWttXc1wZo4O1/bxxzE/9/7BC40cPVKfbWluGqr5Vxdm9ykiYqNzTxn2lPrOPKCHKXvYFg6LEO7Uk2zDQdYFWbYgTV6sRyJ+qsXO2GQa6a/xf8jW0s2Govq4UKnXIYGV/J3WK+0TLxxmqHGtjPJ+It5WREG7eo8lw3PcNcE2v0ZjgO8xDAAAAuAa23y+7tTH9Igh4RL7mBcxUlmHEf0amtkzoaBgBbowTF++TbsDvl82rIvLrQh13CiGl/i8UaO7kcEcIKUlet8mn61BN2bBdEc7/eKDD/zR1qQKaqYod85X9nSQN1Yjh9QghAQAAAABAs9S8KiLPpmjW7+frnGEo5NX/aPogw8B1uaSyD9cpY+2bKvqXowFOO7++6j54kn4/OlpdbjO/xuySyg6kKS8jXbmfHVfF15cM21rLx6+7/N0eK0erQp7UPvvzkZq7b7X834/XH19N1ynr1PJ29w1U6PT1Gv+I6SA/HFfRjhTt2v2eik+X2RuatLq9u3qERGvo2Enqf58htDWoqSKy/dkcZa9/Ve/kHVKFtR1Xu/sGKnTcAo2I7Kt29jL2a3P57F7lZqUod89BnStznLMktbrdT516RSti8lMK+4XLC+bk8uld+suyPyrvn8et319r+fQcqicmv6iIR+5VK3Nlobuqzyvf6lTWcm3ctNVwLVvL576HNGBInIaPCpefKei2q+l9qr5Q0dbl2rV7lw6fti4x4OWnLqFP6fcTJ6l/Z+fvpmxTsKan1L4easjS/2i60+IltTBUQ2rQaqW9OlKtzPu4cw0VkRf+tUt5O1KVu+9jnTP8uWh1u586BT6l30+ofm9eznlSMa/kSJL8/pCvVZO7O203q9g6WFOSLVPYu8cfUeIoP2vX7Ae18aTsf56M07NdVkRe2avUx0You0qShmr6e+sV0tbwomoKlRo22LJ/h2e0fMuL6mTexQ1P/4sVAABAc0FFJG4sKiLReFAR6Qm+d1ULjPa9OlG5Z41h3zX6Nkcboztr+nPzte+YcxfuC2WHVPTneM0Z8oCWZLoJhaqOa9eUzpo+Y6625x8yhZCSdEkVhmMty6lllVurb/KnataLjhBSki6cPqjLtzgHcxU5EzXlsWAtsXYSNwZ6l78+rsOZ87UkurOmJ+dU6zLu2r91eO1gxfz+SW3MdoSQknTh9F7t+mOYYqek6FydjuXKJZ3bNFgxvx+h1D/n6JQphJSky1+X6VT+G1oz8X5NSdimihrf61sdTn5QMdETteuALYSU5Zof26aNzz2oKc+k1/lcbd2p5/wxxXQtL6ni9F7lpjyp6Y8Fa+OBuq9XWnHkVSU89qD1+zG8rqpMp7Lna8nvH1Ciu/urIf1zm3Kt99NDYUPrF0LWV9VxZT/3gGInTtTGzL1OIaRs33G27d7cqwuGba2CR+kh689lmVvlvhlcmT56z7aOZrgihpj/a1EPLQcqJMoWiu7Svnzzn2WTA9uUa/3z0X3s5HqFkAAAAAAANBXNK4hsO1D9HzCNfbdLa37fWTETp2pX3iFV/GDaXhff5WjV2Ce1q9Z/NCtTUVKw5mxyFRZ9q30Jwdp4xDxekzJ9/Mpw7TprHjfbpjVztjmFM5KkAQs0wtCI69ymME15ZZcqjPvUoGzrk5qelFMt9KvmZIrW1NYg5dh8JayqZZ8aXMj5g2al1P21FXlTtTDjC/OwpEsq+uODStzqapvDhcJ4zXrRuM5iDU6naF5dulNfOa5dM+rYjf3sci2Z8oaOuw1Cv9XhpIl1uCeuX9HuddbvP1wPB7uukG0YX2hXXLBSP7SG7l591X/sAk1PXK9nE9cr9g8j1ceQF5ZtfVKpxtCv7UiFRVh//jpdHx1zbKqm7B3ts/35GzRKD7utYKxd9yhHpWxR5la3f7YO56VZr2egQgZdRwAKAAAAAEAj1ryCSPkp4qlJamcelnT5X9u0MSFMUx67UzG/H6E1m3J07rtaqpgkSWXKffFJ527atw7U+JVHlLbvP8rIPaKEPxg6BEs6leIiLDqyXKn5zkNdxm/Xmlxrt973jihhykBT5dlx5ea5CjVd6PmMEjLPWjv//kcZK6PlY9t2NkXLUg457d4ucIF9/7TM7RrR02mzLuyeo+3uQh2729QnzvE50tKT9dCtzntc2JqiffUOgAu1/XXLlFs742f8x1mtWfmi+pimPp/bvc1par4k6eB8rdptCgM7R+vZdOux3qv+HdboSqFSp8x3rrxzOla+poQag6ZvtS9hjopq+/xV31rCZPOxBpmnmx/XO7sd36XfuHzLvktHOu1lmUZs6wRdz2nZKlRRnvXH+x6S/3UGdu5czplv6cotST0XaPl7uZo7PU4hoUP1UOhQRUxerYTtZ7V8iq1j9yXte+89wxGk/kMmWf/clOmdrJqD67KcVNn+NIUMqedUc1e6jlJIB+vPB7bpQE3B9JUc5e2w/rdm0CSFkUMCAAAAAG5SzSyIlNRviRLjbKGFa5fPWqbOzorsrLEjRmjj7kM1T0U+sFypB4wDfTV+zXYNHeBnCTK8/NRn8h4tHW9s5nFcG9ebQrQHXtSqLbl6Ni5O/Xv6qdWAJXphykD52IK0tn7qM36Bnrjd+WXnTrmv4rMIVOyrL6rP7a4r1w5nvOocznV9UYmvx9n3b3X7QI1Ndl4XT/pC27eYPoMLneJylTDO8Tla3RetGc8NNe31sc7VWk1qFqjfb/1ESxMXaGhwX/l4DXT+jC1by2fAMxo/1pTqnC6W84T2S9r3l3XOFaNeI/Xs2mQ9ZFtvsK3lO1w+xf36gnJq4GJ160jNdTpWd4UlFjgHf1XbtHFHHb7HDs9oabr5WOurNVSqOHLQbfXddTtbqMO2afY9+3pwGvElffTeLuvP92rEi3Hq5HI90dbqNG6WQmxPT37h/B0PGKkw6zW6nLnNHjY6O668HdYtXpMU+oh5+7XoroixtgB7r/JyXS+lcDkv3b6mq8enuQPATaJFixZq0aKFeRgAgCYmWIv279d+w4P1IXGza35BpKRO43K15tXoGkINkzLrWobDn9SuI9Wn0B5/3zal0ir4KUVY1vd00mXIJOfAJnuripzCzdZq16GvHhq3QHPXHlHaykmOikW729Su+mDtBkTr4ZqqrIzVWFb9J7gIfG4dqbCI1vLpGa6wPyzR3LWfKHVObQ1Gwl12U27VM9AUXpWprNxpoE5a3XqvuoTGafzSXK3J3a4IF5/xFu9aLtiVvSp633mo0+QXq1VtSlKncQscYZdLZTrwvnPFnc/wp9S/2rFuU0iUc4XiuaxdpoC0uk7DY9TF/L20HKj+oaaxim9lWI6z4Z0+aA+uO3WrPZy9dqd14Up3+fjdJnWdpNCu5u0GLduYRwwCFTHOeh9WpWmf0z8cWJ3cqn3nLT+2ihqpPubrfI18Bo2U7Qodf+8dFwHxJX2Uaw1bvSYpItT1PxYAAAAAAHAzaJZBpCT5DErW8tzPtfSFOKc15mr0dY42TgnSmg+Nod0XOn7AOcTr9MtA1xVNnbvL32lgr47/y2nAtSuXdOH8IRXteFVLJodZO/fWT6uu3V2EmlZnD6nEaaC7uv/CdRjyUMJZrVn7tqZMnqT+Pe9Vu5o6Ptt0Hajurqbt3nKb2pvHGtDlb7/QqQ/XKWNOmOaucV3/Zlft8/vp4QHVw1PJGvq5ncJ8UEdMIVefPjVU397XzzmMPblXx2uZnu1/Xw3ndYOVnTZM/fa7y2lbw+quiNfztWb758pw0Zn88rdlOndgl7LXTlXi7/9g6BRfXaewkdbXX1Ju3l7zZp16L90aBN+rJ6LqOA2/LvxiFGG7Z45s00fmtPmHXdpnDcIbMgAFAAAAAKAxarZBpCSp5W3qMmSBErb/R2mZuXo2Llp9OrsO4SzKlPvKfEPDkOM6ZwoGz6U8qLEhd7p4PGkKSspUZg4lZAkeK47t0q6kEZoV1Vljf9NZsaPDtGTZGyo6Vr0isy7chkVni6utmejl6TDk9rtqDkavweWyQ/p4U7wSox9QTMidihnyoOY8Z+k8XuOUeptqn99H7apVMNq0Vueu5jjM4PxxmZf+3DfHfB9YH7+fb3rfL1zfD3bd1amzeczCs1WJ7rVr6+7PS8O5/PUhfbxpvpZMfkBTIi3XMGbIA5o1Y6JS/7xNh2vrfN91soZaG1Vd3r1bh53ui0P6aLf14ncYqRB3lZf11loPP2ZbiqBQ2TnOU/Ar3ktXkdTwASgAAAAAAI1Q8w4iDVrd3lcPjUtWwl/OKuO9I5ZKSVeh5HfrlP2h4+n1TIEtOescSlw4kqIlwztryuSJ2pi5V+e+riVcae6+K9Su5x5QzIgwLUtJ1+HTZbV38r5Obqd6X9F1vP9xnTOnmCYeD4gboyvfqmhVsGKiwrQsJUVFx8pUYVyDU1Kr27urT9TQWtaq9NPDj1mDvqp1yjP8GdbBdL1jbSTTfezkWo5Tf61Co+1T+s/tSDME0GX6aLe1OrO2qecAAAAAANwECCJdaetnqZT8y1mlvjGp2pTQktN1aCxSX6dTtHDKfBWZO+t6+alLcLRGPPu2lm7J1dhrCCva3+pu/bwm6spx7YofrI0fmssIndexXDq5YasFv6+svsofPOWSipIe1JIMx/T6dj3DNTRutZ59PVerMj9X2j/+o7TMfCXMjjYtfVCdz5BJ9oZL+3Zvs4fGh9+zrfMaqJBB5j/tDaBluEKHW/9R4/w27bNVUZe9o31HLD92jxpV7b8zAAAAAADcbJpREJmjNabpsVPWONa6q0m7wDhF1Bj+dZe/aVunuE+Use8/dXostzXQ0CXtWzNfp4wHunWgYtefVUbuES1dmqyxw8PVpcNtqm1ZRld8fN1EHJ17mCrAKnTBVHHWGF3O+6M2HjOO3KY+8blK+4fzOpa31HbB6vX5L+nsSXPwaVBtHVApZGn1772mh1Mn7SaiotzN9bheJ5cpdbdtOYK+GrvhrFLXvq3x40bqoUf6yu/229SqPlWibYcqZJD15/d36aMfLM2KPt5trTwOnqQwN39Urkefx2Ksa8d+oX25lmC1LCfV2sE7XBFDPPTGAAAAAAA0Is0oiByoB0xBT8XGmdp12nmsmtPblGtaB9IRftyrTr2ct507UUtzFJf26oi5c3P0EkVUaxpzUVW1rXlYX537msKzMh0+7DpcupwzUTFRYVqS9KqyPzyksu9+uqnjhwutnYZt7ntKsaP6VgumLtd2vVx8/o8O1FDx+sMufZRvHjTqLv+eziMeqZ79ifnd52jA8823nqsQLSvMsXcS9xm/QiO6mv88GBz7WIfNY9W0VsioSdZAcJc+yr8kfZiubOv6Cg89NtR1o6mG0C9WT3Sw/FiWuVWn9IU+zrL+t2LQKD3sqqkTAAAAAAA3mWYURBqbRtgc0sboB7Rk7S6dOv+tYX2/S7rw9XEVrX1SU6JfNTUVuVcDAh3di/tH2IINq+xXaw83XTCvNXnhexch37GtyruGY7tlnDZqdTxjrU5VC/DKlLtlly5/fUhFmW8o9bkwTY+cqaJq+90gP5qeV/5QfX3GK4e0L7OWYLjlQPW3VclZnVv7qj52URV5butyfWwedHKvQiKdG46c2/Cqilwcq0nr2k9drD9eW/BeR1ccfwba3eImhNS3+vgvKapTJPrLIQqzVsl+/MF7+jh3m3XDSIWFunuP69VdIRHW/258vVuHD+5V0UlJaq2IUSM9F4ACAAAAANCINKMgUmoVvkDjTRVrUpmK/jxRc0bfrxj7tO3Oio0K1pI/51QPN4Jf1FDjdOwBcfq90/TsQ9o4ZYR2HSizV+NdLturXc884KaasPoU74qNf1BqvrX5StW3OpcXr+mT37BXiNn959/Vz7Ge+ox90R4sSZLOv6E5ca/qcJn1HH84ro//+LhSrevZ2fiNf0r96zM1tgFV6xT99RtalpyjiipZguSTu7QmOkzbzzvvJpXpG6d1OFsrZMIzzuvzVW3Tssnx+vi08fM/qFlrag/dfIbMUohxOvh327Rkcrw+PmkLuq3n9vvOio0eoVWrUrTvwHFd+MHwGk+4r59pCvpxHf6nZdrz5bJDOlftxnKjQ6B62D7jgYPOSwo0IGPl5bn05a4D3aoyFSWHaVmO4c/TyYPVOsHbtRyosLHWbztvvjbmWX5sNTza4/dyp6g4We7a48p9PcVSwekVo5AB5j0BAACAxqxUaWMDFBBgeLzsdupYw6kqVf6GeYqOCHJ6/9DBozVtSa5KzfvjmlUWJGtehusrmv+y6fsfm8a1R501qyBSuldDk99WyK3m8Tq6PVpzE0aqndPgvRqauMA5yPturzbOeEAxv7EEmzEjRmhjYZlzNWH8Op2zVxPeq5BRA41HkPSFsuc8YAlHw+7XrIT06iGkJJWX6YJ5rL46x2nGdOdKPh15Q4kjOluC2ceCtWy3aYrx7XGaPtkRFN1ofuFx6mMaK9v6pKaEWYPkCROV67IL9b9VUWka6vmipo+6zXnsbLqWRbv5/DVpG67YRNM9cjZdyybYgm7buV3ShdN7tS9jvlbNCNb013Ou/3t0p0P19SuL/ni/9f4M03an9TZrE6iHhlirB7/er5PmBksN5ZFJirD9Wf1um5YMCdaSVSnal7dLH+etU8YrIzTlsQe0ZOsXkvzkU8c/110ei7YEz1VfqKxKklor7DHznz8P8HtCIQ9Yfjx30hJq+42LtYaTAAAAANyqzFfiE1GauTJLxeXOcwory0pUWFalO5xGcU2qSrR5RoRCZ6Sp2MVETeB6NbMgUtKt4Zq+dY/GP1K/5hA+jyxQ4qZk9XcVdtwXp0Ublqj/7eYNrvk8skCJyXHqZKjA8olar7m1Nay4PVzj31hi7/wrSTr9nmpY0rFeOo3dozWvDJWPeYMr98UpYdMCdfdwBZlbftGatTS6lvP1U/+47Yp1Whv0uIoKq1+w7vGf1Hr9fYas17OmaeyutAterVWvO3+/7nSKWq/lL4abAu4G1jJcI+JqDo5LztYxaLXqE2prvrJXHx/w0P87tQxU7BpDyH/luIoy5mtVwkQtS5ir7Tl7VXFF0u1DNeUvB/RspO27OaRzLkNoq64xzg2obo9TWD/Dc4/xU9jocMPz7oqIJIYEAAAA6qIkfal2lptHHfz79rim5q5wqPw0RbEDRyupwM2FBq5T8wsiJenWQA19/YjSMnM15Q8j1ec+P/mY/4vl5SefnuEaGrdeSzPPas3rceruKoS0atV1kubu+FxLX3hG/Xuaj9daPn591X/sAs1Nr+lYt6n/C0eUmrJEIT391M4eYrWWz30DNfSFXKXueFtDA5/QQ05TOQu1a0ft3b/rwid8vda8l6+5cdHqc5+f07p1rW73U5fgZzRl7RGlpS9Qn2rnf+O1C07Wmt17FBvR16kartXt3dVnbLKW7j6iueMG6uFg52o312tgOq5/2IB7HZ+95W3qNCBOU9Z/rjUvDFUr89qd5vvGqt0jC7T8vU/s19LxfVqO6XPfQIX8IVlLM89q+eyh8qljaHk9Oo17V6sS49TnPkP1p/Vc+lgbqdTZAEfzlaL3dlVfn7Oh3BenpbtzNWXsQHW63RACe/mp04BojX/9E6VlrldY59bqHmhbA/a4sm2NYFy6VyFRjgpgv6hRzhXNHtQqeJQesj15IFYhnZ23AwAAAHClSsXHTZN/vSOVlLNf+/fv1/6CPKVGm+eAoX7ytXRyqg5W+125uuCF1utue2TEqKN5J6AGLa5evXrVPNiUbM7/yjwEeExR4p1akm0YiHhbGQnGKrfmo2LrYE1JLpQUqNjtexThvqAUkvTDNi17bKo+ltT/lbOaG157hW1djAlmEgqA5qVFixaSpCb+11gAjZDt98tubRq6S+jNpFRpY6OUfMIwNHiF9i90morWwH6K92xu8jUvYKayDCP+MzK1ZQIRY3Nx4uJ90g34/bJ5VkQCdl9o15T7NWXyk1qzdp0+PnBcFU6NhIzKVGaa8tule/OdWuszfIF1DcdC7aqtOzkkSWU7bJ3XhyokuGFCSAAAAAAAmgoqItHsVatylNRlSq5eHttX7axTry9/e1xFKU+amtZQCXgh50nFvpIjaaimv7deIW3Ne8Du211aNXyi9lVJfuNztWpKzWt21pen/8UKABobKiIBeAoVkXVRl+rE6vtELt+vRYOkyuM7tXH1Zu38sFi2njPeXQI1bEK8Jg3pIW/jslVn0jR6eLJKDEMudYtXpqvpwVcqVZy3U5u37tS+gyX295O3r/x7hGjYhEkaE9SxphW3XFQJRmrF/kXqmZeoGQt3qtjaCNW7S6CGzUpS/D07nc/Xdl5VpcpNXap1OwodjXa8eyhyYpzifh+sjrYTqDiozW++pbTdhSo1XpupCYoLd3eekiqKlZu5WVsy9+nYmXJVGqdYu/u8db3Ghu84/+UAzdxj2FbT9be53u/h/XkKmGWo1TRc1/y/rFNaZq4KT1m/DC9f9Qgfr7j/PUbB99R4RLhARSRwg/Qf/Yyli7LBqTVhig2zdD0fG3KnYoZU75zdbsgshZlf2My0C1+q8T0laZcy0qmKdLZXG+Oe1JqkeK2ZE6aYIZYQUgrX2OiGCyEBAACAJuFKubLmRih0XKJS33eEkJJUeapQaQujFToqSYXWPOl6VRYka3RQqKLnJmvnfkP4JUmV5SrZv1PJM6IUFDFbO884d+F256v352nU844QUpIqTx1T1S3ext2sqvRVQbJGD4zS7LX5zt2+K4uVtXKmop5IVH6lVLJjpiLCY5W0wxFCynZt5kYp4vksldewfmNlXqIiwqM1e+VOFZ4yhZAyfd6JKTrYQNe4Ljz2PRxKUezAKM1cudMRQkpSVbmK9yRr5vAITdtRa7yKnwBBJNDzRS15fVK1MNIdn9DVWj473KmhT/N0r4YmWDpbl/15rnKrNyRvxu5T++9ylJuZrtz8Q9aGPrcpZOlqhTSCZk8AAADAjZS/cJTm5dTSjfnMZs18LV91j6NcK9kxTVEz0lRiDuRcKc9V4vCJSjlUl3QuS4mzslRtz4B4TfqVeVDSiRTF1nYe5Ts1MyJIoxfny93Vqcybp3mZLvY4mqLo53e6fa2TQ6ma2gDXuC489j2cWaeZE2trrFOpwsWzlXbGPI6fGkEkIKndI0u0KvcTJTz7jEIGdJePsUOzVL3zeeLIG9Lpukm4L04vvxIuaa9SU3bpgnl7s3WvOg1wdJ9v1Xmoxqd8ounBhq7lAAAAQDNRWVkpyVuBM95SdsF+7d9foOzVseph2q9qz2blfm99ck+Mtuzfr/37MxXfzbTj4BWuuzYfTdHMxYXOYeE9w5SwIVsF+/dr/0cFyl4dr0CnAsZipU6cp6w6ZGCSpN6xeiu7wPH+q4fJ17yPgffD8fb9C3YkKMxcPFlliQWN++WtrX5tCv/yrpx7h5dr55upzmPeYUrYaju3AuVlJCnSNGe6as+72mcL8ezXeIUinXeT/4xMx2esb2MgT34PVZWW494zTEm2z/r+FiWEmi9siTZmFpvG8FMjiARsvO5Vn+EvavrKfK3JPKuMff8xPM5qzfZczZ0ep/73mUNKtAt/Wxn7/qO0V4aqnXljM9Y//ojSrPdQ2l/Wa2g/QkgAAAA0X8GLM/XWhED5ekmSl3wD4rTy+X6mvQp18JpXfSrX5tdMwVy3OG3JSNCw3r6WNQhbesk3IEZvZa5QpFNula+FdaoU7KfZr8cp0PIhatcxVqtXxtj397pnmOZMNX/m6vt5/ypOL080xZsnjpnWcvTVsNfytGX1bMVGBMrf21djXkvSsC62c/OSd7cwvfyUOUQsVqlzotnAbsD30DFW6VsTFGb7rLf4a9iSJI0xfS3lh47VvVoUNwRBJAAAAAAA8LBIjQk3V6xJvkFh8ncaqdJ//+s0UHcnMpR2yDjgpTHPx8rfVWboHaw5zzgHdFV70vRubalVwDA9Wo91vfyHP64eptl0vh2qt3XxH/W7avv16B3oPKBilZinGt/iLf+AMYpb/Ja25GVrdoBpuySvttWvu0fdgO/B1fVSy0AFh5vGvqnUJdMQfloEkQAAAAAAwLO69ZS/OThqYKUf5TtX4Xn9TpEugjkb7/DH5RyBFarwoNNANV7d/N1Owzbr0c05Zq1Jjy7Vw0ldx/WqqixXyf4spS2epqi5ho7TN8CN+B5cXi80CQSRAAAAAADAs+7v6FjH0ege/2prIV6rkmOm9QDv6ag7nEec3dJRnUxVesVn3M9Z7nSX2yNeI3/1rFteWaOqyhIVbk3RzAkRCn04QEGhERo9dZ6STV24bwTPfw/+6nqveczC//7rvJDwOIJIAAAAAADgWS0b41r7d6jjPeaxJuZKuXIXj1ZQ6GhNW5Kq/KPlqnTbTboxqv/34HUd1aL4aRFEAgAAAACAZugrlZrXXKzFHd6NKVCtVP6CUZq9w7mFjSR5dwlU5Lh4LVq9RXmLzf2wG5v6fw9ouggiAQAAAABAk+ff0zTJ+0ypvnIecVZeohLTtOUe97icQG7n61ufFSI97MRGLd1T6TTUcewKZRfsV97Wt7RoVowiA/zl3dZpF4+7Ed8Dmi6CSAAAAAAA0OR1/FWwcyOZqr8qa79xwFllfq4KnUaCFfKw00CjVq0pjCIVPytYvubu1Dd4qnZz+x5QPwSRAAAAAACg6ev9uIY5FdJVafNrqdWq7SRJlfla+ka+05DXqBhF3uI01Lj9aP5glaq6ZBpSpbLeubFds5vd94B6IYgEAAAAAAA3AX9NnjtM3sahEykaPTZRO4+Wq0qSrlSpfH+apkXNVJZxVrN3pF57KtAw0Ph17GLuN56vpc9vVvH3lmdVZYVKeypK89437aZzKi03j/mrZzfnkZJPCy2Nb74vV/GJai9wo3l9D6gfgkjc9Cq2DtbYkDutjweVcdK8hxtnUzTL/traH7EjHtCcOfO168Pjuuym/L1sU7D9NbM2fWHeLB2cq9iQOzV2corOuTkOAAAAAMDBKyhBqTPMaxTuVOKECAUFBCjg4SBFTE1WodPSij0Uv36Rgp2SsyYgeIzGmM658qMkRQ8KUEBAgIIGT1PyR85rSFpU6b/fmMc6yt+ca76fqNCHAxQwKELRqf80bXSvWX0PqBeCSNzkyvTRe8bVJr7QOzv2Gp43rAtlZTqVn6KNzwUrZvhE7Ssz71FH/RZoekRr6dh8Ldt03LwVAAAAAFAD/wnpyn5tmPxbmre40GWYkvakK6aLeUMT0LKfZq+PV79aPqf/8CQlTXBuspP7kfOqjJIUHBsvcxZp93mpaT3K2jWb7wH1QhCJm9vJtdp1xPqz9T9+l3ekat8Pxp3qyKuvHoqKVliNj3B1ub21Y/+vd2nVhKkq+s54kLpqrf5TlqqPpHNrnlTGMfN2AAAAAEBNfEMTtKWgQFtWxmtYgL9zAxdvX/UYFKuEDdkq2JqgMD/DtqamS4xS92YqaVyg/I0f0ttXPQbHa8WOAm15KUxhgx6V8RJUbU1znhIty7HW70hSTIC/vA3hobefvwL7X1sX62bzPaDOWly9evWqebAp2Zzvtgk8mrnjyZ2VsPWSpIEaP/02bVy1S5LUPf6IEkfV4b9yZ1M06/fzdU6Sui7Qqg1xqu1VF468qoVT3tAp6/N2o/YoNd55jYuyTcGanmKpdOwU94mWj7vXabvNqTUPas7GL+r83miexgTfYR4CgJtaixYtJElN/K+xABoh2++X3dqcNm8CgJvaiYv3STfg90sqInHzurJX+zKtLcO6huuhqKHqb910PGOtJVz0gHYPvKiXXwm3P7+wdZ2KrnGdxy7RL1rO+eR8peZ8a94MAAAAAADQZBBE4qZ1OS9V2VWWn32CB8qv7VCFBFs3nk9R9gHj3g2rXegkhdifHVLJWafNdXfrSA0dbpnuXbTmTZ26xkATAAAAAADgp0YQiZvUJX2Ua5mGLfkp7Dd9JbXWw48NtW/P3p1j2L+Btewu/662J8d17lqDSEl9HotRK0k6/4a25VkrPAEAAAAAAJoYgkjcnMrSlP2+9ecO0QrpafmxVfBQPWTbJzv92prW1Mm3ulBh+9lPfs4Nyuqn30iFWRf0/fi9Xbps3g4AAAAAANAEEETiplSWkypLKxjJL2KUOtk2tB2psAjbk13K3l1me9Kwyj7W4a9tT/qpk2XN12sUqP6h1h/z07XXflwAAAAAAICmgyASN6HjytthiyG7KyKyu9PW/kMmWaY6e6ppzZVv9XHKfHsQqsCh6tPWeZf68v/lQOtPe/XxAaZnAwAAAACApocgEjefA6l657z15wdiFdLZtH2AY6pzQzatufxdmc59mKJVE+7XshxbWHivRkyJlo9p3/ry6R5gP8bhwwdNWwEAAAAAABo/gkjcdA7npdnXUez+2BMuQsBAhY31s/58Sdlbt9Vt3cWT8zU95E6NreERE/mAZj03X/tOO17SffrbGmtdn/K63NdD/tYfLx8ulIcmlAMAAAAAAHgMQSRuLj9sU/YOWzXiQIWG2QJHZ10ei5Z9y/vrlNvQyZ7fUI1P+VyJY52nhV+ztrepne3nsgp977wVAAAAAACg0SOIxE3lcv5WfWx7Ehytgbc7b7frOkohHWxPCrUr076iY828+uqhqGiF1fT4wxI9m7hdy3efVcb29Rra7zbzEa7DXfKzfZavv9A3pq0AAAAAAACNXYurV69eNQ82JZvzvzIPodkqU/aUB5R6xDxeB16TlPDeEvVpaRo/m6JZv59vaWjTdYFWbYhzVFJeh7JNwZqeYgk/O8V9ouXj7jXvYvKFdk14UBtPStJIzd23Wv3Nu6DZGhN8h3kIAG5qLVq0kCQ18b/GAmiEbL9fdmtjWG8JAJqBExfvk27A75dUROLmcXKtdl1LCClJVeuU96F5sDH5VhcqzGMAAAAAAABNB0Ekbhrncrc5mrh0Dq8+ddrFo499era0b3cdm9b8JP6tsq+tP95+r9qbtgIAAAAAADR2BJG4OVzZq+xNX9ifhkx/W1NmJ9f6mDtlqOMYnmha01C+/rfsBZFd7nPRCRwAAAAAAKBxI4jEzeGfu5VbZf3Za5JCHzFtr0Gr0FhFeNme1bFpzU+h7LTOWn9s1bU7QSQAAAAAAGhyCCJxE7ikfVvX2adV+42Lrd50piYtByrC0CimbFOqDl9x2qNRqDi+314R+fCAQNNWAAAAAM1LqdLGBiggoB6PoAhFDB6taS+laOfRctnqOG6YqhJtnpGsfPP4NXHx+V9umCPDojJ7pgICAhT0Uq4qjRvOpGm0+d6q7REaoYgJM5WSWazya7nxyjYr1nC8qNUl5j3qr6pcxTlpSp4VrYiIIOfzDbKcb/KGfJV8b36hC58mKTQgQAET0lTSCPOExoYgEk3f11uV977tSaCGRnV33l6LTlFxsr+iap2y8y4579AIHD+w1/pTuPqTQwIAAACor6pylZeVqDA7VYkTIhTx1M4bFppUFiRr9MDRSiqwdCVHI3cmTVNfypcUqDkzw+Rt3l5fleUqP5qv1IXRihgYq7QT9Usjy/OydNDwvHTDFhVe671bVarcxdEKCopQ9Nxkpb1frHJzOlplOd+0lTM1elCARr+8UyXuTvlX8Vo02Es6mqzZGxogJL3JEUSiyavITddh25MHRuphP+fttfKLUcQgx9OPt6Q51mNsDK7k6KMc68+DRunhtqbtAAAAAFBPlR8lavTzWc7Vbg2tqlQ750YodAaVYk1HqdJeSlaxpI4T4zXM3e/XvpGavSRJSW4ei2bEKDLA1/GaKweVPH6hcut845UoI90aQ9pmPlZt1pYcd8lgDcqyNPuJKM3eUeyoCPbqqMCIGMUvtJ3zbMUOD1YPQ/pasidRoyPmKb/Gc/ZS8NNzFCip5M2ZSjlq3g4jgkg0cceVnVFof/bQ6JhrWD+xtUJGTVIr29MjKco+6bzHT+qfOfpIktRaEaNGOs4TAAAAAK7H+wv11n7zYMMp/ctMJeaUm4cbQEfFZOzX/v2Gx8Jg8064BpXZS5V8VJJXpOZM7GHe7Mynp0LCwxTm5hE5IV6LVmerIGO2Am3hXlWW5r3p+D3erU+3KK3U8mPgU/EKsw7n/uWvqtedVZmveWPnKdf2It9gxa/OVkFBpt5aHK+YwbZzHqO4l1YoPW+/CrYmKMyWoVZmaeZTbgJ1v2GKn9hRUqlSF6TJespwgSASTVx3jd3yH2XsszyeDW9t3qFuBixRmvUYGfs+0diu1vHOcVpuG98QJ3f/GFQffuPy7ee83LBGZXWG9S87xCligHk7AAAAAEgavMI5mHN6FCgvI0nD7jG/qEqbM1lbEVZXDuqtJZb7wX9qnIJvMe9w7by6jdGKBZGy9Yqtysxzmm5dk8Ksv1qrF/0VHDpGYbbZjIfSlHHCaVc3SpX21Exl2Soae8dpyzsrFBPgaz8fV7y6DFPS1hWKtAWoR5P1lptKzB4T4hQsSSeStTS7xvLJZo8gEmjMytKUbV3/8qEpz6qTeTsAAAAA1MpL3t3ClLBhkSUoMSouoXoLkqTyrcnaXClJYZo0qqN583XzCg6zVzSqqlAHzzhvr+b7LG3Zag3+fEMVeI+XwiJsd3Cp0rbUraqyKjvZUuUpSd6RWvFmrPzdJZBG3sFa9NoYe2DpthLTO1Ixoyx75r+5UcU1VU82cwSRQCN2akeKjktS1wUaf63VngAAAAAgSd79FNjNPOhOlUoL0jRvQoRCH3Z0FQ4dHK2Zq3equIbF9fNftnY3Xmlu3JGlmfbuxKOVZgui3p/n3LX45XzpSrlyF0c73vfhUI2emqz8CtW/a/aVShVnJmvaqAgF2V8TpIhR05S4IV+lrorcyndqmvH4AQGane1qR5tipUQ4719Td+eqM/lKezlaEaGG/UMjFD0rRTuPu6+kK90w2uk9Rm8olSoPKu35KMdnC4pQdG0NVsyuHNS61dYaxdAwhTVgNaRdy/r9Tlu1N1e51p99ox5VD0leAx+3h5lVW3cqv9awr1x//YvtKFLw3DkKrm/3nYDRiunmrR6DYhQfHei2ijIw8neW7aWpWuemerI5I4gEGquydG3c+IWkezXixYabFg4AAACgmaosVKF5Omt7b7mMhyrylTwqSFEzkpV1tFyVhsCnsqxY+WsTFR0eoZk7XIdt1+cr5S8Ypdk7ih3ve6VSJcVV8q5niFR1YrNmDg5V9MI0FZ4qdzQpUZXKTxVq58qZiho4Wsn7TQGg7+MaFuo8lJuTa3i9ydG/aadTqVw/xYzwNw5IVyqVv3y0gobPVPKeYpUb37KyXMXvpypxXKgiZtSjo/mVY0p7KlbJeaWOc6sqV3GZ9HN3iZlZUZb+aj2fsPAwt2HbNTv6TzlqGHvI323RpTFA7Khhkdb1Km8JU5j9e8nSztrCvjPvassh689eYxQTXs8bSJLkr7iMPKUvj1dMuL/7LuK/itTvrBcvN9vN/dKMEUQCjdIlFa2Zo8OS/Mb/WWN7mrcDAAAAQN1UVZar9OhOJU5IlLlusOOv+snQ09iiMl/zhs9U2inzBrNy5S8eregNDRxG7knUzD3VKwMDZ0xSP1vn5Lo4laaJY5OUX+NcWqsrJUqbGqV57xvf00uRYx1TciVJeTv1bg3HOrg7zXnKbsAwPepUTVKp/AVRmrmp9mtVXpCo0RPdNEYxKHlztmPasZ23xkwdVv17dSM/c7M1NAtW2EAPxJBXSpS2JNV+jbwGP65Ad9+lMUDsGKnH7ZW8Xop8ItK+m9up0pLK9+fLfsVDA9y/Z4Pop+Bw64/v13y/NGcEkUBjdGyZUrMvST0XaO7kvuatAAAAAOBsz0znqcqGR1BohKImJGqneU0+72GaM8FUtady7Xze0NhDkrwDLR2G9+/X/oJsvTW5n2GjVLxytmOataTghZYmOZkzzMeO1Ap7A50tiqnWPMdZj4lvKbvA0XTnreH1iNauHFTSxGQVG8fuGaakrQWW472/RQnhxuNVKmvuUuV/bxgKcFS3WRRqp6su4FcKlbXDufYtbPjjTkFg+Y7ZpnDVW4EzbJ+vQNmrY51D1qPJmp1e19U7vRX28hYVfGS7Vnma/SvzPu4cVH6O9ccuv1SPBpyWXVVRquKcFM0cPNoQmAZqztPBbqsuS3ZvtgeI/qN+J6c7KXiYxtheXEvTmmOHHDWY/j1uTIVPz/6B1p8KlbufmkgzgkigMer5olbt+48y1sapk8f/xQYAAABA89NDcWvnVO+MvH+dlu43DvRQ/Pq3HB2GvXwVODVV6RON82pLlPx/zLWW16nvbK18KlC+7tIqNxyNV6y8I7ViQ4LCulgPeIu/hi3ZqkW2LsySVJWl5K3G8K+fRk9wnj98MD3DUWFnU5SnvzrlTZEaFm448SuFWveac2OVHjNS9dYE2+fzkm9AnFLXx8rpqq5MqcMaiJLXqCQlRfnL61p/dzxzUIW28+/dwzn0c+dEsqJcBN9OIXh4lKLnpjqqUr0DNTtjhYa5W3vsSqG2bLB9D/00OtI0h7tloCKH266vu6Y15frK8HX26OJ2LniD8e3R1x5CFx48ZtoKgkgAAAAAAJoR39B4peakK7Zb9ZTvYN5fnde1GzReY7oYByx6RI1xDqz2vFun0KyuAqMerdfUYmfl2pdnbbxi5TtqvIsmJd6K/J1jmq8klezOdeoi7j8iRk71n6VZetdUgVeY43zNvEYNU7AxFDxkDiqDNX6Ui7iv9+80xqmZUJberTXf9dLvIm0VeNeo5Jij+vB+F+fVALzuCdSw599SdvZbGuPivnNiDHb7RpqmuFv0GxJjvz+qtm5RlrGS1e6SKr8xj7lhbppUw2Pe++YXmnTpKlvtZdWhg3SlNyGIBAAAAADgpueryMWZyivYr+zXYtTPx7xdkkp10DSV1P9X/VxPob3HX9b2IVaF+qfTPOjr4SV//2uPIaVjKnSq6pQC+zqfrZ1/T+dA9UShDhpDLb9HNSzA8FylSttuCDmv5GvnVuM166iY0c7BYOnBQudwt1ug+pkrUSVJHeVvOs3CQ7Vd1F+qRy1T3GtTesrxHh3vusNpm1u+kZq9JElJTo/Zih1kvKKW++7vO95Swti6VLhWKSvDtl6lm0C69+MaZi9wzNXmd1xMmZfkuhOTh93i7Who8+//qvpqp80bQSQAAAAAAE3d4BX2tRQLcrYoabi5sq1cWS9NVHK+u1ikRCWmar+SlVHVKsIsj5nKctqzXKX/dhq4Dp3U0WX6VEelJdWmT2fNMp+/9TE82bRvqUrLjM999fjwMOOAqnZkqdBa/VmVs9P5Ojg1VrEoOWU6GzdTmmfucd61vPSc80A1vrrjeq6ViXfbWpNCB5+eCgkPU5jTY4zilm9RQcZsBXrLet9F6YmF+XUL5L7P1bt5tifBGhZR04fz1+ODHVOtXU6ZV0f5G6p5S87WUpt4d6CGDR/m8hHWvR7XRXc47t/yUn1l2trcEUQCAAAAAHAT8fLxV9hLW7RlhrkKsFw7nzd3h3Z2yTxQD8Vnagl6bpQrcq5ArJcSnfzCecQrfLSjOYokVW3WznxJqlJuTq5hg9Qvemz1NRZ/NA/Uw+elTXJqr1e3MXprfby9arY8c6aiXq49jCx/Z7Ohs3u+5g2qHtbaHqPXGq5MaZq2mKpgJcm/p+PPQPHn1aNKJ92HKeGlBJeP+MhO5r3d8NbPXVYcQwSRAAAAAADcnPwnrFSC07RiWbpDz5rq1OW68blD3i6nLv9EWgYqNMq5Ii4rJ1/6Ple59uo9SQrUMKdO3DeA188d04Abmy4xem2WIwis3DNPS92E4FKJMtKd1/asuyptzqy+oGbHXwU7pnZn5etaj14/lfpvhXkMNgSRAAAAAADclHw1bGGCqrcyKVbyS2kuKu381dM0rdh/RqZ9yndtjy2mDtPX7jqnG1dbv1KKXF79fGt6OHXStgocHePU0Vp73lXuR/vkVA8ZOkyPuzjvag1gusUr08X7unxkmN7X7J6OqseqjrUqL69hrcVr1HGcMQyvVNbcpcqtKYs88a6y7DdlRwW7mCJd7fGw4ers2Vm9aY1xLcmqzUrLvvZa2br7SqW2y+jbsN/PzYAgEgAAAACAm5XfMCUYqtLsjiYrcYc5dOoo/wecR0pqm87aKPmrZ2/nkeJT1WPXeuk2VjF9jQNZSlxojCG9NGZspMvGPh3vd+q7LZ04ppIG7DB+vTp2cdwfX1X812nb9fPVsJccU7RVlaXEN/JdTp0v3GIIxwfP0QoXU6SrPV6Lk2MFT1dNa/w1/qlg+7PcJQvldpnUhlD+lexn4d+JINKEIBIAAAAAgJtYx7GLFG8K5iSpcPFCZZlCmeDBY5zDtD0pSjtlHGgKOurxIc7hX8n6lOsMoHz1aKTzMSsrDXGa1+8U2t+41eDhSOc1JpWllPRGFPDe39MeFHokeL4nRoueclSFVmbOU/KnTntIVwqVl2m7nl4aE+UID926JVKjRzkurqumNd4Rcxz3f2WWZj6VqhJXSWgNKj9NU+J681Hd+Pc5nbT+6NXN33XX72aMIBIAAAAAgJtZS3/FLDRUpdnla+Frpuq0gBjFOU3PLlbyxGlK21+uKlun6LJCpT0VoaCIaM1cnKLNBcUqNYZyVsZKO4uDKjxUJalKlSeKVWKeRtuAfJ+YpEhj+FeZpZkTEpV7otL6eatUeSJXicODFDpqmuYtT1PW/hJVujkn3yfGGKrvnHWcMFqBLc2jVi0DFTPVeXp28cpYTdtQqHLb+31frsIN0xQRFKHoWYlK2Zqv4lLbuXpYx376pe1a7T+mYtPmhuA/YZFi7bOoK7X55RQVG6pCq3K2aLPtw3aM0ehqa5vWzGnavMumNR0V8+YKRdoW0zyaotERsUrOKbHf065UnclXyowIhU5OVmE9Quzy4kP2isiwAFM1LAgiAQAAAAC46Zkah9hU7TFXp3VUzFJTaFlZqOSpEQp62NKtOGjwNCV/VK6q8mLl70hV0oxoRT21ufp0Y/+epg7SpUqbGKSAgCCFjp2nvDKnjQ3rlmDNWRLp3MjlzE7NHhuqoIAA6znM1s4zVao8VaisTcmaN3W0opa46exsqr5z6KjIx6r1ynbSMTrJVJVaqcKV0xRh6wo9KELTVhaqvKpcxe/vVOqSmYqOmqrNN6QatZ+jGU/5IR0zz25uCC17aPLcYY7vozRV89JtE7HL9e4OxzR3l53H3XGaNl+lzRlZ1QNc72AtynxLMV2szysPKm3uaAUFhVqD31zl5uQqN2ezUhbPVHRogIKGz1RqgfFieKnH8CQ9U0ux5j/3F1p/ClbIw6aNIIgEAAAAAKA56DjuNRdTtCu1+Y+pziFilxitz5it4DrOKfUNilfqmzHyN1cE3jNM8YNr6ulcopNfmMcalvegRcpc6eK8auA/PElb5we77UIdGP676utA9o3RWFOTn2pa+itm7RbNDqrrRQ1W/PrVjuDMwxyfq1C5+6vFeA3CKyheCRGOq1eyMlE7yySV/U077VWM/RQZWsdrZOer3/3eUKuat1l/dRVyewcqPiNP6S8PUw/baVyptAa/szV77mzNnpuk1B35KnZKo73UY3iC0nMKlP5SmHzd3U9X8pWbbf059HGFNabu740EQSQAAAAAAM1CR8UsdjFF+0SK5mU4N3Px6jZGK/bkKf3lWAX39pWvU/rmJV+/HgoeF68VWwuUvTJG/Vymd94Knp+p1Ocj1cN4AC9f+fYOVr/2ngm8jLyD4rVlb6ZWzBimwC6+8jaGSC295dslUJGTE5SeXaAttYVMkhQwWjGmNtbBv/9d3dYB9PLXmJXZytuUoNhBPeTrfFHl5eurHoNiFL9yiwr2rFBMX5cX1TMMnys/O7d6RWGD8FbY3JflKCgsVOKSLB3enqaDtqHQMfqdn32HOvMKH21Yh/Og0rbXsKZjS2/1iEpQ+t4CZW9IUvy4YPXw83UOl1t62+/vRau3qOCjAqW/NEw9fIw71aAo39pJvebmRc1di6tXr141DzYlm/O/Mg8BQLMyJpg+bACalxYtWkiSmvhfYwE0QrbfL7u1OW3eBNz0yjNiFfHaQUn9NHtPqsZcQyDYvFUp6/kgzcuT1DFWWzLj6jfF/Cd24uJ90g34/ZKKSAAAAAAAgGbOd1S8xnjLfUUhalb2V23Os/wY9tTkJhVC3kgEkQAAAAAAAM1dy36aNtcycbp07VvKctNBHNUVb7FOMe8Wr3jDWphwRhAJAAAAAAAAeUfMsTY0ylXKBqoi66xsp5LXl0rqqNj5MTItIwoDgkgAAAAAAABYGhottDQ0Kl2bZOlqjVpUKf9PS1UoqePE1xRXrTM9jAgiAQAAAAAAYNElRqsXB0sq1NIVuao0b4ezo2u1dE+V1DteK6ZW60kPE7pmA0AT5+muZgDQ2NA1G4Cn0DUbQHNF12wAAAAAAAAANw2CSAAAAAAAAAAeRxAJAAAAAAAAwOMIIgEAAAAAAAB4HEEkAAAAAAAAAI8jiAQAAAAAAADgcQSRAAAAAAAAADyOIBIAAAAAAACAxxFEAgAAAAAAAPA4gkgAAAAAAAAAHkcQCQAAAAAAAMDjCCIBAAAAAAAAeBxBJAAAAAAAAACPI4gEAAAAAAAA4HEEkQAAAAAAAAA8jiASAAAAAAAAgMcRRAIAAAAAAADwOIJIAAAAAAAAAB5HEAkAAAAAAADA4wgiAQAAAAAAAHgcQSQAAAAAAAAAjyOIBAAAAAAAAOBxBJEAAAAAAAAAPI4gEgAAAAAAAIDHEUQCAAAAAAAA8DiCSAAAAAAAAAAeRxAJAAAAAAAAwOMIIgEAAAAAAAB4HEEkAAAAAAAAAI8jiAQAAAAAAADgcQSRAAAAAAAAADyOIBIAAAAAAACAxxFEAgAAAAAAAPA4gkgAAAAAAAAAHkcQCQAAAAAAAMDjCCIBAAAAAAAAeBxBJAAAAAAAAACPI4gEAAAAAAAA4HEEkQAAAAAAAAA8jiASAAAAAAAAgMcRRAIAAAAAAADwOIJIAAAAAAAAAB5HEAkAAAAAAADA4wgiAQAAAAAAAHgcQSQAAAAAAAAAjyOIBAAAAAAAAOBxBJEAAAAAAAAAPI4gEgAAAAAAAIDHEUQCAAAAAAAA8DiCSAAAAAAAAAAeRxAJAAAAAAAAwOMIIgEAAAAAAAB4HEEkAAAAAAAAAI8jiAQAAAAAAADgcQSRAAAAAAAAADyOIBIAAAAAAACAxxFEAgAAAAAAAPA4gkgAAAAAAAAAHkcQCQAAAAAAAMDjCCIBAAAAAAAAeBxBJAAAAAAAAACPI4gEAAAAAAAA4HEEkQAAAAAAAAA8jiASAAAAAAAAgMcRRAIAAAAAAADwOIJIAAAAAAAAAB5HEAkAAAAAAADA4wgiAQAAAAAAAHgcQSQAAAAAAAAAjyOIBAAAAAAAAOBxBJEAAAAAAAAAPI4gEgAAAAAAAIDHEUQCAAAAAAAA8DiCSAAAAAAAAAAeRxAJAAAAAAAAwOMIIgEAAAAAAAB4HEEkAAAAAAAAAI8jiAQAAAAAAADgcQSRAAAAAAAAADyOIBIAAAAAAACAxxFEAgAAAAAAAPC4FlevXr1qHmxKNud/ZR4CgGZlTPAd5iEAuKm1aNFCktTE/xoLoBHi90sAzZ2nf7+kIhIAAAAAAACAxzX5ikgAAAA0L1REAgAANE1URAIAAAAAAADwOIJIAAAAAAAAAB5HEAkAAAAAAADA4wgiAQAAAAAAAHgcQSQAAAAAAAAAjyOIBAAAAAAAAOBxBJEAAAAAAAAAPI4gEgAAAAAAAIDHEUQCAAAAAAAA8DiCSAAAAAAAAAAeRxAJAAAAAAAAwOMIIgEAAAAAAAB4HEEkAAAAAAAAAI8jiAQAAAAAAADgcQSRAAAAAAAAADyOIBIAAAAAAACAxxFEAgAAAAAAAPA4gkgAAAAAAAAAHkcQCQAAAAAAAMDjCCIBAAAAAAAAeBxBJAAAAAAAAACPI4gEAAAAAAAA4HEEkQAAAAAAAAA8jiASAAAAAAAAgMcRRAIAAAAAAADwOIJIAAAAAAAAAB5HEAkAAAAAAADA4wgiAQAAAAAAAHgcQSQAAAAAAAAAjyOIBAAAAAAAAOBxBJEAAAAAAAAAPI4gEgAAAAAAAIDHEUQCAAAAAAAA8DiCSAAAAAAAAAAeRxAJAAAAAAAAwOMIIgEAAAAAAAB4HEEkAAAAAAAAAI8jiAQAAAAAAADgcQSRAAAAAAAAADyOIBIAAAAAAACAxxFEAgAAAAAAAPA4gkgAAAAAAAAAHkcQCQAAAAAAAMDjCCIBAAAAAAAAeBxBJAAAAAAAAACPI4gEAAAAAAAA4HEEkQAAAAAAAAA8jiASAAAAAAAAgMcRRAIAAAAAAADwOIJIAAAAAAAAAB5HEAkAAAAAAADA4wgiAQAA0Gh8//33KikpMQ/X2+eff67vv//ePAwAAICfEEEkAAAAGo1bbrlF//M//6Po6GgVFxebN9equLhY48aN07Rp03TLLbeYNwMAAOAn1OLq1atXzYMAAADATyU/P18hISGSpDFjxujll1/WAw88YN/eokULSZLxr7EHDx7UokWLtGXLFknSvn37FBwcbN8OAACAnx4VkQAAAGhUgoOD9eijj0qSNm/erD59+mjEiBH69NNPzbuqqKhIw4cP1y9/+Ut7CPnoo48SQgIAADRCVEQCAACg0fnwww/161//2jysoUOHateuXZKkwYMHa8+ePeZd9MEHH+iRRx4xDwMAAOAnRhAJAACARik8PFx/+9vfzMNuPfroo8rJyTEPAwAAoBEgiAQAAECj9P777+s3v/mNedit/Px8BQUFmYcBAADQCLBGJAAAABqlQYMGaeDAgebhGj366KOEkAAAAI0YFZEAAABotP7+978rNDTUPOwSa0MCAAA0blREAgAAoNH67W9/W6dwMSwsrE77AQAA4KdDEAkAAIBG7dVXXzUPVbN48WLzEAAAABoZgkgAAAA0aqGhoW6rHWvbDgAAgMaBIBIAAACNnruKx7pUTAIAAOCnRxAJAACARq+mNSCphgQAAGg6CCIBAADQJLiqfFy0aJF5CAAAAI0UQSQAAACaBHP1429/+1sFBQU57QMAAIDGiyASAAAATUZiYqL9Z6ohAQAAmpYWV69evWoeBAAAABqrkJAQtW7dWn/729/MmwAAANCIEUQCAACgScnNzVXLli31m9/8xrwJAAAAjRhBJAAAAAAAAACPI4gEAADADfX111+rpKREJSUlOnfunC5cuKALFy7o+++/r/PPLVq00C233KJ27dpV+193Y507d5a/v7/8/f11++23m08NAAAAHkQQCQAAgAZ16dIle9Do6vHNN9+YX/KTaN++vT2UdPVo3bq1+SUAAAC4DgSRAAAAuGYHDhzQgQMH9Mknn+jIkSMqKSnR2bNnzbs5+fnPf24P++677z6XlYu1/SypWpVkXX4+ffq0PRD973//az41J7bqyT59+mjAgAF68MEH1b9/f/NuAAAAqCOCSAAAANTJ6dOn9Y9//EMff/yxPXysqqoy76aWLVtWqy40Pu68807zS34S//nPf1RSUqKTJ0/aw8lTp07Zf75y5Yr5JfLy8tKDDz6oAQMG6KGHHtJvfvMb3XfffebdAAAA4AJBJAAAAFz68ssv9fe//13/+Mc/9Pe//13Hjh0z76IePXrYg7n+/fvbw8abgS2QLCoqsgevxcXF5t3Us2dP/fa3v9VvfvMb/eY3v1GHDh3MuwAAAIAgEgAAAEb//Oc/lZmZqXfeeUeFhYVO22677Tb95je/UUhIiH2qso+Pj9M+N7uKigp98sknOnDggPbt26d//OMf+vbbb532CQwMVFRUlJ544gn98pe/dNoGAADQnBFEAgAANHMFBQV65513lJmZqaNHj9rH27Zta6/y++1vf6tHHnnE6XWw+PDDD+2Vo//4xz/0ww8/2Lf17t1bTzzxhJ544gkFBwc7vQ4AAKC5IYgEAABohr788kulpaVp48aNOnjwoH38rrvuslfzPfHEE06vQd2888479mD33//+t328X79+Gj9+vMaPH6+77rrL6TUAAADNAUEkAABAM7Jr1y5t3LhRmzdvto/dc889GjlypJ544gmFhYU57Y/rk5ubq8zMTG3fvl1nzpyxj48ZM0bjx4/X0KFDnfYHAAC4mRFEAgAANAOpqalatWqVPv30U/vY8OHDNX78eA0fPtxpX3jGjh07lJaWpu3bt9vHfvWrX2n69OmKjY112hcAAOBmRBAJAABwk/p//+//adWqVVq1apVOnDghSfrFL36hiRMnavz48ercubP5JbgBzp49q7S0NKWmpupf//qXJKlbt26aPn26pk+frv/1v/6X+SUAAAA3BYJIAACAm9CaNWv0yiuv6Msvv5QkDRgwQNOnT9cf/vAH8674Cf35z3/WqlWrdODAAUnS3XffrVdeeUVTpkwx7woAANDkEUQCAADcRN577z298sorKigokCQNGjRI06dP16hRo8y7ohHZunWrVq1apffff1+SFBQUpFdeeUWPPfaYeVcAAIAmiyASAADgJvDVV19p1qxZ2rhxo2Sd6jt//nyNHz/evCsasY0bN2rBggX2qfTjx4/XG2+8IV9fX/OuAAAATQ5BJAAAQBO3c+dOPf300zp79qxatGih+fPna/78+ebd0IQsWLBACxYs0NWrV3XPPffoT3/6k6Kiosy7AQAANCkEkQAAAE3YnDlzlJSUJEl6/PHH9ac//Uldu3Y174Ym6OTJk3r66af17rvvSpJmz56tpUuXmncDAABoMggiAQAAmqDKykqNGjVK//f//l9JUmJioubNm2feDTeBxYsX27/biIgIbdmyRd7e3ubdAAAAGj2CSAAAgCbm9OnTGj16tAoLC9WtWzetXbtWv/3tb8274Sby97//XZMnT9aJEycUGBiorVu36t577zXvBgAA/v/t3W9sVHW+x/EP1tVWFmxN0E5sLbUj3iJbxsIY24jVmdAGrh350+sDaKOLgNlgb3Lvkj7YxVBygRuw1wdbyY3LgnqnSwK2FFoVaDMjFQQjpS2kARRLt6HJFL2R2l3+6G6dfQBz2vkBhnX9c870/UommfP9fn+dPvg9+uR3zoGtEUQCAAA4SFdXl8rKytTT06OZM2eqvr5eWVlZ5hgSUF9fn8rKytTe3i6326233npLHo/HHAMAALAtgkgAAACH+OyzzzRr1ix98sknmj17turr6zVx4kRzDAlsaGhIZWVlam1t1ZQpU3TgwAHdfffd5hgAAIAtEUQCAAA4RElJiVpaWuTz+RQKhcw2xhC/369wOKzi4mLt27fPbAMAANjSLWYBAAAA9rN8+XK1tLQoJydHdXV1ZhtjTF1dnXJyctTS0qLly5ebbQAAAFsiiAQAALC5pqYmbd68WUlJSd/Yc/EAAArOSURBVAoGg3K5XOYI/hHNizVu3Lirn8V61+w7gMvlUjAYVFJSkjZv3qympiZzBAAAwHYIIgEAAGxu9erVkqT169eroKDAbGOMKigo0Pr166VRewQAAMDOCCIBAABsrKamRl1dXcrLy1NVVZXZxhhXVVWlvLw8dXV1qaamxmwDAADYCkEkAACAjb355puSpDVr1pgtQBq1N2J7BQAAwK4IIgEAAGzqyJEj6u7ulsvl0rx588y24wwe3KTFXpdSYs9nTHEpP7BKOz+9bI7GP8fxF/+j3r8N6nDtYuW7Uq7WU+TyLtWW7kFzpeXK76VZfyfNu1ibDt543qnmzZsnl8ul7u5uHTlyxGwDAADYBkEkAACATdXX10uSFi5caLYcZlCHf5OvtFkvalv7gKzY8fKAOpvXaeEDLvk3n4xfMtr/v6uluWkq/Pdt6hyIrb6sgfYtWvqLbC3dc22QefLl2O+NBI+D7dv04qw0Fa7vjJtNBLE9EtszAAAAdkQQCQAAYFPHjh2TJM2ZM8dsOcpg4wr5/vvbwr9BhZcX6sWDZv2qgbDCn5rFmEFtefmPGhhdOviiCqtu/HuHP/yW0NOhYnukq6vLbAEAANgGQSQAAIBNnT17VpKUmZlpthzkpGr+c5t1CjJ1/h904s9RRaNRXYqE9NuZsblBbXplZO4aqT7VhCO6FI3qUuQdrZg8qvdeWB3WxWVte2WTRs5BZuv5HSd06a9RRf96SSe2LlCq1UscsT3S399vtgAAAGyDIBIAAMCmYqGSo4PIUzu180+xi0XasuN55f78ylVyuk9rg2uVG2s3hhWOfY+TrBU7Q/r1k+lKlpScPlc16+eaQ1eFFW4cucrdGNIf/i1XybdKujVZub9sUMOvkkcvSAgEkQAAwAkIIgEAAPDDOX1CIzdCb9PCn119AU3sk7tqVP+QTl73FuxCPWyllVck//wG5xo/PalD1kWuFpdmx7UlyTdngVkCAADAj4AgEgAAwKYyMjKkUbdoj13pcqWbtZuTfKtZkZSbP3IKM0HE9khszwAAANgRQSQAAIBNJVwQmbxCh6JXng95/c8J/dptLvoH3SqN3Hh9XudHHhY54vTJUacwE0NiPE8UAAAkOoJIAAAAm/J4PJKkPXv2mC3ncGXLOsx4+V290x7f/t5NzlW+dTGgbU3XRo7h5j+aJceL7ZHp06ebLQAAANsgiAQAALCpsrIySVJDQ4PZco6Z/6qF1hHFXq2bvVBbTl19N/ZfTmrLgrSR50UWbNLAqKXfjU+++SNXvf/l08LXT+ry3yRdHlD4Zb8W/u8N383tWLE9EtszAAAAdkQQCQAAYFNer1fTpk1TJBLRrl27zLZDFGjV73wjl4M7tTQ35UrwOGGqljbG7p1O1YqXV4ycnvzOkrVo/ag3cWtAO5dMVcrPxmlcikv+qrCud7e2k+3atUuRSETTpk2T1+s12wAAALZBEAkAAGBjzz77rCRp9erVZssx0pc16J1ffnvEWPDKIb36mFn9jv7lt2r4vU83eK+2UisWaa5ZdLDY3ojtFQAAALsiiAQAALCxlStXyuPx6Pjx49q4caPZdohUzd0a0fkDr2rRzHSlWm+yTlb6zEV69cB5HfqP7/c91rnLQuo9/KoWzRyJI5PdPj3/u0Pq/b/FNwwpnWbjxo06fvy4PB6PVq5cabYBAABsZVw0Go2aRQAAANhHU1OTnn76aSUlJenAgQMqKCgwRzAGHT58WLNmzdLw8LB2796tQCBgjgAAANgKJyIBAABsLhAIaNmyZRoeHlZFRYUikYg5gjEmEomooqJCw8PDWrZsGSEkAABwBE5EAgAAOERJSYlaWlrk8/kUCoXMNsYQv9+vcDis4uJi7du3z2wDAADYEiciAQAAHKKurk5TpkyxAqihoSFzBAluaGhIxcXFCofDmjJliurq6swRAAAA2yKIBAAAcIhJkyZp+/btcrvdam1tld/vV19fnzmGBNXX1ye/36/W1lbl5ORo+/btmjRpkjkGAABgWwSRAAAADuLxeBQKheT1etXe3i6/36/9+/ebY0gw7733nvx+v9rb2+X1ehUKheTxeMwxAAAAWyOIBAAAcJj77rtPoVBIJSUl6unp0ZNPPql169aZY0gQa9eulc/nU09Pj4qLixUKhZSVlWWOAQAA2B5BJAAAgANNmDBBe/fuVVVVlSRp1apVmjt3rs6cOWOOwqHOnDmjOXPm6KWXXpIkVVVVad++fZowYYI5CgAA4AgEkQAAAA62YcMG7d69W5mZmdqzZ4/cbrfWrFljjsFh1qxZI7fbrb179yojI0O7d+/Whg0bzDEAAABHIYgEAABwuEAgoM7OTpWXlysajaq6ulput1vBYNAchc0Fg0G53W5VV1crGo2qoqJCXV1dCgQC5igAAIDjjItGo1GzCAAAAGdqbW1VdXW1Dh06JEl6/PHHVVlZqbKyMnMUNlJfX6/a2lq9//77kqTCwkJVV1dr9uzZ5igAAIBjEUQCAAAkoNdee03V1dUaGBiQJOXn56uyslLPPfecOYqf0BtvvKHa2lp1dHRIktLT01VdXa0XXnjBHAUAAHA8gkgAAIAE9c0336i2tla1tbXq6emRJD3wwANasmSJysvLlZGRYS7Bj6C/v1/BYFCvv/66Tp8+LUnKyclRZWWlKisrdcstPD0JAAAkJoJIAACAMWDr1q2qra1VV1eXVVuwYIHKy8s1f/78uFn8MBobGxUMBtXY2GjVPB6PKisrtWTJkrhZAACAREQQCQAAMIa8/fbbCgaD2rFjh1XLzMzUggULFAgE5PP54ubxzwmHw2publZDQ4POnj1r1Z955hlVVFToqaeeipsHAABIZASRAAAAY9C5c+cUDAYVDAZ1/Phxq37PPfcoEAiotLRUpaWlcWtwc5qbm9Xc3KympiadO3fOqufl5amiokLl5eVKT0+PWwMAADAWEEQCAACMcR988IEVnp04ccKqp6SkqKioSEVFRXriiSf06KOPxq3DFR9++KH279+vtrY2tbW16dKlS1Zv6tSpVrBbWFgYtw4AAGCsIYgEAACA5dixY2pqalJzc7OOHDkS17vzzjtVVFSkxx57TPn5+ZoxY4ZSU1PjZhLd4OCgjh49qo6ODh08eFBtbW368ssv42a8Xq9KS0sVCAQ0ffr0uB4AAMBYRhAJAACA64pEItYpv/379+vUqVPmiB588EHNmDFD+fn5evjhh5Wdna3s7GxzzJF6e3vV29urzs5OdXR06OjRo/r444/NMeXm5sadHOW2awAAgOsjiAQAAMBN6evrU1tbmz766CMrmPv666/NMSUlJVmB5OTJk63v999/v7KzszVp0iRzyU/i888/t8LG632Gh4fNJbrtttus4PWRRx5RUVGRsrKyzDEAAABcB0EkAAAAvrPOzk7rVuXu7m719vaqv7/fHIszceJEK5zMysrS+PHjdccdd2j8+PE3/V2SLly4oAsXLujixYs3/b2vr88KGoeGhsx/LU5GRoays7P10EMPWeFjfn6+OQYAAICbRBAJAACA79VXX311zenC0Z/z58+bS34SaWlpViB6vc/tt99uLgEAAMA/gSASAAAAP6ovvvjCCiX7+/uve3Lx22oXL15UNBq95pTkzXy/9957raDxrrvuMv81AAAA/IAIIgEAAAAAAAD84G4xCwAAAAAAAADwffs73NVeA+wfoAQAAAAASUVORK5CYII=)"
      ]
    },
    {
      "cell_type": "markdown",
      "metadata": {
        "id": "eH70eHGlJbq4"
      },
      "source": [
        "##### ❓ Question #2:\n",
        "\n",
        "How could you make sure your Agent uses specific tools that you wish it to use? Are there any ways to concretely set a flow through tools?"
      ]
    },
    {
      "cell_type": "markdown",
      "metadata": {
        "id": "U3CUAMikU2lh"
      },
      "source": [
        "<div style=\"background-color: #E6E6FA; padding: 10px; border-radius: 5px;\">\n",
        "<span style=\"color: black;\">\n",
        "<b> **ANSWER:**  </b> \n",
        "To impose tool usage, we can try the following::\n",
        "\n",
        "1. Specifying the explicit tools available (like a Tool Library) for an agent by defining a tool universe\n",
        "2. Using a supervisor to use specific tools for specific tasks (if task is research then use ArvixQueryRun, if it is search then use Tavily API)\n",
        "3. Defining a workflow orchestration meaning a specific sequence of agent / task invocation for standardized use cases requiring a stable workflow\n",
        "\n",
        "</span>\n",
        "</div>"
      ]
    },
    {
      "cell_type": "markdown",
      "metadata": {
        "id": "iktcBorGXmAW"
      },
      "source": [
        "# 🤝 BREAKOUT ROOM #2"
      ]
    },
    {
      "cell_type": "markdown",
      "metadata": {
        "id": "ejsHCZZ2EmwM"
      },
      "source": [
        "## Task 4: Document Writing Team - A LangGraph for Writing, Editing, and Planning a LinkedIn post.\n",
        "\n",
        "Let's run it all back, this time specifically creating tools, agent nodes, and a graph for planning, writing, and editing a LinkedIn post!"
      ]
    },
    {
      "cell_type": "markdown",
      "metadata": {
        "id": "4awQtZ-oFUN-"
      },
      "source": [
        "### Tool Creation\n",
        "\n",
        "Let's create some tools that will help us understand, open, work with, and edit documents to our liking!"
      ]
    },
    {
      "cell_type": "code",
      "execution_count": 35,
      "metadata": {
        "id": "ptXilgparOkq"
      },
      "outputs": [],
      "source": [
        "from pathlib import Path\n",
        "from tempfile import TemporaryDirectory\n",
        "from typing import Dict, Optional\n",
        "from typing_extensions import TypedDict\n",
        "import uuid\n",
        "import os\n",
        "\n",
        "os.makedirs('/content/data', exist_ok=True)\n",
        "\n",
        "def create_random_subdirectory():\n",
        "    random_id = str(uuid.uuid4())[:8]  # Use first 8 characters of a UUID\n",
        "    subdirectory_path = os.path.join('/content/data', random_id)\n",
        "    os.makedirs(subdirectory_path, exist_ok=True)\n",
        "    return subdirectory_path\n",
        "\n",
        "WORKING_DIRECTORY = Path(create_random_subdirectory())\n",
        "\n",
        "@tool\n",
        "def create_outline(\n",
        "    points: Annotated[List[str], \"List of main points or sections.\"],\n",
        "    file_name: Annotated[str, \"File path to save the outline.\"],\n",
        ") -> Annotated[str, \"Path of the saved outline file.\"]:\n",
        "    \"\"\"Create and save an outline.\"\"\"\n",
        "    with (WORKING_DIRECTORY / file_name).open(\"w\") as file:\n",
        "        for i, point in enumerate(points):\n",
        "            file.write(f\"{i + 1}. {point}\\n\")\n",
        "    return f\"Outline saved to {file_name}\"\n",
        "\n",
        "\n",
        "@tool\n",
        "def read_document(\n",
        "    file_name: Annotated[str, \"File path to save the document.\"],\n",
        "    start: Annotated[Optional[int], \"The start line. Default is 0\"] = None,\n",
        "    end: Annotated[Optional[int], \"The end line. Default is None\"] = None,\n",
        ") -> str:\n",
        "    \"\"\"Read the specified document.\"\"\"\n",
        "    with (WORKING_DIRECTORY / file_name).open(\"r\") as file:\n",
        "        lines = file.readlines()\n",
        "    if start is not None:\n",
        "        start = 0\n",
        "    return \"\\n\".join(lines[start:end])\n",
        "\n",
        "\n",
        "@tool\n",
        "def write_document(\n",
        "    content: Annotated[str, \"Text content to be written into the document.\"],\n",
        "    file_name: Annotated[str, \"File path to save the document.\"],\n",
        ") -> Annotated[str, \"Path of the saved document file.\"]:\n",
        "    \"\"\"Create and save a text document.\"\"\"\n",
        "    with (WORKING_DIRECTORY / file_name).open(\"w\") as file:\n",
        "        file.write(content)\n",
        "    return f\"Document saved to {file_name}\"\n",
        "\n",
        "\n",
        "@tool\n",
        "def edit_document(\n",
        "    file_name: Annotated[str, \"Path of the document to be edited.\"],\n",
        "    inserts: Annotated[\n",
        "        Dict[int, str],\n",
        "        \"Dictionary where key is the line number (1-indexed) and value is the text to be inserted at that line.\",\n",
        "    ] = {},\n",
        ") -> Annotated[str, \"Path of the edited document file.\"]:\n",
        "    \"\"\"Edit a document by inserting text at specific line numbers.\"\"\"\n",
        "\n",
        "    with (WORKING_DIRECTORY / file_name).open(\"r\") as file:\n",
        "        lines = file.readlines()\n",
        "\n",
        "    sorted_inserts = sorted(inserts.items())\n",
        "\n",
        "    for line_number, text in sorted_inserts:\n",
        "        if 1 <= line_number <= len(lines) + 1:\n",
        "            lines.insert(line_number - 1, text + \"\\n\")\n",
        "        else:\n",
        "            return f\"Error: Line number {line_number} is out of range.\"\n",
        "\n",
        "    with (WORKING_DIRECTORY / file_name).open(\"w\") as file:\n",
        "        file.writelines(lines)\n",
        "\n",
        "    return f\"Document edited and saved to {file_name}\""
      ]
    },
    {
      "cell_type": "markdown",
      "metadata": {
        "id": "n8yH1IAYK7nL"
      },
      "source": [
        "##### 🏗️ Activity #3:\n",
        "\n",
        "Describe, briefly, what each of these tools is doing in your own words.\n",
        "\n"
      ]
    },
    {
      "cell_type": "markdown",
      "metadata": {
        "id": "CUMynfSFYmRU"
      },
      "source": [
        "<div style=\"background-color: #E6E6FA; padding: 10px; border-radius: 5px;\">\n",
        "<span style=\"color: black;\">\n",
        "<b> * **ANSWER:**  </b> \n",
        "\n",
        "(1) **create_random_subdirectory**: creates a new subdirectory with a random name inside the /content/data directory. It is creating different storage locations within an application (by using the first 8 characters of a UUID (Universally Unique Identifier)), ensuring that different runs are not interfering with each other.\n",
        "\n",
        "(2) **create_outline** : creates a numbered outline from a list of points and saves it to a file. It obtains a list of main points as inputs and file path for saving as arguments. This function generates structured outlines and saving them to files. It returns the location (file path) where the outline is saved.\n",
        "\n",
        "(3) **read_document** : reads content from a file with optional line range control. It obtains path to the file to be read, optional starting line number (defaults to None) and optional ending line number (defaults to None) as arguments. It returns a string containing the requested lines joined together.\n",
        "\n",
        "(4) **write_document**: creates a new document and dumps the text provided ('content') into it. It returns the file path of this newly created document.\n",
        "\n",
        "(5) **edit_document**: inserts new text at specific line numbers in an existing document. It returns an error if a line number is out of range. It returns the file path of the saved document.\n",
        "\n",
        "doc_writer_agent and copy_editor_agent are two agents below that are provided write, edit and read tools in their toolset but different context prompts.\n",
        "</span>\n",
        "</div>"
      ]
    },
    {
      "cell_type": "markdown",
      "metadata": {
        "id": "__Jw_XBIFwwa"
      },
      "source": [
        "### Document Writing State\n",
        "\n",
        "Just like with our Research Team state - we want to keep track of a few things, however this time - we also want to keep track of which files we've created - so let's add that here!"
      ]
    },
    {
      "cell_type": "code",
      "execution_count": 36,
      "metadata": {
        "id": "DoU2YwJRu7wD"
      },
      "outputs": [],
      "source": [
        "import operator\n",
        "from pathlib import Path\n",
        "\n",
        "class DocWritingState(TypedDict):\n",
        "    messages: Annotated[List[BaseMessage], operator.add]\n",
        "    team_members: str\n",
        "    next: str\n",
        "    current_files: str"
      ]
    },
    {
      "cell_type": "markdown",
      "metadata": {
        "id": "4p1kQShmGHCh"
      },
      "source": [
        "### Document Writing Prelude Function\n",
        "\n",
        "Since we have a working directory - we want to be clear about what our current working directory looks like - this helper function will allow us to do that cleanly!"
      ]
    },
    {
      "cell_type": "code",
      "execution_count": 37,
      "metadata": {
        "id": "G79mUggQGLVq"
      },
      "outputs": [],
      "source": [
        "def prelude(state):\n",
        "    written_files = []\n",
        "    if not WORKING_DIRECTORY.exists():\n",
        "        WORKING_DIRECTORY.mkdir()\n",
        "    try:\n",
        "        written_files = [\n",
        "            f.relative_to(WORKING_DIRECTORY) for f in WORKING_DIRECTORY.rglob(\"*\")\n",
        "        ]\n",
        "    except:\n",
        "        pass\n",
        "    if not written_files:\n",
        "        return {**state, \"current_files\": \"No files written.\"}\n",
        "    return {\n",
        "        **state,\n",
        "        \"current_files\": \"\\nBelow are files your team has written to the directory:\\n\"\n",
        "        + \"\\n\".join([f\" - {f}\" for f in written_files]),\n",
        "    }"
      ]
    },
    {
      "cell_type": "markdown",
      "metadata": {
        "id": "wbSre9agT9Gb"
      },
      "source": [
        "### Document Writing Node Creation\n",
        "\n"
      ]
    },
    {
      "cell_type": "code",
      "execution_count": 38,
      "metadata": {
        "id": "v7oso327T_wa"
      },
      "outputs": [],
      "source": [
        "doc_writer_agent = create_agent(\n",
        "    llm,\n",
        "    [write_document, edit_document, read_document],\n",
        "    (\"You are an expert writing technical LinkedIn posts.\\n\"\n",
        "    \"Below are files currently in your directory:\\n{current_files}\"),\n",
        ")\n",
        "context_aware_doc_writer_agent = prelude | doc_writer_agent\n",
        "doc_writing_node = functools.partial(\n",
        "    agent_node, agent=context_aware_doc_writer_agent, name=\"DocWriter\"\n",
        ")\n",
        "\n",
        "note_taking_agent = create_agent(\n",
        "    llm,\n",
        "    [create_outline, read_document],\n",
        "    (\"You are an expert senior researcher tasked with writing a LinkedIn post outline and\"\n",
        "    \" taking notes to craft a LinkedIn post.\\n{current_files}\"),\n",
        ")\n",
        "context_aware_note_taking_agent = prelude | note_taking_agent\n",
        "note_taking_node = functools.partial(\n",
        "    agent_node, agent=context_aware_note_taking_agent, name=\"NoteTaker\"\n",
        ")\n",
        "\n",
        "copy_editor_agent = create_agent(\n",
        "    llm,\n",
        "    [write_document, edit_document, read_document],\n",
        "    (\"You are an expert copy editor who focuses on fixing grammar, spelling, and tone issues\\n\"\n",
        "    \"Below are files currently in your directory:\\n{current_files}\"),\n",
        ")\n",
        "context_aware_copy_editor_agent = prelude | copy_editor_agent\n",
        "copy_editing_node = functools.partial(\n",
        "    agent_node, agent=context_aware_copy_editor_agent, name=\"CopyEditor\"\n",
        ")\n",
        "\n",
        "dopeness_editor_agent = create_agent(\n",
        "    llm,\n",
        "    [write_document, edit_document, read_document],\n",
        "    (\"You are an expert in dopeness, litness, coolness, etc - you edit the document to make sure it's dope. Make sure to use a number of emojis.\"\n",
        "    \"Below are files currently in your directory:\\n{current_files}\"),\n",
        ")\n",
        "context_aware_dopeness_editor_agent = prelude | dopeness_editor_agent\n",
        "dopeness_node = functools.partial(\n",
        "    agent_node, agent=context_aware_dopeness_editor_agent, name=\"DopenessEditor\"\n",
        ")\n",
        "\n",
        "doc_writing_supervisor = create_team_supervisor(\n",
        "    llm,\n",
        "    (\"You are a supervisor tasked with managing a conversation between the\"\n",
        "    \" following workers: {team_members}. You should always verify the technical\"\n",
        "    \" contents after any edits are made. \"\n",
        "    \"Given the following user request,\"\n",
        "    \" respond with the worker to act next. Each worker will perform a\"\n",
        "    \" task and respond with their results and status. When each team is finished,\"\n",
        "    \" you must respond with FINISH.\"),\n",
        "    [\"DocWriter\", \"NoteTaker\", \"DopenessEditor\", \"CopyEditor\"],\n",
        ")"
      ]
    },
    {
      "cell_type": "markdown",
      "metadata": {
        "id": "AUiNMpJBGXN0"
      },
      "source": [
        "### Document Writing Team LangGraph Construction\n",
        "\n",
        "This part is almost exactly the same (with a few extra nodes) as our Research Team LangGraph construction - so we'll leave it as one block!"
      ]
    },
    {
      "cell_type": "code",
      "execution_count": 39,
      "metadata": {
        "id": "Q6n8A1ytxVTv"
      },
      "outputs": [],
      "source": [
        "authoring_graph = StateGraph(DocWritingState)\n",
        "authoring_graph.add_node(\"DocWriter\", doc_writing_node)\n",
        "authoring_graph.add_node(\"NoteTaker\", note_taking_node)\n",
        "authoring_graph.add_node(\"CopyEditor\", copy_editing_node)\n",
        "authoring_graph.add_node(\"DopenessEditor\", dopeness_node)\n",
        "authoring_graph.add_node(\"supervisor\", doc_writing_supervisor)\n",
        "\n",
        "authoring_graph.add_edge(\"DocWriter\", \"supervisor\")\n",
        "authoring_graph.add_edge(\"NoteTaker\", \"supervisor\")\n",
        "authoring_graph.add_edge(\"CopyEditor\", \"supervisor\")\n",
        "authoring_graph.add_edge(\"DopenessEditor\", \"supervisor\")\n",
        "\n",
        "authoring_graph.add_conditional_edges(\n",
        "    \"supervisor\",\n",
        "    lambda x: x[\"next\"],\n",
        "    {\n",
        "        \"DocWriter\": \"DocWriter\",\n",
        "        \"NoteTaker\": \"NoteTaker\",\n",
        "        \"CopyEditor\" : \"CopyEditor\",\n",
        "        \"DopenessEditor\" : \"DopenessEditor\",\n",
        "        \"FINISH\": END,\n",
        "    },\n",
        ")\n",
        "\n",
        "authoring_graph.set_entry_point(\"supervisor\")\n",
        "chain = authoring_graph.compile()"
      ]
    },
    {
      "cell_type": "markdown",
      "metadata": {
        "id": "Zx-EKGkHKUBO"
      },
      "source": [
        "#### Display Graph"
      ]
    },
    {
      "cell_type": "code",
      "execution_count": 40,
      "metadata": {
        "colab": {
          "base_uri": "https://localhost:8080/",
          "height": 488
        },
        "id": "AZdOb3GZKSM7",
        "outputId": "95e40ee3-4592-4daf-8581-184ee195cb6c"
      },
      "outputs": [
        {
          "data": {
            "image/jpeg": "[encoded data removed]",
            "text/plain": [
              "<IPython.core.display.Image object>"
            ]
          },
          "metadata": {},
          "output_type": "display_data"
        }
      ],
      "source": [
        "from IPython.display import Image, display\n",
        "\n",
        "try:\n",
        "    display(Image(chain.get_graph(xray=True).draw_mermaid_png()))\n",
        "except:\n",
        "    pass"
      ]
    },
    {
      "cell_type": "markdown",
      "metadata": {
        "id": "yB_rOw1hGpwd"
      },
      "source": [
        "Just as before - we'll need to create an \"interface\" between the level above, and our graph."
      ]
    },
    {
      "cell_type": "code",
      "execution_count": 41,
      "metadata": {
        "id": "G-RbbCKoG_nt"
      },
      "outputs": [],
      "source": [
        "def enter_chain(message: str, members: List[str]):\n",
        "    results = {\n",
        "        \"messages\": [HumanMessage(content=message)],\n",
        "        \"team_members\": \", \".join(members),\n",
        "    }\n",
        "    return results\n",
        "\n",
        "authoring_chain = (\n",
        "    functools.partial(enter_chain, members=authoring_graph.nodes)\n",
        "    | authoring_graph.compile()\n",
        ")"
      ]
    },
    {
      "cell_type": "markdown",
      "metadata": {
        "id": "GgyhpTrRNgQd"
      },
      "source": [
        "Now we can test this out!\n",
        "\n",
        "> NOTE: It is possible you may see an error here - rerun the cell to clear."
      ]
    },
    {
      "cell_type": "code",
      "execution_count": 42,
      "metadata": {
        "colab": {
          "base_uri": "https://localhost:8080/"
        },
        "id": "IWUxv4XDx3kg",
        "outputId": "125584f9-7794-4af5-f660-7929a221b2f8"
      },
      "outputs": [
        {
          "name": "stdout",
          "output_type": "stream",
          "text": [
            "{'supervisor': {'next': 'DocWriter'}}\n",
            "---\n",
            "{'DocWriter': {'messages': [HumanMessage(content=\"The outline for the LinkedIn post on Linear Regression has been created and saved successfully. Here's a quick overview of the structure:\\n\\n1. **Introduction to Linear Regression**\\n   - Definition and basic concept.\\n   - Importance in statistics and machine learning.\\n\\n2. **How Linear Regression Works**\\n   - Explanation of the model equation: Y = a + bX.\\n   - Role of slope (b) and intercept (a) in the equation.\\n\\n3. **Applications of Linear Regression**\\n   - Examples in real-world scenarios (e.g., finance, health, etc.).\\n   - Benefits of using linear regression in these fields.\\n\\n4. **Conclusion**\\n   - Summary of points covered.\\n   - Encouragement to delve deeper into the topic.\\n\\nThis outline serves as a blueprint for a short and informative LinkedIn post on Linear Regression.\", name='DocWriter')]}}\n",
            "---\n",
            "{'supervisor': {'next': 'FINISH'}}\n",
            "---\n"
          ]
        }
      ],
      "source": [
        "for s in authoring_chain.stream(\n",
        "    \"Write an outline for for a short LinkedIn post on Linear Regression and write it to disk.\",\n",
        "    {\"recursion_limit\": 100},\n",
        "):\n",
        "    if \"__end__\" not in s:\n",
        "        print(s)\n",
        "        print(\"---\")"
      ]
    },
    {
      "cell_type": "markdown",
      "metadata": {
        "id": "zpW2R9SUHGUq"
      },
      "source": [
        "## Task 5: Meta-Supervisor and Full Graph\n",
        "\n",
        "Finally, now that we have our two LangGraph agents (some of which are already multi-agent), we can build a supervisor that sits above all of them!\n",
        "\n",
        "The final process, surprisingly, is quite straight forward!\n",
        "\n",
        "Let's jump in!\n",
        "\n",
        "First off - we'll need to create our supervisor agent node."
      ]
    },
    {
      "cell_type": "code",
      "execution_count": 43,
      "metadata": {
        "id": "wkpxeUf9ygKp"
      },
      "outputs": [],
      "source": [
        "from langchain_core.messages import AIMessage, BaseMessage, HumanMessage\n",
        "from langchain_openai.chat_models import ChatOpenAI\n",
        "\n",
        "\n",
        "llm = ChatOpenAI(model=\"gpt-4\")\n",
        "\n",
        "supervisor_node = create_team_supervisor(\n",
        "    llm,\n",
        "    \"You are a supervisor tasked with managing a conversation between the\"\n",
        "    \" following teams: {team_members}. Given the following user request,\"\n",
        "    \" respond with the worker to act next. Each worker will perform a\"\n",
        "    \" task and respond with their results and status. When all workers are finished,\"\n",
        "    \" you must respond with FINISH.\",\n",
        "    [\"Research team\", \"LinkedIn team\"],\n",
        ")"
      ]
    },
    {
      "cell_type": "markdown",
      "metadata": {
        "id": "hUvOh_xWIKig"
      },
      "source": [
        "We'll also create our new state - as well as some methods to help us navigate the new state and the subgraphs.\n",
        "\n",
        "> NOTE: We only pass the most recent message from the parent graph to the subgraph, and we only extract the most recent message from the subgraph to include in the state of the parent graph."
      ]
    },
    {
      "cell_type": "code",
      "execution_count": 44,
      "metadata": {
        "id": "O7HJ8MF0yh_i"
      },
      "outputs": [],
      "source": [
        "class State(TypedDict):\n",
        "    messages: Annotated[List[BaseMessage], operator.add]\n",
        "    next: str\n",
        "\n",
        "def get_last_message(state: State) -> str:\n",
        "    return state[\"messages\"][-1].content\n",
        "\n",
        "def join_graph(response: dict):\n",
        "    return {\"messages\": [response[\"messages\"][-1]]}"
      ]
    },
    {
      "cell_type": "markdown",
      "metadata": {
        "id": "B5RHao1sIanG"
      },
      "source": [
        "Next, we'll create our base graph.\n",
        "\n",
        "Notice how each node we're adding is *AN ENTIRE LANGGRAPH AGENT* (wrapped into an LCEL chain with our helper functions above)."
      ]
    },
    {
      "cell_type": "code",
      "execution_count": 45,
      "metadata": {
        "id": "PfCWABCMIaFy"
      },
      "outputs": [],
      "source": [
        "super_graph = StateGraph(State)\n",
        "\n",
        "super_graph.add_node(\"Research team\", get_last_message | research_chain | join_graph)\n",
        "super_graph.add_node(\n",
        "    \"LinkedIn team\", get_last_message | authoring_chain | join_graph\n",
        ")\n",
        "super_graph.add_node(\"supervisor\", supervisor_node)"
      ]
    },
    {
      "cell_type": "markdown",
      "metadata": {
        "id": "dpwpUXMtI62E"
      },
      "source": [
        "Next, we'll create our edges!\n",
        "\n",
        "This process is completely idenctical to what we've seen before - just addressing the LangGraph subgraph nodes instead of individual nodes."
      ]
    },
    {
      "cell_type": "code",
      "execution_count": 46,
      "metadata": {
        "id": "tLtjRuUYI-fx"
      },
      "outputs": [],
      "source": [
        "super_graph.add_edge(\"Research team\", \"supervisor\")\n",
        "super_graph.add_edge(\"LinkedIn team\", \"supervisor\")\n",
        "super_graph.add_conditional_edges(\n",
        "    \"supervisor\",\n",
        "    lambda x: x[\"next\"],\n",
        "    {\n",
        "        \"LinkedIn team\": \"LinkedIn team\",\n",
        "        \"Research team\": \"Research team\",\n",
        "        \"FINISH\": END,\n",
        "    },\n",
        ")\n",
        "super_graph.set_entry_point(\"supervisor\")\n",
        "super_graph = super_graph.compile()"
      ]
    },
    {
      "cell_type": "markdown",
      "metadata": {
        "id": "K1KMfFqgJKw8"
      },
      "source": [
        "That's it!\n",
        "\n",
        "Now we can finally use our full agent!"
      ]
    },
    {
      "cell_type": "code",
      "execution_count": 47,
      "metadata": {
        "colab": {
          "base_uri": "https://localhost:8080/"
        },
        "id": "3M6wUDR-yk8s",
        "outputId": "0985f60f-b9f3-43cb-8953-d4be4f5b221e"
      },
      "outputs": [
        {
          "name": "stdout",
          "output_type": "stream",
          "text": [
            "{'supervisor': {'next': 'Research team'}}\n",
            "---\n",
            "{'Research team': {'messages': [HumanMessage(content='Title: 🚀 Breaking New Grounds in AI: Extending Llama-3\\'s Context Length Ten-Fold! 🚀\\n\\nExciting news from the world of AI research! A recent study titled \"Extending Llama-3’s Context Ten-Fold Overnight\" has successfully expanded the context length of the Llama-3-8B-Instruct from 8K to a staggering 80K. This breakthrough was achieved through the innovative use of QLoRA fine-tuning.\\n\\nWhat\\'s even more impressive is the efficiency of this enhancement. The entire training cycle took just 8 hours on a single 8xA800 (80G) GPU machine. This development not only represents a significant advancement in our ability to process and understand longer contexts in language tasks but also showcases the rapid progress in AI efficiency.\\n\\nThe extended model demonstrates exceptional performance across various evaluation tasks, including NIHS, topic retrieval, and long-context language understanding. It also retains all the previous capabilities of the smaller context model, proving that bigger can indeed be better without losing the essence of what made the original model great.\\n\\n🔗 [Read the full paper here](https://arxiv.org/abs/2404.19553)\\n\\nThis achievement opens up new possibilities for applications requiring deep contextual understanding and sets a new benchmark for future developments in language models.\\n\\n#AI #MachineLearning #DeepLearning #LanguageModels #Innovation #TechnologyUpdates\\n\\n---\\n\\n**Note:** This draft is ready for further consultation with the LinkedIn team, and checks for copy editing and ensuring the content\\'s appeal (\"dopeness\"). Once these steps are completed, the final post can be written to disk.', name='Search')]}}\n",
            "---\n",
            "{'supervisor': {'next': 'LinkedIn team'}}\n",
            "---\n",
            "{'LinkedIn team': {'messages': [HumanMessage(content='The document has been successfully edited and saved as \"AI_Article_Draft.txt\". It\\'s now packed with enhanced content and dopeness! 🌟 Ready to take the social media by storm! 🚀💥', name='DopenessEditor')]}}\n",
            "---\n",
            "{'supervisor': {'next': 'FINISH'}}\n",
            "---\n"
          ]
        }
      ],
      "source": [
        "WORKING_DIRECTORY = Path(create_random_subdirectory())\n",
        "\n",
        "for s in super_graph.stream(\n",
        "    {\n",
        "        \"messages\": [\n",
        "            HumanMessage(\n",
        "                content=\"Write a LinkedIn post on the paper 'Extending Llama-3’s Context Ten-Fold Overnight'. First consult the research team. Then make sure you consult the LinkedIn team, and check for copy editing and dopeness, and write the file to disk.\"\n",
        "            )\n",
        "        ],\n",
        "    },\n",
        "    {\"recursion_limit\": 30},\n",
        "):\n",
        "    if \"__end__\" not in s:\n",
        "        print(s)\n",
        "        print(\"---\")"
      ]
    },
    {
      "cell_type": "markdown",
      "metadata": {
        "id": "PuZAvSlJJpPP"
      },
      "source": [
        "## SAMPLE POST!"
      ]
    },
    {
      "cell_type": "markdown",
      "metadata": {
        "id": "lOEMCrXTJaxW"
      },
      "source": [
        "🚀 Exciting News in AI Research! 🚀\n",
        "\n",
        "We're thrilled to share a groundbreaking achievement in the field of large language models (LLMs)! A recent study titled \"Extending Llama-3’s Context Ten-Fold Overnight\" has successfully expanded the context length of Llama-3 from 8K to a staggering 80K tokens using QLoRA fine-tuning. This enhancement was accomplished in just eight hours on a single 8xA800 (80G) GPU machine, demonstrating both efficiency and effectiveness in model training.\n",
        "\n",
        "🔍 This remarkable advancement not only improves Llama-3’s performance across various benchmarks such as NIHS, topic retrieval, and long-context language understanding, but also preserves the model's ability to generalize beyond its training contexts, handling up to 128K tokens. This capability makes it a formidable tool in processing extensive textual information, pushing the boundaries of what AI can achieve.\n",
        "\n",
        "📊 Evaluated on LongBench and InfiniteBench, the model consistently outperformed baselines, setting a new standard in the field. Although it faced challenges in code completion tasks, the overall results are overwhelmingly positive.\n",
        "\n",
        "🌐 The full resources, including the model, training data, and code, are now publicly available, providing an invaluable asset for further research in training long-context LLMs.\n",
        "\n",
        "🔗 For more details, check out the full paper [here](https://www.emergentmind.com/papers/2404.19553).\n",
        "\n",
        "Let's continue pushing the limits of what AI can do! #AILLMs #MachineLearning #AIResearch #LanguageModels #Innovation\n"
      ]
    }
  ],
  "metadata": {
    "colab": {
      "provenance": []
    },
    "kernelspec": {
      "display_name": "Python 3",
      "name": "python3"
    },
    "language_info": {
      "name": "python"
    }
  },
  "nbformat": 4,
  "nbformat_minor": 0
}
