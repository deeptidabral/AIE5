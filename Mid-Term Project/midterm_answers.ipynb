{
 "cells": [
  {
   "cell_type": "markdown",
   "metadata": {},
   "source": [
    "#### Section 1: Defining your Problem and Audience"
   ]
  },
  {
   "cell_type": "markdown",
   "metadata": {},
   "source": [
    "1.1 Write a succinct 1-sentence description of the problem."
   ]
  },
  {
   "cell_type": "markdown",
   "metadata": {},
   "source": [
    "<div style=\"background-color:rgb(245, 230, 250); padding: 10px; border-radius: 5px;\">\n",
    "<span style=\"color: black;\">\n",
    "\n",
    "<b> ANSWER:  </b> \n",
    "\n",
    "Travelers face challenges in identifying optimal destinations aligned with their personal preferences, constructing efficient itineraries, and obtaining authentic pre-trip insights due to information overload, fragmented travel information, uncertainty regarding on-site conditions (including climate, atmosphere, and footfall / crowd volume), and unclear cost burden.\n",
    "\n",
    "</span>\n",
    "</div>"
   ]
  },
  {
   "cell_type": "markdown",
   "metadata": {},
   "source": [
    "1.2 Write 1-2 paragraphs on why this is a problem for your specific user."
   ]
  },
  {
   "cell_type": "markdown",
   "metadata": {},
   "source": [
    "<div style=\"background-color:rgb(245, 230, 250); padding: 10px; border-radius: 5px;\">\n",
    "<span style=\"color: black;\">\n",
    "\n",
    "<b> ANSWER:  </b>   \n",
    "\n",
    "<b> 1. Lack of unbiased, genuine source of information</b> : For digital-savvy, upwardly mobile but budget-conscious traveler segment, planning a trip can be frustrating and time-consuming. While there are popular online itinerary planners from industry leaders such as Expedia, these tools primarily serve as vendor-driven marketplaces rather than objective travel advisory. The search results and recommendations are often skewed by sponsored listings, pushing specific hotels, flights, and experiences that may or may not optimize for travelers' interests. Thus, users are left with the option of browsing through an overwhelming volume of content themselves.\n",
    "\n",
    "<b> 2. Decision fatigue and suboptimal travel experience</b> : Travelers, despite hyper connectivity, face FOMO (fear of missing out) due to the sheer influx of content across social media and travel websites, making it difficult to determine what is truly worth experiencing. Existing tools provide generic information but fail to give real-time, contextual insights into destinations—such as actual crowd levels, local weather conditions, or a location's current vibe. Thus, there is a lot of uncertainty about whether their chosen spots will match their expectations. Price sensitive groups also find it hard to get a realistic estimate of their total trip costs. \n",
    "\n",
    "</span>\n",
    "</div>"
   ]
  },
  {
   "cell_type": "markdown",
   "metadata": {},
   "source": [
    "#### Section 2: Propose a Solution"
   ]
  },
  {
   "cell_type": "markdown",
   "metadata": {},
   "source": [
    "2.1 Write 1-2 paragraphs on your proposed solution.  How will it look and feel to the user?"
   ]
  },
  {
   "cell_type": "markdown",
   "metadata": {},
   "source": [
    "<div style=\"background-color:rgb(245, 230, 250); padding: 10px; border-radius: 5px;\">\n",
    "<span style=\"color: black;\">\n",
    "\n",
    "<b> ANSWER:  </b> \n",
    "\n",
    "The solution is a next-generation AI travel assistant powered by a RAG (Retrieval-Augmented Generation) + multi-agent system architecture that aggregates, analyzes, and personalizes travel information from diverse sources. Unlike traditional itinerary planners that primarily serve vendor interests, this AI assistant will act as an unbiased, intelligent advisor, helping users discover destinations, build optimized itineraries, and make data-driven travel decisions based on their unique preferences, constraints, and real-time conditions.\n",
    "\n",
    "The system will leverage multi-agent coordination to collect and process data from multiple sources, including real-time weather reports, footfall density analysis, cost estimations, and user-generated reviews. Using vector embeddings and a scalable knowledge base, the assistant will provide hyper-personalized recommendations, avoiding the noise of paid promotions and instead focusing on authentic, data-backed insights. It will predict potential trip expenses based on dynamic pricing trends and offer realistic previews of destinations—including expected crowd levels, atmosphere, and local conditions—ensuring users make informed choices. By eliminating information overload and uncertainty, this AI assistant will help budget-conscious travelers maximize their experience while staying within their financial limits.\n",
    "\n",
    "<b> The look and feel of the final product for the user will be of a state-of-art digital tool that provides dynamic and interactive visualization of the tool's outputs optimized for the users' preferences such as timing, budget, group travelling, and fun preferences. </b> \n",
    "\n",
    "</span>\n",
    "</div>"
   ]
  },
  {
   "cell_type": "markdown",
   "metadata": {},
   "source": [
    "2.2 Describe the tools you plan to use in each part of your stack.  Write one sentence on why you made each tooling choice. "
   ]
  },
  {
   "cell_type": "markdown",
   "metadata": {},
   "source": [
    "<div style=\"background-color:rgb(245, 230, 250); padding: 10px; border-radius: 5px;\">\n",
    "<span style=\"color: black;\">\n",
    "\n",
    "<b> ANSWER:  </b> \n",
    "\n",
    "<b>1. LLM - OpenAI GPT-3.5</b>- Chosen for its cost-effective yet powerful natural language understanding and generation capabilities, balancing efficiency and affordability for handling user queries.\n",
    "\n",
    "<b>2. Embedding Model- OpenAIEmbeddings</b>: Selected for its optimized balance of performance and speed in generating vector embeddings, ensuring efficient retrieval of relevant travel information.\n",
    "\n",
    "<b>3. Orchestration - LangGraph</b>: Used for managing multi-agent workflows, allowing structured interactions between different agents in a RAG-based system to enhance contextual understanding and response generation.\n",
    "\n",
    "<b>4. Vector Database - FAISS</b>: Chosen for its high-speed and scalable similarity search capabilities, enabling quick retrieval of relevant travel data from large-scale embeddings.\n",
    "\n",
    "<b>5. Monitoring - LangSmith</b>: Selected for its ability to track, debug, and analyze interactions in LLM-based applications, ensuring transparency, reliability, and continuous improvement in system performance.\n",
    "\n",
    "<b>6. Evaluation - RAGAS</b>: Used for assessing the quality of retrieval-augmented generation outputs, helping to fine-tune responses by measuring factual accuracy, relevance, and coherence.\n",
    "\n",
    "<b>7. User Interface - Hugging Face + Streamlit</b>: Hugging Face is chosen for hosting and deploying AI models, while Streamlit provides an interactive and conversational UI for seamless user experience in itinerary planning.\n",
    "    \n",
    "</span>\n",
    "</div>"
   ]
  },
  {
   "cell_type": "markdown",
   "metadata": {},
   "source": [
    "2.3 Where will you use an agent or agents?  What will you use “agentic reasoning” for in your app?"
   ]
  },
  {
   "cell_type": "markdown",
   "metadata": {},
   "source": [
    "<div style=\"background-color:rgb(245, 230, 250); padding: 10px; border-radius: 5px;\">\n",
    "<span style=\"color: black;\">\n",
    "\n",
    "<b> ANSWER:  </b> \n",
    "\n",
    "The next-gen AI travel assistant is structured around four key agents, each responsible for a core aspect of the travel planning experience. These agents work collaboratively using LangGraph to ensure a seamless, data-driven, and highly personalized itinerary-building process.\n",
    "\n",
    "<b> Also, it is the router agent of this travel AI System that reasons and determines which specialized agent should handle the incoming user query. </b>\n",
    "\n",
    "<b> 1. Itinerary Agent </b> – This agent curates a personalized travel itinerary by optimizing sightseeing, activities, and experiences based on user preferences, real-time weather, crowd density, and travel feasibility. It ensures that users get a well-balanced plan that maximizes their time while considering FOMO-inducing experiences.\n",
    "\n",
    "<b> 2. Accommodation Agent </b> – Responsible for retrieving and recommending hotels, hostels, or vacation rentals that fit the user’s budget, preferences, and proximity to key attractions. It prioritizes unbiased, data-driven suggestions over vendor-sponsored listings, ensuring travelers get the best value for their stay.\n",
    "\n",
    "<b> 3. Information Agent</b> 3. Information Agent – Gathers and synthesizes relevant travel advisory data, including visa requirements, local safety updates, cultural norms, and real-time conditions like weather, footfall density, and local events. This agent ensures travelers have a realistic expectation of their destination.\n",
    "\n",
    "<b> 4. Flight Agent</b>  – Searches and compares flight options from multiple airlines and aggregators, considering factors like pricing trends, layovers, baggage policies, and hidden costs. It helps users find the most cost-effective and convenient flight options based on their travel dates and preferences.\n",
    "\n",
    "These four agents work in sync within the multi-agent RAG architecture, ensuring travelers receive accurate, contextual, and unbiased travel planning assistance while reducing decision fatigue.\n",
    "    \n",
    "</span>\n",
    "</div>"
   ]
  },
  {
   "cell_type": "markdown",
   "metadata": {},
   "source": [
    "### 3. Dealing with the Data"
   ]
  },
  {
   "cell_type": "markdown",
   "metadata": {},
   "source": [
    "3.1 Describe all of your data sources and external APIs, and describe what you’ll use them for."
   ]
  },
  {
   "cell_type": "markdown",
   "metadata": {},
   "source": [
    "<div style=\"background-color:rgb(245, 230, 250); padding: 10px; border-radius: 5px;\">\n",
    "<span style=\"color: black;\">\n",
    "\n",
    "<b> ANSWER:  </b> \n",
    "\n",
    "I have used two data sources in the current submission - \n",
    "\n",
    "<b> a) External API: Amadeus API (Amadeus for Developers)</b> – Offers structured data on flights, hotels, travel restrictions, and itinerary recommendations via RESTful APIs, making it easy to fetch real-time travel insights.  \n",
    "<b> b) WikiVoyage</b> – Open-source travel guide with structured destination information, making it ideal for automated text extraction.\n",
    "\n",
    "Going forward, I want to make this travel AI system more robust with addition of following data sources:\n",
    "\n",
    "<b> (1) External Travel APIs</b> : that provide structured data that can be easily integrated into Python-based data pipelines using libraries like requests, pandas, and asyncio for efficient retrieval and processing. Few examples could be:\n",
    "- Skyscanner API (RapidAPI Skyscanner) – Provides comprehensive flight, hotel, and car rental data in a structured JSON format, enabling seamless price comparisons.  \n",
    "- TripAdvisor API (TripAdvisor Data API) – Supplies user-generated reviews, ratings, and destination information that can be parsed and used for sentiment analysis or recommendation models.  \n",
    "- OpenWeatherMap API (OpenWeatherMap) – Offers real-time and forecasted weather data via an easy-to-use REST API, helping to adjust travel recommendations dynamically.  \n",
    "- Rome2Rio API (Rome2Rio Transport API) – Provides structured multi-modal transport data (flights, trains, buses, ferries), making route planning efficient for itinerary recommendations.\n",
    "\n",
    "<b> (2) Other web sources</b> : that provide structured and semi-structured text data that can be scraped or accessed using Python libraries like BeautifulSoup, Scrapy, or newspaper3k. Few examples could be:\n",
    "- Lonely Planet – Travel guides and expert insights that can be parsed and structured for itinerary recommendations.  \n",
    "- Nomadic Matt – Budget travel tips and cost breakdowns, useful for trip cost estimation models.  \n",
    "- Culture Trip – Provides local experiences and cultural insights that can enhance destination recommendations.  \n",
    "- Travel Stack Exchange – A structured Q&A platform with expert travel advice that can be processed using NLP models for FAQ generation.\n",
    "    \n",
    "</span>\n",
    "</div>"
   ]
  },
  {
   "cell_type": "markdown",
   "metadata": {},
   "source": [
    "3.2 Describe the default chunking strategy that you will use.  Why did you make this decision?"
   ]
  },
  {
   "cell_type": "markdown",
   "metadata": {},
   "source": [
    "<div style=\"background-color:rgb(245, 230, 250); padding: 10px; border-radius: 5px;\">\n",
    "<span style=\"color: black;\">\n",
    "\n",
    "<b> ANSWER: </b> \n",
    "\n",
    "The default chunking strategy I have used is the RecursiveCharacterTextSplitter from LangChain with the following parameters:\n",
    "\n",
    "1. Chunk size of 4000 characters - This is a larger chunk size because I am cautious about context preservation within chunks.  \n",
    "2. Chunk overlap of 400 characters - This creates a 10% overlap between adjacent chunks to maintain continuity and context across them.  \n",
    "3. Multiple separators in hierarchical order (\"\\n\\n\", \"\\n\", \" \", \"\") - This is to ensure that splitting happens at natural text boundaries whenever possible, preserving semantic coherence.  \n",
    "\n",
    "This strategy is appropriate for building the RAG pipeline and its assessment (via RAGAS or some other tool) because:  \n",
    "\n",
    "1. Requirements for evaluation: To perform well on metrics of retrieval quality, faithfulness, and context relevance, I needed larg chunks to ensure adequate context preservation.  \n",
    "2. Semantic coherence: Larger chunks would contain more complete thoughts / arguments / explanations as compared to smaller chunks, facilitating easier utilization of information by LLMs. This would mean reduced fragmentation and preservation of contextual relationships.  \n",
    "3. Balancing retrieval granularity with context: The chosen chunk size strikes a balance between having chunks small enough for precise retrieval but large enough to maintain sufficient context.  \n",
    "\n",
    "</span>\n",
    "</div>"
   ]
  },
  {
   "cell_type": "markdown",
   "metadata": {},
   "source": [
    "3.3 [Optional] Will you need specific data for any other part of your application?   If so, explain."
   ]
  },
  {
   "cell_type": "markdown",
   "metadata": {},
   "source": [
    "<div style=\"background-color:rgb(245, 230, 250); padding: 10px; border-radius: 5px;\">\n",
    "<span style=\"color: black;\">\n",
    "\n",
    "<b> ANSWER:  </b> \n",
    "\n",
    "Since I want to add a distinctive layer of visualization which can be interactive and dynamic in real-time for users (fully sketched out itineraries with suggested spots, expected costs at each point of itinerary (commute, rental, food, etc)), there might be some multi-modal data sources that can be ingested as well into this multi-agent pipeline for additional enhancements.  \n",
    "Therefore, I will explore the possibility of adding multi-modal intelligence into the final output layer to enhance the contextual richness of the outputs.\n",
    "\n",
    "</span>\n",
    "</div>"
   ]
  },
  {
   "cell_type": "markdown",
   "metadata": {},
   "source": [
    "### 4. Building a Quick End-to-End Prototype"
   ]
  },
  {
   "cell_type": "markdown",
   "metadata": {},
   "source": [
    "4.1 Build an end-to-end prototype and deploy it to a Hugging Face Space (or other endpoint)."
   ]
  },
  {
   "cell_type": "markdown",
   "metadata": {},
   "source": [
    "<div style=\"background-color:rgb(245, 230, 250); padding: 10px; border-radius: 5px;\">\n",
    "<span style=\"color: black;\">\n",
    "\n",
    "<b> ANSWER:  </b> \n",
    "\n",
    "<b>Public deployment of Travel AI Agent System on Hugging Face</b>: https://huggingface.co/spaces/dabraldeepti25/travel-ai-midterm-submission\n",
    "\n",
    "</span>\n",
    "</div>"
   ]
  },
  {
   "cell_type": "markdown",
   "metadata": {},
   "source": [
    "### 5. Creating a Golden Test Data Set"
   ]
  },
  {
   "cell_type": "markdown",
   "metadata": {},
   "source": [
    "5.1 Assess your pipeline using the RAGAS framework including key metrics faithfulness, response relevance, context precision, and context recall. Provide a table of your output results."
   ]
  },
  {
   "cell_type": "markdown",
   "metadata": {},
   "source": [
    "<div style=\"background-color:rgb(245, 230, 250); padding: 10px; border-radius: 5px;\">\n",
    "<span style=\"color: black;\">\n",
    "\n",
    "<b> ANSWER:  </b> \n",
    "\n",
    "Travel AI Agent Performance Summary:\n",
    "\n",
    "<b> Performance of Travel AI agent (RAG + multi-agent system) </b>:\n",
    "\n",
    "|                 | Faithfulness | Answer Relevancy | Context   Precision | Context Recall |\n",
    "|-----------------|:------------:|:----------------:|:-------------------:|:--------------:|\n",
    "| Travel AI agent |      16%     |        63%       |         85%         |       68%      |\n",
    "\n",
    "<b> Sub agent wise performance </b>:\n",
    "\n",
    "|               | Faithfulness | Answer Relevancy | Context   Precision | Context Recall |\n",
    "|---------------|:------------:|:----------------:|:-------------------:|:--------------:|\n",
    "| Accommodation |      13%     |        15%       |         80%         |       71%      |\n",
    "| Itinerary     |      17%     |        89%       |         95%         |       74%      |\n",
    "| Information   |      12%     |        73%       |         86%         |       56%      |\n",
    "| Flight        |      24%     |        84%       |         80%         |       64%      |\n",
    "\n",
    "</span>\n",
    "</div>"
   ]
  },
  {
   "cell_type": "markdown",
   "metadata": {},
   "source": [
    "5.2 What conclusions can you draw about the performance and effectiveness of your pipeline with this information?"
   ]
  },
  {
   "cell_type": "markdown",
   "metadata": {},
   "source": [
    "<div style=\"background-color:rgb(245, 230, 250); padding: 10px; border-radius: 5px;\">\n",
    "<span style=\"color: black;\">\n",
    "\n",
    "<b> ANSWER:  </b> \n",
    "\n",
    "Based on the performance metrics of your Travel AI agent (RAG + multi-agent system) and its sub-agents, here are the key conclusions:\n",
    "\n",
    "<b>1. Overall Performance of the Travel AI Agent </b>\n",
    "- Good context precision at 85% means the system retrieves mostly relevant data.\n",
    "- Context recall at 68% is decent indicating a fair level of information completeness.\n",
    "- However, faithfulness at 16% is critically low, referring to the high potential of frequent hallucinations and inaccurate responses.\n",
    "- Answer relevancy at 63% is suboptimal implying users are not getting sufficiently useful responses.\n",
    "- Thus, the system retrieves relevant and precise context but struggles with faithfulness, meaning it may generate factually incorrect responses.\n",
    "\n",
    "<b>2. Sub-Agent Performance Breakdown: </b>  \n",
    "\n",
    "- Accommodation is the worst performing sub-agent / component with extremely low faithfulness (13%) and answer relevancy (15%)—it generates mostly incorrect and irrelevant responses.  \n",
    "- Itinerary has very high answer relevancy (89%) but struggles with hallucination (17% faithfulness).\n",
    "- Information sub-agent has the worst recall (56%), meaning it retrieves incomplete answers.  \n",
    "- Flight is the best sub-agent in terms of faithfulness (24%), but still suffers from significant hallucinations.\n",
    "\n",
    "</span>\n",
    "</div>"
   ]
  },
  {
   "cell_type": "markdown",
   "metadata": {},
   "source": [
    "### 6. Fine-Tuning Open-Source Embeddings"
   ]
  },
  {
   "cell_type": "markdown",
   "metadata": {},
   "source": [
    "6.1 Swap out your existing embedding model for the new fine-tuned version. Provide a link to your fine-tuned embedding model on the Hugging Face Hub."
   ]
  },
  {
   "cell_type": "markdown",
   "metadata": {},
   "source": [
    "<div style=\"background-color:rgb(245, 230, 250); padding: 10px; border-radius: 5px;\">\n",
    "<span style=\"color: black;\">\n",
    "\n",
    "<b> ANSWER:  </b> \n",
    "\n",
    "<b>Public link of fine-tuned embedding model (model card and files) on Hugging Face</b>: https://huggingface.co/dabraldeepti25/embedding-model-midterm-submission-updated\n",
    "\n",
    "</span>\n",
    "</div>"
   ]
  },
  {
   "cell_type": "markdown",
   "metadata": {},
   "source": [
    "### 7. Assessing Performance"
   ]
  },
  {
   "cell_type": "markdown",
   "metadata": {},
   "source": [
    "7.1 How does the performance compare to your original RAG application? Test the fine-tuned embedding model using the RAGAS frameworks to quantify any improvements. Provide results in a table."
   ]
  },
  {
   "cell_type": "markdown",
   "metadata": {},
   "source": [
    "<div style=\"background-color:rgb(245, 230, 250); padding: 10px; border-radius: 5px;\">\n",
    "<span style=\"color: black;\">\n",
    "\n",
    "<b> ANSWER:  </b> \n",
    "\n",
    "TravelAI Agent System Performance Summary Leveraging Fine-tuned Embedding model\n",
    "\n",
    "<b> Performance of Travel AI agent (RAG + multi-agent system) </b>:\n",
    "\n",
    "|                 | Faithfulness | Answer Relevancy | Context   Precision | Context Recall |\n",
    "|-----------------|:------------:|:----------------:|:-------------------:|:--------------:|\n",
    "| Travel AI agent |      19%     |        85%       |         83%         |       65%      |\n",
    "\n",
    "\n",
    "<b> Sub agent wise performance </b>:\n",
    "\n",
    "|               | Faithfulness | Answer Relevancy | Context   Precision | Context Recall |\n",
    "|---------------|:------------:|:----------------:|:-------------------:|:--------------:|\n",
    "| Accommodation |      22%     |        67%       |         80%         |       78%      |\n",
    "| Itinerary     |      7%      |        89%       |         86%         |       69%      |\n",
    "| Information   |      16%     |        93%       |         86%         |       58%      |\n",
    "| Flight        |      17%     |        92%       |         80%         |       72%      |\n",
    "\n",
    "  \n",
    "<b> Using the fine-tuned embedding models has significantly improved the answer quality but has not solved for hallucination issues. </b>\n",
    "\n",
    "|       Metric      | Performance 1 (Original RAG) | Fine-Tuned Embeddings |            Change            |\n",
    "|:-----------------:|:----------------------------:|:---------------------:|:----------------------------:|\n",
    "| Faithfulness      | 16%                          | 19%                   | +3% ✅  |\n",
    "| Answer Relevancy  | 63%                          | 85%                   | +22% ✅  |\n",
    "| Context Precision | 85%                          | 83%                   | -2% ❌     |\n",
    "| Context Recall    | 68%                          | 65%                   | -3% ❌     |\n",
    "\n",
    "Key points to note:  \n",
    "- Faithfulness increased by 3%, but it is still very low making it a very concerning performance statistic.  \n",
    "- Answer relevancy jumped by 22%, meaning responses are much more useful.  \n",
    "- Context precision and recall hasv faintly dropped, indicating the fine-tuned embeddings sacrificed precision and recall marginally for better answer relevancy.\n",
    "\n",
    "</span>\n",
    "</div>"
   ]
  },
  {
   "cell_type": "markdown",
   "metadata": {},
   "source": [
    "7.2 Articulate the changes that you expect to make to your app in the second half of the course. How will you improve your application?"
   ]
  },
  {
   "cell_type": "markdown",
   "metadata": {},
   "source": [
    "<div style=\"background-color:rgb(245, 230, 250); padding: 10px; border-radius: 5px;\">\n",
    "<span style=\"color: black;\">\n",
    "\n",
    "<b> ANSWER:  </b> \n",
    "\n",
    "In the next sprint, I want to make the following key improvements to enhance the AI travel assistant to enhance its accuracy, efficiency, and user experience.\n",
    "\n",
    "<b>1. Expand Data Sources to 10+ </b> – Currently, the system relies on a two data sources (1 external API and 1 public online travel guide). I will integrate additional structured and unstructured data sources, including government tourism APIs, local transit systems, and real-time pricing aggregators, to provide more comprehensive and unbiased travel insights.  \n",
    "\n",
    "<b>2. Improve Model Performance </b> – By optimizing prompt engineering, retrieval strategies, and response formatting, I intend to enhance the faithfulness, accuracy and contextual relevance of AI-generated travel recommendations. This is meaningful direction from the analysis of the system performance tabulated above. \n",
    "\n",
    "<b>3. Fine-tune LLM on Targeted Parameters </b>– While the current setup uses a general-purpose LLM, I will conduct larger-scale fine-tuning iterations, focusing on travel itinerary structuring, and user preference adaptation. I hope this will improve the model’s ability to generate more precise outputs. \n",
    "\n",
    "<b>4. Expand Synthetic Dataset for Agent Testing </b>– To ensure robust agent interactions, I will increase the size and diversity of synthetic datasets used for testing. This will help in larger stress-testing of the agent system leading to better generalization in real-world use cases.\n",
    "\n",
    "</span>\n",
    "</div>"
   ]
  },
  {
   "cell_type": "markdown",
   "metadata": {},
   "source": [
    "### 8. Public Github Repo"
   ]
  },
  {
   "cell_type": "markdown",
   "metadata": {},
   "source": [
    "8.1 A 5-minute (OR LESS) loom video of a live demo of your application that also describes the use case."
   ]
  },
  {
   "cell_type": "markdown",
   "metadata": {},
   "source": [
    "<div style=\"background-color:rgb(245, 230, 250); padding: 10px; border-radius: 5px;\">\n",
    "<span style=\"color: black;\">\n",
    "\n",
    "<b> ANSWER:  </b> \n",
    "\n",
    "<b> Link of Loom video</b>: https://www.loom.com/share/e7e88a35d1ac4ee88d29ed0fbf7556f5?from_recorder=1&focus_title=1\n",
    "\n",
    "</span>\n",
    "</div>"
   ]
  },
  {
   "cell_type": "markdown",
   "metadata": {},
   "source": [
    "8.2 A written document addressing each deliverable and answering each question."
   ]
  },
  {
   "cell_type": "markdown",
   "metadata": {},
   "source": [
    "<div style=\"background-color:rgb(245, 230, 250); padding: 10px; border-radius: 5px;\">\n",
    "<span style=\"color: black;\">\n",
    "\n",
    "<b> ANSWER:  </b> \n",
    "\n",
    "This markdown file codifies answers to all the listed questions and has links to all key deliverables.\n",
    "\n",
    "</span>\n",
    "</div>"
   ]
  },
  {
   "cell_type": "markdown",
   "metadata": {},
   "source": [
    "8.3 All relevant code"
   ]
  },
  {
   "cell_type": "markdown",
   "metadata": {},
   "source": [
    "<div style=\"background-color:rgb(245, 230, 250); padding: 10px; border-radius: 5px;\">\n",
    "<span style=\"color: black;\">\n",
    "\n",
    "<b> ANSWER:  </b> \n",
    "\n",
    "<b> 1. Wall of imports</b>: https://github.com/deeptidabral/AIE5/blob/main/Mid-Term%20Project/00_wall_of_imports.ipynb\n",
    "\n",
    "<b> 2. Data sourcing</b>: https://github.com/deeptidabral/AIE5/blob/main/Mid-Term%20Project/01_data_pipeline_creation.ipynb  \n",
    "\n",
    "<b> 3. RAG + Multi-agent set-up using LangGraph</b>: https://github.com/deeptidabral/AIE5/blob/main/Mid-Term%20Project/02_agent_setup.ipynb  \n",
    "\n",
    "<b> 4. Test set generation and application assessment using RAGAS</b>: https://github.com/deeptidabral/AIE5/blob/main/Mid-Term%20Project/03_testset_generation.ipynb\n",
    "\n",
    "<b> 5. Fine-tuning embedding model</b>: https://github.com/deeptidabral/AIE5/blob/main/Mid-Term%20Project/04_fine_tuning_embedding.ipynb \n",
    "\n",
    "<b> 6. Agent rerun using fine-tuned embedding model and rechecking its performance</b>:  https://github.com/deeptidabral/AIE5/blob/main/Mid-Term%20Project/05_agent_rerun_with_fine_tuned_embedding.ipynb\n",
    "\n",
    "<b> 7. Streamlit app</b>: https://github.com/deeptidabral/AIE5/blob/main/Mid-Term%20Project/Travel_AI_Application/app_streamlit.py\n",
    "\n",
    "</span>\n",
    "</div>"
   ]
  },
  {
   "cell_type": "markdown",
   "metadata": {},
   "source": [
    "### 9. Hugging Face Deliverables"
   ]
  },
  {
   "cell_type": "markdown",
   "metadata": {},
   "source": [
    "9.1 Share a public (or otherwise shared) link to the final version of your public application on Hugging Face (or other)."
   ]
  },
  {
   "cell_type": "markdown",
   "metadata": {},
   "source": [
    "<div style=\"background-color:rgb(245, 230, 250); padding: 10px; border-radius: 5px;\">\n",
    "<span style=\"color: black;\">\n",
    "\n",
    "<b> ANSWER:  </b> \n",
    "\n",
    "<b>Public deployment of Travel AI Agent System on Hugging Face</b>: https://huggingface.co/spaces/dabraldeepti25/travel-ai-midterm-submission\n",
    "\n",
    "</span>\n",
    "</div>"
   ]
  },
  {
   "cell_type": "markdown",
   "metadata": {},
   "source": [
    "9.2 Share the public link to your fine-tuned embedding model on Hugging Face."
   ]
  },
  {
   "cell_type": "markdown",
   "metadata": {},
   "source": [
    "<div style=\"background-color:rgb(245, 230, 250); padding: 10px; border-radius: 5px;\">\n",
    "<span style=\"color: black;\">\n",
    "\n",
    "<b> ANSWER:  </b> \n",
    "\n",
    "<b>Public link of fine-tuned embedding model (model card and files) on Hugging Face</b>: https://huggingface.co/dabraldeepti25/embedding-model-midterm-submission-updated\n",
    "\n",
    "</span>\n",
    "</div>"
   ]
  }
 ],
 "metadata": {
  "kernelspec": {
   "display_name": "Python 3",
   "language": "python",
   "name": "python3"
  },
  "language_info": {
   "codemirror_mode": {
    "name": "ipython",
    "version": 3
   },
   "file_extension": ".py",
   "mimetype": "text/x-python",
   "name": "python",
   "nbconvert_exporter": "python",
   "pygments_lexer": "ipython3",
   "version": "3.13.1"
  }
 },
 "nbformat": 4,
 "nbformat_minor": 2
}
