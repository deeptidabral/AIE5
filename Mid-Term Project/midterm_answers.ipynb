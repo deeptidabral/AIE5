{
 "cells": [
  {
   "cell_type": "markdown",
   "metadata": {},
   "source": [
    "#### Section 1: Defining your Problem and Audience"
   ]
  },
  {
   "cell_type": "markdown",
   "metadata": {},
   "source": [
    "1.1 Write a succinct 1-sentence description of the problem."
   ]
  },
  {
   "cell_type": "markdown",
   "metadata": {},
   "source": [
    "<div style=\"background-color:rgb(245, 230, 250); padding: 10px; border-radius: 5px;\">\n",
    "<span style=\"color: black;\">\n",
    "\n",
    "<b> ANSWER:  </b> \n",
    "Travelers struggle to choose the best destinations, plan efficient itineraries, and get realistic insights into their trips due to overwhelming content, fragmented travel information, uncertainty about location experiences (weather, atmosphere, crowd levels), and unclear cost expectations.\n",
    "\n",
    "</span>\n",
    "</div>"
   ]
  },
  {
   "cell_type": "markdown",
   "metadata": {},
   "source": [
    "1.2 Write 1-2 paragraphs on why this is a problem for your specific user."
   ]
  },
  {
   "cell_type": "markdown",
   "metadata": {},
   "source": [
    "<div style=\"background-color:rgb(245, 230, 250); padding: 10px; border-radius: 5px;\">\n",
    "<span style=\"color: black;\">\n",
    "\n",
    "<b> ANSWER:  </b> \n",
    "For digital-savvy, upwardly mobile but budget-conscious travelers, planning a trip is often a frustrating and time-consuming experience. While they rely on online itinerary planners from platforms like Expedia, these tools primarily serve as vendor-driven marketplaces rather than objective travel advisors. The search results and recommendations are often skewed by sponsored listings, pushing specific hotels, flights, and experiences that may not align with the traveler’s true preferences or budget. As a result, users are left sifting through an overwhelming volume of content, struggling to distinguish between genuine value and paid promotions, leading to decision fatigue and a suboptimal travel experience.\n",
    "\n",
    "Additionally, these travelers face FOMO due to the sheer influx of content across social media and travel websites, making it difficult to determine what is truly worth experiencing. Existing tools provide generic information but fail to give real-time, contextual insights into destinations—such as actual crowd levels, local weather conditions, or a location's current vibe—leaving travelers unsure if their chosen spots will match their expectations. Budget-conscious users also find it hard to get a realistic estimate of their total trip costs, as expenses like local transportation, food, and hidden fees are often not factored into standard itinerary planners. This lack of transparency and personalization results in frustration, unnecessary expenses, and missed opportunities to optimize their travel experience.  \n",
    "</span>\n",
    "</div>"
   ]
  },
  {
   "cell_type": "markdown",
   "metadata": {},
   "source": [
    "#### Section 2: Propose a Solution"
   ]
  },
  {
   "cell_type": "markdown",
   "metadata": {},
   "source": [
    "2.1 Write 1-2 paragraphs on your proposed solution.  How will it look and feel to the user?"
   ]
  },
  {
   "cell_type": "markdown",
   "metadata": {},
   "source": [
    "<div style=\"background-color:rgb(245, 230, 250); padding: 10px; border-radius: 5px;\">\n",
    "<span style=\"color: black;\">\n",
    "\n",
    "<b> ANSWER:  </b> \n",
    "\n",
    "The solution is a next-generation AI travel assistant powered by a RAG (Retrieval-Augmented Generation) + multi-agent system architecture that aggregates, analyzes, and personalizes travel information from diverse sources. Unlike traditional itinerary planners that primarily serve vendor interests, this AI assistant will act as an unbiased, intelligent advisor, helping users discover destinations, build optimized itineraries, and make data-driven travel decisions based on their unique preferences, constraints, and real-time conditions.\n",
    "\n",
    "The system will leverage multi-agent coordination to collect and process data from multiple sources, including real-time weather reports, footfall density analysis, cost estimations, and user-generated reviews. Using vector embeddings and a scalable knowledge base, the assistant will provide hyper-personalized recommendations, avoiding the noise of paid promotions and instead focusing on authentic, data-backed insights. It will predict potential trip expenses based on dynamic pricing trends and offer realistic previews of destinations—including expected crowd levels, atmosphere, and local conditions—ensuring users make informed choices. By eliminating information overload and uncertainty, this AI assistant will help budget-conscious travelers maximize their experience while staying within their financial limits.\n",
    "\n",
    "The look and feel of the final product for the user will be of a state-of-art digital tool that provides dynamic and interactive visualization of the desired travel planning options optimized for the users' preferences such as timing, budget, group travelling, and fun preferences.\n",
    "\n",
    "</span>\n",
    "</div>"
   ]
  },
  {
   "cell_type": "markdown",
   "metadata": {},
   "source": [
    "2.2 Describe the tools you plan to use in each part of your stack.  Write one sentence on why you made each tooling choice. "
   ]
  },
  {
   "cell_type": "markdown",
   "metadata": {},
   "source": [
    "<div style=\"background-color:rgb(245, 230, 250); padding: 10px; border-radius: 5px;\">\n",
    "<span style=\"color: black;\">\n",
    "\n",
    "<b> ANSWER:  </b> \n",
    "\n",
    "1. LLM - OpenAI GPT-3.5: Chosen for its cost-effective yet powerful natural language understanding and generation capabilities, balancing efficiency and affordability for handling user queries.\n",
    "\n",
    "2. Embedding Model - OpenAI text-embedding-3-small: Selected for its optimized balance of performance and speed in generating vector embeddings, ensuring efficient retrieval of relevant travel information.\n",
    "\n",
    "3. Orchestration - LangGraph: Used for managing multi-agent workflows, allowing structured interactions between different agents in a RAG-based system to enhance contextual understanding and response generation.\n",
    "\n",
    "4. Vector Database - FAISS: Chosen for its high-speed and scalable similarity search capabilities, enabling quick retrieval of relevant travel data from large-scale embeddings.\n",
    "\n",
    "5. Monitoring - LangSmith: Selected for its ability to track, debug, and analyze interactions in LLM-based applications, ensuring transparency, reliability, and continuous improvement in system performance.\n",
    "\n",
    "6. Evaluation - RAGAS: Used for assessing the quality of retrieval-augmented generation outputs, helping to fine-tune responses by measuring factual accuracy, relevance, and coherence.\n",
    "\n",
    "7. User Interface - Hugging Face + Streamlit: Hugging Face is chosen for hosting and deploying AI models, while Streamlit provides an interactive and conversational UI for seamless user experience in itinerary planning.\n",
    "    \n",
    "</span>\n",
    "</div>"
   ]
  },
  {
   "cell_type": "markdown",
   "metadata": {},
   "source": [
    "2.3 Where will you use an agent or agents?  What will you use “agentic reasoning” for in your app?"
   ]
  },
  {
   "cell_type": "markdown",
   "metadata": {},
   "source": [
    "<div style=\"background-color:rgb(245, 230, 250); padding: 10px; border-radius: 5px;\">\n",
    "<span style=\"color: black;\">\n",
    "\n",
    "<b> ANSWER:  </b> \n",
    "\n",
    "The next-gen AI travel assistant will be structured around four key agents, each responsible for a core aspect of the travel planning experience. These agents work collaboratively using LangGraph to ensure a seamless, data-driven, and highly personalized itinerary-building process.\n",
    "\n",
    "1. Itinerary Agent – This agent curates a personalized travel itinerary by optimizing sightseeing, activities, and experiences based on user preferences, real-time weather, crowd density, and travel feasibility. It ensures that users get a well-balanced plan that maximizes their time while considering FOMO-inducing experiences.\n",
    "\n",
    "2. Accommodation Agent – Responsible for retrieving and recommending hotels, hostels, or vacation rentals that fit the user’s budget, preferences, and proximity to key attractions. It prioritizes unbiased, data-driven suggestions over vendor-sponsored listings, ensuring travelers get the best value for their stay.\n",
    "\n",
    "3. Information Agent – Gathers and synthesizes relevant travel advisory data, including visa requirements, local safety updates, cultural norms, and real-time conditions like weather, footfall density, and local events. This agent ensures travelers have a realistic expectation of their destination.\n",
    "\n",
    "4. Flight Agent – Searches and compares flight options from multiple airlines and aggregators, considering factors like pricing trends, layovers, baggage policies, and hidden costs. It helps users find the most cost-effective and convenient flight options based on their travel dates and preferences.\n",
    "\n",
    "These four agents work in sync within the multi-agent RAG architecture, ensuring travelers receive accurate, contextual, and unbiased travel planning assistance while reducing decision fatigue.\n",
    "    \n",
    "</span>\n",
    "</div>"
   ]
  },
  {
   "cell_type": "markdown",
   "metadata": {},
   "source": [
    "### 3. Dealing with the Data"
   ]
  },
  {
   "cell_type": "markdown",
   "metadata": {},
   "source": [
    "3.1 Describe all of your data sources and external APIs, and describe what you’ll use them for."
   ]
  },
  {
   "cell_type": "markdown",
   "metadata": {},
   "source": [
    "<div style=\"background-color:rgb(245, 230, 250); padding: 10px; border-radius: 5px;\">\n",
    "<span style=\"color: black;\">\n",
    "\n",
    "<b> ANSWER:  </b> \n",
    "\n",
    "I have used two data sources in the current submission - \n",
    "a) External API: Amadeus API (Amadeus for Developers) – Offers structured data on flights, hotels, travel restrictions, and itinerary recommendations via RESTful APIs, making it easy to fetch real-time travel insights.\n",
    "b) WikiVoyage – Open-source travel guide with structured destination information, making it ideal for automated text extraction.\n",
    "\n",
    "Going forward, I want to make this travel AI system more robust with addition of following data sources:\n",
    "\n",
    "External Travel APIs: that provide structured data that can be easily integrated into Python-based data pipelines using libraries like requests, pandas, and asyncio for efficient retrieval and processing.\n",
    "- Skyscanner API (RapidAPI Skyscanner) – Provides comprehensive flight, hotel, and car rental data in a structured JSON format, enabling seamless price comparisons.  \n",
    "- TripAdvisor API (TripAdvisor Data API) – Supplies user-generated reviews, ratings, and destination information that can be parsed and used for sentiment analysis or recommendation models.  \n",
    "- OpenWeatherMap API (OpenWeatherMap) – Offers real-time and forecasted weather data via an easy-to-use REST API, helping to adjust travel recommendations dynamically.  \n",
    "- Rome2Rio API (Rome2Rio Transport API) – Provides structured multi-modal transport data (flights, trains, buses, ferries), making route planning efficient for itinerary recommendations.\n",
    "\n",
    "Other web sources: that provide structured and semi-structured text data that can be scraped or accessed using Python libraries like BeautifulSoup, Scrapy, or newspaper3k.  \n",
    "- Lonely Planet – Travel guides and expert insights that can be parsed and structured for itinerary recommendations.  \n",
    "- Nomadic Matt – Budget travel tips and cost breakdowns, useful for trip cost estimation models.  \n",
    "- Culture Trip – Provides local experiences and cultural insights that can enhance destination recommendations.  \n",
    "- Travel Stack Exchange – A structured Q&A platform with expert travel advice that can be processed using NLP models for FAQ generation.\n",
    "    \n",
    "</span>\n",
    "</div>"
   ]
  },
  {
   "cell_type": "markdown",
   "metadata": {},
   "source": [
    "3.2 Describe the default chunking strategy that you will use.  Why did you make this decision?"
   ]
  },
  {
   "cell_type": "markdown",
   "metadata": {},
   "source": [
    "<div style=\"background-color:rgb(245, 230, 250); padding: 10px; border-radius: 5px;\">\n",
    "<span style=\"color: black;\">\n",
    "\n",
    "<b> ANSWER:  </b> \n",
    "\n",
    "The default chunking strategy you're using is the RecursiveCharacterTextSplitter from LangChain with the following parameters:\n",
    "\n",
    "1. Chunk size of 4000 characters - This is significantly larger than typical chunk sizes (often around 1000-1500 characters), which suggests you're optimizing for context preservation within chunks.  \n",
    "2. Chunk overlap of 400 characters (10%) - This creates a 10% overlap between adjacent chunks to maintain continuity and context across chunk boundaries.  \n",
    "3. Multiple separators in hierarchical order (\"\\n\\n\", \"\\n\", \" \", \"\") - This ensures the splitting happens at natural text boundaries whenever possible, preserving semantic coherence.  \n",
    "\n",
    "This chunking strategy is appropriate for RAGAS for several reasons:  \n",
    "\n",
    "1. Evaluation needs: RAGAS measures retrieval quality, faithfulness, and context relevance - all of which benefit from larger chunks that preserve more context.  \n",
    "2. Semantic coherence: Larger chunks are more likely to contain complete thoughts, arguments, or explanations, making it easier for the LLM to understand and utilize the information.  \n",
    "3. Reducing fragmentation: With larger chunks, you reduce the risk of important contextual relationships being broken across chunk boundaries.  \n",
    "4. Balancing retrieval granularity with context: The 4000-character size strikes a balance between having chunks small enough for precise retrieval but large enough to maintain sufficient context.  \n",
    "\n",
    "The comment \"Larger chunks for RAGAS\" in your code suggests this decision was made specifically for evaluation purposes, which makes sense since RAGAS metrics often perform better when evaluating larger, more contextually complete chunks.  \n",
    "This differs from another perspective of opting for smaller chunks to improve retrieval precision and reduce token usage.  \n",
    "\n",
    "</span>\n",
    "</div>"
   ]
  },
  {
   "cell_type": "markdown",
   "metadata": {},
   "source": [
    "3.3 [Optional] Will you need specific data for any other part of your application?   If so, explain."
   ]
  },
  {
   "cell_type": "markdown",
   "metadata": {},
   "source": [
    "<div style=\"background-color:rgb(245, 230, 250); padding: 10px; border-radius: 5px;\">\n",
    "<span style=\"color: black;\">\n",
    "\n",
    "<b> ANSWER:  </b> \n",
    "\n",
    "Since I want to add a distinctive layer of visualization which can be interactive and dynamic in real-time for users (fully sketched out itineraries with suggested spots, expected costs at each point of itinerary (commute, rental, food, etc)), there might be some multi-modal data sources that can be ingested as well into this multi-agent pipeline for additional enhancements.  \n",
    "Therefore, I will explore the possibility of adding multi-modal intelligence into the final output layer to enhance the contextual richness of the outputs.\n",
    "\n",
    "</span>\n",
    "</div>"
   ]
  },
  {
   "cell_type": "markdown",
   "metadata": {},
   "source": [
    "### 4. Building a Quick End-to-End Prototype"
   ]
  },
  {
   "cell_type": "markdown",
   "metadata": {},
   "source": [
    "4.1 Build an end-to-end prototype and deploy it to a Hugging Face Space (or other endpoint)."
   ]
  },
  {
   "cell_type": "markdown",
   "metadata": {},
   "source": [
    "<div style=\"background-color:rgb(245, 230, 250); padding: 10px; border-radius: 5px;\">\n",
    "<span style=\"color: black;\">\n",
    "\n",
    "<b> ANSWER:  </b> \n",
    "\n",
    "The app is available at https://huggingface.co/spaces/dabraldeepti25/travel-ai-midterm-submission.\n",
    "\n",
    "</span>\n",
    "</div>"
   ]
  },
  {
   "cell_type": "markdown",
   "metadata": {},
   "source": [
    "### 5. Creating a Golden Test Data Set"
   ]
  },
  {
   "cell_type": "markdown",
   "metadata": {},
   "source": [
    "5.1 Assess your pipeline using the RAGAS framework including key metrics faithfulness, response relevance, context precision, and context recall. Provide a table of your output results."
   ]
  },
  {
   "cell_type": "markdown",
   "metadata": {},
   "source": [
    "<div style=\"background-color:rgb(245, 230, 250); padding: 10px; border-radius: 5px;\">\n",
    "<span style=\"color: black;\">\n",
    "\n",
    "<b> ANSWER:  </b> \n",
    "\n",
    "<b> Performance of Travel AI agent (RAG + multi-agent system) </b>:\n",
    "\n",
    "|                 | Faithfulness | Answer Relevancy | Context   Precision | Context Recall |\n",
    "|-----------------|:------------:|:----------------:|:-------------------:|:--------------:|\n",
    "| Travel AI agent |      21%     |        68%       |         86%         |       69%      |\n",
    "\n",
    "<b> Sub agent wise performance </b>:\n",
    "\n",
    "|               | Faithfulness | Answer Relevancy | Context   Precision | Context Recall |\n",
    "|---------------|:------------:|:----------------:|:-------------------:|:--------------:|\n",
    "| Accommodation | 26%          |        15%       |         96%         | 67%            |\n",
    "| Itinerary     | 9%           |        87%       |         96%         |       68%      |\n",
    "| Information   | 27%          |        71%       |         82%         |       72%      |\n",
    "| Flight        | 20%          |        92%       |         72%         |       62%      |\n",
    "\n",
    "</span>\n",
    "</div>"
   ]
  },
  {
   "cell_type": "markdown",
   "metadata": {},
   "source": [
    "5.2 What conclusions can you draw about the performance and effectiveness of your pipeline with this information?"
   ]
  },
  {
   "cell_type": "markdown",
   "metadata": {},
   "source": [
    "<div style=\"background-color:rgb(245, 230, 250); padding: 10px; border-radius: 5px;\">\n",
    "<span style=\"color: black;\">\n",
    "\n",
    "<b> ANSWER:  </b> \n",
    "\n",
    "Based on the performance metrics of your Travel AI agent (RAG + multi-agent system) and its sub-agents, here are the key conclusions:\n",
    "\n",
    "1. Overall Performance of the Travel AI Agent\n",
    "Faithfulness (21%) is significantly low, indicating that the agent generates a substantial amount of hallucinated or incorrect information.\n",
    "Answer Relevancy (68%) is moderate, meaning that while responses are somewhat relevant, there’s still room for improvement.\n",
    "Context Precision (86%) is high, showing that when the model retrieves information, it tends to be accurate.\n",
    "Context Recall (69%) is moderate, indicating that the AI does not retrieve all relevant information in some cases.\n",
    "👉 Overall, the system retrieves relevant and precise context but struggles with faithfulness, meaning it may generate factually incorrect responses.\n",
    "\n",
    "2. Sub-Agent Performance Breakdown: \n",
    "(a) Accommodation Agent\n",
    "Faithfulness (26%) is higher than the overall system but still low.  \n",
    "Answer Relevancy (15%) is poor, meaning answers are often not relevant.\n",
    "Context Precision (96%) is excellent, suggesting high accuracy in retrieved information.\n",
    "Context Recall (67%) is moderate.\n",
    "✅ Conclusion: The retrieved data is accurate but doesn't necessarily lead to relevant answers. This suggests issues in answer synthesis rather than retrieval.\n",
    "\n",
    "(b) Itinerary Agent\n",
    "Faithfulness (9%) is the lowest among all sub-agents, meaning it generates highly inaccurate responses.\n",
    "Answer Relevancy (87%) is high, so responses are meaningful despite inaccuracy.\n",
    "Context Precision (96%) is excellent.\n",
    "Context Recall (68%) is moderate.\n",
    "✅ Conclusion: This sub-agent finds precise but incomplete information and generates responses that are relevant but mostly unfaithful (hallucinated).\n",
    "\n",
    "(c) Information Agent\n",
    "Faithfulness (27%) is the highest among all sub-agents.\n",
    "Answer Relevancy (71%) is fairly strong.\n",
    "Context Precision (82%) is good.\n",
    "Context Recall (72%) is the best among all sub-agents.\n",
    "✅ Conclusion: This is the best-performing sub-agent in terms of faithfulness and recall. However, faithfulness still needs improvement.\n",
    "\n",
    "(d) Flight Agent\n",
    "Faithfulness (20%) is low.\n",
    "Answer Relevancy (92%) is very high.\n",
    "Context Precision (72%) is decent.\n",
    "Context Recall (62%) is the lowest among all sub-agents.\n",
    "✅ Conclusion: Answers are highly relevant but unfaithful. The low recall suggests it is missing important information, possibly leading to hallucinated responses.\n",
    "\n",
    "</span>\n",
    "</div>"
   ]
  },
  {
   "cell_type": "markdown",
   "metadata": {},
   "source": [
    "### 6. Fine-Tuning Open-Source Embeddings"
   ]
  },
  {
   "cell_type": "markdown",
   "metadata": {},
   "source": [
    "6.1 Swap out your existing embedding model for the new fine-tuned version. Provide a link to your fine-tuned embedding model on the Hugging Face Hub."
   ]
  },
  {
   "cell_type": "markdown",
   "metadata": {},
   "source": [
    "https://huggingface.co/dabraldeepti25/embedding-model-midterm-submission-updated"
   ]
  },
  {
   "cell_type": "markdown",
   "metadata": {},
   "source": [
    "### 7. Assessing Performance"
   ]
  },
  {
   "cell_type": "markdown",
   "metadata": {},
   "source": [
    "7.1 How does the performance compare to your original RAG application? Test the fine-tuned embedding model using the RAGAS frameworks to quantify any improvements. Provide results in a table."
   ]
  },
  {
   "cell_type": "code",
   "execution_count": null,
   "metadata": {},
   "outputs": [],
   "source": []
  },
  {
   "cell_type": "markdown",
   "metadata": {},
   "source": [
    "7.2 Articulate the changes that you expect to make to your app in the second half of the course. How will you improve your application?"
   ]
  },
  {
   "cell_type": "markdown",
   "metadata": {},
   "source": [
    "In the next sprint, I want to make the following key improvements to enhance the AI travel assistant to enhance its accuracy, efficiency, and user experience.\n",
    "\n",
    "1. Expand Data Sources to 10+ – Currently, the system relies on a few key APIs and travel resources. I will integrate additional structured and unstructured data sources, including government tourism APIs, local transit systems, and real-time pricing aggregators, to provide more comprehensive and unbiased travel insights.  \n",
    "\n",
    "2. Improve Model Performance – By optimizing prompt engineering, retrieval strategies, and response formatting, I aim to enhance the accuracy and contextual relevance of AI-generated travel recommendations. This includes tuning query decomposition and improving multi-agent coordination in LangGraph. \n",
    "\n",
    "3. Fine-Tune LLM on Targeted Parameters – While the current setup uses a general-purpose LLM, I will conduct larger-scale fine-tuning iterations, focusing on entity recognition, travel itinerary structuring, and user preference adaptation. This will improve the model’s ability to generate more precise, structured, and dynamic travel plans. \n",
    "\n",
    "4. Expand Synthetic Dataset for Agent Testing – To ensure robust agent interactions, I will increase the size and diversity of synthetic datasets used for testing. This will help in evaluating and stress-testing agent performance across different travel scenarios, leading to better generalization and fewer errors in real-world use cases."
   ]
  },
  {
   "cell_type": "markdown",
   "metadata": {},
   "source": [
    "### 8. Public Github Repo"
   ]
  },
  {
   "cell_type": "markdown",
   "metadata": {},
   "source": [
    "8.1 A 5-minute (OR LESS) loom video of a live demo of your application that also describes the use case."
   ]
  },
  {
   "cell_type": "markdown",
   "metadata": {},
   "source": [
    "<div style=\"background-color:rgb(245, 230, 250); padding: 10px; border-radius: 5px;\">\n",
    "<span style=\"color: black;\">\n",
    "\n",
    "<b> ANSWER:  </b> \n",
    "\n",
    "https://www.loom.com/share/e7e88a35d1ac4ee88d29ed0fbf7556f5?from_recorder=1&focus_title=1\n",
    "\n",
    "</span>\n",
    "</div>"
   ]
  },
  {
   "cell_type": "markdown",
   "metadata": {},
   "source": [
    "8.2 A written document addressing each deliverable and answering each question."
   ]
  },
  {
   "cell_type": "markdown",
   "metadata": {},
   "source": [
    "<div style=\"background-color:rgb(245, 230, 250); padding: 10px; border-radius: 5px;\">\n",
    "<span style=\"color: black;\">\n",
    "\n",
    "<b> ANSWER:  </b> \n",
    "\n",
    "This markdown file codifies answers to all the listed questions and has links to all key deliverables.\n",
    "\n",
    "</span>\n",
    "</div>"
   ]
  },
  {
   "cell_type": "markdown",
   "metadata": {},
   "source": [
    "8.3 All relevant code"
   ]
  },
  {
   "cell_type": "markdown",
   "metadata": {},
   "source": [
    "1: Wall of imports: https://github.com/deeptidabral/AIE5/blob/main/Mid-Term%20Project/00_wall_of_imports.ipynb\n",
    "\n",
    "2. Data sourcing: https://github.com/deeptidabral/AIE5/blob/main/Mid-Term%20Project/01_data_pipeline_creation.ipynb  \n",
    "\n",
    "3. RAG + Multi-agent set-up using LangGraph: https://github.com/deeptidabral/AIE5/blob/main/Mid-Term%20Project/02_agent_setup.ipynb  \n",
    "\n",
    "4. Test set generation and application assessment using RAGAS: \n",
    "\n",
    "5. Fine-tuning embedding model: \n",
    "\n",
    "6. Agent rerun using fine-tuned embedding model and rechecking its performance:  \n",
    "\n",
    "7. Streamlit app: app_streamlit.py"
   ]
  },
  {
   "cell_type": "markdown",
   "metadata": {},
   "source": [
    "### 9. Hugging Face Deliverables"
   ]
  },
  {
   "cell_type": "markdown",
   "metadata": {},
   "source": [
    "9.1 Share a public (or otherwise shared) link to the final version of your public application on Hugging Face (or other)."
   ]
  },
  {
   "cell_type": "markdown",
   "metadata": {},
   "source": [
    "https://huggingface.co/spaces/dabraldeepti25/travel-ai-midterm-submission"
   ]
  },
  {
   "cell_type": "markdown",
   "metadata": {},
   "source": [
    "9.2 Share the public link to your fine-tuned embedding model on Hugging Face."
   ]
  },
  {
   "cell_type": "markdown",
   "metadata": {},
   "source": [
    "https://huggingface.co/dabraldeepti25/embedding-model-midterm-submission-updated"
   ]
  }
 ],
 "metadata": {
  "kernelspec": {
   "display_name": "Python 3",
   "language": "python",
   "name": "python3"
  },
  "language_info": {
   "codemirror_mode": {
    "name": "ipython",
    "version": 3
   },
   "file_extension": ".py",
   "mimetype": "text/x-python",
   "name": "python",
   "nbconvert_exporter": "python",
   "pygments_lexer": "ipython3",
   "version": "3.13.1"
  }
 },
 "nbformat": 4,
 "nbformat_minor": 2
}
