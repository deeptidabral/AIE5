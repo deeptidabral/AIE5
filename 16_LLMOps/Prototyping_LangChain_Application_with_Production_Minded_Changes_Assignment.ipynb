{
  "cells": [
    {
      "cell_type": "markdown",
      "metadata": {
        "id": "8ZsP-j7w3zcL"
      },
      "source": [
        "# Prototyping LangChain Application with Production Minded Changes\n",
        "\n",
        "For our first breakout room we'll be exploring how to set-up a LangChain LCEL chain in a way that takes advantage of all of the amazing out of the box production ready features it offers.\n",
        "\n",
        "We'll also explore `Caching` and what makes it an invaluable tool when transitioning to production environments.\n"
      ]
    },
    {
      "cell_type": "markdown",
      "metadata": {
        "id": "PpeN9ND0HKa0"
      },
      "source": [
        "## Task 1: Dependencies and Set-Up\n",
        "\n",
        "Let's get everything we need - we're going to use very specific versioning today to try to mitigate potential env. issues!\n",
        "\n",
        "> NOTE: Dependency issues are a large portion of what you're going to be tackling as you integrate new technology into your work - please keep in mind that one of the things you should be passively learning throughout this course is ways to mitigate dependency issues."
      ]
    },
    {
      "cell_type": "code",
      "execution_count": 24,
      "metadata": {
        "id": "0P4IJUQF27jW"
      },
      "outputs": [],
      "source": [
        "!pip install -qU langchain_openai==0.2.0 langchain_community==0.3.0 langchain==0.3.0 pymupdf==1.24.10 qdrant-client==1.11.2 langchain_qdrant==0.1.4 langsmith==0.1.121 langchain_huggingface==0.2.0"
      ]
    },
    {
      "cell_type": "markdown",
      "metadata": {
        "id": "qYcWLzrmHgDb"
      },
      "source": [
        "We'll need an HF Token:"
      ]
    },
    {
      "cell_type": "code",
      "execution_count": 1,
      "metadata": {
        "colab": {
          "base_uri": "https://localhost:8080/"
        },
        "id": "GZ8qfrFh_6ed",
        "outputId": "4fb1a16f-1f71-4d0a-aad4-dd0d0917abc5"
      },
      "outputs": [],
      "source": [
        "import os\n",
        "import getpass\n",
        "\n",
        "os.environ[\"HF_TOKEN\"] = getpass.getpass(\"HF Token Key:\")"
      ]
    },
    {
      "cell_type": "markdown",
      "metadata": {
        "id": "piz2DUDuHiSO"
      },
      "source": [
        "And the LangSmith set-up:"
      ]
    },
    {
      "cell_type": "code",
      "execution_count": 20,
      "metadata": {
        "colab": {
          "base_uri": "https://localhost:8080/"
        },
        "id": "wLZX5zowCh-q",
        "outputId": "565c588a-a865-4b86-d5ca-986f35153000"
      },
      "outputs": [],
      "source": [
        "import uuid\n",
        "\n",
        "os.environ[\"LANGCHAIN_PROJECT\"] = f\"AIM Session 16 - {uuid.uuid4().hex[0:8]}\"\n",
        "os.environ[\"LANGCHAIN_TRACING_V2\"] = \"true\"\n",
        "os.environ[\"LANGCHAIN_API_KEY\"] = getpass.getpass(\"LangChain API Key:\")"
      ]
    },
    {
      "cell_type": "markdown",
      "metadata": {
        "id": "WmwNTziKHrQm"
      },
      "source": [
        "Let's verify our project so we can leverage it in LangSmith later."
      ]
    },
    {
      "cell_type": "code",
      "execution_count": 3,
      "metadata": {
        "colab": {
          "base_uri": "https://localhost:8080/"
        },
        "id": "T6GZmkVkFcHq",
        "outputId": "f4c0fdb3-24ea-429a-fa8c-23556cb7c3ed"
      },
      "outputs": [
        {
          "name": "stdout",
          "output_type": "stream",
          "text": [
            "AIM Session 16 - fd5749b9\n"
          ]
        }
      ],
      "source": [
        "print(os.environ[\"LANGCHAIN_PROJECT\"])"
      ]
    },
    {
      "cell_type": "markdown",
      "metadata": {
        "id": "un_ppfaAHv1J"
      },
      "source": [
        "## Task 2: Setting up RAG With Production in Mind\n",
        "\n",
        "This is the most crucial step in the process - in order to take advantage of:\n",
        "\n",
        "- Asyncronous requests\n",
        "- Parallel Execution in Chains\n",
        "- And more...\n",
        "\n",
        "You must...use LCEL. These benefits are provided out of the box and largely optimized behind the scenes."
      ]
    },
    {
      "cell_type": "markdown",
      "metadata": {
        "id": "vGi-db23JMAL"
      },
      "source": [
        "### Building our RAG Components: Retriever\n",
        "\n",
        "We'll start by building some familiar components - and showcase how they automatically scale to production features."
      ]
    },
    {
      "cell_type": "markdown",
      "metadata": {
        "id": "zvbT3HSDJemE"
      },
      "source": [
        "Please upload a PDF file to use in this example!"
      ]
    },
    {
      "cell_type": "code",
      "execution_count": 7,
      "metadata": {
        "colab": {
          "base_uri": "https://localhost:8080/",
          "height": 35
        },
        "id": "NtwoVUbaJlbW",
        "outputId": "5aa08bae-97c5-4f49-cb23-e9dbf194ecf7"
      },
      "outputs": [
        {
          "data": {
            "text/plain": [
              "'./DeepSeek_R1.pdf'"
            ]
          },
          "execution_count": 7,
          "metadata": {},
          "output_type": "execute_result"
        }
      ],
      "source": [
        "file_path = \"./DeepSeek_R1.pdf\"\n",
        "file_path"
      ]
    },
    {
      "cell_type": "markdown",
      "metadata": {
        "id": "kucGy3f0Jhdi"
      },
      "source": [
        "We'll define our chunking strategy."
      ]
    },
    {
      "cell_type": "code",
      "execution_count": 8,
      "metadata": {
        "id": "G-DNvNFd8je5"
      },
      "outputs": [],
      "source": [
        "from langchain_text_splitters import RecursiveCharacterTextSplitter\n",
        "\n",
        "text_splitter = RecursiveCharacterTextSplitter(chunk_size=1000, chunk_overlap=100)"
      ]
    },
    {
      "cell_type": "markdown",
      "metadata": {
        "id": "3_zRRNcLKCZh"
      },
      "source": [
        "We'll chunk our uploaded PDF file."
      ]
    },
    {
      "cell_type": "code",
      "execution_count": 9,
      "metadata": {
        "id": "KOh6w9ud-ff6"
      },
      "outputs": [],
      "source": [
        "from langchain_community.document_loaders import PyMuPDFLoader\n",
        "\n",
        "Loader = PyMuPDFLoader\n",
        "loader = Loader(file_path)\n",
        "documents = loader.load()\n",
        "docs = text_splitter.split_documents(documents)\n",
        "for i, doc in enumerate(docs):\n",
        "    doc.metadata[\"source\"] = f\"source_{i}\""
      ]
    },
    {
      "cell_type": "markdown",
      "metadata": {
        "id": "U4XLeqJMKGdQ"
      },
      "source": [
        "#### QDrant Vector Database - Cache Backed Embeddings\n",
        "\n",
        "The process of embedding is typically a very time consuming one - we must, for ever single vector in our VDB as well as query:\n",
        "\n",
        "1. Send the text to an API endpoint (self-hosted, OpenAI, etc)\n",
        "2. Wait for processing\n",
        "3. Receive response\n",
        "\n",
        "This process costs time, and money - and occurs *every single time a document gets converted into a vector representation*.\n",
        "\n",
        "Instead, what if we:\n",
        "\n",
        "1. Set up a cache that can hold our vectors and embeddings (similar to, or in some cases literally a vector database)\n",
        "2. Send the text to an API endpoint (self-hosted, OpenAI, etc)\n",
        "3. Check the cache to see if we've already converted this text before.\n",
        "  - If we have: Return the vector representation\n",
        "  - Else: Wait for processing and proceed\n",
        "4. Store the text that was converted alongside its vector representation in a cache of some kind.\n",
        "5. Return the vector representation\n",
        "\n",
        "Notice that we can shortcut some instances of \"Wait for processing and proceed\".\n",
        "\n",
        "Let's see how this is implemented in the code."
      ]
    },
    {
      "cell_type": "code",
      "execution_count": 12,
      "metadata": {
        "id": "dzPUTCua98b2"
      },
      "outputs": [],
      "source": [
        "from qdrant_client import QdrantClient\n",
        "from qdrant_client.http.models import Distance, VectorParams\n",
        "from langchain.storage import LocalFileStore\n",
        "from langchain_qdrant import QdrantVectorStore\n",
        "from langchain.embeddings import CacheBackedEmbeddings\n",
        "from langchain_huggingface.embeddings import HuggingFaceEndpointEmbeddings\n",
        "import hashlib\n",
        "\n",
        "YOUR_EMBED_MODEL_URL = \"https://yij47k87rjciyxy7.us-east-1.aws.endpoints.huggingface.cloud\"\n",
        "\n",
        "hf_embeddings = HuggingFaceEndpointEmbeddings(\n",
        "    model=YOUR_EMBED_MODEL_URL,\n",
        "    task=\"feature-extraction\",\n",
        ")\n",
        "\n",
        "collection_name = f\"pdf_to_parse_{uuid.uuid4()}\"\n",
        "client = QdrantClient(\":memory:\")\n",
        "client.create_collection(\n",
        "    collection_name=collection_name,\n",
        "    vectors_config=VectorParams(size=768, distance=Distance.COSINE),\n",
        ")\n",
        "\n",
        "# Create a safe namespace by hashing the model URL\n",
        "safe_namespace = hashlib.md5(hf_embeddings.model.encode()).hexdigest()\n",
        "\n",
        "store = LocalFileStore(\"./cache/\")\n",
        "cached_embedder = CacheBackedEmbeddings.from_bytes_store(\n",
        "    hf_embeddings, store, namespace=safe_namespace, batch_size=32\n",
        ")\n",
        "\n",
        "# Typical QDrant Vector Store Set-up\n",
        "vectorstore = QdrantVectorStore(\n",
        "    client=client,\n",
        "    collection_name=collection_name,\n",
        "    embedding=cached_embedder)\n",
        "vectorstore.add_documents(docs)\n",
        "retriever = vectorstore.as_retriever(search_type=\"mmr\", search_kwargs={\"k\": 1})"
      ]
    },
    {
      "cell_type": "markdown",
      "metadata": {
        "id": "QVZGvmNYLomp"
      },
      "source": [
        "##### ❓ Question #1:\n",
        "\n",
        "What are some limitations you can see with this approach? When is this most/least useful. Discuss with your group!\n",
        "\n",
        "> NOTE: There is no single correct answer here!"
      ]
    },
    {
      "cell_type": "markdown",
      "metadata": {},
      "source": [
        "<div style=\"background-color: #E6E6FA; padding: 10px; border-radius: 5px;\">\n",
        "<span style=\"color: black;\">\n",
        "<b> ANSWER:  </b> \n",
        "\n",
        "There can be a few prominent limitations of using Cache-Backed Embeddings.  \n",
        "\n",
        "1. <b>Storage Limitations</b>: Local storage can become a bottleneck as cache usage increases especially when dealing with extensive volumes of literature.  \n",
        "2. <b>Cache Invalidation Challenges</b>: Updating / fine-tuning embedding model across multiple iterations can repeatedly make all cached copies of embeddings inconsistent / untrue with newly generated versions. To keep the cached version consistent with the new versions, there might be some kind of refresh needed.  \n",
        "3. <b>Incompatibility with Distributed Systems</b>: Locally cached embeddings will fail in distributed environments where multiple instances need to share the same cache and to tackle this, we would need to ensure multiple syncs across multiple instances adding to the infra requirements.  \n",
        "4. <b>Text Normalization Issues</b>: Minor text variations (formatting., special characters) might result in cache misses if proper normalization is not done.\n",
        "\n",
        "Therefore, Cache-Backed Embeddings are most useful in applications needing repetitive content processing, batch processing, and cost optimization.\n",
        "But they might not work well in cases where the content is dynamic, user content is unique / original, and environments with limited storage / memory.\n",
        "\n",
        "</span>\n",
        "</div>"
      ]
    },
    {
      "cell_type": "markdown",
      "metadata": {
        "id": "vZAOhyb3L9iD"
      },
      "source": [
        "##### 🏗️ Activity #1:\n",
        "\n",
        "Create a simple experiment that tests the cache-backed embeddings."
      ]
    },
    {
      "cell_type": "code",
      "execution_count": 19,
      "metadata": {
        "id": "M_Mekif6MDqe"
      },
      "outputs": [
        {
          "name": "stdout",
          "output_type": "stream",
          "text": [
            "Running Cache-backed embeddings...\n",
            "First run - embedding all texts:\n",
            "  Text 1: 0.0881 seconds\n",
            "  Text 2: 0.0867 seconds\n",
            "  Text 3: 0.0887 seconds\n",
            "  Text 4: 0.1262 seconds\n",
            "  Text 5: 0.1275 seconds\n",
            "  Text 6: 0.0873 seconds\n",
            "  Text 7: 0.0947 seconds\n",
            "\n",
            "Second run - should use cache when possible:\n",
            "  Text 1: 0.0930 seconds\n",
            "  Text 2: 0.0879 seconds\n",
            "  Text 3: 0.1283 seconds\n",
            "  Text 4: 0.0979 seconds\n",
            "  Text 5: 0.1193 seconds\n",
            "  Text 6: 0.1162 seconds\n",
            "  Text 7: 0.0842 seconds\n"
          ]
        },
        {
          "data": {
            "image/png": "[encoded data removed]",
            "text/plain": [
              "<Figure size 1200x600 with 1 Axes>"
            ]
          },
          "metadata": {},
          "output_type": "display_data"
        },
        {
          "name": "stdout",
          "output_type": "stream",
          "text": [
            "\n",
            "Statistics:\n",
            "Total time first run: 0.6993 seconds\n",
            "Total time second run: 0.7267 seconds\n",
            "Time saved: -0.0274 seconds (-3.92%)\n",
            "Average time for repeated texts - first run: 0.0979 seconds\n",
            "Average time for repeated texts - second run: 0.1142 seconds\n",
            "Improvement for repeated texts: -16.61%\n"
          ]
        }
      ],
      "source": [
        "### YOUR CODE HERE\n",
        "import time\n",
        "from langchain.storage import LocalFileStore\n",
        "from langchain.embeddings import CacheBackedEmbeddings\n",
        "from langchain_huggingface.embeddings import HuggingFaceEndpointEmbeddings\n",
        "import hashlib\n",
        "import matplotlib.pyplot as plt\n",
        "import numpy as np\n",
        "\n",
        "# Configure the embedding model\n",
        "YOUR_EMBED_MODEL_URL = \"https://yij47k87rjciyxy7.us-east-1.aws.endpoints.huggingface.cloud\"\n",
        "\n",
        "hf_embeddings = HuggingFaceEndpointEmbeddings(\n",
        "    model=YOUR_EMBED_MODEL_URL,\n",
        "    task=\"feature-extraction\",\n",
        ")\n",
        "\n",
        "# Create a safe namespace by hashing the model URL\n",
        "safe_namespace = hashlib.md5(hf_embeddings.model.encode()).hexdigest()\n",
        "\n",
        "# Set up the cache\n",
        "store = LocalFileStore(\"./cache/\")\n",
        "cached_embedder = CacheBackedEmbeddings.from_bytes_store(\n",
        "    hf_embeddings, store, namespace=safe_namespace\n",
        ")\n",
        "\n",
        "# Define test texts - some unique, some repeated\n",
        "test_texts = [\n",
        "    \"This is a completely unique text about banking systems.\",\n",
        "    \"Another unique document about credit risk assessment.\",\n",
        "    \"This is a repeated text that will test our cache efficiency.\",\n",
        "    \"A fourth document about loan approval processes.\",\n",
        "    \"This is a repeated text that will test our cache efficiency.\",  # Same as text 3\n",
        "    \"This is a completely unique text about banking systems.\",  # Same as text 1\n",
        "    \"A new unique document about fraud detection systems.\"\n",
        "]\n",
        "\n",
        "# Experiment function\n",
        "def run_embedding_experiment(embedder, texts, experiment_name=\"Experiment\"):\n",
        "    print(f\"Running {experiment_name}...\")\n",
        "    times = []\n",
        "    \n",
        "    # First run - should cache all texts\n",
        "    print(\"First run - embedding all texts:\")\n",
        "    for i, text in enumerate(texts):\n",
        "        start_time = time.time()\n",
        "        embedding = embedder.embed_query(text)\n",
        "        elapsed = time.time() - start_time\n",
        "        times.append(elapsed)\n",
        "        print(f\"  Text {i+1}: {elapsed:.4f} seconds\")\n",
        "    \n",
        "    first_run_times = times.copy()\n",
        "    times = []\n",
        "    \n",
        "    # Second run - should use cache for repeated texts\n",
        "    print(\"\\nSecond run - should use cache when possible:\")\n",
        "    for i, text in enumerate(texts):\n",
        "        start_time = time.time()\n",
        "        embedding = embedder.embed_query(text)\n",
        "        elapsed = time.time() - start_time\n",
        "        times.append(elapsed)\n",
        "        print(f\"  Text {i+1}: {elapsed:.4f} seconds\")\n",
        "    \n",
        "    second_run_times = times\n",
        "    \n",
        "    return first_run_times, second_run_times\n",
        "\n",
        "# Run experiment with cache\n",
        "first_run, second_run = run_embedding_experiment(cached_embedder, test_texts, \"Cache-backed embeddings\")\n",
        "\n",
        "# Plot results\n",
        "def plot_results(first_run, second_run, text_indices):\n",
        "    plt.figure(figsize=(12, 6))\n",
        "    \n",
        "    # Bars for first run\n",
        "    plt.bar(np.array(text_indices) - 0.2, first_run, width=0.4, label='First Run (No Cache)')\n",
        "    \n",
        "    # Bars for second run\n",
        "    plt.bar(np.array(text_indices) + 0.2, second_run, width=0.4, label='Second Run (With Cache)')\n",
        "    \n",
        "    plt.xlabel('Text Index')\n",
        "    plt.ylabel('Time (seconds)')\n",
        "    plt.title('Embedding Generation Time Comparison')\n",
        "    plt.legend()\n",
        "    plt.xticks(text_indices)\n",
        "    \n",
        "    # Highlight repeated texts\n",
        "    repeated_indices = [3, 5, 1, 6]  # Texts that are repeated (0-indexed)\n",
        "    for idx in repeated_indices:\n",
        "        plt.axvspan(idx + 0.5, idx + 1.5, alpha=0.2, color='green')\n",
        "    \n",
        "    plt.savefig('cache_experiment_results.png')\n",
        "    plt.show()\n",
        "\n",
        "# Plot the results\n",
        "plot_results(first_run, second_run, range(1, len(test_texts) + 1))\n",
        "\n",
        "# Calculate and print statistics\n",
        "def print_stats(first_run, second_run):\n",
        "    total_first = sum(first_run)\n",
        "    total_second = sum(second_run)\n",
        "    time_saved = total_first - total_second\n",
        "    percent_saved = (time_saved / total_first) * 100\n",
        "    \n",
        "    # Find indices of repeated texts (0-indexed for the arrays)\n",
        "    repeated_indices = [2, 4, 0, 5]  # Based on our test_texts definition\n",
        "    \n",
        "    # Calculate average time for repeated texts in both runs\n",
        "    repeat_first_avg = sum([first_run[i] for i in repeated_indices]) / len(repeated_indices)\n",
        "    repeat_second_avg = sum([second_run[i] for i in repeated_indices]) / len(repeated_indices)\n",
        "    repeat_improvement = (repeat_first_avg - repeat_second_avg) / repeat_first_avg * 100\n",
        "    \n",
        "    print(\"\\nStatistics:\")\n",
        "    print(f\"Total time first run: {total_first:.4f} seconds\")\n",
        "    print(f\"Total time second run: {total_second:.4f} seconds\")\n",
        "    print(f\"Time saved: {time_saved:.4f} seconds ({percent_saved:.2f}%)\")\n",
        "    print(f\"Average time for repeated texts - first run: {repeat_first_avg:.4f} seconds\")\n",
        "    print(f\"Average time for repeated texts - second run: {repeat_second_avg:.4f} seconds\")\n",
        "    print(f\"Improvement for repeated texts: {repeat_improvement:.2f}%\")\n",
        "\n",
        "print_stats(first_run, second_run)\n",
        "\n",
        "# Clear the cache to compare with non-cached approach (optional)\n",
        "# import shutil\n",
        "# shutil.rmtree(\"./cache/\")"
      ]
    },
    {
      "cell_type": "markdown",
      "metadata": {
        "id": "DH0i-YovL8kZ"
      },
      "source": [
        "### Augmentation\n",
        "\n",
        "We'll create the classic RAG Prompt and create our `ChatPromptTemplates` as per usual."
      ]
    },
    {
      "cell_type": "code",
      "execution_count": 14,
      "metadata": {
        "id": "WchaoMEx9j69"
      },
      "outputs": [],
      "source": [
        "from langchain_core.prompts import ChatPromptTemplate\n",
        "\n",
        "rag_system_prompt_template = \"\"\"\\\n",
        "You are a helpful assistant that uses the provided context to answer questions. Never reference this prompt, or the existance of context.\n",
        "\"\"\"\n",
        "\n",
        "rag_message_list = [\n",
        "    {\"role\" : \"system\", \"content\" : rag_system_prompt_template},\n",
        "]\n",
        "\n",
        "rag_user_prompt_template = \"\"\"\\\n",
        "Question:\n",
        "{question}\n",
        "Context:\n",
        "{context}\n",
        "\"\"\"\n",
        "\n",
        "chat_prompt = ChatPromptTemplate.from_messages([\n",
        "    (\"system\", rag_system_prompt_template),\n",
        "    (\"human\", rag_user_prompt_template)\n",
        "])"
      ]
    },
    {
      "cell_type": "markdown",
      "metadata": {
        "id": "UQKnByVWMpiK"
      },
      "source": [
        "### Generation\n",
        "\n",
        "Like usual, we'll set-up a `ChatOpenAI` model - and we'll use the fan favourite `gpt-4o-mini` for today.\n",
        "\n",
        "However, we'll also implement...a PROMPT CACHE!\n",
        "\n",
        "In essence, this works in a very similar way to the embedding cache - if we've seen this prompt before, we just use the stored response."
      ]
    },
    {
      "cell_type": "code",
      "execution_count": 23,
      "metadata": {
        "id": "fOXKkaY7ABab"
      },
      "outputs": [
        {
          "name": "stderr",
          "output_type": "stream",
          "text": [
            "Note: Environment variable`HF_TOKEN` is set and is the current active token independently from the token you've just configured.\n"
          ]
        }
      ],
      "source": [
        "from langchain_core.globals import set_llm_cache\n",
        "from langchain_huggingface import HuggingFaceEndpoint\n",
        "\n",
        "YOUR_LLM_ENDPOINT_URL = \"https://plqere42yvuvlaq7.us-east-1.aws.endpoints.huggingface.cloud\"\n",
        "\n",
        "hf_llm = HuggingFaceEndpoint(\n",
        "    endpoint_url=f\"{YOUR_LLM_ENDPOINT_URL}\",\n",
        "    task=\"text-generation\",\n",
        "    max_new_tokens=128,\n",
        "    top_k=10,\n",
        "    top_p=0.95,\n",
        "    typical_p=0.95,\n",
        "    temperature=0.01,\n",
        "    repetition_penalty=1.03,\n",
        ")"
      ]
    },
    {
      "cell_type": "markdown",
      "metadata": {
        "id": "mhv8IqZoM9cY"
      },
      "source": [
        "Setting up the cache can be done as follows:"
      ]
    },
    {
      "cell_type": "code",
      "execution_count": 24,
      "metadata": {
        "id": "thqam26gAyzN"
      },
      "outputs": [],
      "source": [
        "from langchain_core.caches import InMemoryCache\n",
        "\n",
        "set_llm_cache(InMemoryCache())"
      ]
    },
    {
      "cell_type": "markdown",
      "metadata": {
        "id": "CvxEovcEM_oA"
      },
      "source": [
        "##### ❓ Question #2:\n",
        "\n",
        "What are some limitations you can see with this approach? When is this most/least useful. Discuss with your group!\n",
        "\n",
        "> NOTE: There is no single correct answer here!"
      ]
    },
    {
      "cell_type": "markdown",
      "metadata": {
        "id": "3iCMjVYKNEeV"
      },
      "source": [
        "##### 🏗️ Activity #2:\n",
        "\n",
        "Create a simple experiment that tests the cache-backed embeddings."
      ]
    },
    {
      "cell_type": "code",
      "execution_count": 32,
      "metadata": {
        "id": "QT5GfmsHNFqP"
      },
      "outputs": [
        {
          "name": "stderr",
          "output_type": "stream",
          "text": [
            "Note: Environment variable`HF_TOKEN` is set and is the current active token independently from the token you've just configured.\n"
          ]
        },
        {
          "name": "stdout",
          "output_type": "stream",
          "text": [
            "Running experiment WITHOUT cache...\n",
            "  Prompt 1: 0.0004 seconds\n",
            "  Prompt 2: 0.0002 seconds\n",
            "  Prompt 3: 0.0002 seconds\n",
            "  Prompt 4: 0.0002 seconds\n",
            "  Prompt 5: 0.0002 seconds\n",
            "  Prompt 6: 0.0001 seconds\n",
            "  Prompt 7: 0.0001 seconds\n"
          ]
        },
        {
          "name": "stderr",
          "output_type": "stream",
          "text": [
            "Note: Environment variable`HF_TOKEN` is set and is the current active token independently from the token you've just configured.\n"
          ]
        },
        {
          "name": "stdout",
          "output_type": "stream",
          "text": [
            "\n",
            "Running experiment WITH cache...\n",
            "  Prompt 1: 7.6991 seconds\n",
            "  Prompt 2: 7.7265 seconds\n",
            "  Prompt 3: 0.0004 seconds\n",
            "  Prompt 4: 7.7471 seconds\n",
            "  Prompt 5: 0.0005 seconds\n",
            "  Prompt 6: 7.7630 seconds\n",
            "  Prompt 7: 0.0003 seconds\n"
          ]
        },
        {
          "data": {
            "image/png": "[encoded data removed]",
            "text/plain": [
              "<Figure size 1200x600 with 1 Axes>"
            ]
          },
          "metadata": {},
          "output_type": "display_data"
        },
        {
          "name": "stdout",
          "output_type": "stream",
          "text": [
            "\n",
            "Performance Analysis:\n",
            "Total time without cache: 0.0014 seconds\n",
            "Total time with cache: 30.9368 seconds\n",
            "Overall time saved: -30.9355 seconds (-2249528.02%)\n",
            "\n",
            "Repeated Prompts Only:\n",
            "Time without cache: 0.0005 seconds\n",
            "Time with cache: 0.0011 seconds\n",
            "Time saved on repeated prompts: -0.0007 seconds (-141.36%)\n",
            "\n",
            "Average Response Times:\n",
            "First-time requests: 0.0002 seconds\n",
            "Repeated requests (no cache): 0.0002 seconds\n",
            "Repeated requests (with cache): 0.0004 seconds\n",
            "Cache speedup factor: 0.41x faster\n",
            "\n",
            "Banking Application Insights:\n",
            "1. For frequent customer queries like checking account rules or loan terms,\n",
            "   response time could be reduced by approximately -141.4%\n",
            "2. Chatbots handling common banking questions would be more responsive\n",
            "3. Peak-time performance would be improved, reducing customer wait times\n",
            "4. API cost savings would be substantial for high-volume operations\n"
          ]
        }
      ],
      "source": [
        "import time\n",
        "import matplotlib.pyplot as plt\n",
        "import numpy as np\n",
        "from langchain_core.caches import InMemoryCache\n",
        "from langchain_core.globals import set_llm_cache\n",
        "from langchain_huggingface import HuggingFaceEndpoint\n",
        "\n",
        "# Configure the LLM\n",
        "YOUR_LLM_ENDPOINT_URL = \"https://plqere42yvuvlaq7.us-east-1.aws.endpoints.huggingface.cloud\"\n",
        "\n",
        "def create_llm():\n",
        "    return HuggingFaceEndpoint(\n",
        "        endpoint_url=f\"{YOUR_LLM_ENDPOINT_URL}\",\n",
        "        task=\"text-generation\",\n",
        "        max_new_tokens=128,\n",
        "        top_k=10,\n",
        "        top_p=0.95,\n",
        "        typical_p=0.95,\n",
        "        temperature=0.01,\n",
        "        repetition_penalty=1.03,\n",
        "    )\n",
        "\n",
        "# Test prompts - mix of unique and repeated\n",
        "test_prompts = [\n",
        "    \"Explain what a credit default swap is in simple terms.\",\n",
        "    \"What are the key risk factors in retail banking?\",\n",
        "    \"Explain what a credit default swap is in simple terms.\",  # Repeated\n",
        "    \"How do banks calculate interest rates?\",\n",
        "    \"What are the key risk factors in retail banking?\",  # Repeated\n",
        "    \"Describe the role of a central bank in the economy.\",\n",
        "    \"How do banks calculate interest rates?\",  # Repeated\n",
        "]\n",
        "\n",
        "def run_llm_cache_experiment():\n",
        "    \"\"\"Run experiment comparing cached vs non-cached LLM calls\"\"\"\n",
        "    \n",
        "    # First test: No caching\n",
        "    llm_no_cache = create_llm()\n",
        "    \n",
        "    print(\"Running experiment WITHOUT cache...\")\n",
        "    no_cache_times = []\n",
        "    \n",
        "    for i, prompt in enumerate(test_prompts):\n",
        "        start_time = time.time()\n",
        "        _ = llm_no_cache.invoke(prompt)\n",
        "        elapsed = time.time() - start_time\n",
        "        no_cache_times.append(elapsed)\n",
        "        print(f\"  Prompt {i+1}: {elapsed:.4f} seconds\")\n",
        "    \n",
        "    # Second test: With caching\n",
        "    set_llm_cache(InMemoryCache())\n",
        "    llm_with_cache = create_llm()\n",
        "    \n",
        "    print(\"\\nRunning experiment WITH cache...\")\n",
        "    with_cache_times = []\n",
        "    \n",
        "    for i, prompt in enumerate(test_prompts):\n",
        "        start_time = time.time()\n",
        "        _ = llm_with_cache.invoke(prompt)\n",
        "        elapsed = time.time() - start_time\n",
        "        with_cache_times.append(elapsed)\n",
        "        print(f\"  Prompt {i+1}: {elapsed:.4f} seconds\")\n",
        "    \n",
        "    return no_cache_times, with_cache_times\n",
        "\n",
        "# Visualize results\n",
        "def plot_cache_comparison(no_cache_times, with_cache_times):\n",
        "    indices = np.arange(len(test_prompts))\n",
        "    width = 0.35\n",
        "    \n",
        "    fig, ax = plt.subplots(figsize=(12, 6))\n",
        "    \n",
        "    # Plot bars\n",
        "    no_cache_bars = ax.bar(indices - width/2, no_cache_times, width, label='No Cache')\n",
        "    with_cache_bars = ax.bar(indices + width/2, with_cache_times, width, label='With Cache')\n",
        "    \n",
        "    # Add labels and title\n",
        "    ax.set_xlabel('Prompt Index')\n",
        "    ax.set_ylabel('Time (seconds)')\n",
        "    ax.set_title('LLM Response Time: Cached vs. Non-Cached')\n",
        "    ax.set_xticks(indices)\n",
        "    ax.set_xticklabels([f\"Prompt {i+1}\" for i in indices])\n",
        "    ax.legend()\n",
        "    \n",
        "    # Highlight repeated prompts\n",
        "    repeat_indices = [2, 4, 6]  # 0-indexed positions of repeated prompts\n",
        "    for idx in repeat_indices:\n",
        "        plt.axvspan(idx-0.5, idx+0.5, alpha=0.2, color='green')\n",
        "    \n",
        "    # Add text annotations for prompt descriptions\n",
        "    prompt_descriptions = [p[:20] + \"...\" for p in test_prompts]\n",
        "    for i, desc in enumerate(prompt_descriptions):\n",
        "        ax.annotate(desc, xy=(i, 0), xytext=(i, -0.2), \n",
        "                   ha='center', va='top', rotation=45)\n",
        "    \n",
        "    # Add note for repeated prompts\n",
        "    ax.annotate('Green areas indicate repeated prompts', \n",
        "               xy=(0.5, 0.95), xycoords='figure fraction',\n",
        "               ha='center', fontsize=10,\n",
        "               bbox=dict(boxstyle=\"round,pad=0.3\", fc=\"white\", ec=\"green\", alpha=0.8))\n",
        "    \n",
        "    plt.tight_layout()\n",
        "    plt.savefig('llm_cache_experiment_results.png')\n",
        "    plt.show()\n",
        "\n",
        "# Calculate and print statistics\n",
        "def analyze_cache_performance(no_cache_times, with_cache_times):\n",
        "    # Overall stats\n",
        "    total_no_cache = sum(no_cache_times)\n",
        "    total_with_cache = sum(with_cache_times)\n",
        "    time_saved = total_no_cache - total_with_cache\n",
        "    percent_saved = (time_saved / total_no_cache) * 100\n",
        "    \n",
        "    # Stats for repeated prompts only\n",
        "    repeat_indices = [2, 4, 6]  # 0-indexed positions of repeated prompts\n",
        "    \n",
        "    repeat_no_cache = sum([no_cache_times[i] for i in repeat_indices])\n",
        "    repeat_with_cache = sum([with_cache_times[i] for i in repeat_indices])\n",
        "    repeat_time_saved = repeat_no_cache - repeat_with_cache\n",
        "    repeat_percent_saved = (repeat_time_saved / repeat_no_cache) * 100\n",
        "    \n",
        "    # Print results\n",
        "    print(\"\\nPerformance Analysis:\")\n",
        "    print(f\"Total time without cache: {total_no_cache:.4f} seconds\")\n",
        "    print(f\"Total time with cache: {total_with_cache:.4f} seconds\")\n",
        "    print(f\"Overall time saved: {time_saved:.4f} seconds ({percent_saved:.2f}%)\")\n",
        "    print(\"\\nRepeated Prompts Only:\")\n",
        "    print(f\"Time without cache: {repeat_no_cache:.4f} seconds\")\n",
        "    print(f\"Time with cache: {repeat_with_cache:.4f} seconds\")\n",
        "    print(f\"Time saved on repeated prompts: {repeat_time_saved:.4f} seconds ({repeat_percent_saved:.2f}%)\")\n",
        "    \n",
        "    # Compare average response times\n",
        "    avg_first_request = sum([no_cache_times[i] for i in range(len(no_cache_times)) if i not in repeat_indices]) / (len(no_cache_times) - len(repeat_indices))\n",
        "    avg_repeat_no_cache = repeat_no_cache / len(repeat_indices)\n",
        "    avg_repeat_with_cache = repeat_with_cache / len(repeat_indices)\n",
        "    \n",
        "    print(\"\\nAverage Response Times:\")\n",
        "    print(f\"First-time requests: {avg_first_request:.4f} seconds\")\n",
        "    print(f\"Repeated requests (no cache): {avg_repeat_no_cache:.4f} seconds\")\n",
        "    print(f\"Repeated requests (with cache): {avg_repeat_with_cache:.4f} seconds\")\n",
        "    print(f\"Cache speedup factor: {avg_repeat_no_cache/avg_repeat_with_cache:.2f}x faster\")\n",
        "    \n",
        "    return repeat_percent_saved\n",
        "\n",
        "# Banking-specific application insights\n",
        "def print_banking_insights(savings_percentage):\n",
        "    print(\"\\nBanking Application Insights:\")\n",
        "    print(\"1. For frequent customer queries like checking account rules or loan terms,\")\n",
        "    print(f\"   response time could be reduced by approximately {savings_percentage:.1f}%\")\n",
        "    print(\"2. Chatbots handling common banking questions would be more responsive\")\n",
        "    print(\"3. Peak-time performance would be improved, reducing customer wait times\")\n",
        "    print(\"4. API cost savings would be substantial for high-volume operations\")\n",
        "\n",
        "# Main experiment execution\n",
        "def main():\n",
        "    # Run the experiment\n",
        "    no_cache_times, with_cache_times = run_llm_cache_experiment()\n",
        "    \n",
        "    # Plot the results\n",
        "    plot_cache_comparison(no_cache_times, with_cache_times)\n",
        "    \n",
        "    # Analyze and get the savings percentage\n",
        "    savings = analyze_cache_performance(no_cache_times, with_cache_times)\n",
        "    \n",
        "    # Print banking-specific insights\n",
        "    print_banking_insights(savings)\n",
        "\n",
        "# Execute the main function\n",
        "if __name__ == \"__main__\":\n",
        "    main()"
      ]
    },
    {
      "cell_type": "markdown",
      "metadata": {
        "id": "zyPnNWb9NH7W"
      },
      "source": [
        "## Task 3: RAG LCEL Chain\n",
        "\n",
        "We'll also set-up our typical RAG chain using LCEL.\n",
        "\n",
        "However, this time: We'll specifically call out that the `context` and `question` halves of the first \"link\" in the chain are executed *in parallel* by default!\n",
        "\n",
        "Thanks, LCEL!"
      ]
    },
    {
      "cell_type": "code",
      "execution_count": 25,
      "metadata": {
        "id": "3JNvSsx_CEtI"
      },
      "outputs": [],
      "source": [
        "from operator import itemgetter\n",
        "from langchain_core.runnables.passthrough import RunnablePassthrough\n",
        "\n",
        "retrieval_augmented_qa_chain = (\n",
        "        {\"context\": itemgetter(\"question\") | retriever, \"question\": itemgetter(\"question\")}\n",
        "        | RunnablePassthrough.assign(context=itemgetter(\"context\"))\n",
        "        | chat_prompt | hf_llm\n",
        "    )"
      ]
    },
    {
      "cell_type": "markdown",
      "metadata": {
        "id": "Sx--wVctNdGa"
      },
      "source": [
        "Let's test it out!"
      ]
    },
    {
      "cell_type": "code",
      "execution_count": 26,
      "metadata": {
        "colab": {
          "base_uri": "https://localhost:8080/"
        },
        "id": "43uQegbnDQKP",
        "outputId": "a9ff032b-4eb2-4f5f-f456-1fc6aa24aaec"
      },
      "outputs": [
        {
          "data": {
            "text/plain": [
              "'The document is a list of contributors to a project, with some contributors marked with an asterisk (*).\\n\\n1. The document is a list.\\n2. The document contains 34 contributors.\\n3. The document has 2 sections.\\n4. The document is in PDF format.\\n5. The document was created on January 23, 2025.\\n6. The document was produced by pdfTeX-1.40.26.\\n7. The document was created using LaTeX with hyperref.\\n8. The document has 22 pages.\\n9. The document has a total of 19 pages of content.\\n10. The document has a'"
            ]
          },
          "execution_count": 26,
          "metadata": {},
          "output_type": "execute_result"
        }
      ],
      "source": [
        "retrieval_augmented_qa_chain.invoke({\"question\" : \"Write 50 things about this document!\"})"
      ]
    },
    {
      "cell_type": "markdown",
      "metadata": {
        "id": "0tYAvHrJNecy"
      },
      "source": [
        "##### 🏗️ Activity #3:\n",
        "\n",
        "Show, through LangSmith, the different between a trace that is leveraging cache-backed embeddings and LLM calls - and one that isn't.\n",
        "\n",
        "Post screenshots in the notebook!"
      ]
    },
    {
      "cell_type": "code",
      "execution_count": 34,
      "metadata": {},
      "outputs": [
        {
          "name": "stderr",
          "output_type": "stream",
          "text": [
            "Note: Environment variable`HF_TOKEN` is set and is the current active token independently from the token you've just configured.\n"
          ]
        },
        {
          "name": "stdout",
          "output_type": "stream",
          "text": [
            "Running experiment WITHOUT cache...\n",
            "  Prompt 1: 7.8066 seconds\n",
            "  Prompt 2: 9.7849 seconds\n",
            "  Prompt 3: 0.0005 seconds\n",
            "  Prompt 4: 7.8091 seconds\n",
            "  Prompt 5: 0.0006 seconds\n"
          ]
        },
        {
          "name": "stderr",
          "output_type": "stream",
          "text": [
            "Note: Environment variable`HF_TOKEN` is set and is the current active token independently from the token you've just configured.\n"
          ]
        },
        {
          "name": "stdout",
          "output_type": "stream",
          "text": [
            "  Prompt 6: 7.8067 seconds\n",
            "  Prompt 7: 0.0005 seconds\n",
            "\n",
            "Running experiment WITH cache...\n",
            "  Prompt 1: 7.6671 seconds\n",
            "  Prompt 2: 7.7850 seconds\n",
            "  Prompt 3: 0.0006 seconds\n",
            "  Prompt 4: 7.7772 seconds\n",
            "  Prompt 5: 0.0005 seconds\n",
            "  Prompt 6: 7.7779 seconds\n",
            "  Prompt 7: 0.0005 seconds\n"
          ]
        },
        {
          "data": {
            "image/png": "[encoded data removed]",
            "text/plain": [
              "<Figure size 1200x600 with 1 Axes>"
            ]
          },
          "metadata": {},
          "output_type": "display_data"
        },
        {
          "name": "stdout",
          "output_type": "stream",
          "text": [
            "\n",
            "Performance Analysis:\n",
            "Total time without cache: 33.2087 seconds\n",
            "Total time with cache: 31.0087 seconds\n",
            "Overall time saved: 2.2000 seconds (6.62%)\n",
            "\n",
            "Repeated Prompts Only:\n",
            "Time without cache: 0.0015 seconds\n",
            "Time with cache: 0.0015 seconds\n",
            "Time saved on repeated prompts: 0.0000 seconds (1.17%)\n",
            "\n",
            "Average Response Times:\n",
            "First-time requests: 8.3018 seconds\n",
            "Repeated requests (no cache): 0.0005 seconds\n",
            "Repeated requests (with cache): 0.0005 seconds\n",
            "Cache speedup factor: 1.01x faster\n",
            "\n",
            "Banking Application Insights:\n",
            "1. For frequent customer queries like checking account rules or loan terms,\n",
            "   response time could be reduced by approximately 1.2%\n",
            "2. Chatbots handling common banking questions would be more responsive\n",
            "3. Peak-time performance would be improved, reducing customer wait times\n",
            "4. API cost savings would be substantial for high-volume operations\n"
          ]
        }
      ],
      "source": [
        "import time\n",
        "import matplotlib.pyplot as plt\n",
        "import numpy as np\n",
        "from langchain_core.caches import InMemoryCache\n",
        "from langchain_core.globals import set_llm_cache\n",
        "from langchain_huggingface import HuggingFaceEndpoint\n",
        "\n",
        "# Configure the LLM\n",
        "YOUR_LLM_ENDPOINT_URL = \"https://plqere42yvuvlaq7.us-east-1.aws.endpoints.huggingface.cloud\"\n",
        "\n",
        "def create_llm():\n",
        "    return HuggingFaceEndpoint(\n",
        "        endpoint_url=f\"{YOUR_LLM_ENDPOINT_URL}\",\n",
        "        task=\"text-generation\",\n",
        "        max_new_tokens=128,\n",
        "        top_k=10,\n",
        "        top_p=0.95,\n",
        "        typical_p=0.95,\n",
        "        temperature=0.01,\n",
        "        repetition_penalty=1.03,\n",
        "    )\n",
        "\n",
        "# Test prompts - mix of unique and repeated\n",
        "test_prompts = [\n",
        "    \"Explain what a credit default swap is in simple terms.\",\n",
        "    \"What are the key risk factors in retail banking?\",\n",
        "    \"Explain what a credit default swap is in simple terms.\",  # Repeated\n",
        "    \"How do banks calculate interest rates?\",\n",
        "    \"What are the key risk factors in retail banking?\",  # Repeated\n",
        "    \"Describe the role of a central bank in the economy.\",\n",
        "    \"How do banks calculate interest rates?\",  # Repeated\n",
        "]\n",
        "\n",
        "def run_llm_cache_experiment():\n",
        "    \"\"\"Run experiment comparing cached vs non-cached LLM calls\"\"\"\n",
        "    \n",
        "    # First test: No caching\n",
        "    llm_no_cache = create_llm()\n",
        "    \n",
        "    print(\"Running experiment WITHOUT cache...\")\n",
        "    no_cache_times = []\n",
        "    \n",
        "    for i, prompt in enumerate(test_prompts):\n",
        "        start_time = time.time()\n",
        "        _ = llm_no_cache.invoke(prompt)\n",
        "        elapsed = time.time() - start_time\n",
        "        no_cache_times.append(elapsed)\n",
        "        print(f\"  Prompt {i+1}: {elapsed:.4f} seconds\")\n",
        "    \n",
        "    # Second test: With caching\n",
        "    set_llm_cache(InMemoryCache())\n",
        "    llm_with_cache = create_llm()\n",
        "    \n",
        "    print(\"\\nRunning experiment WITH cache...\")\n",
        "    with_cache_times = []\n",
        "    \n",
        "    for i, prompt in enumerate(test_prompts):\n",
        "        start_time = time.time()\n",
        "        _ = llm_with_cache.invoke(prompt)\n",
        "        elapsed = time.time() - start_time\n",
        "        with_cache_times.append(elapsed)\n",
        "        print(f\"  Prompt {i+1}: {elapsed:.4f} seconds\")\n",
        "    \n",
        "    return no_cache_times, with_cache_times\n",
        "\n",
        "# Visualize results\n",
        "def plot_cache_comparison(no_cache_times, with_cache_times):\n",
        "    indices = np.arange(len(test_prompts))\n",
        "    width = 0.35\n",
        "    \n",
        "    fig, ax = plt.subplots(figsize=(12, 6))\n",
        "    \n",
        "    # Plot bars\n",
        "    no_cache_bars = ax.bar(indices - width/2, no_cache_times, width, label='No Cache')\n",
        "    with_cache_bars = ax.bar(indices + width/2, with_cache_times, width, label='With Cache')\n",
        "    \n",
        "    # Add labels and title\n",
        "    ax.set_xlabel('Prompt Index')\n",
        "    ax.set_ylabel('Time (seconds)')\n",
        "    ax.set_title('LLM Response Time: Cached vs. Non-Cached')\n",
        "    ax.set_xticks(indices)\n",
        "    ax.set_xticklabels([f\"Prompt {i+1}\" for i in indices])\n",
        "    ax.legend()\n",
        "    \n",
        "    # Highlight repeated prompts\n",
        "    repeat_indices = [2, 4, 6]  # 0-indexed positions of repeated prompts\n",
        "    for idx in repeat_indices:\n",
        "        plt.axvspan(idx-0.5, idx+0.5, alpha=0.2, color='green')\n",
        "    \n",
        "    # Add text annotations for prompt descriptions\n",
        "    prompt_descriptions = [p[:20] + \"...\" for p in test_prompts]\n",
        "    for i, desc in enumerate(prompt_descriptions):\n",
        "        ax.annotate(desc, xy=(i, 0), xytext=(i, -0.2), \n",
        "                   ha='center', va='top', rotation=45)\n",
        "    \n",
        "    # Add note for repeated prompts\n",
        "    ax.annotate('Green areas indicate repeated prompts', \n",
        "               xy=(0.5, 0.95), xycoords='figure fraction',\n",
        "               ha='center', fontsize=10,\n",
        "               bbox=dict(boxstyle=\"round,pad=0.3\", fc=\"white\", ec=\"green\", alpha=0.8))\n",
        "    \n",
        "    plt.tight_layout()\n",
        "    plt.savefig('llm_cache_experiment_results.png')\n",
        "    plt.show()\n",
        "\n",
        "# Calculate and print statistics\n",
        "def analyze_cache_performance(no_cache_times, with_cache_times):\n",
        "    # Overall stats\n",
        "    total_no_cache = sum(no_cache_times)\n",
        "    total_with_cache = sum(with_cache_times)\n",
        "    time_saved = total_no_cache - total_with_cache\n",
        "    percent_saved = (time_saved / total_no_cache) * 100\n",
        "    \n",
        "    # Stats for repeated prompts only\n",
        "    repeat_indices = [2, 4, 6]  # 0-indexed positions of repeated prompts\n",
        "    \n",
        "    repeat_no_cache = sum([no_cache_times[i] for i in repeat_indices])\n",
        "    repeat_with_cache = sum([with_cache_times[i] for i in repeat_indices])\n",
        "    repeat_time_saved = repeat_no_cache - repeat_with_cache\n",
        "    repeat_percent_saved = (repeat_time_saved / repeat_no_cache) * 100\n",
        "    \n",
        "    # Print results\n",
        "    print(\"\\nPerformance Analysis:\")\n",
        "    print(f\"Total time without cache: {total_no_cache:.4f} seconds\")\n",
        "    print(f\"Total time with cache: {total_with_cache:.4f} seconds\")\n",
        "    print(f\"Overall time saved: {time_saved:.4f} seconds ({percent_saved:.2f}%)\")\n",
        "    print(\"\\nRepeated Prompts Only:\")\n",
        "    print(f\"Time without cache: {repeat_no_cache:.4f} seconds\")\n",
        "    print(f\"Time with cache: {repeat_with_cache:.4f} seconds\")\n",
        "    print(f\"Time saved on repeated prompts: {repeat_time_saved:.4f} seconds ({repeat_percent_saved:.2f}%)\")\n",
        "    \n",
        "    # Compare average response times\n",
        "    avg_first_request = sum([no_cache_times[i] for i in range(len(no_cache_times)) if i not in repeat_indices]) / (len(no_cache_times) - len(repeat_indices))\n",
        "    avg_repeat_no_cache = repeat_no_cache / len(repeat_indices)\n",
        "    avg_repeat_with_cache = repeat_with_cache / len(repeat_indices)\n",
        "    \n",
        "    print(\"\\nAverage Response Times:\")\n",
        "    print(f\"First-time requests: {avg_first_request:.4f} seconds\")\n",
        "    print(f\"Repeated requests (no cache): {avg_repeat_no_cache:.4f} seconds\")\n",
        "    print(f\"Repeated requests (with cache): {avg_repeat_with_cache:.4f} seconds\")\n",
        "    print(f\"Cache speedup factor: {avg_repeat_no_cache/avg_repeat_with_cache:.2f}x faster\")\n",
        "    \n",
        "    return repeat_percent_saved\n",
        "\n",
        "# Banking-specific application insights\n",
        "def print_banking_insights(savings_percentage):\n",
        "    print(\"\\nBanking Application Insights:\")\n",
        "    print(\"1. For frequent customer queries like checking account rules or loan terms,\")\n",
        "    print(f\"   response time could be reduced by approximately {savings_percentage:.1f}%\")\n",
        "    print(\"2. Chatbots handling common banking questions would be more responsive\")\n",
        "    print(\"3. Peak-time performance would be improved, reducing customer wait times\")\n",
        "    print(\"4. API cost savings would be substantial for high-volume operations\")\n",
        "\n",
        "# Main experiment execution\n",
        "def main():\n",
        "    # Run the experiment\n",
        "    no_cache_times, with_cache_times = run_llm_cache_experiment()\n",
        "    \n",
        "    # Plot the results\n",
        "    plot_cache_comparison(no_cache_times, with_cache_times)\n",
        "    \n",
        "    # Analyze and get the savings percentage\n",
        "    savings = analyze_cache_performance(no_cache_times, with_cache_times)\n",
        "    \n",
        "    # Print banking-specific insights\n",
        "    print_banking_insights(savings)\n",
        "\n",
        "# Execute the main function\n",
        "if __name__ == \"__main__\":\n",
        "    main()"
      ]
    },
    {
      "cell_type": "code",
      "execution_count": null,
      "metadata": {},
      "outputs": [],
      "source": []
    },
    {
      "cell_type": "code",
      "execution_count": null,
      "metadata": {},
      "outputs": [],
      "source": []
    }
  ],
  "metadata": {
    "colab": {
      "provenance": []
    },
    "kernelspec": {
      "display_name": "Python 3",
      "language": "python",
      "name": "python3"
    },
    "language_info": {
      "codemirror_mode": {
        "name": "ipython",
        "version": 3
      },
      "file_extension": ".py",
      "mimetype": "text/x-python",
      "name": "python",
      "nbconvert_exporter": "python",
      "pygments_lexer": "ipython3",
      "version": "3.13.1"
    }
  },
  "nbformat": 4,
  "nbformat_minor": 0
}
